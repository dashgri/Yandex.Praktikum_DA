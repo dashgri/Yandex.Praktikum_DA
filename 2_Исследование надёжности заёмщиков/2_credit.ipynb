{
 "cells": [
  {
   "cell_type": "markdown",
   "metadata": {},
   "source": [
    "# Исследование надёжности заёмщиков\n",
    "\n",
    "Заказчик — кредитный отдел банка. Нужно разобраться, влияет ли семейное положение и количество детей клиента на факт погашения кредита в срок. Входные данные от банка — статистика о платёжеспособности клиентов.\n",
    "\n",
    "Результаты исследования будут учтены при построении модели **кредитного скоринга** — специальной системы, которая оценивает способность потенциального заёмщика вернуть кредит банку."
   ]
  },
  {
   "cell_type": "markdown",
   "metadata": {},
   "source": [
    "## Шаг 1. Общая информация о данных"
   ]
  },
  {
   "cell_type": "code",
   "execution_count": 1,
   "metadata": {},
   "outputs": [
    {
     "data": {
      "text/html": [
       "<div>\n",
       "<style scoped>\n",
       "    .dataframe tbody tr th:only-of-type {\n",
       "        vertical-align: middle;\n",
       "    }\n",
       "\n",
       "    .dataframe tbody tr th {\n",
       "        vertical-align: top;\n",
       "    }\n",
       "\n",
       "    .dataframe thead th {\n",
       "        text-align: right;\n",
       "    }\n",
       "</style>\n",
       "<table border=\"1\" class=\"dataframe\">\n",
       "  <thead>\n",
       "    <tr style=\"text-align: right;\">\n",
       "      <th></th>\n",
       "      <th>children</th>\n",
       "      <th>days_employed</th>\n",
       "      <th>dob_years</th>\n",
       "      <th>education</th>\n",
       "      <th>education_id</th>\n",
       "      <th>family_status</th>\n",
       "      <th>family_status_id</th>\n",
       "      <th>gender</th>\n",
       "      <th>income_type</th>\n",
       "      <th>debt</th>\n",
       "      <th>total_income</th>\n",
       "      <th>purpose</th>\n",
       "    </tr>\n",
       "  </thead>\n",
       "  <tbody>\n",
       "    <tr>\n",
       "      <th>0</th>\n",
       "      <td>1</td>\n",
       "      <td>-8437.673028</td>\n",
       "      <td>42</td>\n",
       "      <td>высшее</td>\n",
       "      <td>0</td>\n",
       "      <td>женат / замужем</td>\n",
       "      <td>0</td>\n",
       "      <td>F</td>\n",
       "      <td>сотрудник</td>\n",
       "      <td>0</td>\n",
       "      <td>253875.639453</td>\n",
       "      <td>покупка жилья</td>\n",
       "    </tr>\n",
       "    <tr>\n",
       "      <th>1</th>\n",
       "      <td>1</td>\n",
       "      <td>-4024.803754</td>\n",
       "      <td>36</td>\n",
       "      <td>среднее</td>\n",
       "      <td>1</td>\n",
       "      <td>женат / замужем</td>\n",
       "      <td>0</td>\n",
       "      <td>F</td>\n",
       "      <td>сотрудник</td>\n",
       "      <td>0</td>\n",
       "      <td>112080.014102</td>\n",
       "      <td>приобретение автомобиля</td>\n",
       "    </tr>\n",
       "    <tr>\n",
       "      <th>2</th>\n",
       "      <td>0</td>\n",
       "      <td>-5623.422610</td>\n",
       "      <td>33</td>\n",
       "      <td>Среднее</td>\n",
       "      <td>1</td>\n",
       "      <td>женат / замужем</td>\n",
       "      <td>0</td>\n",
       "      <td>M</td>\n",
       "      <td>сотрудник</td>\n",
       "      <td>0</td>\n",
       "      <td>145885.952297</td>\n",
       "      <td>покупка жилья</td>\n",
       "    </tr>\n",
       "    <tr>\n",
       "      <th>3</th>\n",
       "      <td>3</td>\n",
       "      <td>-4124.747207</td>\n",
       "      <td>32</td>\n",
       "      <td>среднее</td>\n",
       "      <td>1</td>\n",
       "      <td>женат / замужем</td>\n",
       "      <td>0</td>\n",
       "      <td>M</td>\n",
       "      <td>сотрудник</td>\n",
       "      <td>0</td>\n",
       "      <td>267628.550329</td>\n",
       "      <td>дополнительное образование</td>\n",
       "    </tr>\n",
       "    <tr>\n",
       "      <th>4</th>\n",
       "      <td>0</td>\n",
       "      <td>340266.072047</td>\n",
       "      <td>53</td>\n",
       "      <td>среднее</td>\n",
       "      <td>1</td>\n",
       "      <td>гражданский брак</td>\n",
       "      <td>1</td>\n",
       "      <td>F</td>\n",
       "      <td>пенсионер</td>\n",
       "      <td>0</td>\n",
       "      <td>158616.077870</td>\n",
       "      <td>сыграть свадьбу</td>\n",
       "    </tr>\n",
       "    <tr>\n",
       "      <th>5</th>\n",
       "      <td>0</td>\n",
       "      <td>-926.185831</td>\n",
       "      <td>27</td>\n",
       "      <td>высшее</td>\n",
       "      <td>0</td>\n",
       "      <td>гражданский брак</td>\n",
       "      <td>1</td>\n",
       "      <td>M</td>\n",
       "      <td>компаньон</td>\n",
       "      <td>0</td>\n",
       "      <td>255763.565419</td>\n",
       "      <td>покупка жилья</td>\n",
       "    </tr>\n",
       "    <tr>\n",
       "      <th>6</th>\n",
       "      <td>0</td>\n",
       "      <td>-2879.202052</td>\n",
       "      <td>43</td>\n",
       "      <td>высшее</td>\n",
       "      <td>0</td>\n",
       "      <td>женат / замужем</td>\n",
       "      <td>0</td>\n",
       "      <td>F</td>\n",
       "      <td>компаньон</td>\n",
       "      <td>0</td>\n",
       "      <td>240525.971920</td>\n",
       "      <td>операции с жильем</td>\n",
       "    </tr>\n",
       "    <tr>\n",
       "      <th>7</th>\n",
       "      <td>0</td>\n",
       "      <td>-152.779569</td>\n",
       "      <td>50</td>\n",
       "      <td>СРЕДНЕЕ</td>\n",
       "      <td>1</td>\n",
       "      <td>женат / замужем</td>\n",
       "      <td>0</td>\n",
       "      <td>M</td>\n",
       "      <td>сотрудник</td>\n",
       "      <td>0</td>\n",
       "      <td>135823.934197</td>\n",
       "      <td>образование</td>\n",
       "    </tr>\n",
       "    <tr>\n",
       "      <th>8</th>\n",
       "      <td>2</td>\n",
       "      <td>-6929.865299</td>\n",
       "      <td>35</td>\n",
       "      <td>ВЫСШЕЕ</td>\n",
       "      <td>0</td>\n",
       "      <td>гражданский брак</td>\n",
       "      <td>1</td>\n",
       "      <td>F</td>\n",
       "      <td>сотрудник</td>\n",
       "      <td>0</td>\n",
       "      <td>95856.832424</td>\n",
       "      <td>на проведение свадьбы</td>\n",
       "    </tr>\n",
       "    <tr>\n",
       "      <th>9</th>\n",
       "      <td>0</td>\n",
       "      <td>-2188.756445</td>\n",
       "      <td>41</td>\n",
       "      <td>среднее</td>\n",
       "      <td>1</td>\n",
       "      <td>женат / замужем</td>\n",
       "      <td>0</td>\n",
       "      <td>M</td>\n",
       "      <td>сотрудник</td>\n",
       "      <td>0</td>\n",
       "      <td>144425.938277</td>\n",
       "      <td>покупка жилья для семьи</td>\n",
       "    </tr>\n",
       "  </tbody>\n",
       "</table>\n",
       "</div>"
      ],
      "text/plain": [
       "   children  days_employed  dob_years education  education_id  \\\n",
       "0         1   -8437.673028         42    высшее             0   \n",
       "1         1   -4024.803754         36   среднее             1   \n",
       "2         0   -5623.422610         33   Среднее             1   \n",
       "3         3   -4124.747207         32   среднее             1   \n",
       "4         0  340266.072047         53   среднее             1   \n",
       "5         0    -926.185831         27    высшее             0   \n",
       "6         0   -2879.202052         43    высшее             0   \n",
       "7         0    -152.779569         50   СРЕДНЕЕ             1   \n",
       "8         2   -6929.865299         35    ВЫСШЕЕ             0   \n",
       "9         0   -2188.756445         41   среднее             1   \n",
       "\n",
       "      family_status  family_status_id gender income_type  debt   total_income  \\\n",
       "0   женат / замужем                 0      F   сотрудник     0  253875.639453   \n",
       "1   женат / замужем                 0      F   сотрудник     0  112080.014102   \n",
       "2   женат / замужем                 0      M   сотрудник     0  145885.952297   \n",
       "3   женат / замужем                 0      M   сотрудник     0  267628.550329   \n",
       "4  гражданский брак                 1      F   пенсионер     0  158616.077870   \n",
       "5  гражданский брак                 1      M   компаньон     0  255763.565419   \n",
       "6   женат / замужем                 0      F   компаньон     0  240525.971920   \n",
       "7   женат / замужем                 0      M   сотрудник     0  135823.934197   \n",
       "8  гражданский брак                 1      F   сотрудник     0   95856.832424   \n",
       "9   женат / замужем                 0      M   сотрудник     0  144425.938277   \n",
       "\n",
       "                      purpose  \n",
       "0               покупка жилья  \n",
       "1     приобретение автомобиля  \n",
       "2               покупка жилья  \n",
       "3  дополнительное образование  \n",
       "4             сыграть свадьбу  \n",
       "5               покупка жилья  \n",
       "6           операции с жильем  \n",
       "7                 образование  \n",
       "8       на проведение свадьбы  \n",
       "9     покупка жилья для семьи  "
      ]
     },
     "execution_count": 1,
     "metadata": {},
     "output_type": "execute_result"
    }
   ],
   "source": [
    "import pandas as pd\n",
    "from pymystem3 import Mystem\n",
    "m = Mystem()\n",
    "\n",
    "data = pd.read_csv('data.csv')\n",
    "data.head(10)"
   ]
  },
  {
   "cell_type": "code",
   "execution_count": 2,
   "metadata": {},
   "outputs": [
    {
     "name": "stdout",
     "output_type": "stream",
     "text": [
      "<class 'pandas.core.frame.DataFrame'>\n",
      "RangeIndex: 21525 entries, 0 to 21524\n",
      "Data columns (total 12 columns):\n",
      " #   Column            Non-Null Count  Dtype  \n",
      "---  ------            --------------  -----  \n",
      " 0   children          21525 non-null  int64  \n",
      " 1   days_employed     19351 non-null  float64\n",
      " 2   dob_years         21525 non-null  int64  \n",
      " 3   education         21525 non-null  object \n",
      " 4   education_id      21525 non-null  int64  \n",
      " 5   family_status     21525 non-null  object \n",
      " 6   family_status_id  21525 non-null  int64  \n",
      " 7   gender            21525 non-null  object \n",
      " 8   income_type       21525 non-null  object \n",
      " 9   debt              21525 non-null  int64  \n",
      " 10  total_income      19351 non-null  float64\n",
      " 11  purpose           21525 non-null  object \n",
      "dtypes: float64(2), int64(5), object(5)\n",
      "memory usage: 2.0+ MB\n"
     ]
    }
   ],
   "source": [
    "data.info()"
   ]
  },
  {
   "cell_type": "markdown",
   "metadata": {},
   "source": [
    "В таблице 12 столбцов.\n",
    "\n",
    "Согласно документации к данным:\n",
    "* `children` — количество детей в семье\n",
    "* `days_employed` — общий трудовой стаж в днях\n",
    "* `dob_years` — возраст клиента в годах\n",
    "* `education` — уровень образования клиента\n",
    "* `education_id` — идентификатор уровня образования\n",
    "* `family_status` — семейное положение\n",
    "* `family_status_id` — идентификатор семейного положения\n",
    "* `gender` — пол клиента\n",
    "* `income_type` — тип занятости\n",
    "* `debt` — имел ли задолженность по возврату кредитов\n",
    "* `total_income` — ежемесячный доход\n",
    "* `purpose` — цель получения кредита\n",
    "\n",
    "В названиях столбцов нарушений нет.\n",
    "\n",
    "Типы данных в столбцах целочисленные, вещественные и строковые. \n",
    "\n",
    "В данных есть пропущенные значения - количество значений в стобцах `days_employed` и `total_income` меньше остальных столбцов."
   ]
  },
  {
   "cell_type": "markdown",
   "metadata": {},
   "source": [
    "**Вывод**"
   ]
  },
  {
   "cell_type": "markdown",
   "metadata": {},
   "source": [
    "В каждой строке таблицы содержится информация о клиенте банка. На первый взляд, данных хватает для проверки гипотез. Однако после первой полученной информации о таблице стали видны пропущеные значения, дубликаты, отрицательные значения и другие проблемы - для начала необходимо с ними разобраться. "
   ]
  },
  {
   "cell_type": "markdown",
   "metadata": {},
   "source": [
    "## Шаг 2. Предобработка данных"
   ]
  },
  {
   "cell_type": "markdown",
   "metadata": {},
   "source": [
    "### Обработка пропусков"
   ]
  },
  {
   "cell_type": "markdown",
   "metadata": {},
   "source": [
    "Посмотрим на количество и расположение пропущенных значений."
   ]
  },
  {
   "cell_type": "code",
   "execution_count": 3,
   "metadata": {},
   "outputs": [
    {
     "data": {
      "text/plain": [
       "children               0\n",
       "days_employed       2174\n",
       "dob_years              0\n",
       "education              0\n",
       "education_id           0\n",
       "family_status          0\n",
       "family_status_id       0\n",
       "gender                 0\n",
       "income_type            0\n",
       "debt                   0\n",
       "total_income        2174\n",
       "purpose                0\n",
       "dtype: int64"
      ]
     },
     "execution_count": 3,
     "metadata": {},
     "output_type": "execute_result"
    }
   ],
   "source": [
    "data.isna().sum() "
   ]
  },
  {
   "cell_type": "code",
   "execution_count": 4,
   "metadata": {},
   "outputs": [
    {
     "data": {
      "text/html": [
       "<div>\n",
       "<style scoped>\n",
       "    .dataframe tbody tr th:only-of-type {\n",
       "        vertical-align: middle;\n",
       "    }\n",
       "\n",
       "    .dataframe tbody tr th {\n",
       "        vertical-align: top;\n",
       "    }\n",
       "\n",
       "    .dataframe thead th {\n",
       "        text-align: right;\n",
       "    }\n",
       "</style>\n",
       "<table border=\"1\" class=\"dataframe\">\n",
       "  <thead>\n",
       "    <tr style=\"text-align: right;\">\n",
       "      <th></th>\n",
       "      <th>children</th>\n",
       "      <th>days_employed</th>\n",
       "      <th>dob_years</th>\n",
       "      <th>education</th>\n",
       "      <th>education_id</th>\n",
       "      <th>family_status</th>\n",
       "      <th>family_status_id</th>\n",
       "      <th>gender</th>\n",
       "      <th>income_type</th>\n",
       "      <th>debt</th>\n",
       "      <th>total_income</th>\n",
       "      <th>purpose</th>\n",
       "    </tr>\n",
       "  </thead>\n",
       "  <tbody>\n",
       "    <tr>\n",
       "      <th>12</th>\n",
       "      <td>0</td>\n",
       "      <td>NaN</td>\n",
       "      <td>65</td>\n",
       "      <td>среднее</td>\n",
       "      <td>1</td>\n",
       "      <td>гражданский брак</td>\n",
       "      <td>1</td>\n",
       "      <td>M</td>\n",
       "      <td>пенсионер</td>\n",
       "      <td>0</td>\n",
       "      <td>NaN</td>\n",
       "      <td>сыграть свадьбу</td>\n",
       "    </tr>\n",
       "    <tr>\n",
       "      <th>26</th>\n",
       "      <td>0</td>\n",
       "      <td>NaN</td>\n",
       "      <td>41</td>\n",
       "      <td>среднее</td>\n",
       "      <td>1</td>\n",
       "      <td>женат / замужем</td>\n",
       "      <td>0</td>\n",
       "      <td>M</td>\n",
       "      <td>госслужащий</td>\n",
       "      <td>0</td>\n",
       "      <td>NaN</td>\n",
       "      <td>образование</td>\n",
       "    </tr>\n",
       "    <tr>\n",
       "      <th>29</th>\n",
       "      <td>0</td>\n",
       "      <td>NaN</td>\n",
       "      <td>63</td>\n",
       "      <td>среднее</td>\n",
       "      <td>1</td>\n",
       "      <td>Не женат / не замужем</td>\n",
       "      <td>4</td>\n",
       "      <td>F</td>\n",
       "      <td>пенсионер</td>\n",
       "      <td>0</td>\n",
       "      <td>NaN</td>\n",
       "      <td>строительство жилой недвижимости</td>\n",
       "    </tr>\n",
       "    <tr>\n",
       "      <th>41</th>\n",
       "      <td>0</td>\n",
       "      <td>NaN</td>\n",
       "      <td>50</td>\n",
       "      <td>среднее</td>\n",
       "      <td>1</td>\n",
       "      <td>женат / замужем</td>\n",
       "      <td>0</td>\n",
       "      <td>F</td>\n",
       "      <td>госслужащий</td>\n",
       "      <td>0</td>\n",
       "      <td>NaN</td>\n",
       "      <td>сделка с подержанным автомобилем</td>\n",
       "    </tr>\n",
       "    <tr>\n",
       "      <th>55</th>\n",
       "      <td>0</td>\n",
       "      <td>NaN</td>\n",
       "      <td>54</td>\n",
       "      <td>среднее</td>\n",
       "      <td>1</td>\n",
       "      <td>гражданский брак</td>\n",
       "      <td>1</td>\n",
       "      <td>F</td>\n",
       "      <td>пенсионер</td>\n",
       "      <td>1</td>\n",
       "      <td>NaN</td>\n",
       "      <td>сыграть свадьбу</td>\n",
       "    </tr>\n",
       "  </tbody>\n",
       "</table>\n",
       "</div>"
      ],
      "text/plain": [
       "    children  days_employed  dob_years education  education_id  \\\n",
       "12         0            NaN         65   среднее             1   \n",
       "26         0            NaN         41   среднее             1   \n",
       "29         0            NaN         63   среднее             1   \n",
       "41         0            NaN         50   среднее             1   \n",
       "55         0            NaN         54   среднее             1   \n",
       "\n",
       "            family_status  family_status_id gender  income_type  debt  \\\n",
       "12       гражданский брак                 1      M    пенсионер     0   \n",
       "26        женат / замужем                 0      M  госслужащий     0   \n",
       "29  Не женат / не замужем                 4      F    пенсионер     0   \n",
       "41        женат / замужем                 0      F  госслужащий     0   \n",
       "55       гражданский брак                 1      F    пенсионер     1   \n",
       "\n",
       "    total_income                           purpose  \n",
       "12           NaN                   сыграть свадьбу  \n",
       "26           NaN                       образование  \n",
       "29           NaN  строительство жилой недвижимости  \n",
       "41           NaN  сделка с подержанным автомобилем  \n",
       "55           NaN                   сыграть свадьбу  "
      ]
     },
     "execution_count": 4,
     "metadata": {},
     "output_type": "execute_result"
    }
   ],
   "source": [
    "data[data['days_employed'].isna()].head()"
   ]
  },
  {
   "cell_type": "markdown",
   "metadata": {},
   "source": [
    "Для начала нужно разобраться с корректностью данных в интересующих столбцах.\n",
    "Так как большинство значений в столбце 'days_employed' отрицальные, то можно предположить, что они верные, но внесены в систему некорректно. Поэтому 'минусы' можно просто убрать, с помощью модуля."
   ]
  },
  {
   "cell_type": "code",
   "execution_count": 5,
   "metadata": {},
   "outputs": [],
   "source": [
    "data['days_employed'] = abs(data['days_employed'])\n",
    "data['total_income'] = abs(data['total_income'])"
   ]
  },
  {
   "cell_type": "markdown",
   "metadata": {},
   "source": [
    "Также в этом столбце заметны значения сильно больше остальных. Сперва попробуем перевести дни стажа в года. "
   ]
  },
  {
   "cell_type": "code",
   "execution_count": 6,
   "metadata": {},
   "outputs": [
    {
     "data": {
      "text/html": [
       "<div>\n",
       "<style scoped>\n",
       "    .dataframe tbody tr th:only-of-type {\n",
       "        vertical-align: middle;\n",
       "    }\n",
       "\n",
       "    .dataframe tbody tr th {\n",
       "        vertical-align: top;\n",
       "    }\n",
       "\n",
       "    .dataframe thead th {\n",
       "        text-align: right;\n",
       "    }\n",
       "</style>\n",
       "<table border=\"1\" class=\"dataframe\">\n",
       "  <thead>\n",
       "    <tr style=\"text-align: right;\">\n",
       "      <th></th>\n",
       "      <th>children</th>\n",
       "      <th>days_employed</th>\n",
       "      <th>dob_years</th>\n",
       "      <th>education</th>\n",
       "      <th>education_id</th>\n",
       "      <th>family_status</th>\n",
       "      <th>family_status_id</th>\n",
       "      <th>gender</th>\n",
       "      <th>income_type</th>\n",
       "      <th>debt</th>\n",
       "      <th>total_income</th>\n",
       "      <th>purpose</th>\n",
       "    </tr>\n",
       "  </thead>\n",
       "  <tbody>\n",
       "    <tr>\n",
       "      <th>0</th>\n",
       "      <td>1</td>\n",
       "      <td>23.116912</td>\n",
       "      <td>42</td>\n",
       "      <td>высшее</td>\n",
       "      <td>0</td>\n",
       "      <td>женат / замужем</td>\n",
       "      <td>0</td>\n",
       "      <td>F</td>\n",
       "      <td>сотрудник</td>\n",
       "      <td>0</td>\n",
       "      <td>253875.639453</td>\n",
       "      <td>покупка жилья</td>\n",
       "    </tr>\n",
       "    <tr>\n",
       "      <th>1</th>\n",
       "      <td>1</td>\n",
       "      <td>11.026860</td>\n",
       "      <td>36</td>\n",
       "      <td>среднее</td>\n",
       "      <td>1</td>\n",
       "      <td>женат / замужем</td>\n",
       "      <td>0</td>\n",
       "      <td>F</td>\n",
       "      <td>сотрудник</td>\n",
       "      <td>0</td>\n",
       "      <td>112080.014102</td>\n",
       "      <td>приобретение автомобиля</td>\n",
       "    </tr>\n",
       "    <tr>\n",
       "      <th>2</th>\n",
       "      <td>0</td>\n",
       "      <td>15.406637</td>\n",
       "      <td>33</td>\n",
       "      <td>Среднее</td>\n",
       "      <td>1</td>\n",
       "      <td>женат / замужем</td>\n",
       "      <td>0</td>\n",
       "      <td>M</td>\n",
       "      <td>сотрудник</td>\n",
       "      <td>0</td>\n",
       "      <td>145885.952297</td>\n",
       "      <td>покупка жилья</td>\n",
       "    </tr>\n",
       "    <tr>\n",
       "      <th>3</th>\n",
       "      <td>3</td>\n",
       "      <td>11.300677</td>\n",
       "      <td>32</td>\n",
       "      <td>среднее</td>\n",
       "      <td>1</td>\n",
       "      <td>женат / замужем</td>\n",
       "      <td>0</td>\n",
       "      <td>M</td>\n",
       "      <td>сотрудник</td>\n",
       "      <td>0</td>\n",
       "      <td>267628.550329</td>\n",
       "      <td>дополнительное образование</td>\n",
       "    </tr>\n",
       "    <tr>\n",
       "      <th>4</th>\n",
       "      <td>0</td>\n",
       "      <td>932.235814</td>\n",
       "      <td>53</td>\n",
       "      <td>среднее</td>\n",
       "      <td>1</td>\n",
       "      <td>гражданский брак</td>\n",
       "      <td>1</td>\n",
       "      <td>F</td>\n",
       "      <td>пенсионер</td>\n",
       "      <td>0</td>\n",
       "      <td>158616.077870</td>\n",
       "      <td>сыграть свадьбу</td>\n",
       "    </tr>\n",
       "    <tr>\n",
       "      <th>5</th>\n",
       "      <td>0</td>\n",
       "      <td>2.537495</td>\n",
       "      <td>27</td>\n",
       "      <td>высшее</td>\n",
       "      <td>0</td>\n",
       "      <td>гражданский брак</td>\n",
       "      <td>1</td>\n",
       "      <td>M</td>\n",
       "      <td>компаньон</td>\n",
       "      <td>0</td>\n",
       "      <td>255763.565419</td>\n",
       "      <td>покупка жилья</td>\n",
       "    </tr>\n",
       "    <tr>\n",
       "      <th>6</th>\n",
       "      <td>0</td>\n",
       "      <td>7.888225</td>\n",
       "      <td>43</td>\n",
       "      <td>высшее</td>\n",
       "      <td>0</td>\n",
       "      <td>женат / замужем</td>\n",
       "      <td>0</td>\n",
       "      <td>F</td>\n",
       "      <td>компаньон</td>\n",
       "      <td>0</td>\n",
       "      <td>240525.971920</td>\n",
       "      <td>операции с жильем</td>\n",
       "    </tr>\n",
       "    <tr>\n",
       "      <th>7</th>\n",
       "      <td>0</td>\n",
       "      <td>0.418574</td>\n",
       "      <td>50</td>\n",
       "      <td>СРЕДНЕЕ</td>\n",
       "      <td>1</td>\n",
       "      <td>женат / замужем</td>\n",
       "      <td>0</td>\n",
       "      <td>M</td>\n",
       "      <td>сотрудник</td>\n",
       "      <td>0</td>\n",
       "      <td>135823.934197</td>\n",
       "      <td>образование</td>\n",
       "    </tr>\n",
       "    <tr>\n",
       "      <th>8</th>\n",
       "      <td>2</td>\n",
       "      <td>18.985932</td>\n",
       "      <td>35</td>\n",
       "      <td>ВЫСШЕЕ</td>\n",
       "      <td>0</td>\n",
       "      <td>гражданский брак</td>\n",
       "      <td>1</td>\n",
       "      <td>F</td>\n",
       "      <td>сотрудник</td>\n",
       "      <td>0</td>\n",
       "      <td>95856.832424</td>\n",
       "      <td>на проведение свадьбы</td>\n",
       "    </tr>\n",
       "    <tr>\n",
       "      <th>9</th>\n",
       "      <td>0</td>\n",
       "      <td>5.996593</td>\n",
       "      <td>41</td>\n",
       "      <td>среднее</td>\n",
       "      <td>1</td>\n",
       "      <td>женат / замужем</td>\n",
       "      <td>0</td>\n",
       "      <td>M</td>\n",
       "      <td>сотрудник</td>\n",
       "      <td>0</td>\n",
       "      <td>144425.938277</td>\n",
       "      <td>покупка жилья для семьи</td>\n",
       "    </tr>\n",
       "  </tbody>\n",
       "</table>\n",
       "</div>"
      ],
      "text/plain": [
       "   children  days_employed  dob_years education  education_id  \\\n",
       "0         1      23.116912         42    высшее             0   \n",
       "1         1      11.026860         36   среднее             1   \n",
       "2         0      15.406637         33   Среднее             1   \n",
       "3         3      11.300677         32   среднее             1   \n",
       "4         0     932.235814         53   среднее             1   \n",
       "5         0       2.537495         27    высшее             0   \n",
       "6         0       7.888225         43    высшее             0   \n",
       "7         0       0.418574         50   СРЕДНЕЕ             1   \n",
       "8         2      18.985932         35    ВЫСШЕЕ             0   \n",
       "9         0       5.996593         41   среднее             1   \n",
       "\n",
       "      family_status  family_status_id gender income_type  debt   total_income  \\\n",
       "0   женат / замужем                 0      F   сотрудник     0  253875.639453   \n",
       "1   женат / замужем                 0      F   сотрудник     0  112080.014102   \n",
       "2   женат / замужем                 0      M   сотрудник     0  145885.952297   \n",
       "3   женат / замужем                 0      M   сотрудник     0  267628.550329   \n",
       "4  гражданский брак                 1      F   пенсионер     0  158616.077870   \n",
       "5  гражданский брак                 1      M   компаньон     0  255763.565419   \n",
       "6   женат / замужем                 0      F   компаньон     0  240525.971920   \n",
       "7   женат / замужем                 0      M   сотрудник     0  135823.934197   \n",
       "8  гражданский брак                 1      F   сотрудник     0   95856.832424   \n",
       "9   женат / замужем                 0      M   сотрудник     0  144425.938277   \n",
       "\n",
       "                      purpose  \n",
       "0               покупка жилья  \n",
       "1     приобретение автомобиля  \n",
       "2               покупка жилья  \n",
       "3  дополнительное образование  \n",
       "4             сыграть свадьбу  \n",
       "5               покупка жилья  \n",
       "6           операции с жильем  \n",
       "7                 образование  \n",
       "8       на проведение свадьбы  \n",
       "9     покупка жилья для семьи  "
      ]
     },
     "execution_count": 6,
     "metadata": {},
     "output_type": "execute_result"
    }
   ],
   "source": [
    "data['days_employed'] = data['days_employed']/365\n",
    "data.head(10)"
   ]
  },
  {
   "cell_type": "markdown",
   "metadata": {},
   "source": [
    "Стало явно видно, что некоторые значения не соответвуют реальности. Я предполагаю, что эти аномальные значения были внесены в систему в часах."
   ]
  },
  {
   "cell_type": "code",
   "execution_count": 7,
   "metadata": {},
   "outputs": [
    {
     "data": {
      "text/html": [
       "<div>\n",
       "<style scoped>\n",
       "    .dataframe tbody tr th:only-of-type {\n",
       "        vertical-align: middle;\n",
       "    }\n",
       "\n",
       "    .dataframe tbody tr th {\n",
       "        vertical-align: top;\n",
       "    }\n",
       "\n",
       "    .dataframe thead th {\n",
       "        text-align: right;\n",
       "    }\n",
       "</style>\n",
       "<table border=\"1\" class=\"dataframe\">\n",
       "  <thead>\n",
       "    <tr style=\"text-align: right;\">\n",
       "      <th></th>\n",
       "      <th>children</th>\n",
       "      <th>days_employed</th>\n",
       "      <th>dob_years</th>\n",
       "      <th>education</th>\n",
       "      <th>education_id</th>\n",
       "      <th>family_status</th>\n",
       "      <th>family_status_id</th>\n",
       "      <th>gender</th>\n",
       "      <th>income_type</th>\n",
       "      <th>debt</th>\n",
       "      <th>total_income</th>\n",
       "      <th>purpose</th>\n",
       "    </tr>\n",
       "  </thead>\n",
       "  <tbody>\n",
       "    <tr>\n",
       "      <th>0</th>\n",
       "      <td>1</td>\n",
       "      <td>23.116912</td>\n",
       "      <td>42</td>\n",
       "      <td>высшее</td>\n",
       "      <td>0</td>\n",
       "      <td>женат / замужем</td>\n",
       "      <td>0</td>\n",
       "      <td>F</td>\n",
       "      <td>сотрудник</td>\n",
       "      <td>0</td>\n",
       "      <td>253875.639453</td>\n",
       "      <td>покупка жилья</td>\n",
       "    </tr>\n",
       "    <tr>\n",
       "      <th>1</th>\n",
       "      <td>1</td>\n",
       "      <td>11.026860</td>\n",
       "      <td>36</td>\n",
       "      <td>среднее</td>\n",
       "      <td>1</td>\n",
       "      <td>женат / замужем</td>\n",
       "      <td>0</td>\n",
       "      <td>F</td>\n",
       "      <td>сотрудник</td>\n",
       "      <td>0</td>\n",
       "      <td>112080.014102</td>\n",
       "      <td>приобретение автомобиля</td>\n",
       "    </tr>\n",
       "    <tr>\n",
       "      <th>2</th>\n",
       "      <td>0</td>\n",
       "      <td>15.406637</td>\n",
       "      <td>33</td>\n",
       "      <td>Среднее</td>\n",
       "      <td>1</td>\n",
       "      <td>женат / замужем</td>\n",
       "      <td>0</td>\n",
       "      <td>M</td>\n",
       "      <td>сотрудник</td>\n",
       "      <td>0</td>\n",
       "      <td>145885.952297</td>\n",
       "      <td>покупка жилья</td>\n",
       "    </tr>\n",
       "    <tr>\n",
       "      <th>3</th>\n",
       "      <td>3</td>\n",
       "      <td>11.300677</td>\n",
       "      <td>32</td>\n",
       "      <td>среднее</td>\n",
       "      <td>1</td>\n",
       "      <td>женат / замужем</td>\n",
       "      <td>0</td>\n",
       "      <td>M</td>\n",
       "      <td>сотрудник</td>\n",
       "      <td>0</td>\n",
       "      <td>267628.550329</td>\n",
       "      <td>дополнительное образование</td>\n",
       "    </tr>\n",
       "    <tr>\n",
       "      <th>4</th>\n",
       "      <td>0</td>\n",
       "      <td>38.843159</td>\n",
       "      <td>53</td>\n",
       "      <td>среднее</td>\n",
       "      <td>1</td>\n",
       "      <td>гражданский брак</td>\n",
       "      <td>1</td>\n",
       "      <td>F</td>\n",
       "      <td>пенсионер</td>\n",
       "      <td>0</td>\n",
       "      <td>158616.077870</td>\n",
       "      <td>сыграть свадьбу</td>\n",
       "    </tr>\n",
       "    <tr>\n",
       "      <th>5</th>\n",
       "      <td>0</td>\n",
       "      <td>2.537495</td>\n",
       "      <td>27</td>\n",
       "      <td>высшее</td>\n",
       "      <td>0</td>\n",
       "      <td>гражданский брак</td>\n",
       "      <td>1</td>\n",
       "      <td>M</td>\n",
       "      <td>компаньон</td>\n",
       "      <td>0</td>\n",
       "      <td>255763.565419</td>\n",
       "      <td>покупка жилья</td>\n",
       "    </tr>\n",
       "    <tr>\n",
       "      <th>6</th>\n",
       "      <td>0</td>\n",
       "      <td>7.888225</td>\n",
       "      <td>43</td>\n",
       "      <td>высшее</td>\n",
       "      <td>0</td>\n",
       "      <td>женат / замужем</td>\n",
       "      <td>0</td>\n",
       "      <td>F</td>\n",
       "      <td>компаньон</td>\n",
       "      <td>0</td>\n",
       "      <td>240525.971920</td>\n",
       "      <td>операции с жильем</td>\n",
       "    </tr>\n",
       "    <tr>\n",
       "      <th>7</th>\n",
       "      <td>0</td>\n",
       "      <td>0.418574</td>\n",
       "      <td>50</td>\n",
       "      <td>СРЕДНЕЕ</td>\n",
       "      <td>1</td>\n",
       "      <td>женат / замужем</td>\n",
       "      <td>0</td>\n",
       "      <td>M</td>\n",
       "      <td>сотрудник</td>\n",
       "      <td>0</td>\n",
       "      <td>135823.934197</td>\n",
       "      <td>образование</td>\n",
       "    </tr>\n",
       "    <tr>\n",
       "      <th>8</th>\n",
       "      <td>2</td>\n",
       "      <td>18.985932</td>\n",
       "      <td>35</td>\n",
       "      <td>ВЫСШЕЕ</td>\n",
       "      <td>0</td>\n",
       "      <td>гражданский брак</td>\n",
       "      <td>1</td>\n",
       "      <td>F</td>\n",
       "      <td>сотрудник</td>\n",
       "      <td>0</td>\n",
       "      <td>95856.832424</td>\n",
       "      <td>на проведение свадьбы</td>\n",
       "    </tr>\n",
       "    <tr>\n",
       "      <th>9</th>\n",
       "      <td>0</td>\n",
       "      <td>5.996593</td>\n",
       "      <td>41</td>\n",
       "      <td>среднее</td>\n",
       "      <td>1</td>\n",
       "      <td>женат / замужем</td>\n",
       "      <td>0</td>\n",
       "      <td>M</td>\n",
       "      <td>сотрудник</td>\n",
       "      <td>0</td>\n",
       "      <td>144425.938277</td>\n",
       "      <td>покупка жилья для семьи</td>\n",
       "    </tr>\n",
       "  </tbody>\n",
       "</table>\n",
       "</div>"
      ],
      "text/plain": [
       "   children  days_employed  dob_years education  education_id  \\\n",
       "0         1      23.116912         42    высшее             0   \n",
       "1         1      11.026860         36   среднее             1   \n",
       "2         0      15.406637         33   Среднее             1   \n",
       "3         3      11.300677         32   среднее             1   \n",
       "4         0      38.843159         53   среднее             1   \n",
       "5         0       2.537495         27    высшее             0   \n",
       "6         0       7.888225         43    высшее             0   \n",
       "7         0       0.418574         50   СРЕДНЕЕ             1   \n",
       "8         2      18.985932         35    ВЫСШЕЕ             0   \n",
       "9         0       5.996593         41   среднее             1   \n",
       "\n",
       "      family_status  family_status_id gender income_type  debt   total_income  \\\n",
       "0   женат / замужем                 0      F   сотрудник     0  253875.639453   \n",
       "1   женат / замужем                 0      F   сотрудник     0  112080.014102   \n",
       "2   женат / замужем                 0      M   сотрудник     0  145885.952297   \n",
       "3   женат / замужем                 0      M   сотрудник     0  267628.550329   \n",
       "4  гражданский брак                 1      F   пенсионер     0  158616.077870   \n",
       "5  гражданский брак                 1      M   компаньон     0  255763.565419   \n",
       "6   женат / замужем                 0      F   компаньон     0  240525.971920   \n",
       "7   женат / замужем                 0      M   сотрудник     0  135823.934197   \n",
       "8  гражданский брак                 1      F   сотрудник     0   95856.832424   \n",
       "9   женат / замужем                 0      M   сотрудник     0  144425.938277   \n",
       "\n",
       "                      purpose  \n",
       "0               покупка жилья  \n",
       "1     приобретение автомобиля  \n",
       "2               покупка жилья  \n",
       "3  дополнительное образование  \n",
       "4             сыграть свадьбу  \n",
       "5               покупка жилья  \n",
       "6           операции с жильем  \n",
       "7                 образование  \n",
       "8       на проведение свадьбы  \n",
       "9     покупка жилья для семьи  "
      ]
     },
     "execution_count": 7,
     "metadata": {},
     "output_type": "execute_result"
    }
   ],
   "source": [
    "data.loc[data['days_employed'] > 100, 'days_employed'] = data.loc[data['days_employed'] > 100, 'days_employed'] / 24\n",
    "data.head(10)"
   ]
  },
  {
   "cell_type": "markdown",
   "metadata": {},
   "source": [
    "Теперь данные в столбцах выглядят релистично."
   ]
  },
  {
   "cell_type": "markdown",
   "metadata": {},
   "source": [
    "Для того, чтобы как можно меньше повлиять на результаты исследования, заполняю пропущеные количественные переменные медианами в зависимости от типа занятости."
   ]
  },
  {
   "cell_type": "code",
   "execution_count": 8,
   "metadata": {},
   "outputs": [
    {
     "data": {
      "text/plain": [
       "children            0\n",
       "days_employed       0\n",
       "dob_years           0\n",
       "education           0\n",
       "education_id        0\n",
       "family_status       0\n",
       "family_status_id    0\n",
       "gender              0\n",
       "income_type         0\n",
       "debt                0\n",
       "total_income        0\n",
       "purpose             0\n",
       "dtype: int64"
      ]
     },
     "execution_count": 8,
     "metadata": {},
     "output_type": "execute_result"
    }
   ],
   "source": [
    "def median_filling (list_): #функция, которая принимает список значений, отфильтрованный по уникальному типу занятости, и заполнияет в нем пропуски медианой\n",
    "    \n",
    "    for income in data['income_type'].unique():\n",
    "        median = data.loc[data['income_type'] == income, list_].median()\n",
    "        data.loc[(data[list_].isna()) & (data['income_type'] == income), list_] = median\n",
    "for column in ['days_employed', 'total_income']: # применение функции для столбцов, в которых были обнаружены пропуски\n",
    "    median_filling(column)\n",
    "data.isna().sum()"
   ]
  },
  {
   "cell_type": "markdown",
   "metadata": {},
   "source": [
    "**Вывод**"
   ]
  },
  {
   "cell_type": "markdown",
   "metadata": {},
   "source": [
    "С пропусками в данных справились."
   ]
  },
  {
   "cell_type": "markdown",
   "metadata": {},
   "source": [
    "### Замена типа данных"
   ]
  },
  {
   "cell_type": "markdown",
   "metadata": {},
   "source": [
    "Значения в стобцах 'days_employed' и 'total_income' должны быть целочисленными, поэтому их необходимо перевести в тип *int* методом *astype()*."
   ]
  },
  {
   "cell_type": "code",
   "execution_count": 9,
   "metadata": {},
   "outputs": [
    {
     "data": {
      "text/html": [
       "<div>\n",
       "<style scoped>\n",
       "    .dataframe tbody tr th:only-of-type {\n",
       "        vertical-align: middle;\n",
       "    }\n",
       "\n",
       "    .dataframe tbody tr th {\n",
       "        vertical-align: top;\n",
       "    }\n",
       "\n",
       "    .dataframe thead th {\n",
       "        text-align: right;\n",
       "    }\n",
       "</style>\n",
       "<table border=\"1\" class=\"dataframe\">\n",
       "  <thead>\n",
       "    <tr style=\"text-align: right;\">\n",
       "      <th></th>\n",
       "      <th>children</th>\n",
       "      <th>days_employed</th>\n",
       "      <th>dob_years</th>\n",
       "      <th>education</th>\n",
       "      <th>education_id</th>\n",
       "      <th>family_status</th>\n",
       "      <th>family_status_id</th>\n",
       "      <th>gender</th>\n",
       "      <th>income_type</th>\n",
       "      <th>debt</th>\n",
       "      <th>total_income</th>\n",
       "      <th>purpose</th>\n",
       "    </tr>\n",
       "  </thead>\n",
       "  <tbody>\n",
       "    <tr>\n",
       "      <th>0</th>\n",
       "      <td>1</td>\n",
       "      <td>23</td>\n",
       "      <td>42</td>\n",
       "      <td>высшее</td>\n",
       "      <td>0</td>\n",
       "      <td>женат / замужем</td>\n",
       "      <td>0</td>\n",
       "      <td>F</td>\n",
       "      <td>сотрудник</td>\n",
       "      <td>0</td>\n",
       "      <td>253875</td>\n",
       "      <td>покупка жилья</td>\n",
       "    </tr>\n",
       "    <tr>\n",
       "      <th>1</th>\n",
       "      <td>1</td>\n",
       "      <td>11</td>\n",
       "      <td>36</td>\n",
       "      <td>среднее</td>\n",
       "      <td>1</td>\n",
       "      <td>женат / замужем</td>\n",
       "      <td>0</td>\n",
       "      <td>F</td>\n",
       "      <td>сотрудник</td>\n",
       "      <td>0</td>\n",
       "      <td>112080</td>\n",
       "      <td>приобретение автомобиля</td>\n",
       "    </tr>\n",
       "    <tr>\n",
       "      <th>2</th>\n",
       "      <td>0</td>\n",
       "      <td>15</td>\n",
       "      <td>33</td>\n",
       "      <td>Среднее</td>\n",
       "      <td>1</td>\n",
       "      <td>женат / замужем</td>\n",
       "      <td>0</td>\n",
       "      <td>M</td>\n",
       "      <td>сотрудник</td>\n",
       "      <td>0</td>\n",
       "      <td>145885</td>\n",
       "      <td>покупка жилья</td>\n",
       "    </tr>\n",
       "    <tr>\n",
       "      <th>3</th>\n",
       "      <td>3</td>\n",
       "      <td>11</td>\n",
       "      <td>32</td>\n",
       "      <td>среднее</td>\n",
       "      <td>1</td>\n",
       "      <td>женат / замужем</td>\n",
       "      <td>0</td>\n",
       "      <td>M</td>\n",
       "      <td>сотрудник</td>\n",
       "      <td>0</td>\n",
       "      <td>267628</td>\n",
       "      <td>дополнительное образование</td>\n",
       "    </tr>\n",
       "    <tr>\n",
       "      <th>4</th>\n",
       "      <td>0</td>\n",
       "      <td>38</td>\n",
       "      <td>53</td>\n",
       "      <td>среднее</td>\n",
       "      <td>1</td>\n",
       "      <td>гражданский брак</td>\n",
       "      <td>1</td>\n",
       "      <td>F</td>\n",
       "      <td>пенсионер</td>\n",
       "      <td>0</td>\n",
       "      <td>158616</td>\n",
       "      <td>сыграть свадьбу</td>\n",
       "    </tr>\n",
       "  </tbody>\n",
       "</table>\n",
       "</div>"
      ],
      "text/plain": [
       "   children  days_employed  dob_years education  education_id  \\\n",
       "0         1             23         42    высшее             0   \n",
       "1         1             11         36   среднее             1   \n",
       "2         0             15         33   Среднее             1   \n",
       "3         3             11         32   среднее             1   \n",
       "4         0             38         53   среднее             1   \n",
       "\n",
       "      family_status  family_status_id gender income_type  debt  total_income  \\\n",
       "0   женат / замужем                 0      F   сотрудник     0        253875   \n",
       "1   женат / замужем                 0      F   сотрудник     0        112080   \n",
       "2   женат / замужем                 0      M   сотрудник     0        145885   \n",
       "3   женат / замужем                 0      M   сотрудник     0        267628   \n",
       "4  гражданский брак                 1      F   пенсионер     0        158616   \n",
       "\n",
       "                      purpose  \n",
       "0               покупка жилья  \n",
       "1     приобретение автомобиля  \n",
       "2               покупка жилья  \n",
       "3  дополнительное образование  \n",
       "4             сыграть свадьбу  "
      ]
     },
     "execution_count": 9,
     "metadata": {},
     "output_type": "execute_result"
    }
   ],
   "source": [
    "data[['days_employed', 'total_income']] = data[['days_employed', 'total_income']].astype('int')\n",
    "data.head()"
   ]
  },
  {
   "cell_type": "markdown",
   "metadata": {},
   "source": [
    "**Вывод**"
   ]
  },
  {
   "cell_type": "markdown",
   "metadata": {},
   "source": [
    "С количественными переменными справились, перейдем к категориальным."
   ]
  },
  {
   "cell_type": "markdown",
   "metadata": {},
   "source": [
    "### Обработка дубликатов"
   ]
  },
  {
   "cell_type": "markdown",
   "metadata": {},
   "source": [
    "Пройдемся по всем столбцам для того, чтобы не упустить проблемы в данных."
   ]
  },
  {
   "cell_type": "code",
   "execution_count": 10,
   "metadata": {},
   "outputs": [
    {
     "data": {
      "text/plain": [
       "array([ 1,  0,  3,  2, -1,  4, 20,  5])"
      ]
     },
     "metadata": {},
     "output_type": "display_data"
    },
    {
     "data": {
      "text/plain": [
       "array(['высшее', 'среднее', 'Среднее', 'СРЕДНЕЕ', 'ВЫСШЕЕ',\n",
       "       'неоконченное высшее', 'начальное', 'Высшее',\n",
       "       'НЕОКОНЧЕННОЕ ВЫСШЕЕ', 'Неоконченное высшее', 'НАЧАЛЬНОЕ',\n",
       "       'Начальное', 'Ученая степень', 'УЧЕНАЯ СТЕПЕНЬ', 'ученая степень'],\n",
       "      dtype=object)"
      ]
     },
     "metadata": {},
     "output_type": "display_data"
    },
    {
     "data": {
      "text/plain": [
       "array(['женат / замужем', 'гражданский брак', 'вдовец / вдова',\n",
       "       'в разводе', 'Не женат / не замужем'], dtype=object)"
      ]
     },
     "metadata": {},
     "output_type": "display_data"
    },
    {
     "data": {
      "text/plain": [
       "array(['F', 'M', 'XNA'], dtype=object)"
      ]
     },
     "metadata": {},
     "output_type": "display_data"
    },
    {
     "data": {
      "text/plain": [
       "array(['сотрудник', 'пенсионер', 'компаньон', 'госслужащий',\n",
       "       'безработный', 'предприниматель', 'студент', 'в декрете'],\n",
       "      dtype=object)"
      ]
     },
     "metadata": {},
     "output_type": "display_data"
    }
   ],
   "source": [
    "cols = ['children', 'education', 'family_status', 'gender', 'income_type']\n",
    "for column in cols:\n",
    "    display(data[column].unique())"
   ]
  },
  {
   "cell_type": "markdown",
   "metadata": {},
   "source": [
    "В столбце содержащем количество детей в семье есть отрицальное значение '-1', поэтому применим функцию модуля ко всему столбцу."
   ]
  },
  {
   "cell_type": "code",
   "execution_count": 11,
   "metadata": {},
   "outputs": [
    {
     "data": {
      "text/plain": [
       "array([ 1,  0,  3,  2,  4, 20,  5])"
      ]
     },
     "execution_count": 11,
     "metadata": {},
     "output_type": "execute_result"
    }
   ],
   "source": [
    "data['children'] = abs(data['children'])\n",
    "data['children'].unique()"
   ]
  },
  {
   "cell_type": "code",
   "execution_count": 12,
   "metadata": {},
   "outputs": [
    {
     "data": {
      "text/html": [
       "<div>\n",
       "<style scoped>\n",
       "    .dataframe tbody tr th:only-of-type {\n",
       "        vertical-align: middle;\n",
       "    }\n",
       "\n",
       "    .dataframe tbody tr th {\n",
       "        vertical-align: top;\n",
       "    }\n",
       "\n",
       "    .dataframe thead th {\n",
       "        text-align: right;\n",
       "    }\n",
       "</style>\n",
       "<table border=\"1\" class=\"dataframe\">\n",
       "  <thead>\n",
       "    <tr style=\"text-align: right;\">\n",
       "      <th></th>\n",
       "      <th>children</th>\n",
       "      <th>days_employed</th>\n",
       "      <th>dob_years</th>\n",
       "      <th>education</th>\n",
       "      <th>education_id</th>\n",
       "      <th>family_status</th>\n",
       "      <th>family_status_id</th>\n",
       "      <th>gender</th>\n",
       "      <th>income_type</th>\n",
       "      <th>debt</th>\n",
       "      <th>total_income</th>\n",
       "      <th>purpose</th>\n",
       "    </tr>\n",
       "  </thead>\n",
       "  <tbody>\n",
       "    <tr>\n",
       "      <th>10701</th>\n",
       "      <td>0</td>\n",
       "      <td>6</td>\n",
       "      <td>24</td>\n",
       "      <td>неоконченное высшее</td>\n",
       "      <td>2</td>\n",
       "      <td>гражданский брак</td>\n",
       "      <td>1</td>\n",
       "      <td>XNA</td>\n",
       "      <td>компаньон</td>\n",
       "      <td>0</td>\n",
       "      <td>203905</td>\n",
       "      <td>покупка недвижимости</td>\n",
       "    </tr>\n",
       "  </tbody>\n",
       "</table>\n",
       "</div>"
      ],
      "text/plain": [
       "       children  days_employed  dob_years            education  education_id  \\\n",
       "10701         0              6         24  неоконченное высшее             2   \n",
       "\n",
       "          family_status  family_status_id gender income_type  debt  \\\n",
       "10701  гражданский брак                 1    XNA   компаньон     0   \n",
       "\n",
       "       total_income               purpose  \n",
       "10701        203905  покупка недвижимости  "
      ]
     },
     "execution_count": 12,
     "metadata": {},
     "output_type": "execute_result"
    }
   ],
   "source": [
    "data[data['gender'] == 'XNA']"
   ]
  },
  {
   "cell_type": "markdown",
   "metadata": {},
   "source": [
    "Нашлось одно странное значение в столбце 'gender', но так как оно не повлияет на результаты исследования, я не вижу смысла удалять эту строку из таблицы."
   ]
  },
  {
   "cell_type": "markdown",
   "metadata": {},
   "source": [
    "В столбце 'education' есть дубликаты, которые отличаются регистром. Для приведения их к нижнему регистру в библиотке Pandas есть специльный метод *str.lower()*."
   ]
  },
  {
   "cell_type": "code",
   "execution_count": 13,
   "metadata": {},
   "outputs": [
    {
     "data": {
      "text/plain": [
       "array(['высшее', 'среднее', 'неоконченное высшее', 'начальное',\n",
       "       'ученая степень'], dtype=object)"
      ]
     },
     "execution_count": 13,
     "metadata": {},
     "output_type": "execute_result"
    }
   ],
   "source": [
    "data['education'] = data['education'].str.lower()\n",
    "data['education'].unique()"
   ]
  },
  {
   "cell_type": "markdown",
   "metadata": {},
   "source": [
    "С остальными столбцами всё в порядке, дубликатов нет."
   ]
  },
  {
   "cell_type": "markdown",
   "metadata": {},
   "source": [
    "Далее необходимо проверить таблицу на наличие полных дубликатов, то есть строк в которых все значения совпадают. Чтобы их увидеть нужно таблицу с дубликатами отсортировать по всему набору колонок."
   ]
  },
  {
   "cell_type": "code",
   "execution_count": 14,
   "metadata": {},
   "outputs": [
    {
     "data": {
      "text/html": [
       "<div>\n",
       "<style scoped>\n",
       "    .dataframe tbody tr th:only-of-type {\n",
       "        vertical-align: middle;\n",
       "    }\n",
       "\n",
       "    .dataframe tbody tr th {\n",
       "        vertical-align: top;\n",
       "    }\n",
       "\n",
       "    .dataframe thead th {\n",
       "        text-align: right;\n",
       "    }\n",
       "</style>\n",
       "<table border=\"1\" class=\"dataframe\">\n",
       "  <thead>\n",
       "    <tr style=\"text-align: right;\">\n",
       "      <th></th>\n",
       "      <th>children</th>\n",
       "      <th>days_employed</th>\n",
       "      <th>dob_years</th>\n",
       "      <th>education</th>\n",
       "      <th>education_id</th>\n",
       "      <th>family_status</th>\n",
       "      <th>family_status_id</th>\n",
       "      <th>gender</th>\n",
       "      <th>income_type</th>\n",
       "      <th>debt</th>\n",
       "      <th>total_income</th>\n",
       "      <th>purpose</th>\n",
       "    </tr>\n",
       "  </thead>\n",
       "  <tbody>\n",
       "    <tr>\n",
       "      <th>15892</th>\n",
       "      <td>0</td>\n",
       "      <td>4</td>\n",
       "      <td>23</td>\n",
       "      <td>среднее</td>\n",
       "      <td>1</td>\n",
       "      <td>Не женат / не замужем</td>\n",
       "      <td>4</td>\n",
       "      <td>F</td>\n",
       "      <td>сотрудник</td>\n",
       "      <td>0</td>\n",
       "      <td>142594</td>\n",
       "      <td>сделка с подержанным автомобилем</td>\n",
       "    </tr>\n",
       "    <tr>\n",
       "      <th>19321</th>\n",
       "      <td>0</td>\n",
       "      <td>4</td>\n",
       "      <td>23</td>\n",
       "      <td>среднее</td>\n",
       "      <td>1</td>\n",
       "      <td>Не женат / не замужем</td>\n",
       "      <td>4</td>\n",
       "      <td>F</td>\n",
       "      <td>сотрудник</td>\n",
       "      <td>0</td>\n",
       "      <td>142594</td>\n",
       "      <td>сделка с подержанным автомобилем</td>\n",
       "    </tr>\n",
       "    <tr>\n",
       "      <th>3452</th>\n",
       "      <td>0</td>\n",
       "      <td>4</td>\n",
       "      <td>29</td>\n",
       "      <td>высшее</td>\n",
       "      <td>0</td>\n",
       "      <td>женат / замужем</td>\n",
       "      <td>0</td>\n",
       "      <td>M</td>\n",
       "      <td>сотрудник</td>\n",
       "      <td>0</td>\n",
       "      <td>142594</td>\n",
       "      <td>покупка жилой недвижимости</td>\n",
       "    </tr>\n",
       "    <tr>\n",
       "      <th>18328</th>\n",
       "      <td>0</td>\n",
       "      <td>4</td>\n",
       "      <td>29</td>\n",
       "      <td>высшее</td>\n",
       "      <td>0</td>\n",
       "      <td>женат / замужем</td>\n",
       "      <td>0</td>\n",
       "      <td>M</td>\n",
       "      <td>сотрудник</td>\n",
       "      <td>0</td>\n",
       "      <td>142594</td>\n",
       "      <td>покупка жилой недвижимости</td>\n",
       "    </tr>\n",
       "    <tr>\n",
       "      <th>4216</th>\n",
       "      <td>0</td>\n",
       "      <td>4</td>\n",
       "      <td>30</td>\n",
       "      <td>среднее</td>\n",
       "      <td>1</td>\n",
       "      <td>женат / замужем</td>\n",
       "      <td>0</td>\n",
       "      <td>M</td>\n",
       "      <td>сотрудник</td>\n",
       "      <td>0</td>\n",
       "      <td>142594</td>\n",
       "      <td>строительство жилой недвижимости</td>\n",
       "    </tr>\n",
       "    <tr>\n",
       "      <th>...</th>\n",
       "      <td>...</td>\n",
       "      <td>...</td>\n",
       "      <td>...</td>\n",
       "      <td>...</td>\n",
       "      <td>...</td>\n",
       "      <td>...</td>\n",
       "      <td>...</td>\n",
       "      <td>...</td>\n",
       "      <td>...</td>\n",
       "      <td>...</td>\n",
       "      <td>...</td>\n",
       "      <td>...</td>\n",
       "    </tr>\n",
       "    <tr>\n",
       "      <th>9238</th>\n",
       "      <td>2</td>\n",
       "      <td>4</td>\n",
       "      <td>34</td>\n",
       "      <td>среднее</td>\n",
       "      <td>1</td>\n",
       "      <td>женат / замужем</td>\n",
       "      <td>0</td>\n",
       "      <td>F</td>\n",
       "      <td>сотрудник</td>\n",
       "      <td>0</td>\n",
       "      <td>142594</td>\n",
       "      <td>покупка жилья для сдачи</td>\n",
       "    </tr>\n",
       "    <tr>\n",
       "      <th>11033</th>\n",
       "      <td>2</td>\n",
       "      <td>4</td>\n",
       "      <td>39</td>\n",
       "      <td>среднее</td>\n",
       "      <td>1</td>\n",
       "      <td>гражданский брак</td>\n",
       "      <td>1</td>\n",
       "      <td>F</td>\n",
       "      <td>сотрудник</td>\n",
       "      <td>0</td>\n",
       "      <td>142594</td>\n",
       "      <td>сыграть свадьбу</td>\n",
       "    </tr>\n",
       "    <tr>\n",
       "      <th>16902</th>\n",
       "      <td>2</td>\n",
       "      <td>4</td>\n",
       "      <td>39</td>\n",
       "      <td>среднее</td>\n",
       "      <td>1</td>\n",
       "      <td>гражданский брак</td>\n",
       "      <td>1</td>\n",
       "      <td>F</td>\n",
       "      <td>сотрудник</td>\n",
       "      <td>0</td>\n",
       "      <td>142594</td>\n",
       "      <td>сыграть свадьбу</td>\n",
       "    </tr>\n",
       "    <tr>\n",
       "      <th>9013</th>\n",
       "      <td>2</td>\n",
       "      <td>7</td>\n",
       "      <td>36</td>\n",
       "      <td>высшее</td>\n",
       "      <td>0</td>\n",
       "      <td>женат / замужем</td>\n",
       "      <td>0</td>\n",
       "      <td>F</td>\n",
       "      <td>госслужащий</td>\n",
       "      <td>0</td>\n",
       "      <td>150447</td>\n",
       "      <td>получение образования</td>\n",
       "    </tr>\n",
       "    <tr>\n",
       "      <th>14432</th>\n",
       "      <td>2</td>\n",
       "      <td>7</td>\n",
       "      <td>36</td>\n",
       "      <td>высшее</td>\n",
       "      <td>0</td>\n",
       "      <td>женат / замужем</td>\n",
       "      <td>0</td>\n",
       "      <td>F</td>\n",
       "      <td>госслужащий</td>\n",
       "      <td>0</td>\n",
       "      <td>150447</td>\n",
       "      <td>получение образования</td>\n",
       "    </tr>\n",
       "  </tbody>\n",
       "</table>\n",
       "<p>137 rows × 12 columns</p>\n",
       "</div>"
      ],
      "text/plain": [
       "       children  days_employed  dob_years education  education_id  \\\n",
       "15892         0              4         23   среднее             1   \n",
       "19321         0              4         23   среднее             1   \n",
       "3452          0              4         29    высшее             0   \n",
       "18328         0              4         29    высшее             0   \n",
       "4216          0              4         30   среднее             1   \n",
       "...         ...            ...        ...       ...           ...   \n",
       "9238          2              4         34   среднее             1   \n",
       "11033         2              4         39   среднее             1   \n",
       "16902         2              4         39   среднее             1   \n",
       "9013          2              7         36    высшее             0   \n",
       "14432         2              7         36    высшее             0   \n",
       "\n",
       "               family_status  family_status_id gender  income_type  debt  \\\n",
       "15892  Не женат / не замужем                 4      F    сотрудник     0   \n",
       "19321  Не женат / не замужем                 4      F    сотрудник     0   \n",
       "3452         женат / замужем                 0      M    сотрудник     0   \n",
       "18328        женат / замужем                 0      M    сотрудник     0   \n",
       "4216         женат / замужем                 0      M    сотрудник     0   \n",
       "...                      ...               ...    ...          ...   ...   \n",
       "9238         женат / замужем                 0      F    сотрудник     0   \n",
       "11033       гражданский брак                 1      F    сотрудник     0   \n",
       "16902       гражданский брак                 1      F    сотрудник     0   \n",
       "9013         женат / замужем                 0      F  госслужащий     0   \n",
       "14432        женат / замужем                 0      F  госслужащий     0   \n",
       "\n",
       "       total_income                           purpose  \n",
       "15892        142594  сделка с подержанным автомобилем  \n",
       "19321        142594  сделка с подержанным автомобилем  \n",
       "3452         142594        покупка жилой недвижимости  \n",
       "18328        142594        покупка жилой недвижимости  \n",
       "4216         142594  строительство жилой недвижимости  \n",
       "...             ...                               ...  \n",
       "9238         142594           покупка жилья для сдачи  \n",
       "11033        142594                   сыграть свадьбу  \n",
       "16902        142594                   сыграть свадьбу  \n",
       "9013         150447             получение образования  \n",
       "14432        150447             получение образования  \n",
       "\n",
       "[137 rows x 12 columns]"
      ]
     },
     "execution_count": 14,
     "metadata": {},
     "output_type": "execute_result"
    }
   ],
   "source": [
    "data[data.duplicated(keep = False)].sort_values(by = list(data.columns))"
   ]
  },
  {
   "cell_type": "markdown",
   "metadata": {},
   "source": [
    "Строк-дубликатов в таблице оказалось немало, а именно 137. Удалим дубликаты и посмотрим на итоговую сумму дубликатов."
   ]
  },
  {
   "cell_type": "code",
   "execution_count": 15,
   "metadata": {},
   "outputs": [],
   "source": [
    "data = data.drop_duplicates().reset_index(drop = True) "
   ]
  },
  {
   "cell_type": "code",
   "execution_count": 16,
   "metadata": {},
   "outputs": [
    {
     "data": {
      "text/plain": [
       "0"
      ]
     },
     "execution_count": 16,
     "metadata": {},
     "output_type": "execute_result"
    }
   ],
   "source": [
    "data.duplicated().sum()"
   ]
  },
  {
   "cell_type": "markdown",
   "metadata": {},
   "source": [
    "**Вывод**"
   ]
  },
  {
   "cell_type": "markdown",
   "metadata": {},
   "source": [
    "Дубликаты в данных обработаны."
   ]
  },
  {
   "cell_type": "markdown",
   "metadata": {},
   "source": [
    "### Лемматизация"
   ]
  },
  {
   "cell_type": "markdown",
   "metadata": {},
   "source": [
    "Для того, чтобы выделить категории среди целей получения кредита, необходимо лемматизировать данные, то есть привести слова к их словарной форме."
   ]
  },
  {
   "cell_type": "code",
   "execution_count": 17,
   "metadata": {},
   "outputs": [
    {
     "name": "stdout",
     "output_type": "stream",
     "text": [
      "Counter({' ': 55023, 'недвижимость': 6351, 'покупка': 5897, 'жилье': 4460, 'автомобиль': 4306, 'образование': 4013, 'с': 2918, 'операция': 2604, 'свадьба': 2324, 'свой': 2230, 'на': 2222, 'строительство': 1878, 'высокий': 1374, 'получение': 1314, 'коммерческий': 1311, 'для': 1289, 'жилой': 1230, 'сделка': 941, 'дополнительный': 906, 'заниматься': 904, 'подержать': 853, 'проведение': 768, 'сыграть': 765, 'сдача': 651, 'семья': 638, 'собственный': 635, 'со': 627, 'ремонт': 607, 'приобретение': 461, 'профильный': 436, 'подержанный': 111, '\\n': 1})\n"
     ]
    }
   ],
   "source": [
    "lemmas = m.lemmatize(' '.join(data['purpose']))\n",
    "from collections import Counter\n",
    "print(Counter(lemmas)) "
   ]
  },
  {
   "cell_type": "markdown",
   "metadata": {},
   "source": [
    "В полученных результатах можно выделить 4 крупные категории: недвижимость/жилье, автомобиль, образование, свадьба."
   ]
  },
  {
   "cell_type": "code",
   "execution_count": 18,
   "metadata": {},
   "outputs": [
    {
     "data": {
      "text/html": [
       "<div>\n",
       "<style scoped>\n",
       "    .dataframe tbody tr th:only-of-type {\n",
       "        vertical-align: middle;\n",
       "    }\n",
       "\n",
       "    .dataframe tbody tr th {\n",
       "        vertical-align: top;\n",
       "    }\n",
       "\n",
       "    .dataframe thead th {\n",
       "        text-align: right;\n",
       "    }\n",
       "</style>\n",
       "<table border=\"1\" class=\"dataframe\">\n",
       "  <thead>\n",
       "    <tr style=\"text-align: right;\">\n",
       "      <th></th>\n",
       "      <th>children</th>\n",
       "      <th>days_employed</th>\n",
       "      <th>dob_years</th>\n",
       "      <th>education</th>\n",
       "      <th>education_id</th>\n",
       "      <th>family_status</th>\n",
       "      <th>family_status_id</th>\n",
       "      <th>gender</th>\n",
       "      <th>income_type</th>\n",
       "      <th>debt</th>\n",
       "      <th>total_income</th>\n",
       "      <th>purpose</th>\n",
       "      <th>purpose_new</th>\n",
       "    </tr>\n",
       "  </thead>\n",
       "  <tbody>\n",
       "    <tr>\n",
       "      <th>0</th>\n",
       "      <td>1</td>\n",
       "      <td>23</td>\n",
       "      <td>42</td>\n",
       "      <td>высшее</td>\n",
       "      <td>0</td>\n",
       "      <td>женат / замужем</td>\n",
       "      <td>0</td>\n",
       "      <td>F</td>\n",
       "      <td>сотрудник</td>\n",
       "      <td>0</td>\n",
       "      <td>253875</td>\n",
       "      <td>покупка жилья</td>\n",
       "      <td>недвижимость</td>\n",
       "    </tr>\n",
       "    <tr>\n",
       "      <th>1</th>\n",
       "      <td>1</td>\n",
       "      <td>11</td>\n",
       "      <td>36</td>\n",
       "      <td>среднее</td>\n",
       "      <td>1</td>\n",
       "      <td>женат / замужем</td>\n",
       "      <td>0</td>\n",
       "      <td>F</td>\n",
       "      <td>сотрудник</td>\n",
       "      <td>0</td>\n",
       "      <td>112080</td>\n",
       "      <td>приобретение автомобиля</td>\n",
       "      <td>автомобиль</td>\n",
       "    </tr>\n",
       "    <tr>\n",
       "      <th>2</th>\n",
       "      <td>0</td>\n",
       "      <td>15</td>\n",
       "      <td>33</td>\n",
       "      <td>среднее</td>\n",
       "      <td>1</td>\n",
       "      <td>женат / замужем</td>\n",
       "      <td>0</td>\n",
       "      <td>M</td>\n",
       "      <td>сотрудник</td>\n",
       "      <td>0</td>\n",
       "      <td>145885</td>\n",
       "      <td>покупка жилья</td>\n",
       "      <td>недвижимость</td>\n",
       "    </tr>\n",
       "    <tr>\n",
       "      <th>3</th>\n",
       "      <td>3</td>\n",
       "      <td>11</td>\n",
       "      <td>32</td>\n",
       "      <td>среднее</td>\n",
       "      <td>1</td>\n",
       "      <td>женат / замужем</td>\n",
       "      <td>0</td>\n",
       "      <td>M</td>\n",
       "      <td>сотрудник</td>\n",
       "      <td>0</td>\n",
       "      <td>267628</td>\n",
       "      <td>дополнительное образование</td>\n",
       "      <td>образование</td>\n",
       "    </tr>\n",
       "    <tr>\n",
       "      <th>4</th>\n",
       "      <td>0</td>\n",
       "      <td>38</td>\n",
       "      <td>53</td>\n",
       "      <td>среднее</td>\n",
       "      <td>1</td>\n",
       "      <td>гражданский брак</td>\n",
       "      <td>1</td>\n",
       "      <td>F</td>\n",
       "      <td>пенсионер</td>\n",
       "      <td>0</td>\n",
       "      <td>158616</td>\n",
       "      <td>сыграть свадьбу</td>\n",
       "      <td>свадьба</td>\n",
       "    </tr>\n",
       "  </tbody>\n",
       "</table>\n",
       "</div>"
      ],
      "text/plain": [
       "   children  days_employed  dob_years education  education_id  \\\n",
       "0         1             23         42    высшее             0   \n",
       "1         1             11         36   среднее             1   \n",
       "2         0             15         33   среднее             1   \n",
       "3         3             11         32   среднее             1   \n",
       "4         0             38         53   среднее             1   \n",
       "\n",
       "      family_status  family_status_id gender income_type  debt  total_income  \\\n",
       "0   женат / замужем                 0      F   сотрудник     0        253875   \n",
       "1   женат / замужем                 0      F   сотрудник     0        112080   \n",
       "2   женат / замужем                 0      M   сотрудник     0        145885   \n",
       "3   женат / замужем                 0      M   сотрудник     0        267628   \n",
       "4  гражданский брак                 1      F   пенсионер     0        158616   \n",
       "\n",
       "                      purpose   purpose_new  \n",
       "0               покупка жилья  недвижимость  \n",
       "1     приобретение автомобиля    автомобиль  \n",
       "2               покупка жилья  недвижимость  \n",
       "3  дополнительное образование   образование  \n",
       "4             сыграть свадьбу       свадьба  "
      ]
     },
     "execution_count": 18,
     "metadata": {},
     "output_type": "execute_result"
    }
   ],
   "source": [
    "def purpose_change(purpose):\n",
    "    lemmas_row = m.lemmatize(purpose)\n",
    "    if 'жилье' in lemmas_row or 'недвижимость' in lemmas_row:\n",
    "            return 'недвижимость'\n",
    "    if 'автомобиль'in lemmas_row:\n",
    "        return 'автомобиль'\n",
    "    if 'образование' in lemmas_row:\n",
    "        return 'образование'\n",
    "    if 'свадьба' in lemmas_row:\n",
    "        return 'свадьба'\n",
    "    return 'иное'\n",
    "        \n",
    "data['purpose_new']= data['purpose'].apply(purpose_change)\n",
    "data.head()"
   ]
  },
  {
   "cell_type": "markdown",
   "metadata": {},
   "source": [
    "**Вывод**"
   ]
  },
  {
   "cell_type": "markdown",
   "metadata": {},
   "source": [
    "В таблицу был добавлен столбец с выделенной категорией целей получения кредита.  "
   ]
  },
  {
   "cell_type": "markdown",
   "metadata": {},
   "source": [
    "### Категоризация данных"
   ]
  },
  {
   "cell_type": "markdown",
   "metadata": {},
   "source": [
    "Для того, чтобы ответить на поставленные вопросы ещё нужно категоризировать уровень дохода и наличие детей.\n",
    "Доход я разделила на три группы: 'низкий', 'средний', 'высокий', а наличие детей на две: 'есть дети', 'нет детей'."
   ]
  },
  {
   "cell_type": "code",
   "execution_count": 19,
   "metadata": {},
   "outputs": [
    {
     "data": {
      "text/html": [
       "<div>\n",
       "<style scoped>\n",
       "    .dataframe tbody tr th:only-of-type {\n",
       "        vertical-align: middle;\n",
       "    }\n",
       "\n",
       "    .dataframe tbody tr th {\n",
       "        vertical-align: top;\n",
       "    }\n",
       "\n",
       "    .dataframe thead th {\n",
       "        text-align: right;\n",
       "    }\n",
       "</style>\n",
       "<table border=\"1\" class=\"dataframe\">\n",
       "  <thead>\n",
       "    <tr style=\"text-align: right;\">\n",
       "      <th></th>\n",
       "      <th>children</th>\n",
       "      <th>days_employed</th>\n",
       "      <th>dob_years</th>\n",
       "      <th>education</th>\n",
       "      <th>education_id</th>\n",
       "      <th>family_status</th>\n",
       "      <th>family_status_id</th>\n",
       "      <th>gender</th>\n",
       "      <th>income_type</th>\n",
       "      <th>debt</th>\n",
       "      <th>total_income</th>\n",
       "      <th>purpose</th>\n",
       "      <th>purpose_new</th>\n",
       "      <th>total_income_group</th>\n",
       "    </tr>\n",
       "  </thead>\n",
       "  <tbody>\n",
       "    <tr>\n",
       "      <th>0</th>\n",
       "      <td>1</td>\n",
       "      <td>23</td>\n",
       "      <td>42</td>\n",
       "      <td>высшее</td>\n",
       "      <td>0</td>\n",
       "      <td>женат / замужем</td>\n",
       "      <td>0</td>\n",
       "      <td>F</td>\n",
       "      <td>сотрудник</td>\n",
       "      <td>0</td>\n",
       "      <td>253875</td>\n",
       "      <td>покупка жилья</td>\n",
       "      <td>недвижимость</td>\n",
       "      <td>высокий</td>\n",
       "    </tr>\n",
       "    <tr>\n",
       "      <th>1</th>\n",
       "      <td>1</td>\n",
       "      <td>11</td>\n",
       "      <td>36</td>\n",
       "      <td>среднее</td>\n",
       "      <td>1</td>\n",
       "      <td>женат / замужем</td>\n",
       "      <td>0</td>\n",
       "      <td>F</td>\n",
       "      <td>сотрудник</td>\n",
       "      <td>0</td>\n",
       "      <td>112080</td>\n",
       "      <td>приобретение автомобиля</td>\n",
       "      <td>автомобиль</td>\n",
       "      <td>низкий</td>\n",
       "    </tr>\n",
       "    <tr>\n",
       "      <th>2</th>\n",
       "      <td>0</td>\n",
       "      <td>15</td>\n",
       "      <td>33</td>\n",
       "      <td>среднее</td>\n",
       "      <td>1</td>\n",
       "      <td>женат / замужем</td>\n",
       "      <td>0</td>\n",
       "      <td>M</td>\n",
       "      <td>сотрудник</td>\n",
       "      <td>0</td>\n",
       "      <td>145885</td>\n",
       "      <td>покупка жилья</td>\n",
       "      <td>недвижимость</td>\n",
       "      <td>средний</td>\n",
       "    </tr>\n",
       "    <tr>\n",
       "      <th>3</th>\n",
       "      <td>3</td>\n",
       "      <td>11</td>\n",
       "      <td>32</td>\n",
       "      <td>среднее</td>\n",
       "      <td>1</td>\n",
       "      <td>женат / замужем</td>\n",
       "      <td>0</td>\n",
       "      <td>M</td>\n",
       "      <td>сотрудник</td>\n",
       "      <td>0</td>\n",
       "      <td>267628</td>\n",
       "      <td>дополнительное образование</td>\n",
       "      <td>образование</td>\n",
       "      <td>высокий</td>\n",
       "    </tr>\n",
       "    <tr>\n",
       "      <th>4</th>\n",
       "      <td>0</td>\n",
       "      <td>38</td>\n",
       "      <td>53</td>\n",
       "      <td>среднее</td>\n",
       "      <td>1</td>\n",
       "      <td>гражданский брак</td>\n",
       "      <td>1</td>\n",
       "      <td>F</td>\n",
       "      <td>пенсионер</td>\n",
       "      <td>0</td>\n",
       "      <td>158616</td>\n",
       "      <td>сыграть свадьбу</td>\n",
       "      <td>свадьба</td>\n",
       "      <td>средний</td>\n",
       "    </tr>\n",
       "  </tbody>\n",
       "</table>\n",
       "</div>"
      ],
      "text/plain": [
       "   children  days_employed  dob_years education  education_id  \\\n",
       "0         1             23         42    высшее             0   \n",
       "1         1             11         36   среднее             1   \n",
       "2         0             15         33   среднее             1   \n",
       "3         3             11         32   среднее             1   \n",
       "4         0             38         53   среднее             1   \n",
       "\n",
       "      family_status  family_status_id gender income_type  debt  total_income  \\\n",
       "0   женат / замужем                 0      F   сотрудник     0        253875   \n",
       "1   женат / замужем                 0      F   сотрудник     0        112080   \n",
       "2   женат / замужем                 0      M   сотрудник     0        145885   \n",
       "3   женат / замужем                 0      M   сотрудник     0        267628   \n",
       "4  гражданский брак                 1      F   пенсионер     0        158616   \n",
       "\n",
       "                      purpose   purpose_new total_income_group  \n",
       "0               покупка жилья  недвижимость            высокий  \n",
       "1     приобретение автомобиля    автомобиль             низкий  \n",
       "2               покупка жилья  недвижимость            средний  \n",
       "3  дополнительное образование   образование            высокий  \n",
       "4             сыграть свадьбу       свадьба            средний  "
      ]
     },
     "execution_count": 19,
     "metadata": {},
     "output_type": "execute_result"
    }
   ],
   "source": [
    "def total_income_group(income):\n",
    "    if income <= 120000:\n",
    "        return 'низкий'\n",
    "    if 120000 < income < 170000:\n",
    "        return 'средний'\n",
    "    if income >= 170000:\n",
    "        return 'высокий'\n",
    "data['total_income_group'] = data['total_income'].apply(total_income_group)\n",
    "data.head()"
   ]
  },
  {
   "cell_type": "code",
   "execution_count": 20,
   "metadata": {
    "scrolled": true
   },
   "outputs": [
    {
     "data": {
      "text/html": [
       "<div>\n",
       "<style scoped>\n",
       "    .dataframe tbody tr th:only-of-type {\n",
       "        vertical-align: middle;\n",
       "    }\n",
       "\n",
       "    .dataframe tbody tr th {\n",
       "        vertical-align: top;\n",
       "    }\n",
       "\n",
       "    .dataframe thead th {\n",
       "        text-align: right;\n",
       "    }\n",
       "</style>\n",
       "<table border=\"1\" class=\"dataframe\">\n",
       "  <thead>\n",
       "    <tr style=\"text-align: right;\">\n",
       "      <th></th>\n",
       "      <th>children</th>\n",
       "      <th>days_employed</th>\n",
       "      <th>dob_years</th>\n",
       "      <th>education</th>\n",
       "      <th>education_id</th>\n",
       "      <th>family_status</th>\n",
       "      <th>family_status_id</th>\n",
       "      <th>gender</th>\n",
       "      <th>income_type</th>\n",
       "      <th>debt</th>\n",
       "      <th>total_income</th>\n",
       "      <th>purpose</th>\n",
       "      <th>purpose_new</th>\n",
       "      <th>total_income_group</th>\n",
       "      <th>children_group</th>\n",
       "    </tr>\n",
       "  </thead>\n",
       "  <tbody>\n",
       "    <tr>\n",
       "      <th>0</th>\n",
       "      <td>1</td>\n",
       "      <td>23</td>\n",
       "      <td>42</td>\n",
       "      <td>высшее</td>\n",
       "      <td>0</td>\n",
       "      <td>женат / замужем</td>\n",
       "      <td>0</td>\n",
       "      <td>F</td>\n",
       "      <td>сотрудник</td>\n",
       "      <td>0</td>\n",
       "      <td>253875</td>\n",
       "      <td>покупка жилья</td>\n",
       "      <td>недвижимость</td>\n",
       "      <td>высокий</td>\n",
       "      <td>есть дети</td>\n",
       "    </tr>\n",
       "    <tr>\n",
       "      <th>1</th>\n",
       "      <td>1</td>\n",
       "      <td>11</td>\n",
       "      <td>36</td>\n",
       "      <td>среднее</td>\n",
       "      <td>1</td>\n",
       "      <td>женат / замужем</td>\n",
       "      <td>0</td>\n",
       "      <td>F</td>\n",
       "      <td>сотрудник</td>\n",
       "      <td>0</td>\n",
       "      <td>112080</td>\n",
       "      <td>приобретение автомобиля</td>\n",
       "      <td>автомобиль</td>\n",
       "      <td>низкий</td>\n",
       "      <td>есть дети</td>\n",
       "    </tr>\n",
       "    <tr>\n",
       "      <th>2</th>\n",
       "      <td>0</td>\n",
       "      <td>15</td>\n",
       "      <td>33</td>\n",
       "      <td>среднее</td>\n",
       "      <td>1</td>\n",
       "      <td>женат / замужем</td>\n",
       "      <td>0</td>\n",
       "      <td>M</td>\n",
       "      <td>сотрудник</td>\n",
       "      <td>0</td>\n",
       "      <td>145885</td>\n",
       "      <td>покупка жилья</td>\n",
       "      <td>недвижимость</td>\n",
       "      <td>средний</td>\n",
       "      <td>нет детей</td>\n",
       "    </tr>\n",
       "    <tr>\n",
       "      <th>3</th>\n",
       "      <td>3</td>\n",
       "      <td>11</td>\n",
       "      <td>32</td>\n",
       "      <td>среднее</td>\n",
       "      <td>1</td>\n",
       "      <td>женат / замужем</td>\n",
       "      <td>0</td>\n",
       "      <td>M</td>\n",
       "      <td>сотрудник</td>\n",
       "      <td>0</td>\n",
       "      <td>267628</td>\n",
       "      <td>дополнительное образование</td>\n",
       "      <td>образование</td>\n",
       "      <td>высокий</td>\n",
       "      <td>есть дети</td>\n",
       "    </tr>\n",
       "    <tr>\n",
       "      <th>4</th>\n",
       "      <td>0</td>\n",
       "      <td>38</td>\n",
       "      <td>53</td>\n",
       "      <td>среднее</td>\n",
       "      <td>1</td>\n",
       "      <td>гражданский брак</td>\n",
       "      <td>1</td>\n",
       "      <td>F</td>\n",
       "      <td>пенсионер</td>\n",
       "      <td>0</td>\n",
       "      <td>158616</td>\n",
       "      <td>сыграть свадьбу</td>\n",
       "      <td>свадьба</td>\n",
       "      <td>средний</td>\n",
       "      <td>нет детей</td>\n",
       "    </tr>\n",
       "  </tbody>\n",
       "</table>\n",
       "</div>"
      ],
      "text/plain": [
       "   children  days_employed  dob_years education  education_id  \\\n",
       "0         1             23         42    высшее             0   \n",
       "1         1             11         36   среднее             1   \n",
       "2         0             15         33   среднее             1   \n",
       "3         3             11         32   среднее             1   \n",
       "4         0             38         53   среднее             1   \n",
       "\n",
       "      family_status  family_status_id gender income_type  debt  total_income  \\\n",
       "0   женат / замужем                 0      F   сотрудник     0        253875   \n",
       "1   женат / замужем                 0      F   сотрудник     0        112080   \n",
       "2   женат / замужем                 0      M   сотрудник     0        145885   \n",
       "3   женат / замужем                 0      M   сотрудник     0        267628   \n",
       "4  гражданский брак                 1      F   пенсионер     0        158616   \n",
       "\n",
       "                      purpose   purpose_new total_income_group children_group  \n",
       "0               покупка жилья  недвижимость            высокий      есть дети  \n",
       "1     приобретение автомобиля    автомобиль             низкий      есть дети  \n",
       "2               покупка жилья  недвижимость            средний      нет детей  \n",
       "3  дополнительное образование   образование            высокий      есть дети  \n",
       "4             сыграть свадьбу       свадьба            средний      нет детей  "
      ]
     },
     "execution_count": 20,
     "metadata": {},
     "output_type": "execute_result"
    }
   ],
   "source": [
    "def children_group(children):\n",
    "    if children == 0:\n",
    "        return 'нет детей'\n",
    "    if children >= 0:\n",
    "        return 'есть дети'\n",
    "data['children_group'] = data['children'].apply(children_group)\n",
    "data.head()"
   ]
  },
  {
   "cell_type": "markdown",
   "metadata": {},
   "source": [
    "Данные в таблице уже были категоризированы по семейному положению и образованию. Ниже приведены словари:"
   ]
  },
  {
   "cell_type": "code",
   "execution_count": 21,
   "metadata": {},
   "outputs": [
    {
     "data": {
      "text/html": [
       "<div>\n",
       "<style scoped>\n",
       "    .dataframe tbody tr th:only-of-type {\n",
       "        vertical-align: middle;\n",
       "    }\n",
       "\n",
       "    .dataframe tbody tr th {\n",
       "        vertical-align: top;\n",
       "    }\n",
       "\n",
       "    .dataframe thead th {\n",
       "        text-align: right;\n",
       "    }\n",
       "</style>\n",
       "<table border=\"1\" class=\"dataframe\">\n",
       "  <thead>\n",
       "    <tr style=\"text-align: right;\">\n",
       "      <th></th>\n",
       "      <th>family_status_id</th>\n",
       "      <th>family_status</th>\n",
       "    </tr>\n",
       "  </thead>\n",
       "  <tbody>\n",
       "    <tr>\n",
       "      <th>0</th>\n",
       "      <td>0</td>\n",
       "      <td>женат / замужем</td>\n",
       "    </tr>\n",
       "    <tr>\n",
       "      <th>1</th>\n",
       "      <td>1</td>\n",
       "      <td>гражданский брак</td>\n",
       "    </tr>\n",
       "    <tr>\n",
       "      <th>2</th>\n",
       "      <td>2</td>\n",
       "      <td>вдовец / вдова</td>\n",
       "    </tr>\n",
       "    <tr>\n",
       "      <th>3</th>\n",
       "      <td>3</td>\n",
       "      <td>в разводе</td>\n",
       "    </tr>\n",
       "    <tr>\n",
       "      <th>4</th>\n",
       "      <td>4</td>\n",
       "      <td>Не женат / не замужем</td>\n",
       "    </tr>\n",
       "  </tbody>\n",
       "</table>\n",
       "</div>"
      ],
      "text/plain": [
       "   family_status_id          family_status\n",
       "0                 0        женат / замужем\n",
       "1                 1       гражданский брак\n",
       "2                 2         вдовец / вдова\n",
       "3                 3              в разводе\n",
       "4                 4  Не женат / не замужем"
      ]
     },
     "execution_count": 21,
     "metadata": {},
     "output_type": "execute_result"
    }
   ],
   "source": [
    "family_status_dict = data[['family_status_id', 'family_status']].drop_duplicates().reset_index(drop=True)\n",
    "family_status_dict.head(10)"
   ]
  },
  {
   "cell_type": "code",
   "execution_count": 22,
   "metadata": {},
   "outputs": [
    {
     "data": {
      "text/html": [
       "<div>\n",
       "<style scoped>\n",
       "    .dataframe tbody tr th:only-of-type {\n",
       "        vertical-align: middle;\n",
       "    }\n",
       "\n",
       "    .dataframe tbody tr th {\n",
       "        vertical-align: top;\n",
       "    }\n",
       "\n",
       "    .dataframe thead th {\n",
       "        text-align: right;\n",
       "    }\n",
       "</style>\n",
       "<table border=\"1\" class=\"dataframe\">\n",
       "  <thead>\n",
       "    <tr style=\"text-align: right;\">\n",
       "      <th></th>\n",
       "      <th>education_id</th>\n",
       "      <th>education</th>\n",
       "    </tr>\n",
       "  </thead>\n",
       "  <tbody>\n",
       "    <tr>\n",
       "      <th>0</th>\n",
       "      <td>0</td>\n",
       "      <td>высшее</td>\n",
       "    </tr>\n",
       "    <tr>\n",
       "      <th>1</th>\n",
       "      <td>1</td>\n",
       "      <td>среднее</td>\n",
       "    </tr>\n",
       "    <tr>\n",
       "      <th>2</th>\n",
       "      <td>2</td>\n",
       "      <td>неоконченное высшее</td>\n",
       "    </tr>\n",
       "    <tr>\n",
       "      <th>3</th>\n",
       "      <td>3</td>\n",
       "      <td>начальное</td>\n",
       "    </tr>\n",
       "    <tr>\n",
       "      <th>4</th>\n",
       "      <td>4</td>\n",
       "      <td>ученая степень</td>\n",
       "    </tr>\n",
       "  </tbody>\n",
       "</table>\n",
       "</div>"
      ],
      "text/plain": [
       "   education_id            education\n",
       "0             0               высшее\n",
       "1             1              среднее\n",
       "2             2  неоконченное высшее\n",
       "3             3            начальное\n",
       "4             4       ученая степень"
      ]
     },
     "execution_count": 22,
     "metadata": {},
     "output_type": "execute_result"
    }
   ],
   "source": [
    "education_dict = data[['education_id', 'education']].drop_duplicates().reset_index(drop=True)\n",
    "education_dict.head(10)"
   ]
  },
  {
   "cell_type": "markdown",
   "metadata": {},
   "source": [
    "**Вывод**"
   ]
  },
  {
   "cell_type": "markdown",
   "metadata": {},
   "source": [
    "Проблемы в данных устранены и данные категоризированы. Можно приступать к ответам на вопросы."
   ]
  },
  {
   "cell_type": "markdown",
   "metadata": {},
   "source": [
    "## Шаг 3. Ответьте на вопросы"
   ]
  },
  {
   "cell_type": "markdown",
   "metadata": {},
   "source": [
    "- Есть ли зависимость между наличием детей и возвратом кредита в срок?"
   ]
  },
  {
   "cell_type": "code",
   "execution_count": 23,
   "metadata": {},
   "outputs": [
    {
     "data": {
      "text/html": [
       "<style  type=\"text/css\" >\n",
       "</style><table id=\"T_0e825_\" ><thead>    <tr>        <th class=\"blank level0\" ></th>        <th class=\"col_heading level0 col0\" >debt</th>        <th class=\"col_heading level0 col1\" >total</th>        <th class=\"col_heading level0 col2\" >%</th>    </tr>    <tr>        <th class=\"index_name level0\" >children_group</th>        <th class=\"blank\" ></th>        <th class=\"blank\" ></th>        <th class=\"blank\" ></th>    </tr></thead><tbody>\n",
       "                <tr>\n",
       "                        <th id=\"T_0e825_level0_row0\" class=\"row_heading level0 row0\" >есть дети</th>\n",
       "                        <td id=\"T_0e825_row0_col0\" class=\"data row0 col0\" >678</td>\n",
       "                        <td id=\"T_0e825_row0_col1\" class=\"data row0 col1\" >7363</td>\n",
       "                        <td id=\"T_0e825_row0_col2\" class=\"data row0 col2\" >9.21%</td>\n",
       "            </tr>\n",
       "            <tr>\n",
       "                        <th id=\"T_0e825_level0_row1\" class=\"row_heading level0 row1\" >нет детей</th>\n",
       "                        <td id=\"T_0e825_row1_col0\" class=\"data row1 col0\" >1063</td>\n",
       "                        <td id=\"T_0e825_row1_col1\" class=\"data row1 col1\" >14091</td>\n",
       "                        <td id=\"T_0e825_row1_col2\" class=\"data row1 col2\" >7.54%</td>\n",
       "            </tr>\n",
       "    </tbody></table>"
      ],
      "text/plain": [
       "<pandas.io.formats.style.Styler at 0x7eff7812b190>"
      ]
     },
     "execution_count": 23,
     "metadata": {},
     "output_type": "execute_result"
    }
   ],
   "source": [
    "data_grouped_children = data.pivot_table(index=['children_group'], values='debt', aggfunc=['sum', 'count', 'mean'])\n",
    "data_grouped_children.columns = ['debt', 'total', '%']\n",
    "data_grouped_children = data_grouped_children.sort_values(by = '%', ascending = False)\n",
    "data_grouped_children.style.format({'%': '{:.2%}'})"
   ]
  },
  {
   "cell_type": "markdown",
   "metadata": {},
   "source": [
    "**Вывод**"
   ]
  },
  {
   "cell_type": "markdown",
   "metadata": {},
   "source": [
    "Процент клиентов, имеющих задолженность по кредитам, среди тех, у кого есть дети, выше, чем у клиентов, у которых нет детей."
   ]
  },
  {
   "cell_type": "markdown",
   "metadata": {},
   "source": [
    "- Есть ли зависимость между семейным положением и возвратом кредита в срок?"
   ]
  },
  {
   "cell_type": "code",
   "execution_count": 24,
   "metadata": {},
   "outputs": [
    {
     "data": {
      "text/html": [
       "<div>\n",
       "<style scoped>\n",
       "    .dataframe tbody tr th:only-of-type {\n",
       "        vertical-align: middle;\n",
       "    }\n",
       "\n",
       "    .dataframe tbody tr th {\n",
       "        vertical-align: top;\n",
       "    }\n",
       "\n",
       "    .dataframe thead th {\n",
       "        text-align: right;\n",
       "    }\n",
       "</style>\n",
       "<table border=\"1\" class=\"dataframe\">\n",
       "  <thead>\n",
       "    <tr style=\"text-align: right;\">\n",
       "      <th></th>\n",
       "      <th>debt</th>\n",
       "      <th>total</th>\n",
       "      <th>%</th>\n",
       "    </tr>\n",
       "    <tr>\n",
       "      <th>family_status</th>\n",
       "      <th></th>\n",
       "      <th></th>\n",
       "      <th></th>\n",
       "    </tr>\n",
       "  </thead>\n",
       "  <tbody>\n",
       "    <tr>\n",
       "      <th>Не женат / не замужем</th>\n",
       "      <td>274</td>\n",
       "      <td>2810</td>\n",
       "      <td>0.097509</td>\n",
       "    </tr>\n",
       "    <tr>\n",
       "      <th>гражданский брак</th>\n",
       "      <td>388</td>\n",
       "      <td>4151</td>\n",
       "      <td>0.093471</td>\n",
       "    </tr>\n",
       "    <tr>\n",
       "      <th>женат / замужем</th>\n",
       "      <td>931</td>\n",
       "      <td>12339</td>\n",
       "      <td>0.075452</td>\n",
       "    </tr>\n",
       "    <tr>\n",
       "      <th>в разводе</th>\n",
       "      <td>85</td>\n",
       "      <td>1195</td>\n",
       "      <td>0.071130</td>\n",
       "    </tr>\n",
       "    <tr>\n",
       "      <th>вдовец / вдова</th>\n",
       "      <td>63</td>\n",
       "      <td>959</td>\n",
       "      <td>0.065693</td>\n",
       "    </tr>\n",
       "  </tbody>\n",
       "</table>\n",
       "</div>"
      ],
      "text/plain": [
       "                       debt  total         %\n",
       "family_status                               \n",
       "Не женат / не замужем   274   2810  0.097509\n",
       "гражданский брак        388   4151  0.093471\n",
       "женат / замужем         931  12339  0.075452\n",
       "в разводе                85   1195  0.071130\n",
       "вдовец / вдова           63    959  0.065693"
      ]
     },
     "execution_count": 24,
     "metadata": {},
     "output_type": "execute_result"
    }
   ],
   "source": [
    "data_grouped_family_status = data.pivot_table(index=['family_status'], values='debt', aggfunc=['sum', 'count', 'mean'])\n",
    "data_grouped_family_status.columns = ['debt', 'total', '%']\n",
    "data_grouped_family_status = data_grouped_family_status.sort_values(by = '%', ascending = False)\n",
    "data_grouped_family_status"
   ]
  },
  {
   "cell_type": "markdown",
   "metadata": {},
   "source": [
    "**Вывод**"
   ]
  },
  {
   "cell_type": "markdown",
   "metadata": {},
   "source": [
    "Процент клиентов, имеющих задолженность по кредитам, среди клиентов никогда не состоящих в официальном браке, выше, чем у клиентов, которые состоят или состояли в официальном браке."
   ]
  },
  {
   "cell_type": "markdown",
   "metadata": {},
   "source": [
    "- Есть ли зависимость между уровнем дохода и возвратом кредита в срок?"
   ]
  },
  {
   "cell_type": "code",
   "execution_count": 25,
   "metadata": {},
   "outputs": [
    {
     "data": {
      "text/html": [
       "<div>\n",
       "<style scoped>\n",
       "    .dataframe tbody tr th:only-of-type {\n",
       "        vertical-align: middle;\n",
       "    }\n",
       "\n",
       "    .dataframe tbody tr th {\n",
       "        vertical-align: top;\n",
       "    }\n",
       "\n",
       "    .dataframe thead th {\n",
       "        text-align: right;\n",
       "    }\n",
       "</style>\n",
       "<table border=\"1\" class=\"dataframe\">\n",
       "  <thead>\n",
       "    <tr style=\"text-align: right;\">\n",
       "      <th></th>\n",
       "      <th>debt</th>\n",
       "      <th>total</th>\n",
       "      <th>%</th>\n",
       "    </tr>\n",
       "    <tr>\n",
       "      <th>total_income_group</th>\n",
       "      <th></th>\n",
       "      <th></th>\n",
       "      <th></th>\n",
       "    </tr>\n",
       "  </thead>\n",
       "  <tbody>\n",
       "    <tr>\n",
       "      <th>средний</th>\n",
       "      <td>578</td>\n",
       "      <td>6505</td>\n",
       "      <td>0.088855</td>\n",
       "    </tr>\n",
       "    <tr>\n",
       "      <th>низкий</th>\n",
       "      <td>586</td>\n",
       "      <td>7231</td>\n",
       "      <td>0.081040</td>\n",
       "    </tr>\n",
       "    <tr>\n",
       "      <th>высокий</th>\n",
       "      <td>577</td>\n",
       "      <td>7718</td>\n",
       "      <td>0.074760</td>\n",
       "    </tr>\n",
       "  </tbody>\n",
       "</table>\n",
       "</div>"
      ],
      "text/plain": [
       "                    debt  total         %\n",
       "total_income_group                       \n",
       "средний              578   6505  0.088855\n",
       "низкий               586   7231  0.081040\n",
       "высокий              577   7718  0.074760"
      ]
     },
     "execution_count": 25,
     "metadata": {},
     "output_type": "execute_result"
    }
   ],
   "source": [
    "data_grouped_total_income = data.pivot_table(index=['total_income_group'], values='debt', aggfunc=['sum', 'count', 'mean'])\n",
    "data_grouped_total_income.columns = ['debt', 'total', '%']\n",
    "data_grouped_total_income = data_grouped_total_income.sort_values(by = '%', ascending = False)\n",
    "data_grouped_total_income"
   ]
  },
  {
   "cell_type": "markdown",
   "metadata": {},
   "source": [
    "**Вывод**"
   ]
  },
  {
   "cell_type": "markdown",
   "metadata": {},
   "source": [
    "По полученным результатам, клиенты с высоким доходом имеют самый маленький процент задолженностей, у клиентов с низким доходом этот процент чуть выше, а клиенты со средним доходом имеют самый большой процент задолженностей. Однако процентная разница довольно мала."
   ]
  },
  {
   "cell_type": "markdown",
   "metadata": {},
   "source": [
    "- Как разные цели кредита влияют на его возврат в срок?"
   ]
  },
  {
   "cell_type": "code",
   "execution_count": 26,
   "metadata": {},
   "outputs": [
    {
     "data": {
      "text/html": [
       "<div>\n",
       "<style scoped>\n",
       "    .dataframe tbody tr th:only-of-type {\n",
       "        vertical-align: middle;\n",
       "    }\n",
       "\n",
       "    .dataframe tbody tr th {\n",
       "        vertical-align: top;\n",
       "    }\n",
       "\n",
       "    .dataframe thead th {\n",
       "        text-align: right;\n",
       "    }\n",
       "</style>\n",
       "<table border=\"1\" class=\"dataframe\">\n",
       "  <thead>\n",
       "    <tr style=\"text-align: right;\">\n",
       "      <th></th>\n",
       "      <th>debt</th>\n",
       "      <th>total</th>\n",
       "      <th>%</th>\n",
       "    </tr>\n",
       "    <tr>\n",
       "      <th>purpose_new</th>\n",
       "      <th></th>\n",
       "      <th></th>\n",
       "      <th></th>\n",
       "    </tr>\n",
       "  </thead>\n",
       "  <tbody>\n",
       "    <tr>\n",
       "      <th>автомобиль</th>\n",
       "      <td>403</td>\n",
       "      <td>4306</td>\n",
       "      <td>0.093590</td>\n",
       "    </tr>\n",
       "    <tr>\n",
       "      <th>образование</th>\n",
       "      <td>370</td>\n",
       "      <td>4013</td>\n",
       "      <td>0.092200</td>\n",
       "    </tr>\n",
       "    <tr>\n",
       "      <th>свадьба</th>\n",
       "      <td>186</td>\n",
       "      <td>2324</td>\n",
       "      <td>0.080034</td>\n",
       "    </tr>\n",
       "    <tr>\n",
       "      <th>недвижимость</th>\n",
       "      <td>782</td>\n",
       "      <td>10811</td>\n",
       "      <td>0.072334</td>\n",
       "    </tr>\n",
       "  </tbody>\n",
       "</table>\n",
       "</div>"
      ],
      "text/plain": [
       "              debt  total         %\n",
       "purpose_new                        \n",
       "автомобиль     403   4306  0.093590\n",
       "образование    370   4013  0.092200\n",
       "свадьба        186   2324  0.080034\n",
       "недвижимость   782  10811  0.072334"
      ]
     },
     "execution_count": 26,
     "metadata": {},
     "output_type": "execute_result"
    }
   ],
   "source": [
    "data_grouped_purpose = data.pivot_table(index=['purpose_new'], values='debt', aggfunc=['sum', 'count', 'mean'])\n",
    "data_grouped_purpose.columns = ['debt', 'total', '%']\n",
    "data_grouped_purpose = data_grouped_purpose.sort_values(by = '%', ascending = False)\n",
    "data_grouped_purpose"
   ]
  },
  {
   "cell_type": "markdown",
   "metadata": {},
   "source": [
    "Кредиты, взятые на автомобили и образование, возвращают хуже, чем кредиты на свадьбы и недвижимость. Недвижимость - самая надежная категория."
   ]
  },
  {
   "cell_type": "markdown",
   "metadata": {},
   "source": [
    "Дополнительно можно посмотреть есть ли зависимость между образованием и возвратом кредита в срок, а также между типом занятости и возвратом кредита в срок:"
   ]
  },
  {
   "cell_type": "code",
   "execution_count": 27,
   "metadata": {},
   "outputs": [
    {
     "data": {
      "text/html": [
       "<div>\n",
       "<style scoped>\n",
       "    .dataframe tbody tr th:only-of-type {\n",
       "        vertical-align: middle;\n",
       "    }\n",
       "\n",
       "    .dataframe tbody tr th {\n",
       "        vertical-align: top;\n",
       "    }\n",
       "\n",
       "    .dataframe thead th {\n",
       "        text-align: right;\n",
       "    }\n",
       "</style>\n",
       "<table border=\"1\" class=\"dataframe\">\n",
       "  <thead>\n",
       "    <tr style=\"text-align: right;\">\n",
       "      <th></th>\n",
       "      <th>debt</th>\n",
       "      <th>total</th>\n",
       "      <th>%</th>\n",
       "    </tr>\n",
       "    <tr>\n",
       "      <th>education</th>\n",
       "      <th></th>\n",
       "      <th></th>\n",
       "      <th></th>\n",
       "    </tr>\n",
       "  </thead>\n",
       "  <tbody>\n",
       "    <tr>\n",
       "      <th>начальное</th>\n",
       "      <td>31</td>\n",
       "      <td>282</td>\n",
       "      <td>0.109929</td>\n",
       "    </tr>\n",
       "    <tr>\n",
       "      <th>неоконченное высшее</th>\n",
       "      <td>68</td>\n",
       "      <td>744</td>\n",
       "      <td>0.091398</td>\n",
       "    </tr>\n",
       "    <tr>\n",
       "      <th>среднее</th>\n",
       "      <td>1364</td>\n",
       "      <td>15172</td>\n",
       "      <td>0.089902</td>\n",
       "    </tr>\n",
       "    <tr>\n",
       "      <th>высшее</th>\n",
       "      <td>278</td>\n",
       "      <td>5250</td>\n",
       "      <td>0.052952</td>\n",
       "    </tr>\n",
       "    <tr>\n",
       "      <th>ученая степень</th>\n",
       "      <td>0</td>\n",
       "      <td>6</td>\n",
       "      <td>0.000000</td>\n",
       "    </tr>\n",
       "  </tbody>\n",
       "</table>\n",
       "</div>"
      ],
      "text/plain": [
       "                     debt  total         %\n",
       "education                                 \n",
       "начальное              31    282  0.109929\n",
       "неоконченное высшее    68    744  0.091398\n",
       "среднее              1364  15172  0.089902\n",
       "высшее                278   5250  0.052952\n",
       "ученая степень          0      6  0.000000"
      ]
     },
     "execution_count": 27,
     "metadata": {},
     "output_type": "execute_result"
    }
   ],
   "source": [
    "data_grouped_education = data.pivot_table(index=['education'], values='debt', aggfunc=['sum', 'count', 'mean'])\n",
    "data_grouped_education.columns = ['debt', 'total', '%']\n",
    "data_grouped_education = data_grouped_education.sort_values(by = '%', ascending = False)\n",
    "data_grouped_education"
   ]
  },
  {
   "cell_type": "markdown",
   "metadata": {},
   "source": [
    "**Вывод**"
   ]
  },
  {
   "cell_type": "markdown",
   "metadata": {},
   "source": [
    "Здесь прослеживается зависимость процента задолженностей от уровня образования клиентов. Чем выше уровень образования, тем ниже процент зодолженностей по кредитам."
   ]
  },
  {
   "cell_type": "code",
   "execution_count": 28,
   "metadata": {},
   "outputs": [
    {
     "data": {
      "text/html": [
       "<div>\n",
       "<style scoped>\n",
       "    .dataframe tbody tr th:only-of-type {\n",
       "        vertical-align: middle;\n",
       "    }\n",
       "\n",
       "    .dataframe tbody tr th {\n",
       "        vertical-align: top;\n",
       "    }\n",
       "\n",
       "    .dataframe thead th {\n",
       "        text-align: right;\n",
       "    }\n",
       "</style>\n",
       "<table border=\"1\" class=\"dataframe\">\n",
       "  <thead>\n",
       "    <tr style=\"text-align: right;\">\n",
       "      <th></th>\n",
       "      <th>debt</th>\n",
       "      <th>total</th>\n",
       "      <th>%</th>\n",
       "    </tr>\n",
       "    <tr>\n",
       "      <th>income_type</th>\n",
       "      <th></th>\n",
       "      <th></th>\n",
       "      <th></th>\n",
       "    </tr>\n",
       "  </thead>\n",
       "  <tbody>\n",
       "    <tr>\n",
       "      <th>в декрете</th>\n",
       "      <td>1</td>\n",
       "      <td>1</td>\n",
       "      <td>1.000000</td>\n",
       "    </tr>\n",
       "    <tr>\n",
       "      <th>безработный</th>\n",
       "      <td>1</td>\n",
       "      <td>2</td>\n",
       "      <td>0.500000</td>\n",
       "    </tr>\n",
       "    <tr>\n",
       "      <th>сотрудник</th>\n",
       "      <td>1061</td>\n",
       "      <td>11084</td>\n",
       "      <td>0.095724</td>\n",
       "    </tr>\n",
       "    <tr>\n",
       "      <th>компаньон</th>\n",
       "      <td>376</td>\n",
       "      <td>5078</td>\n",
       "      <td>0.074045</td>\n",
       "    </tr>\n",
       "    <tr>\n",
       "      <th>госслужащий</th>\n",
       "      <td>86</td>\n",
       "      <td>1457</td>\n",
       "      <td>0.059025</td>\n",
       "    </tr>\n",
       "    <tr>\n",
       "      <th>пенсионер</th>\n",
       "      <td>216</td>\n",
       "      <td>3829</td>\n",
       "      <td>0.056412</td>\n",
       "    </tr>\n",
       "    <tr>\n",
       "      <th>предприниматель</th>\n",
       "      <td>0</td>\n",
       "      <td>2</td>\n",
       "      <td>0.000000</td>\n",
       "    </tr>\n",
       "    <tr>\n",
       "      <th>студент</th>\n",
       "      <td>0</td>\n",
       "      <td>1</td>\n",
       "      <td>0.000000</td>\n",
       "    </tr>\n",
       "  </tbody>\n",
       "</table>\n",
       "</div>"
      ],
      "text/plain": [
       "                 debt  total         %\n",
       "income_type                           \n",
       "в декрете           1      1  1.000000\n",
       "безработный         1      2  0.500000\n",
       "сотрудник        1061  11084  0.095724\n",
       "компаньон         376   5078  0.074045\n",
       "госслужащий        86   1457  0.059025\n",
       "пенсионер         216   3829  0.056412\n",
       "предприниматель     0      2  0.000000\n",
       "студент             0      1  0.000000"
      ]
     },
     "execution_count": 28,
     "metadata": {},
     "output_type": "execute_result"
    }
   ],
   "source": [
    "data_grouped_income_type = data.pivot_table(index=['income_type'], values='debt', aggfunc=['sum', 'count', 'mean'])\n",
    "data_grouped_income_type.columns = ['debt', 'total', '%']\n",
    "data_grouped_income_type = data_grouped_income_type.sort_values(by = '%', ascending = False)\n",
    "data_grouped_income_type"
   ]
  },
  {
   "cell_type": "markdown",
   "metadata": {},
   "source": [
    "**Вывод**"
   ]
  },
  {
   "cell_type": "markdown",
   "metadata": {},
   "source": [
    "Госслужащие и пенсионеры имеют меньше задолженностей по кредитам, чем сотрудники и компаньоны. \n",
    "У клиентов, находящихся в декрете, не имеющих работы, предпринимателей и студентов невозможно проследить зависимость, так как в данных слишком маленькая выборка."
   ]
  },
  {
   "cell_type": "markdown",
   "metadata": {},
   "source": [
    "## Шаг 4. Общий вывод"
   ]
  },
  {
   "cell_type": "markdown",
   "metadata": {},
   "source": [
    "В процессе исследавания предоставленные данные были обработаны. В некоторых столбцах были обнаружены данные в неверном формате (дни стажа в часах). Пропуски в ежемесячном доходе и трудовом стаже были заполнены медианными значениями в зависимости от типа занятости клиента. Были найдены отрицательные значения и взяты по модулю. Такие пробелмы могли произойти при объединения данных из разных систем.\n",
    "Данные были разделены на категории, причины взятия кредита были лемматизированы для удобства представления и дальнейшего анализа."
   ]
  },
  {
   "cell_type": "markdown",
   "metadata": {},
   "source": [
    "**Рекомендации**"
   ]
  },
  {
   "cell_type": "markdown",
   "metadata": {},
   "source": [
    "Прошу обратить внимание на следущие проблемы в данных:\n",
    "- пропуски в столбцах 'total_income' и 'days_employed'\n",
    "- отрицательные значения в столбцах 'total_income' и 'children'\n",
    "- вещественный тип данных в столбцах 'total_income' и 'days_employed'\n",
    "- неверный формат в столбце'days_employed'\n",
    "- дубликаты по регистру в столбце 'education' \n",
    "- общие дубликаты в таблице"
   ]
  },
  {
   "cell_type": "markdown",
   "metadata": {},
   "source": [
    "**Вывод**"
   ]
  },
  {
   "cell_type": "markdown",
   "metadata": {},
   "source": [
    "По результатам исследования были установлены зависимости по каждой из категорий, каждая из которых поможет оценить способность потенциального заёмщика вернуть кредит банку."
   ]
  }
 ],
 "metadata": {
  "ExecuteTimeLog": [
   {
    "duration": 3002,
    "start_time": "2021-10-22T14:51:11.607Z"
   },
   {
    "duration": 335,
    "start_time": "2021-10-22T14:51:22.023Z"
   },
   {
    "duration": 270,
    "start_time": "2021-10-22T15:22:40.078Z"
   },
   {
    "duration": 288,
    "start_time": "2021-10-22T15:22:51.278Z"
   },
   {
    "duration": 310,
    "start_time": "2021-10-22T15:23:39.796Z"
   },
   {
    "duration": 2391,
    "start_time": "2021-10-22T15:23:49.019Z"
   },
   {
    "duration": -344,
    "start_time": "2021-10-22T15:23:51.757Z"
   },
   {
    "duration": -346,
    "start_time": "2021-10-22T15:23:51.760Z"
   },
   {
    "duration": -347,
    "start_time": "2021-10-22T15:23:51.762Z"
   },
   {
    "duration": -352,
    "start_time": "2021-10-22T15:23:51.769Z"
   },
   {
    "duration": -354,
    "start_time": "2021-10-22T15:23:51.772Z"
   },
   {
    "duration": -355,
    "start_time": "2021-10-22T15:23:51.774Z"
   },
   {
    "duration": -357,
    "start_time": "2021-10-22T15:23:51.777Z"
   },
   {
    "duration": -358,
    "start_time": "2021-10-22T15:23:51.780Z"
   },
   {
    "duration": -359,
    "start_time": "2021-10-22T15:23:51.782Z"
   },
   {
    "duration": -361,
    "start_time": "2021-10-22T15:23:51.785Z"
   },
   {
    "duration": -362,
    "start_time": "2021-10-22T15:23:51.787Z"
   },
   {
    "duration": -363,
    "start_time": "2021-10-22T15:23:51.790Z"
   },
   {
    "duration": -369,
    "start_time": "2021-10-22T15:23:51.797Z"
   },
   {
    "duration": -373,
    "start_time": "2021-10-22T15:23:51.802Z"
   },
   {
    "duration": -373,
    "start_time": "2021-10-22T15:23:51.803Z"
   },
   {
    "duration": -374,
    "start_time": "2021-10-22T15:23:51.805Z"
   },
   {
    "duration": -374,
    "start_time": "2021-10-22T15:23:51.807Z"
   },
   {
    "duration": -375,
    "start_time": "2021-10-22T15:23:51.809Z"
   },
   {
    "duration": 391,
    "start_time": "2021-10-22T15:23:59.312Z"
   },
   {
    "duration": 197,
    "start_time": "2021-10-22T15:25:35.473Z"
   },
   {
    "duration": 16,
    "start_time": "2021-10-22T15:25:35.673Z"
   },
   {
    "duration": 23,
    "start_time": "2021-10-22T15:25:35.692Z"
   },
   {
    "duration": 20,
    "start_time": "2021-10-22T15:25:35.718Z"
   },
   {
    "duration": 5,
    "start_time": "2021-10-22T15:25:35.740Z"
   },
   {
    "duration": 46,
    "start_time": "2021-10-22T15:25:35.748Z"
   },
   {
    "duration": 6,
    "start_time": "2021-10-22T15:25:35.797Z"
   },
   {
    "duration": 8,
    "start_time": "2021-10-22T15:25:35.807Z"
   },
   {
    "duration": 8,
    "start_time": "2021-10-22T15:25:35.818Z"
   },
   {
    "duration": 7,
    "start_time": "2021-10-22T15:25:35.828Z"
   },
   {
    "duration": 57,
    "start_time": "2021-10-22T15:25:35.837Z"
   },
   {
    "duration": 6,
    "start_time": "2021-10-22T15:25:35.896Z"
   },
   {
    "duration": 19,
    "start_time": "2021-10-22T15:25:35.905Z"
   },
   {
    "duration": 9,
    "start_time": "2021-10-22T15:25:35.927Z"
   },
   {
    "duration": 14,
    "start_time": "2021-10-22T15:25:35.938Z"
   },
   {
    "duration": 18,
    "start_time": "2021-10-22T15:25:35.983Z"
   },
   {
    "duration": 10,
    "start_time": "2021-10-22T15:25:36.004Z"
   },
   {
    "duration": 32,
    "start_time": "2021-10-22T15:25:36.017Z"
   },
   {
    "duration": 933,
    "start_time": "2021-10-22T15:25:36.051Z"
   },
   {
    "duration": 319,
    "start_time": "2021-10-22T15:25:59.038Z"
   },
   {
    "duration": 249,
    "start_time": "2021-10-22T15:29:28.914Z"
   },
   {
    "duration": 311,
    "start_time": "2021-10-22T15:30:25.334Z"
   },
   {
    "duration": 3803,
    "start_time": "2021-10-22T15:30:56.327Z"
   },
   {
    "duration": 2428,
    "start_time": "2021-10-22T15:31:03.775Z"
   },
   {
    "duration": 2299,
    "start_time": "2021-10-22T15:32:07.375Z"
   },
   {
    "duration": 284,
    "start_time": "2021-10-22T15:32:15.088Z"
   },
   {
    "duration": 363,
    "start_time": "2021-10-22T15:32:26.207Z"
   },
   {
    "duration": 330,
    "start_time": "2021-10-22T15:32:28.972Z"
   },
   {
    "duration": 305,
    "start_time": "2021-10-22T15:32:34.139Z"
   },
   {
    "duration": 103,
    "start_time": "2021-10-22T15:32:53.049Z"
   },
   {
    "duration": 3001,
    "start_time": "2021-10-22T15:33:01.966Z"
   },
   {
    "duration": 2340,
    "start_time": "2021-10-22T15:33:17.445Z"
   },
   {
    "duration": 24,
    "start_time": "2021-10-22T15:33:55.227Z"
   },
   {
    "duration": 2673,
    "start_time": "2021-10-22T15:34:17.004Z"
   },
   {
    "duration": 311,
    "start_time": "2021-10-22T15:49:27.074Z"
   },
   {
    "duration": 3683,
    "start_time": "2021-10-22T15:49:41.308Z"
   },
   {
    "duration": 3732,
    "start_time": "2021-10-22T15:50:01.878Z"
   },
   {
    "duration": 3841,
    "start_time": "2021-10-22T15:50:58.111Z"
   },
   {
    "duration": 7,
    "start_time": "2021-10-22T16:11:54.856Z"
   },
   {
    "duration": 10,
    "start_time": "2021-10-22T16:13:39.780Z"
   },
   {
    "duration": 6,
    "start_time": "2021-10-22T16:21:08.451Z"
   },
   {
    "duration": 7,
    "start_time": "2021-10-22T16:21:46.419Z"
   },
   {
    "duration": 6,
    "start_time": "2021-10-22T16:21:51.790Z"
   },
   {
    "duration": 7,
    "start_time": "2021-10-22T16:22:30.646Z"
   },
   {
    "duration": 6,
    "start_time": "2021-10-22T16:23:00.665Z"
   },
   {
    "duration": 6,
    "start_time": "2021-10-22T16:23:11.835Z"
   },
   {
    "duration": 442,
    "start_time": "2021-10-22T16:36:32.804Z"
   },
   {
    "duration": 334,
    "start_time": "2021-10-22T16:36:43.217Z"
   },
   {
    "duration": 8,
    "start_time": "2021-10-22T16:37:40.548Z"
   },
   {
    "duration": 6,
    "start_time": "2021-10-22T16:41:27.337Z"
   },
   {
    "duration": 12,
    "start_time": "2021-10-22T16:41:47.279Z"
   },
   {
    "duration": 14,
    "start_time": "2021-10-22T16:42:51.041Z"
   },
   {
    "duration": 34,
    "start_time": "2021-10-22T16:47:58.417Z"
   },
   {
    "duration": 12,
    "start_time": "2021-10-22T16:50:53.387Z"
   },
   {
    "duration": 30,
    "start_time": "2021-10-22T19:56:10.944Z"
   },
   {
    "duration": 10,
    "start_time": "2021-10-22T19:57:31.763Z"
   },
   {
    "duration": 9,
    "start_time": "2021-10-22T19:57:49.396Z"
   },
   {
    "duration": 29,
    "start_time": "2021-10-22T19:59:15.410Z"
   },
   {
    "duration": 10,
    "start_time": "2021-10-22T19:59:19.928Z"
   },
   {
    "duration": 32,
    "start_time": "2021-10-22T19:59:46.578Z"
   },
   {
    "duration": 10,
    "start_time": "2021-10-22T19:59:48.980Z"
   },
   {
    "duration": 32,
    "start_time": "2021-10-22T20:00:06.065Z"
   },
   {
    "duration": 32,
    "start_time": "2021-10-22T20:01:13.805Z"
   },
   {
    "duration": 10,
    "start_time": "2021-10-22T20:01:16.950Z"
   },
   {
    "duration": 28,
    "start_time": "2021-10-22T20:03:18.291Z"
   },
   {
    "duration": 41,
    "start_time": "2021-10-22T20:04:54.749Z"
   },
   {
    "duration": 35,
    "start_time": "2021-10-22T20:05:08.257Z"
   },
   {
    "duration": 37,
    "start_time": "2021-10-22T20:05:22.406Z"
   },
   {
    "duration": 24,
    "start_time": "2021-10-22T20:10:49.432Z"
   },
   {
    "duration": 342,
    "start_time": "2021-10-22T20:11:11.938Z"
   },
   {
    "duration": 16,
    "start_time": "2021-10-22T20:11:12.284Z"
   },
   {
    "duration": 14,
    "start_time": "2021-10-22T20:11:12.304Z"
   },
   {
    "duration": 21,
    "start_time": "2021-10-22T20:11:12.321Z"
   },
   {
    "duration": 6,
    "start_time": "2021-10-22T20:11:12.382Z"
   },
   {
    "duration": 19,
    "start_time": "2021-10-22T20:11:12.391Z"
   },
   {
    "duration": 7,
    "start_time": "2021-10-22T20:11:12.412Z"
   },
   {
    "duration": 57,
    "start_time": "2021-10-22T20:11:12.425Z"
   },
   {
    "duration": 9,
    "start_time": "2021-10-22T20:11:12.486Z"
   },
   {
    "duration": 8,
    "start_time": "2021-10-22T20:11:12.498Z"
   },
   {
    "duration": 21,
    "start_time": "2021-10-22T20:11:12.509Z"
   },
   {
    "duration": 63,
    "start_time": "2021-10-22T20:11:12.533Z"
   },
   {
    "duration": 34,
    "start_time": "2021-10-22T20:11:12.599Z"
   },
   {
    "duration": 6,
    "start_time": "2021-10-22T20:11:12.636Z"
   },
   {
    "duration": 44,
    "start_time": "2021-10-22T20:11:12.644Z"
   },
   {
    "duration": 12,
    "start_time": "2021-10-22T20:11:12.690Z"
   },
   {
    "duration": 6,
    "start_time": "2021-10-22T20:11:12.704Z"
   },
   {
    "duration": 21,
    "start_time": "2021-10-22T20:11:12.712Z"
   },
   {
    "duration": 6,
    "start_time": "2021-10-22T20:11:12.735Z"
   },
   {
    "duration": 26,
    "start_time": "2021-10-22T20:11:12.783Z"
   },
   {
    "duration": 3646,
    "start_time": "2021-10-22T20:11:12.811Z"
   },
   {
    "duration": 3553,
    "start_time": "2021-10-22T20:11:16.459Z"
   },
   {
    "duration": 9,
    "start_time": "2021-10-22T20:11:20.016Z"
   },
   {
    "duration": 31,
    "start_time": "2021-10-22T20:11:20.027Z"
   },
   {
    "duration": 343,
    "start_time": "2021-10-22T20:13:42.928Z"
   },
   {
    "duration": 10,
    "start_time": "2021-10-22T20:14:41.791Z"
   },
   {
    "duration": 27,
    "start_time": "2021-10-22T20:15:01.569Z"
   },
   {
    "duration": 9,
    "start_time": "2021-10-22T20:15:26.238Z"
   },
   {
    "duration": 23,
    "start_time": "2021-10-22T20:15:36.373Z"
   },
   {
    "duration": 355,
    "start_time": "2021-10-22T20:16:49.382Z"
   },
   {
    "duration": 19,
    "start_time": "2021-10-22T20:16:49.739Z"
   },
   {
    "duration": 22,
    "start_time": "2021-10-22T20:16:49.761Z"
   },
   {
    "duration": 20,
    "start_time": "2021-10-22T20:16:49.786Z"
   },
   {
    "duration": 6,
    "start_time": "2021-10-22T20:16:49.808Z"
   },
   {
    "duration": 19,
    "start_time": "2021-10-22T20:16:49.816Z"
   },
   {
    "duration": 46,
    "start_time": "2021-10-22T20:16:49.837Z"
   },
   {
    "duration": 8,
    "start_time": "2021-10-22T20:16:49.887Z"
   },
   {
    "duration": 7,
    "start_time": "2021-10-22T20:16:49.898Z"
   },
   {
    "duration": 6,
    "start_time": "2021-10-22T20:16:49.908Z"
   },
   {
    "duration": 22,
    "start_time": "2021-10-22T20:16:49.916Z"
   },
   {
    "duration": 57,
    "start_time": "2021-10-22T20:16:49.941Z"
   },
   {
    "duration": 9,
    "start_time": "2021-10-22T20:16:50.000Z"
   },
   {
    "duration": 21,
    "start_time": "2021-10-22T20:16:50.012Z"
   },
   {
    "duration": 46,
    "start_time": "2021-10-22T20:16:50.035Z"
   },
   {
    "duration": 7,
    "start_time": "2021-10-22T20:16:50.084Z"
   },
   {
    "duration": 8,
    "start_time": "2021-10-22T20:16:50.094Z"
   },
   {
    "duration": 20,
    "start_time": "2021-10-22T20:16:50.104Z"
   },
   {
    "duration": 6,
    "start_time": "2021-10-22T20:16:50.127Z"
   },
   {
    "duration": 68,
    "start_time": "2021-10-22T20:16:50.136Z"
   },
   {
    "duration": 3719,
    "start_time": "2021-10-22T20:16:50.206Z"
   },
   {
    "duration": 3841,
    "start_time": "2021-10-22T20:16:53.928Z"
   },
   {
    "duration": 12,
    "start_time": "2021-10-22T20:16:57.773Z"
   },
   {
    "duration": 32,
    "start_time": "2021-10-22T20:16:57.788Z"
   },
   {
    "duration": 601,
    "start_time": "2021-10-22T20:28:13.115Z"
   },
   {
    "duration": 12,
    "start_time": "2021-10-22T20:28:24.282Z"
   },
   {
    "duration": 16,
    "start_time": "2021-10-22T20:28:42.246Z"
   },
   {
    "duration": 18,
    "start_time": "2021-10-22T20:29:14.495Z"
   },
   {
    "duration": 31,
    "start_time": "2021-10-22T20:32:31.620Z"
   },
   {
    "duration": 34,
    "start_time": "2021-10-22T20:34:53.343Z"
   },
   {
    "duration": 272,
    "start_time": "2021-10-22T20:42:51.529Z"
   },
   {
    "duration": 16,
    "start_time": "2021-10-22T20:42:56.417Z"
   },
   {
    "duration": 306,
    "start_time": "2021-10-22T20:43:48.881Z"
   },
   {
    "duration": 16,
    "start_time": "2021-10-22T20:43:56.253Z"
   },
   {
    "duration": 323,
    "start_time": "2021-10-22T20:50:24.367Z"
   },
   {
    "duration": 20,
    "start_time": "2021-10-22T20:50:37.621Z"
   },
   {
    "duration": 290,
    "start_time": "2021-10-22T20:52:12.714Z"
   },
   {
    "duration": 44,
    "start_time": "2021-10-22T20:53:46.225Z"
   },
   {
    "duration": 44,
    "start_time": "2021-10-22T20:54:47.543Z"
   },
   {
    "duration": 42,
    "start_time": "2021-10-22T21:02:41.146Z"
   },
   {
    "duration": 45,
    "start_time": "2021-10-22T21:03:32.597Z"
   },
   {
    "duration": 42,
    "start_time": "2021-10-22T21:04:50.065Z"
   },
   {
    "duration": 55,
    "start_time": "2021-10-22T21:05:06.859Z"
   },
   {
    "duration": 42,
    "start_time": "2021-10-22T21:06:51.653Z"
   },
   {
    "duration": 43,
    "start_time": "2021-10-22T21:07:54.121Z"
   },
   {
    "duration": 45,
    "start_time": "2021-10-22T21:08:52.764Z"
   },
   {
    "duration": 47,
    "start_time": "2021-10-22T21:11:29.566Z"
   },
   {
    "duration": 49,
    "start_time": "2021-10-22T21:11:56.815Z"
   },
   {
    "duration": 44,
    "start_time": "2021-10-22T21:12:13.261Z"
   },
   {
    "duration": 42,
    "start_time": "2021-10-22T21:12:20.481Z"
   },
   {
    "duration": 44,
    "start_time": "2021-10-22T21:12:25.269Z"
   },
   {
    "duration": 44,
    "start_time": "2021-10-22T21:12:31.743Z"
   },
   {
    "duration": 40,
    "start_time": "2021-10-22T21:12:36.565Z"
   },
   {
    "duration": 45,
    "start_time": "2021-10-22T21:17:57.520Z"
   },
   {
    "duration": 43,
    "start_time": "2021-10-22T21:18:13.308Z"
   },
   {
    "duration": 432,
    "start_time": "2021-10-25T20:13:05.341Z"
   },
   {
    "duration": 373,
    "start_time": "2021-10-25T20:13:12.382Z"
   },
   {
    "duration": 454,
    "start_time": "2021-10-25T20:13:15.989Z"
   },
   {
    "duration": 372,
    "start_time": "2021-10-25T20:13:21.118Z"
   },
   {
    "duration": 1105,
    "start_time": "2021-10-25T20:14:15.738Z"
   },
   {
    "duration": 16,
    "start_time": "2021-10-25T20:14:16.846Z"
   },
   {
    "duration": 18,
    "start_time": "2021-10-25T20:14:16.865Z"
   },
   {
    "duration": 21,
    "start_time": "2021-10-25T20:14:24.888Z"
   },
   {
    "duration": 21,
    "start_time": "2021-10-25T20:14:33.713Z"
   },
   {
    "duration": 7,
    "start_time": "2021-10-25T20:15:27.614Z"
   },
   {
    "duration": 6,
    "start_time": "2021-10-25T20:23:00.885Z"
   },
   {
    "duration": 90,
    "start_time": "2021-10-25T20:23:03.095Z"
   },
   {
    "duration": 84,
    "start_time": "2021-10-25T20:23:22.412Z"
   },
   {
    "duration": 70,
    "start_time": "2021-10-25T20:25:06.945Z"
   },
   {
    "duration": 68,
    "start_time": "2021-10-25T20:25:09.213Z"
   },
   {
    "duration": 279,
    "start_time": "2021-10-25T20:25:26.244Z"
   },
   {
    "duration": 14,
    "start_time": "2021-10-25T20:25:26.525Z"
   },
   {
    "duration": 13,
    "start_time": "2021-10-25T20:25:26.541Z"
   },
   {
    "duration": 17,
    "start_time": "2021-10-25T20:25:26.557Z"
   },
   {
    "duration": 6,
    "start_time": "2021-10-25T20:25:26.601Z"
   },
   {
    "duration": 5,
    "start_time": "2021-10-25T20:25:26.609Z"
   },
   {
    "duration": 91,
    "start_time": "2021-10-25T20:25:26.616Z"
   },
   {
    "duration": 62,
    "start_time": "2021-10-25T20:26:02.052Z"
   },
   {
    "duration": 72,
    "start_time": "2021-10-25T20:26:10.748Z"
   },
   {
    "duration": 71,
    "start_time": "2021-10-25T20:26:37.714Z"
   },
   {
    "duration": 8,
    "start_time": "2021-10-25T20:26:55.811Z"
   },
   {
    "duration": 694,
    "start_time": "2021-10-25T20:29:39.311Z"
   },
   {
    "duration": 17,
    "start_time": "2021-10-25T20:29:40.007Z"
   },
   {
    "duration": 13,
    "start_time": "2021-10-25T20:29:40.027Z"
   },
   {
    "duration": 20,
    "start_time": "2021-10-25T20:29:40.043Z"
   },
   {
    "duration": 10,
    "start_time": "2021-10-25T20:29:40.105Z"
   },
   {
    "duration": 6,
    "start_time": "2021-10-25T20:29:40.118Z"
   },
   {
    "duration": 103,
    "start_time": "2021-10-25T20:29:40.127Z"
   },
   {
    "duration": 15,
    "start_time": "2021-10-25T20:29:40.234Z"
   },
   {
    "duration": 6,
    "start_time": "2021-10-25T20:29:40.252Z"
   },
   {
    "duration": 10,
    "start_time": "2021-10-25T20:29:40.261Z"
   },
   {
    "duration": 37,
    "start_time": "2021-10-25T20:29:40.274Z"
   },
   {
    "duration": 6,
    "start_time": "2021-10-25T20:29:40.313Z"
   },
   {
    "duration": 22,
    "start_time": "2021-10-25T20:29:40.323Z"
   },
   {
    "duration": 73,
    "start_time": "2021-10-25T20:29:40.348Z"
   },
   {
    "duration": 9,
    "start_time": "2021-10-25T20:29:40.424Z"
   },
   {
    "duration": 450,
    "start_time": "2021-10-25T20:29:40.435Z"
   },
   {
    "duration": 678,
    "start_time": "2021-10-25T20:29:40.211Z"
   },
   {
    "duration": 677,
    "start_time": "2021-10-25T20:29:40.213Z"
   },
   {
    "duration": 677,
    "start_time": "2021-10-25T20:29:40.216Z"
   },
   {
    "duration": 670,
    "start_time": "2021-10-25T20:29:40.225Z"
   },
   {
    "duration": 669,
    "start_time": "2021-10-25T20:29:40.228Z"
   },
   {
    "duration": 669,
    "start_time": "2021-10-25T20:29:40.230Z"
   },
   {
    "duration": 668,
    "start_time": "2021-10-25T20:29:40.232Z"
   },
   {
    "duration": 667,
    "start_time": "2021-10-25T20:29:40.235Z"
   },
   {
    "duration": 662,
    "start_time": "2021-10-25T20:29:40.242Z"
   },
   {
    "duration": 660,
    "start_time": "2021-10-25T20:29:40.245Z"
   },
   {
    "duration": 660,
    "start_time": "2021-10-25T20:29:40.247Z"
   },
   {
    "duration": 659,
    "start_time": "2021-10-25T20:29:40.249Z"
   },
   {
    "duration": 658,
    "start_time": "2021-10-25T20:29:40.252Z"
   },
   {
    "duration": 657,
    "start_time": "2021-10-25T20:29:40.259Z"
   },
   {
    "duration": 658,
    "start_time": "2021-10-25T20:29:40.261Z"
   },
   {
    "duration": 657,
    "start_time": "2021-10-25T20:29:40.263Z"
   },
   {
    "duration": 657,
    "start_time": "2021-10-25T20:29:40.265Z"
   },
   {
    "duration": 656,
    "start_time": "2021-10-25T20:29:40.267Z"
   },
   {
    "duration": 651,
    "start_time": "2021-10-25T20:29:40.274Z"
   },
   {
    "duration": 130,
    "start_time": "2021-10-25T20:41:01.380Z"
   },
   {
    "duration": 173,
    "start_time": "2021-10-25T20:41:25.048Z"
   },
   {
    "duration": 138,
    "start_time": "2021-10-25T20:44:07.793Z"
   },
   {
    "duration": 120,
    "start_time": "2021-10-25T20:44:18.885Z"
   },
   {
    "duration": 124,
    "start_time": "2021-10-25T20:44:27.562Z"
   },
   {
    "duration": 137,
    "start_time": "2021-10-25T20:44:36.608Z"
   },
   {
    "duration": 122,
    "start_time": "2021-10-25T20:44:42.998Z"
   },
   {
    "duration": 825,
    "start_time": "2021-10-25T20:45:04.881Z"
   },
   {
    "duration": 367,
    "start_time": "2021-10-25T20:46:47.209Z"
   },
   {
    "duration": 143,
    "start_time": "2021-10-25T20:47:01.698Z"
   },
   {
    "duration": 321,
    "start_time": "2021-10-25T20:49:22.498Z"
   },
   {
    "duration": 14,
    "start_time": "2021-10-25T20:49:22.821Z"
   },
   {
    "duration": 11,
    "start_time": "2021-10-25T20:49:22.839Z"
   },
   {
    "duration": 19,
    "start_time": "2021-10-25T20:49:22.853Z"
   },
   {
    "duration": 10,
    "start_time": "2021-10-25T20:49:22.905Z"
   },
   {
    "duration": 11,
    "start_time": "2021-10-25T20:49:22.919Z"
   },
   {
    "duration": 157,
    "start_time": "2021-10-25T20:49:22.933Z"
   },
   {
    "duration": 10,
    "start_time": "2021-10-25T20:49:23.094Z"
   },
   {
    "duration": 13,
    "start_time": "2021-10-25T20:49:23.107Z"
   },
   {
    "duration": 9,
    "start_time": "2021-10-25T20:49:23.122Z"
   },
   {
    "duration": 21,
    "start_time": "2021-10-25T20:49:23.133Z"
   },
   {
    "duration": 20,
    "start_time": "2021-10-25T20:49:23.157Z"
   },
   {
    "duration": 26,
    "start_time": "2021-10-25T20:49:23.204Z"
   },
   {
    "duration": 9,
    "start_time": "2021-10-25T20:49:23.232Z"
   },
   {
    "duration": 23,
    "start_time": "2021-10-25T20:49:23.244Z"
   },
   {
    "duration": 41,
    "start_time": "2021-10-25T20:49:23.269Z"
   },
   {
    "duration": 7,
    "start_time": "2021-10-25T20:49:23.313Z"
   },
   {
    "duration": 9,
    "start_time": "2021-10-25T20:49:23.322Z"
   },
   {
    "duration": 25,
    "start_time": "2021-10-25T20:49:23.333Z"
   },
   {
    "duration": 6,
    "start_time": "2021-10-25T20:49:23.360Z"
   },
   {
    "duration": 60,
    "start_time": "2021-10-25T20:49:23.368Z"
   },
   {
    "duration": 3438,
    "start_time": "2021-10-25T20:49:23.430Z"
   },
   {
    "duration": 3833,
    "start_time": "2021-10-25T20:49:26.873Z"
   },
   {
    "duration": 9,
    "start_time": "2021-10-25T20:49:30.714Z"
   },
   {
    "duration": 36,
    "start_time": "2021-10-25T20:49:30.725Z"
   },
   {
    "duration": 55,
    "start_time": "2021-10-25T20:49:30.763Z"
   },
   {
    "duration": 22,
    "start_time": "2021-10-25T20:49:30.821Z"
   },
   {
    "duration": 20,
    "start_time": "2021-10-25T20:49:30.845Z"
   },
   {
    "duration": 77,
    "start_time": "2021-10-25T20:49:30.867Z"
   },
   {
    "duration": 77,
    "start_time": "2021-10-25T20:49:30.947Z"
   },
   {
    "duration": 44,
    "start_time": "2021-10-25T20:49:31.026Z"
   },
   {
    "duration": 64,
    "start_time": "2021-10-25T20:49:31.072Z"
   },
   {
    "duration": 62,
    "start_time": "2021-10-25T20:49:31.138Z"
   },
   {
    "duration": 45,
    "start_time": "2021-10-25T20:49:31.214Z"
   },
   {
    "duration": 398,
    "start_time": "2021-10-25T20:52:16.520Z"
   },
   {
    "duration": 15,
    "start_time": "2021-10-25T20:52:16.922Z"
   },
   {
    "duration": 12,
    "start_time": "2021-10-25T20:52:16.941Z"
   },
   {
    "duration": 58,
    "start_time": "2021-10-25T20:52:16.956Z"
   },
   {
    "duration": 7,
    "start_time": "2021-10-25T20:52:17.016Z"
   },
   {
    "duration": 12,
    "start_time": "2021-10-25T20:52:17.025Z"
   },
   {
    "duration": 149,
    "start_time": "2021-10-25T20:52:17.039Z"
   },
   {
    "duration": 14,
    "start_time": "2021-10-25T20:52:17.192Z"
   },
   {
    "duration": 9,
    "start_time": "2021-10-25T20:52:17.209Z"
   },
   {
    "duration": 9,
    "start_time": "2021-10-25T20:52:17.221Z"
   },
   {
    "duration": 6,
    "start_time": "2021-10-25T20:52:17.233Z"
   },
   {
    "duration": 68,
    "start_time": "2021-10-25T20:52:17.242Z"
   },
   {
    "duration": 23,
    "start_time": "2021-10-25T20:52:17.313Z"
   },
   {
    "duration": 9,
    "start_time": "2021-10-25T20:52:17.338Z"
   },
   {
    "duration": 20,
    "start_time": "2021-10-25T20:52:17.349Z"
   },
   {
    "duration": 41,
    "start_time": "2021-10-25T20:52:17.371Z"
   },
   {
    "duration": 8,
    "start_time": "2021-10-25T20:52:17.414Z"
   },
   {
    "duration": 7,
    "start_time": "2021-10-25T20:52:17.424Z"
   },
   {
    "duration": 19,
    "start_time": "2021-10-25T20:52:17.434Z"
   },
   {
    "duration": 46,
    "start_time": "2021-10-25T20:52:17.455Z"
   },
   {
    "duration": 24,
    "start_time": "2021-10-25T20:52:17.513Z"
   },
   {
    "duration": 3627,
    "start_time": "2021-10-25T20:52:17.540Z"
   },
   {
    "duration": 3851,
    "start_time": "2021-10-25T20:52:21.173Z"
   },
   {
    "duration": 9,
    "start_time": "2021-10-25T20:52:25.026Z"
   },
   {
    "duration": 31,
    "start_time": "2021-10-25T20:52:25.037Z"
   },
   {
    "duration": 69,
    "start_time": "2021-10-25T20:52:25.070Z"
   },
   {
    "duration": 19,
    "start_time": "2021-10-25T20:52:25.141Z"
   },
   {
    "duration": 51,
    "start_time": "2021-10-25T20:52:25.163Z"
   },
   {
    "duration": 48,
    "start_time": "2021-10-25T20:52:25.216Z"
   },
   {
    "duration": 61,
    "start_time": "2021-10-25T20:52:25.266Z"
   },
   {
    "duration": 43,
    "start_time": "2021-10-25T20:52:25.329Z"
   },
   {
    "duration": 66,
    "start_time": "2021-10-25T20:52:25.374Z"
   },
   {
    "duration": 64,
    "start_time": "2021-10-25T20:52:25.443Z"
   },
   {
    "duration": 46,
    "start_time": "2021-10-25T20:52:25.510Z"
   },
   {
    "duration": 50,
    "start_time": "2021-10-25T20:52:56.790Z"
   },
   {
    "duration": 37,
    "start_time": "2021-10-25T20:53:24.370Z"
   },
   {
    "duration": 46,
    "start_time": "2021-10-25T20:53:40.032Z"
   },
   {
    "duration": 442,
    "start_time": "2021-10-26T19:54:02.885Z"
   },
   {
    "duration": 423,
    "start_time": "2021-10-26T19:54:05.986Z"
   },
   {
    "duration": 1240,
    "start_time": "2021-10-26T19:54:12.037Z"
   },
   {
    "duration": 15,
    "start_time": "2021-10-26T19:54:13.279Z"
   },
   {
    "duration": 17,
    "start_time": "2021-10-26T19:54:13.297Z"
   },
   {
    "duration": 358,
    "start_time": "2021-10-26T19:54:21.976Z"
   },
   {
    "duration": 14,
    "start_time": "2021-10-26T19:54:22.337Z"
   },
   {
    "duration": 12,
    "start_time": "2021-10-26T19:54:22.354Z"
   },
   {
    "duration": 46,
    "start_time": "2021-10-26T19:54:22.369Z"
   },
   {
    "duration": 7,
    "start_time": "2021-10-26T19:54:22.418Z"
   },
   {
    "duration": 162,
    "start_time": "2021-10-26T19:54:22.427Z"
   },
   {
    "duration": 13,
    "start_time": "2021-10-26T19:54:22.592Z"
   },
   {
    "duration": 10,
    "start_time": "2021-10-26T19:54:22.611Z"
   },
   {
    "duration": 7,
    "start_time": "2021-10-26T19:54:22.624Z"
   },
   {
    "duration": 7,
    "start_time": "2021-10-26T19:54:22.633Z"
   },
   {
    "duration": 73,
    "start_time": "2021-10-26T19:54:22.642Z"
   },
   {
    "duration": 27,
    "start_time": "2021-10-26T19:54:22.718Z"
   },
   {
    "duration": 9,
    "start_time": "2021-10-26T19:54:22.748Z"
   },
   {
    "duration": 23,
    "start_time": "2021-10-26T19:54:22.760Z"
   },
   {
    "duration": 15,
    "start_time": "2021-10-26T19:54:22.802Z"
   },
   {
    "duration": 6,
    "start_time": "2021-10-26T19:54:22.820Z"
   },
   {
    "duration": 12,
    "start_time": "2021-10-26T19:54:22.828Z"
   },
   {
    "duration": 21,
    "start_time": "2021-10-26T19:54:22.842Z"
   },
   {
    "duration": 45,
    "start_time": "2021-10-26T19:54:22.865Z"
   },
   {
    "duration": 21,
    "start_time": "2021-10-26T19:54:22.913Z"
   },
   {
    "duration": 3824,
    "start_time": "2021-10-26T19:54:22.936Z"
   },
   {
    "duration": 3944,
    "start_time": "2021-10-26T19:54:26.764Z"
   },
   {
    "duration": 9,
    "start_time": "2021-10-26T19:54:30.713Z"
   },
   {
    "duration": 32,
    "start_time": "2021-10-26T19:54:30.725Z"
   },
   {
    "duration": 66,
    "start_time": "2021-10-26T19:54:30.760Z"
   },
   {
    "duration": 20,
    "start_time": "2021-10-26T19:54:30.828Z"
   },
   {
    "duration": 16,
    "start_time": "2021-10-26T19:54:30.850Z"
   },
   {
    "duration": 85,
    "start_time": "2021-10-26T19:54:30.868Z"
   },
   {
    "duration": 73,
    "start_time": "2021-10-26T19:54:30.956Z"
   },
   {
    "duration": 45,
    "start_time": "2021-10-26T19:54:31.031Z"
   },
   {
    "duration": 69,
    "start_time": "2021-10-26T19:54:31.078Z"
   },
   {
    "duration": 70,
    "start_time": "2021-10-26T19:54:31.150Z"
   },
   {
    "duration": 59,
    "start_time": "2021-10-26T19:54:31.224Z"
   },
   {
    "duration": 13,
    "start_time": "2021-10-26T19:54:44.370Z"
   },
   {
    "duration": 13,
    "start_time": "2021-10-26T19:54:47.715Z"
   },
   {
    "duration": 390,
    "start_time": "2021-10-26T19:54:53.290Z"
   },
   {
    "duration": 16,
    "start_time": "2021-10-26T19:54:53.684Z"
   },
   {
    "duration": 13,
    "start_time": "2021-10-26T19:54:53.710Z"
   },
   {
    "duration": 25,
    "start_time": "2021-10-26T19:54:53.727Z"
   },
   {
    "duration": 16,
    "start_time": "2021-10-26T19:54:53.755Z"
   },
   {
    "duration": 153,
    "start_time": "2021-10-26T19:54:53.774Z"
   },
   {
    "duration": 6,
    "start_time": "2021-10-26T19:54:53.930Z"
   },
   {
    "duration": 20,
    "start_time": "2021-10-26T19:54:53.940Z"
   },
   {
    "duration": 10,
    "start_time": "2021-10-26T19:54:53.963Z"
   },
   {
    "duration": 30,
    "start_time": "2021-10-26T19:54:53.975Z"
   },
   {
    "duration": 22,
    "start_time": "2021-10-26T19:54:54.008Z"
   },
   {
    "duration": 20,
    "start_time": "2021-10-26T19:54:54.032Z"
   },
   {
    "duration": 11,
    "start_time": "2021-10-26T19:54:54.055Z"
   },
   {
    "duration": 53,
    "start_time": "2021-10-26T19:54:54.068Z"
   },
   {
    "duration": 14,
    "start_time": "2021-10-26T19:54:54.124Z"
   },
   {
    "duration": 16,
    "start_time": "2021-10-26T19:54:54.141Z"
   },
   {
    "duration": 10,
    "start_time": "2021-10-26T19:54:54.159Z"
   },
   {
    "duration": 66,
    "start_time": "2021-10-26T19:54:54.172Z"
   },
   {
    "duration": 6,
    "start_time": "2021-10-26T19:54:54.241Z"
   },
   {
    "duration": 29,
    "start_time": "2021-10-26T19:54:54.250Z"
   },
   {
    "duration": 3539,
    "start_time": "2021-10-26T19:54:54.282Z"
   },
   {
    "duration": 3855,
    "start_time": "2021-10-26T19:54:57.823Z"
   },
   {
    "duration": 30,
    "start_time": "2021-10-26T19:55:01.684Z"
   },
   {
    "duration": 40,
    "start_time": "2021-10-26T19:55:01.717Z"
   },
   {
    "duration": 46,
    "start_time": "2021-10-26T19:55:01.760Z"
   },
   {
    "duration": 20,
    "start_time": "2021-10-26T19:55:01.809Z"
   },
   {
    "duration": 33,
    "start_time": "2021-10-26T19:55:01.832Z"
   },
   {
    "duration": 67,
    "start_time": "2021-10-26T19:55:01.868Z"
   },
   {
    "duration": 47,
    "start_time": "2021-10-26T19:55:01.938Z"
   },
   {
    "duration": 49,
    "start_time": "2021-10-26T19:55:02.002Z"
   },
   {
    "duration": 75,
    "start_time": "2021-10-26T19:55:02.053Z"
   },
   {
    "duration": 51,
    "start_time": "2021-10-26T19:55:02.130Z"
   },
   {
    "duration": 63,
    "start_time": "2021-10-26T19:55:02.184Z"
   },
   {
    "duration": 209,
    "start_time": "2021-10-26T20:00:51.426Z"
   },
   {
    "duration": 344,
    "start_time": "2021-10-26T20:01:04.879Z"
   },
   {
    "duration": 13,
    "start_time": "2021-10-26T20:01:05.226Z"
   },
   {
    "duration": 12,
    "start_time": "2021-10-26T20:01:05.243Z"
   },
   {
    "duration": 53,
    "start_time": "2021-10-26T20:01:05.258Z"
   },
   {
    "duration": 5,
    "start_time": "2021-10-26T20:01:05.314Z"
   },
   {
    "duration": 148,
    "start_time": "2021-10-26T20:01:05.321Z"
   },
   {
    "duration": 6,
    "start_time": "2021-10-26T20:01:05.471Z"
   },
   {
    "duration": 21,
    "start_time": "2021-10-26T20:01:05.480Z"
   },
   {
    "duration": 14,
    "start_time": "2021-10-26T20:01:05.513Z"
   },
   {
    "duration": 21,
    "start_time": "2021-10-26T20:01:05.530Z"
   },
   {
    "duration": 31,
    "start_time": "2021-10-26T20:01:05.554Z"
   },
   {
    "duration": 41,
    "start_time": "2021-10-26T20:01:05.588Z"
   },
   {
    "duration": 9,
    "start_time": "2021-10-26T20:01:05.631Z"
   },
   {
    "duration": 35,
    "start_time": "2021-10-26T20:01:05.643Z"
   },
   {
    "duration": 7,
    "start_time": "2021-10-26T20:01:05.680Z"
   },
   {
    "duration": 18,
    "start_time": "2021-10-26T20:01:05.690Z"
   },
   {
    "duration": 8,
    "start_time": "2021-10-26T20:01:05.710Z"
   },
   {
    "duration": 19,
    "start_time": "2021-10-26T20:01:05.721Z"
   },
   {
    "duration": 7,
    "start_time": "2021-10-26T20:01:05.743Z"
   },
   {
    "duration": 64,
    "start_time": "2021-10-26T20:01:05.752Z"
   },
   {
    "duration": 3982,
    "start_time": "2021-10-26T20:01:05.818Z"
   },
   {
    "duration": 3980,
    "start_time": "2021-10-26T20:01:09.805Z"
   },
   {
    "duration": 20,
    "start_time": "2021-10-26T20:01:13.790Z"
   },
   {
    "duration": 32,
    "start_time": "2021-10-26T20:01:13.818Z"
   },
   {
    "duration": 60,
    "start_time": "2021-10-26T20:01:13.853Z"
   },
   {
    "duration": 23,
    "start_time": "2021-10-26T20:01:13.916Z"
   },
   {
    "duration": 17,
    "start_time": "2021-10-26T20:01:13.942Z"
   },
   {
    "duration": 87,
    "start_time": "2021-10-26T20:01:13.962Z"
   },
   {
    "duration": 56,
    "start_time": "2021-10-26T20:01:14.052Z"
   },
   {
    "duration": 50,
    "start_time": "2021-10-26T20:01:14.110Z"
   },
   {
    "duration": 68,
    "start_time": "2021-10-26T20:01:14.162Z"
   },
   {
    "duration": 47,
    "start_time": "2021-10-26T20:01:14.233Z"
   },
   {
    "duration": 63,
    "start_time": "2021-10-26T20:01:14.283Z"
   },
   {
    "duration": 131,
    "start_time": "2021-10-26T20:04:51.109Z"
   },
   {
    "duration": 24,
    "start_time": "2021-10-26T20:14:39.418Z"
   },
   {
    "duration": 40,
    "start_time": "2021-10-26T20:22:56.705Z"
   },
   {
    "duration": 29,
    "start_time": "2021-10-26T20:26:43.781Z"
   },
   {
    "duration": 281,
    "start_time": "2021-10-26T20:27:03.956Z"
   },
   {
    "duration": 17,
    "start_time": "2021-10-26T20:27:04.240Z"
   },
   {
    "duration": 13,
    "start_time": "2021-10-26T20:27:04.260Z"
   },
   {
    "duration": 29,
    "start_time": "2021-10-26T20:27:04.300Z"
   },
   {
    "duration": 5,
    "start_time": "2021-10-26T20:27:04.332Z"
   },
   {
    "duration": 24,
    "start_time": "2021-10-26T20:27:04.339Z"
   },
   {
    "duration": 56,
    "start_time": "2021-10-26T20:27:04.365Z"
   },
   {
    "duration": 145,
    "start_time": "2021-10-26T20:27:04.425Z"
   },
   {
    "duration": 6,
    "start_time": "2021-10-26T20:27:04.573Z"
   },
   {
    "duration": 9,
    "start_time": "2021-10-26T20:27:04.600Z"
   },
   {
    "duration": 7,
    "start_time": "2021-10-26T20:27:04.611Z"
   },
   {
    "duration": 8,
    "start_time": "2021-10-26T20:27:04.621Z"
   },
   {
    "duration": 18,
    "start_time": "2021-10-26T20:27:04.632Z"
   },
   {
    "duration": 67,
    "start_time": "2021-10-26T20:27:04.653Z"
   },
   {
    "duration": 12,
    "start_time": "2021-10-26T20:27:04.723Z"
   },
   {
    "duration": 21,
    "start_time": "2021-10-26T20:27:04.738Z"
   },
   {
    "duration": 6,
    "start_time": "2021-10-26T20:27:04.762Z"
   },
   {
    "duration": 10,
    "start_time": "2021-10-26T20:27:04.803Z"
   },
   {
    "duration": 8,
    "start_time": "2021-10-26T20:27:04.816Z"
   },
   {
    "duration": 19,
    "start_time": "2021-10-26T20:27:04.828Z"
   },
   {
    "duration": 50,
    "start_time": "2021-10-26T20:27:04.850Z"
   },
   {
    "duration": 23,
    "start_time": "2021-10-26T20:27:04.909Z"
   },
   {
    "duration": 3648,
    "start_time": "2021-10-26T20:27:04.936Z"
   },
   {
    "duration": 3999,
    "start_time": "2021-10-26T20:27:08.587Z"
   },
   {
    "duration": 24,
    "start_time": "2021-10-26T20:27:12.588Z"
   },
   {
    "duration": 33,
    "start_time": "2021-10-26T20:27:12.615Z"
   },
   {
    "duration": 58,
    "start_time": "2021-10-26T20:27:12.651Z"
   },
   {
    "duration": 20,
    "start_time": "2021-10-26T20:27:12.712Z"
   },
   {
    "duration": 20,
    "start_time": "2021-10-26T20:27:12.734Z"
   },
   {
    "duration": 81,
    "start_time": "2021-10-26T20:27:12.756Z"
   },
   {
    "duration": 43,
    "start_time": "2021-10-26T20:27:12.839Z"
   },
   {
    "duration": 61,
    "start_time": "2021-10-26T20:27:12.884Z"
   },
   {
    "duration": 65,
    "start_time": "2021-10-26T20:27:12.948Z"
   },
   {
    "duration": 46,
    "start_time": "2021-10-26T20:27:13.017Z"
   },
   {
    "duration": 71,
    "start_time": "2021-10-26T20:27:13.065Z"
   },
   {
    "duration": 129,
    "start_time": "2021-10-26T20:28:04.941Z"
   },
   {
    "duration": 6,
    "start_time": "2021-10-26T20:29:30.186Z"
   },
   {
    "duration": 7,
    "start_time": "2021-10-26T20:29:47.560Z"
   },
   {
    "duration": 306,
    "start_time": "2021-10-26T20:35:09.625Z"
   },
   {
    "duration": 14,
    "start_time": "2021-10-26T20:35:09.934Z"
   },
   {
    "duration": 14,
    "start_time": "2021-10-26T20:35:09.951Z"
   },
   {
    "duration": 51,
    "start_time": "2021-10-26T20:35:09.969Z"
   },
   {
    "duration": 5,
    "start_time": "2021-10-26T20:35:10.023Z"
   },
   {
    "duration": 24,
    "start_time": "2021-10-26T20:35:10.031Z"
   },
   {
    "duration": 60,
    "start_time": "2021-10-26T20:35:10.058Z"
   },
   {
    "duration": 140,
    "start_time": "2021-10-26T20:35:10.122Z"
   },
   {
    "duration": 35,
    "start_time": "2021-10-26T20:35:10.265Z"
   },
   {
    "duration": 11,
    "start_time": "2021-10-26T20:35:10.303Z"
   },
   {
    "duration": 8,
    "start_time": "2021-10-26T20:35:10.317Z"
   },
   {
    "duration": 9,
    "start_time": "2021-10-26T20:35:10.327Z"
   },
   {
    "duration": 14,
    "start_time": "2021-10-26T20:35:10.339Z"
   },
   {
    "duration": 46,
    "start_time": "2021-10-26T20:35:10.356Z"
   },
   {
    "duration": 18,
    "start_time": "2021-10-26T20:35:10.412Z"
   },
   {
    "duration": 6,
    "start_time": "2021-10-26T20:35:10.432Z"
   },
   {
    "duration": 22,
    "start_time": "2021-10-26T20:35:10.440Z"
   },
   {
    "duration": 3858,
    "start_time": "2021-10-26T20:35:10.465Z"
   },
   {
    "duration": 3954,
    "start_time": "2021-10-26T20:35:14.327Z"
   },
   {
    "duration": 21,
    "start_time": "2021-10-26T20:35:18.283Z"
   },
   {
    "duration": 35,
    "start_time": "2021-10-26T20:35:18.306Z"
   },
   {
    "duration": 73,
    "start_time": "2021-10-26T20:35:18.344Z"
   },
   {
    "duration": 22,
    "start_time": "2021-10-26T20:35:18.422Z"
   },
   {
    "duration": 19,
    "start_time": "2021-10-26T20:35:18.446Z"
   },
   {
    "duration": 76,
    "start_time": "2021-10-26T20:35:18.468Z"
   },
   {
    "duration": 58,
    "start_time": "2021-10-26T20:35:18.547Z"
   },
   {
    "duration": 49,
    "start_time": "2021-10-26T20:35:18.608Z"
   },
   {
    "duration": 62,
    "start_time": "2021-10-26T20:35:18.659Z"
   },
   {
    "duration": 47,
    "start_time": "2021-10-26T20:35:18.724Z"
   },
   {
    "duration": 69,
    "start_time": "2021-10-26T20:35:18.774Z"
   },
   {
    "duration": 127,
    "start_time": "2021-10-26T20:43:18.610Z"
   },
   {
    "duration": 115,
    "start_time": "2021-10-26T20:43:50.072Z"
   },
   {
    "duration": 208,
    "start_time": "2021-10-26T20:46:11.998Z"
   },
   {
    "duration": 355,
    "start_time": "2021-10-27T17:47:15.283Z"
   },
   {
    "duration": 1109,
    "start_time": "2021-10-27T17:47:24.054Z"
   },
   {
    "duration": 15,
    "start_time": "2021-10-27T17:47:25.166Z"
   },
   {
    "duration": 12,
    "start_time": "2021-10-27T17:47:25.184Z"
   },
   {
    "duration": 19,
    "start_time": "2021-10-27T17:47:25.199Z"
   },
   {
    "duration": 6,
    "start_time": "2021-10-27T17:47:25.221Z"
   },
   {
    "duration": 54,
    "start_time": "2021-10-27T17:47:25.229Z"
   },
   {
    "duration": 24,
    "start_time": "2021-10-27T17:47:25.285Z"
   },
   {
    "duration": 141,
    "start_time": "2021-10-27T17:47:25.312Z"
   },
   {
    "duration": 38,
    "start_time": "2021-10-27T17:47:25.456Z"
   },
   {
    "duration": 7,
    "start_time": "2021-10-27T17:47:25.497Z"
   },
   {
    "duration": 7,
    "start_time": "2021-10-27T17:47:25.507Z"
   },
   {
    "duration": 7,
    "start_time": "2021-10-27T17:47:25.516Z"
   },
   {
    "duration": 6,
    "start_time": "2021-10-27T17:47:25.526Z"
   },
   {
    "duration": 48,
    "start_time": "2021-10-27T17:47:25.535Z"
   },
   {
    "duration": 20,
    "start_time": "2021-10-27T17:47:25.585Z"
   },
   {
    "duration": 7,
    "start_time": "2021-10-27T17:47:25.607Z"
   },
   {
    "duration": 25,
    "start_time": "2021-10-27T17:47:25.617Z"
   },
   {
    "duration": 3781,
    "start_time": "2021-10-27T17:47:25.644Z"
   },
   {
    "duration": 3762,
    "start_time": "2021-10-27T17:47:29.428Z"
   },
   {
    "duration": 9,
    "start_time": "2021-10-27T17:47:33.192Z"
   },
   {
    "duration": 340,
    "start_time": "2021-10-27T17:47:33.203Z"
   },
   {
    "duration": 1738,
    "start_time": "2021-10-27T17:47:31.809Z"
   },
   {
    "duration": 1734,
    "start_time": "2021-10-27T17:47:31.814Z"
   },
   {
    "duration": 1739,
    "start_time": "2021-10-27T17:47:31.816Z"
   },
   {
    "duration": 1738,
    "start_time": "2021-10-27T17:47:31.818Z"
   },
   {
    "duration": 1737,
    "start_time": "2021-10-27T17:47:31.821Z"
   },
   {
    "duration": 1735,
    "start_time": "2021-10-27T17:47:31.824Z"
   },
   {
    "duration": 1733,
    "start_time": "2021-10-27T17:47:31.827Z"
   },
   {
    "duration": 1730,
    "start_time": "2021-10-27T17:47:31.831Z"
   },
   {
    "duration": 1730,
    "start_time": "2021-10-27T17:47:31.833Z"
   },
   {
    "duration": 1728,
    "start_time": "2021-10-27T17:47:31.836Z"
   },
   {
    "duration": 31,
    "start_time": "2021-10-27T17:47:43.949Z"
   },
   {
    "duration": 11,
    "start_time": "2021-10-27T17:51:57.181Z"
   },
   {
    "duration": 9,
    "start_time": "2021-10-27T17:54:11.626Z"
   },
   {
    "duration": 6,
    "start_time": "2021-10-27T17:55:59.614Z"
   },
   {
    "duration": 7,
    "start_time": "2021-10-27T17:56:11.551Z"
   },
   {
    "duration": 8,
    "start_time": "2021-10-27T17:56:13.909Z"
   },
   {
    "duration": 6,
    "start_time": "2021-10-27T17:57:43.244Z"
   },
   {
    "duration": 295,
    "start_time": "2021-10-27T17:58:12.196Z"
   },
   {
    "duration": 310,
    "start_time": "2021-10-27T17:58:40.897Z"
   },
   {
    "duration": 276,
    "start_time": "2021-10-27T17:58:57.241Z"
   },
   {
    "duration": 91,
    "start_time": "2021-10-27T18:00:29.699Z"
   },
   {
    "duration": 4,
    "start_time": "2021-10-27T18:00:34.999Z"
   },
   {
    "duration": 375,
    "start_time": "2021-10-27T18:02:16.065Z"
   },
   {
    "duration": 333,
    "start_time": "2021-10-27T18:02:31.586Z"
   },
   {
    "duration": 4,
    "start_time": "2021-10-27T18:03:55.535Z"
   },
   {
    "duration": 8,
    "start_time": "2021-10-27T18:04:14.113Z"
   },
   {
    "duration": 5,
    "start_time": "2021-10-27T18:04:45.590Z"
   },
   {
    "duration": 33,
    "start_time": "2021-10-27T18:05:30.756Z"
   },
   {
    "duration": 430,
    "start_time": "2021-10-27T18:05:38.000Z"
   },
   {
    "duration": 13,
    "start_time": "2021-10-27T18:05:38.433Z"
   },
   {
    "duration": 12,
    "start_time": "2021-10-27T18:05:38.449Z"
   },
   {
    "duration": 36,
    "start_time": "2021-10-27T18:05:38.464Z"
   },
   {
    "duration": 5,
    "start_time": "2021-10-27T18:05:38.502Z"
   },
   {
    "duration": 23,
    "start_time": "2021-10-27T18:05:38.509Z"
   },
   {
    "duration": 57,
    "start_time": "2021-10-27T18:05:38.535Z"
   },
   {
    "duration": 127,
    "start_time": "2021-10-27T18:05:38.595Z"
   },
   {
    "duration": 20,
    "start_time": "2021-10-27T18:05:38.725Z"
   },
   {
    "duration": 6,
    "start_time": "2021-10-27T18:05:38.747Z"
   },
   {
    "duration": 7,
    "start_time": "2021-10-27T18:05:38.782Z"
   },
   {
    "duration": 9,
    "start_time": "2021-10-27T18:05:38.791Z"
   },
   {
    "duration": 6,
    "start_time": "2021-10-27T18:05:38.802Z"
   },
   {
    "duration": 6,
    "start_time": "2021-10-27T18:05:38.810Z"
   },
   {
    "duration": 21,
    "start_time": "2021-10-27T18:05:38.818Z"
   },
   {
    "duration": 7,
    "start_time": "2021-10-27T18:05:38.881Z"
   },
   {
    "duration": 22,
    "start_time": "2021-10-27T18:05:38.890Z"
   },
   {
    "duration": 3627,
    "start_time": "2021-10-27T18:05:38.914Z"
   },
   {
    "duration": 3666,
    "start_time": "2021-10-27T18:05:42.544Z"
   },
   {
    "duration": 9,
    "start_time": "2021-10-27T18:05:46.212Z"
   },
   {
    "duration": 11,
    "start_time": "2021-10-27T18:05:46.224Z"
   },
   {
    "duration": 7,
    "start_time": "2021-10-27T18:05:46.237Z"
   },
   {
    "duration": 59,
    "start_time": "2021-10-27T18:05:46.249Z"
   },
   {
    "duration": 31,
    "start_time": "2021-10-27T18:05:46.311Z"
   },
   {
    "duration": 46,
    "start_time": "2021-10-27T18:05:46.344Z"
   },
   {
    "duration": 17,
    "start_time": "2021-10-27T18:05:46.392Z"
   },
   {
    "duration": 77,
    "start_time": "2021-10-27T18:05:46.411Z"
   },
   {
    "duration": 44,
    "start_time": "2021-10-27T18:05:46.491Z"
   },
   {
    "duration": 68,
    "start_time": "2021-10-27T18:05:46.538Z"
   },
   {
    "duration": 43,
    "start_time": "2021-10-27T18:05:46.608Z"
   },
   {
    "duration": 61,
    "start_time": "2021-10-27T18:05:46.654Z"
   },
   {
    "duration": 45,
    "start_time": "2021-10-27T18:05:46.717Z"
   },
   {
    "duration": 32,
    "start_time": "2021-10-27T18:06:36.888Z"
   },
   {
    "duration": 47,
    "start_time": "2021-10-27T18:07:02.115Z"
   },
   {
    "duration": 42,
    "start_time": "2021-10-27T18:07:06.234Z"
   },
   {
    "duration": 5,
    "start_time": "2021-10-27T18:09:16.683Z"
   },
   {
    "duration": 316,
    "start_time": "2021-10-27T18:09:39.576Z"
   },
   {
    "duration": 16,
    "start_time": "2021-10-27T18:09:39.895Z"
   },
   {
    "duration": 12,
    "start_time": "2021-10-27T18:09:39.914Z"
   },
   {
    "duration": 18,
    "start_time": "2021-10-27T18:09:39.929Z"
   },
   {
    "duration": 35,
    "start_time": "2021-10-27T18:09:39.950Z"
   },
   {
    "duration": 21,
    "start_time": "2021-10-27T18:09:39.988Z"
   },
   {
    "duration": 27,
    "start_time": "2021-10-27T18:09:40.011Z"
   },
   {
    "duration": 130,
    "start_time": "2021-10-27T18:09:40.082Z"
   },
   {
    "duration": 19,
    "start_time": "2021-10-27T18:09:40.215Z"
   },
   {
    "duration": 5,
    "start_time": "2021-10-27T18:09:40.237Z"
   },
   {
    "duration": 38,
    "start_time": "2021-10-27T18:09:40.244Z"
   },
   {
    "duration": 7,
    "start_time": "2021-10-27T18:09:40.284Z"
   },
   {
    "duration": 9,
    "start_time": "2021-10-27T18:09:40.294Z"
   },
   {
    "duration": 6,
    "start_time": "2021-10-27T18:09:40.306Z"
   },
   {
    "duration": 19,
    "start_time": "2021-10-27T18:09:40.314Z"
   },
   {
    "duration": 48,
    "start_time": "2021-10-27T18:09:40.335Z"
   },
   {
    "duration": 21,
    "start_time": "2021-10-27T18:09:40.386Z"
   },
   {
    "duration": 3754,
    "start_time": "2021-10-27T18:09:40.410Z"
   },
   {
    "duration": 3850,
    "start_time": "2021-10-27T18:09:44.167Z"
   },
   {
    "duration": 11,
    "start_time": "2021-10-27T18:09:48.020Z"
   },
   {
    "duration": 12,
    "start_time": "2021-10-27T18:09:48.033Z"
   },
   {
    "duration": 40,
    "start_time": "2021-10-27T18:09:48.047Z"
   },
   {
    "duration": 30,
    "start_time": "2021-10-27T18:09:48.092Z"
   },
   {
    "duration": 30,
    "start_time": "2021-10-27T18:09:48.125Z"
   },
   {
    "duration": 44,
    "start_time": "2021-10-27T18:09:48.157Z"
   },
   {
    "duration": 17,
    "start_time": "2021-10-27T18:09:48.203Z"
   },
   {
    "duration": 77,
    "start_time": "2021-10-27T18:09:48.222Z"
   },
   {
    "duration": 45,
    "start_time": "2021-10-27T18:09:48.302Z"
   },
   {
    "duration": 65,
    "start_time": "2021-10-27T18:09:48.349Z"
   },
   {
    "duration": 44,
    "start_time": "2021-10-27T18:09:48.416Z"
   },
   {
    "duration": 45,
    "start_time": "2021-10-27T18:09:48.483Z"
   },
   {
    "duration": 70,
    "start_time": "2021-10-27T18:09:48.530Z"
   },
   {
    "duration": 297,
    "start_time": "2021-10-27T18:12:34.694Z"
   },
   {
    "duration": 15,
    "start_time": "2021-10-27T18:12:34.994Z"
   },
   {
    "duration": 12,
    "start_time": "2021-10-27T18:12:35.013Z"
   },
   {
    "duration": 19,
    "start_time": "2021-10-27T18:12:35.028Z"
   },
   {
    "duration": 6,
    "start_time": "2021-10-27T18:12:35.081Z"
   },
   {
    "duration": 24,
    "start_time": "2021-10-27T18:12:35.090Z"
   },
   {
    "duration": 25,
    "start_time": "2021-10-27T18:12:35.116Z"
   },
   {
    "duration": 165,
    "start_time": "2021-10-27T18:12:35.144Z"
   },
   {
    "duration": 20,
    "start_time": "2021-10-27T18:12:35.312Z"
   },
   {
    "duration": 6,
    "start_time": "2021-10-27T18:12:35.334Z"
   },
   {
    "duration": 38,
    "start_time": "2021-10-27T18:12:35.343Z"
   },
   {
    "duration": 7,
    "start_time": "2021-10-27T18:12:35.384Z"
   },
   {
    "duration": 10,
    "start_time": "2021-10-27T18:12:35.394Z"
   },
   {
    "duration": 9,
    "start_time": "2021-10-27T18:12:35.406Z"
   },
   {
    "duration": 22,
    "start_time": "2021-10-27T18:12:35.417Z"
   },
   {
    "duration": 40,
    "start_time": "2021-10-27T18:12:35.442Z"
   },
   {
    "duration": 22,
    "start_time": "2021-10-27T18:12:35.484Z"
   },
   {
    "duration": 3658,
    "start_time": "2021-10-27T18:12:35.508Z"
   },
   {
    "duration": 3670,
    "start_time": "2021-10-27T18:12:39.169Z"
   },
   {
    "duration": 8,
    "start_time": "2021-10-27T18:12:42.841Z"
   },
   {
    "duration": 32,
    "start_time": "2021-10-27T18:12:42.851Z"
   },
   {
    "duration": 5,
    "start_time": "2021-10-27T18:12:42.886Z"
   },
   {
    "duration": 32,
    "start_time": "2021-10-27T18:12:42.896Z"
   },
   {
    "duration": 61,
    "start_time": "2021-10-27T18:12:42.930Z"
   },
   {
    "duration": 19,
    "start_time": "2021-10-27T18:12:42.993Z"
   },
   {
    "duration": 16,
    "start_time": "2021-10-27T18:12:43.014Z"
   },
   {
    "duration": 83,
    "start_time": "2021-10-27T18:12:43.032Z"
   },
   {
    "duration": 45,
    "start_time": "2021-10-27T18:12:43.118Z"
   },
   {
    "duration": 43,
    "start_time": "2021-10-27T18:12:43.181Z"
   },
   {
    "duration": 63,
    "start_time": "2021-10-27T18:12:43.226Z"
   },
   {
    "duration": 48,
    "start_time": "2021-10-27T18:12:43.291Z"
   },
   {
    "duration": 66,
    "start_time": "2021-10-27T18:12:43.342Z"
   },
   {
    "duration": 29,
    "start_time": "2021-10-27T18:26:54.785Z"
   },
   {
    "duration": 110,
    "start_time": "2021-10-27T18:28:54.887Z"
   },
   {
    "duration": 31,
    "start_time": "2021-10-27T18:29:20.007Z"
   },
   {
    "duration": 27,
    "start_time": "2021-10-27T18:29:24.787Z"
   },
   {
    "duration": 111,
    "start_time": "2021-10-27T18:32:56.499Z"
   },
   {
    "duration": 68,
    "start_time": "2021-10-27T18:36:28.394Z"
   },
   {
    "duration": 384,
    "start_time": "2021-10-27T19:57:12.395Z"
   },
   {
    "duration": 15,
    "start_time": "2021-10-27T19:57:12.781Z"
   },
   {
    "duration": 12,
    "start_time": "2021-10-27T19:57:12.799Z"
   },
   {
    "duration": 19,
    "start_time": "2021-10-27T19:57:12.814Z"
   },
   {
    "duration": 6,
    "start_time": "2021-10-27T19:57:12.835Z"
   },
   {
    "duration": 56,
    "start_time": "2021-10-27T19:57:12.843Z"
   },
   {
    "duration": 26,
    "start_time": "2021-10-27T19:57:12.902Z"
   },
   {
    "duration": 149,
    "start_time": "2021-10-27T19:57:12.932Z"
   },
   {
    "duration": 21,
    "start_time": "2021-10-27T19:57:13.085Z"
   },
   {
    "duration": 6,
    "start_time": "2021-10-27T19:57:13.108Z"
   },
   {
    "duration": 13,
    "start_time": "2021-10-27T19:57:13.117Z"
   },
   {
    "duration": 9,
    "start_time": "2021-10-27T19:57:13.132Z"
   },
   {
    "duration": 43,
    "start_time": "2021-10-27T19:57:13.143Z"
   },
   {
    "duration": 6,
    "start_time": "2021-10-27T19:57:13.189Z"
   },
   {
    "duration": 18,
    "start_time": "2021-10-27T19:57:13.197Z"
   },
   {
    "duration": 6,
    "start_time": "2021-10-27T19:57:13.217Z"
   },
   {
    "duration": 65,
    "start_time": "2021-10-27T19:57:13.225Z"
   },
   {
    "duration": 3634,
    "start_time": "2021-10-27T19:57:13.292Z"
   },
   {
    "duration": 4026,
    "start_time": "2021-10-27T19:57:16.929Z"
   },
   {
    "duration": 47,
    "start_time": "2021-10-27T19:57:20.957Z"
   },
   {
    "duration": 34,
    "start_time": "2021-10-27T19:57:21.008Z"
   },
   {
    "duration": 50,
    "start_time": "2021-10-27T19:57:21.045Z"
   },
   {
    "duration": 16,
    "start_time": "2021-10-27T19:57:21.101Z"
   },
   {
    "duration": 85,
    "start_time": "2021-10-27T19:57:21.119Z"
   },
   {
    "duration": 44,
    "start_time": "2021-10-27T19:57:21.207Z"
   },
   {
    "duration": 63,
    "start_time": "2021-10-27T19:57:21.254Z"
   },
   {
    "duration": 75,
    "start_time": "2021-10-27T19:57:21.320Z"
   },
   {
    "duration": 46,
    "start_time": "2021-10-27T19:57:21.398Z"
   },
   {
    "duration": 76,
    "start_time": "2021-10-27T19:57:21.447Z"
   },
   {
    "duration": 65,
    "start_time": "2021-10-27T20:11:43.665Z"
   },
   {
    "duration": 36,
    "start_time": "2021-10-27T20:15:36.590Z"
   },
   {
    "duration": 36,
    "start_time": "2021-10-27T20:15:38.949Z"
   },
   {
    "duration": 44,
    "start_time": "2021-10-27T20:15:50.102Z"
   },
   {
    "duration": 38,
    "start_time": "2021-10-27T20:16:30.045Z"
   },
   {
    "duration": 38,
    "start_time": "2021-10-27T20:16:36.762Z"
   },
   {
    "duration": 437,
    "start_time": "2021-10-27T20:17:01.425Z"
   },
   {
    "duration": 30,
    "start_time": "2021-10-27T20:17:09.124Z"
   },
   {
    "duration": 30,
    "start_time": "2021-10-27T20:17:55.288Z"
   },
   {
    "duration": 309,
    "start_time": "2021-10-27T20:18:14.746Z"
   },
   {
    "duration": 15,
    "start_time": "2021-10-27T20:18:15.058Z"
   },
   {
    "duration": 13,
    "start_time": "2021-10-27T20:18:15.076Z"
   },
   {
    "duration": 22,
    "start_time": "2021-10-27T20:18:15.092Z"
   },
   {
    "duration": 6,
    "start_time": "2021-10-27T20:18:15.117Z"
   },
   {
    "duration": 59,
    "start_time": "2021-10-27T20:18:15.126Z"
   },
   {
    "duration": 28,
    "start_time": "2021-10-27T20:18:15.189Z"
   },
   {
    "duration": 154,
    "start_time": "2021-10-27T20:18:15.223Z"
   },
   {
    "duration": 21,
    "start_time": "2021-10-27T20:18:15.379Z"
   },
   {
    "duration": 7,
    "start_time": "2021-10-27T20:18:15.404Z"
   },
   {
    "duration": 9,
    "start_time": "2021-10-27T20:18:15.414Z"
   },
   {
    "duration": 8,
    "start_time": "2021-10-27T20:18:15.425Z"
   },
   {
    "duration": 7,
    "start_time": "2021-10-27T20:18:15.483Z"
   },
   {
    "duration": 7,
    "start_time": "2021-10-27T20:18:15.493Z"
   },
   {
    "duration": 19,
    "start_time": "2021-10-27T20:18:15.503Z"
   },
   {
    "duration": 58,
    "start_time": "2021-10-27T20:18:15.524Z"
   },
   {
    "duration": 23,
    "start_time": "2021-10-27T20:18:15.586Z"
   },
   {
    "duration": 87,
    "start_time": "2021-10-27T20:18:15.612Z"
   },
   {
    "duration": 26,
    "start_time": "2021-10-27T20:18:15.702Z"
   },
   {
    "duration": 22,
    "start_time": "2021-10-27T20:18:15.731Z"
   },
   {
    "duration": 3365,
    "start_time": "2021-10-27T20:18:15.781Z"
   },
   {
    "duration": 3989,
    "start_time": "2021-10-27T20:18:19.148Z"
   },
   {
    "duration": 42,
    "start_time": "2021-10-27T20:18:23.141Z"
   },
   {
    "duration": 29,
    "start_time": "2021-10-27T20:18:23.186Z"
   },
   {
    "duration": 21,
    "start_time": "2021-10-27T20:18:23.217Z"
   },
   {
    "duration": 53,
    "start_time": "2021-10-27T20:18:23.241Z"
   },
   {
    "duration": 46,
    "start_time": "2021-10-27T20:18:23.297Z"
   },
   {
    "duration": 73,
    "start_time": "2021-10-27T20:18:23.345Z"
   },
   {
    "duration": 42,
    "start_time": "2021-10-27T20:18:23.420Z"
   },
   {
    "duration": 58,
    "start_time": "2021-10-27T20:18:23.464Z"
   },
   {
    "duration": 68,
    "start_time": "2021-10-27T20:18:23.524Z"
   },
   {
    "duration": 46,
    "start_time": "2021-10-27T20:18:23.595Z"
   },
   {
    "duration": 1098,
    "start_time": "2021-10-28T17:04:14.050Z"
   },
   {
    "duration": 15,
    "start_time": "2021-10-28T17:04:15.150Z"
   },
   {
    "duration": 12,
    "start_time": "2021-10-28T17:04:15.168Z"
   },
   {
    "duration": 19,
    "start_time": "2021-10-28T17:04:15.183Z"
   },
   {
    "duration": 6,
    "start_time": "2021-10-28T17:04:15.205Z"
   },
   {
    "duration": 62,
    "start_time": "2021-10-28T17:04:15.213Z"
   },
   {
    "duration": 26,
    "start_time": "2021-10-28T17:04:15.277Z"
   },
   {
    "duration": 151,
    "start_time": "2021-10-28T17:04:15.307Z"
   },
   {
    "duration": 22,
    "start_time": "2021-10-28T17:04:15.461Z"
   },
   {
    "duration": 6,
    "start_time": "2021-10-28T17:04:15.486Z"
   },
   {
    "duration": 13,
    "start_time": "2021-10-28T17:04:15.494Z"
   },
   {
    "duration": 53,
    "start_time": "2021-10-28T17:04:15.509Z"
   },
   {
    "duration": 24,
    "start_time": "2021-10-28T17:04:15.564Z"
   },
   {
    "duration": 7,
    "start_time": "2021-10-28T17:04:15.590Z"
   },
   {
    "duration": 30,
    "start_time": "2021-10-28T17:04:15.599Z"
   },
   {
    "duration": 7,
    "start_time": "2021-10-28T17:04:15.631Z"
   },
   {
    "duration": 37,
    "start_time": "2021-10-28T17:04:15.640Z"
   },
   {
    "duration": 66,
    "start_time": "2021-10-28T17:04:15.679Z"
   },
   {
    "duration": 29,
    "start_time": "2021-10-28T17:04:15.747Z"
   },
   {
    "duration": 21,
    "start_time": "2021-10-28T17:04:15.779Z"
   },
   {
    "duration": 3219,
    "start_time": "2021-10-28T17:04:15.803Z"
   },
   {
    "duration": 3671,
    "start_time": "2021-10-28T17:04:19.024Z"
   },
   {
    "duration": 30,
    "start_time": "2021-10-28T17:04:22.699Z"
   },
   {
    "duration": 43,
    "start_time": "2021-10-28T17:04:22.732Z"
   },
   {
    "duration": 20,
    "start_time": "2021-10-28T17:04:22.777Z"
   },
   {
    "duration": 16,
    "start_time": "2021-10-28T17:04:22.799Z"
   },
   {
    "duration": 80,
    "start_time": "2021-10-28T17:04:22.818Z"
   },
   {
    "duration": 70,
    "start_time": "2021-10-28T17:04:22.901Z"
   },
   {
    "duration": 43,
    "start_time": "2021-10-28T17:04:22.973Z"
   },
   {
    "duration": 63,
    "start_time": "2021-10-28T17:04:23.019Z"
   },
   {
    "duration": 42,
    "start_time": "2021-10-28T17:04:23.084Z"
   },
   {
    "duration": 59,
    "start_time": "2021-10-28T17:04:23.128Z"
   },
   {
    "duration": 99,
    "start_time": "2021-10-28T17:18:13.786Z"
   },
   {
    "duration": 2178,
    "start_time": "2021-10-28T17:25:43.987Z"
   },
   {
    "duration": 94,
    "start_time": "2021-10-31T12:23:31.510Z"
   },
   {
    "duration": 84,
    "start_time": "2021-10-31T12:31:39.965Z"
   },
   {
    "duration": 458,
    "start_time": "2021-10-31T12:32:54.631Z"
   },
   {
    "duration": 451,
    "start_time": "2021-10-31T12:33:14.718Z"
   },
   {
    "duration": 401,
    "start_time": "2021-10-31T12:33:36.118Z"
   },
   {
    "duration": 1014,
    "start_time": "2021-10-31T12:35:56.723Z"
   },
   {
    "duration": 15,
    "start_time": "2021-10-31T12:35:57.739Z"
   },
   {
    "duration": 14,
    "start_time": "2021-10-31T12:35:57.756Z"
   },
   {
    "duration": 19,
    "start_time": "2021-10-31T12:35:57.773Z"
   },
   {
    "duration": 38,
    "start_time": "2021-10-31T12:35:57.795Z"
   },
   {
    "duration": 31,
    "start_time": "2021-10-31T12:35:57.835Z"
   },
   {
    "duration": 25,
    "start_time": "2021-10-31T12:35:57.868Z"
   },
   {
    "duration": 168,
    "start_time": "2021-10-31T12:35:57.896Z"
   },
   {
    "duration": 21,
    "start_time": "2021-10-31T12:35:58.068Z"
   },
   {
    "duration": 7,
    "start_time": "2021-10-31T12:35:58.093Z"
   },
   {
    "duration": 7,
    "start_time": "2021-10-31T12:35:58.130Z"
   },
   {
    "duration": 7,
    "start_time": "2021-10-31T12:35:58.140Z"
   },
   {
    "duration": 11,
    "start_time": "2021-10-31T12:35:58.149Z"
   },
   {
    "duration": 7,
    "start_time": "2021-10-31T12:35:58.162Z"
   },
   {
    "duration": 65,
    "start_time": "2021-10-31T12:35:58.171Z"
   },
   {
    "duration": 7,
    "start_time": "2021-10-31T12:35:58.238Z"
   },
   {
    "duration": 26,
    "start_time": "2021-10-31T12:35:58.247Z"
   },
   {
    "duration": 86,
    "start_time": "2021-10-31T12:35:58.276Z"
   },
   {
    "duration": 26,
    "start_time": "2021-10-31T12:35:58.364Z"
   },
   {
    "duration": 43,
    "start_time": "2021-10-31T12:35:58.392Z"
   },
   {
    "duration": 3214,
    "start_time": "2021-10-31T12:35:58.437Z"
   },
   {
    "duration": 3625,
    "start_time": "2021-10-31T12:36:01.653Z"
   },
   {
    "duration": 77,
    "start_time": "2021-10-31T12:36:05.282Z"
   },
   {
    "duration": 29,
    "start_time": "2021-10-31T12:36:05.362Z"
   },
   {
    "duration": 51,
    "start_time": "2021-10-31T12:36:05.393Z"
   },
   {
    "duration": 20,
    "start_time": "2021-10-31T12:36:05.447Z"
   },
   {
    "duration": 15,
    "start_time": "2021-10-31T12:36:05.470Z"
   },
   {
    "duration": 74,
    "start_time": "2021-10-31T12:36:05.488Z"
   },
   {
    "duration": 74,
    "start_time": "2021-10-31T12:36:05.565Z"
   },
   {
    "duration": 44,
    "start_time": "2021-10-31T12:36:05.642Z"
   },
   {
    "duration": 70,
    "start_time": "2021-10-31T12:36:05.689Z"
   },
   {
    "duration": 68,
    "start_time": "2021-10-31T12:36:05.762Z"
   },
   {
    "duration": 46,
    "start_time": "2021-10-31T12:36:05.833Z"
   },
   {
    "duration": 75,
    "start_time": "2021-10-31T12:39:22.864Z"
   },
   {
    "duration": 86,
    "start_time": "2021-10-31T12:42:54.453Z"
   },
   {
    "duration": 77,
    "start_time": "2021-10-31T12:43:00.851Z"
   },
   {
    "duration": 85,
    "start_time": "2021-10-31T12:43:01.559Z"
   },
   {
    "duration": 5,
    "start_time": "2021-10-31T12:43:41.117Z"
   },
   {
    "duration": 91,
    "start_time": "2021-10-31T12:45:18.822Z"
   },
   {
    "duration": 11,
    "start_time": "2021-10-31T12:46:07.510Z"
   },
   {
    "duration": 10,
    "start_time": "2021-10-31T12:46:09.685Z"
   },
   {
    "duration": 80,
    "start_time": "2021-10-31T12:46:41.968Z"
   },
   {
    "duration": 18,
    "start_time": "2021-10-31T12:46:47.551Z"
   },
   {
    "duration": 1212,
    "start_time": "2021-10-31T13:37:45.983Z"
   },
   {
    "duration": 22,
    "start_time": "2021-10-31T13:37:47.199Z"
   },
   {
    "duration": 28,
    "start_time": "2021-10-31T13:37:47.225Z"
   },
   {
    "duration": 43,
    "start_time": "2021-10-31T13:37:47.257Z"
   },
   {
    "duration": 6,
    "start_time": "2021-10-31T13:37:47.304Z"
   },
   {
    "duration": 48,
    "start_time": "2021-10-31T13:37:47.313Z"
   },
   {
    "duration": 36,
    "start_time": "2021-10-31T13:37:47.364Z"
   },
   {
    "duration": 134,
    "start_time": "2021-10-31T13:37:47.428Z"
   },
   {
    "duration": 20,
    "start_time": "2021-10-31T13:37:47.566Z"
   },
   {
    "duration": 51,
    "start_time": "2021-10-31T13:37:47.589Z"
   },
   {
    "duration": 9,
    "start_time": "2021-10-31T13:37:47.642Z"
   },
   {
    "duration": 20,
    "start_time": "2021-10-31T13:37:47.655Z"
   },
   {
    "duration": 57,
    "start_time": "2021-10-31T13:37:47.678Z"
   },
   {
    "duration": 55,
    "start_time": "2021-10-31T13:37:47.739Z"
   },
   {
    "duration": 52,
    "start_time": "2021-10-31T13:37:47.796Z"
   },
   {
    "duration": 22,
    "start_time": "2021-10-31T13:37:47.850Z"
   },
   {
    "duration": 3514,
    "start_time": "2021-10-31T13:37:47.875Z"
   },
   {
    "duration": 3891,
    "start_time": "2021-10-31T13:37:51.391Z"
   },
   {
    "duration": 85,
    "start_time": "2021-10-31T13:37:55.284Z"
   },
   {
    "duration": 28,
    "start_time": "2021-10-31T13:37:55.371Z"
   },
   {
    "duration": 52,
    "start_time": "2021-10-31T13:37:55.401Z"
   },
   {
    "duration": 20,
    "start_time": "2021-10-31T13:37:55.455Z"
   },
   {
    "duration": 14,
    "start_time": "2021-10-31T13:37:55.479Z"
   },
   {
    "duration": 77,
    "start_time": "2021-10-31T13:37:55.496Z"
   },
   {
    "duration": 66,
    "start_time": "2021-10-31T13:37:55.576Z"
   },
   {
    "duration": 45,
    "start_time": "2021-10-31T13:37:55.645Z"
   },
   {
    "duration": 72,
    "start_time": "2021-10-31T13:37:55.692Z"
   },
   {
    "duration": 43,
    "start_time": "2021-10-31T13:37:55.766Z"
   },
   {
    "duration": 62,
    "start_time": "2021-10-31T13:37:55.812Z"
   },
   {
    "duration": 438,
    "start_time": "2021-11-07T12:20:13.519Z"
   },
   {
    "duration": 353,
    "start_time": "2021-11-07T12:20:27.599Z"
   },
   {
    "duration": 49,
    "start_time": "2022-04-27T12:17:59.359Z"
   },
   {
    "duration": 8,
    "start_time": "2022-04-27T12:18:41.423Z"
   },
   {
    "duration": 646,
    "start_time": "2022-04-27T12:18:47.060Z"
   },
   {
    "duration": 16,
    "start_time": "2022-04-27T12:18:47.708Z"
   },
   {
    "duration": 10,
    "start_time": "2022-04-27T12:18:47.726Z"
   },
   {
    "duration": 14,
    "start_time": "2022-04-27T12:18:47.738Z"
   },
   {
    "duration": 21,
    "start_time": "2022-04-27T12:18:47.754Z"
   },
   {
    "duration": 20,
    "start_time": "2022-04-27T12:18:47.777Z"
   },
   {
    "duration": 15,
    "start_time": "2022-04-27T12:18:47.798Z"
   },
   {
    "duration": 93,
    "start_time": "2022-04-27T12:18:47.814Z"
   },
   {
    "duration": 12,
    "start_time": "2022-04-27T12:18:47.909Z"
   },
   {
    "duration": 20,
    "start_time": "2022-04-27T12:18:47.924Z"
   },
   {
    "duration": 28,
    "start_time": "2022-04-27T12:18:47.946Z"
   },
   {
    "duration": 13,
    "start_time": "2022-04-27T12:18:47.976Z"
   },
   {
    "duration": 15,
    "start_time": "2022-04-27T12:18:47.991Z"
   },
   {
    "duration": 41,
    "start_time": "2022-04-27T12:18:48.008Z"
   },
   {
    "duration": 38,
    "start_time": "2022-04-27T12:18:48.051Z"
   },
   {
    "duration": 17,
    "start_time": "2022-04-27T12:18:48.091Z"
   },
   {
    "duration": 2529,
    "start_time": "2022-04-27T12:18:48.109Z"
   },
   {
    "duration": 2880,
    "start_time": "2022-04-27T12:18:50.639Z"
   },
   {
    "duration": 17,
    "start_time": "2022-04-27T12:18:53.521Z"
   },
   {
    "duration": 35,
    "start_time": "2022-04-27T12:18:53.540Z"
   },
   {
    "duration": 17,
    "start_time": "2022-04-27T12:18:53.577Z"
   },
   {
    "duration": 10,
    "start_time": "2022-04-27T12:18:53.596Z"
   },
   {
    "duration": 472,
    "start_time": "2022-04-27T12:18:53.608Z"
   },
   {
    "duration": 34,
    "start_time": "2022-04-27T12:18:54.082Z"
   },
   {
    "duration": 27,
    "start_time": "2022-04-27T12:18:54.117Z"
   },
   {
    "duration": 47,
    "start_time": "2022-04-27T12:18:54.146Z"
   },
   {
    "duration": 31,
    "start_time": "2022-04-27T12:18:54.195Z"
   },
   {
    "duration": 52,
    "start_time": "2022-04-27T12:18:54.230Z"
   }
  ],
  "kernelspec": {
   "display_name": "Python 3 (ipykernel)",
   "language": "python",
   "name": "python3"
  },
  "language_info": {
   "codemirror_mode": {
    "name": "ipython",
    "version": 3
   },
   "file_extension": ".py",
   "mimetype": "text/x-python",
   "name": "python",
   "nbconvert_exporter": "python",
   "pygments_lexer": "ipython3",
   "version": "3.9.5"
  },
  "toc": {
   "base_numbering": 1,
   "nav_menu": {},
   "number_sections": true,
   "sideBar": true,
   "skip_h1_title": true,
   "title_cell": "Table of Contents",
   "title_sidebar": "Contents",
   "toc_cell": false,
   "toc_position": {},
   "toc_section_display": true,
   "toc_window_display": false
  }
 },
 "nbformat": 4,
 "nbformat_minor": 2
}
