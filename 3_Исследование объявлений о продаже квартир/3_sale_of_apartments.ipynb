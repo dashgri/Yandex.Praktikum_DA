{
 "cells": [
  {
   "cell_type": "markdown",
   "metadata": {
    "toc": true
   },
   "source": [
    "<h1>Содержание<span class=\"tocSkip\"></span></h1>\n",
    "<div class=\"toc\"><ul class=\"toc-item\"><li><span><a href=\"#Изучение-данных-из-файла\" data-toc-modified-id=\"Изучение-данных-из-файла-1\"><span class=\"toc-item-num\">1&nbsp;&nbsp;</span>Изучение данных из файла</a></span><ul class=\"toc-item\"><li><span><a href=\"#Вывод\" data-toc-modified-id=\"Вывод-1.1\"><span class=\"toc-item-num\">1.1&nbsp;&nbsp;</span>Вывод</a></span></li></ul></li><li><span><a href=\"#Предобработка-данных\" data-toc-modified-id=\"Предобработка-данных-2\"><span class=\"toc-item-num\">2&nbsp;&nbsp;</span>Предобработка данных</a></span><ul class=\"toc-item\"><li><span><a href=\"#Вывод\" data-toc-modified-id=\"Вывод-2.1\"><span class=\"toc-item-num\">2.1&nbsp;&nbsp;</span>Вывод</a></span></li></ul></li><li><span><a href=\"#Расчёты-и-добавление-результатов-в-таблицу\" data-toc-modified-id=\"Расчёты-и-добавление-результатов-в-таблицу-3\"><span class=\"toc-item-num\">3&nbsp;&nbsp;</span>Расчёты и добавление результатов в таблицу</a></span><ul class=\"toc-item\"><li><span><a href=\"#Вывод\" data-toc-modified-id=\"Вывод-3.1\"><span class=\"toc-item-num\">3.1&nbsp;&nbsp;</span>Вывод</a></span></li></ul></li><li><span><a href=\"#Исследовательский-анализ-данных\" data-toc-modified-id=\"Исследовательский-анализ-данных-4\"><span class=\"toc-item-num\">4&nbsp;&nbsp;</span>Исследовательский анализ данных</a></span><ul class=\"toc-item\"><li><span><a href=\"#Вывод\" data-toc-modified-id=\"Вывод-4.1\"><span class=\"toc-item-num\">4.1&nbsp;&nbsp;</span>Вывод</a></span></li></ul></li><li><span><a href=\"#Общий-вывод\" data-toc-modified-id=\"Общий-вывод-5\"><span class=\"toc-item-num\">5&nbsp;&nbsp;</span>Общий вывод</a></span></li><li><span><a href=\"#Чек-лист-готовности-проекта\" data-toc-modified-id=\"Чек-лист-готовности-проекта-6\"><span class=\"toc-item-num\">6&nbsp;&nbsp;</span>Чек-лист готовности проекта</a></span></li></ul></div>"
   ]
  },
  {
   "cell_type": "markdown",
   "metadata": {},
   "source": [
    "# Исследование объявлений о продаже квартир\n",
    "\n",
    "В вашем распоряжении данные сервиса Яндекс.Недвижимость — архив объявлений о продаже квартир в Санкт-Петербурге и соседних населённых пунктах за несколько лет. Нужно научиться определять рыночную стоимость объектов недвижимости. Ваша задача — установить параметры. Это позволит построить автоматизированную систему: она отследит аномалии и мошенническую деятельность. \n",
    "\n",
    "По каждой квартире на продажу доступны два вида данных. Первые вписаны пользователем, вторые получены автоматически на основе картографических данных. Например, расстояние до центра, аэропорта, ближайшего парка и водоёма. "
   ]
  },
  {
   "cell_type": "markdown",
   "metadata": {},
   "source": [
    "## Изучение данных из файла"
   ]
  },
  {
   "cell_type": "code",
   "execution_count": 1,
   "metadata": {},
   "outputs": [
    {
     "data": {
      "text/html": [
       "<div>\n",
       "<style scoped>\n",
       "    .dataframe tbody tr th:only-of-type {\n",
       "        vertical-align: middle;\n",
       "    }\n",
       "\n",
       "    .dataframe tbody tr th {\n",
       "        vertical-align: top;\n",
       "    }\n",
       "\n",
       "    .dataframe thead th {\n",
       "        text-align: right;\n",
       "    }\n",
       "</style>\n",
       "<table border=\"1\" class=\"dataframe\">\n",
       "  <thead>\n",
       "    <tr style=\"text-align: right;\">\n",
       "      <th></th>\n",
       "      <th>total_images</th>\n",
       "      <th>last_price</th>\n",
       "      <th>total_area</th>\n",
       "      <th>first_day_exposition</th>\n",
       "      <th>rooms</th>\n",
       "      <th>ceiling_height</th>\n",
       "      <th>floors_total</th>\n",
       "      <th>living_area</th>\n",
       "      <th>floor</th>\n",
       "      <th>is_apartment</th>\n",
       "      <th>...</th>\n",
       "      <th>kitchen_area</th>\n",
       "      <th>balcony</th>\n",
       "      <th>locality_name</th>\n",
       "      <th>airports_nearest</th>\n",
       "      <th>cityCenters_nearest</th>\n",
       "      <th>parks_around3000</th>\n",
       "      <th>parks_nearest</th>\n",
       "      <th>ponds_around3000</th>\n",
       "      <th>ponds_nearest</th>\n",
       "      <th>days_exposition</th>\n",
       "    </tr>\n",
       "  </thead>\n",
       "  <tbody>\n",
       "    <tr>\n",
       "      <th>0</th>\n",
       "      <td>20</td>\n",
       "      <td>13000000.0</td>\n",
       "      <td>108.00</td>\n",
       "      <td>2019-03-07T00:00:00</td>\n",
       "      <td>3</td>\n",
       "      <td>2.70</td>\n",
       "      <td>16.0</td>\n",
       "      <td>51.00</td>\n",
       "      <td>8</td>\n",
       "      <td>NaN</td>\n",
       "      <td>...</td>\n",
       "      <td>25.00</td>\n",
       "      <td>NaN</td>\n",
       "      <td>Санкт-Петербург</td>\n",
       "      <td>18863.0</td>\n",
       "      <td>16028.0</td>\n",
       "      <td>1.0</td>\n",
       "      <td>482.0</td>\n",
       "      <td>2.0</td>\n",
       "      <td>755.0</td>\n",
       "      <td>NaN</td>\n",
       "    </tr>\n",
       "    <tr>\n",
       "      <th>1</th>\n",
       "      <td>7</td>\n",
       "      <td>3350000.0</td>\n",
       "      <td>40.40</td>\n",
       "      <td>2018-12-04T00:00:00</td>\n",
       "      <td>1</td>\n",
       "      <td>NaN</td>\n",
       "      <td>11.0</td>\n",
       "      <td>18.60</td>\n",
       "      <td>1</td>\n",
       "      <td>NaN</td>\n",
       "      <td>...</td>\n",
       "      <td>11.00</td>\n",
       "      <td>2.0</td>\n",
       "      <td>посёлок Шушары</td>\n",
       "      <td>12817.0</td>\n",
       "      <td>18603.0</td>\n",
       "      <td>0.0</td>\n",
       "      <td>NaN</td>\n",
       "      <td>0.0</td>\n",
       "      <td>NaN</td>\n",
       "      <td>81.0</td>\n",
       "    </tr>\n",
       "    <tr>\n",
       "      <th>2</th>\n",
       "      <td>10</td>\n",
       "      <td>5196000.0</td>\n",
       "      <td>56.00</td>\n",
       "      <td>2015-08-20T00:00:00</td>\n",
       "      <td>2</td>\n",
       "      <td>NaN</td>\n",
       "      <td>5.0</td>\n",
       "      <td>34.30</td>\n",
       "      <td>4</td>\n",
       "      <td>NaN</td>\n",
       "      <td>...</td>\n",
       "      <td>8.30</td>\n",
       "      <td>0.0</td>\n",
       "      <td>Санкт-Петербург</td>\n",
       "      <td>21741.0</td>\n",
       "      <td>13933.0</td>\n",
       "      <td>1.0</td>\n",
       "      <td>90.0</td>\n",
       "      <td>2.0</td>\n",
       "      <td>574.0</td>\n",
       "      <td>558.0</td>\n",
       "    </tr>\n",
       "    <tr>\n",
       "      <th>3</th>\n",
       "      <td>0</td>\n",
       "      <td>64900000.0</td>\n",
       "      <td>159.00</td>\n",
       "      <td>2015-07-24T00:00:00</td>\n",
       "      <td>3</td>\n",
       "      <td>NaN</td>\n",
       "      <td>14.0</td>\n",
       "      <td>NaN</td>\n",
       "      <td>9</td>\n",
       "      <td>NaN</td>\n",
       "      <td>...</td>\n",
       "      <td>NaN</td>\n",
       "      <td>0.0</td>\n",
       "      <td>Санкт-Петербург</td>\n",
       "      <td>28098.0</td>\n",
       "      <td>6800.0</td>\n",
       "      <td>2.0</td>\n",
       "      <td>84.0</td>\n",
       "      <td>3.0</td>\n",
       "      <td>234.0</td>\n",
       "      <td>424.0</td>\n",
       "    </tr>\n",
       "    <tr>\n",
       "      <th>4</th>\n",
       "      <td>2</td>\n",
       "      <td>10000000.0</td>\n",
       "      <td>100.00</td>\n",
       "      <td>2018-06-19T00:00:00</td>\n",
       "      <td>2</td>\n",
       "      <td>3.03</td>\n",
       "      <td>14.0</td>\n",
       "      <td>32.00</td>\n",
       "      <td>13</td>\n",
       "      <td>NaN</td>\n",
       "      <td>...</td>\n",
       "      <td>41.00</td>\n",
       "      <td>NaN</td>\n",
       "      <td>Санкт-Петербург</td>\n",
       "      <td>31856.0</td>\n",
       "      <td>8098.0</td>\n",
       "      <td>2.0</td>\n",
       "      <td>112.0</td>\n",
       "      <td>1.0</td>\n",
       "      <td>48.0</td>\n",
       "      <td>121.0</td>\n",
       "    </tr>\n",
       "    <tr>\n",
       "      <th>5</th>\n",
       "      <td>10</td>\n",
       "      <td>2890000.0</td>\n",
       "      <td>30.40</td>\n",
       "      <td>2018-09-10T00:00:00</td>\n",
       "      <td>1</td>\n",
       "      <td>NaN</td>\n",
       "      <td>12.0</td>\n",
       "      <td>14.40</td>\n",
       "      <td>5</td>\n",
       "      <td>NaN</td>\n",
       "      <td>...</td>\n",
       "      <td>9.10</td>\n",
       "      <td>NaN</td>\n",
       "      <td>городской посёлок Янино-1</td>\n",
       "      <td>NaN</td>\n",
       "      <td>NaN</td>\n",
       "      <td>NaN</td>\n",
       "      <td>NaN</td>\n",
       "      <td>NaN</td>\n",
       "      <td>NaN</td>\n",
       "      <td>55.0</td>\n",
       "    </tr>\n",
       "    <tr>\n",
       "      <th>6</th>\n",
       "      <td>6</td>\n",
       "      <td>3700000.0</td>\n",
       "      <td>37.30</td>\n",
       "      <td>2017-11-02T00:00:00</td>\n",
       "      <td>1</td>\n",
       "      <td>NaN</td>\n",
       "      <td>26.0</td>\n",
       "      <td>10.60</td>\n",
       "      <td>6</td>\n",
       "      <td>NaN</td>\n",
       "      <td>...</td>\n",
       "      <td>14.40</td>\n",
       "      <td>1.0</td>\n",
       "      <td>посёлок Парголово</td>\n",
       "      <td>52996.0</td>\n",
       "      <td>19143.0</td>\n",
       "      <td>0.0</td>\n",
       "      <td>NaN</td>\n",
       "      <td>0.0</td>\n",
       "      <td>NaN</td>\n",
       "      <td>155.0</td>\n",
       "    </tr>\n",
       "    <tr>\n",
       "      <th>7</th>\n",
       "      <td>5</td>\n",
       "      <td>7915000.0</td>\n",
       "      <td>71.60</td>\n",
       "      <td>2019-04-18T00:00:00</td>\n",
       "      <td>2</td>\n",
       "      <td>NaN</td>\n",
       "      <td>24.0</td>\n",
       "      <td>NaN</td>\n",
       "      <td>22</td>\n",
       "      <td>NaN</td>\n",
       "      <td>...</td>\n",
       "      <td>18.90</td>\n",
       "      <td>2.0</td>\n",
       "      <td>Санкт-Петербург</td>\n",
       "      <td>23982.0</td>\n",
       "      <td>11634.0</td>\n",
       "      <td>0.0</td>\n",
       "      <td>NaN</td>\n",
       "      <td>0.0</td>\n",
       "      <td>NaN</td>\n",
       "      <td>NaN</td>\n",
       "    </tr>\n",
       "    <tr>\n",
       "      <th>8</th>\n",
       "      <td>20</td>\n",
       "      <td>2900000.0</td>\n",
       "      <td>33.16</td>\n",
       "      <td>2018-05-23T00:00:00</td>\n",
       "      <td>1</td>\n",
       "      <td>NaN</td>\n",
       "      <td>27.0</td>\n",
       "      <td>15.43</td>\n",
       "      <td>26</td>\n",
       "      <td>NaN</td>\n",
       "      <td>...</td>\n",
       "      <td>8.81</td>\n",
       "      <td>NaN</td>\n",
       "      <td>посёлок Мурино</td>\n",
       "      <td>NaN</td>\n",
       "      <td>NaN</td>\n",
       "      <td>NaN</td>\n",
       "      <td>NaN</td>\n",
       "      <td>NaN</td>\n",
       "      <td>NaN</td>\n",
       "      <td>189.0</td>\n",
       "    </tr>\n",
       "    <tr>\n",
       "      <th>9</th>\n",
       "      <td>18</td>\n",
       "      <td>5400000.0</td>\n",
       "      <td>61.00</td>\n",
       "      <td>2017-02-26T00:00:00</td>\n",
       "      <td>3</td>\n",
       "      <td>2.50</td>\n",
       "      <td>9.0</td>\n",
       "      <td>43.60</td>\n",
       "      <td>7</td>\n",
       "      <td>NaN</td>\n",
       "      <td>...</td>\n",
       "      <td>6.50</td>\n",
       "      <td>2.0</td>\n",
       "      <td>Санкт-Петербург</td>\n",
       "      <td>50898.0</td>\n",
       "      <td>15008.0</td>\n",
       "      <td>0.0</td>\n",
       "      <td>NaN</td>\n",
       "      <td>0.0</td>\n",
       "      <td>NaN</td>\n",
       "      <td>289.0</td>\n",
       "    </tr>\n",
       "  </tbody>\n",
       "</table>\n",
       "<p>10 rows × 22 columns</p>\n",
       "</div>"
      ],
      "text/plain": [
       "   total_images  last_price  total_area first_day_exposition  rooms  \\\n",
       "0            20  13000000.0      108.00  2019-03-07T00:00:00      3   \n",
       "1             7   3350000.0       40.40  2018-12-04T00:00:00      1   \n",
       "2            10   5196000.0       56.00  2015-08-20T00:00:00      2   \n",
       "3             0  64900000.0      159.00  2015-07-24T00:00:00      3   \n",
       "4             2  10000000.0      100.00  2018-06-19T00:00:00      2   \n",
       "5            10   2890000.0       30.40  2018-09-10T00:00:00      1   \n",
       "6             6   3700000.0       37.30  2017-11-02T00:00:00      1   \n",
       "7             5   7915000.0       71.60  2019-04-18T00:00:00      2   \n",
       "8            20   2900000.0       33.16  2018-05-23T00:00:00      1   \n",
       "9            18   5400000.0       61.00  2017-02-26T00:00:00      3   \n",
       "\n",
       "   ceiling_height  floors_total  living_area  floor is_apartment  ...  \\\n",
       "0            2.70          16.0        51.00      8          NaN  ...   \n",
       "1             NaN          11.0        18.60      1          NaN  ...   \n",
       "2             NaN           5.0        34.30      4          NaN  ...   \n",
       "3             NaN          14.0          NaN      9          NaN  ...   \n",
       "4            3.03          14.0        32.00     13          NaN  ...   \n",
       "5             NaN          12.0        14.40      5          NaN  ...   \n",
       "6             NaN          26.0        10.60      6          NaN  ...   \n",
       "7             NaN          24.0          NaN     22          NaN  ...   \n",
       "8             NaN          27.0        15.43     26          NaN  ...   \n",
       "9            2.50           9.0        43.60      7          NaN  ...   \n",
       "\n",
       "   kitchen_area  balcony              locality_name  airports_nearest  \\\n",
       "0         25.00      NaN            Санкт-Петербург           18863.0   \n",
       "1         11.00      2.0             посёлок Шушары           12817.0   \n",
       "2          8.30      0.0            Санкт-Петербург           21741.0   \n",
       "3           NaN      0.0            Санкт-Петербург           28098.0   \n",
       "4         41.00      NaN            Санкт-Петербург           31856.0   \n",
       "5          9.10      NaN  городской посёлок Янино-1               NaN   \n",
       "6         14.40      1.0          посёлок Парголово           52996.0   \n",
       "7         18.90      2.0            Санкт-Петербург           23982.0   \n",
       "8          8.81      NaN             посёлок Мурино               NaN   \n",
       "9          6.50      2.0            Санкт-Петербург           50898.0   \n",
       "\n",
       "  cityCenters_nearest  parks_around3000  parks_nearest  ponds_around3000  \\\n",
       "0             16028.0               1.0          482.0               2.0   \n",
       "1             18603.0               0.0            NaN               0.0   \n",
       "2             13933.0               1.0           90.0               2.0   \n",
       "3              6800.0               2.0           84.0               3.0   \n",
       "4              8098.0               2.0          112.0               1.0   \n",
       "5                 NaN               NaN            NaN               NaN   \n",
       "6             19143.0               0.0            NaN               0.0   \n",
       "7             11634.0               0.0            NaN               0.0   \n",
       "8                 NaN               NaN            NaN               NaN   \n",
       "9             15008.0               0.0            NaN               0.0   \n",
       "\n",
       "   ponds_nearest  days_exposition  \n",
       "0          755.0              NaN  \n",
       "1            NaN             81.0  \n",
       "2          574.0            558.0  \n",
       "3          234.0            424.0  \n",
       "4           48.0            121.0  \n",
       "5            NaN             55.0  \n",
       "6            NaN            155.0  \n",
       "7            NaN              NaN  \n",
       "8            NaN            189.0  \n",
       "9            NaN            289.0  \n",
       "\n",
       "[10 rows x 22 columns]"
      ]
     },
     "execution_count": 1,
     "metadata": {},
     "output_type": "execute_result"
    }
   ],
   "source": [
    "import pandas as pd\n",
    "import numpy as np\n",
    "import matplotlib.pyplot as plt\n",
    "data = pd.read_csv('datasets/real_estate_data.csv', sep = '\\t')\n",
    "data.head(10)"
   ]
  },
  {
   "cell_type": "code",
   "execution_count": 2,
   "metadata": {},
   "outputs": [
    {
     "name": "stdout",
     "output_type": "stream",
     "text": [
      "<class 'pandas.core.frame.DataFrame'>\n",
      "RangeIndex: 23699 entries, 0 to 23698\n",
      "Data columns (total 22 columns):\n",
      " #   Column                Non-Null Count  Dtype  \n",
      "---  ------                --------------  -----  \n",
      " 0   total_images          23699 non-null  int64  \n",
      " 1   last_price            23699 non-null  float64\n",
      " 2   total_area            23699 non-null  float64\n",
      " 3   first_day_exposition  23699 non-null  object \n",
      " 4   rooms                 23699 non-null  int64  \n",
      " 5   ceiling_height        14504 non-null  float64\n",
      " 6   floors_total          23613 non-null  float64\n",
      " 7   living_area           21796 non-null  float64\n",
      " 8   floor                 23699 non-null  int64  \n",
      " 9   is_apartment          2775 non-null   object \n",
      " 10  studio                23699 non-null  bool   \n",
      " 11  open_plan             23699 non-null  bool   \n",
      " 12  kitchen_area          21421 non-null  float64\n",
      " 13  balcony               12180 non-null  float64\n",
      " 14  locality_name         23650 non-null  object \n",
      " 15  airports_nearest      18157 non-null  float64\n",
      " 16  cityCenters_nearest   18180 non-null  float64\n",
      " 17  parks_around3000      18181 non-null  float64\n",
      " 18  parks_nearest         8079 non-null   float64\n",
      " 19  ponds_around3000      18181 non-null  float64\n",
      " 20  ponds_nearest         9110 non-null   float64\n",
      " 21  days_exposition       20518 non-null  float64\n",
      "dtypes: bool(2), float64(14), int64(3), object(3)\n",
      "memory usage: 3.7+ MB\n"
     ]
    }
   ],
   "source": [
    "data.info()"
   ]
  },
  {
   "cell_type": "markdown",
   "metadata": {},
   "source": [
    "В таблице 22 столбца.\n",
    "\n",
    "Согласно документации к данным:\n",
    "\n",
    "* `airports_nearest` — расстояние до ближайшего аэропорта в метрах (м)\n",
    "* `balcony` — число балконов\n",
    "* `ceiling_height` — высота потолков (м)\n",
    "* `cityCenters_nearest` — расстояние до центра города (м)\n",
    "* `days_exposition` — сколько дней было размещено объявление (от публикации до снятия)\n",
    "* `first_day_exposition` — дата публикации\n",
    "* `floor` — этаж\n",
    "* `floors_total` — всего этажей в доме\n",
    "* `is_apartment` — апартаменты (булев тип)\n",
    "* `kitchen_area` — площадь кухни в квадратных метрах (м²)\n",
    "* `last_price` — цена на момент снятия с публикации\n",
    "* `living_area` — жилая площадь в квадратных метрах (м²)\n",
    "* `locality_name` — название населённого пункта\n",
    "* `open_plan` — свободная планировка (булев тип)\n",
    "* `parks_around3000` — число парков в радиусе 3 км\n",
    "* `parks_nearest` — расстояние до ближайшего парка (м)\n",
    "* `ponds_around3000` — число водоёмов в радиусе 3 км\n",
    "* `ponds_nearest` — расстояние до ближайшего водоёма (м)\n",
    "* `rooms` — число комнат\n",
    "* `studio` — квартира-студия (булев тип)\n",
    "* `total_area` — площадь квартиры в квадратных метрах (м²)\n",
    "* `total_images` — число фотографий квартиры в объявлении\n",
    "\n",
    "\n",
    "Типы данных в столбцах целочисленные, вещественные, строковые и булевы. \n",
    "В данных есть пропущенные значения."
   ]
  },
  {
   "cell_type": "markdown",
   "metadata": {},
   "source": [
    "### Вывод"
   ]
  },
  {
   "cell_type": "markdown",
   "metadata": {},
   "source": [
    "В каждой строке таблицы хранится информация об объявлении о продаже квартиры в Санкт-Петербурге и соседних населённых пунктах за несколько лет. На первый взгляд данных хватает для исследования. \n",
    "Однако по первой полученной информации о таблице видно, что в таблице много пропусков и не во всех столбцах подходящий тип данных.\n",
    "\n",
    "Также видно очень много пропусков в данных, полученных автоматически на основе картографических данных. Возможно система работает некорректно, стоит обратить на это внимание."
   ]
  },
  {
   "cell_type": "markdown",
   "metadata": {},
   "source": [
    "## Предобработка данных"
   ]
  },
  {
   "cell_type": "markdown",
   "metadata": {},
   "source": [
    "Согласно полученной информации о таблице, пропущенных значений нет в столбцах `total_images`, `last_price`, `total_area`, `first_day_exposition`, `rooms`, `floor`, `studio`, `open_plan`.\n",
    "\n",
    "Пропущенных значений в столбце `ceiling_height` (высота потолков (м)) очень много, поэтому удалить эти строки нельзя, а заполнить подходящими значениями их невозможно, так как нет подходящих параметров, от которых можно отталкиваться, так что их решено оставить пустыми. \n",
    "\n",
    "Пропущенных значений в столбцах`airports_nearest` (расстояние до ближайшего аэропорта в метрах (м)), `cityCenters_nearest` ( расстояние до центра города (м)), `parks_nearest` (расстояние до ближайшего парка (м)), `ponds_nearest` (расстояние до ближайшего водоёма (м)) слишком много, поэтому их также решено оставить пустыми. \n",
    "\n",
    "Пропущенные значения в столбцах `balcony` (число балконов), `parks_around3000` (число парков в радиусе 3 км), `ponds_around3000` (число водоёмов в радиусе 3 км) решено заменить на 0, так как пропуск в этих категориях скорее всего обозначает их отсутствие."
   ]
  },
  {
   "cell_type": "code",
   "execution_count": 3,
   "metadata": {},
   "outputs": [
    {
     "name": "stdout",
     "output_type": "stream",
     "text": [
      "0\n",
      "0\n",
      "0\n"
     ]
    }
   ],
   "source": [
    "columns = ['balcony', 'parks_around3000', 'ponds_around3000']\n",
    "for column in columns:\n",
    "    data[column] = data[column].fillna(0)\n",
    "for column in columns:\n",
    "    print(data[column].isna().sum())"
   ]
  },
  {
   "cell_type": "markdown",
   "metadata": {},
   "source": [
    "Пропущенные значения столбца `is_apartment` (апартаменты (булев тип)) можно заменить на значение 'False', так как скорее всего они не заполнены, так как в этих объявлениях речь не о продаже апартаментов. Так же нужно поменять тип данных на логический."
   ]
  },
  {
   "cell_type": "code",
   "execution_count": 4,
   "metadata": {},
   "outputs": [
    {
     "data": {
      "text/plain": [
       "0        False\n",
       "1        False\n",
       "2        False\n",
       "3        False\n",
       "4        False\n",
       "         ...  \n",
       "23694    False\n",
       "23695    False\n",
       "23696    False\n",
       "23697    False\n",
       "23698    False\n",
       "Name: is_apartment, Length: 23699, dtype: bool"
      ]
     },
     "execution_count": 4,
     "metadata": {},
     "output_type": "execute_result"
    }
   ],
   "source": [
    "data['is_apartment'] = data['is_apartment'].fillna(False)\n",
    "data['is_apartment'].astype('bool')"
   ]
  },
  {
   "cell_type": "markdown",
   "metadata": {},
   "source": [
    "Можно предположить, что пропущенные значения в столбце `days_exposition` (сколько дней было размещено объявление (от публикации до снятия) есть в таблице, так как эти публикации еще не сняты. \n",
    "\n",
    "Так как дата формирования таблицы неизвестна, то возьмем самую ближайшую дату публикации объявления и будем считать, что объявления с пропущенными значениями `days_exposition` были закрыты в этот день.\n",
    "\n",
    "Для начала приведем стоблец `first_days_exposition` к типу данных 'дата'. "
   ]
  },
  {
   "cell_type": "code",
   "execution_count": 5,
   "metadata": {},
   "outputs": [
    {
     "data": {
      "text/plain": [
       "0   2019-03-07\n",
       "1   2018-12-04\n",
       "2   2015-08-20\n",
       "3   2015-07-24\n",
       "4   2018-06-19\n",
       "Name: first_day_exposition, dtype: datetime64[ns]"
      ]
     },
     "execution_count": 5,
     "metadata": {},
     "output_type": "execute_result"
    }
   ],
   "source": [
    "data['first_day_exposition'] = pd.to_datetime(data['first_day_exposition'], format ='%Y-%m-%dT%H:%M:%S')\n",
    "data['first_day_exposition'].head()"
   ]
  },
  {
   "cell_type": "code",
   "execution_count": 6,
   "metadata": {},
   "outputs": [
    {
     "name": "stderr",
     "output_type": "stream",
     "text": [
      "<ipython-input-6-850087a202fb>:4: SettingWithCopyWarning: \n",
      "A value is trying to be set on a copy of a slice from a DataFrame\n",
      "\n",
      "See the caveats in the documentation: https://pandas.pydata.org/pandas-docs/stable/user_guide/indexing.html#returning-a-view-versus-a-copy\n",
      "  data['days_exposition'][i] = delta.days\n"
     ]
    }
   ],
   "source": [
    "for i in range(len(data)):\n",
    "    delta = data['first_day_exposition'].max() - data['first_day_exposition'][i]\n",
    "    if np.isnan(data['days_exposition'][i]):\n",
    "        data['days_exposition'][i] = delta.days"
   ]
  },
  {
   "cell_type": "code",
   "execution_count": 7,
   "metadata": {
    "scrolled": false
   },
   "outputs": [
    {
     "data": {
      "text/html": [
       "<div>\n",
       "<style scoped>\n",
       "    .dataframe tbody tr th:only-of-type {\n",
       "        vertical-align: middle;\n",
       "    }\n",
       "\n",
       "    .dataframe tbody tr th {\n",
       "        vertical-align: top;\n",
       "    }\n",
       "\n",
       "    .dataframe thead th {\n",
       "        text-align: right;\n",
       "    }\n",
       "</style>\n",
       "<table border=\"1\" class=\"dataframe\">\n",
       "  <thead>\n",
       "    <tr style=\"text-align: right;\">\n",
       "      <th></th>\n",
       "      <th>total_images</th>\n",
       "      <th>last_price</th>\n",
       "      <th>total_area</th>\n",
       "      <th>first_day_exposition</th>\n",
       "      <th>rooms</th>\n",
       "      <th>ceiling_height</th>\n",
       "      <th>floors_total</th>\n",
       "      <th>living_area</th>\n",
       "      <th>floor</th>\n",
       "      <th>is_apartment</th>\n",
       "      <th>...</th>\n",
       "      <th>kitchen_area</th>\n",
       "      <th>balcony</th>\n",
       "      <th>locality_name</th>\n",
       "      <th>airports_nearest</th>\n",
       "      <th>cityCenters_nearest</th>\n",
       "      <th>parks_around3000</th>\n",
       "      <th>parks_nearest</th>\n",
       "      <th>ponds_around3000</th>\n",
       "      <th>ponds_nearest</th>\n",
       "      <th>days_exposition</th>\n",
       "    </tr>\n",
       "  </thead>\n",
       "  <tbody>\n",
       "    <tr>\n",
       "      <th>0</th>\n",
       "      <td>20</td>\n",
       "      <td>13000000.0</td>\n",
       "      <td>108.00</td>\n",
       "      <td>2019-03-07</td>\n",
       "      <td>3</td>\n",
       "      <td>2.70</td>\n",
       "      <td>16.0</td>\n",
       "      <td>51.00</td>\n",
       "      <td>8</td>\n",
       "      <td>False</td>\n",
       "      <td>...</td>\n",
       "      <td>25.00</td>\n",
       "      <td>0.0</td>\n",
       "      <td>Санкт-Петербург</td>\n",
       "      <td>18863.0</td>\n",
       "      <td>16028.0</td>\n",
       "      <td>1.0</td>\n",
       "      <td>482.0</td>\n",
       "      <td>2.0</td>\n",
       "      <td>755.0</td>\n",
       "      <td>57.0</td>\n",
       "    </tr>\n",
       "    <tr>\n",
       "      <th>1</th>\n",
       "      <td>7</td>\n",
       "      <td>3350000.0</td>\n",
       "      <td>40.40</td>\n",
       "      <td>2018-12-04</td>\n",
       "      <td>1</td>\n",
       "      <td>NaN</td>\n",
       "      <td>11.0</td>\n",
       "      <td>18.60</td>\n",
       "      <td>1</td>\n",
       "      <td>False</td>\n",
       "      <td>...</td>\n",
       "      <td>11.00</td>\n",
       "      <td>2.0</td>\n",
       "      <td>посёлок Шушары</td>\n",
       "      <td>12817.0</td>\n",
       "      <td>18603.0</td>\n",
       "      <td>0.0</td>\n",
       "      <td>NaN</td>\n",
       "      <td>0.0</td>\n",
       "      <td>NaN</td>\n",
       "      <td>81.0</td>\n",
       "    </tr>\n",
       "    <tr>\n",
       "      <th>2</th>\n",
       "      <td>10</td>\n",
       "      <td>5196000.0</td>\n",
       "      <td>56.00</td>\n",
       "      <td>2015-08-20</td>\n",
       "      <td>2</td>\n",
       "      <td>NaN</td>\n",
       "      <td>5.0</td>\n",
       "      <td>34.30</td>\n",
       "      <td>4</td>\n",
       "      <td>False</td>\n",
       "      <td>...</td>\n",
       "      <td>8.30</td>\n",
       "      <td>0.0</td>\n",
       "      <td>Санкт-Петербург</td>\n",
       "      <td>21741.0</td>\n",
       "      <td>13933.0</td>\n",
       "      <td>1.0</td>\n",
       "      <td>90.0</td>\n",
       "      <td>2.0</td>\n",
       "      <td>574.0</td>\n",
       "      <td>558.0</td>\n",
       "    </tr>\n",
       "    <tr>\n",
       "      <th>3</th>\n",
       "      <td>0</td>\n",
       "      <td>64900000.0</td>\n",
       "      <td>159.00</td>\n",
       "      <td>2015-07-24</td>\n",
       "      <td>3</td>\n",
       "      <td>NaN</td>\n",
       "      <td>14.0</td>\n",
       "      <td>NaN</td>\n",
       "      <td>9</td>\n",
       "      <td>False</td>\n",
       "      <td>...</td>\n",
       "      <td>NaN</td>\n",
       "      <td>0.0</td>\n",
       "      <td>Санкт-Петербург</td>\n",
       "      <td>28098.0</td>\n",
       "      <td>6800.0</td>\n",
       "      <td>2.0</td>\n",
       "      <td>84.0</td>\n",
       "      <td>3.0</td>\n",
       "      <td>234.0</td>\n",
       "      <td>424.0</td>\n",
       "    </tr>\n",
       "    <tr>\n",
       "      <th>4</th>\n",
       "      <td>2</td>\n",
       "      <td>10000000.0</td>\n",
       "      <td>100.00</td>\n",
       "      <td>2018-06-19</td>\n",
       "      <td>2</td>\n",
       "      <td>3.03</td>\n",
       "      <td>14.0</td>\n",
       "      <td>32.00</td>\n",
       "      <td>13</td>\n",
       "      <td>False</td>\n",
       "      <td>...</td>\n",
       "      <td>41.00</td>\n",
       "      <td>0.0</td>\n",
       "      <td>Санкт-Петербург</td>\n",
       "      <td>31856.0</td>\n",
       "      <td>8098.0</td>\n",
       "      <td>2.0</td>\n",
       "      <td>112.0</td>\n",
       "      <td>1.0</td>\n",
       "      <td>48.0</td>\n",
       "      <td>121.0</td>\n",
       "    </tr>\n",
       "    <tr>\n",
       "      <th>5</th>\n",
       "      <td>10</td>\n",
       "      <td>2890000.0</td>\n",
       "      <td>30.40</td>\n",
       "      <td>2018-09-10</td>\n",
       "      <td>1</td>\n",
       "      <td>NaN</td>\n",
       "      <td>12.0</td>\n",
       "      <td>14.40</td>\n",
       "      <td>5</td>\n",
       "      <td>False</td>\n",
       "      <td>...</td>\n",
       "      <td>9.10</td>\n",
       "      <td>0.0</td>\n",
       "      <td>городской посёлок Янино-1</td>\n",
       "      <td>NaN</td>\n",
       "      <td>NaN</td>\n",
       "      <td>0.0</td>\n",
       "      <td>NaN</td>\n",
       "      <td>0.0</td>\n",
       "      <td>NaN</td>\n",
       "      <td>55.0</td>\n",
       "    </tr>\n",
       "    <tr>\n",
       "      <th>6</th>\n",
       "      <td>6</td>\n",
       "      <td>3700000.0</td>\n",
       "      <td>37.30</td>\n",
       "      <td>2017-11-02</td>\n",
       "      <td>1</td>\n",
       "      <td>NaN</td>\n",
       "      <td>26.0</td>\n",
       "      <td>10.60</td>\n",
       "      <td>6</td>\n",
       "      <td>False</td>\n",
       "      <td>...</td>\n",
       "      <td>14.40</td>\n",
       "      <td>1.0</td>\n",
       "      <td>посёлок Парголово</td>\n",
       "      <td>52996.0</td>\n",
       "      <td>19143.0</td>\n",
       "      <td>0.0</td>\n",
       "      <td>NaN</td>\n",
       "      <td>0.0</td>\n",
       "      <td>NaN</td>\n",
       "      <td>155.0</td>\n",
       "    </tr>\n",
       "    <tr>\n",
       "      <th>7</th>\n",
       "      <td>5</td>\n",
       "      <td>7915000.0</td>\n",
       "      <td>71.60</td>\n",
       "      <td>2019-04-18</td>\n",
       "      <td>2</td>\n",
       "      <td>NaN</td>\n",
       "      <td>24.0</td>\n",
       "      <td>NaN</td>\n",
       "      <td>22</td>\n",
       "      <td>False</td>\n",
       "      <td>...</td>\n",
       "      <td>18.90</td>\n",
       "      <td>2.0</td>\n",
       "      <td>Санкт-Петербург</td>\n",
       "      <td>23982.0</td>\n",
       "      <td>11634.0</td>\n",
       "      <td>0.0</td>\n",
       "      <td>NaN</td>\n",
       "      <td>0.0</td>\n",
       "      <td>NaN</td>\n",
       "      <td>15.0</td>\n",
       "    </tr>\n",
       "    <tr>\n",
       "      <th>8</th>\n",
       "      <td>20</td>\n",
       "      <td>2900000.0</td>\n",
       "      <td>33.16</td>\n",
       "      <td>2018-05-23</td>\n",
       "      <td>1</td>\n",
       "      <td>NaN</td>\n",
       "      <td>27.0</td>\n",
       "      <td>15.43</td>\n",
       "      <td>26</td>\n",
       "      <td>False</td>\n",
       "      <td>...</td>\n",
       "      <td>8.81</td>\n",
       "      <td>0.0</td>\n",
       "      <td>посёлок Мурино</td>\n",
       "      <td>NaN</td>\n",
       "      <td>NaN</td>\n",
       "      <td>0.0</td>\n",
       "      <td>NaN</td>\n",
       "      <td>0.0</td>\n",
       "      <td>NaN</td>\n",
       "      <td>189.0</td>\n",
       "    </tr>\n",
       "    <tr>\n",
       "      <th>9</th>\n",
       "      <td>18</td>\n",
       "      <td>5400000.0</td>\n",
       "      <td>61.00</td>\n",
       "      <td>2017-02-26</td>\n",
       "      <td>3</td>\n",
       "      <td>2.50</td>\n",
       "      <td>9.0</td>\n",
       "      <td>43.60</td>\n",
       "      <td>7</td>\n",
       "      <td>False</td>\n",
       "      <td>...</td>\n",
       "      <td>6.50</td>\n",
       "      <td>2.0</td>\n",
       "      <td>Санкт-Петербург</td>\n",
       "      <td>50898.0</td>\n",
       "      <td>15008.0</td>\n",
       "      <td>0.0</td>\n",
       "      <td>NaN</td>\n",
       "      <td>0.0</td>\n",
       "      <td>NaN</td>\n",
       "      <td>289.0</td>\n",
       "    </tr>\n",
       "  </tbody>\n",
       "</table>\n",
       "<p>10 rows × 22 columns</p>\n",
       "</div>"
      ],
      "text/plain": [
       "   total_images  last_price  total_area first_day_exposition  rooms  \\\n",
       "0            20  13000000.0      108.00           2019-03-07      3   \n",
       "1             7   3350000.0       40.40           2018-12-04      1   \n",
       "2            10   5196000.0       56.00           2015-08-20      2   \n",
       "3             0  64900000.0      159.00           2015-07-24      3   \n",
       "4             2  10000000.0      100.00           2018-06-19      2   \n",
       "5            10   2890000.0       30.40           2018-09-10      1   \n",
       "6             6   3700000.0       37.30           2017-11-02      1   \n",
       "7             5   7915000.0       71.60           2019-04-18      2   \n",
       "8            20   2900000.0       33.16           2018-05-23      1   \n",
       "9            18   5400000.0       61.00           2017-02-26      3   \n",
       "\n",
       "   ceiling_height  floors_total  living_area  floor  is_apartment  ...  \\\n",
       "0            2.70          16.0        51.00      8         False  ...   \n",
       "1             NaN          11.0        18.60      1         False  ...   \n",
       "2             NaN           5.0        34.30      4         False  ...   \n",
       "3             NaN          14.0          NaN      9         False  ...   \n",
       "4            3.03          14.0        32.00     13         False  ...   \n",
       "5             NaN          12.0        14.40      5         False  ...   \n",
       "6             NaN          26.0        10.60      6         False  ...   \n",
       "7             NaN          24.0          NaN     22         False  ...   \n",
       "8             NaN          27.0        15.43     26         False  ...   \n",
       "9            2.50           9.0        43.60      7         False  ...   \n",
       "\n",
       "   kitchen_area  balcony              locality_name  airports_nearest  \\\n",
       "0         25.00      0.0            Санкт-Петербург           18863.0   \n",
       "1         11.00      2.0             посёлок Шушары           12817.0   \n",
       "2          8.30      0.0            Санкт-Петербург           21741.0   \n",
       "3           NaN      0.0            Санкт-Петербург           28098.0   \n",
       "4         41.00      0.0            Санкт-Петербург           31856.0   \n",
       "5          9.10      0.0  городской посёлок Янино-1               NaN   \n",
       "6         14.40      1.0          посёлок Парголово           52996.0   \n",
       "7         18.90      2.0            Санкт-Петербург           23982.0   \n",
       "8          8.81      0.0             посёлок Мурино               NaN   \n",
       "9          6.50      2.0            Санкт-Петербург           50898.0   \n",
       "\n",
       "  cityCenters_nearest  parks_around3000  parks_nearest  ponds_around3000  \\\n",
       "0             16028.0               1.0          482.0               2.0   \n",
       "1             18603.0               0.0            NaN               0.0   \n",
       "2             13933.0               1.0           90.0               2.0   \n",
       "3              6800.0               2.0           84.0               3.0   \n",
       "4              8098.0               2.0          112.0               1.0   \n",
       "5                 NaN               0.0            NaN               0.0   \n",
       "6             19143.0               0.0            NaN               0.0   \n",
       "7             11634.0               0.0            NaN               0.0   \n",
       "8                 NaN               0.0            NaN               0.0   \n",
       "9             15008.0               0.0            NaN               0.0   \n",
       "\n",
       "   ponds_nearest  days_exposition  \n",
       "0          755.0             57.0  \n",
       "1            NaN             81.0  \n",
       "2          574.0            558.0  \n",
       "3          234.0            424.0  \n",
       "4           48.0            121.0  \n",
       "5            NaN             55.0  \n",
       "6            NaN            155.0  \n",
       "7            NaN             15.0  \n",
       "8            NaN            189.0  \n",
       "9            NaN            289.0  \n",
       "\n",
       "[10 rows x 22 columns]"
      ]
     },
     "execution_count": 7,
     "metadata": {},
     "output_type": "execute_result"
    }
   ],
   "source": [
    "data.head(10)"
   ]
  },
  {
   "cell_type": "markdown",
   "metadata": {},
   "source": [
    "Для заполнения пропущенных значений в столбцах `kitchen_area` и `living_area` медианным значением зависящим от общей площади квартиры. Для этого добавим столбцы с отношением площади кухни к общей площади и жилой площади к общей площади."
   ]
  },
  {
   "cell_type": "code",
   "execution_count": 8,
   "metadata": {},
   "outputs": [
    {
     "data": {
      "text/html": [
       "<div>\n",
       "<style scoped>\n",
       "    .dataframe tbody tr th:only-of-type {\n",
       "        vertical-align: middle;\n",
       "    }\n",
       "\n",
       "    .dataframe tbody tr th {\n",
       "        vertical-align: top;\n",
       "    }\n",
       "\n",
       "    .dataframe thead th {\n",
       "        text-align: right;\n",
       "    }\n",
       "</style>\n",
       "<table border=\"1\" class=\"dataframe\">\n",
       "  <thead>\n",
       "    <tr style=\"text-align: right;\">\n",
       "      <th></th>\n",
       "      <th>total_images</th>\n",
       "      <th>last_price</th>\n",
       "      <th>total_area</th>\n",
       "      <th>first_day_exposition</th>\n",
       "      <th>rooms</th>\n",
       "      <th>ceiling_height</th>\n",
       "      <th>floors_total</th>\n",
       "      <th>living_area</th>\n",
       "      <th>floor</th>\n",
       "      <th>is_apartment</th>\n",
       "      <th>...</th>\n",
       "      <th>locality_name</th>\n",
       "      <th>airports_nearest</th>\n",
       "      <th>cityCenters_nearest</th>\n",
       "      <th>parks_around3000</th>\n",
       "      <th>parks_nearest</th>\n",
       "      <th>ponds_around3000</th>\n",
       "      <th>ponds_nearest</th>\n",
       "      <th>days_exposition</th>\n",
       "      <th>kitchen_%_total</th>\n",
       "      <th>living_%_total</th>\n",
       "    </tr>\n",
       "  </thead>\n",
       "  <tbody>\n",
       "    <tr>\n",
       "      <th>0</th>\n",
       "      <td>20</td>\n",
       "      <td>13000000.0</td>\n",
       "      <td>108.00</td>\n",
       "      <td>2019-03-07</td>\n",
       "      <td>3</td>\n",
       "      <td>2.70</td>\n",
       "      <td>16.0</td>\n",
       "      <td>51.000000</td>\n",
       "      <td>8</td>\n",
       "      <td>False</td>\n",
       "      <td>...</td>\n",
       "      <td>Санкт-Петербург</td>\n",
       "      <td>18863.0</td>\n",
       "      <td>16028.0</td>\n",
       "      <td>1.0</td>\n",
       "      <td>482.0</td>\n",
       "      <td>2.0</td>\n",
       "      <td>755.0</td>\n",
       "      <td>57.0</td>\n",
       "      <td>0.231481</td>\n",
       "      <td>0.472222</td>\n",
       "    </tr>\n",
       "    <tr>\n",
       "      <th>1</th>\n",
       "      <td>7</td>\n",
       "      <td>3350000.0</td>\n",
       "      <td>40.40</td>\n",
       "      <td>2018-12-04</td>\n",
       "      <td>1</td>\n",
       "      <td>NaN</td>\n",
       "      <td>11.0</td>\n",
       "      <td>18.600000</td>\n",
       "      <td>1</td>\n",
       "      <td>False</td>\n",
       "      <td>...</td>\n",
       "      <td>посёлок Шушары</td>\n",
       "      <td>12817.0</td>\n",
       "      <td>18603.0</td>\n",
       "      <td>0.0</td>\n",
       "      <td>NaN</td>\n",
       "      <td>0.0</td>\n",
       "      <td>NaN</td>\n",
       "      <td>81.0</td>\n",
       "      <td>0.272277</td>\n",
       "      <td>0.460396</td>\n",
       "    </tr>\n",
       "    <tr>\n",
       "      <th>2</th>\n",
       "      <td>10</td>\n",
       "      <td>5196000.0</td>\n",
       "      <td>56.00</td>\n",
       "      <td>2015-08-20</td>\n",
       "      <td>2</td>\n",
       "      <td>NaN</td>\n",
       "      <td>5.0</td>\n",
       "      <td>34.300000</td>\n",
       "      <td>4</td>\n",
       "      <td>False</td>\n",
       "      <td>...</td>\n",
       "      <td>Санкт-Петербург</td>\n",
       "      <td>21741.0</td>\n",
       "      <td>13933.0</td>\n",
       "      <td>1.0</td>\n",
       "      <td>90.0</td>\n",
       "      <td>2.0</td>\n",
       "      <td>574.0</td>\n",
       "      <td>558.0</td>\n",
       "      <td>0.148214</td>\n",
       "      <td>0.612500</td>\n",
       "    </tr>\n",
       "    <tr>\n",
       "      <th>3</th>\n",
       "      <td>0</td>\n",
       "      <td>64900000.0</td>\n",
       "      <td>159.00</td>\n",
       "      <td>2015-07-24</td>\n",
       "      <td>3</td>\n",
       "      <td>NaN</td>\n",
       "      <td>14.0</td>\n",
       "      <td>90.289724</td>\n",
       "      <td>9</td>\n",
       "      <td>False</td>\n",
       "      <td>...</td>\n",
       "      <td>Санкт-Петербург</td>\n",
       "      <td>28098.0</td>\n",
       "      <td>6800.0</td>\n",
       "      <td>2.0</td>\n",
       "      <td>84.0</td>\n",
       "      <td>3.0</td>\n",
       "      <td>234.0</td>\n",
       "      <td>424.0</td>\n",
       "      <td>0.172414</td>\n",
       "      <td>0.567860</td>\n",
       "    </tr>\n",
       "    <tr>\n",
       "      <th>4</th>\n",
       "      <td>2</td>\n",
       "      <td>10000000.0</td>\n",
       "      <td>100.00</td>\n",
       "      <td>2018-06-19</td>\n",
       "      <td>2</td>\n",
       "      <td>3.03</td>\n",
       "      <td>14.0</td>\n",
       "      <td>32.000000</td>\n",
       "      <td>13</td>\n",
       "      <td>False</td>\n",
       "      <td>...</td>\n",
       "      <td>Санкт-Петербург</td>\n",
       "      <td>31856.0</td>\n",
       "      <td>8098.0</td>\n",
       "      <td>2.0</td>\n",
       "      <td>112.0</td>\n",
       "      <td>1.0</td>\n",
       "      <td>48.0</td>\n",
       "      <td>121.0</td>\n",
       "      <td>0.410000</td>\n",
       "      <td>0.320000</td>\n",
       "    </tr>\n",
       "    <tr>\n",
       "      <th>5</th>\n",
       "      <td>10</td>\n",
       "      <td>2890000.0</td>\n",
       "      <td>30.40</td>\n",
       "      <td>2018-09-10</td>\n",
       "      <td>1</td>\n",
       "      <td>NaN</td>\n",
       "      <td>12.0</td>\n",
       "      <td>14.400000</td>\n",
       "      <td>5</td>\n",
       "      <td>False</td>\n",
       "      <td>...</td>\n",
       "      <td>городской посёлок Янино-1</td>\n",
       "      <td>NaN</td>\n",
       "      <td>NaN</td>\n",
       "      <td>0.0</td>\n",
       "      <td>NaN</td>\n",
       "      <td>0.0</td>\n",
       "      <td>NaN</td>\n",
       "      <td>55.0</td>\n",
       "      <td>0.299342</td>\n",
       "      <td>0.473684</td>\n",
       "    </tr>\n",
       "    <tr>\n",
       "      <th>6</th>\n",
       "      <td>6</td>\n",
       "      <td>3700000.0</td>\n",
       "      <td>37.30</td>\n",
       "      <td>2017-11-02</td>\n",
       "      <td>1</td>\n",
       "      <td>NaN</td>\n",
       "      <td>26.0</td>\n",
       "      <td>10.600000</td>\n",
       "      <td>6</td>\n",
       "      <td>False</td>\n",
       "      <td>...</td>\n",
       "      <td>посёлок Парголово</td>\n",
       "      <td>52996.0</td>\n",
       "      <td>19143.0</td>\n",
       "      <td>0.0</td>\n",
       "      <td>NaN</td>\n",
       "      <td>0.0</td>\n",
       "      <td>NaN</td>\n",
       "      <td>155.0</td>\n",
       "      <td>0.386059</td>\n",
       "      <td>0.284182</td>\n",
       "    </tr>\n",
       "    <tr>\n",
       "      <th>7</th>\n",
       "      <td>5</td>\n",
       "      <td>7915000.0</td>\n",
       "      <td>71.60</td>\n",
       "      <td>2019-04-18</td>\n",
       "      <td>2</td>\n",
       "      <td>NaN</td>\n",
       "      <td>24.0</td>\n",
       "      <td>40.658769</td>\n",
       "      <td>22</td>\n",
       "      <td>False</td>\n",
       "      <td>...</td>\n",
       "      <td>Санкт-Петербург</td>\n",
       "      <td>23982.0</td>\n",
       "      <td>11634.0</td>\n",
       "      <td>0.0</td>\n",
       "      <td>NaN</td>\n",
       "      <td>0.0</td>\n",
       "      <td>NaN</td>\n",
       "      <td>15.0</td>\n",
       "      <td>0.263966</td>\n",
       "      <td>0.567860</td>\n",
       "    </tr>\n",
       "    <tr>\n",
       "      <th>8</th>\n",
       "      <td>20</td>\n",
       "      <td>2900000.0</td>\n",
       "      <td>33.16</td>\n",
       "      <td>2018-05-23</td>\n",
       "      <td>1</td>\n",
       "      <td>NaN</td>\n",
       "      <td>27.0</td>\n",
       "      <td>15.430000</td>\n",
       "      <td>26</td>\n",
       "      <td>False</td>\n",
       "      <td>...</td>\n",
       "      <td>посёлок Мурино</td>\n",
       "      <td>NaN</td>\n",
       "      <td>NaN</td>\n",
       "      <td>0.0</td>\n",
       "      <td>NaN</td>\n",
       "      <td>0.0</td>\n",
       "      <td>NaN</td>\n",
       "      <td>189.0</td>\n",
       "      <td>0.265682</td>\n",
       "      <td>0.465320</td>\n",
       "    </tr>\n",
       "    <tr>\n",
       "      <th>9</th>\n",
       "      <td>18</td>\n",
       "      <td>5400000.0</td>\n",
       "      <td>61.00</td>\n",
       "      <td>2017-02-26</td>\n",
       "      <td>3</td>\n",
       "      <td>2.50</td>\n",
       "      <td>9.0</td>\n",
       "      <td>43.600000</td>\n",
       "      <td>7</td>\n",
       "      <td>False</td>\n",
       "      <td>...</td>\n",
       "      <td>Санкт-Петербург</td>\n",
       "      <td>50898.0</td>\n",
       "      <td>15008.0</td>\n",
       "      <td>0.0</td>\n",
       "      <td>NaN</td>\n",
       "      <td>0.0</td>\n",
       "      <td>NaN</td>\n",
       "      <td>289.0</td>\n",
       "      <td>0.106557</td>\n",
       "      <td>0.714754</td>\n",
       "    </tr>\n",
       "  </tbody>\n",
       "</table>\n",
       "<p>10 rows × 24 columns</p>\n",
       "</div>"
      ],
      "text/plain": [
       "   total_images  last_price  total_area first_day_exposition  rooms  \\\n",
       "0            20  13000000.0      108.00           2019-03-07      3   \n",
       "1             7   3350000.0       40.40           2018-12-04      1   \n",
       "2            10   5196000.0       56.00           2015-08-20      2   \n",
       "3             0  64900000.0      159.00           2015-07-24      3   \n",
       "4             2  10000000.0      100.00           2018-06-19      2   \n",
       "5            10   2890000.0       30.40           2018-09-10      1   \n",
       "6             6   3700000.0       37.30           2017-11-02      1   \n",
       "7             5   7915000.0       71.60           2019-04-18      2   \n",
       "8            20   2900000.0       33.16           2018-05-23      1   \n",
       "9            18   5400000.0       61.00           2017-02-26      3   \n",
       "\n",
       "   ceiling_height  floors_total  living_area  floor  is_apartment  ...  \\\n",
       "0            2.70          16.0    51.000000      8         False  ...   \n",
       "1             NaN          11.0    18.600000      1         False  ...   \n",
       "2             NaN           5.0    34.300000      4         False  ...   \n",
       "3             NaN          14.0    90.289724      9         False  ...   \n",
       "4            3.03          14.0    32.000000     13         False  ...   \n",
       "5             NaN          12.0    14.400000      5         False  ...   \n",
       "6             NaN          26.0    10.600000      6         False  ...   \n",
       "7             NaN          24.0    40.658769     22         False  ...   \n",
       "8             NaN          27.0    15.430000     26         False  ...   \n",
       "9            2.50           9.0    43.600000      7         False  ...   \n",
       "\n",
       "               locality_name  airports_nearest  cityCenters_nearest  \\\n",
       "0            Санкт-Петербург           18863.0              16028.0   \n",
       "1             посёлок Шушары           12817.0              18603.0   \n",
       "2            Санкт-Петербург           21741.0              13933.0   \n",
       "3            Санкт-Петербург           28098.0               6800.0   \n",
       "4            Санкт-Петербург           31856.0               8098.0   \n",
       "5  городской посёлок Янино-1               NaN                  NaN   \n",
       "6          посёлок Парголово           52996.0              19143.0   \n",
       "7            Санкт-Петербург           23982.0              11634.0   \n",
       "8             посёлок Мурино               NaN                  NaN   \n",
       "9            Санкт-Петербург           50898.0              15008.0   \n",
       "\n",
       "   parks_around3000 parks_nearest  ponds_around3000  ponds_nearest  \\\n",
       "0               1.0         482.0               2.0          755.0   \n",
       "1               0.0           NaN               0.0            NaN   \n",
       "2               1.0          90.0               2.0          574.0   \n",
       "3               2.0          84.0               3.0          234.0   \n",
       "4               2.0         112.0               1.0           48.0   \n",
       "5               0.0           NaN               0.0            NaN   \n",
       "6               0.0           NaN               0.0            NaN   \n",
       "7               0.0           NaN               0.0            NaN   \n",
       "8               0.0           NaN               0.0            NaN   \n",
       "9               0.0           NaN               0.0            NaN   \n",
       "\n",
       "   days_exposition  kitchen_%_total  living_%_total  \n",
       "0             57.0         0.231481        0.472222  \n",
       "1             81.0         0.272277        0.460396  \n",
       "2            558.0         0.148214        0.612500  \n",
       "3            424.0         0.172414        0.567860  \n",
       "4            121.0         0.410000        0.320000  \n",
       "5             55.0         0.299342        0.473684  \n",
       "6            155.0         0.386059        0.284182  \n",
       "7             15.0         0.263966        0.567860  \n",
       "8            189.0         0.265682        0.465320  \n",
       "9            289.0         0.106557        0.714754  \n",
       "\n",
       "[10 rows x 24 columns]"
      ]
     },
     "execution_count": 8,
     "metadata": {},
     "output_type": "execute_result"
    }
   ],
   "source": [
    "data['kitchen_%_total'] = data['kitchen_area']/data['total_area']\n",
    "data['kitchen_%_total'] = data['kitchen_%_total'].fillna(data['kitchen_%_total'].median())\n",
    "data['kitchen_area'] = data['kitchen_area'].fillna(data['kitchen_%_total']*data['total_area'])\n",
    "\n",
    "data['living_%_total'] = data['living_area']/data['total_area']\n",
    "data['living_%_total'] = data['living_%_total'].fillna(data['living_%_total'].median())\n",
    "data['living_area'] = data['living_area'].fillna(data['living_%_total']*data['total_area'])\n",
    "data.head(10)"
   ]
  },
  {
   "cell_type": "markdown",
   "metadata": {},
   "source": [
    "Для того, чтобы исследовать названия насленных пунктов нужно удалить дубликаты. Посмотрим на все уникальные значения в этом столбце."
   ]
  },
  {
   "cell_type": "code",
   "execution_count": 9,
   "metadata": {},
   "outputs": [
    {
     "data": {
      "text/plain": [
       "array(['Санкт-Петербург', 'посёлок Шушары', 'городской посёлок Янино-1',\n",
       "       'посёлок Парголово', 'посёлок Мурино', 'Ломоносов', 'Сертолово',\n",
       "       'Петергоф', 'Пушкин', 'деревня Кудрово', 'Коммунар', 'Колпино',\n",
       "       'поселок городского типа Красный Бор', 'Гатчина', 'поселок Мурино',\n",
       "       'деревня Фёдоровское', 'Выборг', 'Кронштадт', 'Кировск',\n",
       "       'деревня Новое Девяткино', 'посёлок Металлострой',\n",
       "       'посёлок городского типа Лебяжье',\n",
       "       'посёлок городского типа Сиверский', 'поселок Молодцово',\n",
       "       'поселок городского типа Кузьмоловский',\n",
       "       'садовое товарищество Новая Ропша', 'Павловск',\n",
       "       'деревня Пикколово', 'Всеволожск', 'Волхов', 'Кингисепп',\n",
       "       'Приозерск', 'Сестрорецк', 'деревня Куттузи', 'посёлок Аннино',\n",
       "       'поселок городского типа Ефимовский', 'посёлок Плодовое',\n",
       "       'деревня Заклинье', 'поселок Торковичи', 'поселок Первомайское',\n",
       "       'Красное Село', 'посёлок Понтонный', 'Сясьстрой', 'деревня Старая',\n",
       "       'деревня Лесколово', 'посёлок Новый Свет', 'Сланцы',\n",
       "       'село Путилово', 'Ивангород', 'Мурино', 'Шлиссельбург',\n",
       "       'Никольское', 'Зеленогорск', 'Сосновый Бор', 'поселок Новый Свет',\n",
       "       'деревня Оржицы', 'деревня Кальтино', 'Кудрово',\n",
       "       'поселок Романовка', 'посёлок Бугры', 'поселок Бугры',\n",
       "       'поселок городского типа Рощино', 'Кириши', 'Луга', 'Волосово',\n",
       "       'Отрадное', 'село Павлово', 'поселок Оредеж', 'село Копорье',\n",
       "       'посёлок городского типа Красный Бор', 'посёлок Молодёжное',\n",
       "       'Тихвин', 'посёлок Победа', 'деревня Нурма',\n",
       "       'поселок городского типа Синявино', 'Тосно',\n",
       "       'посёлок городского типа Кузьмоловский', 'посёлок Стрельна',\n",
       "       'Бокситогорск', 'посёлок Александровская', 'деревня Лопухинка',\n",
       "       'Пикалёво', 'поселок Терволово',\n",
       "       'поселок городского типа Советский', 'Подпорожье',\n",
       "       'посёлок Петровское', 'посёлок городского типа Токсово',\n",
       "       'поселок Сельцо', 'посёлок городского типа Вырица',\n",
       "       'деревня Кипень', 'деревня Келози', 'деревня Вартемяги',\n",
       "       'посёлок Тельмана', 'поселок Севастьяново',\n",
       "       'городской поселок Большая Ижора', nan,\n",
       "       'городской посёлок Павлово', 'деревня Агалатово',\n",
       "       'посёлок Новогорелово', 'городской посёлок Лесогорский',\n",
       "       'деревня Лаголово', 'поселок Цвелодубово',\n",
       "       'поселок городского типа Рахья', 'поселок городского типа Вырица',\n",
       "       'деревня Белогорка', 'поселок Заводской',\n",
       "       'городской посёлок Новоселье', 'деревня Большие Колпаны',\n",
       "       'деревня Горбунки', 'деревня Батово', 'деревня Заневка',\n",
       "       'деревня Иссад', 'Приморск', 'городской посёлок Фёдоровское',\n",
       "       'деревня Мистолово', 'Новая Ладога', 'поселок Зимитицы',\n",
       "       'поселок Барышево', 'деревня Разметелево',\n",
       "       'поселок городского типа имени Свердлова', 'деревня Пеники',\n",
       "       'поселок Рябово', 'деревня Пудомяги', 'поселок станции Корнево',\n",
       "       'деревня Низино', 'деревня Бегуницы', 'посёлок Поляны',\n",
       "       'городской посёлок Мга', 'поселок Елизаветино',\n",
       "       'посёлок городского типа Кузнечное', 'деревня Колтуши',\n",
       "       'поселок Запорожское', 'посёлок городского типа Рощино',\n",
       "       'деревня Гостилицы', 'деревня Малое Карлино',\n",
       "       'посёлок Мичуринское', 'посёлок городского типа имени Морозова',\n",
       "       'посёлок Песочный', 'посёлок Сосново', 'деревня Аро',\n",
       "       'поселок Ильичёво', 'посёлок городского типа Тайцы',\n",
       "       'деревня Малое Верево', 'деревня Извара', 'поселок станции Вещево',\n",
       "       'село Паша', 'деревня Калитино',\n",
       "       'посёлок городского типа Ульяновка', 'деревня Чудской Бор',\n",
       "       'поселок городского типа Дубровка', 'деревня Мины',\n",
       "       'поселок Войсковицы', 'посёлок городского типа имени Свердлова',\n",
       "       'деревня Коркино', 'посёлок Ропша',\n",
       "       'поселок городского типа Приладожский', 'посёлок Щеглово',\n",
       "       'посёлок Гаврилово', 'Лодейное Поле', 'деревня Рабитицы',\n",
       "       'поселок городского типа Никольский', 'деревня Кузьмолово',\n",
       "       'деревня Малые Колпаны', 'поселок Тельмана',\n",
       "       'посёлок Петро-Славянка', 'городской посёлок Назия',\n",
       "       'посёлок Репино', 'посёлок Ильичёво', 'поселок Углово',\n",
       "       'поселок Старая Малукса', 'садовое товарищество Рахья',\n",
       "       'поселок Аннино', 'поселок Победа', 'деревня Меньково',\n",
       "       'деревня Старые Бегуницы', 'посёлок Сапёрный', 'поселок Семрино',\n",
       "       'поселок Гаврилово', 'поселок Глажево', 'поселок Кобринское',\n",
       "       'деревня Гарболово', 'деревня Юкки',\n",
       "       'поселок станции Приветнинское', 'деревня Мануйлово',\n",
       "       'деревня Пчева', 'поселок Поляны', 'поселок Цвылёво',\n",
       "       'поселок Мельниково', 'посёлок Пудость', 'посёлок Усть-Луга',\n",
       "       'Светогорск', 'Любань', 'поселок Селезнёво',\n",
       "       'поселок городского типа Рябово', 'Каменногорск', 'деревня Кривко',\n",
       "       'поселок Глебычево', 'деревня Парицы', 'поселок Жилпосёлок',\n",
       "       'посёлок городского типа Мга', 'городской поселок Янино-1',\n",
       "       'посёлок Войскорово', 'село Никольское', 'посёлок Терволово',\n",
       "       'поселок Стеклянный', 'посёлок городского типа Важины',\n",
       "       'посёлок Мыза-Ивановка', 'село Русско-Высоцкое',\n",
       "       'поселок городского типа Лебяжье',\n",
       "       'поселок городского типа Форносово', 'село Старая Ладога',\n",
       "       'поселок Житково', 'городской посёлок Виллози', 'деревня Лампово',\n",
       "       'деревня Шпаньково', 'деревня Лаврики', 'посёлок Сумино',\n",
       "       'посёлок Возрождение', 'деревня Старосиверская',\n",
       "       'посёлок Кикерино', 'поселок Возрождение',\n",
       "       'деревня Старое Хинколово', 'посёлок Пригородный',\n",
       "       'посёлок Торфяное', 'городской посёлок Будогощь',\n",
       "       'поселок Суходолье', 'поселок Красная Долина', 'деревня Хапо-Ое',\n",
       "       'поселок городского типа Дружная Горка', 'поселок Лисий Нос',\n",
       "       'деревня Яльгелево', 'посёлок Стеклянный', 'село Рождествено',\n",
       "       'деревня Старополье', 'посёлок Левашово', 'деревня Сяськелево',\n",
       "       'деревня Камышовка',\n",
       "       'садоводческое некоммерческое товарищество Лесная Поляна',\n",
       "       'деревня Хязельки', 'поселок Жилгородок',\n",
       "       'посёлок городского типа Павлово', 'деревня Ялгино',\n",
       "       'поселок Новый Учхоз', 'городской посёлок Рощино',\n",
       "       'поселок Гончарово', 'поселок Почап', 'посёлок Сапёрное',\n",
       "       'посёлок Платформа 69-й километр', 'поселок Каложицы',\n",
       "       'деревня Фалилеево', 'деревня Пельгора',\n",
       "       'поселок городского типа Лесогорский', 'деревня Торошковичи',\n",
       "       'посёлок Белоостров', 'посёлок Алексеевка', 'поселок Серебрянский',\n",
       "       'поселок Лукаши', 'поселок Петровское', 'деревня Щеглово',\n",
       "       'поселок Мичуринское', 'деревня Тарасово', 'поселок Кингисеппский',\n",
       "       'посёлок при железнодорожной станции Вещево', 'поселок Ушаки',\n",
       "       'деревня Котлы', 'деревня Сижно', 'деревня Торосово',\n",
       "       'посёлок Форт Красная Горка', 'поселок городского типа Токсово',\n",
       "       'деревня Новолисино', 'посёлок станции Громово', 'деревня Глинка',\n",
       "       'посёлок Мельниково', 'поселок городского типа Назия',\n",
       "       'деревня Старая Пустошь', 'поселок Коммунары', 'поселок Починок',\n",
       "       'посёлок городского типа Вознесенье', 'деревня Разбегаево',\n",
       "       'посёлок городского типа Рябово', 'поселок Гладкое',\n",
       "       'посёлок при железнодорожной станции Приветнинское',\n",
       "       'поселок Тёсово-4', 'посёлок Жилгородок', 'деревня Бор',\n",
       "       'посёлок Коробицыно', 'деревня Большая Вруда', 'деревня Курковицы',\n",
       "       'посёлок Лисий Нос', 'городской посёлок Советский',\n",
       "       'посёлок Кобралово', 'деревня Суоранда', 'поселок Кобралово',\n",
       "       'поселок городского типа Кондратьево',\n",
       "       'коттеджный поселок Счастье', 'поселок Любань', 'деревня Реброво',\n",
       "       'деревня Зимитицы', 'деревня Тойворово', 'поселок Семиозерье',\n",
       "       'поселок Лесное', 'поселок Совхозный', 'поселок Усть-Луга',\n",
       "       'посёлок Ленинское', 'посёлок Суйда',\n",
       "       'посёлок городского типа Форносово', 'деревня Нижние Осельки',\n",
       "       'посёлок станции Свирь', 'поселок Перово', 'Высоцк',\n",
       "       'поселок Гарболово', 'село Шум', 'поселок Котельский',\n",
       "       'поселок станции Лужайка', 'деревня Большая Пустомержа',\n",
       "       'поселок Красносельское', 'деревня Вахнова Кара', 'деревня Пижма',\n",
       "       'коттеджный поселок Кивеннапа Север', 'поселок Коробицыно',\n",
       "       'поселок Ромашки', 'посёлок Перово', 'деревня Каськово',\n",
       "       'деревня Куровицы', 'посёлок Плоское', 'поселок Сумино',\n",
       "       'поселок городского типа Большая Ижора', 'поселок Кирпичное',\n",
       "       'деревня Ям-Тесово', 'деревня Раздолье', 'деревня Терпилицы',\n",
       "       'посёлок Шугозеро', 'деревня Ваганово', 'поселок Пушное',\n",
       "       'садовое товарищество Садко', 'посёлок Усть-Ижора',\n",
       "       'деревня Выскатка', 'городской посёлок Свирьстрой',\n",
       "       'поселок Громово', 'деревня Кисельня', 'посёлок Старая Малукса',\n",
       "       'деревня Трубников Бор', 'поселок Калитино',\n",
       "       'посёлок Высокоключевой', 'садовое товарищество Приладожский',\n",
       "       'посёлок Пансионат Зелёный Бор', 'деревня Ненимяки',\n",
       "       'поселок Пансионат Зелёный Бор', 'деревня Снегирёвка',\n",
       "       'деревня Рапполово', 'деревня Пустынка', 'поселок Рабитицы',\n",
       "       'деревня Большой Сабск', 'деревня Русско', 'деревня Лупполово',\n",
       "       'деревня Большое Рейзино', 'деревня Малая Романовка',\n",
       "       'поселок Дружноселье', 'поселок Пчевжа', 'поселок Володарское',\n",
       "       'деревня Нижняя', 'коттеджный посёлок Лесное', 'деревня Тихковицы',\n",
       "       'деревня Борисова Грива', 'посёлок Дзержинского'], dtype=object)"
      ]
     },
     "execution_count": 9,
     "metadata": {},
     "output_type": "execute_result"
    }
   ],
   "source": [
    "data['locality_name'].unique()"
   ]
  },
  {
   "cell_type": "markdown",
   "metadata": {},
   "source": [
    "Сразу видны дубликаты связанные с буквами \"е\" и \"ё\". Решено было заменить все буквы \"ё\" на \"е\".\n",
    "\n",
    "А пропущенные значения на \"Название не указано\"."
   ]
  },
  {
   "cell_type": "code",
   "execution_count": 10,
   "metadata": {},
   "outputs": [],
   "source": [
    "data['locality_name'] = data['locality_name'].str.replace('ё', 'е')\n",
    "data['locality_name'] = data['locality_name'].fillna('Название не указано')"
   ]
  },
  {
   "cell_type": "markdown",
   "metadata": {},
   "source": [
    "Но этого мало. Ещё есть неочевидные дубликаты, где указаны разные обозначения, например \"деревня Кудрово\" и \"Кудрово\". Решено удалить все обозначения и оставить только названия."
   ]
  },
  {
   "cell_type": "code",
   "execution_count": 11,
   "metadata": {},
   "outputs": [
    {
     "data": {
      "text/plain": [
       "array(['Санкт-Петербург', 'Шушары', 'Янино-1', 'Парголово', 'Мурино',\n",
       "       'Ломоносов', 'Сертолово', 'Петергоф', 'Пушкин', 'Кудрово',\n",
       "       'Коммунар', 'Колпино', 'Красный Бор', 'Гатчина', 'Федоровское',\n",
       "       'Выборг', 'Кронштадт', 'Кировск', 'Новое Девяткино',\n",
       "       'Металлострой', 'Лебяжье', 'Сиверский', 'Молодцово',\n",
       "       'Кузьмоловский', 'Новая Ропша', 'Павловск', 'Пикколово',\n",
       "       'Всеволожск', 'Волхов', 'Кингисепп', 'Приозерск', 'Сестрорецк',\n",
       "       'Куттузи', 'Аннино', 'Ефимовский', 'Плодовое', 'Заклинье',\n",
       "       'Торковичи', 'Первомайское', 'Красное Село', 'Понтонный',\n",
       "       'Сясьстрой', 'Старая', 'Лесколово', 'Новый Свет', 'Сланцы',\n",
       "       'Путилово', 'Ивангород', 'Шлиссельбург', 'Никольское',\n",
       "       'Зеленогорск', 'Сосновый Бор', 'Оржицы', 'Кальтино', 'Романовка',\n",
       "       'Бугры', 'Рощино', 'Кириши', 'Луга', 'Волосово', 'Отрадное',\n",
       "       'Павлово', 'Оредеж', 'Копорье', 'Молодежное', 'Тихвин', 'Победа',\n",
       "       'Нурма', 'Синявино', 'Тосно', 'Стрельна', 'Бокситогорск',\n",
       "       'Александровская', 'Лопухинка', 'Пикалево', 'Терволово',\n",
       "       'Советский', 'Подпорожье', 'Петровское', 'Токсово', 'Сельцо',\n",
       "       'Вырица', 'Кипень', 'Келози', 'Вартемяги', 'Тельмана',\n",
       "       'Севастьяново', 'Большая Ижора', 'Название не указано',\n",
       "       'Агалатово', 'Новогорелово', 'Лесогорский', 'Лаголово',\n",
       "       'Цвелодубово', 'Рахья', 'Белогорка', 'Заводской', 'Новоселье',\n",
       "       'Большие Колпаны', 'Горбунки', 'Батово', 'Заневка', 'Иссад',\n",
       "       'Приморск', 'Мистолово', 'Новая Ладога', 'Зимитицы', 'Барышево',\n",
       "       'Разметелево', 'имени Свердлова', 'Пеники', 'Рябово', 'Пудомяги',\n",
       "       'Корнево', 'Низино', 'Бегуницы', 'Поляны', 'Мга', 'Елизаветино',\n",
       "       'Кузнечное', 'Колтуши', 'Запорожское', 'Гостилицы',\n",
       "       'Малое Карлино', 'Мичуринское', 'имени Морозова', 'Песочный',\n",
       "       'Сосново', 'Аро', 'Ильичево', 'Тайцы', 'Малое Верево', 'Извара',\n",
       "       'Вещево', 'Паша', 'Калитино', 'Ульяновка', 'Чудской Бор',\n",
       "       'Дубровка', 'Мины', 'Войсковицы', 'Коркино', 'Ропша',\n",
       "       'Приладожский', 'Щеглово', 'Гаврилово', 'Лодейное Поле',\n",
       "       'Рабитицы', 'Никольский', 'Кузьмолово', 'Малые Колпаны',\n",
       "       'Петро-Славянка', 'Назия', 'Репино', 'Углово', 'Старая Малукса',\n",
       "       'Меньково', 'Старые Бегуницы', 'Саперный', 'Семрино', 'Глажево',\n",
       "       'Кобринское', 'Гарболово', 'Юкки', 'Приветнинское', 'Мануйлово',\n",
       "       'Пчева', 'Цвылево', 'Мельниково', 'Пудость', 'Усть-Луга',\n",
       "       'Светогорск', 'Любань', 'Селезнево', 'Каменногорск', 'Кривко',\n",
       "       'Глебычево', 'Парицы', 'Жил', 'Войскорово', 'Стеклянный', 'Важины',\n",
       "       'Мыза-Ивановка', 'Русско-Высоцкое', 'Форносово', 'Старая Ладога',\n",
       "       'Житково', 'Виллози', 'Лампово', 'Шпаньково', 'Лаврики', 'Сумино',\n",
       "       'Возрождение', 'Старосиверская', 'Кикерино', 'Старое Хинколово',\n",
       "       'Пригородный', 'Торфяное', 'Будогощь', 'Суходолье',\n",
       "       'Красная Долина', 'Хапо-Ое', 'Дружная Горка', 'Лисий Нос',\n",
       "       'Яльгелево', 'Рождествено', 'Старополье', 'Левашово', 'Сяськелево',\n",
       "       'Камышовка', 'Лесная Поляна', 'Хязельки', 'Жилгородок', 'Ялгино',\n",
       "       'Новый Учхоз', 'Гончарово', 'Почап', 'Саперное',\n",
       "       'Платформа 69-й километр', 'Каложицы', 'Фалилеево', 'Пельгора',\n",
       "       'Торошковичи', 'Белоостров', 'Алексеевка', 'Серебрянский',\n",
       "       'Лукаши', 'Тарасово', 'Кингисеппский',\n",
       "       'при железнодорожной  Вещево', 'Ушаки', 'Котлы', 'Сижно',\n",
       "       'Торосово', 'Форт Красная Горка', 'Новолисино', 'Громово',\n",
       "       'Глинка', 'Старая Пустошь', 'Коммунары', 'Починок', 'Вознесенье',\n",
       "       'Разбегаево', 'Гладкое', 'при железнодорожной  Приветнинское',\n",
       "       'Тесово-4', 'Бор', 'Коробицыно', 'Большая Вруда', 'Курковицы',\n",
       "       'Кобралово', 'Суоранда', 'Кондратьево', 'Счастье', 'Реброво',\n",
       "       'Тойворово', 'Семиозерье', 'Лесное', 'Совхозный', 'Ленинское',\n",
       "       'Суйда', 'Нижние Осельки', 'Свирь', 'Перово', 'Высоцк', 'Шум',\n",
       "       'Котельский', 'Лужайка', 'Большая Пустомержа', 'Красносельское',\n",
       "       'Вахнова Кара', 'Пижма', 'Кивеннапа Север', 'Ромашки', 'Каськово',\n",
       "       'Куровицы', 'Плоское', 'Кирпичное', 'Ям-Тесово', 'Раздолье',\n",
       "       'Терпилицы', 'Шугозеро', 'Ваганово', 'Пушное', 'Садко',\n",
       "       'Усть-Ижора', 'Выскатка', 'Свирьстрой', 'Кисельня',\n",
       "       'Трубников Бор', 'Высокоключевой', 'Пансионат Зеленый Бор',\n",
       "       'Ненимяки', 'Снегиревка', 'Рапполово', 'Пустынка', 'Большой Сабск',\n",
       "       'Русско', 'Лупполово', 'Большое Рейзино', 'Малая Романовка',\n",
       "       'Дружноселье', 'Пчевжа', 'Володарское', 'Нижняя', 'Тихковицы',\n",
       "       'Борисова Грива', 'Дзержинского'], dtype=object)"
      ]
     },
     "execution_count": 11,
     "metadata": {},
     "output_type": "execute_result"
    }
   ],
   "source": [
    "list_for_replace = ['поселок', 'село', 'городской', 'городского', 'типа', 'садоводческое', 'некоммерческое', 'садовое', 'товарищество', 'деревня', 'коттеджный', 'станции']\n",
    "for value in list_for_replace:\n",
    "    data['locality_name'] = data['locality_name'].str.replace(value, '') #удаление всех обозначений, чтобы исследовать только названия\n",
    "data['locality_name'] = data['locality_name'].str.lstrip() #удаление пробелов в начале строк\n",
    "data['locality_name'].unique()"
   ]
  },
  {
   "cell_type": "markdown",
   "metadata": {},
   "source": [
    "Пропущенных значений в столбце `floors_total` (всего этажей в доме) относительно всех таблицы мало, поэтому эти строки решено удалить. \n",
    "\n",
    "Столбцы 'floors_total', 'last_price', 'parks_around3000', 'ponds_around3000', 'days_exposition' должны иметь целочисленные значения, так что в них можно произвести замену вещественного типа данных на целочисленный."
   ]
  },
  {
   "cell_type": "code",
   "execution_count": 12,
   "metadata": {},
   "outputs": [],
   "source": [
    "data.dropna(subset = ['floors_total'], inplace = True)\n",
    "\n",
    "data[['floors_total', 'last_price', 'parks_around3000', 'ponds_around3000', 'days_exposition']] = data[['floors_total', 'last_price', 'parks_around3000', 'ponds_around3000', 'days_exposition']].astype('int')"
   ]
  },
  {
   "cell_type": "code",
   "execution_count": 13,
   "metadata": {},
   "outputs": [
    {
     "data": {
      "text/html": [
       "<div>\n",
       "<style scoped>\n",
       "    .dataframe tbody tr th:only-of-type {\n",
       "        vertical-align: middle;\n",
       "    }\n",
       "\n",
       "    .dataframe tbody tr th {\n",
       "        vertical-align: top;\n",
       "    }\n",
       "\n",
       "    .dataframe thead th {\n",
       "        text-align: right;\n",
       "    }\n",
       "</style>\n",
       "<table border=\"1\" class=\"dataframe\">\n",
       "  <thead>\n",
       "    <tr style=\"text-align: right;\">\n",
       "      <th></th>\n",
       "      <th>total_images</th>\n",
       "      <th>last_price</th>\n",
       "      <th>total_area</th>\n",
       "      <th>first_day_exposition</th>\n",
       "      <th>rooms</th>\n",
       "      <th>ceiling_height</th>\n",
       "      <th>floors_total</th>\n",
       "      <th>living_area</th>\n",
       "      <th>floor</th>\n",
       "      <th>is_apartment</th>\n",
       "      <th>...</th>\n",
       "      <th>locality_name</th>\n",
       "      <th>airports_nearest</th>\n",
       "      <th>cityCenters_nearest</th>\n",
       "      <th>parks_around3000</th>\n",
       "      <th>parks_nearest</th>\n",
       "      <th>ponds_around3000</th>\n",
       "      <th>ponds_nearest</th>\n",
       "      <th>days_exposition</th>\n",
       "      <th>kitchen_%_total</th>\n",
       "      <th>living_%_total</th>\n",
       "    </tr>\n",
       "  </thead>\n",
       "  <tbody>\n",
       "    <tr>\n",
       "      <th>0</th>\n",
       "      <td>20</td>\n",
       "      <td>13000000</td>\n",
       "      <td>108.0</td>\n",
       "      <td>2019-03-07</td>\n",
       "      <td>3</td>\n",
       "      <td>2.70</td>\n",
       "      <td>16</td>\n",
       "      <td>51.000000</td>\n",
       "      <td>8</td>\n",
       "      <td>False</td>\n",
       "      <td>...</td>\n",
       "      <td>Санкт-Петербург</td>\n",
       "      <td>18863.0</td>\n",
       "      <td>16028.0</td>\n",
       "      <td>1</td>\n",
       "      <td>482.0</td>\n",
       "      <td>2</td>\n",
       "      <td>755.0</td>\n",
       "      <td>57</td>\n",
       "      <td>0.231481</td>\n",
       "      <td>0.472222</td>\n",
       "    </tr>\n",
       "    <tr>\n",
       "      <th>1</th>\n",
       "      <td>7</td>\n",
       "      <td>3350000</td>\n",
       "      <td>40.4</td>\n",
       "      <td>2018-12-04</td>\n",
       "      <td>1</td>\n",
       "      <td>NaN</td>\n",
       "      <td>11</td>\n",
       "      <td>18.600000</td>\n",
       "      <td>1</td>\n",
       "      <td>False</td>\n",
       "      <td>...</td>\n",
       "      <td>Шушары</td>\n",
       "      <td>12817.0</td>\n",
       "      <td>18603.0</td>\n",
       "      <td>0</td>\n",
       "      <td>NaN</td>\n",
       "      <td>0</td>\n",
       "      <td>NaN</td>\n",
       "      <td>81</td>\n",
       "      <td>0.272277</td>\n",
       "      <td>0.460396</td>\n",
       "    </tr>\n",
       "    <tr>\n",
       "      <th>2</th>\n",
       "      <td>10</td>\n",
       "      <td>5196000</td>\n",
       "      <td>56.0</td>\n",
       "      <td>2015-08-20</td>\n",
       "      <td>2</td>\n",
       "      <td>NaN</td>\n",
       "      <td>5</td>\n",
       "      <td>34.300000</td>\n",
       "      <td>4</td>\n",
       "      <td>False</td>\n",
       "      <td>...</td>\n",
       "      <td>Санкт-Петербург</td>\n",
       "      <td>21741.0</td>\n",
       "      <td>13933.0</td>\n",
       "      <td>1</td>\n",
       "      <td>90.0</td>\n",
       "      <td>2</td>\n",
       "      <td>574.0</td>\n",
       "      <td>558</td>\n",
       "      <td>0.148214</td>\n",
       "      <td>0.612500</td>\n",
       "    </tr>\n",
       "    <tr>\n",
       "      <th>3</th>\n",
       "      <td>0</td>\n",
       "      <td>64900000</td>\n",
       "      <td>159.0</td>\n",
       "      <td>2015-07-24</td>\n",
       "      <td>3</td>\n",
       "      <td>NaN</td>\n",
       "      <td>14</td>\n",
       "      <td>90.289724</td>\n",
       "      <td>9</td>\n",
       "      <td>False</td>\n",
       "      <td>...</td>\n",
       "      <td>Санкт-Петербург</td>\n",
       "      <td>28098.0</td>\n",
       "      <td>6800.0</td>\n",
       "      <td>2</td>\n",
       "      <td>84.0</td>\n",
       "      <td>3</td>\n",
       "      <td>234.0</td>\n",
       "      <td>424</td>\n",
       "      <td>0.172414</td>\n",
       "      <td>0.567860</td>\n",
       "    </tr>\n",
       "    <tr>\n",
       "      <th>4</th>\n",
       "      <td>2</td>\n",
       "      <td>10000000</td>\n",
       "      <td>100.0</td>\n",
       "      <td>2018-06-19</td>\n",
       "      <td>2</td>\n",
       "      <td>3.03</td>\n",
       "      <td>14</td>\n",
       "      <td>32.000000</td>\n",
       "      <td>13</td>\n",
       "      <td>False</td>\n",
       "      <td>...</td>\n",
       "      <td>Санкт-Петербург</td>\n",
       "      <td>31856.0</td>\n",
       "      <td>8098.0</td>\n",
       "      <td>2</td>\n",
       "      <td>112.0</td>\n",
       "      <td>1</td>\n",
       "      <td>48.0</td>\n",
       "      <td>121</td>\n",
       "      <td>0.410000</td>\n",
       "      <td>0.320000</td>\n",
       "    </tr>\n",
       "  </tbody>\n",
       "</table>\n",
       "<p>5 rows × 24 columns</p>\n",
       "</div>"
      ],
      "text/plain": [
       "   total_images  last_price  total_area first_day_exposition  rooms  \\\n",
       "0            20    13000000       108.0           2019-03-07      3   \n",
       "1             7     3350000        40.4           2018-12-04      1   \n",
       "2            10     5196000        56.0           2015-08-20      2   \n",
       "3             0    64900000       159.0           2015-07-24      3   \n",
       "4             2    10000000       100.0           2018-06-19      2   \n",
       "\n",
       "   ceiling_height  floors_total  living_area  floor  is_apartment  ...  \\\n",
       "0            2.70            16    51.000000      8         False  ...   \n",
       "1             NaN            11    18.600000      1         False  ...   \n",
       "2             NaN             5    34.300000      4         False  ...   \n",
       "3             NaN            14    90.289724      9         False  ...   \n",
       "4            3.03            14    32.000000     13         False  ...   \n",
       "\n",
       "     locality_name  airports_nearest  cityCenters_nearest  parks_around3000  \\\n",
       "0  Санкт-Петербург           18863.0              16028.0                 1   \n",
       "1           Шушары           12817.0              18603.0                 0   \n",
       "2  Санкт-Петербург           21741.0              13933.0                 1   \n",
       "3  Санкт-Петербург           28098.0               6800.0                 2   \n",
       "4  Санкт-Петербург           31856.0               8098.0                 2   \n",
       "\n",
       "  parks_nearest  ponds_around3000  ponds_nearest  days_exposition  \\\n",
       "0         482.0                 2          755.0               57   \n",
       "1           NaN                 0            NaN               81   \n",
       "2          90.0                 2          574.0              558   \n",
       "3          84.0                 3          234.0              424   \n",
       "4         112.0                 1           48.0              121   \n",
       "\n",
       "   kitchen_%_total  living_%_total  \n",
       "0         0.231481        0.472222  \n",
       "1         0.272277        0.460396  \n",
       "2         0.148214        0.612500  \n",
       "3         0.172414        0.567860  \n",
       "4         0.410000        0.320000  \n",
       "\n",
       "[5 rows x 24 columns]"
      ]
     },
     "execution_count": 13,
     "metadata": {},
     "output_type": "execute_result"
    }
   ],
   "source": [
    "data.head()"
   ]
  },
  {
   "cell_type": "markdown",
   "metadata": {},
   "source": [
    "Так же нужно проверить таблицу на полные дубликаты строк."
   ]
  },
  {
   "cell_type": "code",
   "execution_count": 14,
   "metadata": {
    "scrolled": true
   },
   "outputs": [
    {
     "data": {
      "text/plain": [
       "0"
      ]
     },
     "execution_count": 14,
     "metadata": {},
     "output_type": "execute_result"
    }
   ],
   "source": [
    "data.duplicated().sum()"
   ]
  },
  {
   "cell_type": "markdown",
   "metadata": {},
   "source": [
    "### Вывод"
   ]
  },
  {
   "cell_type": "markdown",
   "metadata": {},
   "source": [
    "При предобработке данных насколько это возможно были обработаны пропущенные значения:\n",
    "- В `balcony`, `parks_around3000`, `ponds_around3000` они заменены на 0.\n",
    "- В `locality_name` заменены на \"Название не указано\"\n",
    "- В `kitchen_area` и `living_area` они заполнены медианным значением зависящим от общей площади квартиры.\n",
    "- В `days_exposition` заполнены значениями зависящими от даты публикации и даты последнего объявления.\n",
    "\n",
    "Обработаны дубликаты в столбце `locality_name`. Также проверено отсутствие полных дубликатов.\n",
    "\n",
    "Значения столбца `first_days_exposition` приведены к типу данных \"дата\". Столбца `is_apartment` к логическому типу данных.\n",
    "А столбцы `floors_total`, `last_price`, `parks_around3000`, `ponds_around3000`, `days_exposition` приведены к целочисленному типу данных."
   ]
  },
  {
   "cell_type": "markdown",
   "metadata": {},
   "source": [
    "## Расчёты и добавление результатов в таблицу"
   ]
  },
  {
   "cell_type": "markdown",
   "metadata": {},
   "source": [
    "При предобработке данных уже были добавлены столбцы соотношения жилой и общей площади `living_%_total`, а также отношения площади кухни к общей `kitchen_%_total`.\n",
    "\n",
    "Рассчитаем и добавим в таблицу цену квадратного метра `price_meter`."
   ]
  },
  {
   "cell_type": "code",
   "execution_count": 15,
   "metadata": {},
   "outputs": [],
   "source": [
    "data['price_meter'] = (data['last_price']/data['total_area']).astype('int')"
   ]
  },
  {
   "cell_type": "markdown",
   "metadata": {},
   "source": [
    "Также добавим день недели, месяц и год публикации объявления `weekday_exposition`, `month_exposition`, `year_exposition`."
   ]
  },
  {
   "cell_type": "code",
   "execution_count": 16,
   "metadata": {},
   "outputs": [],
   "source": [
    "data['weekday_exposition'] = data['first_day_exposition'].dt.weekday\n",
    "data['month_exposition'] = data['first_day_exposition'].dt.month\n",
    "data['year_exposition'] = data['first_day_exposition'].dt.year"
   ]
  },
  {
   "cell_type": "markdown",
   "metadata": {},
   "source": [
    "И этаж квартиры `floor_group`\n",
    "Варианты — первый, последний, другой."
   ]
  },
  {
   "cell_type": "code",
   "execution_count": 17,
   "metadata": {
    "scrolled": true
   },
   "outputs": [
    {
     "data": {
      "text/html": [
       "<div>\n",
       "<style scoped>\n",
       "    .dataframe tbody tr th:only-of-type {\n",
       "        vertical-align: middle;\n",
       "    }\n",
       "\n",
       "    .dataframe tbody tr th {\n",
       "        vertical-align: top;\n",
       "    }\n",
       "\n",
       "    .dataframe thead th {\n",
       "        text-align: right;\n",
       "    }\n",
       "</style>\n",
       "<table border=\"1\" class=\"dataframe\">\n",
       "  <thead>\n",
       "    <tr style=\"text-align: right;\">\n",
       "      <th></th>\n",
       "      <th>total_images</th>\n",
       "      <th>last_price</th>\n",
       "      <th>total_area</th>\n",
       "      <th>first_day_exposition</th>\n",
       "      <th>rooms</th>\n",
       "      <th>ceiling_height</th>\n",
       "      <th>floors_total</th>\n",
       "      <th>living_area</th>\n",
       "      <th>floor</th>\n",
       "      <th>is_apartment</th>\n",
       "      <th>...</th>\n",
       "      <th>ponds_around3000</th>\n",
       "      <th>ponds_nearest</th>\n",
       "      <th>days_exposition</th>\n",
       "      <th>kitchen_%_total</th>\n",
       "      <th>living_%_total</th>\n",
       "      <th>price_meter</th>\n",
       "      <th>weekday_exposition</th>\n",
       "      <th>month_exposition</th>\n",
       "      <th>year_exposition</th>\n",
       "      <th>floor_group</th>\n",
       "    </tr>\n",
       "  </thead>\n",
       "  <tbody>\n",
       "    <tr>\n",
       "      <th>0</th>\n",
       "      <td>20</td>\n",
       "      <td>13000000</td>\n",
       "      <td>108.0</td>\n",
       "      <td>2019-03-07</td>\n",
       "      <td>3</td>\n",
       "      <td>2.70</td>\n",
       "      <td>16</td>\n",
       "      <td>51.000000</td>\n",
       "      <td>8</td>\n",
       "      <td>False</td>\n",
       "      <td>...</td>\n",
       "      <td>2</td>\n",
       "      <td>755.0</td>\n",
       "      <td>57</td>\n",
       "      <td>0.231481</td>\n",
       "      <td>0.472222</td>\n",
       "      <td>120370</td>\n",
       "      <td>3</td>\n",
       "      <td>3</td>\n",
       "      <td>2019</td>\n",
       "      <td>другой</td>\n",
       "    </tr>\n",
       "    <tr>\n",
       "      <th>1</th>\n",
       "      <td>7</td>\n",
       "      <td>3350000</td>\n",
       "      <td>40.4</td>\n",
       "      <td>2018-12-04</td>\n",
       "      <td>1</td>\n",
       "      <td>NaN</td>\n",
       "      <td>11</td>\n",
       "      <td>18.600000</td>\n",
       "      <td>1</td>\n",
       "      <td>False</td>\n",
       "      <td>...</td>\n",
       "      <td>0</td>\n",
       "      <td>NaN</td>\n",
       "      <td>81</td>\n",
       "      <td>0.272277</td>\n",
       "      <td>0.460396</td>\n",
       "      <td>82920</td>\n",
       "      <td>1</td>\n",
       "      <td>12</td>\n",
       "      <td>2018</td>\n",
       "      <td>первый</td>\n",
       "    </tr>\n",
       "    <tr>\n",
       "      <th>2</th>\n",
       "      <td>10</td>\n",
       "      <td>5196000</td>\n",
       "      <td>56.0</td>\n",
       "      <td>2015-08-20</td>\n",
       "      <td>2</td>\n",
       "      <td>NaN</td>\n",
       "      <td>5</td>\n",
       "      <td>34.300000</td>\n",
       "      <td>4</td>\n",
       "      <td>False</td>\n",
       "      <td>...</td>\n",
       "      <td>2</td>\n",
       "      <td>574.0</td>\n",
       "      <td>558</td>\n",
       "      <td>0.148214</td>\n",
       "      <td>0.612500</td>\n",
       "      <td>92785</td>\n",
       "      <td>3</td>\n",
       "      <td>8</td>\n",
       "      <td>2015</td>\n",
       "      <td>другой</td>\n",
       "    </tr>\n",
       "    <tr>\n",
       "      <th>3</th>\n",
       "      <td>0</td>\n",
       "      <td>64900000</td>\n",
       "      <td>159.0</td>\n",
       "      <td>2015-07-24</td>\n",
       "      <td>3</td>\n",
       "      <td>NaN</td>\n",
       "      <td>14</td>\n",
       "      <td>90.289724</td>\n",
       "      <td>9</td>\n",
       "      <td>False</td>\n",
       "      <td>...</td>\n",
       "      <td>3</td>\n",
       "      <td>234.0</td>\n",
       "      <td>424</td>\n",
       "      <td>0.172414</td>\n",
       "      <td>0.567860</td>\n",
       "      <td>408176</td>\n",
       "      <td>4</td>\n",
       "      <td>7</td>\n",
       "      <td>2015</td>\n",
       "      <td>другой</td>\n",
       "    </tr>\n",
       "    <tr>\n",
       "      <th>4</th>\n",
       "      <td>2</td>\n",
       "      <td>10000000</td>\n",
       "      <td>100.0</td>\n",
       "      <td>2018-06-19</td>\n",
       "      <td>2</td>\n",
       "      <td>3.03</td>\n",
       "      <td>14</td>\n",
       "      <td>32.000000</td>\n",
       "      <td>13</td>\n",
       "      <td>False</td>\n",
       "      <td>...</td>\n",
       "      <td>1</td>\n",
       "      <td>48.0</td>\n",
       "      <td>121</td>\n",
       "      <td>0.410000</td>\n",
       "      <td>0.320000</td>\n",
       "      <td>100000</td>\n",
       "      <td>1</td>\n",
       "      <td>6</td>\n",
       "      <td>2018</td>\n",
       "      <td>другой</td>\n",
       "    </tr>\n",
       "  </tbody>\n",
       "</table>\n",
       "<p>5 rows × 29 columns</p>\n",
       "</div>"
      ],
      "text/plain": [
       "   total_images  last_price  total_area first_day_exposition  rooms  \\\n",
       "0            20    13000000       108.0           2019-03-07      3   \n",
       "1             7     3350000        40.4           2018-12-04      1   \n",
       "2            10     5196000        56.0           2015-08-20      2   \n",
       "3             0    64900000       159.0           2015-07-24      3   \n",
       "4             2    10000000       100.0           2018-06-19      2   \n",
       "\n",
       "   ceiling_height  floors_total  living_area  floor  is_apartment  ...  \\\n",
       "0            2.70            16    51.000000      8         False  ...   \n",
       "1             NaN            11    18.600000      1         False  ...   \n",
       "2             NaN             5    34.300000      4         False  ...   \n",
       "3             NaN            14    90.289724      9         False  ...   \n",
       "4            3.03            14    32.000000     13         False  ...   \n",
       "\n",
       "   ponds_around3000  ponds_nearest  days_exposition  kitchen_%_total  \\\n",
       "0                 2          755.0               57         0.231481   \n",
       "1                 0            NaN               81         0.272277   \n",
       "2                 2          574.0              558         0.148214   \n",
       "3                 3          234.0              424         0.172414   \n",
       "4                 1           48.0              121         0.410000   \n",
       "\n",
       "  living_%_total  price_meter  weekday_exposition  month_exposition  \\\n",
       "0       0.472222       120370                   3                 3   \n",
       "1       0.460396        82920                   1                12   \n",
       "2       0.612500        92785                   3                 8   \n",
       "3       0.567860       408176                   4                 7   \n",
       "4       0.320000       100000                   1                 6   \n",
       "\n",
       "   year_exposition  floor_group  \n",
       "0             2019       другой  \n",
       "1             2018       первый  \n",
       "2             2015       другой  \n",
       "3             2015       другой  \n",
       "4             2018       другой  \n",
       "\n",
       "[5 rows x 29 columns]"
      ]
     },
     "execution_count": 17,
     "metadata": {},
     "output_type": "execute_result"
    }
   ],
   "source": [
    "def floor_group(row_values):\n",
    "    if row_values['floor'] == row_values['floors_total']:\n",
    "        return 'последний'\n",
    "    if row_values['floor'] == 1:\n",
    "        return 'первый'\n",
    "    else:\n",
    "        return 'другой'\n",
    "data['floor_group'] = data.apply(floor_group, axis=1)\n",
    "data.head()"
   ]
  },
  {
   "cell_type": "markdown",
   "metadata": {},
   "source": [
    "### Вывод"
   ]
  },
  {
   "cell_type": "markdown",
   "metadata": {},
   "source": [
    "В таблицу добавлены:\n",
    "- `price_meter` цена квадратного метра;\n",
    "- `weekday_exposition` день недели, `month_exposition` месяц и `year_exposition` год публикации объявления;\n",
    "- `floor_group` этаж квартиры; варианты — первый, последний, другой;\n",
    "- `living_%_total` соотношение жилой и общей площади, а также `kitchen_%_total` отношение площади кухни к общей."
   ]
  },
  {
   "cell_type": "markdown",
   "metadata": {},
   "source": [
    "## Исследовательский анализ данных"
   ]
  },
  {
   "cell_type": "markdown",
   "metadata": {},
   "source": [
    "Для изучения таких параметров, как площадь, цена, число комнат, высота потолков, построим гистрограммы. Рассмотрим только нормальные значения, без учета выбросов."
   ]
  },
  {
   "cell_type": "code",
   "execution_count": 18,
   "metadata": {
    "scrolled": true
   },
   "outputs": [
    {
     "data": {
      "image/png": "[encoded data removed]",
      "text/plain": [
       "<Figure size 864x360 with 1 Axes>"
      ]
     },
     "metadata": {
      "needs_background": "light"
     },
     "output_type": "display_data"
    },
    {
     "data": {
      "image/png": "[encoded data removed]",
      "text/plain": [
       "<Figure size 864x360 with 1 Axes>"
      ]
     },
     "metadata": {
      "needs_background": "light"
     },
     "output_type": "display_data"
    },
    {
     "data": {
      "image/png": "[encoded data removed]",
      "text/plain": [
       "<Figure size 864x360 with 1 Axes>"
      ]
     },
     "metadata": {
      "needs_background": "light"
     },
     "output_type": "display_data"
    },
    {
     "data": {
      "image/png": "[encoded data removed]",
      "text/plain": [
       "<Figure size 864x360 with 1 Axes>"
      ]
     },
     "metadata": {
      "needs_background": "light"
     },
     "output_type": "display_data"
    }
   ],
   "source": [
    "columns = ['total_area', 'rooms', 'price_meter', 'ceiling_height']\n",
    "for column in columns:\n",
    "    #расчет IQR для нахождения интервала наиболее вероятных значений \n",
    "    q1 = data[column].quantile(0.25)\n",
    "    q3 = data[column].quantile(0.75)\n",
    "    igr = q3 - q1\n",
    "    data.plot(kind = 'hist',y = column, bins = 50, grid=True, range = (q1 - 1.5*igr, q3 + 1.5*igr ), figsize = (12,5))"
   ]
  },
  {
   "cell_type": "markdown",
   "metadata": {},
   "source": [
    "Большая часть продаваемых квартир по площади находятся в промежутке от 30 до 60 кв.метров. Продажи больших по площади квартир снижаются в соответствии с их размером.\n",
    "\n",
    "Лучше всего продаются 1-комнатные и 2-комнатные квартиры, чуть меньше продается 3-комнатных. Далее в соответствиис увеличением количество комнат продажи значительно снижаются. Также продалось очень мало 0-комнатных квартир (видимо это совсем маленькие студии).\n",
    "\n",
    "Распеределение цен на квадратный метр на данном интервале стремить к нормальному. Пик приходится на 100000 рублей за кв.метр.\n",
    "\n",
    "Самая часто встречаемая высота потолков примерно 2.5 метра. "
   ]
  },
  {
   "cell_type": "markdown",
   "metadata": {},
   "source": [
    "Уберем редкие и выбивающиеся значения и внесем все отфильтрованные значения в таблицу data_good:"
   ]
  },
  {
   "cell_type": "code",
   "execution_count": 19,
   "metadata": {},
   "outputs": [],
   "source": [
    "columns = ['total_area', 'rooms', 'price_meter', 'ceiling_height']\n",
    "for column in columns:\n",
    "    q1 = data[column].quantile(0.25)\n",
    "    q3 = data[column].quantile(0.75)\n",
    "    igr = q3 - q1\n",
    "    a = q1 - 1.5*igr\n",
    "    b = q3 + 1.5*igr\n",
    "    data_good = data[(a < data[column]) & (data[column] < b)]"
   ]
  },
  {
   "cell_type": "markdown",
   "metadata": {},
   "source": [
    "Для изучения времени продажи квартиры построим гистограмму и посмотрим общие статистические данные о столбце `days_exposition`.|"
   ]
  },
  {
   "cell_type": "code",
   "execution_count": 20,
   "metadata": {},
   "outputs": [
    {
     "data": {
      "text/plain": [
       "Text(0.5, 1.0, 'days_exposition')"
      ]
     },
     "execution_count": 20,
     "metadata": {},
     "output_type": "execute_result"
    },
    {
     "data": {
      "image/png": "[encoded data removed]",
      "text/plain": [
       "<Figure size 432x288 with 1 Axes>"
      ]
     },
     "metadata": {
      "needs_background": "light"
     },
     "output_type": "display_data"
    }
   ],
   "source": [
    "data['days_exposition'].hist(bins=50, range=(0, 1800)).set_title('days_exposition')"
   ]
  },
  {
   "cell_type": "code",
   "execution_count": 21,
   "metadata": {
    "scrolled": true
   },
   "outputs": [
    {
     "data": {
      "text/plain": [
       "count   23,613.00\n",
       "mean       185.87\n",
       "std        233.42\n",
       "min          0.00\n",
       "25%         43.00\n",
       "50%         94.00\n",
       "75%        237.00\n",
       "max      1,618.00\n",
       "Name: days_exposition, dtype: float64"
      ]
     },
     "execution_count": 21,
     "metadata": {},
     "output_type": "execute_result"
    }
   ],
   "source": [
    "pd.set_option('display.float_format', '{:,.2f}'.format)\n",
    "data['days_exposition'].describe()"
   ]
  },
  {
   "cell_type": "markdown",
   "metadata": {},
   "source": [
    "Среднее значение примерно в два раза больше медианы, значит есть большие значения, которые влияют на среднее. Построим диаграму размаха."
   ]
  },
  {
   "cell_type": "code",
   "execution_count": 22,
   "metadata": {},
   "outputs": [
    {
     "data": {
      "text/plain": [
       "<AxesSubplot:>"
      ]
     },
     "execution_count": 22,
     "metadata": {},
     "output_type": "execute_result"
    },
    {
     "data": {
      "image/png": "[encoded data removed]",
      "text/plain": [
       "<Figure size 432x288 with 1 Axes>"
      ]
     },
     "metadata": {
      "needs_background": "light"
     },
     "output_type": "display_data"
    }
   ],
   "source": [
    "data.boxplot(column='days_exposition')"
   ]
  },
  {
   "cell_type": "markdown",
   "metadata": {},
   "source": [
    "Медианное значение говорит о том, что половина квартир продается в течение 3-х месяцев. Продажу можно считать быстрой, если квартира продалась примерно за месяц. А слишком долгой, если не продается больше 7-8 месяцев.\n",
    "\n",
    "По гистограмме видно, что есть часть объявлений, которые остаются на сайте в течение нескольких лет. Они и влияют на среднее значение.\n",
    "Исходя из диаграмы размаха, для дальнейшего исследования можно использовать объявления, которые провели на сайте не более 1,5-ра лет."
   ]
  },
  {
   "cell_type": "code",
   "execution_count": 23,
   "metadata": {},
   "outputs": [],
   "source": [
    "data_good = data.query('days_exposition < 550')"
   ]
  },
  {
   "cell_type": "markdown",
   "metadata": {},
   "source": [
    "Рассмотрим факторы, которые могут влиять на стоимость квартиры: площадь, число комнат, удалённость от центра. "
   ]
  },
  {
   "cell_type": "code",
   "execution_count": 24,
   "metadata": {},
   "outputs": [
    {
     "data": {
      "text/plain": [
       "0.2929287445143118"
      ]
     },
     "execution_count": 24,
     "metadata": {},
     "output_type": "execute_result"
    }
   ],
   "source": [
    "data_good['total_area'].corr(data_good['price_meter'])"
   ]
  },
  {
   "cell_type": "code",
   "execution_count": 25,
   "metadata": {},
   "outputs": [
    {
     "data": {
      "text/plain": [
       "-0.31465544997316097"
      ]
     },
     "execution_count": 25,
     "metadata": {},
     "output_type": "execute_result"
    }
   ],
   "source": [
    "data_good['cityCenters_nearest'].corr(data_good['price_meter'])"
   ]
  },
  {
   "cell_type": "markdown",
   "metadata": {},
   "source": [
    "Корреляция между выбранными факторами либо слишком мала, либо отсутвует вовсе.\n",
    "\n",
    "Однако, если считать, что она всё есть, хоть и не большая, то можно сказать, что при увеличении общей площади квартиры растет цена за квадратный метр. А при уменьшении расстояния до центра города, цена за метр растет."
   ]
  },
  {
   "cell_type": "markdown",
   "metadata": {},
   "source": [
    "Рассмотрим зависимость цены от того, на каком этаже расположена квартира: первом, последнем или другом.\n",
    "Также изучим зависимость от даты размещения: дня недели, месяца и года."
   ]
  },
  {
   "cell_type": "code",
   "execution_count": 26,
   "metadata": {
    "scrolled": true
   },
   "outputs": [
    {
     "data": {
      "text/html": [
       "<div>\n",
       "<style scoped>\n",
       "    .dataframe tbody tr th:only-of-type {\n",
       "        vertical-align: middle;\n",
       "    }\n",
       "\n",
       "    .dataframe tbody tr th {\n",
       "        vertical-align: top;\n",
       "    }\n",
       "\n",
       "    .dataframe thead th {\n",
       "        text-align: right;\n",
       "    }\n",
       "</style>\n",
       "<table border=\"1\" class=\"dataframe\">\n",
       "  <thead>\n",
       "    <tr style=\"text-align: right;\">\n",
       "      <th></th>\n",
       "      <th>price_meter</th>\n",
       "    </tr>\n",
       "    <tr>\n",
       "      <th>floor_group</th>\n",
       "      <th></th>\n",
       "    </tr>\n",
       "  </thead>\n",
       "  <tbody>\n",
       "    <tr>\n",
       "      <th>первый</th>\n",
       "      <td>81355</td>\n",
       "    </tr>\n",
       "    <tr>\n",
       "      <th>последний</th>\n",
       "      <td>87287</td>\n",
       "    </tr>\n",
       "    <tr>\n",
       "      <th>другой</th>\n",
       "      <td>98039</td>\n",
       "    </tr>\n",
       "  </tbody>\n",
       "</table>\n",
       "</div>"
      ],
      "text/plain": [
       "             price_meter\n",
       "floor_group             \n",
       "первый             81355\n",
       "последний          87287\n",
       "другой             98039"
      ]
     },
     "metadata": {},
     "output_type": "display_data"
    },
    {
     "data": {
      "text/html": [
       "<div>\n",
       "<style scoped>\n",
       "    .dataframe tbody tr th:only-of-type {\n",
       "        vertical-align: middle;\n",
       "    }\n",
       "\n",
       "    .dataframe tbody tr th {\n",
       "        vertical-align: top;\n",
       "    }\n",
       "\n",
       "    .dataframe thead th {\n",
       "        text-align: right;\n",
       "    }\n",
       "</style>\n",
       "<table border=\"1\" class=\"dataframe\">\n",
       "  <thead>\n",
       "    <tr style=\"text-align: right;\">\n",
       "      <th></th>\n",
       "      <th>price_meter</th>\n",
       "    </tr>\n",
       "    <tr>\n",
       "      <th>weekday_exposition</th>\n",
       "      <th></th>\n",
       "    </tr>\n",
       "  </thead>\n",
       "  <tbody>\n",
       "    <tr>\n",
       "      <th>5</th>\n",
       "      <td>93,654.00</td>\n",
       "    </tr>\n",
       "    <tr>\n",
       "      <th>4</th>\n",
       "      <td>94,444.00</td>\n",
       "    </tr>\n",
       "    <tr>\n",
       "      <th>6</th>\n",
       "      <td>94,444.00</td>\n",
       "    </tr>\n",
       "    <tr>\n",
       "      <th>0</th>\n",
       "      <td>94,670.50</td>\n",
       "    </tr>\n",
       "    <tr>\n",
       "      <th>3</th>\n",
       "      <td>94,754.00</td>\n",
       "    </tr>\n",
       "    <tr>\n",
       "      <th>2</th>\n",
       "      <td>95,504.00</td>\n",
       "    </tr>\n",
       "    <tr>\n",
       "      <th>1</th>\n",
       "      <td>95,533.50</td>\n",
       "    </tr>\n",
       "  </tbody>\n",
       "</table>\n",
       "</div>"
      ],
      "text/plain": [
       "                    price_meter\n",
       "weekday_exposition             \n",
       "5                     93,654.00\n",
       "4                     94,444.00\n",
       "6                     94,444.00\n",
       "0                     94,670.50\n",
       "3                     94,754.00\n",
       "2                     95,504.00\n",
       "1                     95,533.50"
      ]
     },
     "metadata": {},
     "output_type": "display_data"
    },
    {
     "data": {
      "text/html": [
       "<div>\n",
       "<style scoped>\n",
       "    .dataframe tbody tr th:only-of-type {\n",
       "        vertical-align: middle;\n",
       "    }\n",
       "\n",
       "    .dataframe tbody tr th {\n",
       "        vertical-align: top;\n",
       "    }\n",
       "\n",
       "    .dataframe thead th {\n",
       "        text-align: right;\n",
       "    }\n",
       "</style>\n",
       "<table border=\"1\" class=\"dataframe\">\n",
       "  <thead>\n",
       "    <tr style=\"text-align: right;\">\n",
       "      <th></th>\n",
       "      <th>price_meter</th>\n",
       "    </tr>\n",
       "    <tr>\n",
       "      <th>month_exposition</th>\n",
       "      <th></th>\n",
       "    </tr>\n",
       "  </thead>\n",
       "  <tbody>\n",
       "    <tr>\n",
       "      <th>6</th>\n",
       "      <td>92,215.00</td>\n",
       "    </tr>\n",
       "    <tr>\n",
       "      <th>5</th>\n",
       "      <td>92,857.00</td>\n",
       "    </tr>\n",
       "    <tr>\n",
       "      <th>10</th>\n",
       "      <td>93,548.00</td>\n",
       "    </tr>\n",
       "    <tr>\n",
       "      <th>12</th>\n",
       "      <td>93,600.50</td>\n",
       "    </tr>\n",
       "    <tr>\n",
       "      <th>1</th>\n",
       "      <td>94,913.00</td>\n",
       "    </tr>\n",
       "    <tr>\n",
       "      <th>2</th>\n",
       "      <td>95,000.00</td>\n",
       "    </tr>\n",
       "    <tr>\n",
       "      <th>7</th>\n",
       "      <td>95,000.00</td>\n",
       "    </tr>\n",
       "    <tr>\n",
       "      <th>9</th>\n",
       "      <td>95,263.00</td>\n",
       "    </tr>\n",
       "    <tr>\n",
       "      <th>11</th>\n",
       "      <td>95,378.00</td>\n",
       "    </tr>\n",
       "    <tr>\n",
       "      <th>3</th>\n",
       "      <td>95,811.00</td>\n",
       "    </tr>\n",
       "    <tr>\n",
       "      <th>8</th>\n",
       "      <td>96,102.50</td>\n",
       "    </tr>\n",
       "    <tr>\n",
       "      <th>4</th>\n",
       "      <td>96,439.50</td>\n",
       "    </tr>\n",
       "  </tbody>\n",
       "</table>\n",
       "</div>"
      ],
      "text/plain": [
       "                  price_meter\n",
       "month_exposition             \n",
       "6                   92,215.00\n",
       "5                   92,857.00\n",
       "10                  93,548.00\n",
       "12                  93,600.50\n",
       "1                   94,913.00\n",
       "2                   95,000.00\n",
       "7                   95,000.00\n",
       "9                   95,263.00\n",
       "11                  95,378.00\n",
       "3                   95,811.00\n",
       "8                   96,102.50\n",
       "4                   96,439.50"
      ]
     },
     "metadata": {},
     "output_type": "display_data"
    },
    {
     "data": {
      "text/html": [
       "<div>\n",
       "<style scoped>\n",
       "    .dataframe tbody tr th:only-of-type {\n",
       "        vertical-align: middle;\n",
       "    }\n",
       "\n",
       "    .dataframe tbody tr th {\n",
       "        vertical-align: top;\n",
       "    }\n",
       "\n",
       "    .dataframe thead th {\n",
       "        text-align: right;\n",
       "    }\n",
       "</style>\n",
       "<table border=\"1\" class=\"dataframe\">\n",
       "  <thead>\n",
       "    <tr style=\"text-align: right;\">\n",
       "      <th></th>\n",
       "      <th>price_meter</th>\n",
       "    </tr>\n",
       "    <tr>\n",
       "      <th>year_exposition</th>\n",
       "      <th></th>\n",
       "    </tr>\n",
       "  </thead>\n",
       "  <tbody>\n",
       "    <tr>\n",
       "      <th>2015</th>\n",
       "      <td>90,721.50</td>\n",
       "    </tr>\n",
       "    <tr>\n",
       "      <th>2016</th>\n",
       "      <td>91,498.00</td>\n",
       "    </tr>\n",
       "    <tr>\n",
       "      <th>2017</th>\n",
       "      <td>92,187.00</td>\n",
       "    </tr>\n",
       "    <tr>\n",
       "      <th>2018</th>\n",
       "      <td>95,669.50</td>\n",
       "    </tr>\n",
       "    <tr>\n",
       "      <th>2019</th>\n",
       "      <td>103,199.00</td>\n",
       "    </tr>\n",
       "  </tbody>\n",
       "</table>\n",
       "</div>"
      ],
      "text/plain": [
       "                 price_meter\n",
       "year_exposition             \n",
       "2015               90,721.50\n",
       "2016               91,498.00\n",
       "2017               92,187.00\n",
       "2018               95,669.50\n",
       "2019              103,199.00"
      ]
     },
     "metadata": {},
     "output_type": "display_data"
    }
   ],
   "source": [
    "columns = ['floor_group', 'weekday_exposition', 'month_exposition', 'year_exposition']\n",
    "for column in columns:\n",
    "    display(data_good.pivot_table(index=column, values='price_meter', aggfunc='median').sort_values('price_meter'))"
   ]
  },
  {
   "cell_type": "markdown",
   "metadata": {},
   "source": [
    "Средняя цена за кв.метр ниже всего на первом этаже, чуть выше на последнем этаже. На других этажах средня цена значительно выше первого и последнего этажей.\n",
    "\n",
    "Самая высокая средняя цена за кв.метр у квартир выставленных на продажу во вторник, а самая низкая у квартир выставленных в субботу.\n",
    "\n",
    "Самая высокая средняя цена за кв.метр у квартир выставленных на продажу в апреле, а самая низкая у квартир выставленных в мае и июне.\n",
    "\n",
    "С 2015 по 2019 год средняя стоимость квадратного метра постепенно растет. Однако значение в 2014 году было выше, чем в 2019 году. Этот резкий скачок можно объяснить экономическими факторами в РФ."
   ]
  },
  {
   "cell_type": "markdown",
   "metadata": {},
   "source": [
    "Выделим населённые пункты с самой высокой и низкой стоимостью жилья среди 10 населённых пунктов с наибольшим числом объявлений."
   ]
  },
  {
   "cell_type": "code",
   "execution_count": 27,
   "metadata": {},
   "outputs": [
    {
     "data": {
      "text/plain": [
       "Санкт-Петербург    15651\n",
       "Мурино               586\n",
       "Кудрово              470\n",
       "Шушары               439\n",
       "Всеволожск           398\n",
       "Пушкин               369\n",
       "Колпино              338\n",
       "Парголово            327\n",
       "Гатчина              307\n",
       "Выборг               237\n",
       "Name: locality_name, dtype: int64"
      ]
     },
     "execution_count": 27,
     "metadata": {},
     "output_type": "execute_result"
    }
   ],
   "source": [
    "data['locality_name'].value_counts().head(10)"
   ]
  },
  {
   "cell_type": "code",
   "execution_count": 28,
   "metadata": {},
   "outputs": [],
   "source": [
    "filtered_list_locality_name = [\n",
    "    'Санкт-Петербург',\n",
    "    'Мурино',\n",
    "    'Кудрово',\n",
    "    'Шушары',\n",
    "    'Всеволожск',\n",
    "    'Пушкин',\n",
    "    'Колпино',\n",
    "    'Парголово',\n",
    "    'Гатчина',\n",
    "    'Выборг'\n",
    "]"
   ]
  },
  {
   "cell_type": "code",
   "execution_count": 29,
   "metadata": {},
   "outputs": [
    {
     "data": {
      "text/html": [
       "<div>\n",
       "<style scoped>\n",
       "    .dataframe tbody tr th:only-of-type {\n",
       "        vertical-align: middle;\n",
       "    }\n",
       "\n",
       "    .dataframe tbody tr th {\n",
       "        vertical-align: top;\n",
       "    }\n",
       "\n",
       "    .dataframe thead th {\n",
       "        text-align: right;\n",
       "    }\n",
       "</style>\n",
       "<table border=\"1\" class=\"dataframe\">\n",
       "  <thead>\n",
       "    <tr style=\"text-align: right;\">\n",
       "      <th></th>\n",
       "      <th>price_meter</th>\n",
       "    </tr>\n",
       "    <tr>\n",
       "      <th>locality_name</th>\n",
       "      <th></th>\n",
       "    </tr>\n",
       "  </thead>\n",
       "  <tbody>\n",
       "    <tr>\n",
       "      <th>Санкт-Петербург</th>\n",
       "      <td>114,868.43</td>\n",
       "    </tr>\n",
       "    <tr>\n",
       "      <th>Пушкин</th>\n",
       "      <td>103,125.37</td>\n",
       "    </tr>\n",
       "    <tr>\n",
       "      <th>Кудрово</th>\n",
       "      <td>95,260.39</td>\n",
       "    </tr>\n",
       "    <tr>\n",
       "      <th>Парголово</th>\n",
       "      <td>90,175.49</td>\n",
       "    </tr>\n",
       "    <tr>\n",
       "      <th>Мурино</th>\n",
       "      <td>86,040.66</td>\n",
       "    </tr>\n",
       "    <tr>\n",
       "      <th>Шушары</th>\n",
       "      <td>78,550.88</td>\n",
       "    </tr>\n",
       "    <tr>\n",
       "      <th>Колпино</th>\n",
       "      <td>75,424.15</td>\n",
       "    </tr>\n",
       "    <tr>\n",
       "      <th>Гатчина</th>\n",
       "      <td>68,745.69</td>\n",
       "    </tr>\n",
       "    <tr>\n",
       "      <th>Всеволожск</th>\n",
       "      <td>68,654.01</td>\n",
       "    </tr>\n",
       "    <tr>\n",
       "      <th>Выборг</th>\n",
       "      <td>58,141.49</td>\n",
       "    </tr>\n",
       "  </tbody>\n",
       "</table>\n",
       "</div>"
      ],
      "text/plain": [
       "                 price_meter\n",
       "locality_name               \n",
       "Санкт-Петербург   114,868.43\n",
       "Пушкин            103,125.37\n",
       "Кудрово            95,260.39\n",
       "Парголово          90,175.49\n",
       "Мурино             86,040.66\n",
       "Шушары             78,550.88\n",
       "Колпино            75,424.15\n",
       "Гатчина            68,745.69\n",
       "Всеволожск         68,654.01\n",
       "Выборг             58,141.49"
      ]
     },
     "execution_count": 29,
     "metadata": {},
     "output_type": "execute_result"
    }
   ],
   "source": [
    "data.query('locality_name in @filtered_list_locality_name').pivot_table(index='locality_name', values='price_meter', aggfunc='mean').sort_values(by = 'price_meter', ascending = False)"
   ]
  },
  {
   "cell_type": "markdown",
   "metadata": {},
   "source": [
    "Самая высокая стоимость жилья в Санкт-Петербурге - 114868.433902 р/кв.м.\n",
    "\n",
    "Самая низкая стоимость жилья в Выборге - 58141.489451 р/кв.м."
   ]
  },
  {
   "cell_type": "markdown",
   "metadata": {},
   "source": [
    "\n",
    "Изучите предложения квартир в Санкт-Петербурге и выясним какая область входит в центр."
   ]
  },
  {
   "cell_type": "code",
   "execution_count": 30,
   "metadata": {},
   "outputs": [
    {
     "name": "stderr",
     "output_type": "stream",
     "text": [
      "<ipython-input-30-84e9ff4ff83a>:2: SettingWithCopyWarning: \n",
      "A value is trying to be set on a copy of a slice from a DataFrame\n",
      "\n",
      "See the caveats in the documentation: https://pandas.pydata.org/pandas-docs/stable/user_guide/indexing.html#returning-a-view-versus-a-copy\n",
      "  data_spb.dropna(subset = ['cityCenters_nearest'], inplace = True)\n"
     ]
    }
   ],
   "source": [
    "data_spb = data_good.query('locality_name == \"Санкт-Петербург\"') #выделим квартиры в СПБ в отдельную таблицу\n",
    "data_spb.dropna(subset = ['cityCenters_nearest'], inplace = True)"
   ]
  },
  {
   "cell_type": "code",
   "execution_count": 31,
   "metadata": {},
   "outputs": [
    {
     "name": "stderr",
     "output_type": "stream",
     "text": [
      "C:\\Users\\panik\\anaconda3\\lib\\site-packages\\pandas\\core\\indexing.py:1596: SettingWithCopyWarning: \n",
      "A value is trying to be set on a copy of a slice from a DataFrame.\n",
      "Try using .loc[row_indexer,col_indexer] = value instead\n",
      "\n",
      "See the caveats in the documentation: https://pandas.pydata.org/pandas-docs/stable/user_guide/indexing.html#returning-a-view-versus-a-copy\n",
      "  self.obj[key] = _infer_fill_value(value)\n",
      "C:\\Users\\panik\\anaconda3\\lib\\site-packages\\pandas\\core\\indexing.py:1745: SettingWithCopyWarning: \n",
      "A value is trying to be set on a copy of a slice from a DataFrame.\n",
      "Try using .loc[row_indexer,col_indexer] = value instead\n",
      "\n",
      "See the caveats in the documentation: https://pandas.pydata.org/pandas-docs/stable/user_guide/indexing.html#returning-a-view-versus-a-copy\n",
      "  isetter(ilocs[0], value)\n"
     ]
    }
   ],
   "source": [
    "data_spb.loc[:,'cityCenters_nearest_km'] = data_spb['cityCenters_nearest']//1000 #создадим столбец с целыми значениями в километрах"
   ]
  },
  {
   "cell_type": "markdown",
   "metadata": {},
   "source": [
    "Построим график зависимости цены от удалённости от центра, наложим на него график зависимости количества объявлений от удалённости от центра. "
   ]
  },
  {
   "cell_type": "code",
   "execution_count": 32,
   "metadata": {
    "scrolled": true
   },
   "outputs": [
    {
     "data": {
      "image/png": "[encoded data removed]",
      "text/plain": [
       "<Figure size 1080x216 with 1 Axes>"
      ]
     },
     "metadata": {
      "needs_background": "light"
     },
     "output_type": "display_data"
    },
    {
     "data": {
      "image/png": "[encoded data removed]",
      "text/plain": [
       "<Figure size 1080x216 with 2 Axes>"
      ]
     },
     "metadata": {
      "needs_background": "light"
     },
     "output_type": "display_data"
    }
   ],
   "source": [
    "report = (data_spb\n",
    "          .pivot_table(index='cityCenters_nearest_km', values='price_meter', aggfunc=['mean', 'count'])\n",
    "          .rename(columns = {'mean' : 'Средняя цена за м2', 'count' : 'Количество объявлений'})\n",
    "         )\n",
    "ax = report.plot(grid=True, figsize=(15, 3))\n",
    "ax = report['Средняя цена за м2'].plot(grid=True, figsize=(15, 3))\n",
    "ax.set_xlabel('Удаленность от центра')\n",
    "ax.set_ylabel('Количество объявлений')\n",
    "bx = report['Количество объявлений'].plot(figsize=(15, 3), ax = ax.twinx(), color = 'grey', legend = False)\n",
    "plt.xticks(report.index.values, report.index.values)\n",
    "bx.set_ylabel('Средняя цена за м2')\n",
    "plt.show()"
   ]
  },
  {
   "cell_type": "markdown",
   "metadata": {},
   "source": [
    "При удаленности от центра в 7 км начинает падать цена и резко растет число объявлений. Поэтому центральной зоной можно считать значения от 0 до 7 км."
   ]
  },
  {
   "cell_type": "markdown",
   "metadata": {},
   "source": [
    "Выделим сегмент квартир в центре."
   ]
  },
  {
   "cell_type": "code",
   "execution_count": 33,
   "metadata": {},
   "outputs": [],
   "source": [
    "data_spb_center = data_spb.query('cityCenters_nearest_km <= 7')"
   ]
  },
  {
   "cell_type": "markdown",
   "metadata": {},
   "source": [
    "Проанализируем эту территорию и изучим следующие параметры: площадь, цена, число комнат, высота потолков. Также выделим факторы, которые влияют на стоимость квартиры (число комнат, этаж, удалённость от центра, дата размещения объявления)."
   ]
  },
  {
   "cell_type": "code",
   "execution_count": 34,
   "metadata": {
    "scrolled": true
   },
   "outputs": [
    {
     "data": {
      "image/png": "[encoded data removed]",
      "text/plain": [
       "<Figure size 864x360 with 1 Axes>"
      ]
     },
     "metadata": {
      "needs_background": "light"
     },
     "output_type": "display_data"
    },
    {
     "data": {
      "image/png": "[encoded data removed]",
      "text/plain": [
       "<Figure size 864x360 with 1 Axes>"
      ]
     },
     "metadata": {
      "needs_background": "light"
     },
     "output_type": "display_data"
    },
    {
     "data": {
      "image/png": "[encoded data removed]",
      "text/plain": [
       "<Figure size 864x360 with 1 Axes>"
      ]
     },
     "metadata": {
      "needs_background": "light"
     },
     "output_type": "display_data"
    },
    {
     "data": {
      "image/png": "[encoded data removed]",
      "text/plain": [
       "<Figure size 864x360 with 1 Axes>"
      ]
     },
     "metadata": {
      "needs_background": "light"
     },
     "output_type": "display_data"
    }
   ],
   "source": [
    "columns = ['total_area', 'rooms', 'price_meter', 'ceiling_height']\n",
    "for column in columns:\n",
    "    #расчет IQR для нахождения интервала наиболее вероятных значений \n",
    "    q1 = data_spb_center[column].quantile(0.25)\n",
    "    q3 = data_spb_center[column].quantile(0.75)\n",
    "    igr = q3 - q1\n",
    "    data_spb_center.plot(kind = 'hist',y = column, bins = 50, grid=True, range = (q1 - 1.5*igr, q3 + 1.5*igr ), figsize = (12,5))"
   ]
  },
  {
   "cell_type": "markdown",
   "metadata": {},
   "source": [
    "Большая часть продаваемых квартир по площади находятся в промежутке от 30 до 90 кв.метров. Продажи больших по площади квартир снижаются в соответствии с их размером.\n",
    "\n",
    "Лучше всего продаются 2-комнатные и 3-комнатные квартиры, чуть меньше продается 1-комнатных и 4-комнатных. Далее в соответствиис увеличением количество комнат продажи значительно снижаются. \n",
    "\n",
    "Пик цен так же как приходится на 100000 рублей за кв.метр. Однако по графику видно, что в рассматриваемых данных больше дорогих квартир, чем в полной таблице.\n",
    "\n",
    "Самая часто встречаемая высота потолков 3 метра.\n",
    "\n",
    "В сравнении с общими выводами, в центре города Санкт-петербург чаще продаются квартиры больше по площади и чаще продаются 3-х комнатные квартиры, с более высокой высотой потолков и цена за кв.метр у них выше."
   ]
  },
  {
   "cell_type": "code",
   "execution_count": 35,
   "metadata": {},
   "outputs": [
    {
     "data": {
      "text/plain": [
       "0.2583242997470902"
      ]
     },
     "execution_count": 35,
     "metadata": {},
     "output_type": "execute_result"
    }
   ],
   "source": [
    "data_spb_center['total_area'].corr(data_good['price_meter'])"
   ]
  },
  {
   "cell_type": "code",
   "execution_count": 36,
   "metadata": {},
   "outputs": [
    {
     "data": {
      "text/plain": [
       "-0.033095226252655686"
      ]
     },
     "execution_count": 36,
     "metadata": {},
     "output_type": "execute_result"
    }
   ],
   "source": [
    "data_spb_center['cityCenters_nearest'].corr(data_good['price_meter'])"
   ]
  },
  {
   "cell_type": "markdown",
   "metadata": {},
   "source": [
    "Корреляция цены за кв.метр и общей площади также остается очень маленькой, но можно сказать, что при увеличении общей площади, увеличивается цена за кв.метр.\n",
    "\n",
    "Корреляции между ценой за кв.метр и удаленностью от центра нет. Можно предположить, что это так, потому что рассматриваемые квартиры и так находятся очень близко к центру."
   ]
  },
  {
   "cell_type": "code",
   "execution_count": 37,
   "metadata": {
    "scrolled": true
   },
   "outputs": [
    {
     "data": {
      "text/html": [
       "<div>\n",
       "<style scoped>\n",
       "    .dataframe tbody tr th:only-of-type {\n",
       "        vertical-align: middle;\n",
       "    }\n",
       "\n",
       "    .dataframe tbody tr th {\n",
       "        vertical-align: top;\n",
       "    }\n",
       "\n",
       "    .dataframe thead th {\n",
       "        text-align: right;\n",
       "    }\n",
       "</style>\n",
       "<table border=\"1\" class=\"dataframe\">\n",
       "  <thead>\n",
       "    <tr style=\"text-align: right;\">\n",
       "      <th></th>\n",
       "      <th>price_meter</th>\n",
       "    </tr>\n",
       "    <tr>\n",
       "      <th>floor_group</th>\n",
       "      <th></th>\n",
       "    </tr>\n",
       "  </thead>\n",
       "  <tbody>\n",
       "    <tr>\n",
       "      <th>первый</th>\n",
       "      <td>109099</td>\n",
       "    </tr>\n",
       "    <tr>\n",
       "      <th>последний</th>\n",
       "      <td>116363</td>\n",
       "    </tr>\n",
       "    <tr>\n",
       "      <th>другой</th>\n",
       "      <td>126927</td>\n",
       "    </tr>\n",
       "  </tbody>\n",
       "</table>\n",
       "</div>"
      ],
      "text/plain": [
       "             price_meter\n",
       "floor_group             \n",
       "первый            109099\n",
       "последний         116363\n",
       "другой            126927"
      ]
     },
     "metadata": {},
     "output_type": "display_data"
    },
    {
     "data": {
      "text/html": [
       "<div>\n",
       "<style scoped>\n",
       "    .dataframe tbody tr th:only-of-type {\n",
       "        vertical-align: middle;\n",
       "    }\n",
       "\n",
       "    .dataframe tbody tr th {\n",
       "        vertical-align: top;\n",
       "    }\n",
       "\n",
       "    .dataframe thead th {\n",
       "        text-align: right;\n",
       "    }\n",
       "</style>\n",
       "<table border=\"1\" class=\"dataframe\">\n",
       "  <thead>\n",
       "    <tr style=\"text-align: right;\">\n",
       "      <th></th>\n",
       "      <th>price_meter</th>\n",
       "    </tr>\n",
       "    <tr>\n",
       "      <th>weekday_exposition</th>\n",
       "      <th></th>\n",
       "    </tr>\n",
       "  </thead>\n",
       "  <tbody>\n",
       "    <tr>\n",
       "      <th>3</th>\n",
       "      <td>120370</td>\n",
       "    </tr>\n",
       "    <tr>\n",
       "      <th>1</th>\n",
       "      <td>120760</td>\n",
       "    </tr>\n",
       "    <tr>\n",
       "      <th>4</th>\n",
       "      <td>123728</td>\n",
       "    </tr>\n",
       "    <tr>\n",
       "      <th>2</th>\n",
       "      <td>125000</td>\n",
       "    </tr>\n",
       "    <tr>\n",
       "      <th>0</th>\n",
       "      <td>125191</td>\n",
       "    </tr>\n",
       "    <tr>\n",
       "      <th>5</th>\n",
       "      <td>126930</td>\n",
       "    </tr>\n",
       "    <tr>\n",
       "      <th>6</th>\n",
       "      <td>129032</td>\n",
       "    </tr>\n",
       "  </tbody>\n",
       "</table>\n",
       "</div>"
      ],
      "text/plain": [
       "                    price_meter\n",
       "weekday_exposition             \n",
       "3                        120370\n",
       "1                        120760\n",
       "4                        123728\n",
       "2                        125000\n",
       "0                        125191\n",
       "5                        126930\n",
       "6                        129032"
      ]
     },
     "metadata": {},
     "output_type": "display_data"
    },
    {
     "data": {
      "text/html": [
       "<div>\n",
       "<style scoped>\n",
       "    .dataframe tbody tr th:only-of-type {\n",
       "        vertical-align: middle;\n",
       "    }\n",
       "\n",
       "    .dataframe tbody tr th {\n",
       "        vertical-align: top;\n",
       "    }\n",
       "\n",
       "    .dataframe thead th {\n",
       "        text-align: right;\n",
       "    }\n",
       "</style>\n",
       "<table border=\"1\" class=\"dataframe\">\n",
       "  <thead>\n",
       "    <tr style=\"text-align: right;\">\n",
       "      <th></th>\n",
       "      <th>price_meter</th>\n",
       "    </tr>\n",
       "    <tr>\n",
       "      <th>month_exposition</th>\n",
       "      <th></th>\n",
       "    </tr>\n",
       "  </thead>\n",
       "  <tbody>\n",
       "    <tr>\n",
       "      <th>7</th>\n",
       "      <td>117,132.00</td>\n",
       "    </tr>\n",
       "    <tr>\n",
       "      <th>5</th>\n",
       "      <td>117,283.00</td>\n",
       "    </tr>\n",
       "    <tr>\n",
       "      <th>6</th>\n",
       "      <td>117,968.00</td>\n",
       "    </tr>\n",
       "    <tr>\n",
       "      <th>10</th>\n",
       "      <td>119,742.50</td>\n",
       "    </tr>\n",
       "    <tr>\n",
       "      <th>12</th>\n",
       "      <td>119,836.00</td>\n",
       "    </tr>\n",
       "    <tr>\n",
       "      <th>2</th>\n",
       "      <td>121,319.00</td>\n",
       "    </tr>\n",
       "    <tr>\n",
       "      <th>4</th>\n",
       "      <td>123,654.50</td>\n",
       "    </tr>\n",
       "    <tr>\n",
       "      <th>11</th>\n",
       "      <td>123,931.00</td>\n",
       "    </tr>\n",
       "    <tr>\n",
       "      <th>9</th>\n",
       "      <td>124,363.50</td>\n",
       "    </tr>\n",
       "    <tr>\n",
       "      <th>8</th>\n",
       "      <td>125,788.00</td>\n",
       "    </tr>\n",
       "    <tr>\n",
       "      <th>1</th>\n",
       "      <td>128,639.00</td>\n",
       "    </tr>\n",
       "    <tr>\n",
       "      <th>3</th>\n",
       "      <td>132,526.50</td>\n",
       "    </tr>\n",
       "  </tbody>\n",
       "</table>\n",
       "</div>"
      ],
      "text/plain": [
       "                  price_meter\n",
       "month_exposition             \n",
       "7                  117,132.00\n",
       "5                  117,283.00\n",
       "6                  117,968.00\n",
       "10                 119,742.50\n",
       "12                 119,836.00\n",
       "2                  121,319.00\n",
       "4                  123,654.50\n",
       "11                 123,931.00\n",
       "9                  124,363.50\n",
       "8                  125,788.00\n",
       "1                  128,639.00\n",
       "3                  132,526.50"
      ]
     },
     "metadata": {},
     "output_type": "display_data"
    },
    {
     "data": {
      "text/html": [
       "<div>\n",
       "<style scoped>\n",
       "    .dataframe tbody tr th:only-of-type {\n",
       "        vertical-align: middle;\n",
       "    }\n",
       "\n",
       "    .dataframe tbody tr th {\n",
       "        vertical-align: top;\n",
       "    }\n",
       "\n",
       "    .dataframe thead th {\n",
       "        text-align: right;\n",
       "    }\n",
       "</style>\n",
       "<table border=\"1\" class=\"dataframe\">\n",
       "  <thead>\n",
       "    <tr style=\"text-align: right;\">\n",
       "      <th></th>\n",
       "      <th>price_meter</th>\n",
       "    </tr>\n",
       "    <tr>\n",
       "      <th>year_exposition</th>\n",
       "      <th></th>\n",
       "    </tr>\n",
       "  </thead>\n",
       "  <tbody>\n",
       "    <tr>\n",
       "      <th>2015</th>\n",
       "      <td>112,000.00</td>\n",
       "    </tr>\n",
       "    <tr>\n",
       "      <th>2016</th>\n",
       "      <td>115,089.00</td>\n",
       "    </tr>\n",
       "    <tr>\n",
       "      <th>2017</th>\n",
       "      <td>120,726.00</td>\n",
       "    </tr>\n",
       "    <tr>\n",
       "      <th>2018</th>\n",
       "      <td>124,496.00</td>\n",
       "    </tr>\n",
       "    <tr>\n",
       "      <th>2019</th>\n",
       "      <td>135,741.50</td>\n",
       "    </tr>\n",
       "  </tbody>\n",
       "</table>\n",
       "</div>"
      ],
      "text/plain": [
       "                 price_meter\n",
       "year_exposition             \n",
       "2015              112,000.00\n",
       "2016              115,089.00\n",
       "2017              120,726.00\n",
       "2018              124,496.00\n",
       "2019              135,741.50"
      ]
     },
     "metadata": {},
     "output_type": "display_data"
    }
   ],
   "source": [
    "columns = ['floor_group', 'weekday_exposition', 'month_exposition', 'year_exposition']\n",
    "for column in columns:\n",
    "    display(data_spb_center.pivot_table(index=column, values='price_meter', aggfunc='median').sort_values('price_meter'))"
   ]
  },
  {
   "cell_type": "markdown",
   "metadata": {},
   "source": [
    "Средняя цена за кв.метр ниже всего на первом этаже, чуть выше на последнем этаже. На других этажах средня цена значительно выше первого и последнего этажей. Сопадает с общими результатами.\n",
    "\n",
    "Самая высокая средняя цена за кв.метр у квартир выставленных на продажу в воскресенье, а самая низкая у квартир выставленных во вторник. Не совпадает с общими результатами.\n",
    "\n",
    "Самая высокая средняя цена за кв.метр у квартир выставленных на продажу в марте, а самая низкая у квартир выставленных в июне и августе. Совпадает низкая цена за кв.метр в июне.\n",
    "\n",
    "С 2015 по 2019 год средняя стоимость квадратного метра постепенно растет. Данных о продажах в 2014 нет. Сопадает с общими результатми."
   ]
  },
  {
   "cell_type": "markdown",
   "metadata": {},
   "source": [
    "### Вывод"
   ]
  },
  {
   "cell_type": "markdown",
   "metadata": {},
   "source": [
    "В ходе исследовательского анализа данных для всей таблицы и выделенного сегмента квартир в центре Санкт-Петербурга изучены следующие параметры: площадь, цена, число комнат, высота потолков, а также построены гистораммы для каждого параметра.\n",
    "Для всех данных получены следущие результаты:\n",
    "- Большая часть продаваемых квартир по площади находятся в промежутке от 30 до 60 кв.метров. Продажи больших по площади квартир снижаются в соответствии с их размером.\n",
    "- Лучше всего продаются 1-комнатные и 2-комнатные квартиры, чуть меньше продается 3-комнатных. \n",
    "- Распеределение цен на квадратный метр на данном интервале стремить к нормальному. Пик средней цены за кв.метр приходится на 100000 рублей за кв.метр.\n",
    "- Самая часто встречаемая высота потолков примерно 2.5 метра.\n",
    "\n",
    "В сравнении с общими выводами, в центре города Санкт-петербург чаще продаются квартиры больше по площади и чаще продаются 3-х комнатные квартиры, с более высокой высотой потолков и цена за кв.метр у них выше.\n",
    "\n",
    "Также для обеих таблиц выделены факторы, которые влияют на стоимость квартиры:\n",
    "- Средняя цена за кв.метр ниже всего на первом этаже, чуть выше на последнем этаже. На других этажах средня цена значительно выше первого и последнего этажей.\n",
    "- Самая низкая средняя цена за кв.метр в июне.\n",
    "- Стоимость квадратного метра постепенно растет с течением времени, если не вмешиваются экономические/политические факторы.\n",
    "\n",
    "Также изучено время продажи квартиры: половина квартир продается в течение 3-х месяцев. Продажу можно считать быстрой, если квартира продалась примерно за месяц. А слишком долгой, если не продается больше 7-8 месяцев."
   ]
  },
  {
   "cell_type": "markdown",
   "metadata": {},
   "source": [
    "## Общий вывод"
   ]
  },
  {
   "cell_type": "markdown",
   "metadata": {},
   "source": [
    "При предобработке данных насколько были обработаны пропущенные значения в столбцах `balcony`, `parks_around3000`, `ponds_around3000`,`locality_name`,`kitchen_area` и `living_area``days_exposition`.\n",
    "Обработаны дубликаты в столбце `locality_name`. Также проверено отсутствие полных дубликатов.\n",
    "\n",
    "Значения столбца `first_days_exposition` приведены к типу данных \"дата\". Столбца `is_apartment` к логическому типу данных.\n",
    "А столбцы `floors_total`, `last_price`, `parks_around3000`, `ponds_around3000`, `days_exposition` приведены к целочисленному типу данных.\n",
    "\n",
    "Рассчитаны и добавлены в таблицу столбцы \n",
    "- `price_meter` цена квадратного метра;\n",
    "- `weekday_exposition` день недели, `month_exposition` месяц и `year_exposition` год публикации объявления;\n",
    "- `floor_group` этаж квартиры; варианты — первый, последний, другой;\n",
    "- `living_%_total` соотношение жилой и общей площади, а также `kitchen_%_total` отношение площади кухни к общей."
   ]
  },
  {
   "cell_type": "markdown",
   "metadata": {},
   "source": [
    "**Рекомендации**"
   ]
  },
  {
   "cell_type": "markdown",
   "metadata": {},
   "source": [
    "Прошу обратить внимание на следущие проблемы в данных:\n",
    "- Много пропусков в данных, полученных автоматически на основе картографических данных. Возможно система работает некорректно.\n",
    "- Неочевидные дубликаты в столбце `locality_name`"
   ]
  },
  {
   "cell_type": "markdown",
   "metadata": {},
   "source": [
    "**Вывод**"
   ]
  },
  {
   "cell_type": "markdown",
   "metadata": {},
   "source": [
    "По результатам исследования были установлены паарметры, которые смогут помочь определять рыночную стоимость объектов недвижимости. Более подробно результаты описаны в п. 4.1."
   ]
  }
 ],
 "metadata": {
  "ExecuteTimeLog": [
   {
    "duration": 802,
    "start_time": "2021-11-06T09:42:12.557Z"
   },
   {
    "duration": 118,
    "start_time": "2021-11-06T09:43:38.223Z"
   },
   {
    "duration": 75,
    "start_time": "2021-11-06T09:43:45.467Z"
   },
   {
    "duration": 119,
    "start_time": "2021-11-06T09:43:52.830Z"
   },
   {
    "duration": 117,
    "start_time": "2021-11-06T09:46:06.152Z"
   },
   {
    "duration": 15,
    "start_time": "2021-11-06T09:46:36.517Z"
   },
   {
    "duration": 337,
    "start_time": "2021-11-06T10:07:37.834Z"
   },
   {
    "duration": 41,
    "start_time": "2021-11-06T10:07:49.243Z"
   },
   {
    "duration": 42,
    "start_time": "2021-11-06T10:45:33.201Z"
   },
   {
    "duration": 273,
    "start_time": "2021-11-06T11:03:39.694Z"
   },
   {
    "duration": 6,
    "start_time": "2021-11-06T11:05:27.134Z"
   },
   {
    "duration": 8,
    "start_time": "2021-11-06T11:06:15.604Z"
   },
   {
    "duration": 8,
    "start_time": "2021-11-06T11:06:22.025Z"
   },
   {
    "duration": 9,
    "start_time": "2021-11-06T11:06:31.052Z"
   },
   {
    "duration": 7,
    "start_time": "2021-11-06T11:09:52.364Z"
   },
   {
    "duration": 7,
    "start_time": "2021-11-06T11:10:10.909Z"
   },
   {
    "duration": 251,
    "start_time": "2021-11-06T11:10:19.107Z"
   },
   {
    "duration": 10,
    "start_time": "2021-11-06T11:12:01.669Z"
   },
   {
    "duration": 15,
    "start_time": "2021-11-06T11:16:04.242Z"
   },
   {
    "duration": 22,
    "start_time": "2021-11-06T11:16:14.944Z"
   },
   {
    "duration": 22,
    "start_time": "2021-11-06T11:16:28.171Z"
   },
   {
    "duration": 23,
    "start_time": "2021-11-06T11:16:33.144Z"
   },
   {
    "duration": 118,
    "start_time": "2021-11-06T11:16:38.730Z"
   },
   {
    "duration": 15,
    "start_time": "2021-11-06T11:16:38.850Z"
   },
   {
    "duration": 62,
    "start_time": "2021-11-06T11:16:38.868Z"
   },
   {
    "duration": 10,
    "start_time": "2021-11-06T11:16:38.933Z"
   },
   {
    "duration": 9,
    "start_time": "2021-11-06T11:16:38.945Z"
   },
   {
    "duration": 12,
    "start_time": "2021-11-06T11:16:38.956Z"
   },
   {
    "duration": 275,
    "start_time": "2021-11-06T11:18:53.154Z"
   },
   {
    "duration": 11,
    "start_time": "2021-11-06T11:20:29.895Z"
   },
   {
    "duration": 118,
    "start_time": "2021-11-06T11:20:36.490Z"
   },
   {
    "duration": 28,
    "start_time": "2021-11-06T11:20:36.610Z"
   },
   {
    "duration": 45,
    "start_time": "2021-11-06T11:20:36.643Z"
   },
   {
    "duration": 41,
    "start_time": "2021-11-06T11:20:36.691Z"
   },
   {
    "duration": 11,
    "start_time": "2021-11-06T11:20:36.735Z"
   },
   {
    "duration": 13,
    "start_time": "2021-11-06T11:20:36.748Z"
   },
   {
    "duration": 10,
    "start_time": "2021-11-06T11:20:49.490Z"
   },
   {
    "duration": 117,
    "start_time": "2021-11-06T11:20:54.710Z"
   },
   {
    "duration": 15,
    "start_time": "2021-11-06T11:20:54.829Z"
   },
   {
    "duration": 44,
    "start_time": "2021-11-06T11:20:54.847Z"
   },
   {
    "duration": 36,
    "start_time": "2021-11-06T11:20:54.893Z"
   },
   {
    "duration": 10,
    "start_time": "2021-11-06T11:20:54.931Z"
   },
   {
    "duration": 16,
    "start_time": "2021-11-06T11:20:54.944Z"
   },
   {
    "duration": 9,
    "start_time": "2021-11-06T11:22:04.314Z"
   },
   {
    "duration": 10,
    "start_time": "2021-11-06T11:22:08.482Z"
   },
   {
    "duration": 126,
    "start_time": "2021-11-06T11:22:11.981Z"
   },
   {
    "duration": 28,
    "start_time": "2021-11-06T11:22:12.110Z"
   },
   {
    "duration": 43,
    "start_time": "2021-11-06T11:22:12.140Z"
   },
   {
    "duration": 11,
    "start_time": "2021-11-06T11:22:12.186Z"
   },
   {
    "duration": 9,
    "start_time": "2021-11-06T11:22:12.230Z"
   },
   {
    "duration": 15,
    "start_time": "2021-11-06T11:22:12.241Z"
   },
   {
    "duration": 118,
    "start_time": "2021-11-06T11:22:32.432Z"
   },
   {
    "duration": 17,
    "start_time": "2021-11-06T11:22:32.553Z"
   },
   {
    "duration": 60,
    "start_time": "2021-11-06T11:22:32.573Z"
   },
   {
    "duration": 15,
    "start_time": "2021-11-06T11:22:32.636Z"
   },
   {
    "duration": 10,
    "start_time": "2021-11-06T11:22:32.653Z"
   },
   {
    "duration": 13,
    "start_time": "2021-11-06T11:22:32.665Z"
   },
   {
    "duration": 7,
    "start_time": "2021-11-06T11:23:38.010Z"
   },
   {
    "duration": 9,
    "start_time": "2021-11-06T11:23:48.489Z"
   },
   {
    "duration": 116,
    "start_time": "2021-11-06T11:24:19.620Z"
   },
   {
    "duration": 16,
    "start_time": "2021-11-06T11:24:19.738Z"
   },
   {
    "duration": 42,
    "start_time": "2021-11-06T11:24:19.757Z"
   },
   {
    "duration": 34,
    "start_time": "2021-11-06T11:24:19.801Z"
   },
   {
    "duration": 9,
    "start_time": "2021-11-06T11:24:19.838Z"
   },
   {
    "duration": 23,
    "start_time": "2021-11-06T11:24:19.849Z"
   },
   {
    "duration": 7,
    "start_time": "2021-11-06T11:24:19.874Z"
   },
   {
    "duration": 10,
    "start_time": "2021-11-06T11:24:50.199Z"
   },
   {
    "duration": 9,
    "start_time": "2021-11-06T11:25:04.105Z"
   },
   {
    "duration": 127,
    "start_time": "2021-11-06T11:25:07.312Z"
   },
   {
    "duration": 15,
    "start_time": "2021-11-06T11:25:07.442Z"
   },
   {
    "duration": 52,
    "start_time": "2021-11-06T11:25:07.459Z"
   },
   {
    "duration": 14,
    "start_time": "2021-11-06T11:25:07.530Z"
   },
   {
    "duration": 19,
    "start_time": "2021-11-06T11:25:07.547Z"
   },
   {
    "duration": 30,
    "start_time": "2021-11-06T11:25:07.569Z"
   },
   {
    "duration": 16,
    "start_time": "2021-11-06T11:25:07.602Z"
   },
   {
    "duration": 9,
    "start_time": "2021-11-06T11:25:29.969Z"
   },
   {
    "duration": 7,
    "start_time": "2021-11-06T11:25:42.743Z"
   },
   {
    "duration": 244,
    "start_time": "2021-11-06T11:26:26.414Z"
   },
   {
    "duration": 8,
    "start_time": "2021-11-06T11:26:32.292Z"
   },
   {
    "duration": 40,
    "start_time": "2021-11-06T11:42:27.539Z"
   },
   {
    "duration": 284,
    "start_time": "2021-11-06T11:43:56.696Z"
   },
   {
    "duration": 254,
    "start_time": "2021-11-06T11:44:32.633Z"
   },
   {
    "duration": 40,
    "start_time": "2021-11-06T11:44:39.560Z"
   },
   {
    "duration": 8,
    "start_time": "2021-11-06T12:03:25.612Z"
   },
   {
    "duration": 8,
    "start_time": "2021-11-06T12:03:35.278Z"
   },
   {
    "duration": 8,
    "start_time": "2021-11-06T12:03:52.418Z"
   },
   {
    "duration": 484,
    "start_time": "2021-11-06T12:04:25.625Z"
   },
   {
    "duration": 7,
    "start_time": "2021-11-06T12:04:36.195Z"
   },
   {
    "duration": 11,
    "start_time": "2021-11-06T12:13:01.984Z"
   },
   {
    "duration": 6,
    "start_time": "2021-11-06T12:13:06.917Z"
   },
   {
    "duration": 9,
    "start_time": "2021-11-06T12:13:46.898Z"
   },
   {
    "duration": 6,
    "start_time": "2021-11-06T12:14:18.099Z"
   },
   {
    "duration": 5,
    "start_time": "2021-11-06T12:15:52.508Z"
   },
   {
    "duration": 6,
    "start_time": "2021-11-06T12:16:00.672Z"
   },
   {
    "duration": 712,
    "start_time": "2021-11-06T12:26:33.446Z"
   },
   {
    "duration": 775,
    "start_time": "2021-11-06T12:26:51.782Z"
   },
   {
    "duration": 640,
    "start_time": "2021-11-06T12:27:13.988Z"
   },
   {
    "duration": 267,
    "start_time": "2021-11-06T12:28:19.667Z"
   },
   {
    "duration": 8,
    "start_time": "2021-11-06T12:28:32.246Z"
   },
   {
    "duration": 7927,
    "start_time": "2021-11-06T12:45:16.276Z"
   },
   {
    "duration": 6357,
    "start_time": "2021-11-06T12:45:40.831Z"
   },
   {
    "duration": 7152,
    "start_time": "2021-11-06T12:47:38.162Z"
   },
   {
    "duration": 6594,
    "start_time": "2021-11-06T12:48:34.538Z"
   },
   {
    "duration": 8104,
    "start_time": "2021-11-06T12:49:38.249Z"
   },
   {
    "duration": 247,
    "start_time": "2021-11-06T12:49:52.825Z"
   },
   {
    "duration": 6,
    "start_time": "2021-11-06T12:50:08.220Z"
   },
   {
    "duration": 8,
    "start_time": "2021-11-06T12:50:13.970Z"
   },
   {
    "duration": 10,
    "start_time": "2021-11-06T12:50:26.027Z"
   },
   {
    "duration": 261,
    "start_time": "2021-11-06T12:50:48.536Z"
   },
   {
    "duration": 256,
    "start_time": "2021-11-06T12:51:23.454Z"
   },
   {
    "duration": 118,
    "start_time": "2021-11-06T12:51:34.046Z"
   },
   {
    "duration": 15,
    "start_time": "2021-11-06T12:51:34.167Z"
   },
   {
    "duration": 72,
    "start_time": "2021-11-06T12:51:34.186Z"
   },
   {
    "duration": 10,
    "start_time": "2021-11-06T12:51:34.261Z"
   },
   {
    "duration": 13,
    "start_time": "2021-11-06T12:51:34.273Z"
   },
   {
    "duration": 7,
    "start_time": "2021-11-06T12:51:34.288Z"
   },
   {
    "duration": 52,
    "start_time": "2021-11-06T12:51:34.297Z"
   },
   {
    "duration": 9,
    "start_time": "2021-11-06T12:51:34.352Z"
   },
   {
    "duration": 268,
    "start_time": "2021-11-06T12:51:34.364Z"
   },
   {
    "duration": 7788,
    "start_time": "2021-11-06T12:52:36.963Z"
   },
   {
    "duration": 12146,
    "start_time": "2021-11-06T12:53:19.660Z"
   },
   {
    "duration": 8475,
    "start_time": "2021-11-06T12:53:33.410Z"
   },
   {
    "duration": 23,
    "start_time": "2021-11-06T12:54:23.489Z"
   },
   {
    "duration": 280,
    "start_time": "2021-11-06T12:54:30.584Z"
   },
   {
    "duration": 43,
    "start_time": "2021-11-06T12:54:36.148Z"
   },
   {
    "duration": 281,
    "start_time": "2021-11-06T12:56:10.678Z"
   },
   {
    "duration": 108,
    "start_time": "2021-11-06T12:59:19.658Z"
   },
   {
    "duration": 244,
    "start_time": "2021-11-06T12:59:24.515Z"
   },
   {
    "duration": 255,
    "start_time": "2021-11-06T12:59:33.353Z"
   },
   {
    "duration": 253,
    "start_time": "2021-11-06T13:00:04.518Z"
   },
   {
    "duration": 251,
    "start_time": "2021-11-06T13:00:54.085Z"
   },
   {
    "duration": 312,
    "start_time": "2021-11-06T13:02:26.415Z"
   },
   {
    "duration": 123,
    "start_time": "2021-11-06T13:02:34.073Z"
   },
   {
    "duration": 18,
    "start_time": "2021-11-06T13:02:34.199Z"
   },
   {
    "duration": 54,
    "start_time": "2021-11-06T13:02:34.219Z"
   },
   {
    "duration": 10,
    "start_time": "2021-11-06T13:02:34.276Z"
   },
   {
    "duration": 42,
    "start_time": "2021-11-06T13:02:34.289Z"
   },
   {
    "duration": 12,
    "start_time": "2021-11-06T13:02:34.334Z"
   },
   {
    "duration": 17,
    "start_time": "2021-11-06T13:02:34.349Z"
   },
   {
    "duration": 6,
    "start_time": "2021-11-06T13:02:34.369Z"
   },
   {
    "duration": 8779,
    "start_time": "2021-11-06T13:02:34.378Z"
   },
   {
    "duration": 40,
    "start_time": "2021-11-06T13:02:43.160Z"
   },
   {
    "duration": 8619,
    "start_time": "2021-11-06T13:09:05.568Z"
   },
   {
    "duration": 44,
    "start_time": "2021-11-06T13:09:26.114Z"
   },
   {
    "duration": 150,
    "start_time": "2021-11-06T13:11:00.483Z"
   },
   {
    "duration": 301,
    "start_time": "2021-11-06T13:11:20.565Z"
   },
   {
    "duration": 273,
    "start_time": "2021-11-06T13:12:26.524Z"
   },
   {
    "duration": 295,
    "start_time": "2021-11-06T13:12:37.526Z"
   },
   {
    "duration": 300,
    "start_time": "2021-11-06T13:12:51.458Z"
   },
   {
    "duration": 475,
    "start_time": "2021-11-06T13:13:21.574Z"
   },
   {
    "duration": 350,
    "start_time": "2021-11-06T13:13:29.019Z"
   },
   {
    "duration": 3,
    "start_time": "2021-11-06T13:13:34.740Z"
   },
   {
    "duration": 279,
    "start_time": "2021-11-06T13:13:39.718Z"
   },
   {
    "duration": 5,
    "start_time": "2021-11-06T13:13:46.925Z"
   },
   {
    "duration": 306,
    "start_time": "2021-11-06T13:14:03.271Z"
   },
   {
    "duration": 324,
    "start_time": "2021-11-06T13:14:14.106Z"
   },
   {
    "duration": 123,
    "start_time": "2021-11-06T13:14:23.129Z"
   },
   {
    "duration": 15,
    "start_time": "2021-11-06T13:14:23.254Z"
   },
   {
    "duration": 65,
    "start_time": "2021-11-06T13:14:23.272Z"
   },
   {
    "duration": 10,
    "start_time": "2021-11-06T13:14:23.340Z"
   },
   {
    "duration": 17,
    "start_time": "2021-11-06T13:14:23.352Z"
   },
   {
    "duration": 12,
    "start_time": "2021-11-06T13:14:23.372Z"
   },
   {
    "duration": 53,
    "start_time": "2021-11-06T13:14:23.387Z"
   },
   {
    "duration": 7,
    "start_time": "2021-11-06T13:14:23.443Z"
   },
   {
    "duration": 8199,
    "start_time": "2021-11-06T13:14:23.453Z"
   },
   {
    "duration": 39,
    "start_time": "2021-11-06T13:14:31.654Z"
   },
   {
    "duration": 6,
    "start_time": "2021-11-06T13:15:07.465Z"
   },
   {
    "duration": 110,
    "start_time": "2021-11-06T13:15:52.017Z"
   },
   {
    "duration": 272,
    "start_time": "2021-11-06T13:16:03.175Z"
   },
   {
    "duration": 274,
    "start_time": "2021-11-06T13:16:25.285Z"
   },
   {
    "duration": 123,
    "start_time": "2021-11-06T13:16:34.932Z"
   },
   {
    "duration": 15,
    "start_time": "2021-11-06T13:16:35.058Z"
   },
   {
    "duration": 62,
    "start_time": "2021-11-06T13:16:35.077Z"
   },
   {
    "duration": 9,
    "start_time": "2021-11-06T13:16:35.141Z"
   },
   {
    "duration": 18,
    "start_time": "2021-11-06T13:16:35.152Z"
   },
   {
    "duration": 9,
    "start_time": "2021-11-06T13:16:35.172Z"
   },
   {
    "duration": 46,
    "start_time": "2021-11-06T13:16:35.183Z"
   },
   {
    "duration": 7,
    "start_time": "2021-11-06T13:16:35.231Z"
   },
   {
    "duration": 7994,
    "start_time": "2021-11-06T13:16:35.241Z"
   },
   {
    "duration": 39,
    "start_time": "2021-11-06T13:16:43.237Z"
   },
   {
    "duration": 6,
    "start_time": "2021-11-06T13:17:28.718Z"
   },
   {
    "duration": 109,
    "start_time": "2021-11-06T13:17:58.555Z"
   },
   {
    "duration": 280,
    "start_time": "2021-11-06T13:18:44.698Z"
   },
   {
    "duration": 265,
    "start_time": "2021-11-06T13:18:55.598Z"
   },
   {
    "duration": -223,
    "start_time": "2021-11-06T13:19:07.480Z"
   },
   {
    "duration": 5,
    "start_time": "2021-11-06T13:19:16.711Z"
   },
   {
    "duration": 90,
    "start_time": "2021-11-06T13:19:46.579Z"
   },
   {
    "duration": 5,
    "start_time": "2021-11-06T13:19:49.591Z"
   },
   {
    "duration": 6,
    "start_time": "2021-11-06T13:19:56.215Z"
   },
   {
    "duration": 6,
    "start_time": "2021-11-06T13:21:36.868Z"
   },
   {
    "duration": 116,
    "start_time": "2021-11-06T13:21:51.747Z"
   },
   {
    "duration": 14,
    "start_time": "2021-11-06T13:21:51.866Z"
   },
   {
    "duration": 57,
    "start_time": "2021-11-06T13:21:51.883Z"
   },
   {
    "duration": 10,
    "start_time": "2021-11-06T13:21:51.943Z"
   },
   {
    "duration": 13,
    "start_time": "2021-11-06T13:21:51.955Z"
   },
   {
    "duration": 8,
    "start_time": "2021-11-06T13:21:51.970Z"
   },
   {
    "duration": 50,
    "start_time": "2021-11-06T13:21:51.980Z"
   },
   {
    "duration": 6,
    "start_time": "2021-11-06T13:21:52.034Z"
   },
   {
    "duration": 8474,
    "start_time": "2021-11-06T13:21:52.042Z"
   },
   {
    "duration": 48,
    "start_time": "2021-11-06T13:22:00.518Z"
   },
   {
    "duration": 6,
    "start_time": "2021-11-06T13:22:22.645Z"
   },
   {
    "duration": 114,
    "start_time": "2021-11-06T13:23:09.559Z"
   },
   {
    "duration": 15,
    "start_time": "2021-11-06T13:23:09.675Z"
   },
   {
    "duration": 56,
    "start_time": "2021-11-06T13:23:09.693Z"
   },
   {
    "duration": 9,
    "start_time": "2021-11-06T13:23:09.751Z"
   },
   {
    "duration": 13,
    "start_time": "2021-11-06T13:23:09.763Z"
   },
   {
    "duration": 8,
    "start_time": "2021-11-06T13:23:09.778Z"
   },
   {
    "duration": 50,
    "start_time": "2021-11-06T13:23:09.788Z"
   },
   {
    "duration": 6,
    "start_time": "2021-11-06T13:23:09.841Z"
   },
   {
    "duration": 8164,
    "start_time": "2021-11-06T13:23:09.849Z"
   },
   {
    "duration": 45,
    "start_time": "2021-11-06T13:23:18.015Z"
   },
   {
    "duration": 116,
    "start_time": "2021-11-06T13:23:58.211Z"
   },
   {
    "duration": 18,
    "start_time": "2021-11-06T13:23:58.331Z"
   },
   {
    "duration": 43,
    "start_time": "2021-11-06T13:23:58.353Z"
   },
   {
    "duration": 10,
    "start_time": "2021-11-06T13:23:58.429Z"
   },
   {
    "duration": 12,
    "start_time": "2021-11-06T13:23:58.441Z"
   },
   {
    "duration": 12,
    "start_time": "2021-11-06T13:23:58.455Z"
   },
   {
    "duration": 17,
    "start_time": "2021-11-06T13:23:58.469Z"
   },
   {
    "duration": 42,
    "start_time": "2021-11-06T13:23:58.489Z"
   },
   {
    "duration": 8549,
    "start_time": "2021-11-06T13:23:58.534Z"
   },
   {
    "duration": 53,
    "start_time": "2021-11-06T13:24:07.086Z"
   },
   {
    "duration": 118,
    "start_time": "2021-11-06T13:24:28.662Z"
   },
   {
    "duration": 14,
    "start_time": "2021-11-06T13:24:28.783Z"
   },
   {
    "duration": 60,
    "start_time": "2021-11-06T13:24:28.800Z"
   },
   {
    "duration": 10,
    "start_time": "2021-11-06T13:24:28.863Z"
   },
   {
    "duration": 18,
    "start_time": "2021-11-06T13:24:28.875Z"
   },
   {
    "duration": 18,
    "start_time": "2021-11-06T13:24:28.895Z"
   },
   {
    "duration": 15,
    "start_time": "2021-11-06T13:24:28.928Z"
   },
   {
    "duration": 11,
    "start_time": "2021-11-06T13:24:28.945Z"
   },
   {
    "duration": 8206,
    "start_time": "2021-11-06T13:24:28.959Z"
   },
   {
    "duration": 40,
    "start_time": "2021-11-06T13:24:37.168Z"
   },
   {
    "duration": 114,
    "start_time": "2021-11-06T13:24:48.460Z"
   },
   {
    "duration": 14,
    "start_time": "2021-11-06T13:24:48.577Z"
   },
   {
    "duration": 60,
    "start_time": "2021-11-06T13:24:48.594Z"
   },
   {
    "duration": 9,
    "start_time": "2021-11-06T13:24:48.657Z"
   },
   {
    "duration": 31,
    "start_time": "2021-11-06T13:24:48.668Z"
   },
   {
    "duration": 18,
    "start_time": "2021-11-06T13:24:48.701Z"
   },
   {
    "duration": 27,
    "start_time": "2021-11-06T13:24:48.721Z"
   },
   {
    "duration": 19,
    "start_time": "2021-11-06T13:24:48.750Z"
   },
   {
    "duration": 7880,
    "start_time": "2021-11-06T13:24:48.772Z"
   },
   {
    "duration": 38,
    "start_time": "2021-11-06T13:24:56.654Z"
   },
   {
    "duration": 6940,
    "start_time": "2021-11-06T13:25:42.073Z"
   },
   {
    "duration": -225,
    "start_time": "2021-11-06T13:26:23.300Z"
   },
   {
    "duration": 7,
    "start_time": "2021-11-06T13:26:36.937Z"
   },
   {
    "duration": 6,
    "start_time": "2021-11-06T13:26:39.694Z"
   },
   {
    "duration": 114,
    "start_time": "2021-11-06T13:27:04.480Z"
   },
   {
    "duration": 15,
    "start_time": "2021-11-06T13:27:04.596Z"
   },
   {
    "duration": 42,
    "start_time": "2021-11-06T13:27:04.630Z"
   },
   {
    "duration": 9,
    "start_time": "2021-11-06T13:27:04.674Z"
   },
   {
    "duration": 16,
    "start_time": "2021-11-06T13:27:04.685Z"
   },
   {
    "duration": 8,
    "start_time": "2021-11-06T13:27:04.729Z"
   },
   {
    "duration": 27,
    "start_time": "2021-11-06T13:27:04.739Z"
   },
   {
    "duration": 18,
    "start_time": "2021-11-06T13:27:04.768Z"
   },
   {
    "duration": 8754,
    "start_time": "2021-11-06T13:27:04.789Z"
   },
   {
    "duration": 38,
    "start_time": "2021-11-06T13:27:13.546Z"
   },
   {
    "duration": 115,
    "start_time": "2021-11-06T13:27:31.371Z"
   },
   {
    "duration": 14,
    "start_time": "2021-11-06T13:27:31.489Z"
   },
   {
    "duration": 57,
    "start_time": "2021-11-06T13:27:31.505Z"
   },
   {
    "duration": 9,
    "start_time": "2021-11-06T13:27:31.566Z"
   },
   {
    "duration": 23,
    "start_time": "2021-11-06T13:27:31.578Z"
   },
   {
    "duration": 28,
    "start_time": "2021-11-06T13:27:31.603Z"
   },
   {
    "duration": 37,
    "start_time": "2021-11-06T13:27:31.634Z"
   },
   {
    "duration": 16,
    "start_time": "2021-11-06T13:27:31.674Z"
   },
   {
    "duration": 8089,
    "start_time": "2021-11-06T13:27:31.692Z"
   },
   {
    "duration": 54,
    "start_time": "2021-11-06T13:27:39.784Z"
   },
   {
    "duration": 119,
    "start_time": "2021-11-06T13:30:34.524Z"
   },
   {
    "duration": 15,
    "start_time": "2021-11-06T13:30:34.647Z"
   },
   {
    "duration": 65,
    "start_time": "2021-11-06T13:30:34.665Z"
   },
   {
    "duration": 9,
    "start_time": "2021-11-06T13:30:34.733Z"
   },
   {
    "duration": 11,
    "start_time": "2021-11-06T13:30:34.745Z"
   },
   {
    "duration": 10,
    "start_time": "2021-11-06T13:30:34.759Z"
   },
   {
    "duration": 21,
    "start_time": "2021-11-06T13:30:34.771Z"
   },
   {
    "duration": 39,
    "start_time": "2021-11-06T13:30:34.794Z"
   },
   {
    "duration": 8942,
    "start_time": "2021-11-06T13:30:34.837Z"
   },
   {
    "duration": 51,
    "start_time": "2021-11-06T13:30:43.783Z"
   },
   {
    "duration": 265,
    "start_time": "2021-11-06T13:56:15.153Z"
   },
   {
    "duration": 1490,
    "start_time": "2021-11-06T13:58:42.710Z"
   },
   {
    "duration": 14,
    "start_time": "2021-11-06T14:00:51.143Z"
   },
   {
    "duration": 11,
    "start_time": "2021-11-06T14:01:15.863Z"
   },
   {
    "duration": 46,
    "start_time": "2021-11-06T14:03:24.888Z"
   },
   {
    "duration": 47,
    "start_time": "2021-11-06T14:04:47.272Z"
   },
   {
    "duration": 47,
    "start_time": "2021-11-06T14:10:03.635Z"
   },
   {
    "duration": 50,
    "start_time": "2021-11-06T14:10:57.229Z"
   },
   {
    "duration": 9,
    "start_time": "2021-11-06T14:15:00.781Z"
   },
   {
    "duration": 263,
    "start_time": "2021-11-06T14:18:18.336Z"
   },
   {
    "duration": 20,
    "start_time": "2021-11-06T14:21:01.658Z"
   },
   {
    "duration": 9,
    "start_time": "2021-11-06T14:21:17.958Z"
   },
   {
    "duration": 21,
    "start_time": "2021-11-06T14:21:32.256Z"
   },
   {
    "duration": 12,
    "start_time": "2021-11-06T14:21:38.337Z"
   },
   {
    "duration": 22,
    "start_time": "2021-11-06T14:21:40.462Z"
   },
   {
    "duration": 10,
    "start_time": "2021-11-06T14:21:43.722Z"
   },
   {
    "duration": 252,
    "start_time": "2021-11-06T14:22:54.915Z"
   },
   {
    "duration": 106,
    "start_time": "2021-11-06T14:24:00.091Z"
   },
   {
    "duration": 39,
    "start_time": "2021-11-06T14:24:02.778Z"
   },
   {
    "duration": 9,
    "start_time": "2021-11-06T14:24:04.698Z"
   },
   {
    "duration": 484,
    "start_time": "2021-11-07T09:35:06.952Z"
   },
   {
    "duration": 371,
    "start_time": "2021-11-07T09:35:13.904Z"
   },
   {
    "duration": 930,
    "start_time": "2021-11-07T09:35:18.456Z"
   },
   {
    "duration": 16,
    "start_time": "2021-11-07T09:35:19.389Z"
   },
   {
    "duration": 42,
    "start_time": "2021-11-07T09:35:19.408Z"
   },
   {
    "duration": 10,
    "start_time": "2021-11-07T09:35:19.453Z"
   },
   {
    "duration": 12,
    "start_time": "2021-11-07T09:35:19.465Z"
   },
   {
    "duration": 22,
    "start_time": "2021-11-07T09:35:19.480Z"
   },
   {
    "duration": 16,
    "start_time": "2021-11-07T09:35:19.504Z"
   },
   {
    "duration": 7,
    "start_time": "2021-11-07T09:35:19.524Z"
   },
   {
    "duration": 9043,
    "start_time": "2021-11-07T09:35:19.533Z"
   },
   {
    "duration": 53,
    "start_time": "2021-11-07T09:35:28.579Z"
   },
   {
    "duration": 53,
    "start_time": "2021-11-07T09:35:28.634Z"
   },
   {
    "duration": 9,
    "start_time": "2021-11-07T09:35:28.700Z"
   },
   {
    "duration": 25,
    "start_time": "2021-11-07T09:35:49.255Z"
   },
   {
    "duration": 502,
    "start_time": "2021-11-07T09:36:22.866Z"
   },
   {
    "duration": 11,
    "start_time": "2021-11-07T09:36:32.275Z"
   },
   {
    "duration": 11,
    "start_time": "2021-11-07T09:36:52.933Z"
   },
   {
    "duration": 433,
    "start_time": "2021-11-07T09:43:52.338Z"
   },
   {
    "duration": 24,
    "start_time": "2021-11-07T09:44:03.800Z"
   },
   {
    "duration": 362,
    "start_time": "2021-11-07T09:44:16.388Z"
   },
   {
    "duration": 377,
    "start_time": "2021-11-07T09:44:22.036Z"
   },
   {
    "duration": 9,
    "start_time": "2021-11-07T09:44:29.358Z"
   },
   {
    "duration": 9,
    "start_time": "2021-11-07T09:45:40.298Z"
   },
   {
    "duration": 9,
    "start_time": "2021-11-07T09:46:16.882Z"
   },
   {
    "duration": 8,
    "start_time": "2021-11-07T09:46:31.488Z"
   },
   {
    "duration": 7,
    "start_time": "2021-11-07T09:46:47.112Z"
   },
   {
    "duration": 76,
    "start_time": "2021-11-07T09:51:47.917Z"
   },
   {
    "duration": 26,
    "start_time": "2021-11-07T09:54:09.052Z"
   },
   {
    "duration": 8,
    "start_time": "2021-11-07T09:54:31.681Z"
   },
   {
    "duration": 470,
    "start_time": "2021-11-07T09:54:49.704Z"
   },
   {
    "duration": 11,
    "start_time": "2021-11-07T09:54:59.523Z"
   },
   {
    "duration": 10,
    "start_time": "2021-11-07T09:55:10.120Z"
   },
   {
    "duration": 11,
    "start_time": "2021-11-07T09:55:14.460Z"
   },
   {
    "duration": 30,
    "start_time": "2021-11-07T10:02:58.239Z"
   },
   {
    "duration": 27,
    "start_time": "2021-11-07T10:03:24.150Z"
   },
   {
    "duration": 436,
    "start_time": "2021-11-07T10:10:48.847Z"
   },
   {
    "duration": 171,
    "start_time": "2021-11-07T10:12:45.876Z"
   },
   {
    "duration": 183,
    "start_time": "2021-11-07T10:13:27.346Z"
   },
   {
    "duration": 193,
    "start_time": "2021-11-07T10:15:20.740Z"
   },
   {
    "duration": 698,
    "start_time": "2021-11-07T10:15:59.628Z"
   },
   {
    "duration": 194,
    "start_time": "2021-11-07T10:16:16.533Z"
   },
   {
    "duration": 35,
    "start_time": "2021-11-07T10:28:20.118Z"
   },
   {
    "duration": 393,
    "start_time": "2021-11-07T10:31:20.696Z"
   },
   {
    "duration": 401,
    "start_time": "2021-11-07T10:34:41.620Z"
   },
   {
    "duration": 459,
    "start_time": "2021-11-07T10:35:07.444Z"
   },
   {
    "duration": 127,
    "start_time": "2021-11-07T10:35:17.957Z"
   },
   {
    "duration": 22,
    "start_time": "2021-11-07T10:35:18.086Z"
   },
   {
    "duration": 41,
    "start_time": "2021-11-07T10:35:18.111Z"
   },
   {
    "duration": 9,
    "start_time": "2021-11-07T10:35:18.155Z"
   },
   {
    "duration": 41,
    "start_time": "2021-11-07T10:35:18.166Z"
   },
   {
    "duration": 7,
    "start_time": "2021-11-07T10:35:18.210Z"
   },
   {
    "duration": 16,
    "start_time": "2021-11-07T10:35:18.219Z"
   },
   {
    "duration": 8,
    "start_time": "2021-11-07T10:35:18.240Z"
   },
   {
    "duration": 9946,
    "start_time": "2021-11-07T10:35:18.251Z"
   },
   {
    "duration": 38,
    "start_time": "2021-11-07T10:35:28.201Z"
   },
   {
    "duration": 68,
    "start_time": "2021-11-07T10:35:28.242Z"
   },
   {
    "duration": 9,
    "start_time": "2021-11-07T10:35:28.313Z"
   },
   {
    "duration": 35,
    "start_time": "2021-11-07T10:35:28.324Z"
   },
   {
    "duration": 213,
    "start_time": "2021-11-07T10:35:28.362Z"
   },
   {
    "duration": 22,
    "start_time": "2021-11-07T10:35:28.578Z"
   },
   {
    "duration": 35,
    "start_time": "2021-11-07T10:35:28.602Z"
   },
   {
    "duration": 387,
    "start_time": "2021-11-07T10:35:28.640Z"
   },
   {
    "duration": 6,
    "start_time": "2021-11-07T10:36:18.092Z"
   },
   {
    "duration": 399,
    "start_time": "2021-11-07T10:36:42.246Z"
   },
   {
    "duration": 38,
    "start_time": "2021-11-07T10:38:56.369Z"
   },
   {
    "duration": 12,
    "start_time": "2021-11-07T10:39:15.305Z"
   },
   {
    "duration": 23,
    "start_time": "2021-11-07T10:40:17.431Z"
   },
   {
    "duration": 452,
    "start_time": "2021-11-07T10:44:14.470Z"
   },
   {
    "duration": 9,
    "start_time": "2021-11-07T10:44:21.757Z"
   },
   {
    "duration": 374,
    "start_time": "2021-11-07T10:45:23.367Z"
   },
   {
    "duration": 14,
    "start_time": "2021-11-07T10:45:29.686Z"
   },
   {
    "duration": 20,
    "start_time": "2021-11-07T10:45:35.362Z"
   },
   {
    "duration": 14,
    "start_time": "2021-11-07T10:53:11.530Z"
   },
   {
    "duration": 17,
    "start_time": "2021-11-07T11:49:32.456Z"
   },
   {
    "duration": 37,
    "start_time": "2021-11-07T11:49:45.057Z"
   },
   {
    "duration": 69,
    "start_time": "2021-11-07T11:50:58.917Z"
   },
   {
    "duration": 37,
    "start_time": "2021-11-07T11:51:25.918Z"
   },
   {
    "duration": 9272,
    "start_time": "2021-11-07T11:54:24.740Z"
   },
   {
    "duration": 7,
    "start_time": "2021-11-07T11:54:49.501Z"
   },
   {
    "duration": 384,
    "start_time": "2021-11-07T12:04:53.934Z"
   },
   {
    "duration": 8,
    "start_time": "2021-11-07T12:05:01.757Z"
   },
   {
    "duration": 17,
    "start_time": "2021-11-07T12:08:11.680Z"
   },
   {
    "duration": 5153,
    "start_time": "2021-11-07T12:18:29.935Z"
   },
   {
    "duration": 1659,
    "start_time": "2021-11-07T12:20:36.575Z"
   },
   {
    "duration": 1117,
    "start_time": "2021-11-07T12:21:41.377Z"
   },
   {
    "duration": 6,
    "start_time": "2021-11-07T12:24:43.111Z"
   },
   {
    "duration": 1633,
    "start_time": "2021-11-07T12:24:47.895Z"
   },
   {
    "duration": 656,
    "start_time": "2021-11-07T12:58:11.479Z"
   },
   {
    "duration": 381,
    "start_time": "2021-11-07T12:58:49.650Z"
   },
   {
    "duration": 518,
    "start_time": "2021-11-07T12:59:01.441Z"
   },
   {
    "duration": 556,
    "start_time": "2021-11-07T12:59:10.885Z"
   },
   {
    "duration": 519,
    "start_time": "2021-11-07T12:59:21.012Z"
   },
   {
    "duration": 384,
    "start_time": "2021-11-07T12:59:29.073Z"
   },
   {
    "duration": 370,
    "start_time": "2021-11-07T12:59:38.677Z"
   },
   {
    "duration": 597,
    "start_time": "2021-11-07T13:01:36.072Z"
   },
   {
    "duration": 369,
    "start_time": "2021-11-07T13:02:02.448Z"
   },
   {
    "duration": 351,
    "start_time": "2021-11-07T13:02:09.390Z"
   },
   {
    "duration": 363,
    "start_time": "2021-11-07T13:02:36.088Z"
   },
   {
    "duration": 405,
    "start_time": "2021-11-07T13:02:48.585Z"
   },
   {
    "duration": 292,
    "start_time": "2021-11-07T13:02:59.232Z"
   },
   {
    "duration": 287,
    "start_time": "2021-11-07T13:03:06.608Z"
   },
   {
    "duration": 300,
    "start_time": "2021-11-07T13:03:24.158Z"
   },
   {
    "duration": 281,
    "start_time": "2021-11-07T13:03:29.759Z"
   },
   {
    "duration": 344,
    "start_time": "2021-11-07T13:04:59.149Z"
   },
   {
    "duration": 353,
    "start_time": "2021-11-07T13:05:07.908Z"
   },
   {
    "duration": 350,
    "start_time": "2021-11-07T13:05:21.287Z"
   },
   {
    "duration": 357,
    "start_time": "2021-11-07T13:05:31.959Z"
   },
   {
    "duration": 356,
    "start_time": "2021-11-07T13:05:42.291Z"
   },
   {
    "duration": 638,
    "start_time": "2021-11-07T13:05:51.530Z"
   },
   {
    "duration": 276,
    "start_time": "2021-11-07T13:05:55.824Z"
   },
   {
    "duration": 355,
    "start_time": "2021-11-07T13:06:52.952Z"
   },
   {
    "duration": 306,
    "start_time": "2021-11-07T13:07:08.007Z"
   },
   {
    "duration": 294,
    "start_time": "2021-11-07T13:07:18.831Z"
   },
   {
    "duration": 427,
    "start_time": "2021-11-07T13:07:27.084Z"
   },
   {
    "duration": 582,
    "start_time": "2021-11-07T13:07:37.462Z"
   },
   {
    "duration": 3157,
    "start_time": "2021-11-07T13:07:42.185Z"
   },
   {
    "duration": 579,
    "start_time": "2021-11-07T13:07:53.206Z"
   },
   {
    "duration": 952,
    "start_time": "2021-11-07T13:08:26.336Z"
   },
   {
    "duration": 961,
    "start_time": "2021-11-07T13:08:49.365Z"
   },
   {
    "duration": 571,
    "start_time": "2021-11-07T13:08:59.937Z"
   },
   {
    "duration": 720,
    "start_time": "2021-11-07T13:09:13.183Z"
   },
   {
    "duration": 557,
    "start_time": "2021-11-07T13:09:31.497Z"
   },
   {
    "duration": 790,
    "start_time": "2021-11-07T13:09:46.439Z"
   },
   {
    "duration": 583,
    "start_time": "2021-11-07T13:09:53.084Z"
   },
   {
    "duration": 539,
    "start_time": "2021-11-07T13:10:10.157Z"
   },
   {
    "duration": 411,
    "start_time": "2021-11-07T13:10:17.845Z"
   },
   {
    "duration": 278,
    "start_time": "2021-11-07T13:11:09.425Z"
   },
   {
    "duration": 288,
    "start_time": "2021-11-07T13:11:17.249Z"
   },
   {
    "duration": 408,
    "start_time": "2021-11-07T13:11:22.550Z"
   },
   {
    "duration": 241,
    "start_time": "2021-11-07T13:11:28.032Z"
   },
   {
    "duration": 1021,
    "start_time": "2021-11-07T13:11:31.317Z"
   },
   {
    "duration": 284,
    "start_time": "2021-11-07T13:11:42.527Z"
   },
   {
    "duration": 292,
    "start_time": "2021-11-07T13:11:50.319Z"
   },
   {
    "duration": 308,
    "start_time": "2021-11-07T13:11:54.884Z"
   },
   {
    "duration": 283,
    "start_time": "2021-11-07T13:12:00.423Z"
   },
   {
    "duration": 410,
    "start_time": "2021-11-07T13:13:31.923Z"
   },
   {
    "duration": 606,
    "start_time": "2021-11-07T13:14:11.781Z"
   },
   {
    "duration": 413,
    "start_time": "2021-11-07T13:14:19.274Z"
   },
   {
    "duration": 420,
    "start_time": "2021-11-07T13:14:25.285Z"
   },
   {
    "duration": 347,
    "start_time": "2021-11-07T13:14:33.838Z"
   },
   {
    "duration": 273,
    "start_time": "2021-11-07T13:20:16.237Z"
   },
   {
    "duration": 288,
    "start_time": "2021-11-07T13:20:23.181Z"
   },
   {
    "duration": 280,
    "start_time": "2021-11-07T13:20:31.313Z"
   },
   {
    "duration": 315,
    "start_time": "2021-11-07T13:20:36.828Z"
   },
   {
    "duration": 379,
    "start_time": "2021-11-07T13:20:45.612Z"
   },
   {
    "duration": 372,
    "start_time": "2021-11-07T13:21:00.776Z"
   },
   {
    "duration": 7,
    "start_time": "2021-11-07T14:01:06.898Z"
   },
   {
    "duration": 13,
    "start_time": "2021-11-07T14:03:52.979Z"
   },
   {
    "duration": 661,
    "start_time": "2021-11-07T14:10:17.982Z"
   },
   {
    "duration": 9,
    "start_time": "2021-11-07T14:11:07.206Z"
   },
   {
    "duration": 129,
    "start_time": "2021-11-07T14:11:27.324Z"
   },
   {
    "duration": 15,
    "start_time": "2021-11-07T14:11:27.456Z"
   },
   {
    "duration": 61,
    "start_time": "2021-11-07T14:11:27.474Z"
   },
   {
    "duration": 10,
    "start_time": "2021-11-07T14:11:27.539Z"
   },
   {
    "duration": 16,
    "start_time": "2021-11-07T14:11:27.552Z"
   },
   {
    "duration": 34,
    "start_time": "2021-11-07T14:11:27.570Z"
   },
   {
    "duration": 25,
    "start_time": "2021-11-07T14:11:27.607Z"
   },
   {
    "duration": 15,
    "start_time": "2021-11-07T14:11:27.636Z"
   },
   {
    "duration": 12,
    "start_time": "2021-11-07T14:11:27.654Z"
   },
   {
    "duration": 9268,
    "start_time": "2021-11-07T14:11:27.668Z"
   },
   {
    "duration": 41,
    "start_time": "2021-11-07T14:11:36.938Z"
   },
   {
    "duration": 67,
    "start_time": "2021-11-07T14:11:36.982Z"
   },
   {
    "duration": 9,
    "start_time": "2021-11-07T14:11:37.051Z"
   },
   {
    "duration": 51,
    "start_time": "2021-11-07T14:11:37.062Z"
   },
   {
    "duration": 223,
    "start_time": "2021-11-07T14:11:37.116Z"
   },
   {
    "duration": 11,
    "start_time": "2021-11-07T14:11:37.341Z"
   },
   {
    "duration": 33,
    "start_time": "2021-11-07T14:11:37.354Z"
   },
   {
    "duration": 39,
    "start_time": "2021-11-07T14:11:37.400Z"
   },
   {
    "duration": 61,
    "start_time": "2021-11-07T14:11:37.441Z"
   },
   {
    "duration": 6,
    "start_time": "2021-11-07T14:11:37.504Z"
   },
   {
    "duration": 22,
    "start_time": "2021-11-07T14:11:37.513Z"
   },
   {
    "duration": 1062,
    "start_time": "2021-11-07T14:11:37.538Z"
   },
   {
    "duration": 383,
    "start_time": "2021-11-07T14:11:38.605Z"
   },
   {
    "duration": 303,
    "start_time": "2021-11-07T14:11:38.991Z"
   },
   {
    "duration": 351,
    "start_time": "2021-11-07T14:11:39.300Z"
   },
   {
    "duration": 299,
    "start_time": "2021-11-07T14:11:39.654Z"
   },
   {
    "duration": 393,
    "start_time": "2021-11-07T14:11:39.957Z"
   },
   {
    "duration": 11,
    "start_time": "2021-11-07T14:11:40.353Z"
   },
   {
    "duration": 119,
    "start_time": "2021-11-07T14:12:13.517Z"
   },
   {
    "duration": 16,
    "start_time": "2021-11-07T14:12:13.639Z"
   },
   {
    "duration": 57,
    "start_time": "2021-11-07T14:12:13.658Z"
   },
   {
    "duration": 10,
    "start_time": "2021-11-07T14:12:13.718Z"
   },
   {
    "duration": 11,
    "start_time": "2021-11-07T14:12:13.731Z"
   },
   {
    "duration": 8,
    "start_time": "2021-11-07T14:12:13.745Z"
   },
   {
    "duration": 51,
    "start_time": "2021-11-07T14:12:13.755Z"
   },
   {
    "duration": 7,
    "start_time": "2021-11-07T14:12:13.809Z"
   },
   {
    "duration": 1305,
    "start_time": "2021-11-07T14:12:35.065Z"
   },
   {
    "duration": 7,
    "start_time": "2021-11-07T14:14:13.850Z"
   },
   {
    "duration": 384,
    "start_time": "2021-11-07T14:14:21.168Z"
   },
   {
    "duration": 6,
    "start_time": "2021-11-07T14:14:53.922Z"
   },
   {
    "duration": 6,
    "start_time": "2021-11-07T14:15:06.251Z"
   },
   {
    "duration": 7,
    "start_time": "2021-11-07T14:15:19.186Z"
   },
   {
    "duration": 363,
    "start_time": "2021-11-07T14:25:46.303Z"
   },
   {
    "duration": 1235,
    "start_time": "2021-11-07T14:26:13.446Z"
   },
   {
    "duration": 251,
    "start_time": "2021-11-07T14:36:24.323Z"
   },
   {
    "duration": 46,
    "start_time": "2021-11-07T14:40:14.423Z"
   },
   {
    "duration": 50,
    "start_time": "2021-11-07T14:41:02.473Z"
   },
   {
    "duration": 60,
    "start_time": "2021-11-07T14:41:10.366Z"
   },
   {
    "duration": 99,
    "start_time": "2021-11-07T14:41:32.046Z"
   },
   {
    "duration": 408,
    "start_time": "2021-11-07T14:52:43.622Z"
   },
   {
    "duration": 66,
    "start_time": "2021-11-07T14:57:54.647Z"
   },
   {
    "duration": 9,
    "start_time": "2021-11-07T14:58:07.871Z"
   },
   {
    "duration": 218,
    "start_time": "2021-11-07T14:58:21.962Z"
   },
   {
    "duration": 223,
    "start_time": "2021-11-07T14:58:40.144Z"
   },
   {
    "duration": 236,
    "start_time": "2021-11-07T14:58:55.866Z"
   },
   {
    "duration": 234,
    "start_time": "2021-11-07T14:59:00.420Z"
   },
   {
    "duration": 217,
    "start_time": "2021-11-07T14:59:14.520Z"
   },
   {
    "duration": 19,
    "start_time": "2021-11-07T14:59:19.058Z"
   },
   {
    "duration": 16,
    "start_time": "2021-11-07T14:59:24.029Z"
   },
   {
    "duration": 12,
    "start_time": "2021-11-07T15:00:39.343Z"
   },
   {
    "duration": 125,
    "start_time": "2021-11-07T15:00:42.644Z"
   },
   {
    "duration": 15,
    "start_time": "2021-11-07T15:00:42.772Z"
   },
   {
    "duration": 41,
    "start_time": "2021-11-07T15:00:42.802Z"
   },
   {
    "duration": 9,
    "start_time": "2021-11-07T15:00:42.846Z"
   },
   {
    "duration": 12,
    "start_time": "2021-11-07T15:00:42.858Z"
   },
   {
    "duration": 11,
    "start_time": "2021-11-07T15:00:42.901Z"
   },
   {
    "duration": 7,
    "start_time": "2021-11-07T15:00:42.915Z"
   },
   {
    "duration": 15,
    "start_time": "2021-11-07T15:00:42.926Z"
   },
   {
    "duration": 12,
    "start_time": "2021-11-07T15:00:42.944Z"
   },
   {
    "duration": 992,
    "start_time": "2021-11-07T15:00:42.958Z"
   },
   {
    "duration": -284,
    "start_time": "2021-11-07T15:00:44.236Z"
   },
   {
    "duration": -284,
    "start_time": "2021-11-07T15:00:44.238Z"
   },
   {
    "duration": -286,
    "start_time": "2021-11-07T15:00:44.241Z"
   },
   {
    "duration": -287,
    "start_time": "2021-11-07T15:00:44.243Z"
   },
   {
    "duration": -289,
    "start_time": "2021-11-07T15:00:44.246Z"
   },
   {
    "duration": -290,
    "start_time": "2021-11-07T15:00:44.248Z"
   },
   {
    "duration": -291,
    "start_time": "2021-11-07T15:00:44.251Z"
   },
   {
    "duration": -294,
    "start_time": "2021-11-07T15:00:44.255Z"
   },
   {
    "duration": -295,
    "start_time": "2021-11-07T15:00:44.257Z"
   },
   {
    "duration": -298,
    "start_time": "2021-11-07T15:00:44.261Z"
   },
   {
    "duration": -309,
    "start_time": "2021-11-07T15:00:44.273Z"
   },
   {
    "duration": -309,
    "start_time": "2021-11-07T15:00:44.275Z"
   },
   {
    "duration": -310,
    "start_time": "2021-11-07T15:00:44.277Z"
   },
   {
    "duration": -311,
    "start_time": "2021-11-07T15:00:44.280Z"
   },
   {
    "duration": -313,
    "start_time": "2021-11-07T15:00:44.283Z"
   },
   {
    "duration": -314,
    "start_time": "2021-11-07T15:00:44.286Z"
   },
   {
    "duration": -316,
    "start_time": "2021-11-07T15:00:44.289Z"
   },
   {
    "duration": -317,
    "start_time": "2021-11-07T15:00:44.291Z"
   },
   {
    "duration": -318,
    "start_time": "2021-11-07T15:00:44.294Z"
   },
   {
    "duration": -319,
    "start_time": "2021-11-07T15:00:44.296Z"
   },
   {
    "duration": -320,
    "start_time": "2021-11-07T15:00:44.298Z"
   },
   {
    "duration": 121,
    "start_time": "2021-11-07T15:01:24.427Z"
   },
   {
    "duration": 15,
    "start_time": "2021-11-07T15:01:24.551Z"
   },
   {
    "duration": 67,
    "start_time": "2021-11-07T15:01:24.569Z"
   },
   {
    "duration": 10,
    "start_time": "2021-11-07T15:01:24.639Z"
   },
   {
    "duration": 11,
    "start_time": "2021-11-07T15:01:24.651Z"
   },
   {
    "duration": 40,
    "start_time": "2021-11-07T15:01:24.665Z"
   },
   {
    "duration": 15,
    "start_time": "2021-11-07T15:01:24.707Z"
   },
   {
    "duration": 7,
    "start_time": "2021-11-07T15:01:24.724Z"
   },
   {
    "duration": 9020,
    "start_time": "2021-11-07T15:01:24.735Z"
   },
   {
    "duration": 48,
    "start_time": "2021-11-07T15:01:33.758Z"
   },
   {
    "duration": 49,
    "start_time": "2021-11-07T15:01:33.808Z"
   },
   {
    "duration": 9,
    "start_time": "2021-11-07T15:01:33.859Z"
   },
   {
    "duration": 27,
    "start_time": "2021-11-07T15:01:33.901Z"
   },
   {
    "duration": 224,
    "start_time": "2021-11-07T15:01:33.930Z"
   },
   {
    "duration": 10,
    "start_time": "2021-11-07T15:01:34.157Z"
   },
   {
    "duration": 39,
    "start_time": "2021-11-07T15:01:34.169Z"
   },
   {
    "duration": 38,
    "start_time": "2021-11-07T15:01:34.210Z"
   },
   {
    "duration": 64,
    "start_time": "2021-11-07T15:01:34.250Z"
   },
   {
    "duration": 6,
    "start_time": "2021-11-07T15:01:34.316Z"
   },
   {
    "duration": 23,
    "start_time": "2021-11-07T15:01:34.324Z"
   },
   {
    "duration": 1052,
    "start_time": "2021-11-07T15:01:34.350Z"
   },
   {
    "duration": 381,
    "start_time": "2021-11-07T15:01:35.404Z"
   },
   {
    "duration": 305,
    "start_time": "2021-11-07T15:01:35.788Z"
   },
   {
    "duration": 361,
    "start_time": "2021-11-07T15:01:36.100Z"
   },
   {
    "duration": 313,
    "start_time": "2021-11-07T15:01:36.464Z"
   },
   {
    "duration": 694,
    "start_time": "2021-11-07T15:01:36.779Z"
   },
   {
    "duration": 24,
    "start_time": "2021-11-07T15:01:37.477Z"
   },
   {
    "duration": 271,
    "start_time": "2021-11-07T15:01:37.503Z"
   },
   {
    "duration": 26,
    "start_time": "2021-11-07T15:01:37.777Z"
   },
   {
    "duration": 10,
    "start_time": "2021-11-07T15:04:36.320Z"
   },
   {
    "duration": 11,
    "start_time": "2021-11-07T15:05:04.087Z"
   },
   {
    "duration": 1956,
    "start_time": "2021-11-07T15:08:01.616Z"
   },
   {
    "duration": 13,
    "start_time": "2021-11-07T15:08:16.839Z"
   },
   {
    "duration": 16,
    "start_time": "2021-11-07T15:08:32.849Z"
   },
   {
    "duration": 236,
    "start_time": "2021-11-07T15:08:58.109Z"
   },
   {
    "duration": 11,
    "start_time": "2021-11-07T15:09:24.974Z"
   },
   {
    "duration": 11,
    "start_time": "2021-11-07T15:10:40.569Z"
   },
   {
    "duration": 217,
    "start_time": "2021-11-07T15:10:56.283Z"
   },
   {
    "duration": 11,
    "start_time": "2021-11-07T15:11:17.639Z"
   },
   {
    "duration": 129,
    "start_time": "2021-11-07T15:25:35.306Z"
   },
   {
    "duration": 10,
    "start_time": "2021-11-07T15:26:00.453Z"
   },
   {
    "duration": 343,
    "start_time": "2021-11-10T18:05:11.286Z"
   },
   {
    "duration": 284,
    "start_time": "2021-11-10T18:05:22.887Z"
   },
   {
    "duration": 468,
    "start_time": "2021-11-10T18:05:28.320Z"
   },
   {
    "duration": 912,
    "start_time": "2021-11-10T18:05:32.861Z"
   },
   {
    "duration": 16,
    "start_time": "2021-11-10T18:05:33.777Z"
   },
   {
    "duration": 41,
    "start_time": "2021-11-10T18:05:33.796Z"
   },
   {
    "duration": 34,
    "start_time": "2021-11-10T18:05:33.840Z"
   },
   {
    "duration": 11,
    "start_time": "2021-11-10T18:05:33.876Z"
   },
   {
    "duration": 13,
    "start_time": "2021-11-10T18:05:33.890Z"
   },
   {
    "duration": 20,
    "start_time": "2021-11-10T18:05:33.905Z"
   },
   {
    "duration": 40,
    "start_time": "2021-11-10T18:05:33.927Z"
   },
   {
    "duration": 9526,
    "start_time": "2021-11-10T18:05:33.971Z"
   },
   {
    "duration": 44,
    "start_time": "2021-11-10T18:05:43.500Z"
   },
   {
    "duration": 86,
    "start_time": "2021-11-10T18:05:43.547Z"
   },
   {
    "duration": 9,
    "start_time": "2021-11-10T18:05:43.636Z"
   },
   {
    "duration": 36,
    "start_time": "2021-11-10T18:05:43.668Z"
   },
   {
    "duration": 247,
    "start_time": "2021-11-10T18:05:43.707Z"
   },
   {
    "duration": 17,
    "start_time": "2021-11-10T18:05:43.957Z"
   },
   {
    "duration": 45,
    "start_time": "2021-11-10T18:05:43.976Z"
   },
   {
    "duration": 59,
    "start_time": "2021-11-10T18:05:44.024Z"
   },
   {
    "duration": 57,
    "start_time": "2021-11-10T18:05:44.085Z"
   },
   {
    "duration": 23,
    "start_time": "2021-11-10T18:05:44.145Z"
   },
   {
    "duration": 35,
    "start_time": "2021-11-10T18:05:44.171Z"
   },
   {
    "duration": 1179,
    "start_time": "2021-11-10T18:05:44.209Z"
   },
   {
    "duration": 533,
    "start_time": "2021-11-10T18:05:45.390Z"
   },
   {
    "duration": 299,
    "start_time": "2021-11-10T18:05:45.925Z"
   },
   {
    "duration": 358,
    "start_time": "2021-11-10T18:05:46.226Z"
   },
   {
    "duration": 300,
    "start_time": "2021-11-10T18:05:46.587Z"
   },
   {
    "duration": 536,
    "start_time": "2021-11-10T18:05:46.890Z"
   },
   {
    "duration": 11,
    "start_time": "2021-11-10T18:05:47.431Z"
   },
   {
    "duration": 279,
    "start_time": "2021-11-10T18:05:47.444Z"
   },
   {
    "duration": 13,
    "start_time": "2021-11-10T18:05:47.726Z"
   },
   {
    "duration": 680,
    "start_time": "2021-11-10T18:05:54.128Z"
   },
   {
    "duration": 694,
    "start_time": "2021-11-10T18:06:11.794Z"
   },
   {
    "duration": 541,
    "start_time": "2021-11-10T18:07:39.136Z"
   },
   {
    "duration": 6,
    "start_time": "2021-11-10T18:09:38.294Z"
   },
   {
    "duration": 316,
    "start_time": "2021-11-10T18:11:21.909Z"
   },
   {
    "duration": 798,
    "start_time": "2021-11-10T18:11:59.784Z"
   },
   {
    "duration": 283,
    "start_time": "2021-11-10T18:12:04.427Z"
   },
   {
    "duration": 110,
    "start_time": "2021-11-10T18:12:08.159Z"
   },
   {
    "duration": 160,
    "start_time": "2021-11-10T18:12:29.224Z"
   },
   {
    "duration": 90,
    "start_time": "2021-11-10T18:12:37.917Z"
   },
   {
    "duration": 97,
    "start_time": "2021-11-10T18:12:44.479Z"
   },
   {
    "duration": 113,
    "start_time": "2021-11-10T18:34:16.825Z"
   },
   {
    "duration": 3,
    "start_time": "2021-11-10T18:34:25.737Z"
   },
   {
    "duration": 89,
    "start_time": "2021-11-10T18:34:29.024Z"
   },
   {
    "duration": 88,
    "start_time": "2021-11-10T18:34:46.632Z"
   },
   {
    "duration": 107,
    "start_time": "2021-11-10T18:34:57.178Z"
   },
   {
    "duration": 7,
    "start_time": "2021-11-10T18:35:02.816Z"
   },
   {
    "duration": 7351,
    "start_time": "2021-11-10T18:35:14.241Z"
   },
   {
    "duration": 280,
    "start_time": "2021-11-10T18:35:25.008Z"
   },
   {
    "duration": 7560,
    "start_time": "2021-11-10T18:35:30.991Z"
   },
   {
    "duration": 272,
    "start_time": "2021-11-10T18:36:09.466Z"
   },
   {
    "duration": 7,
    "start_time": "2021-11-10T18:37:13.652Z"
   },
   {
    "duration": 8,
    "start_time": "2021-11-10T18:37:58.637Z"
   },
   {
    "duration": 10,
    "start_time": "2021-11-10T18:38:25.592Z"
   },
   {
    "duration": 7,
    "start_time": "2021-11-10T18:39:13.496Z"
   },
   {
    "duration": 256,
    "start_time": "2021-11-10T18:41:22.688Z"
   },
   {
    "duration": 24,
    "start_time": "2021-11-10T18:41:32.190Z"
   },
   {
    "duration": 344,
    "start_time": "2021-11-10T18:42:23.659Z"
   },
   {
    "duration": 34,
    "start_time": "2021-11-10T18:42:40.608Z"
   },
   {
    "duration": 300,
    "start_time": "2021-11-10T18:42:47.559Z"
   },
   {
    "duration": 23,
    "start_time": "2021-11-10T18:42:55.082Z"
   },
   {
    "duration": 451,
    "start_time": "2021-11-10T18:44:37.728Z"
   },
   {
    "duration": 506,
    "start_time": "2021-11-10T18:44:56.525Z"
   },
   {
    "duration": 22,
    "start_time": "2021-11-10T18:45:01.232Z"
   },
   {
    "duration": 23,
    "start_time": "2021-11-10T18:48:07.280Z"
   },
   {
    "duration": 24,
    "start_time": "2021-11-10T18:48:21.550Z"
   },
   {
    "duration": 21,
    "start_time": "2021-11-10T18:49:12.798Z"
   },
   {
    "duration": 20,
    "start_time": "2021-11-10T18:50:10.533Z"
   },
   {
    "duration": 21,
    "start_time": "2021-11-10T18:51:58.250Z"
   },
   {
    "duration": 21,
    "start_time": "2021-11-10T18:52:01.927Z"
   },
   {
    "duration": 22,
    "start_time": "2021-11-10T18:52:05.426Z"
   },
   {
    "duration": 22,
    "start_time": "2021-11-10T18:53:00.792Z"
   },
   {
    "duration": 21,
    "start_time": "2021-11-10T18:54:05.196Z"
   },
   {
    "duration": 20,
    "start_time": "2021-11-10T18:54:11.652Z"
   },
   {
    "duration": 11,
    "start_time": "2021-11-10T19:02:06.570Z"
   },
   {
    "duration": 4,
    "start_time": "2021-11-10T19:04:09.283Z"
   },
   {
    "duration": 68,
    "start_time": "2021-11-10T19:07:00.255Z"
   },
   {
    "duration": 28,
    "start_time": "2021-11-10T19:07:58.974Z"
   },
   {
    "duration": 29,
    "start_time": "2021-11-10T19:08:36.339Z"
   },
   {
    "duration": 30,
    "start_time": "2021-11-10T19:09:05.728Z"
   },
   {
    "duration": 30,
    "start_time": "2021-11-10T19:09:47.533Z"
   },
   {
    "duration": 30,
    "start_time": "2021-11-10T19:09:55.141Z"
   },
   {
    "duration": 83,
    "start_time": "2021-11-10T19:15:15.222Z"
   },
   {
    "duration": 323,
    "start_time": "2021-11-10T19:15:19.607Z"
   },
   {
    "duration": 105,
    "start_time": "2021-11-10T19:15:31.787Z"
   },
   {
    "duration": 10,
    "start_time": "2021-11-10T19:16:11.491Z"
   },
   {
    "duration": 299,
    "start_time": "2021-11-10T19:18:29.161Z"
   },
   {
    "duration": 13,
    "start_time": "2021-11-10T19:18:38.958Z"
   },
   {
    "duration": 5264,
    "start_time": "2021-11-10T19:20:21.373Z"
   },
   {
    "duration": 5602,
    "start_time": "2021-11-10T19:20:29.475Z"
   },
   {
    "duration": 14,
    "start_time": "2021-11-10T19:21:41.975Z"
   },
   {
    "duration": 16,
    "start_time": "2021-11-10T19:21:56.949Z"
   },
   {
    "duration": 112,
    "start_time": "2021-11-10T19:22:11.502Z"
   },
   {
    "duration": 12,
    "start_time": "2021-11-10T19:22:20.034Z"
   },
   {
    "duration": 1154,
    "start_time": "2021-11-10T19:22:44.052Z"
   },
   {
    "duration": 289,
    "start_time": "2021-11-10T19:22:48.662Z"
   },
   {
    "duration": 416,
    "start_time": "2021-11-10T19:23:38.751Z"
   },
   {
    "duration": 795,
    "start_time": "2021-11-10T19:24:36.635Z"
   },
   {
    "duration": 312,
    "start_time": "2021-11-10T19:26:07.665Z"
   },
   {
    "duration": 13,
    "start_time": "2021-11-10T19:26:52.928Z"
   },
   {
    "duration": 307,
    "start_time": "2021-11-10T19:26:56.349Z"
   },
   {
    "duration": 310,
    "start_time": "2021-11-10T19:30:08.952Z"
   },
   {
    "duration": 23,
    "start_time": "2021-11-10T19:30:27.369Z"
   },
   {
    "duration": 8,
    "start_time": "2021-11-10T19:30:40.335Z"
   },
   {
    "duration": 8,
    "start_time": "2021-11-10T19:31:03.389Z"
   },
   {
    "duration": 8,
    "start_time": "2021-11-10T19:31:28.412Z"
   },
   {
    "duration": 6,
    "start_time": "2021-11-10T19:32:00.400Z"
   },
   {
    "duration": 89,
    "start_time": "2021-11-10T19:38:09.045Z"
   },
   {
    "duration": 25,
    "start_time": "2021-11-10T19:38:13.587Z"
   },
   {
    "duration": 6957,
    "start_time": "2021-11-10T19:46:44.455Z"
   },
   {
    "duration": 22,
    "start_time": "2021-11-10T19:47:02.441Z"
   },
   {
    "duration": 6692,
    "start_time": "2021-11-10T19:47:32.283Z"
   },
   {
    "duration": 379,
    "start_time": "2021-11-10T19:49:10.086Z"
   },
   {
    "duration": 6470,
    "start_time": "2021-11-10T19:49:26.688Z"
   },
   {
    "duration": 376,
    "start_time": "2021-11-10T19:52:27.221Z"
   },
   {
    "duration": 509,
    "start_time": "2021-11-10T19:53:20.800Z"
   },
   {
    "duration": 386,
    "start_time": "2021-11-10T19:53:26.587Z"
   },
   {
    "duration": 374,
    "start_time": "2021-11-10T19:53:44.068Z"
   },
   {
    "duration": 20,
    "start_time": "2021-11-10T19:54:09.915Z"
   },
   {
    "duration": 22,
    "start_time": "2021-11-10T19:56:50.975Z"
   },
   {
    "duration": 474,
    "start_time": "2021-11-10T19:58:41.667Z"
   },
   {
    "duration": 370,
    "start_time": "2021-11-10T19:58:47.922Z"
   },
   {
    "duration": 263,
    "start_time": "2021-11-10T19:58:55.093Z"
   },
   {
    "duration": 464,
    "start_time": "2021-11-10T19:58:58.905Z"
   },
   {
    "duration": 1199,
    "start_time": "2021-11-10T20:02:54.469Z"
   },
   {
    "duration": 400,
    "start_time": "2021-11-10T20:03:39.844Z"
   },
   {
    "duration": 379,
    "start_time": "2021-11-10T20:05:06.903Z"
   },
   {
    "duration": 398,
    "start_time": "2021-11-10T20:05:33.017Z"
   },
   {
    "duration": 394,
    "start_time": "2021-11-10T20:06:06.855Z"
   },
   {
    "duration": 523,
    "start_time": "2021-11-10T20:07:25.462Z"
   },
   {
    "duration": 386,
    "start_time": "2021-11-10T20:19:00.319Z"
   },
   {
    "duration": 385,
    "start_time": "2021-11-10T20:19:10.261Z"
   },
   {
    "duration": 39,
    "start_time": "2021-11-10T20:19:40.060Z"
   },
   {
    "duration": 384,
    "start_time": "2021-11-10T20:20:32.321Z"
   },
   {
    "duration": 28,
    "start_time": "2021-11-10T20:20:45.642Z"
   },
   {
    "duration": 138,
    "start_time": "2021-11-10T20:21:29.679Z"
   },
   {
    "duration": 39,
    "start_time": "2021-11-10T20:21:59.380Z"
   },
   {
    "duration": 282,
    "start_time": "2021-11-10T20:22:59.745Z"
   },
   {
    "duration": 35,
    "start_time": "2021-11-10T20:23:04.521Z"
   },
   {
    "duration": 387,
    "start_time": "2021-11-10T20:23:15.963Z"
   },
   {
    "duration": 482,
    "start_time": "2021-11-10T20:23:24.408Z"
   },
   {
    "duration": 391,
    "start_time": "2021-11-10T20:23:39.796Z"
   },
   {
    "duration": 388,
    "start_time": "2021-11-10T20:24:55.297Z"
   },
   {
    "duration": 38,
    "start_time": "2021-11-10T20:25:02.535Z"
   },
   {
    "duration": 520,
    "start_time": "2021-11-10T20:25:41.636Z"
   },
   {
    "duration": 380,
    "start_time": "2021-11-10T20:26:17.406Z"
   },
   {
    "duration": 215,
    "start_time": "2021-11-12T15:18:16.649Z"
   },
   {
    "duration": 652,
    "start_time": "2021-11-12T15:18:27.020Z"
   },
   {
    "duration": 16,
    "start_time": "2021-11-12T15:18:27.675Z"
   },
   {
    "duration": 26,
    "start_time": "2021-11-12T15:18:27.693Z"
   },
   {
    "duration": 8,
    "start_time": "2021-11-12T15:18:27.721Z"
   },
   {
    "duration": 8,
    "start_time": "2021-11-12T15:18:27.731Z"
   },
   {
    "duration": 7,
    "start_time": "2021-11-12T15:18:27.741Z"
   },
   {
    "duration": 46,
    "start_time": "2021-11-12T15:18:27.749Z"
   },
   {
    "duration": 8,
    "start_time": "2021-11-12T15:18:27.798Z"
   },
   {
    "duration": 4982,
    "start_time": "2021-11-12T15:18:27.809Z"
   },
   {
    "duration": 26,
    "start_time": "2021-11-12T15:18:32.793Z"
   },
   {
    "duration": 32,
    "start_time": "2021-11-12T15:18:32.820Z"
   },
   {
    "duration": 5,
    "start_time": "2021-11-12T15:18:32.854Z"
   },
   {
    "duration": 39,
    "start_time": "2021-11-12T15:18:32.861Z"
   },
   {
    "duration": 120,
    "start_time": "2021-11-12T15:18:32.902Z"
   },
   {
    "duration": 7,
    "start_time": "2021-11-12T15:18:33.024Z"
   },
   {
    "duration": 23,
    "start_time": "2021-11-12T15:18:33.033Z"
   },
   {
    "duration": 44,
    "start_time": "2021-11-12T15:18:33.058Z"
   },
   {
    "duration": 23,
    "start_time": "2021-11-12T15:18:33.104Z"
   },
   {
    "duration": 3,
    "start_time": "2021-11-12T15:18:33.129Z"
   },
   {
    "duration": 14,
    "start_time": "2021-11-12T15:18:33.134Z"
   },
   {
    "duration": 586,
    "start_time": "2021-11-12T15:18:33.150Z"
   },
   {
    "duration": 335,
    "start_time": "2021-11-12T15:18:33.738Z"
   },
   {
    "duration": 182,
    "start_time": "2021-11-12T15:18:34.076Z"
   },
   {
    "duration": 214,
    "start_time": "2021-11-12T15:18:34.260Z"
   },
   {
    "duration": 180,
    "start_time": "2021-11-12T15:18:34.475Z"
   },
   {
    "duration": 258,
    "start_time": "2021-11-12T15:18:34.656Z"
   },
   {
    "duration": 7,
    "start_time": "2021-11-12T15:18:34.916Z"
   },
   {
    "duration": 171,
    "start_time": "2021-11-12T15:18:34.925Z"
   },
   {
    "duration": 10,
    "start_time": "2021-11-12T15:18:35.098Z"
   },
   {
    "duration": 13,
    "start_time": "2021-11-12T15:18:35.110Z"
   },
   {
    "duration": 11,
    "start_time": "2021-11-12T15:18:35.125Z"
   },
   {
    "duration": 5,
    "start_time": "2021-11-12T15:18:35.137Z"
   },
   {
    "duration": 14,
    "start_time": "2021-11-12T15:18:35.144Z"
   },
   {
    "duration": 37,
    "start_time": "2021-11-12T15:18:35.160Z"
   },
   {
    "duration": 12,
    "start_time": "2021-11-12T15:18:35.198Z"
   },
   {
    "duration": 14,
    "start_time": "2021-11-12T15:18:35.211Z"
   },
   {
    "duration": 11,
    "start_time": "2021-11-12T15:18:35.227Z"
   },
   {
    "duration": 7,
    "start_time": "2021-11-12T15:18:35.240Z"
   },
   {
    "duration": 6,
    "start_time": "2021-11-12T15:18:35.248Z"
   },
   {
    "duration": 21,
    "start_time": "2021-11-12T15:18:35.292Z"
   },
   {
    "duration": 11,
    "start_time": "2021-11-12T15:18:35.315Z"
   },
   {
    "duration": 255,
    "start_time": "2021-11-12T15:18:35.328Z"
   },
   {
    "duration": 25,
    "start_time": "2021-11-12T15:18:35.584Z"
   },
   {
    "duration": 13,
    "start_time": "2021-11-12T15:18:35.610Z"
   },
   {
    "duration": 222,
    "start_time": "2021-11-12T15:19:14.980Z"
   },
   {
    "duration": 146,
    "start_time": "2021-11-12T15:21:54.257Z"
   },
   {
    "duration": 8,
    "start_time": "2021-11-12T15:22:36.519Z"
   },
   {
    "duration": 8,
    "start_time": "2021-11-12T15:22:54.489Z"
   },
   {
    "duration": 225,
    "start_time": "2021-11-12T15:32:09.101Z"
   },
   {
    "duration": 104,
    "start_time": "2021-11-12T15:32:27.697Z"
   },
   {
    "duration": 10,
    "start_time": "2021-11-12T15:32:27.803Z"
   },
   {
    "duration": 26,
    "start_time": "2021-11-12T15:32:27.815Z"
   },
   {
    "duration": 7,
    "start_time": "2021-11-12T15:32:27.843Z"
   },
   {
    "duration": 44,
    "start_time": "2021-11-12T15:32:27.852Z"
   },
   {
    "duration": 7,
    "start_time": "2021-11-12T15:32:27.898Z"
   },
   {
    "duration": 18,
    "start_time": "2021-11-12T15:32:27.907Z"
   },
   {
    "duration": 15,
    "start_time": "2021-11-12T15:32:27.927Z"
   },
   {
    "duration": 4916,
    "start_time": "2021-11-12T15:32:27.944Z"
   },
   {
    "duration": 31,
    "start_time": "2021-11-12T15:32:32.862Z"
   },
   {
    "duration": 32,
    "start_time": "2021-11-12T15:32:32.894Z"
   },
   {
    "duration": 5,
    "start_time": "2021-11-12T15:32:32.928Z"
   },
   {
    "duration": 25,
    "start_time": "2021-11-12T15:32:32.935Z"
   },
   {
    "duration": 135,
    "start_time": "2021-11-12T15:32:32.962Z"
   },
   {
    "duration": 9,
    "start_time": "2021-11-12T15:32:33.099Z"
   },
   {
    "duration": 19,
    "start_time": "2021-11-12T15:32:33.110Z"
   },
   {
    "duration": 22,
    "start_time": "2021-11-12T15:32:33.131Z"
   },
   {
    "duration": 54,
    "start_time": "2021-11-12T15:32:33.155Z"
   },
   {
    "duration": 5,
    "start_time": "2021-11-12T15:32:33.211Z"
   },
   {
    "duration": 22,
    "start_time": "2021-11-12T15:32:33.217Z"
   },
   {
    "duration": 638,
    "start_time": "2021-11-12T15:32:33.240Z"
   },
   {
    "duration": 224,
    "start_time": "2021-11-12T15:32:33.880Z"
   },
   {
    "duration": 184,
    "start_time": "2021-11-12T15:32:34.109Z"
   },
   {
    "duration": 219,
    "start_time": "2021-11-12T15:32:34.295Z"
   },
   {
    "duration": 171,
    "start_time": "2021-11-12T15:32:34.516Z"
   },
   {
    "duration": 245,
    "start_time": "2021-11-12T15:32:34.688Z"
   },
   {
    "duration": 7,
    "start_time": "2021-11-12T15:32:34.934Z"
   },
   {
    "duration": 178,
    "start_time": "2021-11-12T15:32:34.943Z"
   },
   {
    "duration": 9,
    "start_time": "2021-11-12T15:32:35.123Z"
   },
   {
    "duration": 149,
    "start_time": "2021-11-12T15:32:35.134Z"
   },
   {
    "duration": 14,
    "start_time": "2021-11-12T15:32:35.285Z"
   },
   {
    "duration": 5,
    "start_time": "2021-11-12T15:32:35.300Z"
   },
   {
    "duration": 8,
    "start_time": "2021-11-12T15:32:35.307Z"
   },
   {
    "duration": 5,
    "start_time": "2021-11-12T15:32:35.317Z"
   },
   {
    "duration": 14,
    "start_time": "2021-11-12T15:32:35.324Z"
   },
   {
    "duration": 11,
    "start_time": "2021-11-12T15:32:35.340Z"
   },
   {
    "duration": 45,
    "start_time": "2021-11-12T15:32:35.353Z"
   },
   {
    "duration": 14,
    "start_time": "2021-11-12T15:32:35.400Z"
   },
   {
    "duration": 13,
    "start_time": "2021-11-12T15:32:35.415Z"
   },
   {
    "duration": 7,
    "start_time": "2021-11-12T15:32:35.429Z"
   },
   {
    "duration": 6,
    "start_time": "2021-11-12T15:32:35.438Z"
   },
   {
    "duration": 45,
    "start_time": "2021-11-12T15:32:35.446Z"
   },
   {
    "duration": 11,
    "start_time": "2021-11-12T15:32:35.493Z"
   },
   {
    "duration": 237,
    "start_time": "2021-11-12T15:32:35.506Z"
   },
   {
    "duration": 21,
    "start_time": "2021-11-12T15:32:35.745Z"
   },
   {
    "duration": 31,
    "start_time": "2021-11-12T15:32:35.767Z"
   },
   {
    "duration": 146,
    "start_time": "2021-11-12T15:33:27.140Z"
   },
   {
    "duration": 147,
    "start_time": "2021-11-12T15:34:23.573Z"
   },
   {
    "duration": 203,
    "start_time": "2021-11-12T15:34:35.203Z"
   },
   {
    "duration": 11,
    "start_time": "2021-11-12T15:35:28.762Z"
   },
   {
    "duration": 84,
    "start_time": "2021-11-12T15:35:43.449Z"
   },
   {
    "duration": 9,
    "start_time": "2021-11-12T15:35:43.535Z"
   },
   {
    "duration": 47,
    "start_time": "2021-11-12T15:35:43.545Z"
   },
   {
    "duration": 6,
    "start_time": "2021-11-12T15:35:43.594Z"
   },
   {
    "duration": 28,
    "start_time": "2021-11-12T15:35:43.601Z"
   },
   {
    "duration": 34,
    "start_time": "2021-11-12T15:35:43.630Z"
   },
   {
    "duration": 43,
    "start_time": "2021-11-12T15:35:43.666Z"
   },
   {
    "duration": 26,
    "start_time": "2021-11-12T15:35:43.712Z"
   },
   {
    "duration": 4986,
    "start_time": "2021-11-12T15:35:43.740Z"
   },
   {
    "duration": 25,
    "start_time": "2021-11-12T15:35:48.728Z"
   },
   {
    "duration": 42,
    "start_time": "2021-11-12T15:35:48.755Z"
   },
   {
    "duration": 7,
    "start_time": "2021-11-12T15:35:48.799Z"
   },
   {
    "duration": 30,
    "start_time": "2021-11-12T15:35:48.807Z"
   },
   {
    "duration": 127,
    "start_time": "2021-11-12T15:35:48.839Z"
   },
   {
    "duration": 8,
    "start_time": "2021-11-12T15:35:48.968Z"
   },
   {
    "duration": 25,
    "start_time": "2021-11-12T15:35:48.978Z"
   },
   {
    "duration": 23,
    "start_time": "2021-11-12T15:35:49.004Z"
   },
   {
    "duration": 29,
    "start_time": "2021-11-12T15:35:49.029Z"
   },
   {
    "duration": 5,
    "start_time": "2021-11-12T15:35:49.059Z"
   },
   {
    "duration": 29,
    "start_time": "2021-11-12T15:35:49.066Z"
   },
   {
    "duration": 562,
    "start_time": "2021-11-12T15:35:49.097Z"
   },
   {
    "duration": 240,
    "start_time": "2021-11-12T15:35:49.662Z"
   },
   {
    "duration": 196,
    "start_time": "2021-11-12T15:35:49.906Z"
   },
   {
    "duration": 229,
    "start_time": "2021-11-12T15:35:50.105Z"
   },
   {
    "duration": 178,
    "start_time": "2021-11-12T15:35:50.336Z"
   },
   {
    "duration": 252,
    "start_time": "2021-11-12T15:35:50.516Z"
   },
   {
    "duration": 24,
    "start_time": "2021-11-12T15:35:50.770Z"
   },
   {
    "duration": 149,
    "start_time": "2021-11-12T15:35:50.796Z"
   },
   {
    "duration": 9,
    "start_time": "2021-11-12T15:35:50.947Z"
   },
   {
    "duration": 154,
    "start_time": "2021-11-12T15:35:50.958Z"
   },
   {
    "duration": 12,
    "start_time": "2021-11-12T15:35:51.114Z"
   },
   {
    "duration": 3,
    "start_time": "2021-11-12T15:35:51.128Z"
   },
   {
    "duration": 9,
    "start_time": "2021-11-12T15:35:51.132Z"
   },
   {
    "duration": 6,
    "start_time": "2021-11-12T15:35:51.142Z"
   },
   {
    "duration": 42,
    "start_time": "2021-11-12T15:35:51.149Z"
   },
   {
    "duration": 104,
    "start_time": "2021-11-12T15:35:51.193Z"
   },
   {
    "duration": 14,
    "start_time": "2021-11-12T15:35:51.299Z"
   },
   {
    "duration": 13,
    "start_time": "2021-11-12T15:35:51.315Z"
   },
   {
    "duration": 12,
    "start_time": "2021-11-12T15:35:51.330Z"
   },
   {
    "duration": 8,
    "start_time": "2021-11-12T15:35:51.344Z"
   },
   {
    "duration": 38,
    "start_time": "2021-11-12T15:35:51.354Z"
   },
   {
    "duration": 22,
    "start_time": "2021-11-12T15:35:51.394Z"
   },
   {
    "duration": 12,
    "start_time": "2021-11-12T15:35:51.418Z"
   },
   {
    "duration": 250,
    "start_time": "2021-11-12T15:35:51.432Z"
   },
   {
    "duration": 27,
    "start_time": "2021-11-12T15:35:51.683Z"
   },
   {
    "duration": 12,
    "start_time": "2021-11-12T15:35:51.712Z"
   },
   {
    "duration": 232,
    "start_time": "2021-11-12T15:36:29.868Z"
   },
   {
    "duration": 223,
    "start_time": "2021-11-12T15:40:49.321Z"
   },
   {
    "duration": 220,
    "start_time": "2021-11-12T15:41:11.306Z"
   },
   {
    "duration": 11,
    "start_time": "2021-11-12T15:43:45.279Z"
   },
   {
    "duration": 14,
    "start_time": "2021-11-12T15:43:56.477Z"
   },
   {
    "duration": 220,
    "start_time": "2021-11-12T15:43:58.337Z"
   },
   {
    "duration": 22,
    "start_time": "2021-11-12T15:44:11.355Z"
   },
   {
    "duration": 14,
    "start_time": "2021-11-12T15:48:38.171Z"
   },
   {
    "duration": 23,
    "start_time": "2021-11-12T15:48:44.014Z"
   },
   {
    "duration": 23,
    "start_time": "2021-11-12T15:52:43.378Z"
   },
   {
    "duration": 29,
    "start_time": "2021-11-12T15:53:08.493Z"
   },
   {
    "duration": 23,
    "start_time": "2021-11-12T15:53:15.189Z"
   },
   {
    "duration": 212,
    "start_time": "2021-11-12T15:55:10.808Z"
   },
   {
    "duration": 330,
    "start_time": "2021-11-12T15:56:48.035Z"
   },
   {
    "duration": 483,
    "start_time": "2021-11-12T15:59:04.579Z"
   },
   {
    "duration": 537,
    "start_time": "2021-11-12T15:59:12.592Z"
   },
   {
    "duration": 389,
    "start_time": "2021-11-12T15:59:21.238Z"
   },
   {
    "duration": 493,
    "start_time": "2021-11-12T16:01:38.668Z"
   },
   {
    "duration": 7,
    "start_time": "2021-11-12T16:27:10.088Z"
   },
   {
    "duration": 223,
    "start_time": "2021-11-12T16:29:35.779Z"
   },
   {
    "duration": 164,
    "start_time": "2021-11-12T16:29:45.288Z"
   },
   {
    "duration": 227,
    "start_time": "2021-11-12T16:29:57.078Z"
   },
   {
    "duration": 170,
    "start_time": "2021-11-12T16:30:04.116Z"
   },
   {
    "duration": 6,
    "start_time": "2021-11-12T19:01:49.098Z"
   },
   {
    "duration": 6,
    "start_time": "2021-11-12T19:01:55.140Z"
   },
   {
    "duration": 6,
    "start_time": "2021-11-12T19:02:01.341Z"
   },
   {
    "duration": 14,
    "start_time": "2021-11-12T19:02:07.240Z"
   },
   {
    "duration": 14,
    "start_time": "2021-11-12T19:02:29.992Z"
   },
   {
    "duration": 13,
    "start_time": "2021-11-12T19:02:40.655Z"
   },
   {
    "duration": 14,
    "start_time": "2021-11-12T19:02:51.759Z"
   },
   {
    "duration": 13,
    "start_time": "2021-11-12T19:03:03.958Z"
   },
   {
    "duration": 215,
    "start_time": "2021-11-12T19:03:31.622Z"
   },
   {
    "duration": 260,
    "start_time": "2021-11-12T19:03:54.916Z"
   },
   {
    "duration": 59,
    "start_time": "2021-11-12T19:05:58.831Z"
   },
   {
    "duration": 361,
    "start_time": "2021-11-12T19:07:06.505Z"
   },
   {
    "duration": 375,
    "start_time": "2021-11-12T19:07:22.856Z"
   },
   {
    "duration": 376,
    "start_time": "2021-11-12T19:07:51.567Z"
   },
   {
    "duration": 191,
    "start_time": "2021-11-12T19:07:55.955Z"
   },
   {
    "duration": 188,
    "start_time": "2021-11-12T19:08:04.286Z"
   },
   {
    "duration": 198,
    "start_time": "2021-11-12T19:08:19.093Z"
   },
   {
    "duration": 12,
    "start_time": "2021-11-12T19:08:46.703Z"
   },
   {
    "duration": 15,
    "start_time": "2021-11-12T19:09:00.472Z"
   },
   {
    "duration": 14,
    "start_time": "2021-11-12T19:09:11.832Z"
   },
   {
    "duration": 15,
    "start_time": "2021-11-12T19:12:25.671Z"
   },
   {
    "duration": 17,
    "start_time": "2021-11-12T19:12:50.562Z"
   },
   {
    "duration": 6,
    "start_time": "2021-11-12T19:14:09.485Z"
   },
   {
    "duration": 6,
    "start_time": "2021-11-12T19:38:56.426Z"
   },
   {
    "duration": 25,
    "start_time": "2021-11-12T19:39:13.153Z"
   },
   {
    "duration": 14,
    "start_time": "2021-11-12T19:56:12.981Z"
   },
   {
    "duration": 113,
    "start_time": "2021-11-12T19:56:18.781Z"
   },
   {
    "duration": 125,
    "start_time": "2021-11-12T19:56:45.542Z"
   },
   {
    "duration": 139,
    "start_time": "2021-11-12T19:57:36.991Z"
   },
   {
    "duration": 204,
    "start_time": "2021-11-12T20:36:13.345Z"
   },
   {
    "duration": 246,
    "start_time": "2021-11-12T20:37:10.874Z"
   },
   {
    "duration": 12,
    "start_time": "2021-11-12T20:37:41.915Z"
   },
   {
    "duration": 303,
    "start_time": "2021-11-13T09:06:13.025Z"
   },
   {
    "duration": 731,
    "start_time": "2021-11-13T09:06:25.695Z"
   },
   {
    "duration": 10,
    "start_time": "2021-11-13T09:06:26.428Z"
   },
   {
    "duration": 9,
    "start_time": "2021-11-13T09:06:26.444Z"
   },
   {
    "duration": 9,
    "start_time": "2021-11-13T09:06:26.456Z"
   },
   {
    "duration": 18,
    "start_time": "2021-11-13T09:06:26.467Z"
   },
   {
    "duration": 4935,
    "start_time": "2021-11-13T09:06:26.487Z"
   },
   {
    "duration": 36,
    "start_time": "2021-11-13T09:06:31.424Z"
   },
   {
    "duration": 34,
    "start_time": "2021-11-13T09:06:31.462Z"
   },
   {
    "duration": 6,
    "start_time": "2021-11-13T09:06:31.499Z"
   },
   {
    "duration": 25,
    "start_time": "2021-11-13T09:06:31.506Z"
   },
   {
    "duration": 166,
    "start_time": "2021-11-13T09:06:31.532Z"
   },
   {
    "duration": 22,
    "start_time": "2021-11-13T09:06:31.700Z"
   },
   {
    "duration": 37,
    "start_time": "2021-11-13T09:06:31.724Z"
   },
   {
    "duration": 26,
    "start_time": "2021-11-13T09:06:31.763Z"
   },
   {
    "duration": 6,
    "start_time": "2021-11-13T09:06:31.791Z"
   },
   {
    "duration": 45,
    "start_time": "2021-11-13T09:06:31.799Z"
   },
   {
    "duration": 617,
    "start_time": "2021-11-13T09:06:31.846Z"
   },
   {
    "duration": 936,
    "start_time": "2021-11-13T09:06:37.550Z"
   },
   {
    "duration": 358,
    "start_time": "2021-11-13T09:07:06.955Z"
   },
   {
    "duration": 390,
    "start_time": "2021-11-13T09:07:39.502Z"
   },
   {
    "duration": 367,
    "start_time": "2021-11-13T09:08:59.926Z"
   },
   {
    "duration": 207,
    "start_time": "2021-11-13T09:10:01.073Z"
   },
   {
    "duration": 226,
    "start_time": "2021-11-13T09:10:13.225Z"
   },
   {
    "duration": 213,
    "start_time": "2021-11-13T09:10:14.493Z"
   },
   {
    "duration": 2043,
    "start_time": "2021-11-13T09:11:07.254Z"
   },
   {
    "duration": 1618,
    "start_time": "2021-11-13T09:11:27.059Z"
   },
   {
    "duration": 1476,
    "start_time": "2021-11-13T09:11:32.071Z"
   },
   {
    "duration": 1836,
    "start_time": "2021-11-13T09:11:38.815Z"
   },
   {
    "duration": 1170,
    "start_time": "2021-11-13T09:12:01.563Z"
   },
   {
    "duration": 1238,
    "start_time": "2021-11-13T09:12:10.990Z"
   },
   {
    "duration": 1231,
    "start_time": "2021-11-13T09:13:57.332Z"
   },
   {
    "duration": 1302,
    "start_time": "2021-11-13T09:14:06.824Z"
   },
   {
    "duration": 4,
    "start_time": "2021-11-13T09:14:42.565Z"
   },
   {
    "duration": 125,
    "start_time": "2021-11-13T09:15:41.659Z"
   },
   {
    "duration": 9,
    "start_time": "2021-11-13T09:35:53.791Z"
   },
   {
    "duration": 85,
    "start_time": "2021-11-13T09:36:08.024Z"
   },
   {
    "duration": 10,
    "start_time": "2021-11-13T09:36:14.532Z"
   },
   {
    "duration": 103,
    "start_time": "2021-11-13T09:36:27.589Z"
   },
   {
    "duration": 521,
    "start_time": "2021-11-13T09:42:54.861Z"
   },
   {
    "duration": 1346,
    "start_time": "2021-11-13T09:43:16.032Z"
   },
   {
    "duration": 260,
    "start_time": "2021-11-13T09:49:12.194Z"
   },
   {
    "duration": 5,
    "start_time": "2021-11-13T09:49:24.014Z"
   },
   {
    "duration": 9,
    "start_time": "2021-11-13T09:55:57.986Z"
   },
   {
    "duration": 9,
    "start_time": "2021-11-13T10:42:52.532Z"
   },
   {
    "duration": 297,
    "start_time": "2021-11-13T10:45:52.981Z"
   },
   {
    "duration": 293,
    "start_time": "2021-11-13T10:46:29.242Z"
   },
   {
    "duration": 283,
    "start_time": "2021-11-13T10:46:38.760Z"
   },
   {
    "duration": 309,
    "start_time": "2021-11-13T10:47:55.903Z"
   },
   {
    "duration": 265,
    "start_time": "2021-11-13T10:48:41.895Z"
   },
   {
    "duration": 886,
    "start_time": "2021-11-13T10:50:00.553Z"
   },
   {
    "duration": 270,
    "start_time": "2021-11-13T10:50:12.543Z"
   },
   {
    "duration": 30,
    "start_time": "2021-11-13T10:50:42.006Z"
   },
   {
    "duration": 276,
    "start_time": "2021-11-13T10:51:28.126Z"
   },
   {
    "duration": 9,
    "start_time": "2021-11-13T10:51:36.270Z"
   },
   {
    "duration": 11,
    "start_time": "2021-11-13T10:51:59.389Z"
   },
   {
    "duration": 8,
    "start_time": "2021-11-13T10:53:02.390Z"
   },
   {
    "duration": 9,
    "start_time": "2021-11-13T10:53:04.753Z"
   },
   {
    "duration": 12,
    "start_time": "2021-11-13T10:53:25.549Z"
   },
   {
    "duration": 9,
    "start_time": "2021-11-13T10:53:27.536Z"
   },
   {
    "duration": 123,
    "start_time": "2021-11-13T10:53:57.242Z"
   },
   {
    "duration": 11,
    "start_time": "2021-11-13T10:53:57.367Z"
   },
   {
    "duration": 8,
    "start_time": "2021-11-13T10:53:57.381Z"
   },
   {
    "duration": 11,
    "start_time": "2021-11-13T10:53:57.391Z"
   },
   {
    "duration": 45,
    "start_time": "2021-11-13T10:53:57.404Z"
   },
   {
    "duration": 5283,
    "start_time": "2021-11-13T10:53:57.451Z"
   },
   {
    "duration": 30,
    "start_time": "2021-11-13T10:54:02.736Z"
   },
   {
    "duration": 31,
    "start_time": "2021-11-13T10:54:02.768Z"
   },
   {
    "duration": 6,
    "start_time": "2021-11-13T10:54:02.801Z"
   },
   {
    "duration": 35,
    "start_time": "2021-11-13T10:54:02.809Z"
   },
   {
    "duration": 155,
    "start_time": "2021-11-13T10:54:02.846Z"
   },
   {
    "duration": 15,
    "start_time": "2021-11-13T10:54:03.003Z"
   },
   {
    "duration": 40,
    "start_time": "2021-11-13T10:54:03.020Z"
   },
   {
    "duration": 23,
    "start_time": "2021-11-13T10:54:03.062Z"
   },
   {
    "duration": 4,
    "start_time": "2021-11-13T10:54:03.087Z"
   },
   {
    "duration": 18,
    "start_time": "2021-11-13T10:54:03.092Z"
   },
   {
    "duration": 621,
    "start_time": "2021-11-13T10:54:03.111Z"
   },
   {
    "duration": 1278,
    "start_time": "2021-11-13T10:54:03.734Z"
   },
   {
    "duration": 38,
    "start_time": "2021-11-13T10:54:05.014Z"
   },
   {
    "duration": 349,
    "start_time": "2021-11-13T10:54:05.054Z"
   },
   {
    "duration": 8,
    "start_time": "2021-11-13T10:54:05.405Z"
   },
   {
    "duration": 240,
    "start_time": "2021-11-13T10:54:05.415Z"
   },
   {
    "duration": 9,
    "start_time": "2021-11-13T10:54:05.660Z"
   },
   {
    "duration": 11,
    "start_time": "2021-11-13T10:54:05.672Z"
   },
   {
    "duration": 292,
    "start_time": "2021-11-13T10:54:05.684Z"
   },
   {
    "duration": 2,
    "start_time": "2021-11-13T10:54:05.978Z"
   },
   {
    "duration": 13,
    "start_time": "2021-11-13T10:54:05.982Z"
   },
   {
    "duration": 5,
    "start_time": "2021-11-13T10:54:05.997Z"
   },
   {
    "duration": 15,
    "start_time": "2021-11-13T10:54:06.003Z"
   },
   {
    "duration": 39,
    "start_time": "2021-11-13T10:54:06.019Z"
   },
   {
    "duration": 14,
    "start_time": "2021-11-13T10:54:06.060Z"
   },
   {
    "duration": 15,
    "start_time": "2021-11-13T10:54:06.076Z"
   },
   {
    "duration": 15,
    "start_time": "2021-11-13T10:54:06.093Z"
   },
   {
    "duration": 9,
    "start_time": "2021-11-13T10:54:06.145Z"
   },
   {
    "duration": 5,
    "start_time": "2021-11-13T10:54:06.156Z"
   },
   {
    "duration": 32,
    "start_time": "2021-11-13T10:54:06.163Z"
   },
   {
    "duration": 18,
    "start_time": "2021-11-13T10:54:06.197Z"
   },
   {
    "duration": 34,
    "start_time": "2021-11-13T10:54:06.218Z"
   },
   {
    "duration": 462,
    "start_time": "2021-11-13T10:54:06.254Z"
   },
   {
    "duration": 7,
    "start_time": "2021-11-13T10:54:06.718Z"
   },
   {
    "duration": 288,
    "start_time": "2021-11-13T10:54:06.727Z"
   },
   {
    "duration": 178,
    "start_time": "2021-11-13T10:54:07.017Z"
   },
   {
    "duration": 234,
    "start_time": "2021-11-13T10:54:07.198Z"
   },
   {
    "duration": 222,
    "start_time": "2021-11-13T10:54:07.434Z"
   },
   {
    "duration": 8,
    "start_time": "2021-11-13T10:54:07.658Z"
   },
   {
    "duration": 9,
    "start_time": "2021-11-13T10:54:07.668Z"
   },
   {
    "duration": 23,
    "start_time": "2021-11-13T10:54:07.680Z"
   },
   {
    "duration": 47,
    "start_time": "2021-11-13T10:54:07.705Z"
   },
   {
    "duration": 15,
    "start_time": "2021-11-13T10:54:07.754Z"
   },
   {
    "duration": 15,
    "start_time": "2021-11-13T10:54:07.771Z"
   },
   {
    "duration": 16,
    "start_time": "2021-11-13T10:54:07.787Z"
   },
   {
    "duration": 5,
    "start_time": "2021-11-13T10:58:58.487Z"
   },
   {
    "duration": 6,
    "start_time": "2021-11-13T11:04:09.395Z"
   },
   {
    "duration": 17,
    "start_time": "2021-11-13T11:06:09.413Z"
   },
   {
    "duration": 27,
    "start_time": "2021-11-13T11:06:42.734Z"
   },
   {
    "duration": 26,
    "start_time": "2021-11-13T11:06:44.827Z"
   },
   {
    "duration": 88,
    "start_time": "2021-11-13T11:06:48.972Z"
   },
   {
    "duration": 12,
    "start_time": "2021-11-13T11:06:49.061Z"
   },
   {
    "duration": 7,
    "start_time": "2021-11-13T11:06:49.075Z"
   },
   {
    "duration": 8,
    "start_time": "2021-11-13T11:06:49.083Z"
   },
   {
    "duration": 14,
    "start_time": "2021-11-13T11:06:49.093Z"
   },
   {
    "duration": 5186,
    "start_time": "2021-11-13T11:06:49.109Z"
   },
   {
    "duration": 24,
    "start_time": "2021-11-13T11:06:54.297Z"
   },
   {
    "duration": 42,
    "start_time": "2021-11-13T11:06:54.324Z"
   },
   {
    "duration": 5,
    "start_time": "2021-11-13T11:06:54.369Z"
   },
   {
    "duration": 14,
    "start_time": "2021-11-13T11:06:54.376Z"
   },
   {
    "duration": 168,
    "start_time": "2021-11-13T11:06:54.391Z"
   },
   {
    "duration": 15,
    "start_time": "2021-11-13T11:06:54.560Z"
   },
   {
    "duration": 25,
    "start_time": "2021-11-13T11:06:54.577Z"
   },
   {
    "duration": 44,
    "start_time": "2021-11-13T11:06:54.604Z"
   },
   {
    "duration": 4,
    "start_time": "2021-11-13T11:06:54.650Z"
   },
   {
    "duration": 17,
    "start_time": "2021-11-13T11:06:54.655Z"
   },
   {
    "duration": 612,
    "start_time": "2021-11-13T11:06:54.674Z"
   },
   {
    "duration": 1331,
    "start_time": "2021-11-13T11:06:55.288Z"
   },
   {
    "duration": 37,
    "start_time": "2021-11-13T11:06:56.621Z"
   },
   {
    "duration": 241,
    "start_time": "2021-11-13T11:06:56.660Z"
   },
   {
    "duration": 8,
    "start_time": "2021-11-13T11:06:56.903Z"
   },
   {
    "duration": 166,
    "start_time": "2021-11-13T11:06:56.913Z"
   },
   {
    "duration": 10,
    "start_time": "2021-11-13T11:06:57.082Z"
   },
   {
    "duration": 5,
    "start_time": "2021-11-13T11:06:57.095Z"
   },
   {
    "duration": 5,
    "start_time": "2021-11-13T11:06:57.102Z"
   },
   {
    "duration": 36,
    "start_time": "2021-11-13T11:06:57.109Z"
   },
   {
    "duration": 15,
    "start_time": "2021-11-13T11:06:57.147Z"
   },
   {
    "duration": 13,
    "start_time": "2021-11-13T11:06:57.163Z"
   },
   {
    "duration": 13,
    "start_time": "2021-11-13T11:06:57.178Z"
   },
   {
    "duration": 12,
    "start_time": "2021-11-13T11:06:57.193Z"
   },
   {
    "duration": 38,
    "start_time": "2021-11-13T11:06:57.207Z"
   },
   {
    "duration": 6,
    "start_time": "2021-11-13T11:06:57.247Z"
   },
   {
    "duration": 22,
    "start_time": "2021-11-13T11:06:57.255Z"
   },
   {
    "duration": 12,
    "start_time": "2021-11-13T11:06:57.278Z"
   },
   {
    "duration": 6,
    "start_time": "2021-11-13T11:06:57.292Z"
   },
   {
    "duration": 423,
    "start_time": "2021-11-13T11:06:57.299Z"
   },
   {
    "duration": 7,
    "start_time": "2021-11-13T11:06:57.724Z"
   },
   {
    "duration": 229,
    "start_time": "2021-11-13T11:06:57.733Z"
   },
   {
    "duration": 173,
    "start_time": "2021-11-13T11:06:57.963Z"
   },
   {
    "duration": 223,
    "start_time": "2021-11-13T11:06:58.137Z"
   },
   {
    "duration": 176,
    "start_time": "2021-11-13T11:06:58.362Z"
   },
   {
    "duration": 13,
    "start_time": "2021-11-13T11:06:58.539Z"
   },
   {
    "duration": 6,
    "start_time": "2021-11-13T11:06:58.553Z"
   },
   {
    "duration": 17,
    "start_time": "2021-11-13T11:06:58.561Z"
   },
   {
    "duration": 12,
    "start_time": "2021-11-13T11:06:58.579Z"
   },
   {
    "duration": 12,
    "start_time": "2021-11-13T11:06:58.592Z"
   },
   {
    "duration": 138,
    "start_time": "2021-11-13T11:06:58.606Z"
   },
   {
    "duration": 15,
    "start_time": "2021-11-13T11:06:58.746Z"
   },
   {
    "duration": 417,
    "start_time": "2021-11-13T11:08:59.315Z"
   },
   {
    "duration": 26,
    "start_time": "2021-11-13T11:10:46.484Z"
   },
   {
    "duration": 256,
    "start_time": "2021-11-13T11:13:53.128Z"
   },
   {
    "duration": 130,
    "start_time": "2021-11-13T11:14:11.497Z"
   },
   {
    "duration": 144,
    "start_time": "2021-11-13T11:14:21.947Z"
   },
   {
    "duration": 24,
    "start_time": "2021-11-13T11:14:33.379Z"
   },
   {
    "duration": 126,
    "start_time": "2021-11-13T11:14:39.581Z"
   },
   {
    "duration": 53,
    "start_time": "2021-11-13T11:55:15.825Z"
   },
   {
    "duration": 42,
    "start_time": "2021-11-13T11:57:10.316Z"
   },
   {
    "duration": 44,
    "start_time": "2021-11-13T11:57:57.445Z"
   },
   {
    "duration": 44,
    "start_time": "2021-11-13T11:58:08.237Z"
   },
   {
    "duration": 4,
    "start_time": "2021-11-13T12:09:31.184Z"
   },
   {
    "duration": 1242,
    "start_time": "2021-11-13T12:41:35.885Z"
   },
   {
    "duration": 44,
    "start_time": "2021-11-13T12:52:57.147Z"
   },
   {
    "duration": 33,
    "start_time": "2021-11-13T12:58:28.065Z"
   },
   {
    "duration": 739,
    "start_time": "2021-11-13T14:20:25.191Z"
   },
   {
    "duration": 12,
    "start_time": "2021-11-13T14:20:25.932Z"
   },
   {
    "duration": 12,
    "start_time": "2021-11-13T14:20:25.947Z"
   },
   {
    "duration": 17,
    "start_time": "2021-11-13T14:20:25.961Z"
   },
   {
    "duration": 15,
    "start_time": "2021-11-13T14:20:25.980Z"
   },
   {
    "duration": 5201,
    "start_time": "2021-11-13T14:20:25.997Z"
   },
   {
    "duration": 25,
    "start_time": "2021-11-13T14:20:31.200Z"
   },
   {
    "duration": 51,
    "start_time": "2021-11-13T14:20:31.228Z"
   },
   {
    "duration": 6,
    "start_time": "2021-11-13T14:20:31.281Z"
   },
   {
    "duration": 24,
    "start_time": "2021-11-13T14:20:31.288Z"
   },
   {
    "duration": 161,
    "start_time": "2021-11-13T14:20:31.314Z"
   },
   {
    "duration": 22,
    "start_time": "2021-11-13T14:20:31.476Z"
   },
   {
    "duration": 35,
    "start_time": "2021-11-13T14:20:31.499Z"
   },
   {
    "duration": 30,
    "start_time": "2021-11-13T14:20:31.536Z"
   },
   {
    "duration": 5,
    "start_time": "2021-11-13T14:20:31.568Z"
   },
   {
    "duration": 34,
    "start_time": "2021-11-13T14:20:31.574Z"
   },
   {
    "duration": 605,
    "start_time": "2021-11-13T14:20:31.609Z"
   },
   {
    "duration": 1311,
    "start_time": "2021-11-13T14:20:32.217Z"
   },
   {
    "duration": 43,
    "start_time": "2021-11-13T14:20:33.530Z"
   },
   {
    "duration": 254,
    "start_time": "2021-11-13T14:20:33.575Z"
   },
   {
    "duration": 17,
    "start_time": "2021-11-13T14:20:33.831Z"
   },
   {
    "duration": 151,
    "start_time": "2021-11-13T14:20:33.850Z"
   },
   {
    "duration": 8,
    "start_time": "2021-11-13T14:20:34.004Z"
   },
   {
    "duration": 14,
    "start_time": "2021-11-13T14:20:34.014Z"
   },
   {
    "duration": 16,
    "start_time": "2021-11-13T14:20:34.029Z"
   },
   {
    "duration": 54,
    "start_time": "2021-11-13T14:20:34.047Z"
   },
   {
    "duration": 9,
    "start_time": "2021-11-13T14:20:34.102Z"
   },
   {
    "duration": 18,
    "start_time": "2021-11-13T14:20:34.112Z"
   },
   {
    "duration": 33,
    "start_time": "2021-11-13T14:20:34.131Z"
   },
   {
    "duration": 19,
    "start_time": "2021-11-13T14:20:34.166Z"
   },
   {
    "duration": 17,
    "start_time": "2021-11-13T14:20:34.187Z"
   },
   {
    "duration": 404,
    "start_time": "2021-11-13T14:20:34.205Z"
   },
   {
    "duration": 7,
    "start_time": "2021-11-13T14:20:34.611Z"
   },
   {
    "duration": 1324,
    "start_time": "2021-11-13T14:20:34.620Z"
   },
   {
    "duration": 6,
    "start_time": "2021-11-13T14:20:35.946Z"
   },
   {
    "duration": 19,
    "start_time": "2021-11-13T14:20:35.954Z"
   },
   {
    "duration": 54,
    "start_time": "2021-11-13T14:20:35.974Z"
   },
   {
    "duration": 1038,
    "start_time": "2021-11-14T06:27:23.306Z"
   },
   {
    "duration": 15,
    "start_time": "2021-11-14T06:27:24.347Z"
   },
   {
    "duration": 10,
    "start_time": "2021-11-14T06:27:24.365Z"
   },
   {
    "duration": 11,
    "start_time": "2021-11-14T06:27:24.378Z"
   },
   {
    "duration": 44,
    "start_time": "2021-11-14T06:27:24.391Z"
   },
   {
    "duration": 9083,
    "start_time": "2021-11-14T06:27:24.438Z"
   },
   {
    "duration": 38,
    "start_time": "2021-11-14T06:27:33.523Z"
   },
   {
    "duration": 72,
    "start_time": "2021-11-14T06:27:33.565Z"
   },
   {
    "duration": 9,
    "start_time": "2021-11-14T06:27:33.640Z"
   },
   {
    "duration": 23,
    "start_time": "2021-11-14T06:27:33.651Z"
   },
   {
    "duration": 253,
    "start_time": "2021-11-14T06:27:33.676Z"
   },
   {
    "duration": 27,
    "start_time": "2021-11-14T06:27:33.932Z"
   },
   {
    "duration": 62,
    "start_time": "2021-11-14T06:27:33.962Z"
   },
   {
    "duration": 36,
    "start_time": "2021-11-14T06:27:34.026Z"
   },
   {
    "duration": 6,
    "start_time": "2021-11-14T06:27:34.064Z"
   },
   {
    "duration": 19,
    "start_time": "2021-11-14T06:27:34.072Z"
   },
   {
    "duration": 1001,
    "start_time": "2021-11-14T06:27:34.122Z"
   },
   {
    "duration": 2111,
    "start_time": "2021-11-14T06:27:35.126Z"
   },
   {
    "duration": 42,
    "start_time": "2021-11-14T06:27:37.239Z"
   },
   {
    "duration": 439,
    "start_time": "2021-11-14T06:27:37.284Z"
   },
   {
    "duration": 14,
    "start_time": "2021-11-14T06:27:37.726Z"
   },
   {
    "duration": 311,
    "start_time": "2021-11-14T06:27:37.743Z"
   },
   {
    "duration": 13,
    "start_time": "2021-11-14T06:27:38.059Z"
   },
   {
    "duration": 10,
    "start_time": "2021-11-14T06:27:38.074Z"
   },
   {
    "duration": 8,
    "start_time": "2021-11-14T06:27:38.086Z"
   },
   {
    "duration": 99,
    "start_time": "2021-11-14T06:27:38.123Z"
   },
   {
    "duration": 11,
    "start_time": "2021-11-14T06:27:38.225Z"
   },
   {
    "duration": 5,
    "start_time": "2021-11-14T06:27:38.238Z"
   },
   {
    "duration": 33,
    "start_time": "2021-11-14T06:27:38.246Z"
   },
   {
    "duration": 47,
    "start_time": "2021-11-14T06:27:38.281Z"
   },
   {
    "duration": 9,
    "start_time": "2021-11-14T06:27:38.330Z"
   },
   {
    "duration": 643,
    "start_time": "2021-11-14T06:27:38.342Z"
   },
   {
    "duration": 9,
    "start_time": "2021-11-14T06:27:38.988Z"
   },
   {
    "duration": 2132,
    "start_time": "2021-11-14T06:27:38.999Z"
   },
   {
    "duration": 8,
    "start_time": "2021-11-14T06:27:41.133Z"
   },
   {
    "duration": 17,
    "start_time": "2021-11-14T06:27:41.143Z"
   },
   {
    "duration": 90,
    "start_time": "2021-11-14T06:27:41.163Z"
   },
   {
    "duration": 609,
    "start_time": "2021-11-15T19:38:19.008Z"
   },
   {
    "duration": 1291,
    "start_time": "2021-11-15T19:38:26.680Z"
   },
   {
    "duration": 20,
    "start_time": "2021-11-15T19:38:27.974Z"
   },
   {
    "duration": 8,
    "start_time": "2021-11-15T19:38:27.997Z"
   },
   {
    "duration": 11,
    "start_time": "2021-11-15T19:38:28.008Z"
   },
   {
    "duration": 16,
    "start_time": "2021-11-15T19:38:28.022Z"
   },
   {
    "duration": 9533,
    "start_time": "2021-11-15T19:38:28.041Z"
   },
   {
    "duration": 43,
    "start_time": "2021-11-15T19:38:37.576Z"
   },
   {
    "duration": 76,
    "start_time": "2021-11-15T19:38:37.624Z"
   },
   {
    "duration": 9,
    "start_time": "2021-11-15T19:38:37.703Z"
   },
   {
    "duration": 21,
    "start_time": "2021-11-15T19:38:37.715Z"
   },
   {
    "duration": 267,
    "start_time": "2021-11-15T19:38:37.738Z"
   },
   {
    "duration": 25,
    "start_time": "2021-11-15T19:38:38.007Z"
   },
   {
    "duration": 57,
    "start_time": "2021-11-15T19:38:38.034Z"
   },
   {
    "duration": 37,
    "start_time": "2021-11-15T19:38:38.094Z"
   },
   {
    "duration": 7,
    "start_time": "2021-11-15T19:38:38.133Z"
   },
   {
    "duration": 51,
    "start_time": "2021-11-15T19:38:38.143Z"
   },
   {
    "duration": 1051,
    "start_time": "2021-11-15T19:38:38.196Z"
   },
   {
    "duration": 2374,
    "start_time": "2021-11-15T19:38:39.250Z"
   },
   {
    "duration": 55,
    "start_time": "2021-11-15T19:38:41.627Z"
   },
   {
    "duration": 416,
    "start_time": "2021-11-15T19:38:45.714Z"
   },
   {
    "duration": 990,
    "start_time": "2021-11-15T19:40:09.321Z"
   },
   {
    "duration": 1096,
    "start_time": "2021-11-15T19:40:48.102Z"
   },
   {
    "duration": 414,
    "start_time": "2021-11-15T19:40:53.883Z"
   },
   {
    "duration": 304,
    "start_time": "2021-11-15T19:49:06.743Z"
   },
   {
    "duration": 126,
    "start_time": "2021-11-15T19:49:12.026Z"
   },
   {
    "duration": 31,
    "start_time": "2021-11-15T19:49:12.155Z"
   },
   {
    "duration": 10,
    "start_time": "2021-11-15T19:49:12.189Z"
   },
   {
    "duration": 10,
    "start_time": "2021-11-15T19:49:12.202Z"
   },
   {
    "duration": 14,
    "start_time": "2021-11-15T19:49:12.215Z"
   },
   {
    "duration": 8773,
    "start_time": "2021-11-15T19:49:12.231Z"
   },
   {
    "duration": 37,
    "start_time": "2021-11-15T19:49:21.006Z"
   },
   {
    "duration": 67,
    "start_time": "2021-11-15T19:49:21.046Z"
   },
   {
    "duration": 8,
    "start_time": "2021-11-15T19:49:21.115Z"
   },
   {
    "duration": 28,
    "start_time": "2021-11-15T19:49:21.125Z"
   },
   {
    "duration": 239,
    "start_time": "2021-11-15T19:49:21.155Z"
   },
   {
    "duration": 17,
    "start_time": "2021-11-15T19:49:21.396Z"
   },
   {
    "duration": 37,
    "start_time": "2021-11-15T19:49:21.415Z"
   },
   {
    "duration": 60,
    "start_time": "2021-11-15T19:49:21.454Z"
   },
   {
    "duration": 6,
    "start_time": "2021-11-15T19:49:21.516Z"
   },
   {
    "duration": 19,
    "start_time": "2021-11-15T19:49:21.524Z"
   },
   {
    "duration": 1092,
    "start_time": "2021-11-15T19:49:21.545Z"
   },
   {
    "duration": 2131,
    "start_time": "2021-11-15T19:49:22.640Z"
   },
   {
    "duration": 44,
    "start_time": "2021-11-15T19:49:24.773Z"
   },
   {
    "duration": 424,
    "start_time": "2021-11-15T19:49:24.820Z"
   },
   {
    "duration": 10,
    "start_time": "2021-11-15T19:49:25.246Z"
   },
   {
    "duration": 253,
    "start_time": "2021-11-15T19:49:25.258Z"
   },
   {
    "duration": 10,
    "start_time": "2021-11-15T19:49:25.516Z"
   },
   {
    "duration": 7,
    "start_time": "2021-11-15T19:49:25.529Z"
   },
   {
    "duration": 7,
    "start_time": "2021-11-15T19:49:25.538Z"
   },
   {
    "duration": 101,
    "start_time": "2021-11-15T19:49:25.547Z"
   },
   {
    "duration": 35,
    "start_time": "2021-11-15T19:49:25.651Z"
   },
   {
    "duration": 6,
    "start_time": "2021-11-15T19:49:25.688Z"
   },
   {
    "duration": 31,
    "start_time": "2021-11-15T19:49:25.696Z"
   },
   {
    "duration": 16,
    "start_time": "2021-11-15T19:49:25.729Z"
   },
   {
    "duration": 40,
    "start_time": "2021-11-15T19:49:25.747Z"
   },
   {
    "duration": 685,
    "start_time": "2021-11-15T19:49:32.533Z"
   },
   {
    "duration": 625,
    "start_time": "2021-11-15T19:49:48.635Z"
   },
   {
    "duration": 701,
    "start_time": "2021-11-15T19:49:57.155Z"
   },
   {
    "duration": 747,
    "start_time": "2021-11-15T19:51:08.861Z"
   },
   {
    "duration": 615,
    "start_time": "2021-11-15T19:51:22.624Z"
   },
   {
    "duration": 103,
    "start_time": "2021-11-15T19:53:55.601Z"
   },
   {
    "duration": 805,
    "start_time": "2021-11-15T19:54:10.665Z"
   },
   {
    "duration": 622,
    "start_time": "2021-11-15T19:54:33.551Z"
   },
   {
    "duration": 650,
    "start_time": "2021-11-15T19:59:00.072Z"
   },
   {
    "duration": 934,
    "start_time": "2021-11-15T19:59:39.052Z"
   },
   {
    "duration": 801,
    "start_time": "2021-11-15T19:59:51.439Z"
   },
   {
    "duration": 100,
    "start_time": "2021-11-15T20:00:09.604Z"
   },
   {
    "duration": 631,
    "start_time": "2021-11-15T20:00:13.306Z"
   },
   {
    "duration": 494,
    "start_time": "2021-11-15T20:02:12.688Z"
   },
   {
    "duration": 642,
    "start_time": "2021-11-15T20:02:19.654Z"
   },
   {
    "duration": 641,
    "start_time": "2021-11-15T20:10:40.814Z"
   },
   {
    "duration": 628,
    "start_time": "2021-11-15T20:11:12.172Z"
   },
   {
    "duration": 727,
    "start_time": "2021-11-15T20:11:21.388Z"
   },
   {
    "duration": 652,
    "start_time": "2021-11-15T20:12:15.930Z"
   },
   {
    "duration": 652,
    "start_time": "2021-11-15T20:12:29.230Z"
   },
   {
    "duration": 656,
    "start_time": "2021-11-15T20:13:52.727Z"
   },
   {
    "duration": 630,
    "start_time": "2021-11-15T20:18:52.206Z"
   },
   {
    "duration": 745,
    "start_time": "2021-11-15T20:19:00.162Z"
   },
   {
    "duration": 459,
    "start_time": "2021-11-15T20:19:54.724Z"
   },
   {
    "duration": 697,
    "start_time": "2021-11-15T20:20:16.941Z"
   },
   {
    "duration": 613,
    "start_time": "2021-11-15T20:20:41.725Z"
   },
   {
    "duration": 927,
    "start_time": "2021-11-15T20:23:13.386Z"
   },
   {
    "duration": 653,
    "start_time": "2021-11-15T20:23:22.798Z"
   },
   {
    "duration": 795,
    "start_time": "2021-11-15T20:23:36.389Z"
   },
   {
    "duration": 885,
    "start_time": "2021-11-15T20:24:47.067Z"
   },
   {
    "duration": 895,
    "start_time": "2021-11-15T20:25:24.504Z"
   },
   {
    "duration": 1057,
    "start_time": "2021-11-15T20:25:56.032Z"
   },
   {
    "duration": 913,
    "start_time": "2021-11-15T20:26:26.642Z"
   },
   {
    "duration": 771,
    "start_time": "2021-11-15T20:27:38.349Z"
   },
   {
    "duration": 643,
    "start_time": "2021-11-15T20:27:58.013Z"
   },
   {
    "duration": 729,
    "start_time": "2021-11-15T20:28:22.325Z"
   },
   {
    "duration": 776,
    "start_time": "2021-11-15T20:28:32.031Z"
   },
   {
    "duration": 639,
    "start_time": "2021-11-15T20:28:40.912Z"
   },
   {
    "duration": 625,
    "start_time": "2021-11-15T20:29:07.980Z"
   },
   {
    "duration": 609,
    "start_time": "2021-11-15T20:29:29.426Z"
   },
   {
    "duration": 627,
    "start_time": "2021-11-15T20:29:47.924Z"
   },
   {
    "duration": 10,
    "start_time": "2021-11-15T20:31:47.150Z"
   },
   {
    "duration": 249,
    "start_time": "2021-11-15T20:38:23.654Z"
   },
   {
    "duration": 17,
    "start_time": "2021-11-15T20:38:23.906Z"
   },
   {
    "duration": 10,
    "start_time": "2021-11-15T20:38:23.927Z"
   },
   {
    "duration": 46,
    "start_time": "2021-11-15T20:38:23.940Z"
   },
   {
    "duration": 17,
    "start_time": "2021-11-15T20:38:23.989Z"
   },
   {
    "duration": 8948,
    "start_time": "2021-11-15T20:38:24.009Z"
   },
   {
    "duration": 70,
    "start_time": "2021-11-15T20:38:32.960Z"
   },
   {
    "duration": 66,
    "start_time": "2021-11-15T20:38:33.034Z"
   },
   {
    "duration": 11,
    "start_time": "2021-11-15T20:38:33.103Z"
   },
   {
    "duration": 21,
    "start_time": "2021-11-15T20:38:33.118Z"
   },
   {
    "duration": 283,
    "start_time": "2021-11-15T20:38:33.141Z"
   },
   {
    "duration": 23,
    "start_time": "2021-11-15T20:38:33.426Z"
   },
   {
    "duration": 58,
    "start_time": "2021-11-15T20:38:33.451Z"
   },
   {
    "duration": 52,
    "start_time": "2021-11-15T20:38:33.512Z"
   },
   {
    "duration": 8,
    "start_time": "2021-11-15T20:38:33.583Z"
   },
   {
    "duration": 20,
    "start_time": "2021-11-15T20:38:33.594Z"
   },
   {
    "duration": 1032,
    "start_time": "2021-11-15T20:38:33.616Z"
   },
   {
    "duration": 2471,
    "start_time": "2021-11-15T20:38:34.650Z"
   },
   {
    "duration": 59,
    "start_time": "2021-11-15T20:38:37.123Z"
   },
   {
    "duration": 481,
    "start_time": "2021-11-15T20:38:37.185Z"
   },
   {
    "duration": 16,
    "start_time": "2021-11-15T20:38:37.668Z"
   },
   {
    "duration": 273,
    "start_time": "2021-11-15T20:38:37.687Z"
   },
   {
    "duration": 20,
    "start_time": "2021-11-15T20:38:37.967Z"
   },
   {
    "duration": 8,
    "start_time": "2021-11-15T20:38:37.991Z"
   },
   {
    "duration": 8,
    "start_time": "2021-11-15T20:38:38.002Z"
   },
   {
    "duration": 118,
    "start_time": "2021-11-15T20:38:38.013Z"
   },
   {
    "duration": 12,
    "start_time": "2021-11-15T20:38:38.134Z"
   },
   {
    "duration": 34,
    "start_time": "2021-11-15T20:38:38.150Z"
   },
   {
    "duration": 44,
    "start_time": "2021-11-15T20:38:38.187Z"
   },
   {
    "duration": 48,
    "start_time": "2021-11-15T20:38:38.234Z"
   },
   {
    "duration": 11,
    "start_time": "2021-11-15T20:38:38.286Z"
   },
   {
    "duration": 1016,
    "start_time": "2021-11-15T20:38:38.300Z"
   },
   {
    "duration": 10,
    "start_time": "2021-11-15T20:38:39.318Z"
   },
   {
    "duration": 2217,
    "start_time": "2021-11-15T20:38:39.330Z"
   },
   {
    "duration": 11,
    "start_time": "2021-11-15T20:38:41.550Z"
   },
   {
    "duration": 24,
    "start_time": "2021-11-15T20:38:41.563Z"
   },
   {
    "duration": 94,
    "start_time": "2021-11-15T20:38:41.589Z"
   },
   {
    "duration": 1444,
    "start_time": "2021-11-15T20:38:55.992Z"
   },
   {
    "duration": 17,
    "start_time": "2021-11-15T20:38:57.440Z"
   },
   {
    "duration": 28,
    "start_time": "2021-11-15T20:38:57.460Z"
   },
   {
    "duration": 16,
    "start_time": "2021-11-15T20:38:57.491Z"
   },
   {
    "duration": 19,
    "start_time": "2021-11-15T20:38:57.510Z"
   },
   {
    "duration": 14468,
    "start_time": "2021-11-15T20:38:57.533Z"
   },
   {
    "duration": 80,
    "start_time": "2021-11-15T20:39:12.004Z"
   },
   {
    "duration": 92,
    "start_time": "2021-11-15T20:39:12.090Z"
   },
   {
    "duration": 10,
    "start_time": "2021-11-15T20:39:12.185Z"
   },
   {
    "duration": 24,
    "start_time": "2021-11-15T20:39:12.197Z"
   },
   {
    "duration": 261,
    "start_time": "2021-11-15T20:39:12.224Z"
   },
   {
    "duration": 27,
    "start_time": "2021-11-15T20:39:12.488Z"
   },
   {
    "duration": 38,
    "start_time": "2021-11-15T20:39:12.518Z"
   },
   {
    "duration": 36,
    "start_time": "2021-11-15T20:39:12.583Z"
   },
   {
    "duration": 7,
    "start_time": "2021-11-15T20:39:12.621Z"
   },
   {
    "duration": 51,
    "start_time": "2021-11-15T20:39:12.631Z"
   },
   {
    "duration": 1011,
    "start_time": "2021-11-15T20:39:12.685Z"
   },
   {
    "duration": 2197,
    "start_time": "2021-11-15T20:39:13.699Z"
   },
   {
    "duration": 45,
    "start_time": "2021-11-15T20:39:15.898Z"
   },
   {
    "duration": 431,
    "start_time": "2021-11-15T20:39:15.945Z"
   },
   {
    "duration": 12,
    "start_time": "2021-11-15T20:39:16.381Z"
   },
   {
    "duration": 252,
    "start_time": "2021-11-15T20:39:16.395Z"
   },
   {
    "duration": 11,
    "start_time": "2021-11-15T20:39:16.652Z"
   },
   {
    "duration": 8,
    "start_time": "2021-11-15T20:39:16.682Z"
   },
   {
    "duration": 6,
    "start_time": "2021-11-15T20:39:16.692Z"
   },
   {
    "duration": 110,
    "start_time": "2021-11-15T20:39:16.701Z"
   },
   {
    "duration": 11,
    "start_time": "2021-11-15T20:39:16.813Z"
   },
   {
    "duration": 7,
    "start_time": "2021-11-15T20:39:16.826Z"
   },
   {
    "duration": 63,
    "start_time": "2021-11-15T20:39:16.836Z"
   },
   {
    "duration": 25,
    "start_time": "2021-11-15T20:39:16.902Z"
   },
   {
    "duration": 10,
    "start_time": "2021-11-15T20:39:16.929Z"
   },
   {
    "duration": 718,
    "start_time": "2021-11-15T20:39:16.942Z"
   },
   {
    "duration": 25,
    "start_time": "2021-11-15T20:39:17.663Z"
   },
   {
    "duration": 3797,
    "start_time": "2021-11-15T20:39:17.691Z"
   },
   {
    "duration": 11,
    "start_time": "2021-11-15T20:39:21.492Z"
   },
   {
    "duration": 11,
    "start_time": "2021-11-15T20:39:21.507Z"
   },
   {
    "duration": 102,
    "start_time": "2021-11-15T20:39:21.521Z"
   },
   {
    "duration": 710,
    "start_time": "2021-11-16T06:26:52.918Z"
   },
   {
    "duration": 11,
    "start_time": "2021-11-16T06:26:53.630Z"
   },
   {
    "duration": 7,
    "start_time": "2021-11-16T06:26:53.643Z"
   },
   {
    "duration": 10,
    "start_time": "2021-11-16T06:26:53.651Z"
   },
   {
    "duration": 25,
    "start_time": "2021-11-16T06:26:53.663Z"
   },
   {
    "duration": 5137,
    "start_time": "2021-11-16T06:26:53.689Z"
   },
   {
    "duration": 23,
    "start_time": "2021-11-16T06:26:58.828Z"
   },
   {
    "duration": 44,
    "start_time": "2021-11-16T06:26:58.853Z"
   },
   {
    "duration": 6,
    "start_time": "2021-11-16T06:26:58.901Z"
   },
   {
    "duration": 12,
    "start_time": "2021-11-16T06:26:58.909Z"
   },
   {
    "duration": 140,
    "start_time": "2021-11-16T06:26:58.923Z"
   },
   {
    "duration": 26,
    "start_time": "2021-11-16T06:26:59.064Z"
   },
   {
    "duration": 21,
    "start_time": "2021-11-16T06:26:59.091Z"
   },
   {
    "duration": 22,
    "start_time": "2021-11-16T06:26:59.113Z"
   },
   {
    "duration": 4,
    "start_time": "2021-11-16T06:26:59.136Z"
   },
   {
    "duration": 16,
    "start_time": "2021-11-16T06:26:59.141Z"
   },
   {
    "duration": 565,
    "start_time": "2021-11-16T06:26:59.158Z"
   },
   {
    "duration": 1201,
    "start_time": "2021-11-16T06:26:59.725Z"
   },
   {
    "duration": 26,
    "start_time": "2021-11-16T06:27:00.928Z"
   },
   {
    "duration": 234,
    "start_time": "2021-11-16T06:27:00.956Z"
   },
   {
    "duration": 8,
    "start_time": "2021-11-16T06:27:01.191Z"
   },
   {
    "duration": 141,
    "start_time": "2021-11-16T06:27:01.200Z"
   },
   {
    "duration": 8,
    "start_time": "2021-11-16T06:27:01.343Z"
   },
   {
    "duration": 8,
    "start_time": "2021-11-16T06:27:01.352Z"
   },
   {
    "duration": 16,
    "start_time": "2021-11-16T06:27:01.361Z"
   },
   {
    "duration": 48,
    "start_time": "2021-11-16T06:27:01.378Z"
   },
   {
    "duration": 8,
    "start_time": "2021-11-16T06:27:01.430Z"
   },
   {
    "duration": 6,
    "start_time": "2021-11-16T06:27:01.439Z"
   },
   {
    "duration": 41,
    "start_time": "2021-11-16T06:27:01.447Z"
   },
   {
    "duration": 10,
    "start_time": "2021-11-16T06:27:01.490Z"
   },
   {
    "duration": 6,
    "start_time": "2021-11-16T06:27:01.502Z"
   },
   {
    "duration": 217,
    "start_time": "2021-11-16T06:27:01.509Z"
   },
   {
    "duration": 7,
    "start_time": "2021-11-16T06:27:01.728Z"
   },
   {
    "duration": 1173,
    "start_time": "2021-11-16T06:27:01.737Z"
   },
   {
    "duration": 7,
    "start_time": "2021-11-16T06:27:02.912Z"
   },
   {
    "duration": 7,
    "start_time": "2021-11-16T06:27:02.920Z"
   },
   {
    "duration": 61,
    "start_time": "2021-11-16T06:27:02.929Z"
   },
   {
    "duration": 275,
    "start_time": "2021-11-16T06:27:09.517Z"
   },
   {
    "duration": 375,
    "start_time": "2021-11-16T06:27:39.131Z"
   },
   {
    "duration": 381,
    "start_time": "2021-11-16T06:27:50.186Z"
   },
   {
    "duration": 354,
    "start_time": "2021-11-16T06:27:59.297Z"
   },
   {
    "duration": 475,
    "start_time": "2021-11-16T06:28:09.530Z"
   },
   {
    "duration": 9,
    "start_time": "2021-11-16T06:28:53.776Z"
   },
   {
    "duration": 411,
    "start_time": "2021-11-16T06:29:41.345Z"
   },
   {
    "duration": 279,
    "start_time": "2021-11-16T06:30:23.062Z"
   },
   {
    "duration": 9,
    "start_time": "2021-11-16T06:30:35.328Z"
   },
   {
    "duration": 281,
    "start_time": "2021-11-16T06:33:24.957Z"
   },
   {
    "duration": 281,
    "start_time": "2021-11-16T06:34:01.166Z"
   },
   {
    "duration": 370,
    "start_time": "2021-11-16T06:34:30.006Z"
   },
   {
    "duration": 409,
    "start_time": "2021-11-16T06:35:11.116Z"
   },
   {
    "duration": 322,
    "start_time": "2021-11-16T06:35:27.106Z"
   },
   {
    "duration": 293,
    "start_time": "2021-11-16T06:35:32.197Z"
   },
   {
    "duration": 362,
    "start_time": "2021-11-16T06:35:37.046Z"
   },
   {
    "duration": 3,
    "start_time": "2021-11-16T06:37:20.665Z"
   },
   {
    "duration": 8,
    "start_time": "2021-11-16T06:37:23.928Z"
   },
   {
    "duration": 278,
    "start_time": "2021-11-16T06:37:33.246Z"
   },
   {
    "duration": 3,
    "start_time": "2021-11-16T06:37:39.690Z"
   },
   {
    "duration": 11,
    "start_time": "2021-11-16T06:37:42.448Z"
   },
   {
    "duration": 388,
    "start_time": "2021-11-16T06:38:29.537Z"
   },
   {
    "duration": 256,
    "start_time": "2021-11-16T06:38:43.964Z"
   },
   {
    "duration": 346,
    "start_time": "2021-11-16T06:38:55.712Z"
   },
   {
    "duration": 396,
    "start_time": "2021-11-16T06:39:06.698Z"
   },
   {
    "duration": 257,
    "start_time": "2021-11-16T06:39:28.092Z"
   },
   {
    "duration": 267,
    "start_time": "2021-11-16T06:39:35.296Z"
   },
   {
    "duration": 251,
    "start_time": "2021-11-16T06:39:43.876Z"
   },
   {
    "duration": 326,
    "start_time": "2021-11-16T06:40:06.288Z"
   },
   {
    "duration": 251,
    "start_time": "2021-11-16T06:40:34.606Z"
   },
   {
    "duration": 325,
    "start_time": "2021-11-16T06:44:09.254Z"
   },
   {
    "duration": 254,
    "start_time": "2021-11-16T06:44:14.052Z"
   },
   {
    "duration": 256,
    "start_time": "2021-11-16T06:44:47.871Z"
   },
   {
    "duration": 284,
    "start_time": "2021-11-16T06:46:15.772Z"
   },
   {
    "duration": 242,
    "start_time": "2021-11-16T06:46:25.550Z"
   },
   {
    "duration": 6,
    "start_time": "2021-11-16T06:46:32.329Z"
   },
   {
    "duration": 4,
    "start_time": "2021-11-16T06:46:38.749Z"
   },
   {
    "duration": 4,
    "start_time": "2021-11-16T06:46:58.021Z"
   },
   {
    "duration": 242,
    "start_time": "2021-11-20T12:07:57.371Z"
   },
   {
    "duration": 262,
    "start_time": "2021-11-20T12:08:35.366Z"
   }
  ],
  "kernelspec": {
   "display_name": "Python 3",
   "language": "python",
   "name": "python3"
  },
  "language_info": {
   "codemirror_mode": {
    "name": "ipython",
    "version": 3
   },
   "file_extension": ".py",
   "mimetype": "text/x-python",
   "name": "python",
   "nbconvert_exporter": "python",
   "pygments_lexer": "ipython3",
   "version": "3.8.5"
  },
  "toc": {
   "base_numbering": 1,
   "nav_menu": {},
   "number_sections": true,
   "sideBar": true,
   "skip_h1_title": true,
   "title_cell": "Содержание",
   "title_sidebar": "Contents",
   "toc_cell": true,
   "toc_position": {
    "height": "calc(100% - 180px)",
    "left": "10px",
    "top": "150px",
    "width": "164.988px"
   },
   "toc_section_display": true,
   "toc_window_display": true
  }
 },
 "nbformat": 4,
 "nbformat_minor": 2
}
