{
 "cells": [
  {
   "cell_type": "markdown",
   "metadata": {
    "id": "sIfNaMOxgFyK"
   },
   "source": [
    "# Исследование данных о российском кинопрокате\n",
    "\n"
   ]
  },
  {
   "cell_type": "markdown",
   "metadata": {},
   "source": [
    "В данном исследовании необходимо изучить рынок российского кинопроката и выявить текущие тренды и особенно уделить внимание фильмам, которые получили государственную поддержку. \n",
    "Мы будем работать с данными, опубликованными на портале открытых данных Министерства культуры. Набор данных содержит информацию о прокатных удостоверениях, сборах и государственной поддержке фильмов, а также информацию с сайта КиноПоиск.\n",
    "Заказчик этого исследования — Министерство культуры Российской Федерации."
   ]
  },
  {
   "cell_type": "markdown",
   "metadata": {
    "id": "3bSlkCsbgFyL"
   },
   "source": [
    "### Шаг 1. Откройте файлы с данными и объедините их в один датафрейм. \n",
    "\n",
    "Объедините данные таким образом, чтобы все объекты из датасета `mkrf_movies` обязательно вошли в получившийся датафрейм. \n",
    "\n",
    "<div id=\"accordion\">\n",
    "    <div class=\"card\">\n",
    "        <div class=\"card-header\" id=\"headingThree\">\n",
    "            <button class=\"btn btn-link collapsed\" data-toggle=\"collapse\" data-target=\"#collapseHint_0\" aria-expanded=\"false\" aria-controls=\"collapseHint_0\">Подсказка</button>\n",
    "        </div>\n",
    "        <div id=\"collapseHint_0\" class=\"collapse\" aria-labelledby=\"headingThree\" data-parent=\"#accordion\">\n",
    "            <div class=\"card-body\">\n",
    "Обратите внимание на тип данных столбца, по которому будете соединять датафреймы. Тип данных этих столбцов должен быть одинаковым в обоих датафреймах.\n",
    "            </div>\n",
    "        </div>\n",
    "    </div>\n",
    "</div>"
   ]
  },
  {
   "cell_type": "code",
   "execution_count": 1,
   "metadata": {
    "id": "dw87FlzMgFyM"
   },
   "outputs": [
    {
     "data": {
      "text/html": [
       "<div>\n",
       "<style scoped>\n",
       "    .dataframe tbody tr th:only-of-type {\n",
       "        vertical-align: middle;\n",
       "    }\n",
       "\n",
       "    .dataframe tbody tr th {\n",
       "        vertical-align: top;\n",
       "    }\n",
       "\n",
       "    .dataframe thead th {\n",
       "        text-align: right;\n",
       "    }\n",
       "</style>\n",
       "<table border=\"1\" class=\"dataframe\">\n",
       "  <thead>\n",
       "    <tr style=\"text-align: right;\">\n",
       "      <th></th>\n",
       "      <th>title</th>\n",
       "      <th>puNumber</th>\n",
       "      <th>show_start_date</th>\n",
       "      <th>type</th>\n",
       "      <th>film_studio</th>\n",
       "      <th>production_country</th>\n",
       "      <th>director</th>\n",
       "      <th>producer</th>\n",
       "      <th>age_restriction</th>\n",
       "      <th>refundable_support</th>\n",
       "      <th>nonrefundable_support</th>\n",
       "      <th>budget</th>\n",
       "      <th>financing_source</th>\n",
       "      <th>ratings</th>\n",
       "      <th>genres</th>\n",
       "    </tr>\n",
       "  </thead>\n",
       "  <tbody>\n",
       "    <tr>\n",
       "      <th>0</th>\n",
       "      <td>Открытый простор</td>\n",
       "      <td>221048915</td>\n",
       "      <td>2015-11-27T12:00:00.000Z</td>\n",
       "      <td>Художественный</td>\n",
       "      <td>Тачстоун Пикчерз, Кобальт Пикчерз, Бикон Пикче...</td>\n",
       "      <td>США</td>\n",
       "      <td>Кевин Костнер</td>\n",
       "      <td>Дэвид Валдес, Кевин Костнер, Джейк Эбертс</td>\n",
       "      <td>«18+» - запрещено для детей</td>\n",
       "      <td>nan</td>\n",
       "      <td>nan</td>\n",
       "      <td>nan</td>\n",
       "      <td>NaN</td>\n",
       "      <td>7.2</td>\n",
       "      <td>боевик,драма,мелодрама</td>\n",
       "    </tr>\n",
       "    <tr>\n",
       "      <th>1</th>\n",
       "      <td>Особо важное задание</td>\n",
       "      <td>111013716</td>\n",
       "      <td>2016-09-13T12:00:00.000Z</td>\n",
       "      <td>Художественный</td>\n",
       "      <td>Киностудия \"Мосфильм\"</td>\n",
       "      <td>СССР</td>\n",
       "      <td>Е.Матвеев</td>\n",
       "      <td>NaN</td>\n",
       "      <td>«6+» - для детей старше 6 лет</td>\n",
       "      <td>nan</td>\n",
       "      <td>nan</td>\n",
       "      <td>nan</td>\n",
       "      <td>NaN</td>\n",
       "      <td>6.6</td>\n",
       "      <td>драма,военный</td>\n",
       "    </tr>\n",
       "    <tr>\n",
       "      <th>2</th>\n",
       "      <td>Особо опасен</td>\n",
       "      <td>221038416</td>\n",
       "      <td>2016-10-10T12:00:00.000Z</td>\n",
       "      <td>Художественный</td>\n",
       "      <td>Юниверсал Пикчерз, Кикстарт Продакшнз, Марк Пл...</td>\n",
       "      <td>США</td>\n",
       "      <td>Тимур Бекмамбетов</td>\n",
       "      <td>Джим Лемли, Джейсон Нетер, Марк Е.Платт, Яйн Смит</td>\n",
       "      <td>«18+» - запрещено для детей</td>\n",
       "      <td>nan</td>\n",
       "      <td>nan</td>\n",
       "      <td>nan</td>\n",
       "      <td>NaN</td>\n",
       "      <td>6.8</td>\n",
       "      <td>фантастика,боевик,триллер</td>\n",
       "    </tr>\n",
       "    <tr>\n",
       "      <th>3</th>\n",
       "      <td>Особо опасен</td>\n",
       "      <td>221026916</td>\n",
       "      <td>2016-06-10T12:00:00.000Z</td>\n",
       "      <td>Художественный</td>\n",
       "      <td>Юниверсал Пикчерз, Кикстарт Продакшнз, Марк Пл...</td>\n",
       "      <td>США</td>\n",
       "      <td>Тимур Бекмамбетов</td>\n",
       "      <td>Джим Лемли, Джейсон Нетер, Марк Е.Платт, Яйн Смит</td>\n",
       "      <td>«18+» - запрещено для детей</td>\n",
       "      <td>nan</td>\n",
       "      <td>nan</td>\n",
       "      <td>nan</td>\n",
       "      <td>NaN</td>\n",
       "      <td>6.8</td>\n",
       "      <td>фантастика,боевик,триллер</td>\n",
       "    </tr>\n",
       "    <tr>\n",
       "      <th>4</th>\n",
       "      <td>Особо опасен</td>\n",
       "      <td>221030815</td>\n",
       "      <td>2015-07-29T12:00:00.000Z</td>\n",
       "      <td>Художественный</td>\n",
       "      <td>Юниверсал Пикчерз, Кикстарт Продакшнз, Марк Пл...</td>\n",
       "      <td>США</td>\n",
       "      <td>Тимур Бекмамбетов</td>\n",
       "      <td>Джим Лемли, Джейсон Нетер, Марк Е.Платт, Яйн Смит</td>\n",
       "      <td>«18+» - запрещено для детей</td>\n",
       "      <td>nan</td>\n",
       "      <td>nan</td>\n",
       "      <td>nan</td>\n",
       "      <td>NaN</td>\n",
       "      <td>6.8</td>\n",
       "      <td>фантастика,боевик,триллер</td>\n",
       "    </tr>\n",
       "  </tbody>\n",
       "</table>\n",
       "</div>"
      ],
      "text/plain": [
       "                  title   puNumber           show_start_date            type  \\\n",
       "0      Открытый простор  221048915  2015-11-27T12:00:00.000Z  Художественный   \n",
       "1  Особо важное задание  111013716  2016-09-13T12:00:00.000Z  Художественный   \n",
       "2          Особо опасен  221038416  2016-10-10T12:00:00.000Z  Художественный   \n",
       "3          Особо опасен  221026916  2016-06-10T12:00:00.000Z  Художественный   \n",
       "4          Особо опасен  221030815  2015-07-29T12:00:00.000Z  Художественный   \n",
       "\n",
       "                                         film_studio production_country  \\\n",
       "0  Тачстоун Пикчерз, Кобальт Пикчерз, Бикон Пикче...                США   \n",
       "1                              Киностудия \"Мосфильм\"               СССР   \n",
       "2  Юниверсал Пикчерз, Кикстарт Продакшнз, Марк Пл...                США   \n",
       "3  Юниверсал Пикчерз, Кикстарт Продакшнз, Марк Пл...                США   \n",
       "4  Юниверсал Пикчерз, Кикстарт Продакшнз, Марк Пл...                США   \n",
       "\n",
       "            director                                           producer  \\\n",
       "0      Кевин Костнер          Дэвид Валдес, Кевин Костнер, Джейк Эбертс   \n",
       "1          Е.Матвеев                                                NaN   \n",
       "2  Тимур Бекмамбетов  Джим Лемли, Джейсон Нетер, Марк Е.Платт, Яйн Смит   \n",
       "3  Тимур Бекмамбетов  Джим Лемли, Джейсон Нетер, Марк Е.Платт, Яйн Смит   \n",
       "4  Тимур Бекмамбетов  Джим Лемли, Джейсон Нетер, Марк Е.Платт, Яйн Смит   \n",
       "\n",
       "                 age_restriction  refundable_support  nonrefundable_support  \\\n",
       "0    «18+» - запрещено для детей                 nan                    nan   \n",
       "1  «6+» - для детей старше 6 лет                 nan                    nan   \n",
       "2    «18+» - запрещено для детей                 nan                    nan   \n",
       "3    «18+» - запрещено для детей                 nan                    nan   \n",
       "4    «18+» - запрещено для детей                 nan                    nan   \n",
       "\n",
       "   budget financing_source ratings                     genres  \n",
       "0     nan              NaN     7.2     боевик,драма,мелодрама  \n",
       "1     nan              NaN     6.6              драма,военный  \n",
       "2     nan              NaN     6.8  фантастика,боевик,триллер  \n",
       "3     nan              NaN     6.8  фантастика,боевик,триллер  \n",
       "4     nan              NaN     6.8  фантастика,боевик,триллер  "
      ]
     },
     "execution_count": 1,
     "metadata": {},
     "output_type": "execute_result"
    }
   ],
   "source": [
    "import pandas as pd\n",
    "import numpy as np\n",
    "import matplotlib.pyplot as plt\n",
    "import seaborn as sns\n",
    "data = pd.read_csv('datasets/mkrf_movies.csv')\n",
    "pd.set_option('display.float_format', '{:,.2f}'.format)\n",
    "data.head()"
   ]
  },
  {
   "cell_type": "code",
   "execution_count": 2,
   "metadata": {},
   "outputs": [
    {
     "data": {
      "text/html": [
       "<div>\n",
       "<style scoped>\n",
       "    .dataframe tbody tr th:only-of-type {\n",
       "        vertical-align: middle;\n",
       "    }\n",
       "\n",
       "    .dataframe tbody tr th {\n",
       "        vertical-align: top;\n",
       "    }\n",
       "\n",
       "    .dataframe thead th {\n",
       "        text-align: right;\n",
       "    }\n",
       "</style>\n",
       "<table border=\"1\" class=\"dataframe\">\n",
       "  <thead>\n",
       "    <tr style=\"text-align: right;\">\n",
       "      <th></th>\n",
       "      <th>puNumber</th>\n",
       "      <th>box_office</th>\n",
       "    </tr>\n",
       "  </thead>\n",
       "  <tbody>\n",
       "    <tr>\n",
       "      <th>0</th>\n",
       "      <td>111000113</td>\n",
       "      <td>2,450.00</td>\n",
       "    </tr>\n",
       "    <tr>\n",
       "      <th>1</th>\n",
       "      <td>111000115</td>\n",
       "      <td>61,040.00</td>\n",
       "    </tr>\n",
       "    <tr>\n",
       "      <th>2</th>\n",
       "      <td>111000116</td>\n",
       "      <td>153,030,013.40</td>\n",
       "    </tr>\n",
       "    <tr>\n",
       "      <th>3</th>\n",
       "      <td>111000117</td>\n",
       "      <td>12,260,956.00</td>\n",
       "    </tr>\n",
       "    <tr>\n",
       "      <th>4</th>\n",
       "      <td>111000118</td>\n",
       "      <td>163,684,057.79</td>\n",
       "    </tr>\n",
       "  </tbody>\n",
       "</table>\n",
       "</div>"
      ],
      "text/plain": [
       "    puNumber     box_office\n",
       "0  111000113       2,450.00\n",
       "1  111000115      61,040.00\n",
       "2  111000116 153,030,013.40\n",
       "3  111000117  12,260,956.00\n",
       "4  111000118 163,684,057.79"
      ]
     },
     "execution_count": 2,
     "metadata": {},
     "output_type": "execute_result"
    }
   ],
   "source": [
    "mkrf_shows = pd.read_csv('datasets/mkrf_shows.csv')\n",
    "mkrf_shows.head()"
   ]
  },
  {
   "cell_type": "markdown",
   "metadata": {},
   "source": [
    "Для того, чтобы объединить данные необходимо проверить совместимость типов данных в столбцах `puNumber`."
   ]
  },
  {
   "cell_type": "code",
   "execution_count": 3,
   "metadata": {},
   "outputs": [
    {
     "data": {
      "text/plain": [
       "dtype('O')"
      ]
     },
     "execution_count": 3,
     "metadata": {},
     "output_type": "execute_result"
    }
   ],
   "source": [
    "data['puNumber'].dtypes"
   ]
  },
  {
   "cell_type": "code",
   "execution_count": 4,
   "metadata": {
    "scrolled": true
   },
   "outputs": [
    {
     "data": {
      "text/plain": [
       "dtype('int64')"
      ]
     },
     "execution_count": 4,
     "metadata": {},
     "output_type": "execute_result"
    }
   ],
   "source": [
    "mkrf_shows['puNumber'].dtypes"
   ]
  },
  {
   "cell_type": "markdown",
   "metadata": {},
   "source": [
    "Найдем строки, которые мешают преобразованию типа."
   ]
  },
  {
   "cell_type": "code",
   "execution_count": 5,
   "metadata": {},
   "outputs": [
    {
     "data": {
      "text/html": [
       "<div>\n",
       "<style scoped>\n",
       "    .dataframe tbody tr th:only-of-type {\n",
       "        vertical-align: middle;\n",
       "    }\n",
       "\n",
       "    .dataframe tbody tr th {\n",
       "        vertical-align: top;\n",
       "    }\n",
       "\n",
       "    .dataframe thead th {\n",
       "        text-align: right;\n",
       "    }\n",
       "</style>\n",
       "<table border=\"1\" class=\"dataframe\">\n",
       "  <thead>\n",
       "    <tr style=\"text-align: right;\">\n",
       "      <th></th>\n",
       "      <th>title</th>\n",
       "      <th>puNumber</th>\n",
       "      <th>show_start_date</th>\n",
       "      <th>type</th>\n",
       "      <th>film_studio</th>\n",
       "      <th>production_country</th>\n",
       "      <th>director</th>\n",
       "      <th>producer</th>\n",
       "      <th>age_restriction</th>\n",
       "      <th>refundable_support</th>\n",
       "      <th>nonrefundable_support</th>\n",
       "      <th>budget</th>\n",
       "      <th>financing_source</th>\n",
       "      <th>ratings</th>\n",
       "      <th>genres</th>\n",
       "      <th>puNumber_int</th>\n",
       "    </tr>\n",
       "  </thead>\n",
       "  <tbody>\n",
       "    <tr>\n",
       "      <th>1797</th>\n",
       "      <td>Курбан-роман. (История с жертвой)</td>\n",
       "      <td>нет</td>\n",
       "      <td>2014-05-15T12:00:00.000Z</td>\n",
       "      <td>Художественный</td>\n",
       "      <td>ФОНД \"ИННОВАЦИЯ\"</td>\n",
       "      <td>Россия</td>\n",
       "      <td>С.Юзеев</td>\n",
       "      <td>М.Галицкая</td>\n",
       "      <td>«12+» - для детей старше 12 лет</td>\n",
       "      <td>nan</td>\n",
       "      <td>nan</td>\n",
       "      <td>nan</td>\n",
       "      <td>NaN</td>\n",
       "      <td>NaN</td>\n",
       "      <td>NaN</td>\n",
       "      <td>False</td>\n",
       "    </tr>\n",
       "  </tbody>\n",
       "</table>\n",
       "</div>"
      ],
      "text/plain": [
       "                                  title puNumber           show_start_date  \\\n",
       "1797  Курбан-роман. (История с жертвой)      нет  2014-05-15T12:00:00.000Z   \n",
       "\n",
       "                type       film_studio production_country director  \\\n",
       "1797  Художественный  ФОНД \"ИННОВАЦИЯ\"             Россия  С.Юзеев   \n",
       "\n",
       "        producer                  age_restriction  refundable_support  \\\n",
       "1797  М.Галицкая  «12+» - для детей старше 12 лет                 nan   \n",
       "\n",
       "      nonrefundable_support  budget financing_source ratings genres  \\\n",
       "1797                    nan     nan              NaN     NaN    NaN   \n",
       "\n",
       "      puNumber_int  \n",
       "1797         False  "
      ]
     },
     "execution_count": 5,
     "metadata": {},
     "output_type": "execute_result"
    }
   ],
   "source": [
    "def check_int(value):\n",
    "    try:\n",
    "        int(value)\n",
    "        return True\n",
    "    except:\n",
    "        return False\n",
    "data['puNumber_int'] = data['puNumber'].apply(check_int)\n",
    "data.query('puNumber_int == False')"
   ]
  },
  {
   "cell_type": "markdown",
   "metadata": {},
   "source": [
    "У данной строки нет номера прокатного удостоверения, а так же нет большинства данных необходимых для анализа. Так что эту строку можно удалить."
   ]
  },
  {
   "cell_type": "code",
   "execution_count": 6,
   "metadata": {},
   "outputs": [],
   "source": [
    "data.drop(labels = [1797], axis = 0, inplace = True)\n",
    "data.drop(['puNumber_int'], axis = 1, inplace = True)\n",
    "data['puNumber'] = data['puNumber'].astype('int')"
   ]
  },
  {
   "cell_type": "markdown",
   "metadata": {},
   "source": [
    "Объединим таблицы так, чтобы все объекты из датасета mkrf_movies обязательно вошли в получившийся датафрейм."
   ]
  },
  {
   "cell_type": "code",
   "execution_count": 7,
   "metadata": {
    "scrolled": true
   },
   "outputs": [
    {
     "data": {
      "text/html": [
       "<div>\n",
       "<style scoped>\n",
       "    .dataframe tbody tr th:only-of-type {\n",
       "        vertical-align: middle;\n",
       "    }\n",
       "\n",
       "    .dataframe tbody tr th {\n",
       "        vertical-align: top;\n",
       "    }\n",
       "\n",
       "    .dataframe thead th {\n",
       "        text-align: right;\n",
       "    }\n",
       "</style>\n",
       "<table border=\"1\" class=\"dataframe\">\n",
       "  <thead>\n",
       "    <tr style=\"text-align: right;\">\n",
       "      <th></th>\n",
       "      <th>title</th>\n",
       "      <th>puNumber</th>\n",
       "      <th>show_start_date</th>\n",
       "      <th>type</th>\n",
       "      <th>film_studio</th>\n",
       "      <th>production_country</th>\n",
       "      <th>director</th>\n",
       "      <th>producer</th>\n",
       "      <th>age_restriction</th>\n",
       "      <th>refundable_support</th>\n",
       "      <th>nonrefundable_support</th>\n",
       "      <th>budget</th>\n",
       "      <th>financing_source</th>\n",
       "      <th>ratings</th>\n",
       "      <th>genres</th>\n",
       "      <th>box_office</th>\n",
       "    </tr>\n",
       "  </thead>\n",
       "  <tbody>\n",
       "    <tr>\n",
       "      <th>0</th>\n",
       "      <td>Открытый простор</td>\n",
       "      <td>221048915</td>\n",
       "      <td>2015-11-27T12:00:00.000Z</td>\n",
       "      <td>Художественный</td>\n",
       "      <td>Тачстоун Пикчерз, Кобальт Пикчерз, Бикон Пикче...</td>\n",
       "      <td>США</td>\n",
       "      <td>Кевин Костнер</td>\n",
       "      <td>Дэвид Валдес, Кевин Костнер, Джейк Эбертс</td>\n",
       "      <td>«18+» - запрещено для детей</td>\n",
       "      <td>nan</td>\n",
       "      <td>nan</td>\n",
       "      <td>nan</td>\n",
       "      <td>NaN</td>\n",
       "      <td>7.2</td>\n",
       "      <td>боевик,драма,мелодрама</td>\n",
       "      <td>nan</td>\n",
       "    </tr>\n",
       "    <tr>\n",
       "      <th>1</th>\n",
       "      <td>Особо важное задание</td>\n",
       "      <td>111013716</td>\n",
       "      <td>2016-09-13T12:00:00.000Z</td>\n",
       "      <td>Художественный</td>\n",
       "      <td>Киностудия \"Мосфильм\"</td>\n",
       "      <td>СССР</td>\n",
       "      <td>Е.Матвеев</td>\n",
       "      <td>NaN</td>\n",
       "      <td>«6+» - для детей старше 6 лет</td>\n",
       "      <td>nan</td>\n",
       "      <td>nan</td>\n",
       "      <td>nan</td>\n",
       "      <td>NaN</td>\n",
       "      <td>6.6</td>\n",
       "      <td>драма,военный</td>\n",
       "      <td>nan</td>\n",
       "    </tr>\n",
       "    <tr>\n",
       "      <th>2</th>\n",
       "      <td>Особо опасен</td>\n",
       "      <td>221038416</td>\n",
       "      <td>2016-10-10T12:00:00.000Z</td>\n",
       "      <td>Художественный</td>\n",
       "      <td>Юниверсал Пикчерз, Кикстарт Продакшнз, Марк Пл...</td>\n",
       "      <td>США</td>\n",
       "      <td>Тимур Бекмамбетов</td>\n",
       "      <td>Джим Лемли, Джейсон Нетер, Марк Е.Платт, Яйн Смит</td>\n",
       "      <td>«18+» - запрещено для детей</td>\n",
       "      <td>nan</td>\n",
       "      <td>nan</td>\n",
       "      <td>nan</td>\n",
       "      <td>NaN</td>\n",
       "      <td>6.8</td>\n",
       "      <td>фантастика,боевик,триллер</td>\n",
       "      <td>nan</td>\n",
       "    </tr>\n",
       "    <tr>\n",
       "      <th>3</th>\n",
       "      <td>Особо опасен</td>\n",
       "      <td>221026916</td>\n",
       "      <td>2016-06-10T12:00:00.000Z</td>\n",
       "      <td>Художественный</td>\n",
       "      <td>Юниверсал Пикчерз, Кикстарт Продакшнз, Марк Пл...</td>\n",
       "      <td>США</td>\n",
       "      <td>Тимур Бекмамбетов</td>\n",
       "      <td>Джим Лемли, Джейсон Нетер, Марк Е.Платт, Яйн Смит</td>\n",
       "      <td>«18+» - запрещено для детей</td>\n",
       "      <td>nan</td>\n",
       "      <td>nan</td>\n",
       "      <td>nan</td>\n",
       "      <td>NaN</td>\n",
       "      <td>6.8</td>\n",
       "      <td>фантастика,боевик,триллер</td>\n",
       "      <td>nan</td>\n",
       "    </tr>\n",
       "    <tr>\n",
       "      <th>4</th>\n",
       "      <td>Особо опасен</td>\n",
       "      <td>221030815</td>\n",
       "      <td>2015-07-29T12:00:00.000Z</td>\n",
       "      <td>Художественный</td>\n",
       "      <td>Юниверсал Пикчерз, Кикстарт Продакшнз, Марк Пл...</td>\n",
       "      <td>США</td>\n",
       "      <td>Тимур Бекмамбетов</td>\n",
       "      <td>Джим Лемли, Джейсон Нетер, Марк Е.Платт, Яйн Смит</td>\n",
       "      <td>«18+» - запрещено для детей</td>\n",
       "      <td>nan</td>\n",
       "      <td>nan</td>\n",
       "      <td>nan</td>\n",
       "      <td>NaN</td>\n",
       "      <td>6.8</td>\n",
       "      <td>фантастика,боевик,триллер</td>\n",
       "      <td>nan</td>\n",
       "    </tr>\n",
       "  </tbody>\n",
       "</table>\n",
       "</div>"
      ],
      "text/plain": [
       "                  title   puNumber           show_start_date            type  \\\n",
       "0      Открытый простор  221048915  2015-11-27T12:00:00.000Z  Художественный   \n",
       "1  Особо важное задание  111013716  2016-09-13T12:00:00.000Z  Художественный   \n",
       "2          Особо опасен  221038416  2016-10-10T12:00:00.000Z  Художественный   \n",
       "3          Особо опасен  221026916  2016-06-10T12:00:00.000Z  Художественный   \n",
       "4          Особо опасен  221030815  2015-07-29T12:00:00.000Z  Художественный   \n",
       "\n",
       "                                         film_studio production_country  \\\n",
       "0  Тачстоун Пикчерз, Кобальт Пикчерз, Бикон Пикче...                США   \n",
       "1                              Киностудия \"Мосфильм\"               СССР   \n",
       "2  Юниверсал Пикчерз, Кикстарт Продакшнз, Марк Пл...                США   \n",
       "3  Юниверсал Пикчерз, Кикстарт Продакшнз, Марк Пл...                США   \n",
       "4  Юниверсал Пикчерз, Кикстарт Продакшнз, Марк Пл...                США   \n",
       "\n",
       "            director                                           producer  \\\n",
       "0      Кевин Костнер          Дэвид Валдес, Кевин Костнер, Джейк Эбертс   \n",
       "1          Е.Матвеев                                                NaN   \n",
       "2  Тимур Бекмамбетов  Джим Лемли, Джейсон Нетер, Марк Е.Платт, Яйн Смит   \n",
       "3  Тимур Бекмамбетов  Джим Лемли, Джейсон Нетер, Марк Е.Платт, Яйн Смит   \n",
       "4  Тимур Бекмамбетов  Джим Лемли, Джейсон Нетер, Марк Е.Платт, Яйн Смит   \n",
       "\n",
       "                 age_restriction  refundable_support  nonrefundable_support  \\\n",
       "0    «18+» - запрещено для детей                 nan                    nan   \n",
       "1  «6+» - для детей старше 6 лет                 nan                    nan   \n",
       "2    «18+» - запрещено для детей                 nan                    nan   \n",
       "3    «18+» - запрещено для детей                 nan                    nan   \n",
       "4    «18+» - запрещено для детей                 nan                    nan   \n",
       "\n",
       "   budget financing_source ratings                     genres  box_office  \n",
       "0     nan              NaN     7.2     боевик,драма,мелодрама         nan  \n",
       "1     nan              NaN     6.6              драма,военный         nan  \n",
       "2     nan              NaN     6.8  фантастика,боевик,триллер         nan  \n",
       "3     nan              NaN     6.8  фантастика,боевик,триллер         nan  \n",
       "4     nan              NaN     6.8  фантастика,боевик,триллер         nan  "
      ]
     },
     "execution_count": 7,
     "metadata": {},
     "output_type": "execute_result"
    }
   ],
   "source": [
    "data = data.merge(mkrf_shows, on='puNumber', how='left')\n",
    "data.head()"
   ]
  },
  {
   "cell_type": "code",
   "execution_count": 8,
   "metadata": {},
   "outputs": [
    {
     "name": "stdout",
     "output_type": "stream",
     "text": [
      "<class 'pandas.core.frame.DataFrame'>\n",
      "Int64Index: 7485 entries, 0 to 7484\n",
      "Data columns (total 16 columns):\n",
      " #   Column                 Non-Null Count  Dtype  \n",
      "---  ------                 --------------  -----  \n",
      " 0   title                  7485 non-null   object \n",
      " 1   puNumber               7485 non-null   int32  \n",
      " 2   show_start_date        7485 non-null   object \n",
      " 3   type                   7485 non-null   object \n",
      " 4   film_studio            7467 non-null   object \n",
      " 5   production_country     7483 non-null   object \n",
      " 6   director               7476 non-null   object \n",
      " 7   producer               6917 non-null   object \n",
      " 8   age_restriction        7485 non-null   object \n",
      " 9   refundable_support     332 non-null    float64\n",
      " 10  nonrefundable_support  332 non-null    float64\n",
      " 11  budget                 332 non-null    float64\n",
      " 12  financing_source       332 non-null    object \n",
      " 13  ratings                6519 non-null   object \n",
      " 14  genres                 6510 non-null   object \n",
      " 15  box_office             3158 non-null   float64\n",
      "dtypes: float64(4), int32(1), object(11)\n",
      "memory usage: 964.9+ KB\n"
     ]
    }
   ],
   "source": [
    "data.info()"
   ]
  },
  {
   "cell_type": "markdown",
   "metadata": {},
   "source": [
    "В таблице 16 столбцов.\n",
    "\n",
    "Согласно документации к данным:\n",
    "\n",
    "* `title` — название фильма;\n",
    "* `puNumber` — номер прокатного удостоверения;\n",
    "* `show_start_date` — дата премьеры фильма;\n",
    "* `type` — тип фильма;\n",
    "* `film_studio ` — студия-производитель;\n",
    "* `production_country ` — страна-производитель;\n",
    "* `director` — режиссёр;\n",
    "* `producer` — продюсер;\n",
    "* `age_restriction` — возрастная категория;\n",
    "* `refundable_support` — объём возвратных средств государственной поддержки;\n",
    "* `nonrefundable_support ` — объём невозвратных средств государственной поддержки;\n",
    "* `budget` — источник государственного финансирования;\n",
    "* `financing_source` — общий бюджет фильма;\n",
    "* `ratings` — рейтинг фильма на КиноПоиске;\n",
    "* `genres` — жанр фильма;\n",
    "* `box_office` — сборы в рублях.\n",
    "\n",
    "Типы данных в столбцах целочисленные, вещественные и строковые. \n",
    "В данных есть пропущенные значения. Не все типы данных соответствуют назначению столбцов."
   ]
  },
  {
   "cell_type": "markdown",
   "metadata": {},
   "source": [
    "Так как основная задача проекта исследовать фильмы, которые получили государственную поддержку, создадим отдельный датафрейм, который будет включать только такие фильмы. \n",
    "\n",
    "Данные в столбце `budget` указаны только для тех фильмов, которые получили государственную поддержку."
   ]
  },
  {
   "cell_type": "code",
   "execution_count": 9,
   "metadata": {
    "scrolled": false
   },
   "outputs": [
    {
     "data": {
      "text/html": [
       "<div>\n",
       "<style scoped>\n",
       "    .dataframe tbody tr th:only-of-type {\n",
       "        vertical-align: middle;\n",
       "    }\n",
       "\n",
       "    .dataframe tbody tr th {\n",
       "        vertical-align: top;\n",
       "    }\n",
       "\n",
       "    .dataframe thead th {\n",
       "        text-align: right;\n",
       "    }\n",
       "</style>\n",
       "<table border=\"1\" class=\"dataframe\">\n",
       "  <thead>\n",
       "    <tr style=\"text-align: right;\">\n",
       "      <th></th>\n",
       "      <th>title</th>\n",
       "      <th>puNumber</th>\n",
       "      <th>show_start_date</th>\n",
       "      <th>type</th>\n",
       "      <th>film_studio</th>\n",
       "      <th>production_country</th>\n",
       "      <th>director</th>\n",
       "      <th>producer</th>\n",
       "      <th>age_restriction</th>\n",
       "      <th>refundable_support</th>\n",
       "      <th>nonrefundable_support</th>\n",
       "      <th>budget</th>\n",
       "      <th>financing_source</th>\n",
       "      <th>ratings</th>\n",
       "      <th>genres</th>\n",
       "      <th>box_office</th>\n",
       "    </tr>\n",
       "  </thead>\n",
       "  <tbody>\n",
       "    <tr>\n",
       "      <th>1281</th>\n",
       "      <td>Пока еще жива</td>\n",
       "      <td>111005313</td>\n",
       "      <td>2013-10-11T12:00:00.000Z</td>\n",
       "      <td>Художественный</td>\n",
       "      <td>АНО содействия развитию кинематографии \"Ангел-...</td>\n",
       "      <td>Россия</td>\n",
       "      <td>А.Атанесян</td>\n",
       "      <td>А.Атанесян, М.Бабаханов, Р.Бутко</td>\n",
       "      <td>«16+» - для детей старше 16 лет</td>\n",
       "      <td>0.00</td>\n",
       "      <td>26,500,000.00</td>\n",
       "      <td>79,411,900.00</td>\n",
       "      <td>Министерство культуры</td>\n",
       "      <td>8.1</td>\n",
       "      <td>драма,мелодрама</td>\n",
       "      <td>365,353.60</td>\n",
       "    </tr>\n",
       "    <tr>\n",
       "      <th>1448</th>\n",
       "      <td>Бесславные придурки</td>\n",
       "      <td>111003314</td>\n",
       "      <td>2014-03-28T12:00:00.000Z</td>\n",
       "      <td>Художественный</td>\n",
       "      <td>ООО \"Компания \"АТК-Студио\"</td>\n",
       "      <td>Россия</td>\n",
       "      <td>А.Якимчук</td>\n",
       "      <td>А.Тютрюмов</td>\n",
       "      <td>«12+» - для детей старше 12 лет</td>\n",
       "      <td>0.00</td>\n",
       "      <td>26,000,000.00</td>\n",
       "      <td>37,142,857.00</td>\n",
       "      <td>Министерство культуры</td>\n",
       "      <td>NaN</td>\n",
       "      <td>NaN</td>\n",
       "      <td>28,140.00</td>\n",
       "    </tr>\n",
       "    <tr>\n",
       "      <th>1498</th>\n",
       "      <td>Невидимки</td>\n",
       "      <td>111004213</td>\n",
       "      <td>2013-09-10T12:00:00.000Z</td>\n",
       "      <td>Художественный</td>\n",
       "      <td>ООО \"Компания \"РЕАЛ-ДАКОТА\"</td>\n",
       "      <td>Россия</td>\n",
       "      <td>Р.Давлетьяров, С.Комаров</td>\n",
       "      <td>Р.Давлетьяров, А.Котелевский, А.Олейников</td>\n",
       "      <td>«12+» - для детей старше 12 лет</td>\n",
       "      <td>0.00</td>\n",
       "      <td>107,847,945.00</td>\n",
       "      <td>176,023,490.00</td>\n",
       "      <td>Фонд кино</td>\n",
       "      <td>5.3</td>\n",
       "      <td>комедия,фантастика</td>\n",
       "      <td>19,957,031.50</td>\n",
       "    </tr>\n",
       "    <tr>\n",
       "      <th>1524</th>\n",
       "      <td>БЕРЦЫ</td>\n",
       "      <td>111004314</td>\n",
       "      <td>2014-05-05T12:00:00.000Z</td>\n",
       "      <td>Художественный</td>\n",
       "      <td>ООО \"Студия \"Пассажир\"</td>\n",
       "      <td>Россия</td>\n",
       "      <td>Е.Миндадзе (псевдоним Катя Шагалова)</td>\n",
       "      <td>Л.Антонова</td>\n",
       "      <td>«16+» - для детей старше 16 лет</td>\n",
       "      <td>0.00</td>\n",
       "      <td>28,000,000.00</td>\n",
       "      <td>40,574,140.00</td>\n",
       "      <td>Министерство культуры</td>\n",
       "      <td>4.2</td>\n",
       "      <td>драма</td>\n",
       "      <td>55,917.50</td>\n",
       "    </tr>\n",
       "    <tr>\n",
       "      <th>1792</th>\n",
       "      <td>Братья Ч</td>\n",
       "      <td>111004414</td>\n",
       "      <td>2014-04-23T12:00:00.000Z</td>\n",
       "      <td>Художественный</td>\n",
       "      <td>ООО \"Студия \"Пассажир\"</td>\n",
       "      <td>Россия</td>\n",
       "      <td>М.Угаров</td>\n",
       "      <td>А.Миндадзе, Л.Антонова</td>\n",
       "      <td>«16+» - для детей старше 16 лет</td>\n",
       "      <td>0.00</td>\n",
       "      <td>25,000,000.00</td>\n",
       "      <td>40,015,122.00</td>\n",
       "      <td>Министерство культуры</td>\n",
       "      <td>6.4</td>\n",
       "      <td>драма</td>\n",
       "      <td>232,100.00</td>\n",
       "    </tr>\n",
       "  </tbody>\n",
       "</table>\n",
       "</div>"
      ],
      "text/plain": [
       "                    title   puNumber           show_start_date  \\\n",
       "1281        Пока еще жива  111005313  2013-10-11T12:00:00.000Z   \n",
       "1448  Бесславные придурки  111003314  2014-03-28T12:00:00.000Z   \n",
       "1498            Невидимки  111004213  2013-09-10T12:00:00.000Z   \n",
       "1524                БЕРЦЫ  111004314  2014-05-05T12:00:00.000Z   \n",
       "1792             Братья Ч  111004414  2014-04-23T12:00:00.000Z   \n",
       "\n",
       "                type                                        film_studio  \\\n",
       "1281  Художественный  АНО содействия развитию кинематографии \"Ангел-...   \n",
       "1448  Художественный                         ООО \"Компания \"АТК-Студио\"   \n",
       "1498  Художественный                        ООО \"Компания \"РЕАЛ-ДАКОТА\"   \n",
       "1524  Художественный                             ООО \"Студия \"Пассажир\"   \n",
       "1792  Художественный                             ООО \"Студия \"Пассажир\"   \n",
       "\n",
       "     production_country                              director  \\\n",
       "1281             Россия                            А.Атанесян   \n",
       "1448             Россия                             А.Якимчук   \n",
       "1498             Россия              Р.Давлетьяров, С.Комаров   \n",
       "1524             Россия  Е.Миндадзе (псевдоним Катя Шагалова)   \n",
       "1792             Россия                              М.Угаров   \n",
       "\n",
       "                                       producer  \\\n",
       "1281           А.Атанесян, М.Бабаханов, Р.Бутко   \n",
       "1448                                 А.Тютрюмов   \n",
       "1498  Р.Давлетьяров, А.Котелевский, А.Олейников   \n",
       "1524                                 Л.Антонова   \n",
       "1792                     А.Миндадзе, Л.Антонова   \n",
       "\n",
       "                      age_restriction  refundable_support  \\\n",
       "1281  «16+» - для детей старше 16 лет                0.00   \n",
       "1448  «12+» - для детей старше 12 лет                0.00   \n",
       "1498  «12+» - для детей старше 12 лет                0.00   \n",
       "1524  «16+» - для детей старше 16 лет                0.00   \n",
       "1792  «16+» - для детей старше 16 лет                0.00   \n",
       "\n",
       "      nonrefundable_support         budget       financing_source ratings  \\\n",
       "1281          26,500,000.00  79,411,900.00  Министерство культуры     8.1   \n",
       "1448          26,000,000.00  37,142,857.00  Министерство культуры     NaN   \n",
       "1498         107,847,945.00 176,023,490.00              Фонд кино     5.3   \n",
       "1524          28,000,000.00  40,574,140.00  Министерство культуры     4.2   \n",
       "1792          25,000,000.00  40,015,122.00  Министерство культуры     6.4   \n",
       "\n",
       "                  genres    box_office  \n",
       "1281     драма,мелодрама    365,353.60  \n",
       "1448                 NaN     28,140.00  \n",
       "1498  комедия,фантастика 19,957,031.50  \n",
       "1524               драма     55,917.50  \n",
       "1792               драма    232,100.00  "
      ]
     },
     "execution_count": 9,
     "metadata": {},
     "output_type": "execute_result"
    }
   ],
   "source": [
    "data_support = data[data['budget'].isna() == False]\n",
    "data_support.head()"
   ]
  },
  {
   "cell_type": "markdown",
   "metadata": {},
   "source": [
    "#### Вывод"
   ]
  },
  {
   "cell_type": "markdown",
   "metadata": {},
   "source": [
    "В каждой строке таблицы хранится информация о фильмах, которые выходили в прокат в российских кинотеатрах. Набор данных содержит информацию о прокатных удостоверениях, сборах и государственной поддержке фильмов, а также информацию с сайта КиноПоиск.\n",
    "\n",
    "По первой полученной информации о таблице видно, что в таблице много пропусков и не во всех столбцах подходящий тип данных. Необходимо удостовериться в том, что для анализа фильмов, получивших господдержку, хватает данных для исследования."
   ]
  },
  {
   "cell_type": "markdown",
   "metadata": {
    "id": "KLDGpPG0gFyM"
   },
   "source": [
    "### Шаг 2. Предобработка данных"
   ]
  },
  {
   "cell_type": "markdown",
   "metadata": {
    "id": "ssWwKXsxgFyO"
   },
   "source": [
    "#### Шаг 2.1. Проверьте типы данных\n",
    "\n",
    "- Проверьте типы данных в датафрейме и преобразуйте их там, где это необходимо."
   ]
  },
  {
   "cell_type": "markdown",
   "metadata": {},
   "source": [
    "В столбцах `title`, `puNumber`, `type`, `film_studio`, `production_country`, `director`, `producer`, `age_restriction`, `financing_source`, `genres` содержатся значения соответвующие подходящему типу данных.\n",
    "\n",
    "В столбце `show_start_date` необходимо привести объекты к классу дата."
   ]
  },
  {
   "cell_type": "code",
   "execution_count": 10,
   "metadata": {
    "id": "kVGSplJOgFyO"
   },
   "outputs": [
    {
     "data": {
      "text/plain": [
       "0   2015-11-27\n",
       "1   2016-09-14\n",
       "2   2016-10-10\n",
       "3   2016-06-10\n",
       "4   2015-07-30\n",
       "Name: show_start_date, dtype: datetime64[ns]"
      ]
     },
     "execution_count": 10,
     "metadata": {},
     "output_type": "execute_result"
    }
   ],
   "source": [
    "data['show_start_date'] = pd.to_datetime(data['show_start_date'], format='%Y-%m-%dT%H:%M:%S.000Z')\n",
    "data['show_start_date'] = data['show_start_date'].dt.round('1d')\n",
    "data['show_start_date'].head()"
   ]
  },
  {
   "cell_type": "markdown",
   "metadata": {},
   "source": [
    "В столбце `ratings` необходимо преобразовать тип данных в вещественный. \n",
    "\n",
    "Некоторые значения в столбце выражены в процентах, эти значения необходимо привести к виду большинства значений (выразить в оценке по 10-ти бальной шкале)"
   ]
  },
  {
   "cell_type": "code",
   "execution_count": 11,
   "metadata": {},
   "outputs": [],
   "source": [
    "data['ratings'] = data['ratings'].str.replace('%', '')\n",
    "data['ratings'] = data['ratings'].astype('float')"
   ]
  },
  {
   "cell_type": "code",
   "execution_count": 12,
   "metadata": {},
   "outputs": [
    {
     "data": {
      "text/plain": [
       "Series([], Name: ratings, dtype: float64)"
      ]
     },
     "execution_count": 12,
     "metadata": {},
     "output_type": "execute_result"
    }
   ],
   "source": [
    "data.loc[data['ratings'] > 10, 'ratings'] = data.loc[data['ratings'] > 10, 'ratings'] / 10\n",
    "data.loc[data['ratings'] > 10, 'ratings']"
   ]
  },
  {
   "cell_type": "markdown",
   "metadata": {},
   "source": [
    "В столбцах `refundable_support`, `nonrefundable_suppor`, `budget`, `box_office` желательно преобразовать тип данных в целочисленный. \n",
    "На данном этапе это сделать невозможно, так как в данных столбцах есть пропуски."
   ]
  },
  {
   "cell_type": "markdown",
   "metadata": {
    "id": "i0MOLbF-gFyP"
   },
   "source": [
    "#### Шаг 2.2. Изучите пропуски в датафрейме\n",
    "\n",
    "- Объясните, почему заполнили пропуски определённым образом или почему не стали этого делать."
   ]
  },
  {
   "cell_type": "markdown",
   "metadata": {},
   "source": [
    "В столбцах `title`, `puNumber`, `show_start_date`, `type`, `age_restriction` пропусков нет.\n",
    "\n",
    "В столбцах `film_studio`, `production_country`, `director`, `producer`, `genres` можно заполнить пропуски значением \"Не указано\"."
   ]
  },
  {
   "cell_type": "code",
   "execution_count": 13,
   "metadata": {},
   "outputs": [
    {
     "name": "stdout",
     "output_type": "stream",
     "text": [
      "Пропуски в столбце film_studio до: 18\n",
      "Пропуски в столбце film_studio после: 0\n",
      "Пропуски в столбце production_country до: 2\n",
      "Пропуски в столбце production_country после: 0\n",
      "Пропуски в столбце director до: 9\n",
      "Пропуски в столбце director после: 0\n",
      "Пропуски в столбце producer до: 568\n",
      "Пропуски в столбце producer после: 0\n",
      "Пропуски в столбце genres до: 975\n",
      "Пропуски в столбце genres после: 0\n"
     ]
    }
   ],
   "source": [
    "cols = ['film_studio', 'production_country', 'director', 'producer', 'genres']\n",
    "for col in cols:\n",
    "    print('Пропуски в столбце', col, 'до:', data[col].isna().sum())\n",
    "    data.loc[data[col].isna(), col] = 'Не указано'\n",
    "    print('Пропуски в столбце', col, 'после:', data[col].isna().sum())"
   ]
  },
  {
   "cell_type": "markdown",
   "metadata": {
    "id": "8MJD_lkngFyP"
   },
   "source": [
    "В столбце `ratings` решено оставить пропущенные значения, чтобы не терять остальные данные.\n",
    "\n",
    "В столбце `refundable_support`, `nonrefundable_suppor`, `budget`, `box_office` решено оставить пропущенные значения и вернуться к ним перед началом исследования отдельного датафрейма, содержащего информацию о фильмах, получивших господдержку."
   ]
  },
  {
   "cell_type": "markdown",
   "metadata": {
    "id": "4c6k1t9ygFyQ"
   },
   "source": [
    "#### Шаг 2.3. Изучите дубликаты в датафрейме\n",
    "- Проверьте, есть ли в данных дубликаты. Опишите причины, которые могли повлиять на появление дублей."
   ]
  },
  {
   "cell_type": "markdown",
   "metadata": {},
   "source": [
    "Для начала проверим есть ли в таблице полные дубликаты."
   ]
  },
  {
   "cell_type": "code",
   "execution_count": 14,
   "metadata": {},
   "outputs": [
    {
     "data": {
      "text/plain": [
       "0"
      ]
     },
     "execution_count": 14,
     "metadata": {},
     "output_type": "execute_result"
    }
   ],
   "source": [
    "data.duplicated().sum()"
   ]
  },
  {
   "cell_type": "markdown",
   "metadata": {},
   "source": [
    "Полных дубликатов нет, тогда можно проверить есть ли дублиткаты по названиям фильма и прокатному удостоверению."
   ]
  },
  {
   "cell_type": "code",
   "execution_count": 15,
   "metadata": {},
   "outputs": [
    {
     "data": {
      "text/html": [
       "<div>\n",
       "<style scoped>\n",
       "    .dataframe tbody tr th:only-of-type {\n",
       "        vertical-align: middle;\n",
       "    }\n",
       "\n",
       "    .dataframe tbody tr th {\n",
       "        vertical-align: top;\n",
       "    }\n",
       "\n",
       "    .dataframe thead th {\n",
       "        text-align: right;\n",
       "    }\n",
       "</style>\n",
       "<table border=\"1\" class=\"dataframe\">\n",
       "  <thead>\n",
       "    <tr style=\"text-align: right;\">\n",
       "      <th></th>\n",
       "      <th>title</th>\n",
       "      <th>puNumber</th>\n",
       "      <th>show_start_date</th>\n",
       "      <th>type</th>\n",
       "      <th>film_studio</th>\n",
       "      <th>production_country</th>\n",
       "      <th>director</th>\n",
       "      <th>producer</th>\n",
       "      <th>age_restriction</th>\n",
       "      <th>refundable_support</th>\n",
       "      <th>nonrefundable_support</th>\n",
       "      <th>budget</th>\n",
       "      <th>financing_source</th>\n",
       "      <th>ratings</th>\n",
       "      <th>genres</th>\n",
       "      <th>box_office</th>\n",
       "    </tr>\n",
       "  </thead>\n",
       "  <tbody>\n",
       "    <tr>\n",
       "      <th>2</th>\n",
       "      <td>Особо опасен</td>\n",
       "      <td>221038416</td>\n",
       "      <td>2016-10-10</td>\n",
       "      <td>Художественный</td>\n",
       "      <td>Юниверсал Пикчерз, Кикстарт Продакшнз, Марк Пл...</td>\n",
       "      <td>США</td>\n",
       "      <td>Тимур Бекмамбетов</td>\n",
       "      <td>Джим Лемли, Джейсон Нетер, Марк Е.Платт, Яйн Смит</td>\n",
       "      <td>«18+» - запрещено для детей</td>\n",
       "      <td>nan</td>\n",
       "      <td>nan</td>\n",
       "      <td>nan</td>\n",
       "      <td>NaN</td>\n",
       "      <td>6.80</td>\n",
       "      <td>фантастика,боевик,триллер</td>\n",
       "      <td>nan</td>\n",
       "    </tr>\n",
       "    <tr>\n",
       "      <th>3</th>\n",
       "      <td>Особо опасен</td>\n",
       "      <td>221026916</td>\n",
       "      <td>2016-06-10</td>\n",
       "      <td>Художественный</td>\n",
       "      <td>Юниверсал Пикчерз, Кикстарт Продакшнз, Марк Пл...</td>\n",
       "      <td>США</td>\n",
       "      <td>Тимур Бекмамбетов</td>\n",
       "      <td>Джим Лемли, Джейсон Нетер, Марк Е.Платт, Яйн Смит</td>\n",
       "      <td>«18+» - запрещено для детей</td>\n",
       "      <td>nan</td>\n",
       "      <td>nan</td>\n",
       "      <td>nan</td>\n",
       "      <td>NaN</td>\n",
       "      <td>6.80</td>\n",
       "      <td>фантастика,боевик,триллер</td>\n",
       "      <td>nan</td>\n",
       "    </tr>\n",
       "    <tr>\n",
       "      <th>4</th>\n",
       "      <td>Особо опасен</td>\n",
       "      <td>221030815</td>\n",
       "      <td>2015-07-30</td>\n",
       "      <td>Художественный</td>\n",
       "      <td>Юниверсал Пикчерз, Кикстарт Продакшнз, Марк Пл...</td>\n",
       "      <td>США</td>\n",
       "      <td>Тимур Бекмамбетов</td>\n",
       "      <td>Джим Лемли, Джейсон Нетер, Марк Е.Платт, Яйн Смит</td>\n",
       "      <td>«18+» - запрещено для детей</td>\n",
       "      <td>nan</td>\n",
       "      <td>nan</td>\n",
       "      <td>nan</td>\n",
       "      <td>NaN</td>\n",
       "      <td>6.80</td>\n",
       "      <td>фантастика,боевик,триллер</td>\n",
       "      <td>nan</td>\n",
       "    </tr>\n",
       "    <tr>\n",
       "      <th>12</th>\n",
       "      <td>Малышка на миллион /По мотивам рассказов Ф.Х.Т...</td>\n",
       "      <td>221011415</td>\n",
       "      <td>2015-04-03</td>\n",
       "      <td>Художественный</td>\n",
       "      <td>Уорнер Бразерс, Лейкшор Интертейнмент, Малпасо...</td>\n",
       "      <td>США</td>\n",
       "      <td>Клинт Иствуд</td>\n",
       "      <td>Клинт Иствуд, Том Розенберг, Альберт С.Рудди, ...</td>\n",
       "      <td>«16+» - для детей старше 16 лет</td>\n",
       "      <td>nan</td>\n",
       "      <td>nan</td>\n",
       "      <td>nan</td>\n",
       "      <td>NaN</td>\n",
       "      <td>8.10</td>\n",
       "      <td>драма,спорт</td>\n",
       "      <td>nan</td>\n",
       "    </tr>\n",
       "    <tr>\n",
       "      <th>26</th>\n",
       "      <td>Оружейный барон</td>\n",
       "      <td>221012515</td>\n",
       "      <td>2015-04-03</td>\n",
       "      <td>Художественный</td>\n",
       "      <td>Вэ И Пэ Медиенфондс 3, Асендант Пикчерз, Сатур...</td>\n",
       "      <td>США - Франция - Турция</td>\n",
       "      <td>Эндрю Никкол</td>\n",
       "      <td>Норман Голуайтли, Энди Грош, Николас Кейдж, Эн...</td>\n",
       "      <td>«18+» - запрещено для детей</td>\n",
       "      <td>nan</td>\n",
       "      <td>nan</td>\n",
       "      <td>nan</td>\n",
       "      <td>NaN</td>\n",
       "      <td>7.70</td>\n",
       "      <td>боевик,драма,криминал</td>\n",
       "      <td>nan</td>\n",
       "    </tr>\n",
       "    <tr>\n",
       "      <th>...</th>\n",
       "      <td>...</td>\n",
       "      <td>...</td>\n",
       "      <td>...</td>\n",
       "      <td>...</td>\n",
       "      <td>...</td>\n",
       "      <td>...</td>\n",
       "      <td>...</td>\n",
       "      <td>...</td>\n",
       "      <td>...</td>\n",
       "      <td>...</td>\n",
       "      <td>...</td>\n",
       "      <td>...</td>\n",
       "      <td>...</td>\n",
       "      <td>...</td>\n",
       "      <td>...</td>\n",
       "      <td>...</td>\n",
       "    </tr>\n",
       "    <tr>\n",
       "      <th>7368</th>\n",
       "      <td>Невиновен</td>\n",
       "      <td>111019319</td>\n",
       "      <td>2019-11-08</td>\n",
       "      <td>Художественный</td>\n",
       "      <td>ООО \"Кавказфильм\"</td>\n",
       "      <td>Россия</td>\n",
       "      <td>А.Емкужев</td>\n",
       "      <td>А.Емкужев, А.Хуажева, ООО \"Корпорация Русская ...</td>\n",
       "      <td>«16+» - для детей старше 16 лет</td>\n",
       "      <td>nan</td>\n",
       "      <td>nan</td>\n",
       "      <td>nan</td>\n",
       "      <td>NaN</td>\n",
       "      <td>7.50</td>\n",
       "      <td>триллер,детектив,криминал</td>\n",
       "      <td>nan</td>\n",
       "    </tr>\n",
       "    <tr>\n",
       "      <th>7415</th>\n",
       "      <td>Отель \"Гранд Будапешт\"</td>\n",
       "      <td>121035119</td>\n",
       "      <td>2019-12-14</td>\n",
       "      <td>Художественный</td>\n",
       "      <td>Американ Эмпирикал, Индиан Пэинтбраш, Скотт Ру...</td>\n",
       "      <td>Германия, США</td>\n",
       "      <td>Уэс Андерсен</td>\n",
       "      <td>Уэс Андерсон, Джереми Доусон, Стивен Рейлс</td>\n",
       "      <td>«16+» - для детей старше 16 лет</td>\n",
       "      <td>nan</td>\n",
       "      <td>nan</td>\n",
       "      <td>nan</td>\n",
       "      <td>NaN</td>\n",
       "      <td>7.90</td>\n",
       "      <td>комедия,приключения,детектив</td>\n",
       "      <td>nan</td>\n",
       "    </tr>\n",
       "    <tr>\n",
       "      <th>7437</th>\n",
       "      <td>Зверь</td>\n",
       "      <td>121035919</td>\n",
       "      <td>2019-12-06</td>\n",
       "      <td>Художественный</td>\n",
       "      <td>Студио энд Нью</td>\n",
       "      <td>Южная Корея</td>\n",
       "      <td>Ли Джон-хо</td>\n",
       "      <td>Чан Гён-ик, Чон Джи-хун, Пэк Кён сук</td>\n",
       "      <td>«18+» - запрещено для детей</td>\n",
       "      <td>nan</td>\n",
       "      <td>nan</td>\n",
       "      <td>nan</td>\n",
       "      <td>NaN</td>\n",
       "      <td>6.50</td>\n",
       "      <td>триллер,драма</td>\n",
       "      <td>175,003.51</td>\n",
       "    </tr>\n",
       "    <tr>\n",
       "      <th>7449</th>\n",
       "      <td>В тихом омуте</td>\n",
       "      <td>121036919</td>\n",
       "      <td>2019-12-10</td>\n",
       "      <td>Художественный</td>\n",
       "      <td>Хэд Гир Филмз, Крео Филмз, Локал Хироу, Метрол...</td>\n",
       "      <td>США</td>\n",
       "      <td>Адам Рэндолл</td>\n",
       "      <td>Мэтт Уолдек</td>\n",
       "      <td>«18+» - запрещено для детей</td>\n",
       "      <td>nan</td>\n",
       "      <td>nan</td>\n",
       "      <td>nan</td>\n",
       "      <td>NaN</td>\n",
       "      <td>6.80</td>\n",
       "      <td>триллер,криминал,детектив</td>\n",
       "      <td>nan</td>\n",
       "    </tr>\n",
       "    <tr>\n",
       "      <th>7473</th>\n",
       "      <td>Вторжение</td>\n",
       "      <td>111022519</td>\n",
       "      <td>2019-12-24</td>\n",
       "      <td>Художественный</td>\n",
       "      <td>ООО \"Арт Пикчерс Студия\", ООО \"Водород 2011\"</td>\n",
       "      <td>Россия</td>\n",
       "      <td>Ф.Бондарчук</td>\n",
       "      <td>Ф.Бондарчук, М.Врубель, А.Андрющенко, Д.Рудовский</td>\n",
       "      <td>«12+» - для детей старше 12 лет</td>\n",
       "      <td>100,000,000.00</td>\n",
       "      <td>400,000,000.00</td>\n",
       "      <td>944,000,000.00</td>\n",
       "      <td>Фонд кино</td>\n",
       "      <td>5.70</td>\n",
       "      <td>фантастика,боевик</td>\n",
       "      <td>nan</td>\n",
       "    </tr>\n",
       "  </tbody>\n",
       "</table>\n",
       "<p>1272 rows × 16 columns</p>\n",
       "</div>"
      ],
      "text/plain": [
       "                                                  title   puNumber  \\\n",
       "2                                          Особо опасен  221038416   \n",
       "3                                          Особо опасен  221026916   \n",
       "4                                          Особо опасен  221030815   \n",
       "12    Малышка на миллион /По мотивам рассказов Ф.Х.Т...  221011415   \n",
       "26                                      Оружейный барон  221012515   \n",
       "...                                                 ...        ...   \n",
       "7368                                          Невиновен  111019319   \n",
       "7415                             Отель \"Гранд Будапешт\"  121035119   \n",
       "7437                                              Зверь  121035919   \n",
       "7449                                      В тихом омуте  121036919   \n",
       "7473                                          Вторжение  111022519   \n",
       "\n",
       "     show_start_date             type  \\\n",
       "2         2016-10-10   Художественный   \n",
       "3         2016-06-10   Художественный   \n",
       "4         2015-07-30   Художественный   \n",
       "12        2015-04-03   Художественный   \n",
       "26        2015-04-03   Художественный   \n",
       "...              ...              ...   \n",
       "7368      2019-11-08   Художественный   \n",
       "7415      2019-12-14   Художественный   \n",
       "7437      2019-12-06   Художественный   \n",
       "7449      2019-12-10   Художественный   \n",
       "7473      2019-12-24   Художественный   \n",
       "\n",
       "                                            film_studio  \\\n",
       "2     Юниверсал Пикчерз, Кикстарт Продакшнз, Марк Пл...   \n",
       "3     Юниверсал Пикчерз, Кикстарт Продакшнз, Марк Пл...   \n",
       "4     Юниверсал Пикчерз, Кикстарт Продакшнз, Марк Пл...   \n",
       "12    Уорнер Бразерс, Лейкшор Интертейнмент, Малпасо...   \n",
       "26    Вэ И Пэ Медиенфондс 3, Асендант Пикчерз, Сатур...   \n",
       "...                                                 ...   \n",
       "7368                                  ООО \"Кавказфильм\"   \n",
       "7415  Американ Эмпирикал, Индиан Пэинтбраш, Скотт Ру...   \n",
       "7437                                     Студио энд Нью   \n",
       "7449  Хэд Гир Филмз, Крео Филмз, Локал Хироу, Метрол...   \n",
       "7473       ООО \"Арт Пикчерс Студия\", ООО \"Водород 2011\"   \n",
       "\n",
       "          production_country           director  \\\n",
       "2                        США  Тимур Бекмамбетов   \n",
       "3                        США  Тимур Бекмамбетов   \n",
       "4                        США  Тимур Бекмамбетов   \n",
       "12                       США       Клинт Иствуд   \n",
       "26    США - Франция - Турция       Эндрю Никкол   \n",
       "...                      ...                ...   \n",
       "7368                  Россия          А.Емкужев   \n",
       "7415           Германия, США       Уэс Андерсен   \n",
       "7437             Южная Корея         Ли Джон-хо   \n",
       "7449                     США       Адам Рэндолл   \n",
       "7473                  Россия        Ф.Бондарчук   \n",
       "\n",
       "                                               producer  \\\n",
       "2     Джим Лемли, Джейсон Нетер, Марк Е.Платт, Яйн Смит   \n",
       "3     Джим Лемли, Джейсон Нетер, Марк Е.Платт, Яйн Смит   \n",
       "4     Джим Лемли, Джейсон Нетер, Марк Е.Платт, Яйн Смит   \n",
       "12    Клинт Иствуд, Том Розенберг, Альберт С.Рудди, ...   \n",
       "26    Норман Голуайтли, Энди Грош, Николас Кейдж, Эн...   \n",
       "...                                                 ...   \n",
       "7368  А.Емкужев, А.Хуажева, ООО \"Корпорация Русская ...   \n",
       "7415         Уэс Андерсон, Джереми Доусон, Стивен Рейлс   \n",
       "7437               Чан Гён-ик, Чон Джи-хун, Пэк Кён сук   \n",
       "7449                                        Мэтт Уолдек   \n",
       "7473  Ф.Бондарчук, М.Врубель, А.Андрющенко, Д.Рудовский   \n",
       "\n",
       "                      age_restriction  refundable_support  \\\n",
       "2         «18+» - запрещено для детей                 nan   \n",
       "3         «18+» - запрещено для детей                 nan   \n",
       "4         «18+» - запрещено для детей                 nan   \n",
       "12    «16+» - для детей старше 16 лет                 nan   \n",
       "26        «18+» - запрещено для детей                 nan   \n",
       "...                               ...                 ...   \n",
       "7368  «16+» - для детей старше 16 лет                 nan   \n",
       "7415  «16+» - для детей старше 16 лет                 nan   \n",
       "7437      «18+» - запрещено для детей                 nan   \n",
       "7449      «18+» - запрещено для детей                 nan   \n",
       "7473  «12+» - для детей старше 12 лет      100,000,000.00   \n",
       "\n",
       "      nonrefundable_support         budget financing_source  ratings  \\\n",
       "2                       nan            nan              NaN     6.80   \n",
       "3                       nan            nan              NaN     6.80   \n",
       "4                       nan            nan              NaN     6.80   \n",
       "12                      nan            nan              NaN     8.10   \n",
       "26                      nan            nan              NaN     7.70   \n",
       "...                     ...            ...              ...      ...   \n",
       "7368                    nan            nan              NaN     7.50   \n",
       "7415                    nan            nan              NaN     7.90   \n",
       "7437                    nan            nan              NaN     6.50   \n",
       "7449                    nan            nan              NaN     6.80   \n",
       "7473         400,000,000.00 944,000,000.00        Фонд кино     5.70   \n",
       "\n",
       "                            genres  box_office  \n",
       "2        фантастика,боевик,триллер         nan  \n",
       "3        фантастика,боевик,триллер         nan  \n",
       "4        фантастика,боевик,триллер         nan  \n",
       "12                     драма,спорт         nan  \n",
       "26           боевик,драма,криминал         nan  \n",
       "...                            ...         ...  \n",
       "7368     триллер,детектив,криминал         nan  \n",
       "7415  комедия,приключения,детектив         nan  \n",
       "7437                 триллер,драма  175,003.51  \n",
       "7449     триллер,криминал,детектив         nan  \n",
       "7473             фантастика,боевик         nan  \n",
       "\n",
       "[1272 rows x 16 columns]"
      ]
     },
     "execution_count": 15,
     "metadata": {},
     "output_type": "execute_result"
    }
   ],
   "source": [
    "data[data.duplicated(subset='title', keep=False)]"
   ]
  },
  {
   "cell_type": "markdown",
   "metadata": {},
   "source": [
    "Дубликатов по названию фильмов довольно много, но это могут быть ремейки и если у них отличаются прокатные удостоверения, то вероятно они выходили в разных сетях, поэтому однозначно считать их дубликатами нельзя."
   ]
  },
  {
   "cell_type": "markdown",
   "metadata": {},
   "source": [
    "Проверим на аналогичные дубликаты фильмы, получившие господдержку, так как недочеты в этих данных важнее для исследования."
   ]
  },
  {
   "cell_type": "markdown",
   "metadata": {},
   "source": [
    "В этом датафрейме таких дубликатов нет."
   ]
  },
  {
   "cell_type": "code",
   "execution_count": 16,
   "metadata": {},
   "outputs": [
    {
     "data": {
      "text/html": [
       "<div>\n",
       "<style scoped>\n",
       "    .dataframe tbody tr th:only-of-type {\n",
       "        vertical-align: middle;\n",
       "    }\n",
       "\n",
       "    .dataframe tbody tr th {\n",
       "        vertical-align: top;\n",
       "    }\n",
       "\n",
       "    .dataframe thead th {\n",
       "        text-align: right;\n",
       "    }\n",
       "</style>\n",
       "<table border=\"1\" class=\"dataframe\">\n",
       "  <thead>\n",
       "    <tr style=\"text-align: right;\">\n",
       "      <th></th>\n",
       "      <th>title</th>\n",
       "      <th>puNumber</th>\n",
       "      <th>show_start_date</th>\n",
       "      <th>type</th>\n",
       "      <th>film_studio</th>\n",
       "      <th>production_country</th>\n",
       "      <th>director</th>\n",
       "      <th>producer</th>\n",
       "      <th>age_restriction</th>\n",
       "      <th>refundable_support</th>\n",
       "      <th>nonrefundable_support</th>\n",
       "      <th>budget</th>\n",
       "      <th>financing_source</th>\n",
       "      <th>ratings</th>\n",
       "      <th>genres</th>\n",
       "      <th>box_office</th>\n",
       "    </tr>\n",
       "  </thead>\n",
       "  <tbody>\n",
       "  </tbody>\n",
       "</table>\n",
       "</div>"
      ],
      "text/plain": [
       "Empty DataFrame\n",
       "Columns: [title, puNumber, show_start_date, type, film_studio, production_country, director, producer, age_restriction, refundable_support, nonrefundable_support, budget, financing_source, ratings, genres, box_office]\n",
       "Index: []"
      ]
     },
     "execution_count": 16,
     "metadata": {},
     "output_type": "execute_result"
    }
   ],
   "source": [
    "data_support[data_support.duplicated(subset='title', keep=False)]"
   ]
  },
  {
   "cell_type": "code",
   "execution_count": 17,
   "metadata": {
    "id": "aKck8RIdgFyQ"
   },
   "outputs": [
    {
     "data": {
      "text/html": [
       "<div>\n",
       "<style scoped>\n",
       "    .dataframe tbody tr th:only-of-type {\n",
       "        vertical-align: middle;\n",
       "    }\n",
       "\n",
       "    .dataframe tbody tr th {\n",
       "        vertical-align: top;\n",
       "    }\n",
       "\n",
       "    .dataframe thead th {\n",
       "        text-align: right;\n",
       "    }\n",
       "</style>\n",
       "<table border=\"1\" class=\"dataframe\">\n",
       "  <thead>\n",
       "    <tr style=\"text-align: right;\">\n",
       "      <th></th>\n",
       "      <th>title</th>\n",
       "      <th>puNumber</th>\n",
       "      <th>show_start_date</th>\n",
       "      <th>type</th>\n",
       "      <th>film_studio</th>\n",
       "      <th>production_country</th>\n",
       "      <th>director</th>\n",
       "      <th>producer</th>\n",
       "      <th>age_restriction</th>\n",
       "      <th>refundable_support</th>\n",
       "      <th>nonrefundable_support</th>\n",
       "      <th>budget</th>\n",
       "      <th>financing_source</th>\n",
       "      <th>ratings</th>\n",
       "      <th>genres</th>\n",
       "      <th>box_office</th>\n",
       "    </tr>\n",
       "  </thead>\n",
       "  <tbody>\n",
       "    <tr>\n",
       "      <th>4637</th>\n",
       "      <td>Как жениться и остаться холостым</td>\n",
       "      <td>221154310</td>\n",
       "      <td>2010-12-17</td>\n",
       "      <td>Художественный</td>\n",
       "      <td>Ше Вам, Скрипт Ассосье, Тэ Фэ 1 Фильм Продюксь...</td>\n",
       "      <td>Франция</td>\n",
       "      <td>Эрик Лартиго</td>\n",
       "      <td>Амандин Било, Алан Шаба</td>\n",
       "      <td>«16+» - для детей старше 16 лет</td>\n",
       "      <td>nan</td>\n",
       "      <td>nan</td>\n",
       "      <td>nan</td>\n",
       "      <td>NaN</td>\n",
       "      <td>7.00</td>\n",
       "      <td>мелодрама,комедия</td>\n",
       "      <td>nan</td>\n",
       "    </tr>\n",
       "    <tr>\n",
       "      <th>4638</th>\n",
       "      <td>Иоанна - женщина на папском престоле /По роман...</td>\n",
       "      <td>221154310</td>\n",
       "      <td>2010-12-17</td>\n",
       "      <td>Художественный</td>\n",
       "      <td>Константин Фильм, А Эр Ди Дегето Фильм, Дюне ...</td>\n",
       "      <td>Германия - Великобритания - Италия - Испания</td>\n",
       "      <td>Зенке Вортманн</td>\n",
       "      <td>Оливер Бербен, Дорис Д.Хайнце, Фарук Элтан</td>\n",
       "      <td>«16+» - для детей старше 16 лет</td>\n",
       "      <td>nan</td>\n",
       "      <td>nan</td>\n",
       "      <td>nan</td>\n",
       "      <td>NaN</td>\n",
       "      <td>7.60</td>\n",
       "      <td>драма,мелодрама,история</td>\n",
       "      <td>nan</td>\n",
       "    </tr>\n",
       "    <tr>\n",
       "      <th>5066</th>\n",
       "      <td>Анализируй это!</td>\n",
       "      <td>221054410</td>\n",
       "      <td>2010-05-25</td>\n",
       "      <td>Художественный</td>\n",
       "      <td>Уорнер Бразерс, Вилладж Роудшоу Филмз ЛТД</td>\n",
       "      <td>США-Австралия</td>\n",
       "      <td>ХЭрольд Рэмис</td>\n",
       "      <td>Джейн Розенталь, Пола Уейнстейн</td>\n",
       "      <td>«16+» - для детей старше 16 лет</td>\n",
       "      <td>nan</td>\n",
       "      <td>nan</td>\n",
       "      <td>nan</td>\n",
       "      <td>NaN</td>\n",
       "      <td>7.40</td>\n",
       "      <td>комедия,криминал</td>\n",
       "      <td>nan</td>\n",
       "    </tr>\n",
       "    <tr>\n",
       "      <th>5067</th>\n",
       "      <td>Анализируй то!</td>\n",
       "      <td>221054410</td>\n",
       "      <td>2010-05-25</td>\n",
       "      <td>Художественный</td>\n",
       "      <td>Уорнер Бразерс, Виллидж Роадшоу Пикчерз, Эн-Пи...</td>\n",
       "      <td>США</td>\n",
       "      <td>Гарольд Реймис</td>\n",
       "      <td>Джейн Розенталь, Паул Уэйнстейн</td>\n",
       "      <td>«12+» - для детей старше 12 лет</td>\n",
       "      <td>nan</td>\n",
       "      <td>nan</td>\n",
       "      <td>nan</td>\n",
       "      <td>NaN</td>\n",
       "      <td>6.80</td>\n",
       "      <td>комедия,криминал</td>\n",
       "      <td>nan</td>\n",
       "    </tr>\n",
       "  </tbody>\n",
       "</table>\n",
       "</div>"
      ],
      "text/plain": [
       "                                                  title   puNumber  \\\n",
       "4637                   Как жениться и остаться холостым  221154310   \n",
       "4638  Иоанна - женщина на папском престоле /По роман...  221154310   \n",
       "5066                                    Анализируй это!  221054410   \n",
       "5067                                     Анализируй то!  221054410   \n",
       "\n",
       "     show_start_date            type  \\\n",
       "4637      2010-12-17  Художественный   \n",
       "4638      2010-12-17  Художественный   \n",
       "5066      2010-05-25  Художественный   \n",
       "5067      2010-05-25  Художественный   \n",
       "\n",
       "                                            film_studio  \\\n",
       "4637  Ше Вам, Скрипт Ассосье, Тэ Фэ 1 Фильм Продюксь...   \n",
       "4638   Константин Фильм, А Эр Ди Дегето Фильм, Дюне ...   \n",
       "5066          Уорнер Бразерс, Вилладж Роудшоу Филмз ЛТД   \n",
       "5067  Уорнер Бразерс, Виллидж Роадшоу Пикчерз, Эн-Пи...   \n",
       "\n",
       "                                production_country        director  \\\n",
       "4637                                       Франция    Эрик Лартиго   \n",
       "4638  Германия - Великобритания - Италия - Испания  Зенке Вортманн   \n",
       "5066                                 США-Австралия   ХЭрольд Рэмис   \n",
       "5067                                           США  Гарольд Реймис   \n",
       "\n",
       "                                        producer  \\\n",
       "4637                     Амандин Било, Алан Шаба   \n",
       "4638  Оливер Бербен, Дорис Д.Хайнце, Фарук Элтан   \n",
       "5066             Джейн Розенталь, Пола Уейнстейн   \n",
       "5067             Джейн Розенталь, Паул Уэйнстейн   \n",
       "\n",
       "                      age_restriction  refundable_support  \\\n",
       "4637  «16+» - для детей старше 16 лет                 nan   \n",
       "4638  «16+» - для детей старше 16 лет                 nan   \n",
       "5066  «16+» - для детей старше 16 лет                 nan   \n",
       "5067  «12+» - для детей старше 12 лет                 nan   \n",
       "\n",
       "      nonrefundable_support  budget financing_source  ratings  \\\n",
       "4637                    nan     nan              NaN     7.00   \n",
       "4638                    nan     nan              NaN     7.60   \n",
       "5066                    nan     nan              NaN     7.40   \n",
       "5067                    nan     nan              NaN     6.80   \n",
       "\n",
       "                       genres  box_office  \n",
       "4637        мелодрама,комедия         nan  \n",
       "4638  драма,мелодрама,история         nan  \n",
       "5066         комедия,криминал         nan  \n",
       "5067         комедия,криминал         nan  "
      ]
     },
     "execution_count": 17,
     "metadata": {},
     "output_type": "execute_result"
    }
   ],
   "source": [
    "data[data.duplicated(subset='puNumber', keep=False)]"
   ]
  },
  {
   "cell_type": "markdown",
   "metadata": {},
   "source": [
    "Дубликатов по прокатному удостоверению всего 4, возможно дубликаты прокатных удостоверений появились из-за одинаковых дат выхода в прокат. Удалим эти дубликаты."
   ]
  },
  {
   "cell_type": "code",
   "execution_count": 18,
   "metadata": {},
   "outputs": [
    {
     "data": {
      "text/html": [
       "<div>\n",
       "<style scoped>\n",
       "    .dataframe tbody tr th:only-of-type {\n",
       "        vertical-align: middle;\n",
       "    }\n",
       "\n",
       "    .dataframe tbody tr th {\n",
       "        vertical-align: top;\n",
       "    }\n",
       "\n",
       "    .dataframe thead th {\n",
       "        text-align: right;\n",
       "    }\n",
       "</style>\n",
       "<table border=\"1\" class=\"dataframe\">\n",
       "  <thead>\n",
       "    <tr style=\"text-align: right;\">\n",
       "      <th></th>\n",
       "      <th>title</th>\n",
       "      <th>puNumber</th>\n",
       "      <th>show_start_date</th>\n",
       "      <th>type</th>\n",
       "      <th>film_studio</th>\n",
       "      <th>production_country</th>\n",
       "      <th>director</th>\n",
       "      <th>producer</th>\n",
       "      <th>age_restriction</th>\n",
       "      <th>refundable_support</th>\n",
       "      <th>nonrefundable_support</th>\n",
       "      <th>budget</th>\n",
       "      <th>financing_source</th>\n",
       "      <th>ratings</th>\n",
       "      <th>genres</th>\n",
       "      <th>box_office</th>\n",
       "    </tr>\n",
       "  </thead>\n",
       "  <tbody>\n",
       "  </tbody>\n",
       "</table>\n",
       "</div>"
      ],
      "text/plain": [
       "Empty DataFrame\n",
       "Columns: [title, puNumber, show_start_date, type, film_studio, production_country, director, producer, age_restriction, refundable_support, nonrefundable_support, budget, financing_source, ratings, genres, box_office]\n",
       "Index: []"
      ]
     },
     "execution_count": 18,
     "metadata": {},
     "output_type": "execute_result"
    }
   ],
   "source": [
    "data = data.drop_duplicates(subset='puNumber', keep=False)\n",
    "data[data.duplicated(subset='puNumber', keep=False)]"
   ]
  },
  {
   "cell_type": "markdown",
   "metadata": {
    "id": "52fOPrEBgFyQ"
   },
   "source": [
    "#### Шаг 2.4. Изучите категориальные значения\n",
    "\n",
    "- Посмотрите, какая общая проблема встречается почти во всех категориальных столбцах;\n",
    "- Исправьте проблемные значения в поле `type`.\n",
    "\n",
    "<div id=\"accordion\">\n",
    "    <div class=\"card\">\n",
    "        <div class=\"card-header\" id=\"headingThree\">\n",
    "            <button class=\"btn btn-link collapsed\" data-toggle=\"collapse\" data-target=\"#collapseHint_1\" aria-expanded=\"false\" aria-controls=\"collapseHint_1\">Подсказка</button>\n",
    "        </div>\n",
    "        <div id=\"collapseHint_1\" class=\"collapse\" aria-labelledby=\"headingThree\" data-parent=\"#accordion\">\n",
    "            <div class=\"card-body\">\n",
    "В поле <code>type</code> есть несколько значений, у которых появился пробел в начале строки. Самый простой способ их «починить» -- использовать метод <a href=\"https://pandas.pydata.org/docs/reference/api/pandas.Series.str.strip.html#pandas.Series.str.strip\">.str.strip</a>. Этот метод удаляет все пробелы, которые встречаются в начале и в конце строки. Применяют его таким образом:<br>\n",
    "<code>df['type'].str.strip()</code>\n",
    "            </div>\n",
    "        </div>\n",
    "    </div>\n",
    "</div>"
   ]
  },
  {
   "cell_type": "markdown",
   "metadata": {},
   "source": [
    "Проверим категории в столбцах `type` и `age_restriction`."
   ]
  },
  {
   "cell_type": "code",
   "execution_count": 19,
   "metadata": {
    "id": "PnXKIVdFgFyR"
   },
   "outputs": [
    {
     "data": {
      "text/plain": [
       "Художественный                4515\n",
       " Художественный               1389\n",
       "Анимационный                   828\n",
       "Прочие                         406\n",
       "Документальный                 288\n",
       "Научно-популярный               53\n",
       " Анимационный                    1\n",
       "Музыкально-развлекательный       1\n",
       "Name: type, dtype: int64"
      ]
     },
     "execution_count": 19,
     "metadata": {},
     "output_type": "execute_result"
    }
   ],
   "source": [
    "data['type'].value_counts()"
   ]
  },
  {
   "cell_type": "markdown",
   "metadata": {},
   "source": [
    "В столбце `type` в двух категориях есть дубликаты, содержащие пробел в начале слова. Уберем этот пробел."
   ]
  },
  {
   "cell_type": "code",
   "execution_count": 20,
   "metadata": {},
   "outputs": [
    {
     "data": {
      "text/plain": [
       "Художественный                5904\n",
       "Анимационный                   829\n",
       "Прочие                         406\n",
       "Документальный                 288\n",
       "Научно-популярный               53\n",
       "Музыкально-развлекательный       1\n",
       "Name: type, dtype: int64"
      ]
     },
     "execution_count": 20,
     "metadata": {},
     "output_type": "execute_result"
    }
   ],
   "source": [
    "#data['type'] = data['type'].str.replace(' Художественный', 'Художественный').replace(' Анимационный', 'Анимационный')\n",
    "data['type'] = data['type'].str.strip()\n",
    "data['type'].value_counts()"
   ]
  },
  {
   "cell_type": "code",
   "execution_count": 21,
   "metadata": {},
   "outputs": [
    {
     "data": {
      "text/plain": [
       "«16+» - для детей старше 16 лет           2848\n",
       "«18+» - запрещено для детей               1605\n",
       "«12+» - для детей старше 12 лет           1591\n",
       "«0+» - для любой зрительской аудитории     811\n",
       "«6+» - для детей старше 6 лет              626\n",
       "Name: age_restriction, dtype: int64"
      ]
     },
     "execution_count": 21,
     "metadata": {},
     "output_type": "execute_result"
    }
   ],
   "source": [
    "data['age_restriction'].value_counts()"
   ]
  },
  {
   "cell_type": "markdown",
   "metadata": {},
   "source": [
    "В столбце `age_restriction` с категориями всё в порядке."
   ]
  },
  {
   "cell_type": "code",
   "execution_count": 22,
   "metadata": {},
   "outputs": [
    {
     "data": {
      "text/html": [
       "<div>\n",
       "<style scoped>\n",
       "    .dataframe tbody tr th:only-of-type {\n",
       "        vertical-align: middle;\n",
       "    }\n",
       "\n",
       "    .dataframe tbody tr th {\n",
       "        vertical-align: top;\n",
       "    }\n",
       "\n",
       "    .dataframe thead th {\n",
       "        text-align: right;\n",
       "    }\n",
       "</style>\n",
       "<table border=\"1\" class=\"dataframe\">\n",
       "  <thead>\n",
       "    <tr style=\"text-align: right;\">\n",
       "      <th></th>\n",
       "      <th>title</th>\n",
       "      <th>puNumber</th>\n",
       "      <th>show_start_date</th>\n",
       "      <th>type</th>\n",
       "      <th>film_studio</th>\n",
       "      <th>production_country</th>\n",
       "      <th>director</th>\n",
       "      <th>producer</th>\n",
       "      <th>age_restriction</th>\n",
       "      <th>refundable_support</th>\n",
       "      <th>nonrefundable_support</th>\n",
       "      <th>budget</th>\n",
       "      <th>financing_source</th>\n",
       "      <th>ratings</th>\n",
       "      <th>genres</th>\n",
       "      <th>box_office</th>\n",
       "    </tr>\n",
       "  </thead>\n",
       "  <tbody>\n",
       "    <tr>\n",
       "      <th>0</th>\n",
       "      <td>Открытый простор</td>\n",
       "      <td>221048915</td>\n",
       "      <td>2015-11-27</td>\n",
       "      <td>Художественный</td>\n",
       "      <td>Тачстоун Пикчерз, Кобальт Пикчерз, Бикон Пикче...</td>\n",
       "      <td>США</td>\n",
       "      <td>Кевин Костнер</td>\n",
       "      <td>Дэвид Валдес, Кевин Костнер, Джейк Эбертс</td>\n",
       "      <td>«18+» - запрещено для детей</td>\n",
       "      <td>nan</td>\n",
       "      <td>nan</td>\n",
       "      <td>nan</td>\n",
       "      <td>NaN</td>\n",
       "      <td>7.20</td>\n",
       "      <td>боевик,драма,мелодрама</td>\n",
       "      <td>nan</td>\n",
       "    </tr>\n",
       "    <tr>\n",
       "      <th>1</th>\n",
       "      <td>Особо важное задание</td>\n",
       "      <td>111013716</td>\n",
       "      <td>2016-09-14</td>\n",
       "      <td>Художественный</td>\n",
       "      <td>Киностудия \"Мосфильм\"</td>\n",
       "      <td>СССР</td>\n",
       "      <td>Е.Матвеев</td>\n",
       "      <td>Не указано</td>\n",
       "      <td>«6+» - для детей старше 6 лет</td>\n",
       "      <td>nan</td>\n",
       "      <td>nan</td>\n",
       "      <td>nan</td>\n",
       "      <td>NaN</td>\n",
       "      <td>6.60</td>\n",
       "      <td>драма,военный</td>\n",
       "      <td>nan</td>\n",
       "    </tr>\n",
       "  </tbody>\n",
       "</table>\n",
       "</div>"
      ],
      "text/plain": [
       "                  title   puNumber show_start_date            type  \\\n",
       "0      Открытый простор  221048915      2015-11-27  Художественный   \n",
       "1  Особо важное задание  111013716      2016-09-14  Художественный   \n",
       "\n",
       "                                         film_studio production_country  \\\n",
       "0  Тачстоун Пикчерз, Кобальт Пикчерз, Бикон Пикче...                США   \n",
       "1                              Киностудия \"Мосфильм\"               СССР   \n",
       "\n",
       "        director                                   producer  \\\n",
       "0  Кевин Костнер  Дэвид Валдес, Кевин Костнер, Джейк Эбертс   \n",
       "1      Е.Матвеев                                 Не указано   \n",
       "\n",
       "                 age_restriction  refundable_support  nonrefundable_support  \\\n",
       "0    «18+» - запрещено для детей                 nan                    nan   \n",
       "1  «6+» - для детей старше 6 лет                 nan                    nan   \n",
       "\n",
       "   budget financing_source  ratings                  genres  box_office  \n",
       "0     nan              NaN     7.20  боевик,драма,мелодрама         nan  \n",
       "1     nan              NaN     6.60           драма,военный         nan  "
      ]
     },
     "execution_count": 22,
     "metadata": {},
     "output_type": "execute_result"
    }
   ],
   "source": [
    "data.head(2)"
   ]
  },
  {
   "cell_type": "markdown",
   "metadata": {},
   "source": [
    "В столбцах `film_studio`, `production_country`, `producer`, `director`, `genres` есть значения с перечислением категорий, поэтому их невозможно сгруппировать. Данную проблему можно решить выделив главные значения, что мы сделаем далее со столбцами `director` и `genres`."
   ]
  },
  {
   "cell_type": "markdown",
   "metadata": {
    "id": "XFSN5lrEgFyR"
   },
   "source": [
    "#### Шаг 2.5. Проверьте количественные значения\n",
    "\n",
    "- Проверьте, обнаружились ли в таких столбцах подозрительные данные. Как с такими данными лучше поступить?\n",
    "\n",
    "<div id=\"accordion\">\n",
    "    <div class=\"card\">\n",
    "        <div class=\"card-header\" id=\"headingThree\">\n",
    "            <button class=\"btn btn-link collapsed\" data-toggle=\"collapse\" data-target=\"#collapseHint_budget\" aria-expanded=\"false\" aria-controls=\"collapseHint_budget\">Подсказка</button>\n",
    "        </div>\n",
    "        <div id=\"collapseHint_budget\" class=\"collapse\" aria-labelledby=\"headingThree\" data-parent=\"#accordion\">\n",
    "            <div class=\"card-body\">\n",
    "Обратите внимание на описание столбца <code>budget</code>. Как этот столбец соотносится с двумя другими: <code>refundable_support</code> и <code>nonrefundable_support</code>?\n",
    "            </div>\n",
    "        </div>\n",
    "    </div>\n",
    "</div>"
   ]
  },
  {
   "cell_type": "markdown",
   "metadata": {},
   "source": [
    "Столбец `budget` должен включать в себя оба вида господдержки, то есть он должен быть не меньше суммы этих значений. Проверим есть ли такие значения в таблице и сколько их."
   ]
  },
  {
   "cell_type": "code",
   "execution_count": 23,
   "metadata": {
    "id": "YbzClBxagFyS"
   },
   "outputs": [
    {
     "data": {
      "text/html": [
       "<div>\n",
       "<style scoped>\n",
       "    .dataframe tbody tr th:only-of-type {\n",
       "        vertical-align: middle;\n",
       "    }\n",
       "\n",
       "    .dataframe tbody tr th {\n",
       "        vertical-align: top;\n",
       "    }\n",
       "\n",
       "    .dataframe thead th {\n",
       "        text-align: right;\n",
       "    }\n",
       "</style>\n",
       "<table border=\"1\" class=\"dataframe\">\n",
       "  <thead>\n",
       "    <tr style=\"text-align: right;\">\n",
       "      <th></th>\n",
       "      <th>title</th>\n",
       "      <th>puNumber</th>\n",
       "      <th>show_start_date</th>\n",
       "      <th>type</th>\n",
       "      <th>film_studio</th>\n",
       "      <th>production_country</th>\n",
       "      <th>director</th>\n",
       "      <th>producer</th>\n",
       "      <th>age_restriction</th>\n",
       "      <th>refundable_support</th>\n",
       "      <th>nonrefundable_support</th>\n",
       "      <th>budget</th>\n",
       "      <th>financing_source</th>\n",
       "      <th>ratings</th>\n",
       "      <th>genres</th>\n",
       "      <th>box_office</th>\n",
       "    </tr>\n",
       "  </thead>\n",
       "  <tbody>\n",
       "    <tr>\n",
       "      <th>2052</th>\n",
       "      <td>14+</td>\n",
       "      <td>111023614</td>\n",
       "      <td>2014-12-20</td>\n",
       "      <td>Художественный</td>\n",
       "      <td>ООО Киностудия  \"Сентябрь\"</td>\n",
       "      <td>Россия</td>\n",
       "      <td>А.Зайцев</td>\n",
       "      <td>О.Гранина, А.Зайцев</td>\n",
       "      <td>«16+» - для детей старше 16 лет</td>\n",
       "      <td>0.00</td>\n",
       "      <td>23,000,000.00</td>\n",
       "      <td>0.00</td>\n",
       "      <td>Министерство культуры, Фонд кино</td>\n",
       "      <td>6.60</td>\n",
       "      <td>мелодрама</td>\n",
       "      <td>10,234,016.10</td>\n",
       "    </tr>\n",
       "    <tr>\n",
       "      <th>2057</th>\n",
       "      <td>Дуxless 2</td>\n",
       "      <td>111000415</td>\n",
       "      <td>2015-01-27</td>\n",
       "      <td>Художественный</td>\n",
       "      <td>ООО \"Киностудия \"Слово\", ООО \"Арт Пикчерс Студия\"</td>\n",
       "      <td>Россия</td>\n",
       "      <td>Р.Прыгунов</td>\n",
       "      <td>П.Ануров, Ф.Бондарчук, Д.Рудовский</td>\n",
       "      <td>«16+» - для детей старше 16 лет</td>\n",
       "      <td>0.00</td>\n",
       "      <td>75,000,000.00</td>\n",
       "      <td>0.00</td>\n",
       "      <td>Фонд кино</td>\n",
       "      <td>6.60</td>\n",
       "      <td>драма</td>\n",
       "      <td>446,163,511.00</td>\n",
       "    </tr>\n",
       "    <tr>\n",
       "      <th>2471</th>\n",
       "      <td>Воин (2015)</td>\n",
       "      <td>111017315</td>\n",
       "      <td>2015-09-28</td>\n",
       "      <td>Художественный</td>\n",
       "      <td>ООО \"Форпост Продакшн\", ООО \"Арт Пикчерс Студия\"</td>\n",
       "      <td>Россия</td>\n",
       "      <td>А.Андрианов</td>\n",
       "      <td>ООО \"Арт Пикчерс Студия\"</td>\n",
       "      <td>«12+» - для детей старше 12 лет</td>\n",
       "      <td>10,000,000.00</td>\n",
       "      <td>70,000,000.00</td>\n",
       "      <td>0.00</td>\n",
       "      <td>Фонд кино</td>\n",
       "      <td>7.80</td>\n",
       "      <td>боевик,драма,криминал</td>\n",
       "      <td>196,572,438.40</td>\n",
       "    </tr>\n",
       "    <tr>\n",
       "      <th>2531</th>\n",
       "      <td>Бармен.</td>\n",
       "      <td>111009615</td>\n",
       "      <td>2015-05-27</td>\n",
       "      <td>Художественный</td>\n",
       "      <td>АО \"ВайТ Медиа\", ООО \"Арт Пикчерс Студия\"</td>\n",
       "      <td>Россия</td>\n",
       "      <td>Д.Штурманова</td>\n",
       "      <td>Т.Вайнштейн</td>\n",
       "      <td>«16+» - для детей старше 16 лет</td>\n",
       "      <td>20,000,000.00</td>\n",
       "      <td>0.00</td>\n",
       "      <td>0.00</td>\n",
       "      <td>Фонд кино</td>\n",
       "      <td>6.20</td>\n",
       "      <td>комедия,фэнтези</td>\n",
       "      <td>67,418,974.80</td>\n",
       "    </tr>\n",
       "    <tr>\n",
       "      <th>2614</th>\n",
       "      <td>Савва. Сердце воина</td>\n",
       "      <td>114001715</td>\n",
       "      <td>2015-07-22</td>\n",
       "      <td>Анимационный</td>\n",
       "      <td>ООО \"Глюкоза Продакшн\", ООО \"Арт Пикчерс Студия\"</td>\n",
       "      <td>Россия</td>\n",
       "      <td>М.Фадеев</td>\n",
       "      <td>А.Чистяков</td>\n",
       "      <td>«6+» - для детей старше 6 лет</td>\n",
       "      <td>60,000,000.00</td>\n",
       "      <td>100,000,000.00</td>\n",
       "      <td>0.00</td>\n",
       "      <td>Фонд кино</td>\n",
       "      <td>4.60</td>\n",
       "      <td>мультфильм,приключения,фэнтези</td>\n",
       "      <td>184,487,551.40</td>\n",
       "    </tr>\n",
       "    <tr>\n",
       "      <th>2683</th>\n",
       "      <td>Тряпичный союз</td>\n",
       "      <td>111010215</td>\n",
       "      <td>2015-06-08</td>\n",
       "      <td>Художественный</td>\n",
       "      <td>ООО \"Кинокомпания \"КОКТЕБЕЛЬ\"</td>\n",
       "      <td>Россия</td>\n",
       "      <td>М.Местецкий</td>\n",
       "      <td>Р.Борисевич, А.Кушаев</td>\n",
       "      <td>«18+» - запрещено для детей</td>\n",
       "      <td>0.00</td>\n",
       "      <td>59,000,000.00</td>\n",
       "      <td>0.00</td>\n",
       "      <td>Фонд кино</td>\n",
       "      <td>6.30</td>\n",
       "      <td>комедия,драма</td>\n",
       "      <td>1,957,738.51</td>\n",
       "    </tr>\n",
       "    <tr>\n",
       "      <th>2787</th>\n",
       "      <td>Срочно выйду замуж</td>\n",
       "      <td>111017115</td>\n",
       "      <td>2015-09-30</td>\n",
       "      <td>Художественный</td>\n",
       "      <td>АО \"ВайТ Медиа\", ООО \"Арт Пикчерс Студия\"</td>\n",
       "      <td>Россия</td>\n",
       "      <td>С Чекалов</td>\n",
       "      <td>Ф.Бондарчук, Т.Вайнштейн, Д.Рудовский</td>\n",
       "      <td>«16+» - для детей старше 16 лет</td>\n",
       "      <td>0.00</td>\n",
       "      <td>35,000,000.00</td>\n",
       "      <td>0.00</td>\n",
       "      <td>Фонд кино</td>\n",
       "      <td>5.10</td>\n",
       "      <td>комедия,мелодрама</td>\n",
       "      <td>72,937,783.20</td>\n",
       "    </tr>\n",
       "    <tr>\n",
       "      <th>2873</th>\n",
       "      <td>Помню - не помню!</td>\n",
       "      <td>111004916</td>\n",
       "      <td>2016-03-02</td>\n",
       "      <td>Художественный</td>\n",
       "      <td>ООО \"КиноФирма\"</td>\n",
       "      <td>Россия</td>\n",
       "      <td>В.Ровенский</td>\n",
       "      <td>ООО \"КиноФирма\"</td>\n",
       "      <td>«12+» - для детей старше 12 лет</td>\n",
       "      <td>0.00</td>\n",
       "      <td>6,000,000.00</td>\n",
       "      <td>0.00</td>\n",
       "      <td>Министерство культуры</td>\n",
       "      <td>4.30</td>\n",
       "      <td>комедия</td>\n",
       "      <td>15,362,931.43</td>\n",
       "    </tr>\n",
       "    <tr>\n",
       "      <th>3046</th>\n",
       "      <td>Любовь с ограничениями</td>\n",
       "      <td>111008216</td>\n",
       "      <td>2016-04-29</td>\n",
       "      <td>Художественный</td>\n",
       "      <td>АО \"ВайТ Медиа\", ООО \"Арт Пикчерс Студия\"</td>\n",
       "      <td>Россия</td>\n",
       "      <td>Д.Тюрин</td>\n",
       "      <td>Ф.Бондарчук, Т.Вайнштейн, Д.Рудовский</td>\n",
       "      <td>«16+» - для детей старше 16 лет</td>\n",
       "      <td>19,000,000.00</td>\n",
       "      <td>51,000,000.00</td>\n",
       "      <td>0.00</td>\n",
       "      <td>Фонд кино</td>\n",
       "      <td>6.30</td>\n",
       "      <td>комедия,мелодрама</td>\n",
       "      <td>70,299,052.00</td>\n",
       "    </tr>\n",
       "    <tr>\n",
       "      <th>3564</th>\n",
       "      <td>Притяжение (2016)</td>\n",
       "      <td>111018116</td>\n",
       "      <td>2016-12-17</td>\n",
       "      <td>Художественный</td>\n",
       "      <td>ООО \"Водород 2011\",  ООО \"Арт Пикчерс Студия\"</td>\n",
       "      <td>Россия</td>\n",
       "      <td>Ф.Бондарчук</td>\n",
       "      <td>ООО \"Арт Пикчерс Студия\"</td>\n",
       "      <td>«12+» - для детей старше 12 лет</td>\n",
       "      <td>0.00</td>\n",
       "      <td>250,000,000.00</td>\n",
       "      <td>0.00</td>\n",
       "      <td>Фонд кино</td>\n",
       "      <td>5.60</td>\n",
       "      <td>фантастика</td>\n",
       "      <td>1,038,321,489.00</td>\n",
       "    </tr>\n",
       "    <tr>\n",
       "      <th>3674</th>\n",
       "      <td>Чудо-юдо</td>\n",
       "      <td>114001817</td>\n",
       "      <td>2017-06-27</td>\n",
       "      <td>Анимационный</td>\n",
       "      <td>ООО \"КиноФирма\"</td>\n",
       "      <td>Россия</td>\n",
       "      <td>А.Лукичев</td>\n",
       "      <td>ООО \"КиноФирма\"</td>\n",
       "      <td>«6+» - для детей старше 6 лет</td>\n",
       "      <td>20,000,000.00</td>\n",
       "      <td>20,000,000.00</td>\n",
       "      <td>0.00</td>\n",
       "      <td>Фонд кино</td>\n",
       "      <td>5.20</td>\n",
       "      <td>мультфильм,фэнтези,семейный</td>\n",
       "      <td>55,108,014.76</td>\n",
       "    </tr>\n",
       "    <tr>\n",
       "      <th>3738</th>\n",
       "      <td>Мифы</td>\n",
       "      <td>111004317</td>\n",
       "      <td>2017-06-07</td>\n",
       "      <td>Художественный</td>\n",
       "      <td>ООО \"ХАЙПФИЛМ\", ООО \"Арт Пикчерс Студия\"</td>\n",
       "      <td>Россия</td>\n",
       "      <td>А.Молочников</td>\n",
       "      <td>Ф.Бондарчук, Д.Рудовский, И.Стюарт, М.Османн, ...</td>\n",
       "      <td>«16+» - для детей старше 16 лет</td>\n",
       "      <td>25,000,000.00</td>\n",
       "      <td>20,000,000.00</td>\n",
       "      <td>0.00</td>\n",
       "      <td>Фонд кино</td>\n",
       "      <td>4.80</td>\n",
       "      <td>комедия</td>\n",
       "      <td>50,451,949.00</td>\n",
       "    </tr>\n",
       "    <tr>\n",
       "      <th>5672</th>\n",
       "      <td>Селфи</td>\n",
       "      <td>111012117</td>\n",
       "      <td>2018-02-02</td>\n",
       "      <td>Художественный</td>\n",
       "      <td>ООО \"Киностудия \"Слово\", ООО \"Арт Пикчерс Студия\"</td>\n",
       "      <td>Россия</td>\n",
       "      <td>Н.Хомерики</td>\n",
       "      <td>П.Ануров, Ф.Бондарчук, Д.Рудовский</td>\n",
       "      <td>«16+» - для детей старше 16 лет</td>\n",
       "      <td>20,000,000.00</td>\n",
       "      <td>40,000,000.00</td>\n",
       "      <td>0.00</td>\n",
       "      <td>Фонд кино</td>\n",
       "      <td>5.80</td>\n",
       "      <td>триллер,драма</td>\n",
       "      <td>225,196,400.03</td>\n",
       "    </tr>\n",
       "    <tr>\n",
       "      <th>5805</th>\n",
       "      <td>Два хвоста</td>\n",
       "      <td>114001018</td>\n",
       "      <td>2018-05-31</td>\n",
       "      <td>Анимационный</td>\n",
       "      <td>ООО \"ЛИЦЕНЗИОННЫЕ БРЕНДЫ\"</td>\n",
       "      <td>Россия</td>\n",
       "      <td>В.Ровенский, Н.Лопато, В.Азеев</td>\n",
       "      <td>ООО \"ЛИЦЕНЗИОННЫЕ БРЕНДЫ\"</td>\n",
       "      <td>«6+» - для детей старше 6 лет</td>\n",
       "      <td>10,000,000.00</td>\n",
       "      <td>60,000,000.00</td>\n",
       "      <td>0.00</td>\n",
       "      <td>Фонд кино</td>\n",
       "      <td>5.00</td>\n",
       "      <td>мультфильм,детский</td>\n",
       "      <td>106,514,301.03</td>\n",
       "    </tr>\n",
       "    <tr>\n",
       "      <th>6007</th>\n",
       "      <td>Принцесса и дракон</td>\n",
       "      <td>114003018</td>\n",
       "      <td>2018-08-23</td>\n",
       "      <td>Анимационный</td>\n",
       "      <td>ООО \"ЛИЦЕНЗИОННЫЕ БРЕНДЫ\"</td>\n",
       "      <td>Россия</td>\n",
       "      <td>М.Нефедова</td>\n",
       "      <td>ООО \"ЛИЦЕНЗИОННЫЕ БРЕНДЫ\"</td>\n",
       "      <td>«6+» - для детей старше 6 лет</td>\n",
       "      <td>40,000,000.00</td>\n",
       "      <td>40,000,000.00</td>\n",
       "      <td>0.00</td>\n",
       "      <td>Фонд кино</td>\n",
       "      <td>5.20</td>\n",
       "      <td>мультфильм,фэнтези,детский</td>\n",
       "      <td>83,366,328.66</td>\n",
       "    </tr>\n",
       "    <tr>\n",
       "      <th>6322</th>\n",
       "      <td>Баба Яга</td>\n",
       "      <td>114006518</td>\n",
       "      <td>2018-11-09</td>\n",
       "      <td>Анимационный</td>\n",
       "      <td>ООО \"Арт Пикчерс Студия\"</td>\n",
       "      <td>Россия</td>\n",
       "      <td>В.Саков</td>\n",
       "      <td>ООО \"Арт Пикчерс Студия\", ООО \"КРИЭЙТИВ АНИМЭЙ...</td>\n",
       "      <td>«6+» - для детей старше 6 лет</td>\n",
       "      <td>0.00</td>\n",
       "      <td>138,969,465.00</td>\n",
       "      <td>0.00</td>\n",
       "      <td>Фонд кино</td>\n",
       "      <td>nan</td>\n",
       "      <td>Не указано</td>\n",
       "      <td>1,334,699.40</td>\n",
       "    </tr>\n",
       "    <tr>\n",
       "      <th>6822</th>\n",
       "      <td>Большое путешествие</td>\n",
       "      <td>114002419</td>\n",
       "      <td>2019-04-20</td>\n",
       "      <td>Анимационный</td>\n",
       "      <td>ООО \"ЛИЦЕНЗИОННЫЕ БРЕНДЫ\"</td>\n",
       "      <td>Россия</td>\n",
       "      <td>Н.Лопато, В.Ровенский</td>\n",
       "      <td>ООО \"ЛИЦЕНЗИОННЫЕ БРЕНДЫ\"</td>\n",
       "      <td>«6+» - для детей старше 6 лет</td>\n",
       "      <td>60,000,000.00</td>\n",
       "      <td>120,000,000.00</td>\n",
       "      <td>0.00</td>\n",
       "      <td>Фонд кино</td>\n",
       "      <td>6.20</td>\n",
       "      <td>мультфильм,комедия,приключения</td>\n",
       "      <td>147,606,826.51</td>\n",
       "    </tr>\n",
       "  </tbody>\n",
       "</table>\n",
       "</div>"
      ],
      "text/plain": [
       "                       title   puNumber show_start_date            type  \\\n",
       "2052                     14+  111023614      2014-12-20  Художественный   \n",
       "2057               Дуxless 2  111000415      2015-01-27  Художественный   \n",
       "2471             Воин (2015)  111017315      2015-09-28  Художественный   \n",
       "2531                 Бармен.  111009615      2015-05-27  Художественный   \n",
       "2614     Савва. Сердце воина  114001715      2015-07-22    Анимационный   \n",
       "2683          Тряпичный союз  111010215      2015-06-08  Художественный   \n",
       "2787      Срочно выйду замуж  111017115      2015-09-30  Художественный   \n",
       "2873       Помню - не помню!  111004916      2016-03-02  Художественный   \n",
       "3046  Любовь с ограничениями  111008216      2016-04-29  Художественный   \n",
       "3564       Притяжение (2016)  111018116      2016-12-17  Художественный   \n",
       "3674                Чудо-юдо  114001817      2017-06-27    Анимационный   \n",
       "3738                    Мифы  111004317      2017-06-07  Художественный   \n",
       "5672                   Селфи  111012117      2018-02-02  Художественный   \n",
       "5805              Два хвоста  114001018      2018-05-31    Анимационный   \n",
       "6007      Принцесса и дракон  114003018      2018-08-23    Анимационный   \n",
       "6322                Баба Яга  114006518      2018-11-09    Анимационный   \n",
       "6822     Большое путешествие  114002419      2019-04-20    Анимационный   \n",
       "\n",
       "                                            film_studio production_country  \\\n",
       "2052                         ООО Киностудия  \"Сентябрь\"             Россия   \n",
       "2057  ООО \"Киностудия \"Слово\", ООО \"Арт Пикчерс Студия\"             Россия   \n",
       "2471   ООО \"Форпост Продакшн\", ООО \"Арт Пикчерс Студия\"             Россия   \n",
       "2531          АО \"ВайТ Медиа\", ООО \"Арт Пикчерс Студия\"             Россия   \n",
       "2614   ООО \"Глюкоза Продакшн\", ООО \"Арт Пикчерс Студия\"             Россия   \n",
       "2683                      ООО \"Кинокомпания \"КОКТЕБЕЛЬ\"             Россия   \n",
       "2787          АО \"ВайТ Медиа\", ООО \"Арт Пикчерс Студия\"             Россия   \n",
       "2873                                    ООО \"КиноФирма\"             Россия   \n",
       "3046          АО \"ВайТ Медиа\", ООО \"Арт Пикчерс Студия\"             Россия   \n",
       "3564      ООО \"Водород 2011\",  ООО \"Арт Пикчерс Студия\"             Россия   \n",
       "3674                                    ООО \"КиноФирма\"             Россия   \n",
       "3738           ООО \"ХАЙПФИЛМ\", ООО \"Арт Пикчерс Студия\"             Россия   \n",
       "5672  ООО \"Киностудия \"Слово\", ООО \"Арт Пикчерс Студия\"             Россия   \n",
       "5805                          ООО \"ЛИЦЕНЗИОННЫЕ БРЕНДЫ\"             Россия   \n",
       "6007                          ООО \"ЛИЦЕНЗИОННЫЕ БРЕНДЫ\"             Россия   \n",
       "6322                           ООО \"Арт Пикчерс Студия\"             Россия   \n",
       "6822                          ООО \"ЛИЦЕНЗИОННЫЕ БРЕНДЫ\"             Россия   \n",
       "\n",
       "                            director  \\\n",
       "2052                        А.Зайцев   \n",
       "2057                      Р.Прыгунов   \n",
       "2471                     А.Андрианов   \n",
       "2531                    Д.Штурманова   \n",
       "2614                        М.Фадеев   \n",
       "2683                     М.Местецкий   \n",
       "2787                       С Чекалов   \n",
       "2873                     В.Ровенский   \n",
       "3046                         Д.Тюрин   \n",
       "3564                     Ф.Бондарчук   \n",
       "3674                       А.Лукичев   \n",
       "3738                    А.Молочников   \n",
       "5672                      Н.Хомерики   \n",
       "5805  В.Ровенский, Н.Лопато, В.Азеев   \n",
       "6007                      М.Нефедова   \n",
       "6322                         В.Саков   \n",
       "6822           Н.Лопато, В.Ровенский   \n",
       "\n",
       "                                               producer  \\\n",
       "2052                                О.Гранина, А.Зайцев   \n",
       "2057                 П.Ануров, Ф.Бондарчук, Д.Рудовский   \n",
       "2471                           ООО \"Арт Пикчерс Студия\"   \n",
       "2531                                        Т.Вайнштейн   \n",
       "2614                                         А.Чистяков   \n",
       "2683                              Р.Борисевич, А.Кушаев   \n",
       "2787              Ф.Бондарчук, Т.Вайнштейн, Д.Рудовский   \n",
       "2873                                    ООО \"КиноФирма\"   \n",
       "3046              Ф.Бондарчук, Т.Вайнштейн, Д.Рудовский   \n",
       "3564                           ООО \"Арт Пикчерс Студия\"   \n",
       "3674                                    ООО \"КиноФирма\"   \n",
       "3738  Ф.Бондарчук, Д.Рудовский, И.Стюарт, М.Османн, ...   \n",
       "5672                 П.Ануров, Ф.Бондарчук, Д.Рудовский   \n",
       "5805                          ООО \"ЛИЦЕНЗИОННЫЕ БРЕНДЫ\"   \n",
       "6007                          ООО \"ЛИЦЕНЗИОННЫЕ БРЕНДЫ\"   \n",
       "6322  ООО \"Арт Пикчерс Студия\", ООО \"КРИЭЙТИВ АНИМЭЙ...   \n",
       "6822                          ООО \"ЛИЦЕНЗИОННЫЕ БРЕНДЫ\"   \n",
       "\n",
       "                      age_restriction  refundable_support  \\\n",
       "2052  «16+» - для детей старше 16 лет                0.00   \n",
       "2057  «16+» - для детей старше 16 лет                0.00   \n",
       "2471  «12+» - для детей старше 12 лет       10,000,000.00   \n",
       "2531  «16+» - для детей старше 16 лет       20,000,000.00   \n",
       "2614    «6+» - для детей старше 6 лет       60,000,000.00   \n",
       "2683      «18+» - запрещено для детей                0.00   \n",
       "2787  «16+» - для детей старше 16 лет                0.00   \n",
       "2873  «12+» - для детей старше 12 лет                0.00   \n",
       "3046  «16+» - для детей старше 16 лет       19,000,000.00   \n",
       "3564  «12+» - для детей старше 12 лет                0.00   \n",
       "3674    «6+» - для детей старше 6 лет       20,000,000.00   \n",
       "3738  «16+» - для детей старше 16 лет       25,000,000.00   \n",
       "5672  «16+» - для детей старше 16 лет       20,000,000.00   \n",
       "5805    «6+» - для детей старше 6 лет       10,000,000.00   \n",
       "6007    «6+» - для детей старше 6 лет       40,000,000.00   \n",
       "6322    «6+» - для детей старше 6 лет                0.00   \n",
       "6822    «6+» - для детей старше 6 лет       60,000,000.00   \n",
       "\n",
       "      nonrefundable_support  budget                  financing_source  \\\n",
       "2052          23,000,000.00    0.00  Министерство культуры, Фонд кино   \n",
       "2057          75,000,000.00    0.00                         Фонд кино   \n",
       "2471          70,000,000.00    0.00                         Фонд кино   \n",
       "2531                   0.00    0.00                         Фонд кино   \n",
       "2614         100,000,000.00    0.00                         Фонд кино   \n",
       "2683          59,000,000.00    0.00                         Фонд кино   \n",
       "2787          35,000,000.00    0.00                         Фонд кино   \n",
       "2873           6,000,000.00    0.00             Министерство культуры   \n",
       "3046          51,000,000.00    0.00                         Фонд кино   \n",
       "3564         250,000,000.00    0.00                         Фонд кино   \n",
       "3674          20,000,000.00    0.00                         Фонд кино   \n",
       "3738          20,000,000.00    0.00                         Фонд кино   \n",
       "5672          40,000,000.00    0.00                         Фонд кино   \n",
       "5805          60,000,000.00    0.00                         Фонд кино   \n",
       "6007          40,000,000.00    0.00                         Фонд кино   \n",
       "6322         138,969,465.00    0.00                         Фонд кино   \n",
       "6822         120,000,000.00    0.00                         Фонд кино   \n",
       "\n",
       "      ratings                          genres       box_office  \n",
       "2052     6.60                       мелодрама    10,234,016.10  \n",
       "2057     6.60                           драма   446,163,511.00  \n",
       "2471     7.80           боевик,драма,криминал   196,572,438.40  \n",
       "2531     6.20                 комедия,фэнтези    67,418,974.80  \n",
       "2614     4.60  мультфильм,приключения,фэнтези   184,487,551.40  \n",
       "2683     6.30                   комедия,драма     1,957,738.51  \n",
       "2787     5.10               комедия,мелодрама    72,937,783.20  \n",
       "2873     4.30                         комедия    15,362,931.43  \n",
       "3046     6.30               комедия,мелодрама    70,299,052.00  \n",
       "3564     5.60                      фантастика 1,038,321,489.00  \n",
       "3674     5.20     мультфильм,фэнтези,семейный    55,108,014.76  \n",
       "3738     4.80                         комедия    50,451,949.00  \n",
       "5672     5.80                   триллер,драма   225,196,400.03  \n",
       "5805     5.00              мультфильм,детский   106,514,301.03  \n",
       "6007     5.20      мультфильм,фэнтези,детский    83,366,328.66  \n",
       "6322      nan                      Не указано     1,334,699.40  \n",
       "6822     6.20  мультфильм,комедия,приключения   147,606,826.51  "
      ]
     },
     "execution_count": 23,
     "metadata": {},
     "output_type": "execute_result"
    }
   ],
   "source": [
    "data.query('budget <= (refundable_support + nonrefundable_support)')"
   ]
  },
  {
   "cell_type": "markdown",
   "metadata": {},
   "source": [
    "Данные о бюджете в этих фильмах не указаны и таких фильмов довольно мало, так что лучше эти строки удалить."
   ]
  },
  {
   "cell_type": "code",
   "execution_count": 24,
   "metadata": {},
   "outputs": [
    {
     "data": {
      "text/plain": [
       "0"
      ]
     },
     "execution_count": 24,
     "metadata": {},
     "output_type": "execute_result"
    }
   ],
   "source": [
    "data = data.query('budget != 0')\n",
    "data.query('budget <= (refundable_support + nonrefundable_support)').shape[0]"
   ]
  },
  {
   "cell_type": "markdown",
   "metadata": {
    "id": "Eu6oWp2CgFyS"
   },
   "source": [
    "#### Шаг 2.6. Добавьте новые столбцы\n",
    "\n",
    "\n",
    "\n"
   ]
  },
  {
   "cell_type": "markdown",
   "metadata": {
    "id": "7GgW-UpAgFyS"
   },
   "source": [
    "- Создайте столбец с информацией о годе проката. Выделите год из даты премьеры фильма."
   ]
  },
  {
   "cell_type": "code",
   "execution_count": 25,
   "metadata": {
    "id": "I-yd1DkWgFyT"
   },
   "outputs": [],
   "source": [
    "data['year_show_start'] = data['show_start_date'].dt.year"
   ]
  },
  {
   "cell_type": "markdown",
   "metadata": {
    "id": "nFTDLDYOgFyT"
   },
   "source": [
    "- Создайте два столбца: с именем и фамилией главного режиссёра и основным жанром фильма. В столбцы войдут первые значения из списка режиссёров и жанров соответственно.\n",
    "\n",
    "<div id=\"accordion\">\n",
    "    <div class=\"card\">\n",
    "        <div class=\"card-header\" id=\"headingThree\">\n",
    "            <button class=\"btn btn-link collapsed\" data-toggle=\"collapse\" data-target=\"#collapseHint_2\" aria-expanded=\"false\" aria-controls=\"collapseHint_2\">Подсказка</button>\n",
    "        </div>\n",
    "        <div id=\"collapseHint_2\" class=\"collapse\" aria-labelledby=\"headingThree\" data-parent=\"#accordion\">\n",
    "            <div class=\"card-body\">\n",
    "Чтобы создать такие столбцы, лучше всего использовать собственную функцию. Эту функцию можно применить к двум столбцам сразу. \n",
    "            </div>\n",
    "        </div>\n",
    "    </div>\n",
    "</div>"
   ]
  },
  {
   "cell_type": "code",
   "execution_count": 26,
   "metadata": {
    "id": "LSbRZKbMgFyU",
    "scrolled": true
   },
   "outputs": [],
   "source": [
    "def cut_main(col):\n",
    "    try:\n",
    "        return col.split(',', 1)[0]\n",
    "    except:\n",
    "        return col\n",
    "\n",
    "data['main_director'] = data['director'].apply(cut_main)\n",
    "data['main_genre'] = data['genres'].apply(cut_main)"
   ]
  },
  {
   "cell_type": "code",
   "execution_count": 27,
   "metadata": {},
   "outputs": [
    {
     "data": {
      "text/html": [
       "<div>\n",
       "<style scoped>\n",
       "    .dataframe tbody tr th:only-of-type {\n",
       "        vertical-align: middle;\n",
       "    }\n",
       "\n",
       "    .dataframe tbody tr th {\n",
       "        vertical-align: top;\n",
       "    }\n",
       "\n",
       "    .dataframe thead th {\n",
       "        text-align: right;\n",
       "    }\n",
       "</style>\n",
       "<table border=\"1\" class=\"dataframe\">\n",
       "  <thead>\n",
       "    <tr style=\"text-align: right;\">\n",
       "      <th></th>\n",
       "      <th>title</th>\n",
       "      <th>puNumber</th>\n",
       "      <th>show_start_date</th>\n",
       "      <th>type</th>\n",
       "      <th>film_studio</th>\n",
       "      <th>production_country</th>\n",
       "      <th>director</th>\n",
       "      <th>producer</th>\n",
       "      <th>age_restriction</th>\n",
       "      <th>refundable_support</th>\n",
       "      <th>nonrefundable_support</th>\n",
       "      <th>budget</th>\n",
       "      <th>financing_source</th>\n",
       "      <th>ratings</th>\n",
       "      <th>genres</th>\n",
       "      <th>box_office</th>\n",
       "      <th>year_show_start</th>\n",
       "      <th>main_director</th>\n",
       "      <th>main_genre</th>\n",
       "    </tr>\n",
       "  </thead>\n",
       "  <tbody>\n",
       "    <tr>\n",
       "      <th>0</th>\n",
       "      <td>Открытый простор</td>\n",
       "      <td>221048915</td>\n",
       "      <td>2015-11-27</td>\n",
       "      <td>Художественный</td>\n",
       "      <td>Тачстоун Пикчерз, Кобальт Пикчерз, Бикон Пикче...</td>\n",
       "      <td>США</td>\n",
       "      <td>Кевин Костнер</td>\n",
       "      <td>Дэвид Валдес, Кевин Костнер, Джейк Эбертс</td>\n",
       "      <td>«18+» - запрещено для детей</td>\n",
       "      <td>nan</td>\n",
       "      <td>nan</td>\n",
       "      <td>nan</td>\n",
       "      <td>NaN</td>\n",
       "      <td>7.20</td>\n",
       "      <td>боевик,драма,мелодрама</td>\n",
       "      <td>nan</td>\n",
       "      <td>2015</td>\n",
       "      <td>Кевин Костнер</td>\n",
       "      <td>боевик</td>\n",
       "    </tr>\n",
       "    <tr>\n",
       "      <th>1</th>\n",
       "      <td>Особо важное задание</td>\n",
       "      <td>111013716</td>\n",
       "      <td>2016-09-14</td>\n",
       "      <td>Художественный</td>\n",
       "      <td>Киностудия \"Мосфильм\"</td>\n",
       "      <td>СССР</td>\n",
       "      <td>Е.Матвеев</td>\n",
       "      <td>Не указано</td>\n",
       "      <td>«6+» - для детей старше 6 лет</td>\n",
       "      <td>nan</td>\n",
       "      <td>nan</td>\n",
       "      <td>nan</td>\n",
       "      <td>NaN</td>\n",
       "      <td>6.60</td>\n",
       "      <td>драма,военный</td>\n",
       "      <td>nan</td>\n",
       "      <td>2016</td>\n",
       "      <td>Е.Матвеев</td>\n",
       "      <td>драма</td>\n",
       "    </tr>\n",
       "    <tr>\n",
       "      <th>2</th>\n",
       "      <td>Особо опасен</td>\n",
       "      <td>221038416</td>\n",
       "      <td>2016-10-10</td>\n",
       "      <td>Художественный</td>\n",
       "      <td>Юниверсал Пикчерз, Кикстарт Продакшнз, Марк Пл...</td>\n",
       "      <td>США</td>\n",
       "      <td>Тимур Бекмамбетов</td>\n",
       "      <td>Джим Лемли, Джейсон Нетер, Марк Е.Платт, Яйн Смит</td>\n",
       "      <td>«18+» - запрещено для детей</td>\n",
       "      <td>nan</td>\n",
       "      <td>nan</td>\n",
       "      <td>nan</td>\n",
       "      <td>NaN</td>\n",
       "      <td>6.80</td>\n",
       "      <td>фантастика,боевик,триллер</td>\n",
       "      <td>nan</td>\n",
       "      <td>2016</td>\n",
       "      <td>Тимур Бекмамбетов</td>\n",
       "      <td>фантастика</td>\n",
       "    </tr>\n",
       "    <tr>\n",
       "      <th>3</th>\n",
       "      <td>Особо опасен</td>\n",
       "      <td>221026916</td>\n",
       "      <td>2016-06-10</td>\n",
       "      <td>Художественный</td>\n",
       "      <td>Юниверсал Пикчерз, Кикстарт Продакшнз, Марк Пл...</td>\n",
       "      <td>США</td>\n",
       "      <td>Тимур Бекмамбетов</td>\n",
       "      <td>Джим Лемли, Джейсон Нетер, Марк Е.Платт, Яйн Смит</td>\n",
       "      <td>«18+» - запрещено для детей</td>\n",
       "      <td>nan</td>\n",
       "      <td>nan</td>\n",
       "      <td>nan</td>\n",
       "      <td>NaN</td>\n",
       "      <td>6.80</td>\n",
       "      <td>фантастика,боевик,триллер</td>\n",
       "      <td>nan</td>\n",
       "      <td>2016</td>\n",
       "      <td>Тимур Бекмамбетов</td>\n",
       "      <td>фантастика</td>\n",
       "    </tr>\n",
       "    <tr>\n",
       "      <th>4</th>\n",
       "      <td>Особо опасен</td>\n",
       "      <td>221030815</td>\n",
       "      <td>2015-07-30</td>\n",
       "      <td>Художественный</td>\n",
       "      <td>Юниверсал Пикчерз, Кикстарт Продакшнз, Марк Пл...</td>\n",
       "      <td>США</td>\n",
       "      <td>Тимур Бекмамбетов</td>\n",
       "      <td>Джим Лемли, Джейсон Нетер, Марк Е.Платт, Яйн Смит</td>\n",
       "      <td>«18+» - запрещено для детей</td>\n",
       "      <td>nan</td>\n",
       "      <td>nan</td>\n",
       "      <td>nan</td>\n",
       "      <td>NaN</td>\n",
       "      <td>6.80</td>\n",
       "      <td>фантастика,боевик,триллер</td>\n",
       "      <td>nan</td>\n",
       "      <td>2015</td>\n",
       "      <td>Тимур Бекмамбетов</td>\n",
       "      <td>фантастика</td>\n",
       "    </tr>\n",
       "  </tbody>\n",
       "</table>\n",
       "</div>"
      ],
      "text/plain": [
       "                  title   puNumber show_start_date            type  \\\n",
       "0      Открытый простор  221048915      2015-11-27  Художественный   \n",
       "1  Особо важное задание  111013716      2016-09-14  Художественный   \n",
       "2          Особо опасен  221038416      2016-10-10  Художественный   \n",
       "3          Особо опасен  221026916      2016-06-10  Художественный   \n",
       "4          Особо опасен  221030815      2015-07-30  Художественный   \n",
       "\n",
       "                                         film_studio production_country  \\\n",
       "0  Тачстоун Пикчерз, Кобальт Пикчерз, Бикон Пикче...                США   \n",
       "1                              Киностудия \"Мосфильм\"               СССР   \n",
       "2  Юниверсал Пикчерз, Кикстарт Продакшнз, Марк Пл...                США   \n",
       "3  Юниверсал Пикчерз, Кикстарт Продакшнз, Марк Пл...                США   \n",
       "4  Юниверсал Пикчерз, Кикстарт Продакшнз, Марк Пл...                США   \n",
       "\n",
       "            director                                           producer  \\\n",
       "0      Кевин Костнер          Дэвид Валдес, Кевин Костнер, Джейк Эбертс   \n",
       "1          Е.Матвеев                                         Не указано   \n",
       "2  Тимур Бекмамбетов  Джим Лемли, Джейсон Нетер, Марк Е.Платт, Яйн Смит   \n",
       "3  Тимур Бекмамбетов  Джим Лемли, Джейсон Нетер, Марк Е.Платт, Яйн Смит   \n",
       "4  Тимур Бекмамбетов  Джим Лемли, Джейсон Нетер, Марк Е.Платт, Яйн Смит   \n",
       "\n",
       "                 age_restriction  refundable_support  nonrefundable_support  \\\n",
       "0    «18+» - запрещено для детей                 nan                    nan   \n",
       "1  «6+» - для детей старше 6 лет                 nan                    nan   \n",
       "2    «18+» - запрещено для детей                 nan                    nan   \n",
       "3    «18+» - запрещено для детей                 nan                    nan   \n",
       "4    «18+» - запрещено для детей                 nan                    nan   \n",
       "\n",
       "   budget financing_source  ratings                     genres  box_office  \\\n",
       "0     nan              NaN     7.20     боевик,драма,мелодрама         nan   \n",
       "1     nan              NaN     6.60              драма,военный         nan   \n",
       "2     nan              NaN     6.80  фантастика,боевик,триллер         nan   \n",
       "3     nan              NaN     6.80  фантастика,боевик,триллер         nan   \n",
       "4     nan              NaN     6.80  фантастика,боевик,триллер         nan   \n",
       "\n",
       "   year_show_start      main_director  main_genre  \n",
       "0             2015      Кевин Костнер      боевик  \n",
       "1             2016          Е.Матвеев       драма  \n",
       "2             2016  Тимур Бекмамбетов  фантастика  \n",
       "3             2016  Тимур Бекмамбетов  фантастика  \n",
       "4             2015  Тимур Бекмамбетов  фантастика  "
      ]
     },
     "execution_count": 27,
     "metadata": {},
     "output_type": "execute_result"
    }
   ],
   "source": [
    "data.head()"
   ]
  },
  {
   "cell_type": "markdown",
   "metadata": {
    "id": "1FsCXHwdgFyU"
   },
   "source": [
    "- Посчитайте, какую долю от общего бюджета фильма составляет государственная поддержка."
   ]
  },
  {
   "cell_type": "code",
   "execution_count": 28,
   "metadata": {
    "id": "LV6qFuZLgFyV"
   },
   "outputs": [],
   "source": [
    "data['%_support_budget'] = (data['refundable_support'] + data['nonrefundable_support']) / data['budget']"
   ]
  },
  {
   "cell_type": "markdown",
   "metadata": {},
   "source": [
    "Обновим данные в таблице `data_support`."
   ]
  },
  {
   "cell_type": "code",
   "execution_count": 29,
   "metadata": {
    "scrolled": true
   },
   "outputs": [
    {
     "data": {
      "text/html": [
       "<div>\n",
       "<style scoped>\n",
       "    .dataframe tbody tr th:only-of-type {\n",
       "        vertical-align: middle;\n",
       "    }\n",
       "\n",
       "    .dataframe tbody tr th {\n",
       "        vertical-align: top;\n",
       "    }\n",
       "\n",
       "    .dataframe thead th {\n",
       "        text-align: right;\n",
       "    }\n",
       "</style>\n",
       "<table border=\"1\" class=\"dataframe\">\n",
       "  <thead>\n",
       "    <tr style=\"text-align: right;\">\n",
       "      <th></th>\n",
       "      <th>title</th>\n",
       "      <th>puNumber</th>\n",
       "      <th>show_start_date</th>\n",
       "      <th>type</th>\n",
       "      <th>film_studio</th>\n",
       "      <th>production_country</th>\n",
       "      <th>director</th>\n",
       "      <th>producer</th>\n",
       "      <th>age_restriction</th>\n",
       "      <th>refundable_support</th>\n",
       "      <th>nonrefundable_support</th>\n",
       "      <th>budget</th>\n",
       "      <th>financing_source</th>\n",
       "      <th>ratings</th>\n",
       "      <th>genres</th>\n",
       "      <th>box_office</th>\n",
       "      <th>year_show_start</th>\n",
       "      <th>main_director</th>\n",
       "      <th>main_genre</th>\n",
       "      <th>%_support_budget</th>\n",
       "    </tr>\n",
       "  </thead>\n",
       "  <tbody>\n",
       "    <tr>\n",
       "      <th>1281</th>\n",
       "      <td>Пока еще жива</td>\n",
       "      <td>111005313</td>\n",
       "      <td>2013-10-12</td>\n",
       "      <td>Художественный</td>\n",
       "      <td>АНО содействия развитию кинематографии \"Ангел-...</td>\n",
       "      <td>Россия</td>\n",
       "      <td>А.Атанесян</td>\n",
       "      <td>А.Атанесян, М.Бабаханов, Р.Бутко</td>\n",
       "      <td>«16+» - для детей старше 16 лет</td>\n",
       "      <td>0.00</td>\n",
       "      <td>26,500,000.00</td>\n",
       "      <td>79,411,900.00</td>\n",
       "      <td>Министерство культуры</td>\n",
       "      <td>8.10</td>\n",
       "      <td>драма,мелодрама</td>\n",
       "      <td>365,353.60</td>\n",
       "      <td>2013</td>\n",
       "      <td>А.Атанесян</td>\n",
       "      <td>драма</td>\n",
       "      <td>0.33</td>\n",
       "    </tr>\n",
       "    <tr>\n",
       "      <th>1448</th>\n",
       "      <td>Бесславные придурки</td>\n",
       "      <td>111003314</td>\n",
       "      <td>2014-03-29</td>\n",
       "      <td>Художественный</td>\n",
       "      <td>ООО \"Компания \"АТК-Студио\"</td>\n",
       "      <td>Россия</td>\n",
       "      <td>А.Якимчук</td>\n",
       "      <td>А.Тютрюмов</td>\n",
       "      <td>«12+» - для детей старше 12 лет</td>\n",
       "      <td>0.00</td>\n",
       "      <td>26,000,000.00</td>\n",
       "      <td>37,142,857.00</td>\n",
       "      <td>Министерство культуры</td>\n",
       "      <td>nan</td>\n",
       "      <td>Не указано</td>\n",
       "      <td>28,140.00</td>\n",
       "      <td>2014</td>\n",
       "      <td>А.Якимчук</td>\n",
       "      <td>Не указано</td>\n",
       "      <td>0.70</td>\n",
       "    </tr>\n",
       "    <tr>\n",
       "      <th>1498</th>\n",
       "      <td>Невидимки</td>\n",
       "      <td>111004213</td>\n",
       "      <td>2013-09-10</td>\n",
       "      <td>Художественный</td>\n",
       "      <td>ООО \"Компания \"РЕАЛ-ДАКОТА\"</td>\n",
       "      <td>Россия</td>\n",
       "      <td>Р.Давлетьяров, С.Комаров</td>\n",
       "      <td>Р.Давлетьяров, А.Котелевский, А.Олейников</td>\n",
       "      <td>«12+» - для детей старше 12 лет</td>\n",
       "      <td>0.00</td>\n",
       "      <td>107,847,945.00</td>\n",
       "      <td>176,023,490.00</td>\n",
       "      <td>Фонд кино</td>\n",
       "      <td>5.30</td>\n",
       "      <td>комедия,фантастика</td>\n",
       "      <td>19,957,031.50</td>\n",
       "      <td>2013</td>\n",
       "      <td>Р.Давлетьяров</td>\n",
       "      <td>комедия</td>\n",
       "      <td>0.61</td>\n",
       "    </tr>\n",
       "    <tr>\n",
       "      <th>1524</th>\n",
       "      <td>БЕРЦЫ</td>\n",
       "      <td>111004314</td>\n",
       "      <td>2014-05-06</td>\n",
       "      <td>Художественный</td>\n",
       "      <td>ООО \"Студия \"Пассажир\"</td>\n",
       "      <td>Россия</td>\n",
       "      <td>Е.Миндадзе (псевдоним Катя Шагалова)</td>\n",
       "      <td>Л.Антонова</td>\n",
       "      <td>«16+» - для детей старше 16 лет</td>\n",
       "      <td>0.00</td>\n",
       "      <td>28,000,000.00</td>\n",
       "      <td>40,574,140.00</td>\n",
       "      <td>Министерство культуры</td>\n",
       "      <td>4.20</td>\n",
       "      <td>драма</td>\n",
       "      <td>55,917.50</td>\n",
       "      <td>2014</td>\n",
       "      <td>Е.Миндадзе (псевдоним Катя Шагалова)</td>\n",
       "      <td>драма</td>\n",
       "      <td>0.69</td>\n",
       "    </tr>\n",
       "    <tr>\n",
       "      <th>1792</th>\n",
       "      <td>Братья Ч</td>\n",
       "      <td>111004414</td>\n",
       "      <td>2014-04-24</td>\n",
       "      <td>Художественный</td>\n",
       "      <td>ООО \"Студия \"Пассажир\"</td>\n",
       "      <td>Россия</td>\n",
       "      <td>М.Угаров</td>\n",
       "      <td>А.Миндадзе, Л.Антонова</td>\n",
       "      <td>«16+» - для детей старше 16 лет</td>\n",
       "      <td>0.00</td>\n",
       "      <td>25,000,000.00</td>\n",
       "      <td>40,015,122.00</td>\n",
       "      <td>Министерство культуры</td>\n",
       "      <td>6.40</td>\n",
       "      <td>драма</td>\n",
       "      <td>232,100.00</td>\n",
       "      <td>2014</td>\n",
       "      <td>М.Угаров</td>\n",
       "      <td>драма</td>\n",
       "      <td>0.62</td>\n",
       "    </tr>\n",
       "  </tbody>\n",
       "</table>\n",
       "</div>"
      ],
      "text/plain": [
       "                    title   puNumber show_start_date            type  \\\n",
       "1281        Пока еще жива  111005313      2013-10-12  Художественный   \n",
       "1448  Бесславные придурки  111003314      2014-03-29  Художественный   \n",
       "1498            Невидимки  111004213      2013-09-10  Художественный   \n",
       "1524                БЕРЦЫ  111004314      2014-05-06  Художественный   \n",
       "1792             Братья Ч  111004414      2014-04-24  Художественный   \n",
       "\n",
       "                                            film_studio production_country  \\\n",
       "1281  АНО содействия развитию кинематографии \"Ангел-...             Россия   \n",
       "1448                         ООО \"Компания \"АТК-Студио\"             Россия   \n",
       "1498                        ООО \"Компания \"РЕАЛ-ДАКОТА\"             Россия   \n",
       "1524                             ООО \"Студия \"Пассажир\"             Россия   \n",
       "1792                             ООО \"Студия \"Пассажир\"             Россия   \n",
       "\n",
       "                                  director  \\\n",
       "1281                            А.Атанесян   \n",
       "1448                             А.Якимчук   \n",
       "1498              Р.Давлетьяров, С.Комаров   \n",
       "1524  Е.Миндадзе (псевдоним Катя Шагалова)   \n",
       "1792                              М.Угаров   \n",
       "\n",
       "                                       producer  \\\n",
       "1281           А.Атанесян, М.Бабаханов, Р.Бутко   \n",
       "1448                                 А.Тютрюмов   \n",
       "1498  Р.Давлетьяров, А.Котелевский, А.Олейников   \n",
       "1524                                 Л.Антонова   \n",
       "1792                     А.Миндадзе, Л.Антонова   \n",
       "\n",
       "                      age_restriction  refundable_support  \\\n",
       "1281  «16+» - для детей старше 16 лет                0.00   \n",
       "1448  «12+» - для детей старше 12 лет                0.00   \n",
       "1498  «12+» - для детей старше 12 лет                0.00   \n",
       "1524  «16+» - для детей старше 16 лет                0.00   \n",
       "1792  «16+» - для детей старше 16 лет                0.00   \n",
       "\n",
       "      nonrefundable_support         budget       financing_source  ratings  \\\n",
       "1281          26,500,000.00  79,411,900.00  Министерство культуры     8.10   \n",
       "1448          26,000,000.00  37,142,857.00  Министерство культуры      nan   \n",
       "1498         107,847,945.00 176,023,490.00              Фонд кино     5.30   \n",
       "1524          28,000,000.00  40,574,140.00  Министерство культуры     4.20   \n",
       "1792          25,000,000.00  40,015,122.00  Министерство культуры     6.40   \n",
       "\n",
       "                  genres    box_office  year_show_start  \\\n",
       "1281     драма,мелодрама    365,353.60             2013   \n",
       "1448          Не указано     28,140.00             2014   \n",
       "1498  комедия,фантастика 19,957,031.50             2013   \n",
       "1524               драма     55,917.50             2014   \n",
       "1792               драма    232,100.00             2014   \n",
       "\n",
       "                             main_director  main_genre  %_support_budget  \n",
       "1281                            А.Атанесян       драма              0.33  \n",
       "1448                             А.Якимчук  Не указано              0.70  \n",
       "1498                         Р.Давлетьяров     комедия              0.61  \n",
       "1524  Е.Миндадзе (псевдоним Катя Шагалова)       драма              0.69  \n",
       "1792                              М.Угаров       драма              0.62  "
      ]
     },
     "execution_count": 29,
     "metadata": {},
     "output_type": "execute_result"
    }
   ],
   "source": [
    "data_support = data[data['budget'].isna() == False]\n",
    "data_support.head()"
   ]
  },
  {
   "cell_type": "markdown",
   "metadata": {},
   "source": [
    "#### Вывод"
   ]
  },
  {
   "cell_type": "markdown",
   "metadata": {},
   "source": [
    "На данном этапе, где это возможно, были преобразованы типы данных и были заполнены пропущенные значения. Также данные были проверены на наличие дубликатов. \n",
    "\n",
    "Была обнаружена проблема в категориальных значениях: в столбцах `film_studio`, `production_country`, `producer`, `director` и `genres` есть значения, где перечислены категории, поэтому их невозможно сгруппировать.\n",
    "\n",
    "В столбце `budget` были обнаружены подозрительные данные -  нулевые значения, такие строки было решено удалить.\n",
    "\n",
    "Были созданы новые столбцы `year_show_start` (информация о годе проката), `main_director` (имя и фамилия главного режиссёра), `main_genre` (основной жанр фильма) и `%_support_budget` (доля господдержки и бюджета)"
   ]
  },
  {
   "cell_type": "markdown",
   "metadata": {
    "id": "6t4EukPLgFyV"
   },
   "source": [
    "### Шаг 3. Проведите исследовательский анализ данных\n"
   ]
  },
  {
   "cell_type": "markdown",
   "metadata": {
    "id": "vAH8WCzugFyV"
   },
   "source": [
    "- Посмотрите, сколько фильмов выходило в прокат каждый год. Обратите внимание, что данные о прокате в кинотеатрах известны не для всех фильмов. Посчитайте, какую долю составляют фильмы с указанной информацией о прокате в кинотеатрах."
   ]
  },
  {
   "cell_type": "code",
   "execution_count": 30,
   "metadata": {},
   "outputs": [],
   "source": [
    "pivot_year_show_start = data.pivot_table(index='year_show_start', values = ('puNumber' , 'box_office'), aggfunc = 'count')"
   ]
  },
  {
   "cell_type": "code",
   "execution_count": 31,
   "metadata": {},
   "outputs": [
    {
     "data": {
      "text/html": [
       "<div>\n",
       "<style scoped>\n",
       "    .dataframe tbody tr th:only-of-type {\n",
       "        vertical-align: middle;\n",
       "    }\n",
       "\n",
       "    .dataframe tbody tr th {\n",
       "        vertical-align: top;\n",
       "    }\n",
       "\n",
       "    .dataframe thead th {\n",
       "        text-align: right;\n",
       "    }\n",
       "</style>\n",
       "<table border=\"1\" class=\"dataframe\">\n",
       "  <thead>\n",
       "    <tr style=\"text-align: right;\">\n",
       "      <th></th>\n",
       "      <th>box_office</th>\n",
       "      <th>puNumber</th>\n",
       "      <th>%</th>\n",
       "    </tr>\n",
       "    <tr>\n",
       "      <th>year_show_start</th>\n",
       "      <th></th>\n",
       "      <th></th>\n",
       "      <th></th>\n",
       "    </tr>\n",
       "  </thead>\n",
       "  <tbody>\n",
       "    <tr>\n",
       "      <th>2010</th>\n",
       "      <td>105</td>\n",
       "      <td>981</td>\n",
       "      <td>0.11</td>\n",
       "    </tr>\n",
       "    <tr>\n",
       "      <th>2011</th>\n",
       "      <td>109</td>\n",
       "      <td>622</td>\n",
       "      <td>0.18</td>\n",
       "    </tr>\n",
       "    <tr>\n",
       "      <th>2012</th>\n",
       "      <td>127</td>\n",
       "      <td>590</td>\n",
       "      <td>0.22</td>\n",
       "    </tr>\n",
       "    <tr>\n",
       "      <th>2013</th>\n",
       "      <td>185</td>\n",
       "      <td>633</td>\n",
       "      <td>0.29</td>\n",
       "    </tr>\n",
       "    <tr>\n",
       "      <th>2014</th>\n",
       "      <td>278</td>\n",
       "      <td>804</td>\n",
       "      <td>0.35</td>\n",
       "    </tr>\n",
       "    <tr>\n",
       "      <th>2015</th>\n",
       "      <td>459</td>\n",
       "      <td>700</td>\n",
       "      <td>0.66</td>\n",
       "    </tr>\n",
       "    <tr>\n",
       "      <th>2016</th>\n",
       "      <td>523</td>\n",
       "      <td>815</td>\n",
       "      <td>0.64</td>\n",
       "    </tr>\n",
       "    <tr>\n",
       "      <th>2017</th>\n",
       "      <td>355</td>\n",
       "      <td>503</td>\n",
       "      <td>0.71</td>\n",
       "    </tr>\n",
       "    <tr>\n",
       "      <th>2018</th>\n",
       "      <td>471</td>\n",
       "      <td>887</td>\n",
       "      <td>0.53</td>\n",
       "    </tr>\n",
       "    <tr>\n",
       "      <th>2019</th>\n",
       "      <td>529</td>\n",
       "      <td>929</td>\n",
       "      <td>0.57</td>\n",
       "    </tr>\n",
       "  </tbody>\n",
       "</table>\n",
       "</div>"
      ],
      "text/plain": [
       "                 box_office  puNumber    %\n",
       "year_show_start                           \n",
       "2010                    105       981 0.11\n",
       "2011                    109       622 0.18\n",
       "2012                    127       590 0.22\n",
       "2013                    185       633 0.29\n",
       "2014                    278       804 0.35\n",
       "2015                    459       700 0.66\n",
       "2016                    523       815 0.64\n",
       "2017                    355       503 0.71\n",
       "2018                    471       887 0.53\n",
       "2019                    529       929 0.57"
      ]
     },
     "execution_count": 31,
     "metadata": {},
     "output_type": "execute_result"
    }
   ],
   "source": [
    "pivot_year_show_start['%'] = pivot_year_show_start['box_office'] / pivot_year_show_start['puNumber']\n",
    "pivot_year_show_start"
   ]
  },
  {
   "cell_type": "markdown",
   "metadata": {},
   "source": [
    "График с количеством фильмов, выходивших в прокат и имеющих информацию о сборах по годам:"
   ]
  },
  {
   "cell_type": "code",
   "execution_count": 32,
   "metadata": {},
   "outputs": [
    {
     "data": {
      "text/plain": [
       "<AxesSubplot:xlabel='year_show_start', ylabel='box_office'>"
      ]
     },
     "execution_count": 32,
     "metadata": {},
     "output_type": "execute_result"
    },
    {
     "data": {
      "image/png": "[encoded data removed]",
      "text/plain": [
       "<Figure size 432x288 with 1 Axes>"
      ]
     },
     "metadata": {
      "needs_background": "light"
     },
     "output_type": "display_data"
    }
   ],
   "source": [
    "sns.barplot(x=pivot_year_show_start.index, y='box_office', data=pivot_year_show_start)"
   ]
  },
  {
   "cell_type": "code",
   "execution_count": 33,
   "metadata": {},
   "outputs": [
    {
     "data": {
      "text/plain": [
       "746.4"
      ]
     },
     "execution_count": 33,
     "metadata": {},
     "output_type": "execute_result"
    }
   ],
   "source": [
    "pivot_year_show_start['puNumber'].mean()"
   ]
  },
  {
   "cell_type": "code",
   "execution_count": 34,
   "metadata": {},
   "outputs": [
    {
     "data": {
      "text/plain": [
       "'42%'"
      ]
     },
     "execution_count": 34,
     "metadata": {},
     "output_type": "execute_result"
    }
   ],
   "source": [
    "'{:.0%}'.format(data['box_office'].count() / data.shape[0])"
   ]
  },
  {
   "cell_type": "markdown",
   "metadata": {},
   "source": [
    "В среднем в год выходит около 750 фильмов. В имеющихся данных информация о сборах известна у 42% фильмов, причем у более новых фильмов информации о сборах больше."
   ]
  },
  {
   "cell_type": "markdown",
   "metadata": {
    "id": "BEOdcIrIgFyW"
   },
   "source": [
    "- Изучите, как менялась динамика проката по годам. В каком году сумма сборов была минимальной? А максимальной?"
   ]
  },
  {
   "cell_type": "code",
   "execution_count": 35,
   "metadata": {
    "id": "tfEhofYvgFyX"
   },
   "outputs": [
    {
     "data": {
      "text/html": [
       "<div>\n",
       "<style scoped>\n",
       "    .dataframe tbody tr th:only-of-type {\n",
       "        vertical-align: middle;\n",
       "    }\n",
       "\n",
       "    .dataframe tbody tr th {\n",
       "        vertical-align: top;\n",
       "    }\n",
       "\n",
       "    .dataframe thead th {\n",
       "        text-align: right;\n",
       "    }\n",
       "</style>\n",
       "<table border=\"1\" class=\"dataframe\">\n",
       "  <thead>\n",
       "    <tr style=\"text-align: right;\">\n",
       "      <th></th>\n",
       "      <th>box_office</th>\n",
       "    </tr>\n",
       "    <tr>\n",
       "      <th>year_show_start</th>\n",
       "      <th></th>\n",
       "    </tr>\n",
       "  </thead>\n",
       "  <tbody>\n",
       "    <tr>\n",
       "      <th>2010</th>\n",
       "      <td>2,428,654.00</td>\n",
       "    </tr>\n",
       "    <tr>\n",
       "      <th>2011</th>\n",
       "      <td>14,102,765.00</td>\n",
       "    </tr>\n",
       "    <tr>\n",
       "      <th>2012</th>\n",
       "      <td>6,954,873.00</td>\n",
       "    </tr>\n",
       "    <tr>\n",
       "      <th>2013</th>\n",
       "      <td>29,800,256.20</td>\n",
       "    </tr>\n",
       "    <tr>\n",
       "      <th>2014</th>\n",
       "      <td>7,434,717,843.10</td>\n",
       "    </tr>\n",
       "    <tr>\n",
       "      <th>2015</th>\n",
       "      <td>38,527,827,199.09</td>\n",
       "    </tr>\n",
       "    <tr>\n",
       "      <th>2016</th>\n",
       "      <td>46,742,316,269.48</td>\n",
       "    </tr>\n",
       "    <tr>\n",
       "      <th>2017</th>\n",
       "      <td>48,458,147,253.75</td>\n",
       "    </tr>\n",
       "    <tr>\n",
       "      <th>2018</th>\n",
       "      <td>49,251,991,405.20</td>\n",
       "    </tr>\n",
       "    <tr>\n",
       "      <th>2019</th>\n",
       "      <td>48,278,101,953.08</td>\n",
       "    </tr>\n",
       "  </tbody>\n",
       "</table>\n",
       "</div>"
      ],
      "text/plain": [
       "                       box_office\n",
       "year_show_start                  \n",
       "2010                 2,428,654.00\n",
       "2011                14,102,765.00\n",
       "2012                 6,954,873.00\n",
       "2013                29,800,256.20\n",
       "2014             7,434,717,843.10\n",
       "2015            38,527,827,199.09\n",
       "2016            46,742,316,269.48\n",
       "2017            48,458,147,253.75\n",
       "2018            49,251,991,405.20\n",
       "2019            48,278,101,953.08"
      ]
     },
     "execution_count": 35,
     "metadata": {},
     "output_type": "execute_result"
    }
   ],
   "source": [
    "pivot_table_sum = data.pivot_table(index='year_show_start', values='box_office', aggfunc='sum')\n",
    "pivot_table_sum"
   ]
  },
  {
   "cell_type": "code",
   "execution_count": 36,
   "metadata": {},
   "outputs": [
    {
     "data": {
      "text/plain": [
       "<AxesSubplot:xlabel='year_show_start'>"
      ]
     },
     "execution_count": 36,
     "metadata": {},
     "output_type": "execute_result"
    },
    {
     "data": {
      "image/png": "[encoded data removed]",
      "text/plain": [
       "<Figure size 432x288 with 1 Axes>"
      ]
     },
     "metadata": {
      "needs_background": "light"
     },
     "output_type": "display_data"
    }
   ],
   "source": [
    "pivot_table_sum.plot()"
   ]
  },
  {
   "cell_type": "code",
   "execution_count": 37,
   "metadata": {},
   "outputs": [
    {
     "data": {
      "text/html": [
       "<div>\n",
       "<style scoped>\n",
       "    .dataframe tbody tr th:only-of-type {\n",
       "        vertical-align: middle;\n",
       "    }\n",
       "\n",
       "    .dataframe tbody tr th {\n",
       "        vertical-align: top;\n",
       "    }\n",
       "\n",
       "    .dataframe thead th {\n",
       "        text-align: right;\n",
       "    }\n",
       "</style>\n",
       "<table border=\"1\" class=\"dataframe\">\n",
       "  <thead>\n",
       "    <tr style=\"text-align: right;\">\n",
       "      <th></th>\n",
       "      <th>box_office</th>\n",
       "    </tr>\n",
       "    <tr>\n",
       "      <th>year_show_start</th>\n",
       "      <th></th>\n",
       "    </tr>\n",
       "  </thead>\n",
       "  <tbody>\n",
       "    <tr>\n",
       "      <th>2010</th>\n",
       "      <td>2,428,654.00</td>\n",
       "    </tr>\n",
       "    <tr>\n",
       "      <th>2018</th>\n",
       "      <td>49,251,991,405.20</td>\n",
       "    </tr>\n",
       "  </tbody>\n",
       "</table>\n",
       "</div>"
      ],
      "text/plain": [
       "                       box_office\n",
       "year_show_start                  \n",
       "2010                 2,428,654.00\n",
       "2018            49,251,991,405.20"
      ]
     },
     "execution_count": 37,
     "metadata": {},
     "output_type": "execute_result"
    }
   ],
   "source": [
    "pivot_table_sum.query('box_office == box_office.min() or box_office == box_office.max()')"
   ]
  },
  {
   "cell_type": "markdown",
   "metadata": {},
   "source": [
    "Сумма сборов увеличивается с каждым годом, минимальная сумма сборов была в 2010 году, а максимальная в 2018."
   ]
  },
  {
   "cell_type": "markdown",
   "metadata": {
    "id": "G-7qS-N-gFyY"
   },
   "source": [
    "- С помощью сводной таблицы посчитайте среднюю и медианную сумму сборов для каждого года."
   ]
  },
  {
   "cell_type": "code",
   "execution_count": 38,
   "metadata": {
    "id": "jmp-rgg9gFyY"
   },
   "outputs": [
    {
     "data": {
      "text/html": [
       "<div>\n",
       "<style scoped>\n",
       "    .dataframe tbody tr th:only-of-type {\n",
       "        vertical-align: middle;\n",
       "    }\n",
       "\n",
       "    .dataframe tbody tr th {\n",
       "        vertical-align: top;\n",
       "    }\n",
       "\n",
       "    .dataframe thead th {\n",
       "        text-align: right;\n",
       "    }\n",
       "</style>\n",
       "<table border=\"1\" class=\"dataframe\">\n",
       "  <thead>\n",
       "    <tr style=\"text-align: right;\">\n",
       "      <th></th>\n",
       "      <th>mean</th>\n",
       "      <th>median</th>\n",
       "    </tr>\n",
       "    <tr>\n",
       "      <th>year_show_start</th>\n",
       "      <th></th>\n",
       "      <th></th>\n",
       "    </tr>\n",
       "  </thead>\n",
       "  <tbody>\n",
       "    <tr>\n",
       "      <th>2010</th>\n",
       "      <td>23,130.04</td>\n",
       "      <td>1,700.00</td>\n",
       "    </tr>\n",
       "    <tr>\n",
       "      <th>2011</th>\n",
       "      <td>129,383.17</td>\n",
       "      <td>3,000.00</td>\n",
       "    </tr>\n",
       "    <tr>\n",
       "      <th>2012</th>\n",
       "      <td>54,762.78</td>\n",
       "      <td>5,760.00</td>\n",
       "    </tr>\n",
       "    <tr>\n",
       "      <th>2013</th>\n",
       "      <td>161,082.47</td>\n",
       "      <td>3,500.00</td>\n",
       "    </tr>\n",
       "    <tr>\n",
       "      <th>2014</th>\n",
       "      <td>26,743,589.36</td>\n",
       "      <td>18,137.50</td>\n",
       "    </tr>\n",
       "    <tr>\n",
       "      <th>2015</th>\n",
       "      <td>83,938,621.35</td>\n",
       "      <td>4,784,781.50</td>\n",
       "    </tr>\n",
       "    <tr>\n",
       "      <th>2016</th>\n",
       "      <td>89,373,453.67</td>\n",
       "      <td>3,776,087.56</td>\n",
       "    </tr>\n",
       "    <tr>\n",
       "      <th>2017</th>\n",
       "      <td>136,501,823.25</td>\n",
       "      <td>9,919,415.00</td>\n",
       "    </tr>\n",
       "    <tr>\n",
       "      <th>2018</th>\n",
       "      <td>104,568,983.88</td>\n",
       "      <td>8,751,895.75</td>\n",
       "    </tr>\n",
       "    <tr>\n",
       "      <th>2019</th>\n",
       "      <td>91,262,952.65</td>\n",
       "      <td>4,601,033.60</td>\n",
       "    </tr>\n",
       "  </tbody>\n",
       "</table>\n",
       "</div>"
      ],
      "text/plain": [
       "                          mean       median\n",
       "year_show_start                            \n",
       "2010                 23,130.04     1,700.00\n",
       "2011                129,383.17     3,000.00\n",
       "2012                 54,762.78     5,760.00\n",
       "2013                161,082.47     3,500.00\n",
       "2014             26,743,589.36    18,137.50\n",
       "2015             83,938,621.35 4,784,781.50\n",
       "2016             89,373,453.67 3,776,087.56\n",
       "2017            136,501,823.25 9,919,415.00\n",
       "2018            104,568,983.88 8,751,895.75\n",
       "2019             91,262,952.65 4,601,033.60"
      ]
     },
     "execution_count": 38,
     "metadata": {},
     "output_type": "execute_result"
    }
   ],
   "source": [
    "data.pivot_table(index='year_show_start', values='box_office', aggfunc = ('mean', 'median'))"
   ]
  },
  {
   "cell_type": "markdown",
   "metadata": {},
   "source": [
    "Медианная сумма сборов каждый год гораздо ниже чем средняя, что говорит о том, что есть фильмы с очень большими суммами сборов, которые влияют на среднее значение."
   ]
  },
  {
   "cell_type": "markdown",
   "metadata": {
    "id": "Ok89WFwJgFyZ"
   },
   "source": [
    "- Определите, влияет ли возрастное ограничение аудитории («6+», «12+», «16+», «18+» и т. д.) на сборы фильма в прокате в период с 2015 по 2019 год? Фильмы с каким возрастным ограничением собрали больше всего денег в прокате? Меняется ли картина в зависимости от года? Если да, предположите, с чем это может быть связано."
   ]
  },
  {
   "cell_type": "code",
   "execution_count": 39,
   "metadata": {
    "id": "jsSbEqfjgFya"
   },
   "outputs": [
    {
     "data": {
      "text/html": [
       "<div>\n",
       "<style scoped>\n",
       "    .dataframe tbody tr th:only-of-type {\n",
       "        vertical-align: middle;\n",
       "    }\n",
       "\n",
       "    .dataframe tbody tr th {\n",
       "        vertical-align: top;\n",
       "    }\n",
       "\n",
       "    .dataframe thead th {\n",
       "        text-align: right;\n",
       "    }\n",
       "</style>\n",
       "<table border=\"1\" class=\"dataframe\">\n",
       "  <thead>\n",
       "    <tr style=\"text-align: right;\">\n",
       "      <th>age_restriction</th>\n",
       "      <th>«0+» - для любой зрительской аудитории</th>\n",
       "      <th>«12+» - для детей старше 12 лет</th>\n",
       "      <th>«16+» - для детей старше 16 лет</th>\n",
       "      <th>«18+» - запрещено для детей</th>\n",
       "      <th>«6+» - для детей старше 6 лет</th>\n",
       "    </tr>\n",
       "    <tr>\n",
       "      <th>year_show_start</th>\n",
       "      <th></th>\n",
       "      <th></th>\n",
       "      <th></th>\n",
       "      <th></th>\n",
       "      <th></th>\n",
       "    </tr>\n",
       "  </thead>\n",
       "  <tbody>\n",
       "    <tr>\n",
       "      <th>2015</th>\n",
       "      <td>379,054,578.37</td>\n",
       "      <td>13,419,509,570.51</td>\n",
       "      <td>10,781,600,601.27</td>\n",
       "      <td>5,430,350,628.93</td>\n",
       "      <td>8,517,311,820.01</td>\n",
       "    </tr>\n",
       "    <tr>\n",
       "      <th>2016</th>\n",
       "      <td>150,228,848.67</td>\n",
       "      <td>11,150,762,103.96</td>\n",
       "      <td>16,594,249,489.74</td>\n",
       "      <td>6,793,929,818.87</td>\n",
       "      <td>12,053,146,008.24</td>\n",
       "    </tr>\n",
       "    <tr>\n",
       "      <th>2017</th>\n",
       "      <td>229,598,930.00</td>\n",
       "      <td>7,851,427,660.67</td>\n",
       "      <td>18,694,590,951.06</td>\n",
       "      <td>9,651,495,581.02</td>\n",
       "      <td>12,031,034,131.00</td>\n",
       "    </tr>\n",
       "    <tr>\n",
       "      <th>2018</th>\n",
       "      <td>32,449,002.11</td>\n",
       "      <td>14,267,291,660.69</td>\n",
       "      <td>16,278,405,946.93</td>\n",
       "      <td>8,760,085,501.15</td>\n",
       "      <td>9,913,759,294.32</td>\n",
       "    </tr>\n",
       "    <tr>\n",
       "      <th>2019</th>\n",
       "      <td>17,746,066.82</td>\n",
       "      <td>12,680,198,773.67</td>\n",
       "      <td>12,753,418,984.60</td>\n",
       "      <td>10,121,796,303.64</td>\n",
       "      <td>12,704,941,824.35</td>\n",
       "    </tr>\n",
       "  </tbody>\n",
       "</table>\n",
       "</div>"
      ],
      "text/plain": [
       "age_restriction  «0+» - для любой зрительской аудитории  \\\n",
       "year_show_start                                           \n",
       "2015                                     379,054,578.37   \n",
       "2016                                     150,228,848.67   \n",
       "2017                                     229,598,930.00   \n",
       "2018                                      32,449,002.11   \n",
       "2019                                      17,746,066.82   \n",
       "\n",
       "age_restriction  «12+» - для детей старше 12 лет  \\\n",
       "year_show_start                                    \n",
       "2015                           13,419,509,570.51   \n",
       "2016                           11,150,762,103.96   \n",
       "2017                            7,851,427,660.67   \n",
       "2018                           14,267,291,660.69   \n",
       "2019                           12,680,198,773.67   \n",
       "\n",
       "age_restriction  «16+» - для детей старше 16 лет  «18+» - запрещено для детей  \\\n",
       "year_show_start                                                                 \n",
       "2015                           10,781,600,601.27             5,430,350,628.93   \n",
       "2016                           16,594,249,489.74             6,793,929,818.87   \n",
       "2017                           18,694,590,951.06             9,651,495,581.02   \n",
       "2018                           16,278,405,946.93             8,760,085,501.15   \n",
       "2019                           12,753,418,984.60            10,121,796,303.64   \n",
       "\n",
       "age_restriction  «6+» - для детей старше 6 лет  \n",
       "year_show_start                                 \n",
       "2015                          8,517,311,820.01  \n",
       "2016                         12,053,146,008.24  \n",
       "2017                         12,031,034,131.00  \n",
       "2018                          9,913,759,294.32  \n",
       "2019                         12,704,941,824.35  "
      ]
     },
     "execution_count": 39,
     "metadata": {},
     "output_type": "execute_result"
    }
   ],
   "source": [
    "age_years_pivot_sum = (data.pivot_table(index='year_show_start', values='box_office', columns = 'age_restriction', aggfunc='sum')\n",
    ".query('year_show_start >= 2015')\n",
    ")\n",
    "age_years_pivot_sum"
   ]
  },
  {
   "cell_type": "code",
   "execution_count": 40,
   "metadata": {},
   "outputs": [
    {
     "data": {
      "image/png": "[encoded data removed]",
      "text/plain": [
       "<Figure size 1440x720 with 1 Axes>"
      ]
     },
     "metadata": {
      "needs_background": "light"
     },
     "output_type": "display_data"
    }
   ],
   "source": [
    "ax = age_years_pivot_sum.plot(figsize=(20, 10), grid=True)\n",
    "ax.set_ylabel('Сумма сборов')\n",
    "ax.set_xlabel('Год выхода')\n",
    "plt.xticks(age_years_pivot_sum.index.values, age_years_pivot_sum.index.values)\n",
    "plt.show()"
   ]
  },
  {
   "cell_type": "code",
   "execution_count": 41,
   "metadata": {},
   "outputs": [
    {
     "name": "stdout",
     "output_type": "stream",
     "text": [
      "809077425.97 «0+» - для любой зрительской аудитории\n",
      "59369189769.49999 «12+» - для детей старше 12 лет\n",
      "75102265973.6 «16+» - для детей старше 16 лет\n",
      "40757657833.61 «18+» - запрещено для детей\n",
      "55220193077.92 «6+» - для детей старше 6 лет\n"
     ]
    }
   ],
   "source": [
    "for col in age_years_pivot_sum.columns:\n",
    "    print(age_years_pivot_sum[col].sum(), col) "
   ]
  },
  {
   "cell_type": "markdown",
   "metadata": {},
   "source": [
    "Сумма сборов с 2015 по 2019 больше всех у фильмов с ограничением «16+» - для детей старше 16 лет "
   ]
  },
  {
   "cell_type": "code",
   "execution_count": 42,
   "metadata": {},
   "outputs": [
    {
     "data": {
      "text/html": [
       "<div>\n",
       "<style scoped>\n",
       "    .dataframe tbody tr th:only-of-type {\n",
       "        vertical-align: middle;\n",
       "    }\n",
       "\n",
       "    .dataframe tbody tr th {\n",
       "        vertical-align: top;\n",
       "    }\n",
       "\n",
       "    .dataframe thead th {\n",
       "        text-align: right;\n",
       "    }\n",
       "</style>\n",
       "<table border=\"1\" class=\"dataframe\">\n",
       "  <thead>\n",
       "    <tr style=\"text-align: right;\">\n",
       "      <th>age_restriction</th>\n",
       "      <th>«0+» - для любой зрительской аудитории</th>\n",
       "      <th>«12+» - для детей старше 12 лет</th>\n",
       "      <th>«16+» - для детей старше 16 лет</th>\n",
       "      <th>«18+» - запрещено для детей</th>\n",
       "      <th>«6+» - для детей старше 6 лет</th>\n",
       "    </tr>\n",
       "    <tr>\n",
       "      <th>year_show_start</th>\n",
       "      <th></th>\n",
       "      <th></th>\n",
       "      <th></th>\n",
       "      <th></th>\n",
       "      <th></th>\n",
       "    </tr>\n",
       "  </thead>\n",
       "  <tbody>\n",
       "    <tr>\n",
       "      <th>2015</th>\n",
       "      <td>9,719,348.16</td>\n",
       "      <td>186,382,077.37</td>\n",
       "      <td>65,343,033.95</td>\n",
       "      <td>41,453,058.24</td>\n",
       "      <td>163,794,458.08</td>\n",
       "    </tr>\n",
       "    <tr>\n",
       "      <th>2016</th>\n",
       "      <td>3,664,118.26</td>\n",
       "      <td>139,384,526.30</td>\n",
       "      <td>91,680,936.41</td>\n",
       "      <td>44,992,912.71</td>\n",
       "      <td>172,187,800.12</td>\n",
       "    </tr>\n",
       "    <tr>\n",
       "      <th>2017</th>\n",
       "      <td>76,532,976.67</td>\n",
       "      <td>191,498,235.63</td>\n",
       "      <td>155,788,257.93</td>\n",
       "      <td>65,656,432.52</td>\n",
       "      <td>273,432,593.89</td>\n",
       "    </tr>\n",
       "    <tr>\n",
       "      <th>2018</th>\n",
       "      <td>6,489,800.42</td>\n",
       "      <td>212,944,651.65</td>\n",
       "      <td>105,021,973.85</td>\n",
       "      <td>48,939,025.15</td>\n",
       "      <td>152,519,373.76</td>\n",
       "    </tr>\n",
       "    <tr>\n",
       "      <th>2019</th>\n",
       "      <td>5,915,355.61</td>\n",
       "      <td>149,178,809.10</td>\n",
       "      <td>71,648,421.26</td>\n",
       "      <td>55,310,362.31</td>\n",
       "      <td>158,811,772.80</td>\n",
       "    </tr>\n",
       "  </tbody>\n",
       "</table>\n",
       "</div>"
      ],
      "text/plain": [
       "age_restriction  «0+» - для любой зрительской аудитории  \\\n",
       "year_show_start                                           \n",
       "2015                                       9,719,348.16   \n",
       "2016                                       3,664,118.26   \n",
       "2017                                      76,532,976.67   \n",
       "2018                                       6,489,800.42   \n",
       "2019                                       5,915,355.61   \n",
       "\n",
       "age_restriction  «12+» - для детей старше 12 лет  \\\n",
       "year_show_start                                    \n",
       "2015                              186,382,077.37   \n",
       "2016                              139,384,526.30   \n",
       "2017                              191,498,235.63   \n",
       "2018                              212,944,651.65   \n",
       "2019                              149,178,809.10   \n",
       "\n",
       "age_restriction  «16+» - для детей старше 16 лет  «18+» - запрещено для детей  \\\n",
       "year_show_start                                                                 \n",
       "2015                               65,343,033.95                41,453,058.24   \n",
       "2016                               91,680,936.41                44,992,912.71   \n",
       "2017                              155,788,257.93                65,656,432.52   \n",
       "2018                              105,021,973.85                48,939,025.15   \n",
       "2019                               71,648,421.26                55,310,362.31   \n",
       "\n",
       "age_restriction  «6+» - для детей старше 6 лет  \n",
       "year_show_start                                 \n",
       "2015                            163,794,458.08  \n",
       "2016                            172,187,800.12  \n",
       "2017                            273,432,593.89  \n",
       "2018                            152,519,373.76  \n",
       "2019                            158,811,772.80  "
      ]
     },
     "execution_count": 42,
     "metadata": {},
     "output_type": "execute_result"
    }
   ],
   "source": [
    "age_years_pivot_mean = (data.pivot_table(index='year_show_start', values='box_office', columns = 'age_restriction', aggfunc='mean')\n",
    ".query('year_show_start >= 2015')\n",
    ")\n",
    "age_years_pivot_mean"
   ]
  },
  {
   "cell_type": "code",
   "execution_count": 43,
   "metadata": {},
   "outputs": [
    {
     "data": {
      "image/png": "[encoded data removed]",
      "text/plain": [
       "<Figure size 1440x720 with 1 Axes>"
      ]
     },
     "metadata": {
      "needs_background": "light"
     },
     "output_type": "display_data"
    }
   ],
   "source": [
    "bx = age_years_pivot_mean.plot(figsize=(20, 10), grid=True)\n",
    "bx.set_ylabel('Средние сборы')\n",
    "bx.set_xlabel('Год выхода')\n",
    "plt.xticks(age_years_pivot_mean.index.values, age_years_pivot_mean.index.values)\n",
    "plt.show()"
   ]
  },
  {
   "cell_type": "code",
   "execution_count": 44,
   "metadata": {},
   "outputs": [
    {
     "name": "stdout",
     "output_type": "stream",
     "text": [
      "20464319.823782116 «0+» - для любой зрительской аудитории\n",
      "175877660.0095763 «12+» - для детей старше 12 лет\n",
      "97896524.67859067 «16+» - для детей старше 16 лет\n",
      "51270358.185772575 «18+» - запрещено для детей\n",
      "184149199.72886747 «6+» - для детей старше 6 лет\n"
     ]
    }
   ],
   "source": [
    "for col in age_years_pivot_mean.columns:\n",
    "    print(age_years_pivot_mean[col].mean(), col)"
   ]
  },
  {
   "cell_type": "markdown",
   "metadata": {},
   "source": [
    "Среднее сборов с 2015 по 2019 больше у фильмов с ограничением «6+» - для детей старше 6 лет"
   ]
  },
  {
   "cell_type": "markdown",
   "metadata": {},
   "source": [
    "Подводя итог, можно предположить, что фильмов «16+» выходит больше, поэтому сумма сборов у них больше, однако сборы фильмов «6+» в среднем выше, соответственно они пользуются большим успехом."
   ]
  },
  {
   "cell_type": "markdown",
   "metadata": {},
   "source": [
    "#### Вывод"
   ]
  },
  {
   "cell_type": "markdown",
   "metadata": {},
   "source": [
    "На данном этапе исследования можно сделать следующие выводы:\n",
    "- В среднем в год выходит около 750 фильмов. В имеющихся данных информация о сборах известна у 42% фильмов, причем у более новых фильмов информации о сборах больше.\n",
    "- Сумма сборов увеличивается с каждым годом, минимальная сумма сборов была в 2010 году, а максимальная в 2018.\n",
    "- Есть фильмы с очень большими суммами сборов, которые влияют на среднее значение.\n",
    "- Фильмов «16+» выходит больше, поэтому сумма сборов у них больше, однако сборы фильмов «6+» в среднем выше, соответственно они пользуются большим успехом."
   ]
  },
  {
   "cell_type": "markdown",
   "metadata": {
    "id": "l_Kg6Ku4gFya"
   },
   "source": [
    "### Шаг 4. Исследуйте фильмы, которые получили государственную поддержку\n",
    "\n",
    "На этом этапе нет конкретных инструкций и заданий — поищите интересные закономерности в данных. Посмотрите, сколько выделяют средств на поддержку кино. Проверьте, хорошо ли окупаются такие фильмы, какой у них рейтинг."
   ]
  },
  {
   "cell_type": "code",
   "execution_count": 45,
   "metadata": {
    "id": "W9QKpjUdgFyb",
    "scrolled": false
   },
   "outputs": [
    {
     "data": {
      "text/html": [
       "<div>\n",
       "<style scoped>\n",
       "    .dataframe tbody tr th:only-of-type {\n",
       "        vertical-align: middle;\n",
       "    }\n",
       "\n",
       "    .dataframe tbody tr th {\n",
       "        vertical-align: top;\n",
       "    }\n",
       "\n",
       "    .dataframe thead th {\n",
       "        text-align: right;\n",
       "    }\n",
       "</style>\n",
       "<table border=\"1\" class=\"dataframe\">\n",
       "  <thead>\n",
       "    <tr style=\"text-align: right;\">\n",
       "      <th></th>\n",
       "      <th>title</th>\n",
       "      <th>puNumber</th>\n",
       "      <th>show_start_date</th>\n",
       "      <th>type</th>\n",
       "      <th>film_studio</th>\n",
       "      <th>production_country</th>\n",
       "      <th>director</th>\n",
       "      <th>producer</th>\n",
       "      <th>age_restriction</th>\n",
       "      <th>refundable_support</th>\n",
       "      <th>nonrefundable_support</th>\n",
       "      <th>budget</th>\n",
       "      <th>financing_source</th>\n",
       "      <th>ratings</th>\n",
       "      <th>genres</th>\n",
       "      <th>box_office</th>\n",
       "      <th>year_show_start</th>\n",
       "      <th>main_director</th>\n",
       "      <th>main_genre</th>\n",
       "      <th>%_support_budget</th>\n",
       "    </tr>\n",
       "  </thead>\n",
       "  <tbody>\n",
       "    <tr>\n",
       "      <th>1281</th>\n",
       "      <td>Пока еще жива</td>\n",
       "      <td>111005313</td>\n",
       "      <td>2013-10-12</td>\n",
       "      <td>Художественный</td>\n",
       "      <td>АНО содействия развитию кинематографии \"Ангел-...</td>\n",
       "      <td>Россия</td>\n",
       "      <td>А.Атанесян</td>\n",
       "      <td>А.Атанесян, М.Бабаханов, Р.Бутко</td>\n",
       "      <td>«16+» - для детей старше 16 лет</td>\n",
       "      <td>0.00</td>\n",
       "      <td>26,500,000.00</td>\n",
       "      <td>79,411,900.00</td>\n",
       "      <td>Министерство культуры</td>\n",
       "      <td>8.10</td>\n",
       "      <td>драма,мелодрама</td>\n",
       "      <td>365,353.60</td>\n",
       "      <td>2013</td>\n",
       "      <td>А.Атанесян</td>\n",
       "      <td>драма</td>\n",
       "      <td>0.33</td>\n",
       "    </tr>\n",
       "    <tr>\n",
       "      <th>1448</th>\n",
       "      <td>Бесславные придурки</td>\n",
       "      <td>111003314</td>\n",
       "      <td>2014-03-29</td>\n",
       "      <td>Художественный</td>\n",
       "      <td>ООО \"Компания \"АТК-Студио\"</td>\n",
       "      <td>Россия</td>\n",
       "      <td>А.Якимчук</td>\n",
       "      <td>А.Тютрюмов</td>\n",
       "      <td>«12+» - для детей старше 12 лет</td>\n",
       "      <td>0.00</td>\n",
       "      <td>26,000,000.00</td>\n",
       "      <td>37,142,857.00</td>\n",
       "      <td>Министерство культуры</td>\n",
       "      <td>nan</td>\n",
       "      <td>Не указано</td>\n",
       "      <td>28,140.00</td>\n",
       "      <td>2014</td>\n",
       "      <td>А.Якимчук</td>\n",
       "      <td>Не указано</td>\n",
       "      <td>0.70</td>\n",
       "    </tr>\n",
       "    <tr>\n",
       "      <th>1498</th>\n",
       "      <td>Невидимки</td>\n",
       "      <td>111004213</td>\n",
       "      <td>2013-09-10</td>\n",
       "      <td>Художественный</td>\n",
       "      <td>ООО \"Компания \"РЕАЛ-ДАКОТА\"</td>\n",
       "      <td>Россия</td>\n",
       "      <td>Р.Давлетьяров, С.Комаров</td>\n",
       "      <td>Р.Давлетьяров, А.Котелевский, А.Олейников</td>\n",
       "      <td>«12+» - для детей старше 12 лет</td>\n",
       "      <td>0.00</td>\n",
       "      <td>107,847,945.00</td>\n",
       "      <td>176,023,490.00</td>\n",
       "      <td>Фонд кино</td>\n",
       "      <td>5.30</td>\n",
       "      <td>комедия,фантастика</td>\n",
       "      <td>19,957,031.50</td>\n",
       "      <td>2013</td>\n",
       "      <td>Р.Давлетьяров</td>\n",
       "      <td>комедия</td>\n",
       "      <td>0.61</td>\n",
       "    </tr>\n",
       "    <tr>\n",
       "      <th>1524</th>\n",
       "      <td>БЕРЦЫ</td>\n",
       "      <td>111004314</td>\n",
       "      <td>2014-05-06</td>\n",
       "      <td>Художественный</td>\n",
       "      <td>ООО \"Студия \"Пассажир\"</td>\n",
       "      <td>Россия</td>\n",
       "      <td>Е.Миндадзе (псевдоним Катя Шагалова)</td>\n",
       "      <td>Л.Антонова</td>\n",
       "      <td>«16+» - для детей старше 16 лет</td>\n",
       "      <td>0.00</td>\n",
       "      <td>28,000,000.00</td>\n",
       "      <td>40,574,140.00</td>\n",
       "      <td>Министерство культуры</td>\n",
       "      <td>4.20</td>\n",
       "      <td>драма</td>\n",
       "      <td>55,917.50</td>\n",
       "      <td>2014</td>\n",
       "      <td>Е.Миндадзе (псевдоним Катя Шагалова)</td>\n",
       "      <td>драма</td>\n",
       "      <td>0.69</td>\n",
       "    </tr>\n",
       "    <tr>\n",
       "      <th>1792</th>\n",
       "      <td>Братья Ч</td>\n",
       "      <td>111004414</td>\n",
       "      <td>2014-04-24</td>\n",
       "      <td>Художественный</td>\n",
       "      <td>ООО \"Студия \"Пассажир\"</td>\n",
       "      <td>Россия</td>\n",
       "      <td>М.Угаров</td>\n",
       "      <td>А.Миндадзе, Л.Антонова</td>\n",
       "      <td>«16+» - для детей старше 16 лет</td>\n",
       "      <td>0.00</td>\n",
       "      <td>25,000,000.00</td>\n",
       "      <td>40,015,122.00</td>\n",
       "      <td>Министерство культуры</td>\n",
       "      <td>6.40</td>\n",
       "      <td>драма</td>\n",
       "      <td>232,100.00</td>\n",
       "      <td>2014</td>\n",
       "      <td>М.Угаров</td>\n",
       "      <td>драма</td>\n",
       "      <td>0.62</td>\n",
       "    </tr>\n",
       "  </tbody>\n",
       "</table>\n",
       "</div>"
      ],
      "text/plain": [
       "                    title   puNumber show_start_date            type  \\\n",
       "1281        Пока еще жива  111005313      2013-10-12  Художественный   \n",
       "1448  Бесславные придурки  111003314      2014-03-29  Художественный   \n",
       "1498            Невидимки  111004213      2013-09-10  Художественный   \n",
       "1524                БЕРЦЫ  111004314      2014-05-06  Художественный   \n",
       "1792             Братья Ч  111004414      2014-04-24  Художественный   \n",
       "\n",
       "                                            film_studio production_country  \\\n",
       "1281  АНО содействия развитию кинематографии \"Ангел-...             Россия   \n",
       "1448                         ООО \"Компания \"АТК-Студио\"             Россия   \n",
       "1498                        ООО \"Компания \"РЕАЛ-ДАКОТА\"             Россия   \n",
       "1524                             ООО \"Студия \"Пассажир\"             Россия   \n",
       "1792                             ООО \"Студия \"Пассажир\"             Россия   \n",
       "\n",
       "                                  director  \\\n",
       "1281                            А.Атанесян   \n",
       "1448                             А.Якимчук   \n",
       "1498              Р.Давлетьяров, С.Комаров   \n",
       "1524  Е.Миндадзе (псевдоним Катя Шагалова)   \n",
       "1792                              М.Угаров   \n",
       "\n",
       "                                       producer  \\\n",
       "1281           А.Атанесян, М.Бабаханов, Р.Бутко   \n",
       "1448                                 А.Тютрюмов   \n",
       "1498  Р.Давлетьяров, А.Котелевский, А.Олейников   \n",
       "1524                                 Л.Антонова   \n",
       "1792                     А.Миндадзе, Л.Антонова   \n",
       "\n",
       "                      age_restriction  refundable_support  \\\n",
       "1281  «16+» - для детей старше 16 лет                0.00   \n",
       "1448  «12+» - для детей старше 12 лет                0.00   \n",
       "1498  «12+» - для детей старше 12 лет                0.00   \n",
       "1524  «16+» - для детей старше 16 лет                0.00   \n",
       "1792  «16+» - для детей старше 16 лет                0.00   \n",
       "\n",
       "      nonrefundable_support         budget       financing_source  ratings  \\\n",
       "1281          26,500,000.00  79,411,900.00  Министерство культуры     8.10   \n",
       "1448          26,000,000.00  37,142,857.00  Министерство культуры      nan   \n",
       "1498         107,847,945.00 176,023,490.00              Фонд кино     5.30   \n",
       "1524          28,000,000.00  40,574,140.00  Министерство культуры     4.20   \n",
       "1792          25,000,000.00  40,015,122.00  Министерство культуры     6.40   \n",
       "\n",
       "                  genres    box_office  year_show_start  \\\n",
       "1281     драма,мелодрама    365,353.60             2013   \n",
       "1448          Не указано     28,140.00             2014   \n",
       "1498  комедия,фантастика 19,957,031.50             2013   \n",
       "1524               драма     55,917.50             2014   \n",
       "1792               драма    232,100.00             2014   \n",
       "\n",
       "                             main_director  main_genre  %_support_budget  \n",
       "1281                            А.Атанесян       драма              0.33  \n",
       "1448                             А.Якимчук  Не указано              0.70  \n",
       "1498                         Р.Давлетьяров     комедия              0.61  \n",
       "1524  Е.Миндадзе (псевдоним Катя Шагалова)       драма              0.69  \n",
       "1792                              М.Угаров       драма              0.62  "
      ]
     },
     "execution_count": 45,
     "metadata": {},
     "output_type": "execute_result"
    }
   ],
   "source": [
    "data_support.head()"
   ]
  },
  {
   "cell_type": "markdown",
   "metadata": {},
   "source": [
    "На данном этапе мы будем работать только с данными о фильмах, которые получили государственную поддержку. Поэтому для начала, удалим строки с пропущенными значениями. А также где необходимо преобразуем тип данных."
   ]
  },
  {
   "cell_type": "code",
   "execution_count": 46,
   "metadata": {},
   "outputs": [
    {
     "data": {
      "text/plain": [
       "14"
      ]
     },
     "execution_count": 46,
     "metadata": {},
     "output_type": "execute_result"
    }
   ],
   "source": [
    "len(data_support[data_support['box_office'].isna()])"
   ]
  },
  {
   "cell_type": "markdown",
   "metadata": {},
   "source": [
    "Строк с пропущенными значениями в столбце `box_office` немного, так что их можно удалить."
   ]
  },
  {
   "cell_type": "code",
   "execution_count": 47,
   "metadata": {},
   "outputs": [
    {
     "name": "stderr",
     "output_type": "stream",
     "text": [
      "<ipython-input-47-1f38c49404ae>:1: SettingWithCopyWarning: \n",
      "A value is trying to be set on a copy of a slice from a DataFrame\n",
      "\n",
      "See the caveats in the documentation: https://pandas.pydata.org/pandas-docs/stable/user_guide/indexing.html#returning-a-view-versus-a-copy\n",
      "  data_support.dropna(subset =['box_office'], inplace = True)\n"
     ]
    },
    {
     "data": {
      "text/plain": [
       "0"
      ]
     },
     "execution_count": 47,
     "metadata": {},
     "output_type": "execute_result"
    }
   ],
   "source": [
    "data_support.dropna(subset =['box_office'], inplace = True)\n",
    "len(data_support[data_support['box_office'].isna()])"
   ]
  },
  {
   "cell_type": "code",
   "execution_count": 48,
   "metadata": {},
   "outputs": [
    {
     "name": "stderr",
     "output_type": "stream",
     "text": [
      "C:\\Users\\panik\\anaconda3\\lib\\site-packages\\pandas\\core\\frame.py:3065: SettingWithCopyWarning: \n",
      "A value is trying to be set on a copy of a slice from a DataFrame.\n",
      "Try using .loc[row_indexer,col_indexer] = value instead\n",
      "\n",
      "See the caveats in the documentation: https://pandas.pydata.org/pandas-docs/stable/user_guide/indexing.html#returning-a-view-versus-a-copy\n",
      "  self[k1] = value[k2]\n"
     ]
    }
   ],
   "source": [
    "data_support[['refundable_support', 'nonrefundable_support', 'budget', 'box_office']] = data_support[['refundable_support', 'nonrefundable_support', 'budget', 'box_office']].astype('int')"
   ]
  },
  {
   "cell_type": "markdown",
   "metadata": {},
   "source": [
    "Создадим столбец `support`, чтобы получить общую сумму господдержки для каждого фильма."
   ]
  },
  {
   "cell_type": "code",
   "execution_count": 49,
   "metadata": {},
   "outputs": [
    {
     "name": "stderr",
     "output_type": "stream",
     "text": [
      "<ipython-input-49-1886bf3e1dd7>:1: SettingWithCopyWarning: \n",
      "A value is trying to be set on a copy of a slice from a DataFrame.\n",
      "Try using .loc[row_indexer,col_indexer] = value instead\n",
      "\n",
      "See the caveats in the documentation: https://pandas.pydata.org/pandas-docs/stable/user_guide/indexing.html#returning-a-view-versus-a-copy\n",
      "  data_support['support'] = data_support['refundable_support'] + data_support['nonrefundable_support']\n"
     ]
    }
   ],
   "source": [
    "data_support['support'] = data_support['refundable_support'] + data_support['nonrefundable_support']"
   ]
  },
  {
   "cell_type": "markdown",
   "metadata": {},
   "source": [
    "Рассмотрим сумму господдержки, сборов фильмов и бюджета по годам. "
   ]
  },
  {
   "cell_type": "code",
   "execution_count": 50,
   "metadata": {},
   "outputs": [
    {
     "data": {
      "text/html": [
       "<div>\n",
       "<style scoped>\n",
       "    .dataframe tbody tr th:only-of-type {\n",
       "        vertical-align: middle;\n",
       "    }\n",
       "\n",
       "    .dataframe tbody tr th {\n",
       "        vertical-align: top;\n",
       "    }\n",
       "\n",
       "    .dataframe thead th {\n",
       "        text-align: right;\n",
       "    }\n",
       "</style>\n",
       "<table border=\"1\" class=\"dataframe\">\n",
       "  <thead>\n",
       "    <tr style=\"text-align: right;\">\n",
       "      <th></th>\n",
       "      <th>box_office</th>\n",
       "      <th>budget</th>\n",
       "      <th>support</th>\n",
       "    </tr>\n",
       "    <tr>\n",
       "      <th>year_show_start</th>\n",
       "      <th></th>\n",
       "      <th></th>\n",
       "      <th></th>\n",
       "    </tr>\n",
       "  </thead>\n",
       "  <tbody>\n",
       "    <tr>\n",
       "      <th>2013</th>\n",
       "      <td>20,322,384.00</td>\n",
       "      <td>255,435,390.00</td>\n",
       "      <td>134,347,945.00</td>\n",
       "    </tr>\n",
       "    <tr>\n",
       "      <th>2014</th>\n",
       "      <td>1,007,188,147.00</td>\n",
       "      <td>1,279,484,783.00</td>\n",
       "      <td>549,002,299.00</td>\n",
       "    </tr>\n",
       "    <tr>\n",
       "      <th>2015</th>\n",
       "      <td>4,815,747,402.00</td>\n",
       "      <td>7,267,670,223.00</td>\n",
       "      <td>3,202,241,459.00</td>\n",
       "    </tr>\n",
       "    <tr>\n",
       "      <th>2016</th>\n",
       "      <td>4,957,724,350.00</td>\n",
       "      <td>7,210,236,668.00</td>\n",
       "      <td>3,965,635,482.00</td>\n",
       "    </tr>\n",
       "    <tr>\n",
       "      <th>2017</th>\n",
       "      <td>5,832,345,545.00</td>\n",
       "      <td>6,866,572,568.00</td>\n",
       "      <td>3,063,971,662.00</td>\n",
       "    </tr>\n",
       "    <tr>\n",
       "      <th>2018</th>\n",
       "      <td>5,098,419,607.00</td>\n",
       "      <td>6,651,694,634.00</td>\n",
       "      <td>3,098,000,000.00</td>\n",
       "    </tr>\n",
       "    <tr>\n",
       "      <th>2019</th>\n",
       "      <td>3,040,968,265.00</td>\n",
       "      <td>6,602,515,941.00</td>\n",
       "      <td>3,906,000,000.00</td>\n",
       "    </tr>\n",
       "  </tbody>\n",
       "</table>\n",
       "</div>"
      ],
      "text/plain": [
       "                      box_office           budget          support\n",
       "year_show_start                                                   \n",
       "2013               20,322,384.00   255,435,390.00   134,347,945.00\n",
       "2014            1,007,188,147.00 1,279,484,783.00   549,002,299.00\n",
       "2015            4,815,747,402.00 7,267,670,223.00 3,202,241,459.00\n",
       "2016            4,957,724,350.00 7,210,236,668.00 3,965,635,482.00\n",
       "2017            5,832,345,545.00 6,866,572,568.00 3,063,971,662.00\n",
       "2018            5,098,419,607.00 6,651,694,634.00 3,098,000,000.00\n",
       "2019            3,040,968,265.00 6,602,515,941.00 3,906,000,000.00"
      ]
     },
     "execution_count": 50,
     "metadata": {},
     "output_type": "execute_result"
    }
   ],
   "source": [
    "pivot_box_office_support = data_support.pivot_table(index='year_show_start', values=('support', 'box_office', 'budget'), aggfunc='sum')\n",
    "pivot_box_office_support"
   ]
  },
  {
   "cell_type": "code",
   "execution_count": 51,
   "metadata": {},
   "outputs": [
    {
     "data": {
      "text/plain": [
       "<AxesSubplot:xlabel='year_show_start'>"
      ]
     },
     "execution_count": 51,
     "metadata": {},
     "output_type": "execute_result"
    },
    {
     "data": {
      "image/png": "[encoded data removed]",
      "text/plain": [
       "<Figure size 432x288 with 1 Axes>"
      ]
     },
     "metadata": {
      "needs_background": "light"
     },
     "output_type": "display_data"
    }
   ],
   "source": [
    "pivot_box_office_support.plot()"
   ]
  },
  {
   "cell_type": "markdown",
   "metadata": {},
   "source": [
    "Сумма господдержки превысила сумму сборов только в 2015 году. В последующие годы сумма сборов превышала сумму господдержки. Однако сумма сборов превысила общий бюджет фильмов только в 2017 и 2018 годах."
   ]
  },
  {
   "cell_type": "code",
   "execution_count": 52,
   "metadata": {},
   "outputs": [
    {
     "data": {
      "text/plain": [
       "%_support_budget   0.52\n",
       "ratings            6.04\n",
       "dtype: float64"
      ]
     },
     "execution_count": 52,
     "metadata": {},
     "output_type": "execute_result"
    }
   ],
   "source": [
    "data_support[['%_support_budget', 'ratings']].mean()"
   ]
  },
  {
   "cell_type": "markdown",
   "metadata": {},
   "source": [
    "В среднем процент господдержки от бюджета фильмов составляет 52%.\n",
    "\n",
    "Средний рейтинг таких фильмов составляет 6 из 10."
   ]
  },
  {
   "cell_type": "code",
   "execution_count": 53,
   "metadata": {},
   "outputs": [
    {
     "data": {
      "text/html": [
       "<div>\n",
       "<style scoped>\n",
       "    .dataframe tbody tr th:only-of-type {\n",
       "        vertical-align: middle;\n",
       "    }\n",
       "\n",
       "    .dataframe tbody tr th {\n",
       "        vertical-align: top;\n",
       "    }\n",
       "\n",
       "    .dataframe thead th {\n",
       "        text-align: right;\n",
       "    }\n",
       "</style>\n",
       "<table border=\"1\" class=\"dataframe\">\n",
       "  <thead>\n",
       "    <tr style=\"text-align: right;\">\n",
       "      <th></th>\n",
       "      <th>%_support_budget</th>\n",
       "      <th>ratings</th>\n",
       "    </tr>\n",
       "    <tr>\n",
       "      <th>year_show_start</th>\n",
       "      <th></th>\n",
       "      <th></th>\n",
       "    </tr>\n",
       "  </thead>\n",
       "  <tbody>\n",
       "    <tr>\n",
       "      <th>2013</th>\n",
       "      <td>0.47</td>\n",
       "      <td>6.70</td>\n",
       "    </tr>\n",
       "    <tr>\n",
       "      <th>2014</th>\n",
       "      <td>0.52</td>\n",
       "      <td>5.96</td>\n",
       "    </tr>\n",
       "    <tr>\n",
       "      <th>2015</th>\n",
       "      <td>0.53</td>\n",
       "      <td>6.14</td>\n",
       "    </tr>\n",
       "    <tr>\n",
       "      <th>2016</th>\n",
       "      <td>0.55</td>\n",
       "      <td>5.67</td>\n",
       "    </tr>\n",
       "    <tr>\n",
       "      <th>2017</th>\n",
       "      <td>0.49</td>\n",
       "      <td>6.05</td>\n",
       "    </tr>\n",
       "    <tr>\n",
       "      <th>2018</th>\n",
       "      <td>0.51</td>\n",
       "      <td>6.04</td>\n",
       "    </tr>\n",
       "    <tr>\n",
       "      <th>2019</th>\n",
       "      <td>0.49</td>\n",
       "      <td>6.23</td>\n",
       "    </tr>\n",
       "  </tbody>\n",
       "</table>\n",
       "</div>"
      ],
      "text/plain": [
       "                 %_support_budget  ratings\n",
       "year_show_start                           \n",
       "2013                         0.47     6.70\n",
       "2014                         0.52     5.96\n",
       "2015                         0.53     6.14\n",
       "2016                         0.55     5.67\n",
       "2017                         0.49     6.05\n",
       "2018                         0.51     6.04\n",
       "2019                         0.49     6.23"
      ]
     },
     "execution_count": 53,
     "metadata": {},
     "output_type": "execute_result"
    }
   ],
   "source": [
    "data_support.pivot_table(index='year_show_start', values=('ratings', '%_support_budget'), aggfunc='mean')"
   ]
  },
  {
   "cell_type": "markdown",
   "metadata": {},
   "source": [
    "Средние значения этих показателей не принципиально отличаются в зависимости от года."
   ]
  },
  {
   "cell_type": "markdown",
   "metadata": {},
   "source": [
    "Создадим столбцы `profit`(прибыль фильма, то есть разница между сборами и бюджетом фильма) и `is_profit`(ответ на вопрос прибыльный ли фильм)."
   ]
  },
  {
   "cell_type": "code",
   "execution_count": 54,
   "metadata": {},
   "outputs": [
    {
     "name": "stderr",
     "output_type": "stream",
     "text": [
      "<ipython-input-54-c97db34743c6>:1: SettingWithCopyWarning: \n",
      "A value is trying to be set on a copy of a slice from a DataFrame.\n",
      "Try using .loc[row_indexer,col_indexer] = value instead\n",
      "\n",
      "See the caveats in the documentation: https://pandas.pydata.org/pandas-docs/stable/user_guide/indexing.html#returning-a-view-versus-a-copy\n",
      "  data_support['profit'] = data_support['box_office'] - data_support['budget']\n"
     ]
    }
   ],
   "source": [
    "data_support['profit'] = data_support['box_office'] - data_support['budget']"
   ]
  },
  {
   "cell_type": "code",
   "execution_count": 55,
   "metadata": {},
   "outputs": [
    {
     "name": "stderr",
     "output_type": "stream",
     "text": [
      "<ipython-input-55-9ae989a32320>:6: SettingWithCopyWarning: \n",
      "A value is trying to be set on a copy of a slice from a DataFrame.\n",
      "Try using .loc[row_indexer,col_indexer] = value instead\n",
      "\n",
      "See the caveats in the documentation: https://pandas.pydata.org/pandas-docs/stable/user_guide/indexing.html#returning-a-view-versus-a-copy\n",
      "  data_support['is_profit'] = data_support.apply(is_profit, axis=1)\n"
     ]
    }
   ],
   "source": [
    "def is_profit(row_values):\n",
    "    if row_values['profit'] > 0:\n",
    "        return True\n",
    "    else:\n",
    "        return False\n",
    "data_support['is_profit'] = data_support.apply(is_profit, axis=1)"
   ]
  },
  {
   "cell_type": "code",
   "execution_count": 56,
   "metadata": {},
   "outputs": [
    {
     "data": {
      "text/html": [
       "<div>\n",
       "<style scoped>\n",
       "    .dataframe tbody tr th:only-of-type {\n",
       "        vertical-align: middle;\n",
       "    }\n",
       "\n",
       "    .dataframe tbody tr th {\n",
       "        vertical-align: top;\n",
       "    }\n",
       "\n",
       "    .dataframe thead th {\n",
       "        text-align: right;\n",
       "    }\n",
       "</style>\n",
       "<table border=\"1\" class=\"dataframe\">\n",
       "  <thead>\n",
       "    <tr style=\"text-align: right;\">\n",
       "      <th></th>\n",
       "      <th>title</th>\n",
       "      <th>puNumber</th>\n",
       "      <th>show_start_date</th>\n",
       "      <th>type</th>\n",
       "      <th>film_studio</th>\n",
       "      <th>production_country</th>\n",
       "      <th>director</th>\n",
       "      <th>producer</th>\n",
       "      <th>age_restriction</th>\n",
       "      <th>refundable_support</th>\n",
       "      <th>...</th>\n",
       "      <th>ratings</th>\n",
       "      <th>genres</th>\n",
       "      <th>box_office</th>\n",
       "      <th>year_show_start</th>\n",
       "      <th>main_director</th>\n",
       "      <th>main_genre</th>\n",
       "      <th>%_support_budget</th>\n",
       "      <th>support</th>\n",
       "      <th>profit</th>\n",
       "      <th>is_profit</th>\n",
       "    </tr>\n",
       "  </thead>\n",
       "  <tbody>\n",
       "    <tr>\n",
       "      <th>1281</th>\n",
       "      <td>Пока еще жива</td>\n",
       "      <td>111005313</td>\n",
       "      <td>2013-10-12</td>\n",
       "      <td>Художественный</td>\n",
       "      <td>АНО содействия развитию кинематографии \"Ангел-...</td>\n",
       "      <td>Россия</td>\n",
       "      <td>А.Атанесян</td>\n",
       "      <td>А.Атанесян, М.Бабаханов, Р.Бутко</td>\n",
       "      <td>«16+» - для детей старше 16 лет</td>\n",
       "      <td>0</td>\n",
       "      <td>...</td>\n",
       "      <td>8.10</td>\n",
       "      <td>драма,мелодрама</td>\n",
       "      <td>365353</td>\n",
       "      <td>2013</td>\n",
       "      <td>А.Атанесян</td>\n",
       "      <td>драма</td>\n",
       "      <td>0.33</td>\n",
       "      <td>26500000</td>\n",
       "      <td>-79046547</td>\n",
       "      <td>False</td>\n",
       "    </tr>\n",
       "    <tr>\n",
       "      <th>1448</th>\n",
       "      <td>Бесславные придурки</td>\n",
       "      <td>111003314</td>\n",
       "      <td>2014-03-29</td>\n",
       "      <td>Художественный</td>\n",
       "      <td>ООО \"Компания \"АТК-Студио\"</td>\n",
       "      <td>Россия</td>\n",
       "      <td>А.Якимчук</td>\n",
       "      <td>А.Тютрюмов</td>\n",
       "      <td>«12+» - для детей старше 12 лет</td>\n",
       "      <td>0</td>\n",
       "      <td>...</td>\n",
       "      <td>nan</td>\n",
       "      <td>Не указано</td>\n",
       "      <td>28140</td>\n",
       "      <td>2014</td>\n",
       "      <td>А.Якимчук</td>\n",
       "      <td>Не указано</td>\n",
       "      <td>0.70</td>\n",
       "      <td>26000000</td>\n",
       "      <td>-37114717</td>\n",
       "      <td>False</td>\n",
       "    </tr>\n",
       "    <tr>\n",
       "      <th>1498</th>\n",
       "      <td>Невидимки</td>\n",
       "      <td>111004213</td>\n",
       "      <td>2013-09-10</td>\n",
       "      <td>Художественный</td>\n",
       "      <td>ООО \"Компания \"РЕАЛ-ДАКОТА\"</td>\n",
       "      <td>Россия</td>\n",
       "      <td>Р.Давлетьяров, С.Комаров</td>\n",
       "      <td>Р.Давлетьяров, А.Котелевский, А.Олейников</td>\n",
       "      <td>«12+» - для детей старше 12 лет</td>\n",
       "      <td>0</td>\n",
       "      <td>...</td>\n",
       "      <td>5.30</td>\n",
       "      <td>комедия,фантастика</td>\n",
       "      <td>19957031</td>\n",
       "      <td>2013</td>\n",
       "      <td>Р.Давлетьяров</td>\n",
       "      <td>комедия</td>\n",
       "      <td>0.61</td>\n",
       "      <td>107847945</td>\n",
       "      <td>-156066459</td>\n",
       "      <td>False</td>\n",
       "    </tr>\n",
       "    <tr>\n",
       "      <th>1524</th>\n",
       "      <td>БЕРЦЫ</td>\n",
       "      <td>111004314</td>\n",
       "      <td>2014-05-06</td>\n",
       "      <td>Художественный</td>\n",
       "      <td>ООО \"Студия \"Пассажир\"</td>\n",
       "      <td>Россия</td>\n",
       "      <td>Е.Миндадзе (псевдоним Катя Шагалова)</td>\n",
       "      <td>Л.Антонова</td>\n",
       "      <td>«16+» - для детей старше 16 лет</td>\n",
       "      <td>0</td>\n",
       "      <td>...</td>\n",
       "      <td>4.20</td>\n",
       "      <td>драма</td>\n",
       "      <td>55917</td>\n",
       "      <td>2014</td>\n",
       "      <td>Е.Миндадзе (псевдоним Катя Шагалова)</td>\n",
       "      <td>драма</td>\n",
       "      <td>0.69</td>\n",
       "      <td>28000000</td>\n",
       "      <td>-40518223</td>\n",
       "      <td>False</td>\n",
       "    </tr>\n",
       "    <tr>\n",
       "      <th>1792</th>\n",
       "      <td>Братья Ч</td>\n",
       "      <td>111004414</td>\n",
       "      <td>2014-04-24</td>\n",
       "      <td>Художественный</td>\n",
       "      <td>ООО \"Студия \"Пассажир\"</td>\n",
       "      <td>Россия</td>\n",
       "      <td>М.Угаров</td>\n",
       "      <td>А.Миндадзе, Л.Антонова</td>\n",
       "      <td>«16+» - для детей старше 16 лет</td>\n",
       "      <td>0</td>\n",
       "      <td>...</td>\n",
       "      <td>6.40</td>\n",
       "      <td>драма</td>\n",
       "      <td>232100</td>\n",
       "      <td>2014</td>\n",
       "      <td>М.Угаров</td>\n",
       "      <td>драма</td>\n",
       "      <td>0.62</td>\n",
       "      <td>25000000</td>\n",
       "      <td>-39783022</td>\n",
       "      <td>False</td>\n",
       "    </tr>\n",
       "  </tbody>\n",
       "</table>\n",
       "<p>5 rows × 23 columns</p>\n",
       "</div>"
      ],
      "text/plain": [
       "                    title   puNumber show_start_date            type  \\\n",
       "1281        Пока еще жива  111005313      2013-10-12  Художественный   \n",
       "1448  Бесславные придурки  111003314      2014-03-29  Художественный   \n",
       "1498            Невидимки  111004213      2013-09-10  Художественный   \n",
       "1524                БЕРЦЫ  111004314      2014-05-06  Художественный   \n",
       "1792             Братья Ч  111004414      2014-04-24  Художественный   \n",
       "\n",
       "                                            film_studio production_country  \\\n",
       "1281  АНО содействия развитию кинематографии \"Ангел-...             Россия   \n",
       "1448                         ООО \"Компания \"АТК-Студио\"             Россия   \n",
       "1498                        ООО \"Компания \"РЕАЛ-ДАКОТА\"             Россия   \n",
       "1524                             ООО \"Студия \"Пассажир\"             Россия   \n",
       "1792                             ООО \"Студия \"Пассажир\"             Россия   \n",
       "\n",
       "                                  director  \\\n",
       "1281                            А.Атанесян   \n",
       "1448                             А.Якимчук   \n",
       "1498              Р.Давлетьяров, С.Комаров   \n",
       "1524  Е.Миндадзе (псевдоним Катя Шагалова)   \n",
       "1792                              М.Угаров   \n",
       "\n",
       "                                       producer  \\\n",
       "1281           А.Атанесян, М.Бабаханов, Р.Бутко   \n",
       "1448                                 А.Тютрюмов   \n",
       "1498  Р.Давлетьяров, А.Котелевский, А.Олейников   \n",
       "1524                                 Л.Антонова   \n",
       "1792                     А.Миндадзе, Л.Антонова   \n",
       "\n",
       "                      age_restriction  refundable_support  ...  ratings  \\\n",
       "1281  «16+» - для детей старше 16 лет                   0  ...     8.10   \n",
       "1448  «12+» - для детей старше 12 лет                   0  ...      nan   \n",
       "1498  «12+» - для детей старше 12 лет                   0  ...     5.30   \n",
       "1524  «16+» - для детей старше 16 лет                   0  ...     4.20   \n",
       "1792  «16+» - для детей старше 16 лет                   0  ...     6.40   \n",
       "\n",
       "                  genres box_office  year_show_start  \\\n",
       "1281     драма,мелодрама     365353             2013   \n",
       "1448          Не указано      28140             2014   \n",
       "1498  комедия,фантастика   19957031             2013   \n",
       "1524               драма      55917             2014   \n",
       "1792               драма     232100             2014   \n",
       "\n",
       "                             main_director  main_genre  %_support_budget  \\\n",
       "1281                            А.Атанесян       драма              0.33   \n",
       "1448                             А.Якимчук  Не указано              0.70   \n",
       "1498                         Р.Давлетьяров     комедия              0.61   \n",
       "1524  Е.Миндадзе (псевдоним Катя Шагалова)       драма              0.69   \n",
       "1792                              М.Угаров       драма              0.62   \n",
       "\n",
       "        support     profit  is_profit  \n",
       "1281   26500000  -79046547      False  \n",
       "1448   26000000  -37114717      False  \n",
       "1498  107847945 -156066459      False  \n",
       "1524   28000000  -40518223      False  \n",
       "1792   25000000  -39783022      False  \n",
       "\n",
       "[5 rows x 23 columns]"
      ]
     },
     "execution_count": 56,
     "metadata": {},
     "output_type": "execute_result"
    }
   ],
   "source": [
    "data_support.head()"
   ]
  },
  {
   "cell_type": "markdown",
   "metadata": {},
   "source": [
    "Найдем сколько процентов составляют прибыльные фильмы от общего количества фильмов, получивших господдержку. "
   ]
  },
  {
   "cell_type": "code",
   "execution_count": 57,
   "metadata": {},
   "outputs": [
    {
     "data": {
      "text/plain": [
       "'22%'"
      ]
     },
     "execution_count": 57,
     "metadata": {},
     "output_type": "execute_result"
    }
   ],
   "source": [
    "'{:.0%}'.format(data_support['is_profit'].mean())"
   ]
  },
  {
   "cell_type": "markdown",
   "metadata": {},
   "source": [
    "Рассмотрим каким жанрам отдают предпочтение при выделении государственной поддержки."
   ]
  },
  {
   "cell_type": "code",
   "execution_count": 58,
   "metadata": {},
   "outputs": [
    {
     "data": {
      "text/plain": [
       "драма         86\n",
       "комедия       67\n",
       "мультфильм    25\n",
       "Не указано    14\n",
       "триллер       14\n",
       "Name: main_genre, dtype: int64"
      ]
     },
     "execution_count": 58,
     "metadata": {},
     "output_type": "execute_result"
    }
   ],
   "source": [
    "data_support['main_genre'].value_counts().head()"
   ]
  },
  {
   "cell_type": "code",
   "execution_count": 59,
   "metadata": {},
   "outputs": [
    {
     "data": {
      "text/plain": [
       "комедия       26\n",
       "драма         13\n",
       "мультфильм     8\n",
       "семейный       3\n",
       "военный        3\n",
       "Name: main_genre, dtype: int64"
      ]
     },
     "execution_count": 59,
     "metadata": {},
     "output_type": "execute_result"
    }
   ],
   "source": [
    "data_support.query('is_profit == True')['main_genre'].value_counts().head()"
   ]
  },
  {
   "cell_type": "markdown",
   "metadata": {},
   "source": [
    "Больше господдержки получают драматические фильмы, но более прибыльными оказались комедии."
   ]
  },
  {
   "cell_type": "code",
   "execution_count": 60,
   "metadata": {},
   "outputs": [
    {
     "data": {
      "text/plain": [
       "Р.Давлетьяров    5\n",
       "С.Андреасян      4\n",
       "Д.Дьяченко       4\n",
       "Д.Шмидт          3\n",
       "А.Цицилин        3\n",
       "Name: main_director, dtype: int64"
      ]
     },
     "execution_count": 60,
     "metadata": {},
     "output_type": "execute_result"
    }
   ],
   "source": [
    "data_support['main_director'].value_counts().head()"
   ]
  },
  {
   "cell_type": "code",
   "execution_count": 61,
   "metadata": {},
   "outputs": [
    {
     "data": {
      "text/plain": [
       "Д.Дьяченко        4\n",
       "Р.Гигинеишвили    2\n",
       "Д.Киселев         2\n",
       "Д.Шмидт           2\n",
       "С.Подгаевский     2\n",
       "Name: main_director, dtype: int64"
      ]
     },
     "execution_count": 61,
     "metadata": {},
     "output_type": "execute_result"
    }
   ],
   "source": [
    "data_support.query('is_profit == True')['main_director'].value_counts().head()"
   ]
  },
  {
   "cell_type": "markdown",
   "metadata": {},
   "source": [
    "Р.Давлетьяров - режиссер, который получил господдержку на большее количество фильмов.\n",
    "\n",
    "Д.Дьяченко - режиссер, снявший самое большое количество прибыльных фильмов."
   ]
  },
  {
   "cell_type": "markdown",
   "metadata": {},
   "source": [
    "#### Вывод"
   ]
  },
  {
   "cell_type": "markdown",
   "metadata": {},
   "source": [
    "При исследовании фильмов, которые получили государственную поддержку были сделаны следующие выводы:\n",
    "- Сумма господдержки превысила сумму сборов только в 2015 году. В последующие годы сумма сборов превышала сумму господдержки. Однако сумма сборов превысила общий бюджет фильмов только в 2017 и 2018 годах.\n",
    "- В среднем процент господдержки от бюджета фильмов составляет 52% и не зависит от года выхода фильма.\n",
    "- Средний рейтинг таких фильмов составляет 6 из 10.\n",
    "- Прибыльные фильмы от общего количества фильмов, получивших господдержку, составляют 22%.\n",
    "- Больше господдержки получают драматические фильмы, но более прибыльными оказались комедии.\n",
    "- Р.Давлетьяров - режиссер, который получил господдержку на большее количество фильмов.\n",
    "- Д.Дьяченко - режиссер, снявший самое большое количество прибыльных фильмов."
   ]
  },
  {
   "cell_type": "markdown",
   "metadata": {
    "id": "V2gYwMcPgFyd"
   },
   "source": [
    "### Шаг 5. Напишите общий вывод"
   ]
  },
  {
   "cell_type": "markdown",
   "metadata": {
    "id": "AYRg3dzXgFye"
   },
   "source": [
    "В процессе исследования предоставленные данные были объединены в один датафрейм, а также был выделен отдельный датафрейм с информацией о фильмах, получивших государственную поддержку. В процессе предобработки данных в таблицах были изучены дубликаты, заполнены пропущенные значения и преобразованы типы данных. Также были устранены ошибки в категориальных и количественных значениях.\n",
    "\n",
    "В датафреймы были добавлены новые столбцы: `year_show_start`, `main_director`, `main_genre`, `%_support_budget`, `support`, `profit`, `is_profit`."
   ]
  },
  {
   "cell_type": "markdown",
   "metadata": {},
   "source": [
    "**Рекомендации**\n",
    "\n",
    "Прошу обратить внимание на следущие проблемы в данных:\n",
    "- Дубликаты по названиям фильмов и прокатным удостоверениям.\n",
    "- Очень много пропущенных значений в столбце `box_office`.\n",
    "- В столбцах `film_studio`, `production_country`, `producer`, `director`, `genres` есть значения где перечислены категории, поэтому их невозможно сгруппировать.\n",
    "- Нулевые значения в столбце `budget`."
   ]
  },
  {
   "cell_type": "markdown",
   "metadata": {},
   "source": [
    "В имеющихся данных информация о сборах известна у 42% фильмов. Возможно имеющегося объема данных не хватает для корректного анализа. Однако получилось установить, что в среднем в год выходит около 750 фильмов. Больше всего выходит фильмов с возрастным ограничением «16+», но самые большие сборы у фильмов «6+»."
   ]
  },
  {
   "cell_type": "markdown",
   "metadata": {},
   "source": [
    "Подводя итоги анализа данных о фильмах, которые получили государственную поддержку можно выделить следующее:\n",
    "\n",
    "В среднем процент господдержки от бюджета фильмов составляет около 50%. Только 20% таких фильмов оказываются прибыльными - сумма сборов превысила общий бюджет фильмов только в 2017 и 2018 годах. \n",
    "\n",
    "Средний рейтинг фильмов, получивших госсподержку, составляет 6 из 10. А самым прибыльным жанром можно считать комедии."
   ]
  },
  {
   "cell_type": "markdown",
   "metadata": {},
   "source": [
    "Более подробно с выводами можно ознакомиться в п.3.1 и п.4.1. "
   ]
  }
 ],
 "metadata": {
  "ExecuteTimeLog": [
   {
    "duration": 537,
    "start_time": "2021-07-07T10:12:08.634Z"
   },
   {
    "duration": 206,
    "start_time": "2021-07-07T10:12:30.191Z"
   },
   {
    "duration": 227,
    "start_time": "2021-07-07T10:12:33.078Z"
   },
   {
    "duration": 153,
    "start_time": "2021-07-07T10:13:42.146Z"
   },
   {
    "duration": 233,
    "start_time": "2021-07-07T10:30:09.252Z"
   },
   {
    "duration": 19,
    "start_time": "2021-07-07T10:30:15.577Z"
   },
   {
    "duration": 18,
    "start_time": "2021-07-07T10:30:57.348Z"
   },
   {
    "duration": 19,
    "start_time": "2021-07-07T10:31:17.452Z"
   },
   {
    "duration": 21,
    "start_time": "2021-07-07T10:31:32.227Z"
   },
   {
    "duration": 27,
    "start_time": "2021-07-07T10:32:06.588Z"
   },
   {
    "duration": 23,
    "start_time": "2021-07-07T10:32:43.645Z"
   },
   {
    "duration": 24,
    "start_time": "2021-07-07T10:33:06.948Z"
   },
   {
    "duration": 7,
    "start_time": "2021-07-07T10:33:28.558Z"
   },
   {
    "duration": 23,
    "start_time": "2021-07-07T10:33:43.761Z"
   },
   {
    "duration": 28,
    "start_time": "2021-07-07T10:34:13.466Z"
   },
   {
    "duration": 23,
    "start_time": "2021-07-07T10:35:56.187Z"
   },
   {
    "duration": 6,
    "start_time": "2021-07-07T10:36:48.182Z"
   },
   {
    "duration": 14,
    "start_time": "2021-07-07T10:37:49.641Z"
   },
   {
    "duration": 6,
    "start_time": "2021-07-07T10:38:06.694Z"
   },
   {
    "duration": 6,
    "start_time": "2021-07-07T10:38:13.493Z"
   },
   {
    "duration": 19,
    "start_time": "2021-07-07T10:38:44.056Z"
   },
   {
    "duration": 186,
    "start_time": "2021-07-07T10:48:35.618Z"
   },
   {
    "duration": 24,
    "start_time": "2021-07-07T10:48:51.498Z"
   },
   {
    "duration": 20,
    "start_time": "2021-07-07T10:48:59.415Z"
   },
   {
    "duration": 20,
    "start_time": "2021-07-07T10:53:02.195Z"
   },
   {
    "duration": 188,
    "start_time": "2021-07-07T10:54:40.486Z"
   },
   {
    "duration": 115,
    "start_time": "2021-07-07T10:54:52.552Z"
   },
   {
    "duration": 214,
    "start_time": "2021-07-07T10:54:56.354Z"
   },
   {
    "duration": 47,
    "start_time": "2021-07-07T10:54:58.282Z"
   },
   {
    "duration": 217,
    "start_time": "2021-07-07T10:59:16.075Z"
   },
   {
    "duration": 51,
    "start_time": "2021-07-07T10:59:16.243Z"
   },
   {
    "duration": 578,
    "start_time": "2021-07-07T10:59:18.774Z"
   },
   {
    "duration": 161,
    "start_time": "2021-07-07T10:59:21.238Z"
   },
   {
    "duration": 59,
    "start_time": "2021-07-07T10:59:21.453Z"
   },
   {
    "duration": 3,
    "start_time": "2021-07-07T11:02:10.786Z"
   },
   {
    "duration": 13,
    "start_time": "2021-07-07T11:07:07.722Z"
   },
   {
    "duration": 26,
    "start_time": "2021-07-07T11:07:17.958Z"
   },
   {
    "duration": 22,
    "start_time": "2021-07-07T11:08:17.939Z"
   },
   {
    "duration": 212,
    "start_time": "2021-07-07T11:08:19.665Z"
   },
   {
    "duration": 21,
    "start_time": "2021-07-07T11:08:29.945Z"
   },
   {
    "duration": 31,
    "start_time": "2021-07-07T11:08:38.899Z"
   },
   {
    "duration": 23,
    "start_time": "2021-07-07T11:08:54.527Z"
   },
   {
    "duration": 8,
    "start_time": "2021-07-07T11:18:55.974Z"
   },
   {
    "duration": 7,
    "start_time": "2021-07-07T11:19:03.639Z"
   },
   {
    "duration": 7,
    "start_time": "2021-07-07T11:19:06.444Z"
   },
   {
    "duration": 578,
    "start_time": "2021-07-07T12:09:59.576Z"
   },
   {
    "duration": 195,
    "start_time": "2021-07-07T12:10:00.156Z"
   },
   {
    "duration": 115,
    "start_time": "2021-07-07T12:10:00.353Z"
   },
   {
    "duration": 3,
    "start_time": "2021-07-07T12:10:00.470Z"
   },
   {
    "duration": 32,
    "start_time": "2021-07-07T12:10:00.474Z"
   },
   {
    "duration": 23,
    "start_time": "2021-07-07T12:10:00.508Z"
   },
   {
    "duration": 19,
    "start_time": "2021-07-07T12:10:00.533Z"
   },
   {
    "duration": 44,
    "start_time": "2021-07-07T12:10:00.553Z"
   },
   {
    "duration": 7,
    "start_time": "2021-07-07T12:10:00.600Z"
   },
   {
    "duration": 7,
    "start_time": "2021-07-07T12:19:45.761Z"
   },
   {
    "duration": 21,
    "start_time": "2021-07-07T12:21:35.482Z"
   },
   {
    "duration": 21,
    "start_time": "2021-07-07T12:29:23.569Z"
   },
   {
    "duration": 525,
    "start_time": "2021-07-07T12:29:44.542Z"
   },
   {
    "duration": 214,
    "start_time": "2021-07-07T12:29:45.069Z"
   },
   {
    "duration": 92,
    "start_time": "2021-07-07T12:29:45.285Z"
   },
   {
    "duration": 3,
    "start_time": "2021-07-07T12:29:45.379Z"
   },
   {
    "duration": 28,
    "start_time": "2021-07-07T12:29:45.384Z"
   },
   {
    "duration": 23,
    "start_time": "2021-07-07T12:29:45.413Z"
   },
   {
    "duration": 21,
    "start_time": "2021-07-07T12:29:45.437Z"
   },
   {
    "duration": 41,
    "start_time": "2021-07-07T12:29:45.460Z"
   },
   {
    "duration": 7,
    "start_time": "2021-07-07T12:29:45.502Z"
   },
   {
    "duration": 20,
    "start_time": "2021-07-07T12:29:45.511Z"
   },
   {
    "duration": 12,
    "start_time": "2021-07-07T12:34:02.800Z"
   },
   {
    "duration": 7,
    "start_time": "2021-07-07T12:35:10.479Z"
   },
   {
    "duration": 8,
    "start_time": "2021-07-07T12:35:22.440Z"
   },
   {
    "duration": 6,
    "start_time": "2021-07-07T12:35:35.649Z"
   },
   {
    "duration": 6,
    "start_time": "2021-07-07T12:35:43.107Z"
   },
   {
    "duration": 22,
    "start_time": "2021-07-07T12:38:03.029Z"
   },
   {
    "duration": 10,
    "start_time": "2021-07-07T12:38:06.592Z"
   },
   {
    "duration": 563,
    "start_time": "2021-07-07T12:38:46.493Z"
   },
   {
    "duration": 265,
    "start_time": "2021-07-07T12:38:47.058Z"
   },
   {
    "duration": 94,
    "start_time": "2021-07-07T12:38:47.325Z"
   },
   {
    "duration": 3,
    "start_time": "2021-07-07T12:38:47.422Z"
   },
   {
    "duration": 30,
    "start_time": "2021-07-07T12:38:47.427Z"
   },
   {
    "duration": 16,
    "start_time": "2021-07-07T12:38:53.305Z"
   },
   {
    "duration": 10,
    "start_time": "2021-07-07T12:38:53.499Z"
   },
   {
    "duration": 8,
    "start_time": "2021-07-07T12:39:48.161Z"
   },
   {
    "duration": 27,
    "start_time": "2021-07-07T12:41:17.629Z"
   },
   {
    "duration": 17,
    "start_time": "2021-07-07T12:41:17.867Z"
   },
   {
    "duration": 21,
    "start_time": "2021-07-07T12:41:19.310Z"
   },
   {
    "duration": 7,
    "start_time": "2021-07-07T12:41:19.544Z"
   },
   {
    "duration": 20,
    "start_time": "2021-07-07T12:41:20.504Z"
   },
   {
    "duration": 554,
    "start_time": "2021-07-07T12:56:23.696Z"
   },
   {
    "duration": 200,
    "start_time": "2021-07-07T12:56:25.234Z"
   },
   {
    "duration": 119,
    "start_time": "2021-07-07T12:56:25.480Z"
   },
   {
    "duration": 4,
    "start_time": "2021-07-07T12:56:25.762Z"
   },
   {
    "duration": 26,
    "start_time": "2021-07-07T12:56:27.172Z"
   },
   {
    "duration": 12,
    "start_time": "2021-07-07T12:56:29.051Z"
   },
   {
    "duration": 10,
    "start_time": "2021-07-07T12:56:29.291Z"
   },
   {
    "duration": 8,
    "start_time": "2021-07-07T12:56:29.623Z"
   },
   {
    "duration": 28,
    "start_time": "2021-07-07T12:56:32.137Z"
   },
   {
    "duration": 19,
    "start_time": "2021-07-07T12:56:39.785Z"
   },
   {
    "duration": 20,
    "start_time": "2021-07-07T12:56:44.297Z"
   },
   {
    "duration": 7,
    "start_time": "2021-07-07T12:56:45.392Z"
   },
   {
    "duration": 23,
    "start_time": "2021-07-07T12:56:46.615Z"
   },
   {
    "duration": 4,
    "start_time": "2021-07-07T12:57:06.625Z"
   },
   {
    "duration": 32,
    "start_time": "2021-07-07T12:57:36.690Z"
   },
   {
    "duration": 18,
    "start_time": "2021-07-07T12:58:00.149Z"
   },
   {
    "duration": 15,
    "start_time": "2021-07-07T12:59:16.793Z"
   },
   {
    "duration": 7,
    "start_time": "2021-07-07T13:19:22.624Z"
   },
   {
    "duration": 6,
    "start_time": "2021-07-07T14:17:33.527Z"
   },
   {
    "duration": 9,
    "start_time": "2021-07-07T14:17:48.409Z"
   },
   {
    "duration": 8,
    "start_time": "2021-07-07T14:20:13.060Z"
   },
   {
    "duration": 8,
    "start_time": "2021-07-07T14:20:37.957Z"
   },
   {
    "duration": 8,
    "start_time": "2021-07-07T14:20:47.470Z"
   },
   {
    "duration": 9,
    "start_time": "2021-07-07T14:20:54.503Z"
   },
   {
    "duration": 10,
    "start_time": "2021-07-07T14:28:57.763Z"
   },
   {
    "duration": 3,
    "start_time": "2021-07-07T14:30:23.377Z"
   },
   {
    "duration": 3,
    "start_time": "2021-07-07T14:30:36.489Z"
   },
   {
    "duration": 103,
    "start_time": "2021-07-07T14:30:52.351Z"
   },
   {
    "duration": 8,
    "start_time": "2021-07-07T14:30:54.763Z"
   },
   {
    "duration": 8,
    "start_time": "2021-07-07T14:31:29.301Z"
   },
   {
    "duration": 13,
    "start_time": "2021-07-07T14:31:44.516Z"
   },
   {
    "duration": 7,
    "start_time": "2021-07-07T14:33:10.972Z"
   },
   {
    "duration": 11,
    "start_time": "2021-07-07T14:33:27.780Z"
   },
   {
    "duration": 8,
    "start_time": "2021-07-07T14:34:44.588Z"
   },
   {
    "duration": 57,
    "start_time": "2021-07-07T14:35:59.042Z"
   },
   {
    "duration": 3,
    "start_time": "2021-07-07T14:36:28.168Z"
   },
   {
    "duration": 5,
    "start_time": "2021-07-07T14:36:46.254Z"
   },
   {
    "duration": 4,
    "start_time": "2021-07-07T14:36:52.714Z"
   },
   {
    "duration": 3,
    "start_time": "2021-07-07T14:36:56.612Z"
   },
   {
    "duration": 4,
    "start_time": "2021-07-07T14:36:57.049Z"
   },
   {
    "duration": 3,
    "start_time": "2021-07-07T14:39:21.214Z"
   },
   {
    "duration": 7,
    "start_time": "2021-07-07T14:39:52.406Z"
   },
   {
    "duration": 11,
    "start_time": "2021-07-07T14:39:58.576Z"
   },
   {
    "duration": 9,
    "start_time": "2021-07-07T14:40:26.301Z"
   },
   {
    "duration": 10,
    "start_time": "2021-07-07T14:40:31.704Z"
   },
   {
    "duration": 11,
    "start_time": "2021-07-07T14:40:36.249Z"
   },
   {
    "duration": 10,
    "start_time": "2021-07-07T14:40:39.783Z"
   },
   {
    "duration": 9,
    "start_time": "2021-07-07T14:40:48.558Z"
   },
   {
    "duration": 10,
    "start_time": "2021-07-07T14:40:57.143Z"
   },
   {
    "duration": 9,
    "start_time": "2021-07-07T14:41:06.074Z"
   },
   {
    "duration": 4324,
    "start_time": "2021-07-07T14:41:22.004Z"
   },
   {
    "duration": 11,
    "start_time": "2021-07-07T14:41:33.392Z"
   },
   {
    "duration": 9,
    "start_time": "2021-07-07T14:41:39.288Z"
   },
   {
    "duration": 569,
    "start_time": "2021-07-07T14:42:14.387Z"
   },
   {
    "duration": 197,
    "start_time": "2021-07-07T14:42:14.959Z"
   },
   {
    "duration": 84,
    "start_time": "2021-07-07T14:42:16.052Z"
   },
   {
    "duration": 4,
    "start_time": "2021-07-07T14:42:16.900Z"
   },
   {
    "duration": 27,
    "start_time": "2021-07-07T14:42:19.898Z"
   },
   {
    "duration": 12,
    "start_time": "2021-07-07T14:42:21.577Z"
   },
   {
    "duration": 9,
    "start_time": "2021-07-07T14:42:21.813Z"
   },
   {
    "duration": 9,
    "start_time": "2021-07-07T14:42:22.569Z"
   },
   {
    "duration": 29,
    "start_time": "2021-07-07T14:42:25.837Z"
   },
   {
    "duration": 20,
    "start_time": "2021-07-07T14:42:27.003Z"
   },
   {
    "duration": 21,
    "start_time": "2021-07-07T14:42:28.767Z"
   },
   {
    "duration": 7,
    "start_time": "2021-07-07T14:42:29.838Z"
   },
   {
    "duration": 4,
    "start_time": "2021-07-07T14:43:25.493Z"
   },
   {
    "duration": 7,
    "start_time": "2021-07-07T14:43:26.573Z"
   },
   {
    "duration": 10,
    "start_time": "2021-07-07T14:43:31.639Z"
   },
   {
    "duration": 9,
    "start_time": "2021-07-07T14:43:32.046Z"
   },
   {
    "duration": 10,
    "start_time": "2021-07-07T14:43:33.301Z"
   },
   {
    "duration": 12,
    "start_time": "2021-07-07T14:43:33.658Z"
   },
   {
    "duration": 8,
    "start_time": "2021-07-07T14:43:34.552Z"
   },
   {
    "duration": 9,
    "start_time": "2021-07-07T14:43:35.058Z"
   },
   {
    "duration": 12,
    "start_time": "2021-07-07T14:43:35.914Z"
   },
   {
    "duration": 17,
    "start_time": "2021-07-07T14:45:34.368Z"
   },
   {
    "duration": 512,
    "start_time": "2021-07-07T14:51:58.236Z"
   },
   {
    "duration": 223,
    "start_time": "2021-07-07T14:51:58.750Z"
   },
   {
    "duration": 93,
    "start_time": "2021-07-07T14:51:58.977Z"
   },
   {
    "duration": 4,
    "start_time": "2021-07-07T14:51:59.071Z"
   },
   {
    "duration": 37,
    "start_time": "2021-07-07T14:51:59.077Z"
   },
   {
    "duration": 18,
    "start_time": "2021-07-07T14:51:59.116Z"
   },
   {
    "duration": 10,
    "start_time": "2021-07-07T14:51:59.137Z"
   },
   {
    "duration": 8,
    "start_time": "2021-07-07T14:51:59.149Z"
   },
   {
    "duration": 54,
    "start_time": "2021-07-07T14:51:59.158Z"
   },
   {
    "duration": 18,
    "start_time": "2021-07-07T14:51:59.213Z"
   },
   {
    "duration": 22,
    "start_time": "2021-07-07T14:51:59.232Z"
   },
   {
    "duration": 36,
    "start_time": "2021-07-07T14:51:59.255Z"
   },
   {
    "duration": 7,
    "start_time": "2021-07-07T14:51:59.293Z"
   },
   {
    "duration": 10,
    "start_time": "2021-07-07T14:51:59.302Z"
   },
   {
    "duration": 9,
    "start_time": "2021-07-07T14:51:59.313Z"
   },
   {
    "duration": 11,
    "start_time": "2021-07-07T14:51:59.324Z"
   },
   {
    "duration": 8,
    "start_time": "2021-07-07T14:51:59.337Z"
   },
   {
    "duration": 46,
    "start_time": "2021-07-07T14:51:59.347Z"
   },
   {
    "duration": 22,
    "start_time": "2021-07-07T14:51:59.395Z"
   },
   {
    "duration": 24,
    "start_time": "2021-07-07T14:57:32.911Z"
   },
   {
    "duration": 7,
    "start_time": "2021-07-07T14:58:22.070Z"
   },
   {
    "duration": 4,
    "start_time": "2021-07-07T14:59:11.239Z"
   },
   {
    "duration": 25,
    "start_time": "2021-07-07T15:07:22.208Z"
   },
   {
    "duration": 16,
    "start_time": "2021-07-07T15:08:25.560Z"
   },
   {
    "duration": 15,
    "start_time": "2021-07-07T15:08:40.647Z"
   },
   {
    "duration": 14,
    "start_time": "2021-07-07T15:08:46.669Z"
   },
   {
    "duration": 533,
    "start_time": "2021-07-07T15:18:07.440Z"
   },
   {
    "duration": 173,
    "start_time": "2021-07-07T15:18:07.974Z"
   },
   {
    "duration": 84,
    "start_time": "2021-07-07T15:18:08.149Z"
   },
   {
    "duration": 3,
    "start_time": "2021-07-07T15:18:08.235Z"
   },
   {
    "duration": 30,
    "start_time": "2021-07-07T15:18:08.240Z"
   },
   {
    "duration": 22,
    "start_time": "2021-07-07T15:18:08.272Z"
   },
   {
    "duration": 11,
    "start_time": "2021-07-07T15:18:08.295Z"
   },
   {
    "duration": 11,
    "start_time": "2021-07-07T15:18:08.309Z"
   },
   {
    "duration": 40,
    "start_time": "2021-07-07T15:18:08.322Z"
   },
   {
    "duration": 42,
    "start_time": "2021-07-07T15:18:08.364Z"
   },
   {
    "duration": 22,
    "start_time": "2021-07-07T15:18:08.408Z"
   },
   {
    "duration": 5,
    "start_time": "2021-07-07T15:18:08.432Z"
   },
   {
    "duration": 13,
    "start_time": "2021-07-07T15:18:08.439Z"
   },
   {
    "duration": 9,
    "start_time": "2021-07-07T15:18:08.454Z"
   },
   {
    "duration": 32,
    "start_time": "2021-07-07T15:18:08.465Z"
   },
   {
    "duration": 10,
    "start_time": "2021-07-07T15:18:08.501Z"
   },
   {
    "duration": 7,
    "start_time": "2021-07-07T15:18:08.513Z"
   },
   {
    "duration": 11,
    "start_time": "2021-07-07T15:18:08.521Z"
   },
   {
    "duration": 17,
    "start_time": "2021-07-07T15:18:08.534Z"
   },
   {
    "duration": 44,
    "start_time": "2021-07-07T15:18:08.553Z"
   },
   {
    "duration": 22,
    "start_time": "2021-07-07T15:18:08.599Z"
   },
   {
    "duration": 61,
    "start_time": "2021-07-07T15:18:08.622Z"
   },
   {
    "duration": 7,
    "start_time": "2021-07-07T15:18:39.457Z"
   },
   {
    "duration": 5,
    "start_time": "2021-07-07T16:05:17.020Z"
   },
   {
    "duration": 5,
    "start_time": "2021-07-07T16:51:28.794Z"
   },
   {
    "duration": 546,
    "start_time": "2021-07-07T16:52:26.306Z"
   },
   {
    "duration": 203,
    "start_time": "2021-07-07T16:52:27.523Z"
   },
   {
    "duration": 85,
    "start_time": "2021-07-07T16:52:27.736Z"
   },
   {
    "duration": 4,
    "start_time": "2021-07-07T16:52:27.899Z"
   },
   {
    "duration": 25,
    "start_time": "2021-07-07T16:52:28.674Z"
   },
   {
    "duration": 8,
    "start_time": "2021-07-07T16:52:32.956Z"
   },
   {
    "duration": 18,
    "start_time": "2021-07-07T16:52:35.616Z"
   },
   {
    "duration": 6,
    "start_time": "2021-07-07T16:52:36.913Z"
   },
   {
    "duration": 11,
    "start_time": "2021-07-07T16:52:40.258Z"
   },
   {
    "duration": 10,
    "start_time": "2021-07-07T16:52:46.251Z"
   },
   {
    "duration": 8,
    "start_time": "2021-07-07T16:52:47.182Z"
   },
   {
    "duration": 27,
    "start_time": "2021-07-07T16:53:20.391Z"
   },
   {
    "duration": 20,
    "start_time": "2021-07-07T16:53:22.022Z"
   },
   {
    "duration": 23,
    "start_time": "2021-07-07T16:53:23.690Z"
   },
   {
    "duration": 8,
    "start_time": "2021-07-07T16:53:24.261Z"
   },
   {
    "duration": 4,
    "start_time": "2021-07-07T16:53:38.733Z"
   },
   {
    "duration": 7,
    "start_time": "2021-07-07T16:53:40.445Z"
   },
   {
    "duration": 11,
    "start_time": "2021-07-07T16:53:41.348Z"
   },
   {
    "duration": 13,
    "start_time": "2021-07-07T16:53:45.250Z"
   },
   {
    "duration": 12,
    "start_time": "2021-07-07T16:53:45.467Z"
   },
   {
    "duration": 4,
    "start_time": "2021-07-07T16:55:32.704Z"
   },
   {
    "duration": 12,
    "start_time": "2021-07-07T16:55:49.012Z"
   },
   {
    "duration": 18,
    "start_time": "2021-07-07T16:55:49.547Z"
   },
   {
    "duration": 611,
    "start_time": "2021-07-07T16:58:35.156Z"
   },
   {
    "duration": 200,
    "start_time": "2021-07-07T16:58:35.770Z"
   },
   {
    "duration": 86,
    "start_time": "2021-07-07T16:58:35.972Z"
   },
   {
    "duration": 3,
    "start_time": "2021-07-07T16:58:36.060Z"
   },
   {
    "duration": 27,
    "start_time": "2021-07-07T16:58:36.065Z"
   },
   {
    "duration": 8,
    "start_time": "2021-07-07T16:58:36.094Z"
   },
   {
    "duration": 17,
    "start_time": "2021-07-07T16:58:36.103Z"
   },
   {
    "duration": 5,
    "start_time": "2021-07-07T16:58:36.123Z"
   },
   {
    "duration": 11,
    "start_time": "2021-07-07T16:58:36.130Z"
   },
   {
    "duration": 7,
    "start_time": "2021-07-07T16:58:36.143Z"
   },
   {
    "duration": 37,
    "start_time": "2021-07-07T16:58:36.152Z"
   },
   {
    "duration": 27,
    "start_time": "2021-07-07T16:58:36.191Z"
   },
   {
    "duration": 19,
    "start_time": "2021-07-07T16:58:36.219Z"
   },
   {
    "duration": 49,
    "start_time": "2021-07-07T16:58:36.240Z"
   },
   {
    "duration": 6,
    "start_time": "2021-07-07T16:58:36.291Z"
   },
   {
    "duration": 3,
    "start_time": "2021-07-07T16:58:36.299Z"
   },
   {
    "duration": 13,
    "start_time": "2021-07-07T16:58:36.304Z"
   },
   {
    "duration": 10,
    "start_time": "2021-07-07T16:58:36.319Z"
   },
   {
    "duration": 10,
    "start_time": "2021-07-07T16:58:36.331Z"
   },
   {
    "duration": 44,
    "start_time": "2021-07-07T16:58:36.343Z"
   },
   {
    "duration": 4,
    "start_time": "2021-07-07T16:58:36.388Z"
   },
   {
    "duration": 13,
    "start_time": "2021-07-07T16:58:36.394Z"
   },
   {
    "duration": 16,
    "start_time": "2021-07-07T16:58:36.410Z"
   },
   {
    "duration": 8,
    "start_time": "2021-07-07T17:02:31.629Z"
   },
   {
    "duration": 8,
    "start_time": "2021-07-07T17:02:34.308Z"
   },
   {
    "duration": 6,
    "start_time": "2021-07-07T17:05:13.483Z"
   },
   {
    "duration": 17,
    "start_time": "2021-07-07T17:05:20.606Z"
   },
   {
    "duration": 7,
    "start_time": "2021-07-07T17:05:34.638Z"
   },
   {
    "duration": 3,
    "start_time": "2021-07-07T17:06:31.883Z"
   },
   {
    "duration": 570,
    "start_time": "2021-07-07T17:06:37.165Z"
   },
   {
    "duration": 174,
    "start_time": "2021-07-07T17:06:37.737Z"
   },
   {
    "duration": 47,
    "start_time": "2021-07-07T17:06:37.913Z"
   },
   {
    "duration": 3,
    "start_time": "2021-07-07T17:06:37.962Z"
   },
   {
    "duration": 27,
    "start_time": "2021-07-07T17:06:37.967Z"
   },
   {
    "duration": 7,
    "start_time": "2021-07-07T17:06:37.996Z"
   },
   {
    "duration": 16,
    "start_time": "2021-07-07T17:06:38.005Z"
   },
   {
    "duration": 6,
    "start_time": "2021-07-07T17:06:38.024Z"
   },
   {
    "duration": 12,
    "start_time": "2021-07-07T17:06:38.031Z"
   },
   {
    "duration": 41,
    "start_time": "2021-07-07T17:06:38.045Z"
   },
   {
    "duration": 8,
    "start_time": "2021-07-07T17:06:38.088Z"
   },
   {
    "duration": 26,
    "start_time": "2021-07-07T17:06:38.098Z"
   },
   {
    "duration": 17,
    "start_time": "2021-07-07T17:06:38.126Z"
   },
   {
    "duration": 43,
    "start_time": "2021-07-07T17:06:38.144Z"
   },
   {
    "duration": 6,
    "start_time": "2021-07-07T17:06:38.188Z"
   },
   {
    "duration": 5,
    "start_time": "2021-07-07T17:06:38.195Z"
   },
   {
    "duration": 9,
    "start_time": "2021-07-07T17:06:38.201Z"
   },
   {
    "duration": 12,
    "start_time": "2021-07-07T17:06:38.212Z"
   },
   {
    "duration": 11,
    "start_time": "2021-07-07T17:06:38.226Z"
   },
   {
    "duration": 47,
    "start_time": "2021-07-07T17:06:38.239Z"
   },
   {
    "duration": 4,
    "start_time": "2021-07-07T17:06:38.288Z"
   },
   {
    "duration": 13,
    "start_time": "2021-07-07T17:06:38.293Z"
   },
   {
    "duration": 5,
    "start_time": "2021-07-07T17:06:38.309Z"
   },
   {
    "duration": 18,
    "start_time": "2021-07-07T17:06:38.325Z"
   },
   {
    "duration": 20,
    "start_time": "2021-07-07T17:07:02.805Z"
   },
   {
    "duration": 19,
    "start_time": "2021-07-07T17:07:08.527Z"
   },
   {
    "duration": 19,
    "start_time": "2021-07-07T17:07:12.758Z"
   },
   {
    "duration": 22,
    "start_time": "2021-07-07T17:07:17.497Z"
   },
   {
    "duration": 19,
    "start_time": "2021-07-07T17:07:19.645Z"
   },
   {
    "duration": 10,
    "start_time": "2021-07-07T17:07:34.239Z"
   },
   {
    "duration": 17,
    "start_time": "2021-07-07T17:07:54.144Z"
   },
   {
    "duration": 14,
    "start_time": "2021-07-07T17:08:14.357Z"
   },
   {
    "duration": 616,
    "start_time": "2021-07-07T17:08:45.254Z"
   },
   {
    "duration": 178,
    "start_time": "2021-07-07T17:08:45.872Z"
   },
   {
    "duration": 60,
    "start_time": "2021-07-07T17:08:46.054Z"
   },
   {
    "duration": 3,
    "start_time": "2021-07-07T17:08:46.116Z"
   },
   {
    "duration": 26,
    "start_time": "2021-07-07T17:08:46.121Z"
   },
   {
    "duration": 7,
    "start_time": "2021-07-07T17:08:46.149Z"
   },
   {
    "duration": 17,
    "start_time": "2021-07-07T17:08:46.158Z"
   },
   {
    "duration": 14,
    "start_time": "2021-07-07T17:08:46.176Z"
   },
   {
    "duration": 17,
    "start_time": "2021-07-07T17:08:46.193Z"
   },
   {
    "duration": 9,
    "start_time": "2021-07-07T17:08:46.211Z"
   },
   {
    "duration": 21,
    "start_time": "2021-07-07T17:08:46.221Z"
   },
   {
    "duration": 49,
    "start_time": "2021-07-07T17:08:46.244Z"
   },
   {
    "duration": 24,
    "start_time": "2021-07-07T17:08:46.295Z"
   },
   {
    "duration": 22,
    "start_time": "2021-07-07T17:08:46.321Z"
   },
   {
    "duration": 6,
    "start_time": "2021-07-07T17:08:46.345Z"
   },
   {
    "duration": 5,
    "start_time": "2021-07-07T17:08:46.353Z"
   },
   {
    "duration": 13,
    "start_time": "2021-07-07T17:08:46.386Z"
   },
   {
    "duration": 12,
    "start_time": "2021-07-07T17:08:46.402Z"
   },
   {
    "duration": 10,
    "start_time": "2021-07-07T17:08:46.415Z"
   },
   {
    "duration": 7,
    "start_time": "2021-07-07T17:08:46.427Z"
   },
   {
    "duration": 8,
    "start_time": "2021-07-07T17:08:46.435Z"
   },
   {
    "duration": 68,
    "start_time": "2021-07-07T17:08:46.446Z"
   },
   {
    "duration": 13,
    "start_time": "2021-07-07T17:08:46.516Z"
   },
   {
    "duration": 78,
    "start_time": "2021-07-07T17:08:46.530Z"
   },
   {
    "duration": 40,
    "start_time": "2021-07-07T17:09:08.185Z"
   },
   {
    "duration": 16,
    "start_time": "2021-07-07T17:09:19.324Z"
   },
   {
    "duration": 21,
    "start_time": "2021-07-07T17:09:23.290Z"
   },
   {
    "duration": 13,
    "start_time": "2021-07-07T17:09:54.812Z"
   },
   {
    "duration": 13,
    "start_time": "2021-07-07T17:10:02.039Z"
   },
   {
    "duration": 10,
    "start_time": "2021-07-07T17:10:29.632Z"
   },
   {
    "duration": 13,
    "start_time": "2021-07-07T17:10:52.372Z"
   },
   {
    "duration": 13,
    "start_time": "2021-07-07T17:11:17.270Z"
   },
   {
    "duration": 13,
    "start_time": "2021-07-07T17:14:59.284Z"
   },
   {
    "duration": 547,
    "start_time": "2021-07-07T17:18:52.403Z"
   },
   {
    "duration": 163,
    "start_time": "2021-07-07T17:18:52.952Z"
   },
   {
    "duration": 44,
    "start_time": "2021-07-07T17:18:53.117Z"
   },
   {
    "duration": 3,
    "start_time": "2021-07-07T17:18:53.162Z"
   },
   {
    "duration": 26,
    "start_time": "2021-07-07T17:18:53.167Z"
   },
   {
    "duration": 6,
    "start_time": "2021-07-07T17:18:53.195Z"
   },
   {
    "duration": 15,
    "start_time": "2021-07-07T17:18:53.203Z"
   },
   {
    "duration": 5,
    "start_time": "2021-07-07T17:18:53.220Z"
   },
   {
    "duration": 11,
    "start_time": "2021-07-07T17:18:53.228Z"
   },
   {
    "duration": 9,
    "start_time": "2021-07-07T17:18:53.241Z"
   },
   {
    "duration": 41,
    "start_time": "2021-07-07T17:18:53.252Z"
   },
   {
    "duration": 33,
    "start_time": "2021-07-07T17:18:53.295Z"
   },
   {
    "duration": 19,
    "start_time": "2021-07-07T17:18:53.330Z"
   },
   {
    "duration": 49,
    "start_time": "2021-07-07T17:18:53.350Z"
   },
   {
    "duration": 5,
    "start_time": "2021-07-07T17:18:53.401Z"
   },
   {
    "duration": 5,
    "start_time": "2021-07-07T17:18:53.408Z"
   },
   {
    "duration": 11,
    "start_time": "2021-07-07T17:18:53.414Z"
   },
   {
    "duration": 9,
    "start_time": "2021-07-07T17:18:53.427Z"
   },
   {
    "duration": 10,
    "start_time": "2021-07-07T17:18:53.437Z"
   },
   {
    "duration": 39,
    "start_time": "2021-07-07T17:18:53.448Z"
   },
   {
    "duration": 26,
    "start_time": "2021-07-07T17:18:55.799Z"
   },
   {
    "duration": 598,
    "start_time": "2021-07-07T17:20:17.862Z"
   },
   {
    "duration": 161,
    "start_time": "2021-07-07T17:20:18.462Z"
   },
   {
    "duration": 45,
    "start_time": "2021-07-07T17:20:18.626Z"
   },
   {
    "duration": 4,
    "start_time": "2021-07-07T17:20:18.673Z"
   },
   {
    "duration": 38,
    "start_time": "2021-07-07T17:20:26.877Z"
   },
   {
    "duration": 7,
    "start_time": "2021-07-07T17:20:37.405Z"
   },
   {
    "duration": 19,
    "start_time": "2021-07-07T17:20:51.534Z"
   },
   {
    "duration": 5,
    "start_time": "2021-07-07T17:20:57.228Z"
   },
   {
    "duration": 7,
    "start_time": "2021-07-07T17:21:08.235Z"
   },
   {
    "duration": 19,
    "start_time": "2021-07-07T17:21:42.158Z"
   },
   {
    "duration": 14,
    "start_time": "2021-07-07T17:21:50.225Z"
   },
   {
    "duration": 22,
    "start_time": "2021-07-07T17:22:54.104Z"
   },
   {
    "duration": 5,
    "start_time": "2021-07-07T17:22:56.371Z"
   },
   {
    "duration": 14,
    "start_time": "2021-07-07T17:22:58.316Z"
   },
   {
    "duration": 5,
    "start_time": "2021-07-07T17:22:58.493Z"
   },
   {
    "duration": 35,
    "start_time": "2021-07-07T17:22:59.666Z"
   },
   {
    "duration": 6,
    "start_time": "2021-07-07T17:23:02.410Z"
   },
   {
    "duration": 611,
    "start_time": "2021-07-07T17:24:59.664Z"
   },
   {
    "duration": 178,
    "start_time": "2021-07-07T17:25:01.945Z"
   },
   {
    "duration": 47,
    "start_time": "2021-07-07T17:25:02.125Z"
   },
   {
    "duration": 2,
    "start_time": "2021-07-07T17:25:07.903Z"
   },
   {
    "duration": 254,
    "start_time": "2021-07-07T17:25:08.232Z"
   },
   {
    "duration": 182,
    "start_time": "2021-07-07T17:25:08.671Z"
   },
   {
    "duration": 6,
    "start_time": "2021-07-07T17:25:13.104Z"
   },
   {
    "duration": 36,
    "start_time": "2021-07-07T17:25:13.662Z"
   },
   {
    "duration": 7,
    "start_time": "2021-07-07T17:25:14.528Z"
   },
   {
    "duration": 24,
    "start_time": "2021-07-07T17:25:27.982Z"
   },
   {
    "duration": 3,
    "start_time": "2021-07-07T17:25:48.982Z"
   },
   {
    "duration": 165,
    "start_time": "2021-07-07T17:25:48.987Z"
   },
   {
    "duration": 50,
    "start_time": "2021-07-07T17:25:49.154Z"
   },
   {
    "duration": 4,
    "start_time": "2021-07-07T17:25:49.206Z"
   },
   {
    "duration": 26,
    "start_time": "2021-07-07T17:25:49.212Z"
   },
   {
    "duration": 7,
    "start_time": "2021-07-07T17:25:49.240Z"
   },
   {
    "duration": 16,
    "start_time": "2021-07-07T17:25:49.249Z"
   },
   {
    "duration": 22,
    "start_time": "2021-07-07T17:25:49.266Z"
   },
   {
    "duration": 16,
    "start_time": "2021-07-07T17:25:49.291Z"
   },
   {
    "duration": 9,
    "start_time": "2021-07-07T17:25:49.309Z"
   },
   {
    "duration": 7,
    "start_time": "2021-07-07T17:25:49.319Z"
   },
   {
    "duration": 28,
    "start_time": "2021-07-07T17:25:49.328Z"
   },
   {
    "duration": 44,
    "start_time": "2021-07-07T17:25:49.357Z"
   },
   {
    "duration": 22,
    "start_time": "2021-07-07T17:25:49.403Z"
   },
   {
    "duration": 7,
    "start_time": "2021-07-07T17:25:49.427Z"
   },
   {
    "duration": 3,
    "start_time": "2021-07-07T17:25:49.436Z"
   },
   {
    "duration": 44,
    "start_time": "2021-07-07T17:25:49.441Z"
   },
   {
    "duration": 12,
    "start_time": "2021-07-07T17:25:49.488Z"
   },
   {
    "duration": 13,
    "start_time": "2021-07-07T17:25:49.502Z"
   },
   {
    "duration": 10,
    "start_time": "2021-07-07T17:25:49.516Z"
   },
   {
    "duration": 62,
    "start_time": "2021-07-07T17:25:49.527Z"
   },
   {
    "duration": 26,
    "start_time": "2021-07-07T17:26:51.809Z"
   },
   {
    "duration": 26,
    "start_time": "2021-07-07T17:26:55.759Z"
   },
   {
    "duration": 26,
    "start_time": "2021-07-07T17:27:04.501Z"
   },
   {
    "duration": 25,
    "start_time": "2021-07-07T17:28:24.859Z"
   },
   {
    "duration": 21,
    "start_time": "2021-07-07T17:28:55.250Z"
   },
   {
    "duration": 21,
    "start_time": "2021-07-07T17:28:58.885Z"
   },
   {
    "duration": 7,
    "start_time": "2021-07-07T17:45:40.972Z"
   },
   {
    "duration": 13,
    "start_time": "2021-07-07T17:45:42.529Z"
   },
   {
    "duration": 27,
    "start_time": "2021-07-07T17:45:51.026Z"
   },
   {
    "duration": 518,
    "start_time": "2021-07-07T17:46:15.532Z"
   },
   {
    "duration": 235,
    "start_time": "2021-07-07T17:46:16.053Z"
   },
   {
    "duration": 80,
    "start_time": "2021-07-07T17:46:16.292Z"
   },
   {
    "duration": 5,
    "start_time": "2021-07-07T17:46:16.373Z"
   },
   {
    "duration": 26,
    "start_time": "2021-07-07T17:46:16.380Z"
   },
   {
    "duration": 7,
    "start_time": "2021-07-07T17:46:16.408Z"
   },
   {
    "duration": 16,
    "start_time": "2021-07-07T17:46:16.418Z"
   },
   {
    "duration": 5,
    "start_time": "2021-07-07T17:46:16.436Z"
   },
   {
    "duration": 13,
    "start_time": "2021-07-07T17:46:16.442Z"
   },
   {
    "duration": 35,
    "start_time": "2021-07-07T17:46:16.456Z"
   },
   {
    "duration": 8,
    "start_time": "2021-07-07T17:46:16.493Z"
   },
   {
    "duration": 28,
    "start_time": "2021-07-07T17:46:16.502Z"
   },
   {
    "duration": 17,
    "start_time": "2021-07-07T17:46:16.532Z"
   },
   {
    "duration": 44,
    "start_time": "2021-07-07T17:46:16.551Z"
   },
   {
    "duration": 6,
    "start_time": "2021-07-07T17:46:16.597Z"
   },
   {
    "duration": 4,
    "start_time": "2021-07-07T17:46:16.605Z"
   },
   {
    "duration": 9,
    "start_time": "2021-07-07T17:46:16.610Z"
   },
   {
    "duration": 9,
    "start_time": "2021-07-07T17:46:16.621Z"
   },
   {
    "duration": 10,
    "start_time": "2021-07-07T17:46:16.632Z"
   },
   {
    "duration": 43,
    "start_time": "2021-07-07T17:46:16.644Z"
   },
   {
    "duration": 26,
    "start_time": "2021-07-07T17:46:16.689Z"
   },
   {
    "duration": 19,
    "start_time": "2021-07-07T17:46:16.718Z"
   },
   {
    "duration": 8,
    "start_time": "2021-07-07T17:46:16.738Z"
   },
   {
    "duration": 43,
    "start_time": "2021-07-07T17:46:16.747Z"
   },
   {
    "duration": 19,
    "start_time": "2021-07-07T17:46:16.791Z"
   },
   {
    "duration": 9,
    "start_time": "2021-07-07T17:46:16.812Z"
   },
   {
    "duration": 60,
    "start_time": "2021-07-07T17:46:16.822Z"
   },
   {
    "duration": -8,
    "start_time": "2021-07-07T17:46:16.892Z"
   },
   {
    "duration": 12,
    "start_time": "2021-07-07T17:48:47.707Z"
   },
   {
    "duration": 553,
    "start_time": "2021-07-07T18:10:09.350Z"
   },
   {
    "duration": 230,
    "start_time": "2021-07-07T18:10:09.905Z"
   },
   {
    "duration": 97,
    "start_time": "2021-07-07T18:10:10.137Z"
   },
   {
    "duration": 5,
    "start_time": "2021-07-07T18:10:10.236Z"
   },
   {
    "duration": 29,
    "start_time": "2021-07-07T18:10:10.242Z"
   },
   {
    "duration": 7,
    "start_time": "2021-07-07T18:10:10.272Z"
   },
   {
    "duration": 15,
    "start_time": "2021-07-07T18:10:10.281Z"
   },
   {
    "duration": 4,
    "start_time": "2021-07-07T18:10:10.299Z"
   },
   {
    "duration": 14,
    "start_time": "2021-07-07T18:10:10.305Z"
   },
   {
    "duration": 8,
    "start_time": "2021-07-07T18:10:10.321Z"
   },
   {
    "duration": 8,
    "start_time": "2021-07-07T18:10:10.331Z"
   },
   {
    "duration": 56,
    "start_time": "2021-07-07T18:10:10.341Z"
   },
   {
    "duration": 19,
    "start_time": "2021-07-07T18:10:10.399Z"
   },
   {
    "duration": 23,
    "start_time": "2021-07-07T18:10:10.419Z"
   },
   {
    "duration": 6,
    "start_time": "2021-07-07T18:10:10.444Z"
   },
   {
    "duration": 9,
    "start_time": "2021-07-07T18:10:10.451Z"
   },
   {
    "duration": 30,
    "start_time": "2021-07-07T18:10:10.462Z"
   },
   {
    "duration": 9,
    "start_time": "2021-07-07T18:10:10.494Z"
   },
   {
    "duration": 14,
    "start_time": "2021-07-07T18:10:10.505Z"
   },
   {
    "duration": 7,
    "start_time": "2021-07-07T18:10:10.521Z"
   },
   {
    "duration": 26,
    "start_time": "2021-07-07T18:10:10.530Z"
   },
   {
    "duration": 44,
    "start_time": "2021-07-07T18:10:10.558Z"
   },
   {
    "duration": 7,
    "start_time": "2021-07-07T18:10:10.605Z"
   },
   {
    "duration": 11,
    "start_time": "2021-07-07T18:10:10.614Z"
   },
   {
    "duration": 19,
    "start_time": "2021-07-07T18:10:10.626Z"
   },
   {
    "duration": 44,
    "start_time": "2021-07-07T18:10:10.646Z"
   },
   {
    "duration": 516,
    "start_time": "2021-07-07T18:14:00.826Z"
   },
   {
    "duration": 230,
    "start_time": "2021-07-07T18:14:01.344Z"
   },
   {
    "duration": 105,
    "start_time": "2021-07-07T18:14:01.576Z"
   },
   {
    "duration": 5,
    "start_time": "2021-07-07T18:14:01.683Z"
   },
   {
    "duration": 46,
    "start_time": "2021-07-07T18:14:01.690Z"
   },
   {
    "duration": 7,
    "start_time": "2021-07-07T18:14:01.738Z"
   },
   {
    "duration": 20,
    "start_time": "2021-07-07T18:14:01.747Z"
   },
   {
    "duration": 16,
    "start_time": "2021-07-07T18:14:01.769Z"
   },
   {
    "duration": 14,
    "start_time": "2021-07-07T18:14:01.787Z"
   },
   {
    "duration": 15,
    "start_time": "2021-07-07T18:14:01.803Z"
   },
   {
    "duration": 12,
    "start_time": "2021-07-07T18:14:01.820Z"
   },
   {
    "duration": 35,
    "start_time": "2021-07-07T18:14:01.833Z"
   },
   {
    "duration": 31,
    "start_time": "2021-07-07T18:14:01.869Z"
   },
   {
    "duration": 37,
    "start_time": "2021-07-07T18:14:01.902Z"
   },
   {
    "duration": 8,
    "start_time": "2021-07-07T18:14:01.942Z"
   },
   {
    "duration": 16,
    "start_time": "2021-07-07T18:14:01.952Z"
   },
   {
    "duration": 13,
    "start_time": "2021-07-07T18:14:01.970Z"
   },
   {
    "duration": 32,
    "start_time": "2021-07-07T18:14:01.985Z"
   },
   {
    "duration": 11,
    "start_time": "2021-07-07T18:14:02.019Z"
   },
   {
    "duration": 22,
    "start_time": "2021-07-07T18:14:02.031Z"
   },
   {
    "duration": 27,
    "start_time": "2021-07-07T18:14:02.055Z"
   },
   {
    "duration": 18,
    "start_time": "2021-07-07T18:14:02.084Z"
   },
   {
    "duration": 18,
    "start_time": "2021-07-07T18:14:02.106Z"
   },
   {
    "duration": 11,
    "start_time": "2021-07-07T18:14:02.126Z"
   },
   {
    "duration": 21,
    "start_time": "2021-07-07T18:14:02.138Z"
   },
   {
    "duration": 32,
    "start_time": "2021-07-07T18:14:02.161Z"
   },
   {
    "duration": 28,
    "start_time": "2021-07-07T18:14:44.295Z"
   },
   {
    "duration": 6,
    "start_time": "2021-07-07T18:15:05.834Z"
   },
   {
    "duration": 511,
    "start_time": "2021-07-07T18:15:41.541Z"
   },
   {
    "duration": 183,
    "start_time": "2021-07-07T18:15:42.054Z"
   },
   {
    "duration": 50,
    "start_time": "2021-07-07T18:15:42.239Z"
   },
   {
    "duration": 5,
    "start_time": "2021-07-07T18:15:42.291Z"
   },
   {
    "duration": 48,
    "start_time": "2021-07-07T18:15:42.297Z"
   },
   {
    "duration": 8,
    "start_time": "2021-07-07T18:15:42.346Z"
   },
   {
    "duration": 17,
    "start_time": "2021-07-07T18:15:42.356Z"
   },
   {
    "duration": 15,
    "start_time": "2021-07-07T18:15:42.375Z"
   },
   {
    "duration": 12,
    "start_time": "2021-07-07T18:15:42.392Z"
   },
   {
    "duration": 7,
    "start_time": "2021-07-07T18:15:42.406Z"
   },
   {
    "duration": 7,
    "start_time": "2021-07-07T18:15:42.415Z"
   },
   {
    "duration": 29,
    "start_time": "2021-07-07T18:15:42.423Z"
   },
   {
    "duration": 43,
    "start_time": "2021-07-07T18:15:42.453Z"
   },
   {
    "duration": 18,
    "start_time": "2021-07-07T18:15:42.497Z"
   },
   {
    "duration": 6,
    "start_time": "2021-07-07T18:15:42.516Z"
   },
   {
    "duration": 3,
    "start_time": "2021-07-07T18:15:42.523Z"
   },
   {
    "duration": 18,
    "start_time": "2021-07-07T18:15:42.528Z"
   },
   {
    "duration": 10,
    "start_time": "2021-07-07T18:15:42.547Z"
   },
   {
    "duration": 36,
    "start_time": "2021-07-07T18:15:42.559Z"
   },
   {
    "duration": 8,
    "start_time": "2021-07-07T18:15:42.597Z"
   },
   {
    "duration": 28,
    "start_time": "2021-07-07T18:15:42.606Z"
   },
   {
    "duration": 52,
    "start_time": "2021-07-07T18:15:42.635Z"
   },
   {
    "duration": 7,
    "start_time": "2021-07-07T18:15:42.690Z"
   },
   {
    "duration": 10,
    "start_time": "2021-07-07T18:15:42.699Z"
   },
   {
    "duration": 19,
    "start_time": "2021-07-07T18:15:42.711Z"
   },
   {
    "duration": 9,
    "start_time": "2021-07-07T18:15:42.732Z"
   },
   {
    "duration": 5,
    "start_time": "2021-07-07T18:15:42.743Z"
   },
   {
    "duration": 1450,
    "start_time": "2021-07-07T18:15:51.984Z"
   },
   {
    "duration": 161,
    "start_time": "2021-07-07T18:15:53.435Z"
   },
   {
    "duration": 124,
    "start_time": "2021-07-07T18:15:53.598Z"
   },
   {
    "duration": 5,
    "start_time": "2021-07-07T18:15:53.724Z"
   },
   {
    "duration": 34,
    "start_time": "2021-07-07T18:15:53.730Z"
   },
   {
    "duration": 7,
    "start_time": "2021-07-07T18:15:53.765Z"
   },
   {
    "duration": 15,
    "start_time": "2021-07-07T18:15:53.773Z"
   },
   {
    "duration": 5,
    "start_time": "2021-07-07T18:15:53.791Z"
   },
   {
    "duration": 19,
    "start_time": "2021-07-07T18:15:53.798Z"
   },
   {
    "duration": 9,
    "start_time": "2021-07-07T18:15:53.818Z"
   },
   {
    "duration": 19,
    "start_time": "2021-07-07T18:15:53.828Z"
   },
   {
    "duration": 27,
    "start_time": "2021-07-07T18:15:53.848Z"
   },
   {
    "duration": 16,
    "start_time": "2021-07-07T18:15:53.884Z"
   },
   {
    "duration": 29,
    "start_time": "2021-07-07T18:15:53.901Z"
   },
   {
    "duration": 5,
    "start_time": "2021-07-07T18:15:53.932Z"
   },
   {
    "duration": 15,
    "start_time": "2021-07-07T18:15:53.939Z"
   },
   {
    "duration": 13,
    "start_time": "2021-07-07T18:15:53.956Z"
   },
   {
    "duration": 20,
    "start_time": "2021-07-07T18:15:53.971Z"
   },
   {
    "duration": 14,
    "start_time": "2021-07-07T18:15:53.992Z"
   },
   {
    "duration": 9,
    "start_time": "2021-07-07T18:15:54.009Z"
   },
   {
    "duration": 28,
    "start_time": "2021-07-07T18:15:54.020Z"
   },
   {
    "duration": 50,
    "start_time": "2021-07-07T18:15:54.051Z"
   },
   {
    "duration": 8,
    "start_time": "2021-07-07T18:15:54.105Z"
   },
   {
    "duration": 11,
    "start_time": "2021-07-07T18:15:54.115Z"
   },
   {
    "duration": 20,
    "start_time": "2021-07-07T18:15:54.128Z"
   },
   {
    "duration": 13,
    "start_time": "2021-07-07T18:15:54.184Z"
   },
   {
    "duration": 7,
    "start_time": "2021-07-07T18:15:54.199Z"
   },
   {
    "duration": 7,
    "start_time": "2021-07-07T18:17:08.042Z"
   },
   {
    "duration": 8,
    "start_time": "2021-07-07T18:17:21.008Z"
   },
   {
    "duration": 7,
    "start_time": "2021-07-07T18:17:29.003Z"
   },
   {
    "duration": 8,
    "start_time": "2021-07-07T18:17:32.492Z"
   },
   {
    "duration": 9,
    "start_time": "2021-07-07T18:17:41.758Z"
   },
   {
    "duration": 255,
    "start_time": "2021-07-07T18:20:20.897Z"
   },
   {
    "duration": 173,
    "start_time": "2021-07-07T18:20:26.636Z"
   },
   {
    "duration": 7,
    "start_time": "2021-07-07T18:21:47.164Z"
   },
   {
    "duration": 254,
    "start_time": "2021-07-07T18:23:08.703Z"
   },
   {
    "duration": 21,
    "start_time": "2021-07-07T18:23:22.506Z"
   },
   {
    "duration": 315,
    "start_time": "2021-07-07T18:25:54.801Z"
   },
   {
    "duration": 34,
    "start_time": "2021-07-07T18:26:51.817Z"
   },
   {
    "duration": 327,
    "start_time": "2021-07-07T18:26:56.147Z"
   },
   {
    "duration": 342,
    "start_time": "2021-07-07T18:27:15.887Z"
   },
   {
    "duration": 302,
    "start_time": "2021-07-07T18:28:18.569Z"
   },
   {
    "duration": 226,
    "start_time": "2021-07-07T18:29:20.879Z"
   },
   {
    "duration": 207,
    "start_time": "2021-07-07T18:29:58.114Z"
   },
   {
    "duration": 140,
    "start_time": "2021-07-07T18:32:04.372Z"
   },
   {
    "duration": 158,
    "start_time": "2021-07-07T18:32:32.508Z"
   },
   {
    "duration": 145,
    "start_time": "2021-07-07T18:32:41.365Z"
   },
   {
    "duration": 132,
    "start_time": "2021-07-07T18:32:45.199Z"
   },
   {
    "duration": 11,
    "start_time": "2021-07-07T18:35:24.679Z"
   },
   {
    "duration": 268,
    "start_time": "2021-07-07T18:36:16.145Z"
   },
   {
    "duration": 227,
    "start_time": "2021-07-07T18:37:04.918Z"
   },
   {
    "duration": 3,
    "start_time": "2021-07-07T18:37:33.012Z"
   },
   {
    "duration": 671,
    "start_time": "2021-07-07T18:37:38.295Z"
   },
   {
    "duration": 54,
    "start_time": "2021-07-07T18:37:53.406Z"
   },
   {
    "duration": 631,
    "start_time": "2021-07-07T18:37:56.463Z"
   },
   {
    "duration": 19,
    "start_time": "2021-07-07T18:39:40.535Z"
   },
   {
    "duration": 20,
    "start_time": "2021-07-07T18:40:12.236Z"
   },
   {
    "duration": 633,
    "start_time": "2021-07-07T18:42:00.398Z"
   },
   {
    "duration": 218,
    "start_time": "2021-07-07T18:42:01.033Z"
   },
   {
    "duration": 49,
    "start_time": "2021-07-07T18:42:01.253Z"
   },
   {
    "duration": 5,
    "start_time": "2021-07-07T18:42:01.303Z"
   },
   {
    "duration": 27,
    "start_time": "2021-07-07T18:42:01.310Z"
   },
   {
    "duration": 8,
    "start_time": "2021-07-07T18:42:01.339Z"
   },
   {
    "duration": 20,
    "start_time": "2021-07-07T18:42:01.348Z"
   },
   {
    "duration": 6,
    "start_time": "2021-07-07T18:42:01.386Z"
   },
   {
    "duration": 16,
    "start_time": "2021-07-07T18:42:01.394Z"
   },
   {
    "duration": 9,
    "start_time": "2021-07-07T18:42:01.411Z"
   },
   {
    "duration": 11,
    "start_time": "2021-07-07T18:42:01.421Z"
   },
   {
    "duration": 31,
    "start_time": "2021-07-07T18:42:01.434Z"
   },
   {
    "duration": 18,
    "start_time": "2021-07-07T18:42:01.485Z"
   },
   {
    "duration": 23,
    "start_time": "2021-07-07T18:42:01.505Z"
   },
   {
    "duration": 6,
    "start_time": "2021-07-07T18:42:01.530Z"
   },
   {
    "duration": 10,
    "start_time": "2021-07-07T18:42:01.538Z"
   },
   {
    "duration": 13,
    "start_time": "2021-07-07T18:42:01.550Z"
   },
   {
    "duration": 24,
    "start_time": "2021-07-07T18:42:01.564Z"
   },
   {
    "duration": 20,
    "start_time": "2021-07-07T18:42:01.590Z"
   },
   {
    "duration": 8,
    "start_time": "2021-07-07T18:42:01.611Z"
   },
   {
    "duration": 31,
    "start_time": "2021-07-07T18:42:01.620Z"
   },
   {
    "duration": 39,
    "start_time": "2021-07-07T18:42:01.653Z"
   },
   {
    "duration": 8,
    "start_time": "2021-07-07T18:42:01.696Z"
   },
   {
    "duration": 13,
    "start_time": "2021-07-07T18:42:01.705Z"
   },
   {
    "duration": 20,
    "start_time": "2021-07-07T18:42:01.720Z"
   },
   {
    "duration": 12,
    "start_time": "2021-07-07T18:42:01.741Z"
   },
   {
    "duration": 35,
    "start_time": "2021-07-07T18:42:01.755Z"
   },
   {
    "duration": 14,
    "start_time": "2021-07-07T18:42:01.792Z"
   },
   {
    "duration": 188,
    "start_time": "2021-07-07T18:42:01.808Z"
   },
   {
    "duration": 19,
    "start_time": "2021-07-07T18:42:01.998Z"
   },
   {
    "duration": 175,
    "start_time": "2021-07-07T18:42:02.019Z"
   },
   {
    "duration": 134,
    "start_time": "2021-07-07T18:42:02.196Z"
   },
   {
    "duration": 10,
    "start_time": "2021-07-07T18:42:02.331Z"
   },
   {
    "duration": 19,
    "start_time": "2021-07-07T18:42:02.343Z"
   },
   {
    "duration": 628,
    "start_time": "2021-07-07T18:46:30.701Z"
   },
   {
    "duration": 183,
    "start_time": "2021-07-07T18:46:31.331Z"
   },
   {
    "duration": 48,
    "start_time": "2021-07-07T18:46:31.516Z"
   },
   {
    "duration": 5,
    "start_time": "2021-07-07T18:46:31.566Z"
   },
   {
    "duration": 28,
    "start_time": "2021-07-07T18:46:31.572Z"
   },
   {
    "duration": 8,
    "start_time": "2021-07-07T18:46:31.602Z"
   },
   {
    "duration": 19,
    "start_time": "2021-07-07T18:46:31.611Z"
   },
   {
    "duration": 6,
    "start_time": "2021-07-07T18:46:31.633Z"
   },
   {
    "duration": 17,
    "start_time": "2021-07-07T18:46:31.642Z"
   },
   {
    "duration": 10,
    "start_time": "2021-07-07T18:46:31.684Z"
   },
   {
    "duration": 9,
    "start_time": "2021-07-07T18:46:31.695Z"
   },
   {
    "duration": 28,
    "start_time": "2021-07-07T18:46:31.705Z"
   },
   {
    "duration": 18,
    "start_time": "2021-07-07T18:46:31.735Z"
   },
   {
    "duration": 48,
    "start_time": "2021-07-07T18:46:31.755Z"
   },
   {
    "duration": 6,
    "start_time": "2021-07-07T18:46:31.804Z"
   },
   {
    "duration": 4,
    "start_time": "2021-07-07T18:46:31.812Z"
   },
   {
    "duration": 9,
    "start_time": "2021-07-07T18:46:31.817Z"
   },
   {
    "duration": 10,
    "start_time": "2021-07-07T18:46:31.827Z"
   },
   {
    "duration": 12,
    "start_time": "2021-07-07T18:46:31.838Z"
   },
   {
    "duration": 39,
    "start_time": "2021-07-07T18:46:31.851Z"
   },
   {
    "duration": 24,
    "start_time": "2021-07-07T18:46:31.892Z"
   },
   {
    "duration": 15,
    "start_time": "2021-07-07T18:46:31.918Z"
   },
   {
    "duration": 7,
    "start_time": "2021-07-07T18:46:31.936Z"
   },
   {
    "duration": 8,
    "start_time": "2021-07-07T18:46:31.944Z"
   },
   {
    "duration": 19,
    "start_time": "2021-07-07T18:46:31.984Z"
   },
   {
    "duration": 10,
    "start_time": "2021-07-07T18:46:32.004Z"
   },
   {
    "duration": 5,
    "start_time": "2021-07-07T18:46:32.016Z"
   },
   {
    "duration": 9,
    "start_time": "2021-07-07T18:46:32.023Z"
   },
   {
    "duration": 199,
    "start_time": "2021-07-07T18:46:32.033Z"
   },
   {
    "duration": 19,
    "start_time": "2021-07-07T18:46:32.234Z"
   },
   {
    "duration": 159,
    "start_time": "2021-07-07T18:46:32.255Z"
   },
   {
    "duration": 134,
    "start_time": "2021-07-07T18:46:32.416Z"
   },
   {
    "duration": 10,
    "start_time": "2021-07-07T18:46:32.552Z"
   },
   {
    "duration": 34,
    "start_time": "2021-07-07T18:46:32.563Z"
   },
   {
    "duration": 1039,
    "start_time": "2021-07-08T08:41:09.419Z"
   },
   {
    "duration": 333,
    "start_time": "2021-07-08T08:41:10.459Z"
   },
   {
    "duration": 173,
    "start_time": "2021-07-08T08:41:10.794Z"
   },
   {
    "duration": 5,
    "start_time": "2021-07-08T08:41:10.968Z"
   },
   {
    "duration": 25,
    "start_time": "2021-07-08T08:41:10.975Z"
   },
   {
    "duration": 9,
    "start_time": "2021-07-08T08:41:11.002Z"
   },
   {
    "duration": 18,
    "start_time": "2021-07-08T08:41:11.013Z"
   },
   {
    "duration": 6,
    "start_time": "2021-07-08T08:41:11.033Z"
   },
   {
    "duration": 44,
    "start_time": "2021-07-08T08:41:11.042Z"
   },
   {
    "duration": 10,
    "start_time": "2021-07-08T08:41:11.088Z"
   },
   {
    "duration": 9,
    "start_time": "2021-07-08T08:41:11.100Z"
   },
   {
    "duration": 27,
    "start_time": "2021-07-08T08:41:11.111Z"
   },
   {
    "duration": 46,
    "start_time": "2021-07-08T08:41:11.140Z"
   },
   {
    "duration": 17,
    "start_time": "2021-07-08T08:41:11.187Z"
   },
   {
    "duration": 6,
    "start_time": "2021-07-08T08:41:11.206Z"
   },
   {
    "duration": 5,
    "start_time": "2021-07-08T08:41:11.213Z"
   },
   {
    "duration": 10,
    "start_time": "2021-07-08T08:41:11.219Z"
   },
   {
    "duration": 9,
    "start_time": "2021-07-08T08:41:11.230Z"
   },
   {
    "duration": 45,
    "start_time": "2021-07-08T08:41:11.241Z"
   },
   {
    "duration": 7,
    "start_time": "2021-07-08T08:41:11.287Z"
   },
   {
    "duration": 24,
    "start_time": "2021-07-08T08:41:11.296Z"
   },
   {
    "duration": 16,
    "start_time": "2021-07-08T08:41:11.322Z"
   },
   {
    "duration": 7,
    "start_time": "2021-07-08T08:41:11.341Z"
   },
   {
    "duration": 41,
    "start_time": "2021-07-08T08:41:11.349Z"
   },
   {
    "duration": 17,
    "start_time": "2021-07-08T08:41:11.391Z"
   },
   {
    "duration": 9,
    "start_time": "2021-07-08T08:41:11.410Z"
   },
   {
    "duration": 5,
    "start_time": "2021-07-08T08:41:11.421Z"
   },
   {
    "duration": 6,
    "start_time": "2021-07-08T08:41:11.428Z"
   },
   {
    "duration": 198,
    "start_time": "2021-07-08T08:41:11.435Z"
   },
   {
    "duration": 18,
    "start_time": "2021-07-08T08:41:11.635Z"
   },
   {
    "duration": 155,
    "start_time": "2021-07-08T08:41:11.655Z"
   },
   {
    "duration": 138,
    "start_time": "2021-07-08T08:41:11.811Z"
   },
   {
    "duration": 10,
    "start_time": "2021-07-08T08:41:11.950Z"
   },
   {
    "duration": 29,
    "start_time": "2021-07-08T08:41:11.961Z"
   },
   {
    "duration": 171,
    "start_time": "2021-07-08T08:47:44.522Z"
   },
   {
    "duration": 124,
    "start_time": "2021-07-08T08:47:46.872Z"
   },
   {
    "duration": 191,
    "start_time": "2021-07-08T08:47:58.148Z"
   },
   {
    "duration": 191,
    "start_time": "2021-07-08T08:48:07.412Z"
   },
   {
    "duration": 261,
    "start_time": "2021-07-08T08:48:10.385Z"
   },
   {
    "duration": 255,
    "start_time": "2021-07-08T08:48:14.494Z"
   },
   {
    "duration": 219,
    "start_time": "2021-07-08T08:48:22.752Z"
   },
   {
    "duration": 173,
    "start_time": "2021-07-08T08:49:06.395Z"
   },
   {
    "duration": 180,
    "start_time": "2021-07-08T08:49:21.011Z"
   },
   {
    "duration": 6,
    "start_time": "2021-07-08T08:50:31.697Z"
   },
   {
    "duration": 10,
    "start_time": "2021-07-08T08:50:47.394Z"
   },
   {
    "duration": 11,
    "start_time": "2021-07-08T08:53:49.332Z"
   },
   {
    "duration": 171,
    "start_time": "2021-07-08T08:54:28.408Z"
   },
   {
    "duration": 636,
    "start_time": "2021-07-08T09:02:48.385Z"
   },
   {
    "duration": 227,
    "start_time": "2021-07-08T09:02:49.023Z"
   },
   {
    "duration": 104,
    "start_time": "2021-07-08T09:02:49.252Z"
   },
   {
    "duration": 5,
    "start_time": "2021-07-08T09:02:49.358Z"
   },
   {
    "duration": 27,
    "start_time": "2021-07-08T09:02:49.365Z"
   },
   {
    "duration": 8,
    "start_time": "2021-07-08T09:02:49.394Z"
   },
   {
    "duration": 18,
    "start_time": "2021-07-08T09:02:49.404Z"
   },
   {
    "duration": 6,
    "start_time": "2021-07-08T09:02:49.424Z"
   },
   {
    "duration": 11,
    "start_time": "2021-07-08T09:02:49.433Z"
   },
   {
    "duration": 13,
    "start_time": "2021-07-08T09:02:49.485Z"
   },
   {
    "duration": 9,
    "start_time": "2021-07-08T09:02:49.500Z"
   },
   {
    "duration": 38,
    "start_time": "2021-07-08T09:02:49.511Z"
   },
   {
    "duration": 42,
    "start_time": "2021-07-08T09:02:49.551Z"
   },
   {
    "duration": 21,
    "start_time": "2021-07-08T09:02:49.594Z"
   },
   {
    "duration": 6,
    "start_time": "2021-07-08T09:02:49.616Z"
   },
   {
    "duration": 3,
    "start_time": "2021-07-08T09:02:49.623Z"
   },
   {
    "duration": 9,
    "start_time": "2021-07-08T09:02:49.628Z"
   },
   {
    "duration": 52,
    "start_time": "2021-07-08T09:02:49.638Z"
   },
   {
    "duration": 11,
    "start_time": "2021-07-08T09:02:49.692Z"
   },
   {
    "duration": 8,
    "start_time": "2021-07-08T09:02:49.704Z"
   },
   {
    "duration": 27,
    "start_time": "2021-07-08T09:02:49.713Z"
   },
   {
    "duration": 59,
    "start_time": "2021-07-08T09:02:49.741Z"
   },
   {
    "duration": 8,
    "start_time": "2021-07-08T09:02:49.803Z"
   },
   {
    "duration": 14,
    "start_time": "2021-07-08T09:02:49.813Z"
   },
   {
    "duration": 20,
    "start_time": "2021-07-08T09:02:49.829Z"
   },
   {
    "duration": 44,
    "start_time": "2021-07-08T09:02:49.851Z"
   },
   {
    "duration": 14,
    "start_time": "2021-07-08T09:02:49.896Z"
   },
   {
    "duration": 221,
    "start_time": "2021-07-08T09:02:49.912Z"
   },
   {
    "duration": 6,
    "start_time": "2021-07-08T09:02:50.134Z"
   },
   {
    "duration": 206,
    "start_time": "2021-07-08T09:02:50.142Z"
   },
   {
    "duration": 19,
    "start_time": "2021-07-08T09:02:50.350Z"
   },
   {
    "duration": 21,
    "start_time": "2021-07-08T09:02:50.370Z"
   },
   {
    "duration": 20,
    "start_time": "2021-07-08T09:02:50.393Z"
   },
   {
    "duration": 5,
    "start_time": "2021-07-08T09:02:50.414Z"
   },
   {
    "duration": 5,
    "start_time": "2021-07-08T09:03:34.173Z"
   },
   {
    "duration": 6,
    "start_time": "2021-07-08T09:04:49.062Z"
   },
   {
    "duration": 9,
    "start_time": "2021-07-08T09:04:50.118Z"
   },
   {
    "duration": 14,
    "start_time": "2021-07-08T09:04:58.512Z"
   },
   {
    "duration": 9,
    "start_time": "2021-07-08T09:05:10.988Z"
   },
   {
    "duration": 11,
    "start_time": "2021-07-08T09:05:11.743Z"
   },
   {
    "duration": 7,
    "start_time": "2021-07-08T09:05:25.677Z"
   },
   {
    "duration": 13,
    "start_time": "2021-07-08T09:05:47.189Z"
   },
   {
    "duration": 13,
    "start_time": "2021-07-08T09:05:54.755Z"
   },
   {
    "duration": 4,
    "start_time": "2021-07-08T09:06:29.189Z"
   },
   {
    "duration": 244,
    "start_time": "2021-07-08T09:06:29.195Z"
   },
   {
    "duration": 91,
    "start_time": "2021-07-08T09:06:29.441Z"
   },
   {
    "duration": 4,
    "start_time": "2021-07-08T09:06:29.534Z"
   },
   {
    "duration": 28,
    "start_time": "2021-07-08T09:06:29.540Z"
   },
   {
    "duration": 6,
    "start_time": "2021-07-08T09:06:29.570Z"
   },
   {
    "duration": 18,
    "start_time": "2021-07-08T09:06:29.578Z"
   },
   {
    "duration": 5,
    "start_time": "2021-07-08T09:06:29.597Z"
   },
   {
    "duration": 13,
    "start_time": "2021-07-08T09:06:29.605Z"
   },
   {
    "duration": 8,
    "start_time": "2021-07-08T09:06:29.620Z"
   },
   {
    "duration": 7,
    "start_time": "2021-07-08T09:06:29.630Z"
   },
   {
    "duration": 63,
    "start_time": "2021-07-08T09:06:29.639Z"
   },
   {
    "duration": 17,
    "start_time": "2021-07-08T09:06:29.704Z"
   },
   {
    "duration": 20,
    "start_time": "2021-07-08T09:06:29.723Z"
   },
   {
    "duration": 6,
    "start_time": "2021-07-08T09:06:29.745Z"
   },
   {
    "duration": 3,
    "start_time": "2021-07-08T09:06:29.752Z"
   },
   {
    "duration": 7,
    "start_time": "2021-07-08T09:06:29.785Z"
   },
   {
    "duration": 11,
    "start_time": "2021-07-08T09:06:29.794Z"
   },
   {
    "duration": 15,
    "start_time": "2021-07-08T09:06:29.807Z"
   },
   {
    "duration": 8,
    "start_time": "2021-07-08T09:06:29.823Z"
   },
   {
    "duration": 70,
    "start_time": "2021-07-08T09:06:29.832Z"
   },
   {
    "duration": 17,
    "start_time": "2021-07-08T09:06:29.903Z"
   },
   {
    "duration": 9,
    "start_time": "2021-07-08T09:06:29.921Z"
   },
   {
    "duration": 9,
    "start_time": "2021-07-08T09:06:29.932Z"
   },
   {
    "duration": 57,
    "start_time": "2021-07-08T09:06:29.942Z"
   },
   {
    "duration": 11,
    "start_time": "2021-07-08T09:06:30.001Z"
   },
   {
    "duration": 19,
    "start_time": "2021-07-08T09:06:30.016Z"
   },
   {
    "duration": 217,
    "start_time": "2021-07-08T09:06:30.037Z"
   },
   {
    "duration": 6,
    "start_time": "2021-07-08T09:06:30.255Z"
   },
   {
    "duration": 205,
    "start_time": "2021-07-08T09:06:30.263Z"
   },
   {
    "duration": 27,
    "start_time": "2021-07-08T09:06:30.470Z"
   },
   {
    "duration": 11,
    "start_time": "2021-07-08T09:06:30.500Z"
   },
   {
    "duration": 31,
    "start_time": "2021-07-08T09:06:30.513Z"
   },
   {
    "duration": 18,
    "start_time": "2021-07-08T09:06:30.546Z"
   },
   {
    "duration": 11,
    "start_time": "2021-07-08T09:06:30.566Z"
   },
   {
    "duration": 19,
    "start_time": "2021-07-08T09:06:30.579Z"
   },
   {
    "duration": 20,
    "start_time": "2021-07-08T09:06:49.466Z"
   },
   {
    "duration": 9,
    "start_time": "2021-07-08T09:06:51.994Z"
   },
   {
    "duration": 20,
    "start_time": "2021-07-08T09:06:52.273Z"
   },
   {
    "duration": 246,
    "start_time": "2021-07-08T09:10:21.272Z"
   },
   {
    "duration": 84,
    "start_time": "2021-07-08T09:10:21.436Z"
   },
   {
    "duration": 7,
    "start_time": "2021-07-08T09:10:37.608Z"
   },
   {
    "duration": 189,
    "start_time": "2021-07-08T09:10:38.573Z"
   },
   {
    "duration": 185,
    "start_time": "2021-07-08T09:10:53.181Z"
   },
   {
    "duration": 11,
    "start_time": "2021-07-08T09:10:59.549Z"
   },
   {
    "duration": 42,
    "start_time": "2021-07-08T09:10:59.709Z"
   },
   {
    "duration": 12,
    "start_time": "2021-07-08T09:11:02.857Z"
   },
   {
    "duration": 28,
    "start_time": "2021-07-08T09:11:10.062Z"
   },
   {
    "duration": 249,
    "start_time": "2021-07-08T09:11:37.388Z"
   },
   {
    "duration": 232,
    "start_time": "2021-07-08T09:11:49.485Z"
   },
   {
    "duration": 453,
    "start_time": "2021-07-08T09:12:01.546Z"
   },
   {
    "duration": 440,
    "start_time": "2021-07-08T09:12:12.347Z"
   },
   {
    "duration": 213,
    "start_time": "2021-07-08T09:13:32.196Z"
   },
   {
    "duration": 172,
    "start_time": "2021-07-08T09:14:07.400Z"
   },
   {
    "duration": 185,
    "start_time": "2021-07-08T09:14:14.905Z"
   },
   {
    "duration": 209,
    "start_time": "2021-07-08T09:14:40.109Z"
   },
   {
    "duration": 201,
    "start_time": "2021-07-08T09:14:54.506Z"
   },
   {
    "duration": 622,
    "start_time": "2021-07-08T09:18:14.497Z"
   },
   {
    "duration": 220,
    "start_time": "2021-07-08T09:18:15.121Z"
   },
   {
    "duration": 79,
    "start_time": "2021-07-08T09:18:15.343Z"
   },
   {
    "duration": 4,
    "start_time": "2021-07-08T09:18:15.425Z"
   },
   {
    "duration": 24,
    "start_time": "2021-07-08T09:18:15.431Z"
   },
   {
    "duration": 8,
    "start_time": "2021-07-08T09:18:15.457Z"
   },
   {
    "duration": 16,
    "start_time": "2021-07-08T09:18:15.466Z"
   },
   {
    "duration": 5,
    "start_time": "2021-07-08T09:18:15.484Z"
   },
   {
    "duration": 10,
    "start_time": "2021-07-08T09:18:15.493Z"
   },
   {
    "duration": 8,
    "start_time": "2021-07-08T09:18:15.504Z"
   },
   {
    "duration": 7,
    "start_time": "2021-07-08T09:18:15.513Z"
   },
   {
    "duration": 26,
    "start_time": "2021-07-08T09:18:15.522Z"
   },
   {
    "duration": 49,
    "start_time": "2021-07-08T09:18:15.550Z"
   },
   {
    "duration": 21,
    "start_time": "2021-07-08T09:18:15.601Z"
   },
   {
    "duration": 8,
    "start_time": "2021-07-08T09:18:15.624Z"
   },
   {
    "duration": 3,
    "start_time": "2021-07-08T09:18:15.634Z"
   },
   {
    "duration": 8,
    "start_time": "2021-07-08T09:18:15.639Z"
   },
   {
    "duration": 45,
    "start_time": "2021-07-08T09:18:15.649Z"
   },
   {
    "duration": 13,
    "start_time": "2021-07-08T09:18:15.696Z"
   },
   {
    "duration": 10,
    "start_time": "2021-07-08T09:18:15.711Z"
   },
   {
    "duration": 64,
    "start_time": "2021-07-08T09:18:15.722Z"
   },
   {
    "duration": 19,
    "start_time": "2021-07-08T09:18:15.788Z"
   },
   {
    "duration": 9,
    "start_time": "2021-07-08T09:18:15.809Z"
   },
   {
    "duration": 9,
    "start_time": "2021-07-08T09:18:15.820Z"
   },
   {
    "duration": 18,
    "start_time": "2021-07-08T09:18:15.831Z"
   },
   {
    "duration": 43,
    "start_time": "2021-07-08T09:18:15.851Z"
   },
   {
    "duration": 12,
    "start_time": "2021-07-08T09:18:15.897Z"
   },
   {
    "duration": 219,
    "start_time": "2021-07-08T09:18:15.911Z"
   },
   {
    "duration": 8,
    "start_time": "2021-07-08T09:18:16.132Z"
   },
   {
    "duration": 199,
    "start_time": "2021-07-08T09:18:16.141Z"
   },
   {
    "duration": 18,
    "start_time": "2021-07-08T09:18:16.341Z"
   },
   {
    "duration": 24,
    "start_time": "2021-07-08T09:18:16.361Z"
   },
   {
    "duration": 24,
    "start_time": "2021-07-08T09:18:16.387Z"
   },
   {
    "duration": 211,
    "start_time": "2021-07-08T09:18:16.413Z"
   },
   {
    "duration": 18,
    "start_time": "2021-07-08T09:18:16.626Z"
   },
   {
    "duration": 596,
    "start_time": "2021-07-08T10:06:33.623Z"
   },
   {
    "duration": 181,
    "start_time": "2021-07-08T10:06:34.221Z"
   },
   {
    "duration": 176,
    "start_time": "2021-07-08T10:06:34.635Z"
   },
   {
    "duration": 239,
    "start_time": "2021-07-08T10:06:55.572Z"
   },
   {
    "duration": 6,
    "start_time": "2021-07-08T10:06:57.687Z"
   },
   {
    "duration": 4,
    "start_time": "2021-07-08T10:07:03.956Z"
   },
   {
    "duration": 4,
    "start_time": "2021-07-08T10:07:10.376Z"
   },
   {
    "duration": 4,
    "start_time": "2021-07-08T10:17:19.889Z"
   },
   {
    "duration": 3,
    "start_time": "2021-07-08T10:19:19.407Z"
   },
   {
    "duration": 197,
    "start_time": "2021-07-08T10:19:19.412Z"
   },
   {
    "duration": 127,
    "start_time": "2021-07-08T10:19:19.611Z"
   },
   {
    "duration": 4,
    "start_time": "2021-07-08T10:19:19.740Z"
   },
   {
    "duration": 27,
    "start_time": "2021-07-08T10:19:19.746Z"
   },
   {
    "duration": 7,
    "start_time": "2021-07-08T10:19:19.775Z"
   },
   {
    "duration": 30,
    "start_time": "2021-07-08T10:19:19.784Z"
   },
   {
    "duration": 7,
    "start_time": "2021-07-08T10:19:19.817Z"
   },
   {
    "duration": 26,
    "start_time": "2021-07-08T10:19:19.826Z"
   },
   {
    "duration": 18,
    "start_time": "2021-07-08T10:19:19.854Z"
   },
   {
    "duration": 14,
    "start_time": "2021-07-08T10:19:19.874Z"
   },
   {
    "duration": 48,
    "start_time": "2021-07-08T10:19:19.890Z"
   },
   {
    "duration": 17,
    "start_time": "2021-07-08T10:19:19.940Z"
   },
   {
    "duration": 38,
    "start_time": "2021-07-08T10:19:19.959Z"
   },
   {
    "duration": 8,
    "start_time": "2021-07-08T10:19:19.999Z"
   },
   {
    "duration": 15,
    "start_time": "2021-07-08T10:19:20.009Z"
   },
   {
    "duration": 22,
    "start_time": "2021-07-08T10:19:20.026Z"
   },
   {
    "duration": 10,
    "start_time": "2021-07-08T10:19:20.050Z"
   },
   {
    "duration": 10,
    "start_time": "2021-07-08T10:19:20.062Z"
   },
   {
    "duration": 20,
    "start_time": "2021-07-08T10:19:20.073Z"
   },
   {
    "duration": 29,
    "start_time": "2021-07-08T10:19:20.095Z"
   },
   {
    "duration": 17,
    "start_time": "2021-07-08T10:19:20.126Z"
   },
   {
    "duration": 40,
    "start_time": "2021-07-08T10:19:20.146Z"
   },
   {
    "duration": 15,
    "start_time": "2021-07-08T10:19:20.189Z"
   },
   {
    "duration": 19,
    "start_time": "2021-07-08T10:19:20.206Z"
   },
   {
    "duration": 10,
    "start_time": "2021-07-08T10:19:20.226Z"
   },
   {
    "duration": 11,
    "start_time": "2021-07-08T10:19:20.238Z"
   },
   {
    "duration": 297,
    "start_time": "2021-07-08T10:19:20.250Z"
   },
   {
    "duration": 6,
    "start_time": "2021-07-08T10:19:20.549Z"
   },
   {
    "duration": 191,
    "start_time": "2021-07-08T10:19:20.557Z"
   },
   {
    "duration": 19,
    "start_time": "2021-07-08T10:19:20.750Z"
   },
   {
    "duration": 20,
    "start_time": "2021-07-08T10:19:20.771Z"
   },
   {
    "duration": 15,
    "start_time": "2021-07-08T10:19:20.793Z"
   },
   {
    "duration": 222,
    "start_time": "2021-07-08T10:19:20.809Z"
   },
   {
    "duration": 20,
    "start_time": "2021-07-08T10:19:21.033Z"
   },
   {
    "duration": 27,
    "start_time": "2021-07-08T10:45:04.055Z"
   },
   {
    "duration": 8,
    "start_time": "2021-07-08T10:45:08.478Z"
   },
   {
    "duration": 8,
    "start_time": "2021-07-08T10:45:31.982Z"
   },
   {
    "duration": 10,
    "start_time": "2021-07-08T10:46:01.221Z"
   },
   {
    "duration": 17,
    "start_time": "2021-07-08T10:46:40.011Z"
   },
   {
    "duration": 193,
    "start_time": "2021-07-08T10:48:19.471Z"
   },
   {
    "duration": 225,
    "start_time": "2021-07-08T10:49:26.480Z"
   },
   {
    "duration": 204,
    "start_time": "2021-07-08T10:49:59.992Z"
   },
   {
    "duration": 435,
    "start_time": "2021-07-08T10:50:06.779Z"
   },
   {
    "duration": 199,
    "start_time": "2021-07-08T10:50:14.891Z"
   },
   {
    "duration": 204,
    "start_time": "2021-07-08T10:50:18.501Z"
   },
   {
    "duration": 244,
    "start_time": "2021-07-08T10:50:23.359Z"
   },
   {
    "duration": 192,
    "start_time": "2021-07-08T10:50:29.135Z"
   },
   {
    "duration": 218,
    "start_time": "2021-07-08T10:50:33.092Z"
   },
   {
    "duration": 207,
    "start_time": "2021-07-08T10:52:45.381Z"
   },
   {
    "duration": 5,
    "start_time": "2021-07-08T10:53:34.641Z"
   },
   {
    "duration": 196,
    "start_time": "2021-07-08T10:53:41.478Z"
   },
   {
    "duration": 43,
    "start_time": "2021-07-08T10:53:50.335Z"
   },
   {
    "duration": 32,
    "start_time": "2021-07-08T10:53:55.294Z"
   },
   {
    "duration": 55,
    "start_time": "2021-07-08T10:54:09.675Z"
   },
   {
    "duration": 16,
    "start_time": "2021-07-08T10:54:12.260Z"
   },
   {
    "duration": 15,
    "start_time": "2021-07-08T10:54:49.150Z"
   },
   {
    "duration": 20,
    "start_time": "2021-07-08T10:56:07.596Z"
   },
   {
    "duration": 16,
    "start_time": "2021-07-08T10:58:26.276Z"
   },
   {
    "duration": 22,
    "start_time": "2021-07-08T10:59:00.486Z"
   },
   {
    "duration": 18,
    "start_time": "2021-07-08T11:02:09.653Z"
   },
   {
    "duration": 10,
    "start_time": "2021-07-08T11:03:44.331Z"
   },
   {
    "duration": 10,
    "start_time": "2021-07-08T11:03:54.055Z"
   },
   {
    "duration": 12,
    "start_time": "2021-07-08T11:04:41.967Z"
   },
   {
    "duration": 24,
    "start_time": "2021-07-08T11:07:30.732Z"
   },
   {
    "duration": 6,
    "start_time": "2021-07-08T11:07:37.364Z"
   },
   {
    "duration": 16,
    "start_time": "2021-07-08T11:08:01.819Z"
   },
   {
    "duration": 17,
    "start_time": "2021-07-08T11:09:47.488Z"
   },
   {
    "duration": 246,
    "start_time": "2021-07-08T11:10:00.830Z"
   },
   {
    "duration": 18,
    "start_time": "2021-07-08T11:13:55.195Z"
   },
   {
    "duration": 204,
    "start_time": "2021-07-08T11:14:04.951Z"
   },
   {
    "duration": 19,
    "start_time": "2021-07-08T11:15:10.613Z"
   },
   {
    "duration": 680,
    "start_time": "2021-07-08T11:16:25.793Z"
   },
   {
    "duration": 451,
    "start_time": "2021-07-08T11:16:40.313Z"
   },
   {
    "duration": 469,
    "start_time": "2021-07-08T11:17:21.286Z"
   },
   {
    "duration": 20,
    "start_time": "2021-07-08T11:19:12.554Z"
   },
   {
    "duration": 35,
    "start_time": "2021-07-08T11:20:05.484Z"
   },
   {
    "duration": 53,
    "start_time": "2021-07-08T11:21:40.050Z"
   },
   {
    "duration": 13,
    "start_time": "2021-07-08T11:22:26.059Z"
   },
   {
    "duration": 19,
    "start_time": "2021-07-08T11:22:47.419Z"
   },
   {
    "duration": 25,
    "start_time": "2021-07-08T11:23:19.958Z"
   },
   {
    "duration": 29,
    "start_time": "2021-07-08T11:23:25.415Z"
   },
   {
    "duration": 10,
    "start_time": "2021-07-08T11:24:45.138Z"
   },
   {
    "duration": 19,
    "start_time": "2021-07-08T11:24:54.498Z"
   },
   {
    "duration": 12,
    "start_time": "2021-07-08T11:25:32.225Z"
   },
   {
    "duration": 19,
    "start_time": "2021-07-08T11:25:37.092Z"
   },
   {
    "duration": 17,
    "start_time": "2021-07-08T11:25:58.116Z"
   },
   {
    "duration": 15,
    "start_time": "2021-07-08T11:26:02.258Z"
   },
   {
    "duration": 8,
    "start_time": "2021-07-08T11:26:59.682Z"
   },
   {
    "duration": 184,
    "start_time": "2021-07-08T11:27:21.894Z"
   },
   {
    "duration": 8,
    "start_time": "2021-07-08T11:27:23.824Z"
   },
   {
    "duration": 202,
    "start_time": "2021-07-08T11:27:23.962Z"
   },
   {
    "duration": 360,
    "start_time": "2021-07-08T11:28:33.215Z"
   },
   {
    "duration": 231,
    "start_time": "2021-07-08T11:32:05.542Z"
   },
   {
    "duration": 607,
    "start_time": "2021-07-08T11:36:27.854Z"
   },
   {
    "duration": 241,
    "start_time": "2021-07-08T11:36:28.463Z"
   },
   {
    "duration": 67,
    "start_time": "2021-07-08T11:36:28.709Z"
   },
   {
    "duration": 5,
    "start_time": "2021-07-08T11:36:28.778Z"
   },
   {
    "duration": 32,
    "start_time": "2021-07-08T11:36:28.784Z"
   },
   {
    "duration": 11,
    "start_time": "2021-07-08T11:36:28.819Z"
   },
   {
    "duration": 20,
    "start_time": "2021-07-08T11:36:28.834Z"
   },
   {
    "duration": 36,
    "start_time": "2021-07-08T11:36:28.857Z"
   },
   {
    "duration": 16,
    "start_time": "2021-07-08T11:36:28.895Z"
   },
   {
    "duration": 14,
    "start_time": "2021-07-08T11:36:28.913Z"
   },
   {
    "duration": 9,
    "start_time": "2021-07-08T11:36:28.930Z"
   },
   {
    "duration": 55,
    "start_time": "2021-07-08T11:36:28.941Z"
   },
   {
    "duration": 27,
    "start_time": "2021-07-08T11:36:28.999Z"
   },
   {
    "duration": 30,
    "start_time": "2021-07-08T11:36:29.028Z"
   },
   {
    "duration": 31,
    "start_time": "2021-07-08T11:36:29.060Z"
   },
   {
    "duration": 3,
    "start_time": "2021-07-08T11:36:29.093Z"
   },
   {
    "duration": 12,
    "start_time": "2021-07-08T11:36:29.099Z"
   },
   {
    "duration": 11,
    "start_time": "2021-07-08T11:36:29.112Z"
   },
   {
    "duration": 12,
    "start_time": "2021-07-08T11:36:29.125Z"
   },
   {
    "duration": 9,
    "start_time": "2021-07-08T11:36:29.139Z"
   },
   {
    "duration": 31,
    "start_time": "2021-07-08T11:36:29.191Z"
   },
   {
    "duration": 17,
    "start_time": "2021-07-08T11:36:29.226Z"
   },
   {
    "duration": 7,
    "start_time": "2021-07-08T11:36:29.245Z"
   },
   {
    "duration": 10,
    "start_time": "2021-07-08T11:36:29.254Z"
   },
   {
    "duration": 30,
    "start_time": "2021-07-08T11:36:29.292Z"
   },
   {
    "duration": 11,
    "start_time": "2021-07-08T11:36:29.324Z"
   },
   {
    "duration": 11,
    "start_time": "2021-07-08T11:36:29.337Z"
   },
   {
    "duration": 230,
    "start_time": "2021-07-08T11:36:29.349Z"
   },
   {
    "duration": 13,
    "start_time": "2021-07-08T11:36:29.588Z"
   },
   {
    "duration": 205,
    "start_time": "2021-07-08T11:36:29.603Z"
   },
   {
    "duration": 20,
    "start_time": "2021-07-08T11:36:29.810Z"
   },
   {
    "duration": 9,
    "start_time": "2021-07-08T11:36:29.832Z"
   },
   {
    "duration": 16,
    "start_time": "2021-07-08T11:36:29.843Z"
   },
   {
    "duration": 283,
    "start_time": "2021-07-08T11:36:29.861Z"
   },
   {
    "duration": 50,
    "start_time": "2021-07-08T11:36:30.146Z"
   },
   {
    "duration": 14,
    "start_time": "2021-07-08T11:36:30.198Z"
   },
   {
    "duration": 11,
    "start_time": "2021-07-08T11:36:30.214Z"
   },
   {
    "duration": 245,
    "start_time": "2021-07-08T11:36:30.227Z"
   },
   {
    "duration": 439,
    "start_time": "2021-07-08T11:36:30.474Z"
   },
   {
    "duration": 210,
    "start_time": "2021-07-08T11:36:30.915Z"
   },
   {
    "duration": 15,
    "start_time": "2021-07-08T11:36:31.127Z"
   },
   {
    "duration": 17,
    "start_time": "2021-07-08T11:38:20.451Z"
   },
   {
    "duration": 642,
    "start_time": "2021-07-08T11:46:17.881Z"
   },
   {
    "duration": 210,
    "start_time": "2021-07-08T11:46:18.525Z"
   },
   {
    "duration": 104,
    "start_time": "2021-07-08T11:46:18.741Z"
   },
   {
    "duration": 8,
    "start_time": "2021-07-08T11:46:18.847Z"
   },
   {
    "duration": 25,
    "start_time": "2021-07-08T11:46:18.857Z"
   },
   {
    "duration": 14,
    "start_time": "2021-07-08T11:46:18.884Z"
   },
   {
    "duration": 22,
    "start_time": "2021-07-08T11:46:18.900Z"
   },
   {
    "duration": 5,
    "start_time": "2021-07-08T11:46:18.924Z"
   },
   {
    "duration": 13,
    "start_time": "2021-07-08T11:46:18.931Z"
   },
   {
    "duration": 45,
    "start_time": "2021-07-08T11:46:18.946Z"
   },
   {
    "duration": 12,
    "start_time": "2021-07-08T11:46:18.993Z"
   },
   {
    "duration": 38,
    "start_time": "2021-07-08T11:46:19.006Z"
   },
   {
    "duration": 50,
    "start_time": "2021-07-08T11:46:19.046Z"
   },
   {
    "duration": 29,
    "start_time": "2021-07-08T11:46:19.099Z"
   },
   {
    "duration": 7,
    "start_time": "2021-07-08T11:46:19.130Z"
   },
   {
    "duration": 3,
    "start_time": "2021-07-08T11:46:19.139Z"
   },
   {
    "duration": 11,
    "start_time": "2021-07-08T11:46:19.144Z"
   },
   {
    "duration": 40,
    "start_time": "2021-07-08T11:46:19.157Z"
   },
   {
    "duration": 15,
    "start_time": "2021-07-08T11:46:19.199Z"
   },
   {
    "duration": 10,
    "start_time": "2021-07-08T11:46:19.217Z"
   },
   {
    "duration": 68,
    "start_time": "2021-07-08T11:46:19.230Z"
   },
   {
    "duration": 17,
    "start_time": "2021-07-08T11:46:19.301Z"
   },
   {
    "duration": 7,
    "start_time": "2021-07-08T11:46:19.321Z"
   },
   {
    "duration": 11,
    "start_time": "2021-07-08T11:46:19.330Z"
   },
   {
    "duration": 59,
    "start_time": "2021-07-08T11:46:19.343Z"
   },
   {
    "duration": 17,
    "start_time": "2021-07-08T11:46:19.405Z"
   },
   {
    "duration": 16,
    "start_time": "2021-07-08T11:46:19.424Z"
   },
   {
    "duration": 252,
    "start_time": "2021-07-08T11:46:19.443Z"
   },
   {
    "duration": 9,
    "start_time": "2021-07-08T11:46:19.697Z"
   },
   {
    "duration": 224,
    "start_time": "2021-07-08T11:46:19.708Z"
   },
   {
    "duration": 21,
    "start_time": "2021-07-08T11:46:19.934Z"
   },
   {
    "duration": 9,
    "start_time": "2021-07-08T11:46:19.956Z"
   },
   {
    "duration": 32,
    "start_time": "2021-07-08T11:46:19.967Z"
   },
   {
    "duration": 288,
    "start_time": "2021-07-08T11:46:20.004Z"
   },
   {
    "duration": 23,
    "start_time": "2021-07-08T11:46:20.300Z"
   },
   {
    "duration": 11,
    "start_time": "2021-07-08T11:46:20.325Z"
   },
   {
    "duration": 11,
    "start_time": "2021-07-08T11:46:20.339Z"
   },
   {
    "duration": 259,
    "start_time": "2021-07-08T11:46:20.352Z"
   },
   {
    "duration": 438,
    "start_time": "2021-07-08T11:46:20.613Z"
   },
   {
    "duration": 207,
    "start_time": "2021-07-08T11:46:21.054Z"
   },
   {
    "duration": 27,
    "start_time": "2021-07-08T11:46:21.262Z"
   },
   {
    "duration": 19,
    "start_time": "2021-07-08T11:46:21.291Z"
   },
   {
    "duration": 820,
    "start_time": "2021-07-08T11:49:01.655Z"
   },
   {
    "duration": 372,
    "start_time": "2021-07-08T11:49:02.478Z"
   },
   {
    "duration": 98,
    "start_time": "2021-07-08T11:49:02.853Z"
   },
   {
    "duration": 6,
    "start_time": "2021-07-08T11:49:02.953Z"
   },
   {
    "duration": 39,
    "start_time": "2021-07-08T11:49:02.960Z"
   },
   {
    "duration": 9,
    "start_time": "2021-07-08T11:49:03.003Z"
   },
   {
    "duration": 23,
    "start_time": "2021-07-08T11:49:03.014Z"
   },
   {
    "duration": 6,
    "start_time": "2021-07-08T11:49:03.041Z"
   },
   {
    "duration": 20,
    "start_time": "2021-07-08T11:49:03.049Z"
   },
   {
    "duration": 18,
    "start_time": "2021-07-08T11:49:03.084Z"
   },
   {
    "duration": 14,
    "start_time": "2021-07-08T11:49:03.104Z"
   },
   {
    "duration": 39,
    "start_time": "2021-07-08T11:49:03.119Z"
   },
   {
    "duration": 38,
    "start_time": "2021-07-08T11:49:03.160Z"
   },
   {
    "duration": 26,
    "start_time": "2021-07-08T11:49:03.200Z"
   },
   {
    "duration": 7,
    "start_time": "2021-07-08T11:49:03.227Z"
   },
   {
    "duration": 4,
    "start_time": "2021-07-08T11:49:03.236Z"
   },
   {
    "duration": 15,
    "start_time": "2021-07-08T11:49:03.243Z"
   },
   {
    "duration": 21,
    "start_time": "2021-07-08T11:49:03.285Z"
   },
   {
    "duration": 17,
    "start_time": "2021-07-08T11:49:03.309Z"
   },
   {
    "duration": 10,
    "start_time": "2021-07-08T11:49:03.328Z"
   },
   {
    "duration": 65,
    "start_time": "2021-07-08T11:49:03.340Z"
   },
   {
    "duration": 18,
    "start_time": "2021-07-08T11:49:03.407Z"
   },
   {
    "duration": 8,
    "start_time": "2021-07-08T11:49:03.428Z"
   },
   {
    "duration": 15,
    "start_time": "2021-07-08T11:49:03.438Z"
   },
   {
    "duration": 40,
    "start_time": "2021-07-08T11:49:03.455Z"
   },
   {
    "duration": 12,
    "start_time": "2021-07-08T11:49:03.497Z"
   },
   {
    "duration": 29,
    "start_time": "2021-07-08T11:49:03.511Z"
   },
   {
    "duration": 285,
    "start_time": "2021-07-08T11:49:03.542Z"
   },
   {
    "duration": 8,
    "start_time": "2021-07-08T11:49:03.829Z"
   },
   {
    "duration": 227,
    "start_time": "2021-07-08T11:49:03.838Z"
   },
   {
    "duration": 40,
    "start_time": "2021-07-08T11:49:04.066Z"
   },
   {
    "duration": 10,
    "start_time": "2021-07-08T11:49:04.108Z"
   },
   {
    "duration": 26,
    "start_time": "2021-07-08T11:49:04.121Z"
   },
   {
    "duration": 290,
    "start_time": "2021-07-08T11:49:04.149Z"
   },
   {
    "duration": 26,
    "start_time": "2021-07-08T11:49:04.441Z"
   },
   {
    "duration": 31,
    "start_time": "2021-07-08T11:49:04.470Z"
   },
   {
    "duration": 14,
    "start_time": "2021-07-08T11:49:04.503Z"
   },
   {
    "duration": 259,
    "start_time": "2021-07-08T11:49:04.521Z"
   },
   {
    "duration": 480,
    "start_time": "2021-07-08T11:49:04.782Z"
   },
   {
    "duration": 225,
    "start_time": "2021-07-08T11:49:05.264Z"
   },
   {
    "duration": 22,
    "start_time": "2021-07-08T11:49:05.491Z"
   },
   {
    "duration": 24,
    "start_time": "2021-07-08T11:49:05.515Z"
   },
   {
    "duration": 634,
    "start_time": "2021-07-08T11:52:24.960Z"
   },
   {
    "duration": 199,
    "start_time": "2021-07-08T11:52:25.599Z"
   },
   {
    "duration": 106,
    "start_time": "2021-07-08T11:52:25.803Z"
   },
   {
    "duration": 7,
    "start_time": "2021-07-08T11:52:25.911Z"
   },
   {
    "duration": 29,
    "start_time": "2021-07-08T11:52:25.920Z"
   },
   {
    "duration": 7,
    "start_time": "2021-07-08T11:52:25.951Z"
   },
   {
    "duration": 26,
    "start_time": "2021-07-08T11:52:25.961Z"
   },
   {
    "duration": 11,
    "start_time": "2021-07-08T11:52:25.990Z"
   },
   {
    "duration": 29,
    "start_time": "2021-07-08T11:52:26.005Z"
   },
   {
    "duration": 9,
    "start_time": "2021-07-08T11:52:26.036Z"
   },
   {
    "duration": 8,
    "start_time": "2021-07-08T11:52:26.047Z"
   },
   {
    "duration": 63,
    "start_time": "2021-07-08T11:52:26.057Z"
   },
   {
    "duration": 17,
    "start_time": "2021-07-08T11:52:26.122Z"
   },
   {
    "duration": 43,
    "start_time": "2021-07-08T11:52:26.142Z"
   },
   {
    "duration": 17,
    "start_time": "2021-07-08T11:52:26.187Z"
   },
   {
    "duration": 5,
    "start_time": "2021-07-08T11:52:26.206Z"
   },
   {
    "duration": 12,
    "start_time": "2021-07-08T11:52:26.212Z"
   },
   {
    "duration": 11,
    "start_time": "2021-07-08T11:52:26.226Z"
   },
   {
    "duration": 12,
    "start_time": "2021-07-08T11:52:26.238Z"
   },
   {
    "duration": 38,
    "start_time": "2021-07-08T11:52:26.252Z"
   },
   {
    "duration": 40,
    "start_time": "2021-07-08T11:52:26.292Z"
   },
   {
    "duration": 17,
    "start_time": "2021-07-08T11:52:26.336Z"
   },
   {
    "duration": 39,
    "start_time": "2021-07-08T11:52:26.355Z"
   },
   {
    "duration": 11,
    "start_time": "2021-07-08T11:52:26.395Z"
   },
   {
    "duration": 23,
    "start_time": "2021-07-08T11:52:26.408Z"
   },
   {
    "duration": 12,
    "start_time": "2021-07-08T11:52:26.432Z"
   },
   {
    "duration": 41,
    "start_time": "2021-07-08T11:52:26.446Z"
   },
   {
    "duration": 215,
    "start_time": "2021-07-08T11:52:26.493Z"
   },
   {
    "duration": 8,
    "start_time": "2021-07-08T11:52:26.710Z"
   },
   {
    "duration": 228,
    "start_time": "2021-07-08T11:52:26.720Z"
   },
   {
    "duration": 18,
    "start_time": "2021-07-08T11:52:26.950Z"
   },
   {
    "duration": 35,
    "start_time": "2021-07-08T11:52:26.969Z"
   },
   {
    "duration": 23,
    "start_time": "2021-07-08T11:52:27.006Z"
   },
   {
    "duration": 258,
    "start_time": "2021-07-08T11:52:27.030Z"
   },
   {
    "duration": 24,
    "start_time": "2021-07-08T11:52:27.290Z"
   },
   {
    "duration": 12,
    "start_time": "2021-07-08T11:52:27.316Z"
   },
   {
    "duration": 10,
    "start_time": "2021-07-08T11:52:27.329Z"
   },
   {
    "duration": 298,
    "start_time": "2021-07-08T11:52:27.341Z"
   },
   {
    "duration": 436,
    "start_time": "2021-07-08T11:52:27.641Z"
   },
   {
    "duration": 216,
    "start_time": "2021-07-08T11:52:28.079Z"
   },
   {
    "duration": 20,
    "start_time": "2021-07-08T11:52:28.297Z"
   },
   {
    "duration": 17,
    "start_time": "2021-07-08T11:52:28.319Z"
   },
   {
    "duration": 761,
    "start_time": "2021-11-19T08:48:18.731Z"
   },
   {
    "duration": 84,
    "start_time": "2021-11-19T08:48:21.669Z"
   },
   {
    "duration": 41,
    "start_time": "2021-11-19T08:54:47.181Z"
   },
   {
    "duration": 366,
    "start_time": "2021-11-19T08:55:50.028Z"
   },
   {
    "duration": 271,
    "start_time": "2021-11-19T08:55:59.111Z"
   },
   {
    "duration": 4,
    "start_time": "2021-11-19T08:57:53.182Z"
   },
   {
    "duration": 87,
    "start_time": "2021-11-19T08:58:32.113Z"
   },
   {
    "duration": 5,
    "start_time": "2021-11-19T08:58:40.010Z"
   },
   {
    "duration": 6,
    "start_time": "2021-11-19T08:58:56.376Z"
   },
   {
    "duration": 1141,
    "start_time": "2021-11-19T09:03:05.351Z"
   },
   {
    "duration": 42,
    "start_time": "2021-11-19T09:03:57.195Z"
   },
   {
    "duration": 276,
    "start_time": "2021-11-19T09:07:26.138Z"
   },
   {
    "duration": 33,
    "start_time": "2021-11-19T09:07:33.749Z"
   },
   {
    "duration": 1033,
    "start_time": "2021-11-19T09:08:04.523Z"
   },
   {
    "duration": 12,
    "start_time": "2021-11-19T09:08:46.579Z"
   },
   {
    "duration": 276,
    "start_time": "2021-11-19T09:08:51.146Z"
   },
   {
    "duration": 99,
    "start_time": "2021-11-19T09:09:10.622Z"
   },
   {
    "duration": 44,
    "start_time": "2021-11-19T09:09:10.724Z"
   },
   {
    "duration": 11,
    "start_time": "2021-11-19T09:09:10.771Z"
   },
   {
    "duration": 30,
    "start_time": "2021-11-19T09:09:10.784Z"
   },
   {
    "duration": 1100,
    "start_time": "2021-11-19T09:09:10.816Z"
   },
   {
    "duration": -61,
    "start_time": "2021-11-19T09:09:11.979Z"
   },
   {
    "duration": -62,
    "start_time": "2021-11-19T09:09:11.981Z"
   },
   {
    "duration": -62,
    "start_time": "2021-11-19T09:09:11.982Z"
   },
   {
    "duration": 255,
    "start_time": "2021-11-19T09:09:36.540Z"
   },
   {
    "duration": 72,
    "start_time": "2021-11-19T09:09:43.282Z"
   },
   {
    "duration": 43,
    "start_time": "2021-11-19T09:09:43.355Z"
   },
   {
    "duration": 13,
    "start_time": "2021-11-19T09:09:43.400Z"
   },
   {
    "duration": 19,
    "start_time": "2021-11-19T09:09:43.415Z"
   },
   {
    "duration": 1089,
    "start_time": "2021-11-19T09:09:43.445Z"
   },
   {
    "duration": -89,
    "start_time": "2021-11-19T09:09:44.625Z"
   },
   {
    "duration": -89,
    "start_time": "2021-11-19T09:09:44.627Z"
   },
   {
    "duration": -90,
    "start_time": "2021-11-19T09:09:44.629Z"
   },
   {
    "duration": 23,
    "start_time": "2021-11-19T09:10:08.362Z"
   },
   {
    "duration": 12,
    "start_time": "2021-11-19T09:10:09.921Z"
   },
   {
    "duration": 277,
    "start_time": "2021-11-19T09:10:11.938Z"
   },
   {
    "duration": 6613,
    "start_time": "2021-11-19T09:13:30.073Z"
   },
   {
    "duration": 16,
    "start_time": "2021-11-19T09:13:53.963Z"
   },
   {
    "duration": 73,
    "start_time": "2021-11-19T09:14:14.462Z"
   },
   {
    "duration": 45,
    "start_time": "2021-11-19T09:14:14.537Z"
   },
   {
    "duration": 20,
    "start_time": "2021-11-19T09:14:14.585Z"
   },
   {
    "duration": 20,
    "start_time": "2021-11-19T09:14:14.607Z"
   },
   {
    "duration": 36,
    "start_time": "2021-11-19T09:14:14.629Z"
   },
   {
    "duration": 38,
    "start_time": "2021-11-19T09:14:14.667Z"
   },
   {
    "duration": 32,
    "start_time": "2021-11-19T09:14:14.707Z"
   },
   {
    "duration": 307,
    "start_time": "2021-11-19T09:14:14.741Z"
   },
   {
    "duration": 4,
    "start_time": "2021-11-19T09:16:00.549Z"
   },
   {
    "duration": 351,
    "start_time": "2021-11-19T09:16:32.585Z"
   },
   {
    "duration": 250,
    "start_time": "2021-11-19T09:16:41.421Z"
   },
   {
    "duration": 271,
    "start_time": "2021-11-19T09:17:05.924Z"
   },
   {
    "duration": 71,
    "start_time": "2021-11-19T09:17:14.645Z"
   },
   {
    "duration": 44,
    "start_time": "2021-11-19T09:17:14.718Z"
   },
   {
    "duration": 49,
    "start_time": "2021-11-19T09:17:14.764Z"
   },
   {
    "duration": 47,
    "start_time": "2021-11-19T09:17:14.815Z"
   },
   {
    "duration": 29,
    "start_time": "2021-11-19T09:17:14.864Z"
   },
   {
    "duration": 6,
    "start_time": "2021-11-19T09:17:14.895Z"
   },
   {
    "duration": 307,
    "start_time": "2021-11-19T09:17:14.903Z"
   },
   {
    "duration": 6,
    "start_time": "2021-11-19T09:18:13.516Z"
   },
   {
    "duration": 271,
    "start_time": "2021-11-19T09:18:25.370Z"
   },
   {
    "duration": 4,
    "start_time": "2021-11-19T09:19:10.392Z"
   },
   {
    "duration": 73,
    "start_time": "2021-11-19T09:19:25.915Z"
   },
   {
    "duration": 41,
    "start_time": "2021-11-19T09:19:25.989Z"
   },
   {
    "duration": 3,
    "start_time": "2021-11-19T09:19:26.031Z"
   },
   {
    "duration": 6,
    "start_time": "2021-11-19T09:19:26.036Z"
   },
   {
    "duration": 21,
    "start_time": "2021-11-19T09:19:26.043Z"
   },
   {
    "duration": 6,
    "start_time": "2021-11-19T09:19:26.066Z"
   },
   {
    "duration": 7,
    "start_time": "2021-11-19T09:19:26.073Z"
   },
   {
    "duration": 4,
    "start_time": "2021-11-19T09:19:26.083Z"
   },
   {
    "duration": 8,
    "start_time": "2021-11-19T09:19:26.089Z"
   },
   {
    "duration": 268,
    "start_time": "2021-11-19T09:19:26.099Z"
   },
   {
    "duration": 7,
    "start_time": "2021-11-19T09:20:36.734Z"
   },
   {
    "duration": 5,
    "start_time": "2021-11-19T09:20:39.106Z"
   },
   {
    "duration": 24,
    "start_time": "2021-11-19T09:20:46.723Z"
   },
   {
    "duration": 270,
    "start_time": "2021-11-19T09:21:55.605Z"
   },
   {
    "duration": 298,
    "start_time": "2021-11-19T09:22:01.705Z"
   },
   {
    "duration": 108,
    "start_time": "2021-11-19T09:22:12.870Z"
   },
   {
    "duration": 61,
    "start_time": "2021-11-19T09:22:12.980Z"
   },
   {
    "duration": 5,
    "start_time": "2021-11-19T09:22:13.044Z"
   },
   {
    "duration": 5,
    "start_time": "2021-11-19T09:22:13.051Z"
   },
   {
    "duration": 31,
    "start_time": "2021-11-19T09:22:13.058Z"
   },
   {
    "duration": 33,
    "start_time": "2021-11-19T09:22:13.091Z"
   },
   {
    "duration": 7,
    "start_time": "2021-11-19T09:22:13.127Z"
   },
   {
    "duration": 52,
    "start_time": "2021-11-19T09:22:13.137Z"
   },
   {
    "duration": 255,
    "start_time": "2021-11-19T09:22:43.891Z"
   },
   {
    "duration": 71,
    "start_time": "2021-11-19T09:22:47.771Z"
   },
   {
    "duration": 51,
    "start_time": "2021-11-19T09:22:47.843Z"
   },
   {
    "duration": 3,
    "start_time": "2021-11-19T09:22:47.897Z"
   },
   {
    "duration": 7,
    "start_time": "2021-11-19T09:22:47.902Z"
   },
   {
    "duration": 20,
    "start_time": "2021-11-19T09:22:47.910Z"
   },
   {
    "duration": 9,
    "start_time": "2021-11-19T09:22:47.932Z"
   },
   {
    "duration": 32,
    "start_time": "2021-11-19T09:22:47.943Z"
   },
   {
    "duration": 745,
    "start_time": "2021-11-19T09:23:22.956Z"
   },
   {
    "duration": 43,
    "start_time": "2021-11-19T09:23:23.703Z"
   },
   {
    "duration": 28,
    "start_time": "2021-11-19T09:23:23.748Z"
   },
   {
    "duration": 25,
    "start_time": "2021-11-19T09:23:23.778Z"
   },
   {
    "duration": 48,
    "start_time": "2021-11-19T09:23:23.805Z"
   },
   {
    "duration": 22,
    "start_time": "2021-11-19T09:23:23.855Z"
   },
   {
    "duration": 39,
    "start_time": "2021-11-19T09:23:23.878Z"
   },
   {
    "duration": 11,
    "start_time": "2021-11-19T09:24:39.447Z"
   },
   {
    "duration": 261,
    "start_time": "2021-11-20T10:57:06.415Z"
   },
   {
    "duration": 602,
    "start_time": "2021-11-20T10:57:15.488Z"
   },
   {
    "duration": 38,
    "start_time": "2021-11-20T10:57:16.092Z"
   },
   {
    "duration": 3,
    "start_time": "2021-11-20T10:57:16.132Z"
   },
   {
    "duration": 4,
    "start_time": "2021-11-20T10:57:16.137Z"
   },
   {
    "duration": 19,
    "start_time": "2021-11-20T10:57:16.142Z"
   },
   {
    "duration": 8,
    "start_time": "2021-11-20T10:57:16.162Z"
   },
   {
    "duration": 18,
    "start_time": "2021-11-20T10:57:16.171Z"
   },
   {
    "duration": 8,
    "start_time": "2021-11-20T10:57:16.191Z"
   },
   {
    "duration": 12,
    "start_time": "2021-11-20T10:57:18.136Z"
   },
   {
    "duration": 8,
    "start_time": "2021-11-20T10:58:29.516Z"
   },
   {
    "duration": 32,
    "start_time": "2021-11-20T11:14:52.471Z"
   },
   {
    "duration": 33,
    "start_time": "2021-11-20T11:15:04.156Z"
   },
   {
    "duration": 27,
    "start_time": "2021-11-20T11:15:19.289Z"
   },
   {
    "duration": 295,
    "start_time": "2021-11-20T11:17:04.636Z"
   },
   {
    "duration": 237,
    "start_time": "2021-11-20T11:17:14.742Z"
   },
   {
    "duration": 3,
    "start_time": "2021-11-20T11:17:23.189Z"
   },
   {
    "duration": 237,
    "start_time": "2021-11-20T11:18:16.980Z"
   },
   {
    "duration": 889,
    "start_time": "2021-11-20T11:19:17.466Z"
   },
   {
    "duration": 5,
    "start_time": "2021-11-20T11:20:43.899Z"
   },
   {
    "duration": 9,
    "start_time": "2021-11-20T11:21:17.473Z"
   },
   {
    "duration": 1220,
    "start_time": "2021-11-20T11:21:24.796Z"
   },
   {
    "duration": 6,
    "start_time": "2021-11-20T11:21:39.717Z"
   },
   {
    "duration": 24,
    "start_time": "2021-11-20T11:21:41.623Z"
   },
   {
    "duration": 7,
    "start_time": "2021-11-20T11:27:02.782Z"
   },
   {
    "duration": 7,
    "start_time": "2021-11-20T11:27:14.287Z"
   },
   {
    "duration": 23,
    "start_time": "2021-11-20T11:28:37.639Z"
   },
   {
    "duration": 7,
    "start_time": "2021-11-20T11:28:54.231Z"
   },
   {
    "duration": 7,
    "start_time": "2021-11-20T11:30:23.978Z"
   },
   {
    "duration": 23,
    "start_time": "2021-11-20T11:30:27.647Z"
   },
   {
    "duration": 5688,
    "start_time": "2021-11-20T11:31:20.406Z"
   },
   {
    "duration": 6,
    "start_time": "2021-11-20T11:31:33.972Z"
   },
   {
    "duration": 10,
    "start_time": "2021-11-20T11:31:36.629Z"
   },
   {
    "duration": 74,
    "start_time": "2021-11-20T11:32:00.814Z"
   },
   {
    "duration": 88,
    "start_time": "2021-11-20T11:32:09.576Z"
   },
   {
    "duration": 79,
    "start_time": "2021-11-20T11:32:26.335Z"
   },
   {
    "duration": 13,
    "start_time": "2021-11-20T11:32:32.466Z"
   },
   {
    "duration": 9,
    "start_time": "2021-11-20T11:32:38.259Z"
   },
   {
    "duration": 4,
    "start_time": "2021-11-20T11:33:30.769Z"
   },
   {
    "duration": 64,
    "start_time": "2021-11-20T11:33:35.863Z"
   },
   {
    "duration": 39,
    "start_time": "2021-11-20T11:33:35.929Z"
   },
   {
    "duration": 3,
    "start_time": "2021-11-20T11:33:35.971Z"
   },
   {
    "duration": 9,
    "start_time": "2021-11-20T11:33:35.976Z"
   },
   {
    "duration": 18,
    "start_time": "2021-11-20T11:33:35.987Z"
   },
   {
    "duration": 10,
    "start_time": "2021-11-20T11:33:36.006Z"
   },
   {
    "duration": 19,
    "start_time": "2021-11-20T11:33:36.017Z"
   },
   {
    "duration": 8,
    "start_time": "2021-11-20T11:33:36.037Z"
   },
   {
    "duration": 41,
    "start_time": "2021-11-20T11:33:36.047Z"
   },
   {
    "duration": 2,
    "start_time": "2021-11-20T11:33:36.089Z"
   },
   {
    "duration": 220,
    "start_time": "2021-11-20T11:33:39.699Z"
   },
   {
    "duration": 221,
    "start_time": "2021-11-20T11:34:37.677Z"
   },
   {
    "duration": 2,
    "start_time": "2021-11-20T11:35:05.173Z"
   },
   {
    "duration": 5,
    "start_time": "2021-11-20T11:38:01.336Z"
   },
   {
    "duration": 19,
    "start_time": "2021-11-20T11:39:51.557Z"
   },
   {
    "duration": 20,
    "start_time": "2021-11-20T11:44:14.535Z"
   },
   {
    "duration": 31,
    "start_time": "2021-11-20T11:51:25.425Z"
   },
   {
    "duration": 568,
    "start_time": "2021-11-20T11:51:36.829Z"
   },
   {
    "duration": 38,
    "start_time": "2021-11-20T11:51:37.399Z"
   },
   {
    "duration": 3,
    "start_time": "2021-11-20T11:51:37.439Z"
   },
   {
    "duration": 4,
    "start_time": "2021-11-20T11:51:37.444Z"
   },
   {
    "duration": 18,
    "start_time": "2021-11-20T11:51:37.450Z"
   },
   {
    "duration": 8,
    "start_time": "2021-11-20T11:51:37.469Z"
   },
   {
    "duration": 28,
    "start_time": "2021-11-20T11:51:37.478Z"
   },
   {
    "duration": 10,
    "start_time": "2021-11-20T11:51:37.509Z"
   },
   {
    "duration": 14,
    "start_time": "2021-11-20T11:51:37.520Z"
   },
   {
    "duration": 15,
    "start_time": "2021-11-20T11:51:37.536Z"
   },
   {
    "duration": 6,
    "start_time": "2021-11-20T11:51:37.552Z"
   },
   {
    "duration": 30,
    "start_time": "2021-11-20T11:51:37.559Z"
   },
   {
    "duration": 2,
    "start_time": "2021-11-20T11:51:37.591Z"
   },
   {
    "duration": 283,
    "start_time": "2021-11-20T11:56:58.472Z"
   },
   {
    "duration": 16,
    "start_time": "2021-11-20T12:05:50.653Z"
   },
   {
    "duration": 20,
    "start_time": "2021-11-20T12:08:40.646Z"
   },
   {
    "duration": 21,
    "start_time": "2021-11-20T12:08:59.884Z"
   },
   {
    "duration": 15,
    "start_time": "2021-11-20T12:12:22.369Z"
   },
   {
    "duration": 23,
    "start_time": "2021-11-20T12:12:46.108Z"
   },
   {
    "duration": 5,
    "start_time": "2021-11-20T12:16:21.174Z"
   },
   {
    "duration": 16,
    "start_time": "2021-11-20T12:16:33.377Z"
   },
   {
    "duration": 16,
    "start_time": "2021-11-20T12:16:49.288Z"
   },
   {
    "duration": 28,
    "start_time": "2021-11-20T12:17:18.110Z"
   },
   {
    "duration": 10,
    "start_time": "2021-11-20T12:17:25.999Z"
   },
   {
    "duration": 221,
    "start_time": "2021-11-20T12:17:40.547Z"
   },
   {
    "duration": 24,
    "start_time": "2021-11-20T12:17:57.171Z"
   },
   {
    "duration": 10,
    "start_time": "2021-11-20T12:19:15.782Z"
   },
   {
    "duration": 6,
    "start_time": "2021-11-20T12:20:55.030Z"
   },
   {
    "duration": 10,
    "start_time": "2021-11-20T12:22:51.628Z"
   },
   {
    "duration": 9,
    "start_time": "2021-11-20T12:23:12.089Z"
   },
   {
    "duration": 12,
    "start_time": "2021-11-20T12:23:30.252Z"
   },
   {
    "duration": 6097,
    "start_time": "2021-11-20T12:23:50.497Z"
   },
   {
    "duration": 6,
    "start_time": "2021-11-20T12:24:01.612Z"
   },
   {
    "duration": 6,
    "start_time": "2021-11-20T12:24:09.479Z"
   },
   {
    "duration": 7,
    "start_time": "2021-11-20T12:24:43.972Z"
   },
   {
    "duration": 18,
    "start_time": "2021-11-20T12:33:48.329Z"
   },
   {
    "duration": 19,
    "start_time": "2021-11-20T12:35:15.689Z"
   },
   {
    "duration": 70,
    "start_time": "2021-11-20T12:37:59.583Z"
   },
   {
    "duration": 20,
    "start_time": "2021-11-20T12:38:15.900Z"
   },
   {
    "duration": 4,
    "start_time": "2021-11-20T12:38:20.296Z"
   },
   {
    "duration": 16,
    "start_time": "2021-11-20T12:38:40.240Z"
   },
   {
    "duration": 20,
    "start_time": "2021-11-20T12:39:41.320Z"
   },
   {
    "duration": 8,
    "start_time": "2021-11-20T12:39:50.248Z"
   },
   {
    "duration": 7,
    "start_time": "2021-11-20T12:41:14.005Z"
   },
   {
    "duration": 7,
    "start_time": "2021-11-20T12:43:04.690Z"
   },
   {
    "duration": 7,
    "start_time": "2021-11-20T12:43:11.348Z"
   },
   {
    "duration": 12,
    "start_time": "2021-11-20T12:43:31.438Z"
   },
   {
    "duration": 5,
    "start_time": "2021-11-20T12:45:28.978Z"
   },
   {
    "duration": 13,
    "start_time": "2021-11-20T12:45:49.681Z"
   },
   {
    "duration": 9,
    "start_time": "2021-11-20T12:45:52.455Z"
   },
   {
    "duration": 65,
    "start_time": "2021-11-20T12:46:00.516Z"
   },
   {
    "duration": 40,
    "start_time": "2021-11-20T12:46:00.582Z"
   },
   {
    "duration": 18,
    "start_time": "2021-11-20T12:46:00.624Z"
   },
   {
    "duration": 30,
    "start_time": "2021-11-20T12:46:00.644Z"
   },
   {
    "duration": 37,
    "start_time": "2021-11-20T12:46:00.676Z"
   },
   {
    "duration": 18,
    "start_time": "2021-11-20T12:46:00.714Z"
   },
   {
    "duration": 22,
    "start_time": "2021-11-20T12:46:00.733Z"
   },
   {
    "duration": 10,
    "start_time": "2021-11-20T12:46:00.756Z"
   },
   {
    "duration": 39,
    "start_time": "2021-11-20T12:46:00.768Z"
   },
   {
    "duration": 32,
    "start_time": "2021-11-20T12:46:00.808Z"
   },
   {
    "duration": 33,
    "start_time": "2021-11-20T12:46:00.841Z"
   },
   {
    "duration": 20,
    "start_time": "2021-11-20T12:46:00.876Z"
   },
   {
    "duration": 23,
    "start_time": "2021-11-20T12:46:00.898Z"
   },
   {
    "duration": 18,
    "start_time": "2021-11-20T12:46:00.923Z"
   },
   {
    "duration": 49,
    "start_time": "2021-11-20T12:46:00.942Z"
   },
   {
    "duration": 33,
    "start_time": "2021-11-20T12:46:00.992Z"
   },
   {
    "duration": 19,
    "start_time": "2021-11-20T12:46:01.027Z"
   },
   {
    "duration": 18,
    "start_time": "2021-11-20T12:46:01.048Z"
   },
   {
    "duration": 34,
    "start_time": "2021-11-20T12:46:01.068Z"
   },
   {
    "duration": 39,
    "start_time": "2021-11-20T12:46:01.104Z"
   },
   {
    "duration": 11,
    "start_time": "2021-11-20T12:46:01.144Z"
   },
   {
    "duration": 8,
    "start_time": "2021-11-20T12:46:01.156Z"
   },
   {
    "duration": 20,
    "start_time": "2021-11-20T12:46:04.278Z"
   },
   {
    "duration": 21,
    "start_time": "2021-11-20T12:46:07.615Z"
   },
   {
    "duration": 6,
    "start_time": "2021-11-20T12:46:33.839Z"
   },
   {
    "duration": 8,
    "start_time": "2021-11-20T12:47:47.263Z"
   },
   {
    "duration": 10,
    "start_time": "2021-11-20T12:47:52.978Z"
   },
   {
    "duration": 3,
    "start_time": "2021-11-20T12:58:41.499Z"
   },
   {
    "duration": 3,
    "start_time": "2021-11-20T12:58:43.789Z"
   },
   {
    "duration": 5394,
    "start_time": "2021-11-20T13:08:08.339Z"
   },
   {
    "duration": 7166,
    "start_time": "2021-11-20T13:08:17.734Z"
   },
   {
    "duration": 219,
    "start_time": "2021-11-20T13:09:05.468Z"
   },
   {
    "duration": 218,
    "start_time": "2021-11-20T13:09:14.140Z"
   },
   {
    "duration": 219,
    "start_time": "2021-11-20T13:09:19.216Z"
   },
   {
    "duration": 215,
    "start_time": "2021-11-20T13:11:40.335Z"
   },
   {
    "duration": 3,
    "start_time": "2021-11-20T13:11:48.646Z"
   },
   {
    "duration": 4,
    "start_time": "2021-11-20T13:12:11.905Z"
   },
   {
    "duration": 5,
    "start_time": "2021-11-20T13:12:14.450Z"
   },
   {
    "duration": 5,
    "start_time": "2021-11-20T13:12:53.480Z"
   },
   {
    "duration": 4,
    "start_time": "2021-11-20T13:13:01.113Z"
   },
   {
    "duration": 4,
    "start_time": "2021-11-20T13:13:16.613Z"
   },
   {
    "duration": 6208,
    "start_time": "2021-11-20T13:20:02.383Z"
   },
   {
    "duration": 7261,
    "start_time": "2021-11-20T13:20:11.506Z"
   },
   {
    "duration": 866,
    "start_time": "2021-11-20T13:20:35.762Z"
   },
   {
    "duration": 1100,
    "start_time": "2021-11-20T13:20:41.870Z"
   },
   {
    "duration": 7,
    "start_time": "2021-11-20T13:23:01.880Z"
   },
   {
    "duration": 9,
    "start_time": "2021-11-20T13:23:27.260Z"
   },
   {
    "duration": 18,
    "start_time": "2021-11-20T13:24:06.492Z"
   },
   {
    "duration": 19,
    "start_time": "2021-11-20T13:24:19.951Z"
   },
   {
    "duration": 18,
    "start_time": "2021-11-20T13:25:10.831Z"
   },
   {
    "duration": 18,
    "start_time": "2021-11-20T13:25:26.609Z"
   },
   {
    "duration": 24,
    "start_time": "2021-11-20T13:25:45.516Z"
   },
   {
    "duration": 21,
    "start_time": "2021-11-20T13:26:27.858Z"
   },
   {
    "duration": 5693,
    "start_time": "2021-11-20T13:28:03.523Z"
   },
   {
    "duration": 5506,
    "start_time": "2021-11-20T13:28:21.176Z"
   },
   {
    "duration": 9,
    "start_time": "2021-11-20T13:28:44.571Z"
   },
   {
    "duration": 9,
    "start_time": "2021-11-20T13:29:30.164Z"
   },
   {
    "duration": 4,
    "start_time": "2021-11-20T13:46:31.361Z"
   },
   {
    "duration": 17,
    "start_time": "2021-11-20T13:47:28.868Z"
   },
   {
    "duration": 4,
    "start_time": "2021-11-20T13:48:26.952Z"
   },
   {
    "duration": 19,
    "start_time": "2021-11-20T13:48:32.317Z"
   },
   {
    "duration": 6,
    "start_time": "2021-11-20T15:17:00.694Z"
   },
   {
    "duration": 6,
    "start_time": "2021-11-20T15:18:30.646Z"
   },
   {
    "duration": 215,
    "start_time": "2021-11-20T15:18:42.181Z"
   },
   {
    "duration": 247,
    "start_time": "2021-11-20T15:19:23.903Z"
   },
   {
    "duration": 73,
    "start_time": "2021-11-20T15:19:41.976Z"
   },
   {
    "duration": 213,
    "start_time": "2021-11-20T15:19:45.499Z"
   },
   {
    "duration": 221,
    "start_time": "2021-11-20T15:19:50.099Z"
   },
   {
    "duration": 5,
    "start_time": "2021-11-20T15:20:52.199Z"
   },
   {
    "duration": 5,
    "start_time": "2021-11-20T15:21:08.913Z"
   },
   {
    "duration": 5,
    "start_time": "2021-11-20T15:21:18.789Z"
   },
   {
    "duration": 6,
    "start_time": "2021-11-20T15:23:55.675Z"
   },
   {
    "duration": 6,
    "start_time": "2021-11-20T15:25:01.797Z"
   },
   {
    "duration": 4,
    "start_time": "2021-11-20T15:25:16.025Z"
   },
   {
    "duration": 4,
    "start_time": "2021-11-20T15:25:59.681Z"
   },
   {
    "duration": 5,
    "start_time": "2021-11-20T15:26:15.526Z"
   },
   {
    "duration": 3,
    "start_time": "2021-11-20T15:26:20.151Z"
   },
   {
    "duration": 4,
    "start_time": "2021-11-20T15:26:35.746Z"
   },
   {
    "duration": 12,
    "start_time": "2021-11-20T15:29:15.867Z"
   },
   {
    "duration": 6,
    "start_time": "2021-11-20T15:29:42.702Z"
   },
   {
    "duration": 7,
    "start_time": "2021-11-20T15:29:56.092Z"
   },
   {
    "duration": 10,
    "start_time": "2021-11-20T15:30:14.865Z"
   },
   {
    "duration": 26,
    "start_time": "2021-11-20T15:32:30.270Z"
   },
   {
    "duration": 10,
    "start_time": "2021-11-20T15:32:35.995Z"
   },
   {
    "duration": 219,
    "start_time": "2021-11-20T15:32:48.235Z"
   },
   {
    "duration": 4,
    "start_time": "2021-11-20T15:33:12.612Z"
   },
   {
    "duration": 5,
    "start_time": "2021-11-20T15:33:22.228Z"
   },
   {
    "duration": 10,
    "start_time": "2021-11-20T15:35:44.209Z"
   },
   {
    "duration": 3,
    "start_time": "2021-11-20T15:36:16.512Z"
   },
   {
    "duration": 5,
    "start_time": "2021-11-20T15:37:29.933Z"
   },
   {
    "duration": 5,
    "start_time": "2021-11-20T15:37:51.025Z"
   },
   {
    "duration": 5,
    "start_time": "2021-11-20T15:38:07.443Z"
   },
   {
    "duration": 232,
    "start_time": "2021-11-20T15:38:36.305Z"
   },
   {
    "duration": 226,
    "start_time": "2021-11-20T15:39:05.347Z"
   },
   {
    "duration": 4,
    "start_time": "2021-11-20T15:41:21.597Z"
   },
   {
    "duration": 5,
    "start_time": "2021-11-20T15:41:27.762Z"
   },
   {
    "duration": 5,
    "start_time": "2021-11-20T15:41:34.411Z"
   },
   {
    "duration": 217,
    "start_time": "2021-11-20T15:44:11.319Z"
   },
   {
    "duration": 13,
    "start_time": "2021-11-20T15:44:15.224Z"
   },
   {
    "duration": 226,
    "start_time": "2021-11-20T15:44:35.412Z"
   },
   {
    "duration": 12,
    "start_time": "2021-11-20T15:44:45.049Z"
   },
   {
    "duration": 5,
    "start_time": "2021-11-20T15:48:12.710Z"
   },
   {
    "duration": 12,
    "start_time": "2021-11-20T15:48:22.192Z"
   },
   {
    "duration": 638,
    "start_time": "2021-11-20T15:49:19.056Z"
   },
   {
    "duration": 39,
    "start_time": "2021-11-20T15:49:19.696Z"
   },
   {
    "duration": 3,
    "start_time": "2021-11-20T15:49:19.737Z"
   },
   {
    "duration": 4,
    "start_time": "2021-11-20T15:49:19.742Z"
   },
   {
    "duration": 19,
    "start_time": "2021-11-20T15:49:19.747Z"
   },
   {
    "duration": 9,
    "start_time": "2021-11-20T15:49:19.767Z"
   },
   {
    "duration": 20,
    "start_time": "2021-11-20T15:49:19.777Z"
   },
   {
    "duration": 11,
    "start_time": "2021-11-20T15:49:19.799Z"
   },
   {
    "duration": 14,
    "start_time": "2021-11-20T15:49:19.812Z"
   },
   {
    "duration": 14,
    "start_time": "2021-11-20T15:49:19.827Z"
   },
   {
    "duration": 15,
    "start_time": "2021-11-20T15:49:19.843Z"
   },
   {
    "duration": 30,
    "start_time": "2021-11-20T15:49:19.859Z"
   },
   {
    "duration": 11,
    "start_time": "2021-11-20T15:49:19.891Z"
   },
   {
    "duration": 2,
    "start_time": "2021-11-20T15:49:19.903Z"
   },
   {
    "duration": 19,
    "start_time": "2021-11-20T15:49:19.906Z"
   },
   {
    "duration": 21,
    "start_time": "2021-11-20T15:49:19.927Z"
   },
   {
    "duration": 39,
    "start_time": "2021-11-20T15:49:19.949Z"
   },
   {
    "duration": 9,
    "start_time": "2021-11-20T15:49:19.989Z"
   },
   {
    "duration": 15,
    "start_time": "2021-11-20T15:49:20.000Z"
   },
   {
    "duration": 14,
    "start_time": "2021-11-20T15:49:20.017Z"
   },
   {
    "duration": 8,
    "start_time": "2021-11-20T15:49:20.032Z"
   },
   {
    "duration": 8,
    "start_time": "2021-11-20T15:49:20.042Z"
   },
   {
    "duration": 8,
    "start_time": "2021-11-20T15:49:20.053Z"
   },
   {
    "duration": 24,
    "start_time": "2021-11-20T15:49:20.063Z"
   },
   {
    "duration": 279,
    "start_time": "2021-11-20T15:49:20.089Z"
   },
   {
    "duration": -392,
    "start_time": "2021-11-20T15:49:20.762Z"
   },
   {
    "duration": -395,
    "start_time": "2021-11-20T15:49:20.766Z"
   },
   {
    "duration": -397,
    "start_time": "2021-11-20T15:49:20.769Z"
   },
   {
    "duration": -401,
    "start_time": "2021-11-20T15:49:20.773Z"
   },
   {
    "duration": -403,
    "start_time": "2021-11-20T15:49:20.776Z"
   },
   {
    "duration": -405,
    "start_time": "2021-11-20T15:49:20.779Z"
   },
   {
    "duration": 225,
    "start_time": "2021-11-20T15:49:40.310Z"
   },
   {
    "duration": 6676,
    "start_time": "2021-11-20T15:50:33.396Z"
   },
   {
    "duration": -361,
    "start_time": "2021-11-20T15:51:01.348Z"
   },
   {
    "duration": -364,
    "start_time": "2021-11-20T15:51:01.352Z"
   },
   {
    "duration": -368,
    "start_time": "2021-11-20T15:51:01.356Z"
   },
   {
    "duration": -372,
    "start_time": "2021-11-20T15:51:01.361Z"
   },
   {
    "duration": -384,
    "start_time": "2021-11-20T15:51:01.374Z"
   },
   {
    "duration": -396,
    "start_time": "2021-11-20T15:51:01.387Z"
   },
   {
    "duration": -401,
    "start_time": "2021-11-20T15:51:01.393Z"
   },
   {
    "duration": -412,
    "start_time": "2021-11-20T15:51:01.405Z"
   },
   {
    "duration": -415,
    "start_time": "2021-11-20T15:51:01.409Z"
   },
   {
    "duration": -421,
    "start_time": "2021-11-20T15:51:01.416Z"
   },
   {
    "duration": -423,
    "start_time": "2021-11-20T15:51:01.419Z"
   },
   {
    "duration": -425,
    "start_time": "2021-11-20T15:51:01.422Z"
   },
   {
    "duration": -427,
    "start_time": "2021-11-20T15:51:01.425Z"
   },
   {
    "duration": -434,
    "start_time": "2021-11-20T15:51:01.433Z"
   },
   {
    "duration": -435,
    "start_time": "2021-11-20T15:51:01.436Z"
   },
   {
    "duration": -436,
    "start_time": "2021-11-20T15:51:01.438Z"
   },
   {
    "duration": -436,
    "start_time": "2021-11-20T15:51:01.440Z"
   },
   {
    "duration": -437,
    "start_time": "2021-11-20T15:51:01.442Z"
   },
   {
    "duration": -442,
    "start_time": "2021-11-20T15:51:01.448Z"
   },
   {
    "duration": -443,
    "start_time": "2021-11-20T15:51:01.451Z"
   },
   {
    "duration": -444,
    "start_time": "2021-11-20T15:51:01.453Z"
   },
   {
    "duration": -445,
    "start_time": "2021-11-20T15:51:01.455Z"
   },
   {
    "duration": -445,
    "start_time": "2021-11-20T15:51:01.456Z"
   },
   {
    "duration": -445,
    "start_time": "2021-11-20T15:51:01.458Z"
   },
   {
    "duration": -450,
    "start_time": "2021-11-20T15:51:01.464Z"
   },
   {
    "duration": -452,
    "start_time": "2021-11-20T15:51:01.467Z"
   },
   {
    "duration": -452,
    "start_time": "2021-11-20T15:51:01.468Z"
   },
   {
    "duration": -452,
    "start_time": "2021-11-20T15:51:01.470Z"
   },
   {
    "duration": -453,
    "start_time": "2021-11-20T15:51:01.472Z"
   },
   {
    "duration": -454,
    "start_time": "2021-11-20T15:51:01.474Z"
   },
   {
    "duration": -454,
    "start_time": "2021-11-20T15:51:01.475Z"
   },
   {
    "duration": 69,
    "start_time": "2021-11-20T15:51:09.069Z"
   },
   {
    "duration": 40,
    "start_time": "2021-11-20T15:51:09.140Z"
   },
   {
    "duration": 4,
    "start_time": "2021-11-20T15:51:09.182Z"
   },
   {
    "duration": 6,
    "start_time": "2021-11-20T15:51:09.188Z"
   },
   {
    "duration": 16,
    "start_time": "2021-11-20T15:51:09.196Z"
   },
   {
    "duration": 8,
    "start_time": "2021-11-20T15:51:09.214Z"
   },
   {
    "duration": 18,
    "start_time": "2021-11-20T15:51:09.223Z"
   },
   {
    "duration": 10,
    "start_time": "2021-11-20T15:51:09.243Z"
   },
   {
    "duration": 39,
    "start_time": "2021-11-20T15:51:09.255Z"
   },
   {
    "duration": 14,
    "start_time": "2021-11-20T15:51:09.296Z"
   },
   {
    "duration": 18,
    "start_time": "2021-11-20T15:51:09.311Z"
   },
   {
    "duration": 6,
    "start_time": "2021-11-20T15:51:09.331Z"
   },
   {
    "duration": 13,
    "start_time": "2021-11-20T15:51:09.338Z"
   },
   {
    "duration": 2,
    "start_time": "2021-11-20T15:51:09.352Z"
   },
   {
    "duration": 41,
    "start_time": "2021-11-20T15:51:09.356Z"
   },
   {
    "duration": 22,
    "start_time": "2021-11-20T15:51:09.399Z"
   },
   {
    "duration": 16,
    "start_time": "2021-11-20T15:51:09.423Z"
   },
   {
    "duration": 11,
    "start_time": "2021-11-20T15:51:09.441Z"
   },
   {
    "duration": 33,
    "start_time": "2021-11-20T15:51:09.454Z"
   },
   {
    "duration": 11,
    "start_time": "2021-11-20T15:51:09.489Z"
   },
   {
    "duration": 6,
    "start_time": "2021-11-20T15:51:09.502Z"
   },
   {
    "duration": 6,
    "start_time": "2021-11-20T15:51:09.509Z"
   },
   {
    "duration": 9,
    "start_time": "2021-11-20T15:51:09.517Z"
   },
   {
    "duration": 4,
    "start_time": "2021-11-20T15:51:09.527Z"
   },
   {
    "duration": 5709,
    "start_time": "2021-11-20T15:51:09.532Z"
   },
   {
    "duration": -363,
    "start_time": "2021-11-20T15:51:15.606Z"
   },
   {
    "duration": -364,
    "start_time": "2021-11-20T15:51:15.608Z"
   },
   {
    "duration": -365,
    "start_time": "2021-11-20T15:51:15.610Z"
   },
   {
    "duration": -366,
    "start_time": "2021-11-20T15:51:15.613Z"
   },
   {
    "duration": -367,
    "start_time": "2021-11-20T15:51:15.615Z"
   },
   {
    "duration": -368,
    "start_time": "2021-11-20T15:51:15.617Z"
   },
   {
    "duration": 5402,
    "start_time": "2021-11-20T15:51:38.712Z"
   },
   {
    "duration": 6235,
    "start_time": "2021-11-20T15:51:59.444Z"
   },
   {
    "duration": 227,
    "start_time": "2021-11-20T15:52:41.939Z"
   },
   {
    "duration": 9,
    "start_time": "2021-11-20T15:52:49.774Z"
   },
   {
    "duration": 63,
    "start_time": "2021-11-20T15:52:59.598Z"
   },
   {
    "duration": 44,
    "start_time": "2021-11-20T15:52:59.663Z"
   },
   {
    "duration": 4,
    "start_time": "2021-11-20T15:52:59.709Z"
   },
   {
    "duration": 17,
    "start_time": "2021-11-20T15:52:59.715Z"
   },
   {
    "duration": 20,
    "start_time": "2021-11-20T15:52:59.733Z"
   },
   {
    "duration": 8,
    "start_time": "2021-11-20T15:52:59.755Z"
   },
   {
    "duration": 25,
    "start_time": "2021-11-20T15:52:59.764Z"
   },
   {
    "duration": 16,
    "start_time": "2021-11-20T15:52:59.792Z"
   },
   {
    "duration": 14,
    "start_time": "2021-11-20T15:52:59.809Z"
   },
   {
    "duration": 17,
    "start_time": "2021-11-20T15:52:59.824Z"
   },
   {
    "duration": 18,
    "start_time": "2021-11-20T15:52:59.843Z"
   },
   {
    "duration": 28,
    "start_time": "2021-11-20T15:52:59.863Z"
   },
   {
    "duration": 14,
    "start_time": "2021-11-20T15:52:59.894Z"
   },
   {
    "duration": 3,
    "start_time": "2021-11-20T15:52:59.909Z"
   },
   {
    "duration": 26,
    "start_time": "2021-11-20T15:52:59.913Z"
   },
   {
    "duration": 24,
    "start_time": "2021-11-20T15:52:59.940Z"
   },
   {
    "duration": 41,
    "start_time": "2021-11-20T15:52:59.965Z"
   },
   {
    "duration": 9,
    "start_time": "2021-11-20T15:53:00.008Z"
   },
   {
    "duration": 17,
    "start_time": "2021-11-20T15:53:00.019Z"
   },
   {
    "duration": 18,
    "start_time": "2021-11-20T15:53:00.037Z"
   },
   {
    "duration": 12,
    "start_time": "2021-11-20T15:53:00.056Z"
   },
   {
    "duration": 21,
    "start_time": "2021-11-20T15:53:00.070Z"
   },
   {
    "duration": 20,
    "start_time": "2021-11-20T15:53:00.094Z"
   },
   {
    "duration": 9,
    "start_time": "2021-11-20T15:53:00.115Z"
   },
   {
    "duration": 10,
    "start_time": "2021-11-20T15:53:00.126Z"
   },
   {
    "duration": 20,
    "start_time": "2021-11-20T15:53:00.138Z"
   },
   {
    "duration": 48,
    "start_time": "2021-11-20T15:53:00.160Z"
   },
   {
    "duration": 8,
    "start_time": "2021-11-20T15:53:00.210Z"
   },
   {
    "duration": 5,
    "start_time": "2021-11-20T15:53:00.219Z"
   },
   {
    "duration": 13,
    "start_time": "2021-11-20T15:53:00.225Z"
   },
   {
    "duration": 15,
    "start_time": "2021-11-20T15:53:08.682Z"
   },
   {
    "duration": 12,
    "start_time": "2021-11-20T15:54:28.369Z"
   },
   {
    "duration": 13,
    "start_time": "2021-11-20T15:54:38.476Z"
   },
   {
    "duration": 243,
    "start_time": "2021-11-20T15:55:43.948Z"
   },
   {
    "duration": 13,
    "start_time": "2021-11-20T15:57:06.800Z"
   },
   {
    "duration": 14,
    "start_time": "2021-11-20T15:57:20.257Z"
   },
   {
    "duration": 13,
    "start_time": "2021-11-20T15:57:46.513Z"
   },
   {
    "duration": 15,
    "start_time": "2021-11-20T15:57:52.170Z"
   },
   {
    "duration": 246,
    "start_time": "2021-11-20T15:58:12.102Z"
   },
   {
    "duration": 73,
    "start_time": "2021-11-20T15:58:41.096Z"
   },
   {
    "duration": 14,
    "start_time": "2021-11-20T15:58:50.681Z"
   },
   {
    "duration": 243,
    "start_time": "2021-11-20T16:00:05.878Z"
   },
   {
    "duration": 245,
    "start_time": "2021-11-20T16:00:31.558Z"
   },
   {
    "duration": 20,
    "start_time": "2021-11-20T16:00:45.149Z"
   },
   {
    "duration": 16,
    "start_time": "2021-11-20T16:01:27.000Z"
   },
   {
    "duration": 16,
    "start_time": "2021-11-20T16:33:04.783Z"
   },
   {
    "duration": 15,
    "start_time": "2021-11-20T16:33:18.717Z"
   },
   {
    "duration": 22,
    "start_time": "2021-11-20T16:34:00.878Z"
   },
   {
    "duration": 16,
    "start_time": "2021-11-20T16:34:24.056Z"
   },
   {
    "duration": 19,
    "start_time": "2021-11-20T16:35:17.413Z"
   },
   {
    "duration": 375,
    "start_time": "2021-11-20T16:36:20.541Z"
   },
   {
    "duration": 600,
    "start_time": "2021-11-20T16:38:04.011Z"
   },
   {
    "duration": 50,
    "start_time": "2021-11-20T16:38:04.613Z"
   },
   {
    "duration": 4,
    "start_time": "2021-11-20T16:38:04.666Z"
   },
   {
    "duration": 5,
    "start_time": "2021-11-20T16:38:04.672Z"
   },
   {
    "duration": 19,
    "start_time": "2021-11-20T16:38:04.678Z"
   },
   {
    "duration": 15,
    "start_time": "2021-11-20T16:38:04.698Z"
   },
   {
    "duration": 23,
    "start_time": "2021-11-20T16:38:04.715Z"
   },
   {
    "duration": 15,
    "start_time": "2021-11-20T16:38:04.740Z"
   },
   {
    "duration": 52,
    "start_time": "2021-11-20T16:38:04.757Z"
   },
   {
    "duration": 15,
    "start_time": "2021-11-20T16:38:04.811Z"
   },
   {
    "duration": 20,
    "start_time": "2021-11-20T16:38:04.828Z"
   },
   {
    "duration": 8,
    "start_time": "2021-11-20T16:38:04.850Z"
   },
   {
    "duration": 34,
    "start_time": "2021-11-20T16:38:04.860Z"
   },
   {
    "duration": 3,
    "start_time": "2021-11-20T16:38:04.896Z"
   },
   {
    "duration": 31,
    "start_time": "2021-11-20T16:38:04.901Z"
   },
   {
    "duration": 72,
    "start_time": "2021-11-20T16:38:04.934Z"
   },
   {
    "duration": 16,
    "start_time": "2021-11-20T16:38:05.008Z"
   },
   {
    "duration": 9,
    "start_time": "2021-11-20T16:38:05.025Z"
   },
   {
    "duration": 8,
    "start_time": "2021-11-20T16:38:05.036Z"
   },
   {
    "duration": 20,
    "start_time": "2021-11-20T16:38:05.045Z"
   },
   {
    "duration": 23,
    "start_time": "2021-11-20T16:38:05.067Z"
   },
   {
    "duration": 10,
    "start_time": "2021-11-20T16:38:05.092Z"
   },
   {
    "duration": 16,
    "start_time": "2021-11-20T16:38:05.103Z"
   },
   {
    "duration": 5,
    "start_time": "2021-11-20T16:38:05.121Z"
   },
   {
    "duration": 10,
    "start_time": "2021-11-20T16:38:05.127Z"
   },
   {
    "duration": 5,
    "start_time": "2021-11-20T16:38:05.138Z"
   },
   {
    "duration": 43,
    "start_time": "2021-11-20T16:38:05.147Z"
   },
   {
    "duration": 8,
    "start_time": "2021-11-20T16:38:05.192Z"
   },
   {
    "duration": 7,
    "start_time": "2021-11-20T16:38:05.203Z"
   },
   {
    "duration": 9,
    "start_time": "2021-11-20T16:38:05.212Z"
   },
   {
    "duration": 13,
    "start_time": "2021-11-20T16:38:05.223Z"
   },
   {
    "duration": 13,
    "start_time": "2021-11-20T16:38:05.238Z"
   },
   {
    "duration": 20,
    "start_time": "2021-11-20T16:38:05.289Z"
   },
   {
    "duration": 301,
    "start_time": "2021-11-20T16:38:05.311Z"
   },
   {
    "duration": 369,
    "start_time": "2021-11-20T16:38:15.491Z"
   },
   {
    "duration": 350,
    "start_time": "2021-11-20T16:39:03.239Z"
   },
   {
    "duration": 404,
    "start_time": "2021-11-20T16:39:50.255Z"
   },
   {
    "duration": 329,
    "start_time": "2021-11-20T16:40:12.203Z"
   },
   {
    "duration": 21,
    "start_time": "2021-11-20T16:40:14.878Z"
   },
   {
    "duration": 17,
    "start_time": "2021-11-20T16:40:23.766Z"
   },
   {
    "duration": 603,
    "start_time": "2021-11-20T16:43:30.003Z"
   },
   {
    "duration": 18,
    "start_time": "2021-11-20T16:44:12.366Z"
   },
   {
    "duration": 217,
    "start_time": "2021-11-20T16:48:37.415Z"
   },
   {
    "duration": 4,
    "start_time": "2021-11-20T16:48:42.086Z"
   },
   {
    "duration": 4,
    "start_time": "2021-11-20T16:50:07.976Z"
   },
   {
    "duration": 5,
    "start_time": "2021-11-20T16:50:19.577Z"
   },
   {
    "duration": 380,
    "start_time": "2021-11-21T10:30:14.444Z"
   },
   {
    "duration": 2095,
    "start_time": "2021-11-21T10:30:18.838Z"
   },
   {
    "duration": 54,
    "start_time": "2021-11-21T10:30:20.936Z"
   },
   {
    "duration": 5,
    "start_time": "2021-11-21T10:30:20.994Z"
   },
   {
    "duration": 11,
    "start_time": "2021-11-21T10:30:21.002Z"
   },
   {
    "duration": 41,
    "start_time": "2021-11-21T10:30:21.015Z"
   },
   {
    "duration": 13,
    "start_time": "2021-11-21T10:30:21.058Z"
   },
   {
    "duration": 36,
    "start_time": "2021-11-21T10:30:21.073Z"
   },
   {
    "duration": 24,
    "start_time": "2021-11-21T10:30:21.113Z"
   },
   {
    "duration": 23,
    "start_time": "2021-11-21T10:30:21.140Z"
   },
   {
    "duration": 39,
    "start_time": "2021-11-21T10:30:21.165Z"
   },
   {
    "duration": 25,
    "start_time": "2021-11-21T10:30:21.206Z"
   },
   {
    "duration": 10,
    "start_time": "2021-11-21T10:30:21.233Z"
   },
   {
    "duration": 19,
    "start_time": "2021-11-21T10:30:21.246Z"
   },
   {
    "duration": 15,
    "start_time": "2021-11-21T10:30:21.267Z"
   },
   {
    "duration": 28,
    "start_time": "2021-11-21T10:30:21.285Z"
   },
   {
    "duration": 39,
    "start_time": "2021-11-21T10:30:21.315Z"
   },
   {
    "duration": 35,
    "start_time": "2021-11-21T10:30:21.357Z"
   },
   {
    "duration": 14,
    "start_time": "2021-11-21T10:30:21.394Z"
   },
   {
    "duration": 13,
    "start_time": "2021-11-21T10:30:21.411Z"
   },
   {
    "duration": 72,
    "start_time": "2021-11-21T10:30:21.426Z"
   },
   {
    "duration": 15,
    "start_time": "2021-11-21T10:30:21.500Z"
   },
   {
    "duration": 19,
    "start_time": "2021-11-21T10:30:21.518Z"
   },
   {
    "duration": 54,
    "start_time": "2021-11-21T10:30:21.543Z"
   },
   {
    "duration": 7,
    "start_time": "2021-11-21T10:30:21.600Z"
   },
   {
    "duration": 12,
    "start_time": "2021-11-21T10:30:21.609Z"
   },
   {
    "duration": 6,
    "start_time": "2021-11-21T10:30:21.624Z"
   },
   {
    "duration": 35,
    "start_time": "2021-11-21T10:30:21.632Z"
   },
   {
    "duration": 17,
    "start_time": "2021-11-21T10:30:21.670Z"
   },
   {
    "duration": 9,
    "start_time": "2021-11-21T10:30:21.690Z"
   },
   {
    "duration": 12,
    "start_time": "2021-11-21T10:30:21.702Z"
   },
   {
    "duration": 19,
    "start_time": "2021-11-21T10:30:21.717Z"
   },
   {
    "duration": 62,
    "start_time": "2021-11-21T10:30:21.739Z"
   },
   {
    "duration": 94,
    "start_time": "2021-11-21T10:30:21.804Z"
   },
   {
    "duration": 82,
    "start_time": "2021-11-21T10:30:21.901Z"
   },
   {
    "duration": 41,
    "start_time": "2021-11-21T10:30:25.686Z"
   },
   {
    "duration": 382,
    "start_time": "2021-11-21T10:33:08.677Z"
   },
   {
    "duration": 333,
    "start_time": "2021-11-21T10:33:34.938Z"
   },
   {
    "duration": 8,
    "start_time": "2021-11-21T10:34:10.511Z"
   },
   {
    "duration": 351,
    "start_time": "2021-11-21T10:35:00.928Z"
   },
   {
    "duration": 373,
    "start_time": "2021-11-21T10:35:05.229Z"
   },
   {
    "duration": 314,
    "start_time": "2021-11-21T10:35:18.057Z"
   },
   {
    "duration": 30,
    "start_time": "2021-11-21T10:40:53.736Z"
   },
   {
    "duration": 40,
    "start_time": "2021-11-21T10:43:15.412Z"
   },
   {
    "duration": 31,
    "start_time": "2021-11-21T10:44:13.096Z"
   },
   {
    "duration": 8,
    "start_time": "2021-11-21T10:44:15.017Z"
   },
   {
    "duration": 303,
    "start_time": "2021-11-21T10:44:49.199Z"
   },
   {
    "duration": 21,
    "start_time": "2021-11-21T10:45:15.726Z"
   },
   {
    "duration": 33,
    "start_time": "2021-11-21T10:45:23.375Z"
   },
   {
    "duration": 323,
    "start_time": "2021-11-21T10:45:27.524Z"
   },
   {
    "duration": 28,
    "start_time": "2021-11-21T10:45:37.293Z"
   },
   {
    "duration": 7,
    "start_time": "2021-11-21T10:45:39.405Z"
   },
   {
    "duration": 8,
    "start_time": "2021-11-21T10:47:00.189Z"
   },
   {
    "duration": 104,
    "start_time": "2021-11-21T10:47:18.337Z"
   },
   {
    "duration": 7,
    "start_time": "2021-11-21T10:47:25.216Z"
   },
   {
    "duration": 10,
    "start_time": "2021-11-21T10:47:36.806Z"
   },
   {
    "duration": 9,
    "start_time": "2021-11-21T10:47:46.518Z"
   },
   {
    "duration": 43,
    "start_time": "2021-11-21T10:48:25.290Z"
   },
   {
    "duration": 8,
    "start_time": "2021-11-21T10:48:28.799Z"
   },
   {
    "duration": 11,
    "start_time": "2021-11-21T10:48:47.443Z"
   },
   {
    "duration": 7,
    "start_time": "2021-11-21T10:48:58.761Z"
   },
   {
    "duration": 31,
    "start_time": "2021-11-21T10:49:07.004Z"
   },
   {
    "duration": 9,
    "start_time": "2021-11-21T10:49:09.002Z"
   },
   {
    "duration": 46,
    "start_time": "2021-11-21T10:51:05.232Z"
   },
   {
    "duration": 12,
    "start_time": "2021-11-21T10:51:09.627Z"
   },
   {
    "duration": 30,
    "start_time": "2021-11-21T10:51:18.504Z"
   },
   {
    "duration": 8,
    "start_time": "2021-11-21T10:51:22.735Z"
   },
   {
    "duration": 32,
    "start_time": "2021-11-21T10:55:18.218Z"
   },
   {
    "duration": 30,
    "start_time": "2021-11-21T10:59:00.031Z"
   },
   {
    "duration": 92,
    "start_time": "2021-11-21T11:00:44.317Z"
   },
   {
    "duration": 48,
    "start_time": "2021-11-21T11:00:44.411Z"
   },
   {
    "duration": 6,
    "start_time": "2021-11-21T11:00:44.463Z"
   },
   {
    "duration": 9,
    "start_time": "2021-11-21T11:00:44.472Z"
   },
   {
    "duration": 33,
    "start_time": "2021-11-21T11:00:44.484Z"
   },
   {
    "duration": 14,
    "start_time": "2021-11-21T11:00:44.520Z"
   },
   {
    "duration": 73,
    "start_time": "2021-11-21T11:00:44.536Z"
   },
   {
    "duration": 15,
    "start_time": "2021-11-21T11:00:44.611Z"
   },
   {
    "duration": 23,
    "start_time": "2021-11-21T11:00:44.631Z"
   },
   {
    "duration": 23,
    "start_time": "2021-11-21T11:00:44.684Z"
   },
   {
    "duration": 23,
    "start_time": "2021-11-21T11:00:44.709Z"
   },
   {
    "duration": 10,
    "start_time": "2021-11-21T11:00:44.734Z"
   },
   {
    "duration": 42,
    "start_time": "2021-11-21T11:00:44.746Z"
   },
   {
    "duration": 4,
    "start_time": "2021-11-21T11:00:44.790Z"
   },
   {
    "duration": 28,
    "start_time": "2021-11-21T11:00:44.796Z"
   },
   {
    "duration": 70,
    "start_time": "2021-11-21T11:00:44.827Z"
   },
   {
    "duration": 26,
    "start_time": "2021-11-21T11:00:44.900Z"
   },
   {
    "duration": 14,
    "start_time": "2021-11-21T11:00:44.928Z"
   },
   {
    "duration": 42,
    "start_time": "2021-11-21T11:00:44.944Z"
   },
   {
    "duration": 18,
    "start_time": "2021-11-21T11:00:44.988Z"
   },
   {
    "duration": 20,
    "start_time": "2021-11-21T11:00:45.009Z"
   },
   {
    "duration": 15,
    "start_time": "2021-11-21T11:00:45.031Z"
   },
   {
    "duration": 44,
    "start_time": "2021-11-21T11:00:45.049Z"
   },
   {
    "duration": 6,
    "start_time": "2021-11-21T11:00:45.096Z"
   },
   {
    "duration": 11,
    "start_time": "2021-11-21T11:00:45.104Z"
   },
   {
    "duration": 5,
    "start_time": "2021-11-21T11:00:45.118Z"
   },
   {
    "duration": 65,
    "start_time": "2021-11-21T11:00:45.128Z"
   },
   {
    "duration": 8,
    "start_time": "2021-11-21T11:00:45.195Z"
   },
   {
    "duration": 6,
    "start_time": "2021-11-21T11:00:45.206Z"
   },
   {
    "duration": 5,
    "start_time": "2021-11-21T11:00:45.214Z"
   },
   {
    "duration": 20,
    "start_time": "2021-11-21T11:00:45.221Z"
   },
   {
    "duration": 59,
    "start_time": "2021-11-21T11:00:45.243Z"
   },
   {
    "duration": 26,
    "start_time": "2021-11-21T11:00:45.304Z"
   },
   {
    "duration": 54,
    "start_time": "2021-11-21T11:00:45.332Z"
   },
   {
    "duration": 7,
    "start_time": "2021-11-21T11:00:45.389Z"
   },
   {
    "duration": 30,
    "start_time": "2021-11-21T11:00:45.399Z"
   },
   {
    "duration": 8,
    "start_time": "2021-11-21T11:00:45.431Z"
   },
   {
    "duration": 26,
    "start_time": "2021-11-21T11:07:19.119Z"
   },
   {
    "duration": 391,
    "start_time": "2021-11-21T11:11:42.771Z"
   },
   {
    "duration": 340,
    "start_time": "2021-11-21T11:11:53.069Z"
   },
   {
    "duration": 8,
    "start_time": "2021-11-21T11:12:00.363Z"
   },
   {
    "duration": 7824,
    "start_time": "2021-11-21T11:12:09.861Z"
   },
   {
    "duration": 8,
    "start_time": "2021-11-21T11:12:18.761Z"
   },
   {
    "duration": 7,
    "start_time": "2021-11-21T11:12:34.034Z"
   },
   {
    "duration": 6,
    "start_time": "2021-11-21T11:13:50.388Z"
   },
   {
    "duration": 6,
    "start_time": "2021-11-21T11:13:56.217Z"
   },
   {
    "duration": 5,
    "start_time": "2021-11-21T11:14:00.176Z"
   },
   {
    "duration": 17,
    "start_time": "2021-11-21T11:30:43.036Z"
   },
   {
    "duration": 20,
    "start_time": "2021-11-21T11:30:57.590Z"
   },
   {
    "duration": 24,
    "start_time": "2021-11-21T11:31:14.699Z"
   },
   {
    "duration": 17,
    "start_time": "2021-11-21T11:31:47.184Z"
   },
   {
    "duration": 17,
    "start_time": "2021-11-21T11:31:57.749Z"
   },
   {
    "duration": 21,
    "start_time": "2021-11-21T11:32:55.505Z"
   },
   {
    "duration": 20,
    "start_time": "2021-11-21T11:33:05.550Z"
   },
   {
    "duration": 20,
    "start_time": "2021-11-21T11:34:00.208Z"
   },
   {
    "duration": 20,
    "start_time": "2021-11-21T11:34:10.086Z"
   },
   {
    "duration": 19,
    "start_time": "2021-11-21T11:34:38.361Z"
   },
   {
    "duration": 6,
    "start_time": "2021-11-21T11:36:07.650Z"
   },
   {
    "duration": 34,
    "start_time": "2021-11-21T11:36:33.128Z"
   },
   {
    "duration": 334,
    "start_time": "2021-11-21T11:40:48.382Z"
   },
   {
    "duration": 644,
    "start_time": "2021-11-21T11:43:20.405Z"
   },
   {
    "duration": 6,
    "start_time": "2021-11-21T11:45:34.593Z"
   },
   {
    "duration": 9,
    "start_time": "2021-11-21T11:47:14.571Z"
   },
   {
    "duration": 26,
    "start_time": "2021-11-21T11:47:27.723Z"
   },
   {
    "duration": 41,
    "start_time": "2021-11-21T11:47:53.528Z"
   },
   {
    "duration": 6,
    "start_time": "2021-11-21T11:49:07.908Z"
   },
   {
    "duration": 529,
    "start_time": "2021-11-21T11:53:25.130Z"
   },
   {
    "duration": 317,
    "start_time": "2021-11-21T11:53:33.435Z"
   },
   {
    "duration": 319,
    "start_time": "2021-11-21T11:53:41.468Z"
   },
   {
    "duration": 356,
    "start_time": "2021-11-21T11:54:05.601Z"
   },
   {
    "duration": 116,
    "start_time": "2021-11-21T11:54:21.779Z"
   },
   {
    "duration": 50,
    "start_time": "2021-11-21T11:54:21.899Z"
   },
   {
    "duration": 5,
    "start_time": "2021-11-21T11:54:21.952Z"
   },
   {
    "duration": 7,
    "start_time": "2021-11-21T11:54:21.960Z"
   },
   {
    "duration": 33,
    "start_time": "2021-11-21T11:54:21.970Z"
   },
   {
    "duration": 12,
    "start_time": "2021-11-21T11:54:22.006Z"
   },
   {
    "duration": 34,
    "start_time": "2021-11-21T11:54:22.021Z"
   },
   {
    "duration": 23,
    "start_time": "2021-11-21T11:54:22.082Z"
   },
   {
    "duration": 24,
    "start_time": "2021-11-21T11:54:22.109Z"
   },
   {
    "duration": 58,
    "start_time": "2021-11-21T11:54:22.137Z"
   },
   {
    "duration": 34,
    "start_time": "2021-11-21T11:54:22.197Z"
   },
   {
    "duration": 14,
    "start_time": "2021-11-21T11:54:22.234Z"
   },
   {
    "duration": 40,
    "start_time": "2021-11-21T11:54:22.251Z"
   },
   {
    "duration": 5,
    "start_time": "2021-11-21T11:54:22.294Z"
   },
   {
    "duration": 42,
    "start_time": "2021-11-21T11:54:22.302Z"
   },
   {
    "duration": 79,
    "start_time": "2021-11-21T11:54:22.347Z"
   },
   {
    "duration": 55,
    "start_time": "2021-11-21T11:54:22.428Z"
   },
   {
    "duration": 19,
    "start_time": "2021-11-21T11:54:22.486Z"
   },
   {
    "duration": 11,
    "start_time": "2021-11-21T11:54:22.508Z"
   },
   {
    "duration": 22,
    "start_time": "2021-11-21T11:54:22.522Z"
   },
   {
    "duration": 44,
    "start_time": "2021-11-21T11:54:22.547Z"
   },
   {
    "duration": 15,
    "start_time": "2021-11-21T11:54:22.593Z"
   },
   {
    "duration": 16,
    "start_time": "2021-11-21T11:54:22.611Z"
   },
   {
    "duration": 7,
    "start_time": "2021-11-21T11:54:22.630Z"
   },
   {
    "duration": 51,
    "start_time": "2021-11-21T11:54:22.640Z"
   },
   {
    "duration": 6,
    "start_time": "2021-11-21T11:54:22.693Z"
   },
   {
    "duration": 35,
    "start_time": "2021-11-21T11:54:22.705Z"
   },
   {
    "duration": 39,
    "start_time": "2021-11-21T11:54:22.743Z"
   },
   {
    "duration": 6,
    "start_time": "2021-11-21T11:54:22.785Z"
   },
   {
    "duration": 23,
    "start_time": "2021-11-21T11:54:22.794Z"
   },
   {
    "duration": 24,
    "start_time": "2021-11-21T11:54:22.819Z"
   },
   {
    "duration": 63,
    "start_time": "2021-11-21T11:54:22.845Z"
   },
   {
    "duration": 32,
    "start_time": "2021-11-21T11:54:22.910Z"
   },
   {
    "duration": 40,
    "start_time": "2021-11-21T11:54:22.945Z"
   },
   {
    "duration": 30,
    "start_time": "2021-11-21T11:54:22.988Z"
   },
   {
    "duration": 8,
    "start_time": "2021-11-21T11:54:23.021Z"
   },
   {
    "duration": 67,
    "start_time": "2021-11-21T11:54:23.032Z"
   },
   {
    "duration": 8,
    "start_time": "2021-11-21T11:54:30.039Z"
   },
   {
    "duration": 102,
    "start_time": "2021-11-21T11:54:34.956Z"
   },
   {
    "duration": 50,
    "start_time": "2021-11-21T11:54:35.061Z"
   },
   {
    "duration": 5,
    "start_time": "2021-11-21T11:54:35.114Z"
   },
   {
    "duration": 6,
    "start_time": "2021-11-21T11:54:35.122Z"
   },
   {
    "duration": 55,
    "start_time": "2021-11-21T11:54:35.130Z"
   },
   {
    "duration": 20,
    "start_time": "2021-11-21T11:54:35.187Z"
   },
   {
    "duration": 37,
    "start_time": "2021-11-21T11:54:35.209Z"
   },
   {
    "duration": 41,
    "start_time": "2021-11-21T11:54:35.250Z"
   },
   {
    "duration": 24,
    "start_time": "2021-11-21T11:54:35.294Z"
   },
   {
    "duration": 26,
    "start_time": "2021-11-21T11:54:35.321Z"
   },
   {
    "duration": 22,
    "start_time": "2021-11-21T11:54:35.382Z"
   },
   {
    "duration": 10,
    "start_time": "2021-11-21T11:54:35.407Z"
   },
   {
    "duration": 21,
    "start_time": "2021-11-21T11:54:35.420Z"
   },
   {
    "duration": 39,
    "start_time": "2021-11-21T11:54:35.443Z"
   },
   {
    "duration": 36,
    "start_time": "2021-11-21T11:54:35.485Z"
   },
   {
    "duration": 59,
    "start_time": "2021-11-21T11:54:35.523Z"
   },
   {
    "duration": 30,
    "start_time": "2021-11-21T11:54:35.585Z"
   },
   {
    "duration": 18,
    "start_time": "2021-11-21T11:54:35.618Z"
   },
   {
    "duration": 49,
    "start_time": "2021-11-21T11:54:35.639Z"
   },
   {
    "duration": 30,
    "start_time": "2021-11-21T11:54:35.691Z"
   },
   {
    "duration": 14,
    "start_time": "2021-11-21T11:54:35.723Z"
   },
   {
    "duration": 25,
    "start_time": "2021-11-21T11:54:35.740Z"
   },
   {
    "duration": 13,
    "start_time": "2021-11-21T11:54:35.785Z"
   },
   {
    "duration": 18,
    "start_time": "2021-11-21T11:54:35.801Z"
   },
   {
    "duration": 40,
    "start_time": "2021-11-21T11:54:35.822Z"
   },
   {
    "duration": 18,
    "start_time": "2021-11-21T11:54:35.865Z"
   },
   {
    "duration": 47,
    "start_time": "2021-11-21T11:54:35.885Z"
   },
   {
    "duration": 10,
    "start_time": "2021-11-21T11:54:35.936Z"
   },
   {
    "duration": 18,
    "start_time": "2021-11-21T11:54:35.948Z"
   },
   {
    "duration": 29,
    "start_time": "2021-11-21T11:54:35.968Z"
   },
   {
    "duration": 24,
    "start_time": "2021-11-21T11:54:36.000Z"
   },
   {
    "duration": 59,
    "start_time": "2021-11-21T11:54:36.027Z"
   },
   {
    "duration": 29,
    "start_time": "2021-11-21T11:54:36.088Z"
   },
   {
    "duration": 8,
    "start_time": "2021-11-21T11:54:36.119Z"
   },
   {
    "duration": 68,
    "start_time": "2021-11-21T11:54:36.129Z"
   },
   {
    "duration": 8,
    "start_time": "2021-11-21T11:54:36.199Z"
   },
   {
    "duration": 29,
    "start_time": "2021-11-21T11:54:36.210Z"
   },
   {
    "duration": 71,
    "start_time": "2021-11-21T11:54:36.241Z"
   },
   {
    "duration": 11,
    "start_time": "2021-11-21T11:54:41.608Z"
   },
   {
    "duration": 9,
    "start_time": "2021-11-21T11:55:02.172Z"
   },
   {
    "duration": 8,
    "start_time": "2021-11-21T11:55:20.905Z"
   },
   {
    "duration": 9007,
    "start_time": "2021-11-21T11:55:38.718Z"
   },
   {
    "duration": 1620,
    "start_time": "2021-11-21T11:56:05.726Z"
   },
   {
    "duration": 47,
    "start_time": "2021-11-21T11:56:07.349Z"
   },
   {
    "duration": 6,
    "start_time": "2021-11-21T11:56:07.399Z"
   },
   {
    "duration": 8,
    "start_time": "2021-11-21T11:56:07.409Z"
   },
   {
    "duration": 70,
    "start_time": "2021-11-21T11:56:07.420Z"
   },
   {
    "duration": 19,
    "start_time": "2021-11-21T11:56:07.493Z"
   },
   {
    "duration": 69,
    "start_time": "2021-11-21T11:56:07.515Z"
   },
   {
    "duration": 18,
    "start_time": "2021-11-21T11:56:07.589Z"
   },
   {
    "duration": 25,
    "start_time": "2021-11-21T11:56:07.610Z"
   },
   {
    "duration": 60,
    "start_time": "2021-11-21T11:56:07.638Z"
   },
   {
    "duration": 24,
    "start_time": "2021-11-21T11:56:07.701Z"
   },
   {
    "duration": 9,
    "start_time": "2021-11-21T11:56:07.728Z"
   },
   {
    "duration": 47,
    "start_time": "2021-11-21T11:56:07.740Z"
   },
   {
    "duration": 3,
    "start_time": "2021-11-21T11:56:07.790Z"
   },
   {
    "duration": 35,
    "start_time": "2021-11-21T11:56:07.796Z"
   },
   {
    "duration": 71,
    "start_time": "2021-11-21T11:56:07.834Z"
   },
   {
    "duration": 51,
    "start_time": "2021-11-21T11:56:07.907Z"
   },
   {
    "duration": 22,
    "start_time": "2021-11-21T11:56:07.960Z"
   },
   {
    "duration": 11,
    "start_time": "2021-11-21T11:56:07.986Z"
   },
   {
    "duration": 17,
    "start_time": "2021-11-21T11:56:07.999Z"
   },
   {
    "duration": 12,
    "start_time": "2021-11-21T11:56:08.018Z"
   },
   {
    "duration": 54,
    "start_time": "2021-11-21T11:56:08.032Z"
   },
   {
    "duration": 19,
    "start_time": "2021-11-21T11:56:08.094Z"
   },
   {
    "duration": 7,
    "start_time": "2021-11-21T11:56:08.116Z"
   },
   {
    "duration": 16,
    "start_time": "2021-11-21T11:56:08.126Z"
   },
   {
    "duration": 40,
    "start_time": "2021-11-21T11:56:08.145Z"
   },
   {
    "duration": 32,
    "start_time": "2021-11-21T11:56:08.188Z"
   },
   {
    "duration": 9,
    "start_time": "2021-11-21T11:56:08.222Z"
   },
   {
    "duration": 48,
    "start_time": "2021-11-21T11:56:08.234Z"
   },
   {
    "duration": 22,
    "start_time": "2021-11-21T11:56:08.285Z"
   },
   {
    "duration": 26,
    "start_time": "2021-11-21T11:56:08.310Z"
   },
   {
    "duration": 71,
    "start_time": "2021-11-21T11:56:08.338Z"
   },
   {
    "duration": 662,
    "start_time": "2021-11-21T11:56:08.412Z"
   },
   {
    "duration": 355,
    "start_time": "2021-11-21T11:56:08.722Z"
   },
   {
    "duration": 345,
    "start_time": "2021-11-21T11:56:08.734Z"
   },
   {
    "duration": 343,
    "start_time": "2021-11-21T11:56:08.737Z"
   },
   {
    "duration": 342,
    "start_time": "2021-11-21T11:56:08.740Z"
   },
   {
    "duration": 341,
    "start_time": "2021-11-21T11:56:08.743Z"
   },
   {
    "duration": 340,
    "start_time": "2021-11-21T11:56:08.746Z"
   },
   {
    "duration": 340,
    "start_time": "2021-11-21T11:56:08.748Z"
   },
   {
    "duration": 338,
    "start_time": "2021-11-21T11:56:08.751Z"
   },
   {
    "duration": 337,
    "start_time": "2021-11-21T11:56:08.754Z"
   },
   {
    "duration": 337,
    "start_time": "2021-11-21T11:56:08.756Z"
   },
   {
    "duration": 335,
    "start_time": "2021-11-21T11:56:08.759Z"
   },
   {
    "duration": 2053,
    "start_time": "2021-11-21T11:56:34.584Z"
   },
   {
    "duration": 50,
    "start_time": "2021-11-21T11:56:36.641Z"
   },
   {
    "duration": 7,
    "start_time": "2021-11-21T11:56:36.695Z"
   },
   {
    "duration": 6,
    "start_time": "2021-11-21T11:56:36.706Z"
   },
   {
    "duration": 75,
    "start_time": "2021-11-21T11:56:36.715Z"
   },
   {
    "duration": 19,
    "start_time": "2021-11-21T11:56:36.793Z"
   },
   {
    "duration": 69,
    "start_time": "2021-11-21T11:56:36.815Z"
   },
   {
    "duration": 18,
    "start_time": "2021-11-21T11:56:36.888Z"
   },
   {
    "duration": 24,
    "start_time": "2021-11-21T11:56:36.910Z"
   },
   {
    "duration": 63,
    "start_time": "2021-11-21T11:56:36.937Z"
   },
   {
    "duration": 33,
    "start_time": "2021-11-21T11:56:37.003Z"
   },
   {
    "duration": 11,
    "start_time": "2021-11-21T11:56:37.039Z"
   },
   {
    "duration": 40,
    "start_time": "2021-11-21T11:56:37.053Z"
   },
   {
    "duration": 6,
    "start_time": "2021-11-21T11:56:37.096Z"
   },
   {
    "duration": 35,
    "start_time": "2021-11-21T11:56:37.105Z"
   },
   {
    "duration": 87,
    "start_time": "2021-11-21T11:56:37.143Z"
   },
   {
    "duration": 49,
    "start_time": "2021-11-21T11:56:37.233Z"
   },
   {
    "duration": 20,
    "start_time": "2021-11-21T11:56:37.285Z"
   },
   {
    "duration": 24,
    "start_time": "2021-11-21T11:56:37.308Z"
   },
   {
    "duration": 49,
    "start_time": "2021-11-21T11:56:37.335Z"
   },
   {
    "duration": 11,
    "start_time": "2021-11-21T11:56:37.387Z"
   },
   {
    "duration": 15,
    "start_time": "2021-11-21T11:56:37.401Z"
   },
   {
    "duration": 14,
    "start_time": "2021-11-21T11:56:37.423Z"
   },
   {
    "duration": 44,
    "start_time": "2021-11-21T11:56:37.440Z"
   },
   {
    "duration": 14,
    "start_time": "2021-11-21T11:56:37.487Z"
   },
   {
    "duration": 8,
    "start_time": "2021-11-21T11:56:37.504Z"
   },
   {
    "duration": 68,
    "start_time": "2021-11-21T11:56:37.514Z"
   },
   {
    "duration": 9,
    "start_time": "2021-11-21T11:56:37.584Z"
   },
   {
    "duration": 7,
    "start_time": "2021-11-21T11:56:37.596Z"
   },
   {
    "duration": 25,
    "start_time": "2021-11-21T11:56:37.605Z"
   },
   {
    "duration": 63,
    "start_time": "2021-11-21T11:56:37.633Z"
   },
   {
    "duration": 33,
    "start_time": "2021-11-21T11:56:37.699Z"
   },
   {
    "duration": 62,
    "start_time": "2021-11-21T11:56:37.735Z"
   },
   {
    "duration": 7,
    "start_time": "2021-11-21T11:56:37.800Z"
   },
   {
    "duration": 33,
    "start_time": "2021-11-21T11:56:37.809Z"
   },
   {
    "duration": 37,
    "start_time": "2021-11-21T11:56:37.845Z"
   },
   {
    "duration": 35,
    "start_time": "2021-11-21T11:56:37.885Z"
   },
   {
    "duration": 17,
    "start_time": "2021-11-21T11:56:37.923Z"
   },
   {
    "duration": 40,
    "start_time": "2021-11-21T11:56:37.942Z"
   },
   {
    "duration": 6,
    "start_time": "2021-11-21T11:56:37.984Z"
   },
   {
    "duration": 20,
    "start_time": "2021-11-21T11:56:37.992Z"
   },
   {
    "duration": 20,
    "start_time": "2021-11-21T11:56:38.015Z"
   },
   {
    "duration": 47,
    "start_time": "2021-11-21T11:56:38.037Z"
   },
   {
    "duration": 457,
    "start_time": "2021-11-21T11:56:38.087Z"
   },
   {
    "duration": 10,
    "start_time": "2021-11-21T11:57:13.559Z"
   },
   {
    "duration": 12,
    "start_time": "2021-11-21T11:57:21.131Z"
   },
   {
    "duration": 10,
    "start_time": "2021-11-21T11:58:04.357Z"
   },
   {
    "duration": 51,
    "start_time": "2021-11-21T11:59:24.940Z"
   },
   {
    "duration": 3945,
    "start_time": "2021-11-21T11:59:51.872Z"
   },
   {
    "duration": 103,
    "start_time": "2021-11-21T12:00:01.793Z"
   },
   {
    "duration": 13,
    "start_time": "2021-11-21T12:00:15.012Z"
   },
   {
    "duration": 6,
    "start_time": "2021-11-21T12:01:17.490Z"
   },
   {
    "duration": 7,
    "start_time": "2021-11-21T12:01:29.678Z"
   },
   {
    "duration": 7,
    "start_time": "2021-11-21T12:01:33.930Z"
   },
   {
    "duration": 30,
    "start_time": "2021-11-21T12:02:25.486Z"
   },
   {
    "duration": 83,
    "start_time": "2021-11-21T12:03:11.503Z"
   },
   {
    "duration": 31,
    "start_time": "2021-11-21T12:03:14.462Z"
   },
   {
    "duration": 7,
    "start_time": "2021-11-21T12:03:32.060Z"
   },
   {
    "duration": 56,
    "start_time": "2021-11-21T12:08:00.035Z"
   },
   {
    "duration": 471,
    "start_time": "2021-11-21T12:19:52.070Z"
   },
   {
    "duration": 7,
    "start_time": "2021-11-21T12:20:02.594Z"
   },
   {
    "duration": 40,
    "start_time": "2021-11-21T12:20:06.949Z"
   },
   {
    "duration": 1763,
    "start_time": "2021-11-21T12:21:01.195Z"
   },
   {
    "duration": 38,
    "start_time": "2021-11-21T12:21:02.960Z"
   },
   {
    "duration": 5,
    "start_time": "2021-11-21T12:21:03.001Z"
   },
   {
    "duration": 18,
    "start_time": "2021-11-21T12:21:03.009Z"
   },
   {
    "duration": 54,
    "start_time": "2021-11-21T12:21:03.029Z"
   },
   {
    "duration": 14,
    "start_time": "2021-11-21T12:21:03.086Z"
   },
   {
    "duration": 50,
    "start_time": "2021-11-21T12:21:03.102Z"
   },
   {
    "duration": 38,
    "start_time": "2021-11-21T12:21:03.155Z"
   },
   {
    "duration": 25,
    "start_time": "2021-11-21T12:21:03.196Z"
   },
   {
    "duration": 60,
    "start_time": "2021-11-21T12:21:03.224Z"
   },
   {
    "duration": 25,
    "start_time": "2021-11-21T12:21:03.286Z"
   },
   {
    "duration": 10,
    "start_time": "2021-11-21T12:21:03.314Z"
   },
   {
    "duration": 18,
    "start_time": "2021-11-21T12:21:03.326Z"
   },
   {
    "duration": 3,
    "start_time": "2021-11-21T12:21:03.383Z"
   },
   {
    "duration": 31,
    "start_time": "2021-11-21T12:21:03.389Z"
   },
   {
    "duration": 66,
    "start_time": "2021-11-21T12:21:03.423Z"
   },
   {
    "duration": 26,
    "start_time": "2021-11-21T12:21:03.492Z"
   },
   {
    "duration": 18,
    "start_time": "2021-11-21T12:21:03.521Z"
   },
   {
    "duration": 44,
    "start_time": "2021-11-21T12:21:03.541Z"
   },
   {
    "duration": 21,
    "start_time": "2021-11-21T12:21:03.588Z"
   },
   {
    "duration": 12,
    "start_time": "2021-11-21T12:21:03.612Z"
   },
   {
    "duration": 55,
    "start_time": "2021-11-21T12:21:03.626Z"
   },
   {
    "duration": 13,
    "start_time": "2021-11-21T12:21:03.687Z"
   },
   {
    "duration": 6,
    "start_time": "2021-11-21T12:21:03.703Z"
   },
   {
    "duration": 12,
    "start_time": "2021-11-21T12:21:03.712Z"
   },
   {
    "duration": 6,
    "start_time": "2021-11-21T12:21:03.727Z"
   },
   {
    "duration": 65,
    "start_time": "2021-11-21T12:21:03.736Z"
   },
   {
    "duration": 10,
    "start_time": "2021-11-21T12:21:03.804Z"
   },
   {
    "duration": 7,
    "start_time": "2021-11-21T12:21:03.817Z"
   },
   {
    "duration": 23,
    "start_time": "2021-11-21T12:21:03.826Z"
   },
   {
    "duration": 23,
    "start_time": "2021-11-21T12:21:03.882Z"
   },
   {
    "duration": 28,
    "start_time": "2021-11-21T12:21:03.907Z"
   },
   {
    "duration": 63,
    "start_time": "2021-11-21T12:21:03.938Z"
   },
   {
    "duration": 7,
    "start_time": "2021-11-21T12:21:04.004Z"
   },
   {
    "duration": 31,
    "start_time": "2021-11-21T12:21:04.013Z"
   },
   {
    "duration": 34,
    "start_time": "2021-11-21T12:21:04.047Z"
   },
   {
    "duration": 26,
    "start_time": "2021-11-21T12:21:04.084Z"
   },
   {
    "duration": 19,
    "start_time": "2021-11-21T12:21:04.112Z"
   },
   {
    "duration": 17,
    "start_time": "2021-11-21T12:21:04.133Z"
   },
   {
    "duration": 32,
    "start_time": "2021-11-21T12:21:04.152Z"
   },
   {
    "duration": 17,
    "start_time": "2021-11-21T12:21:04.187Z"
   },
   {
    "duration": 20,
    "start_time": "2021-11-21T12:21:04.207Z"
   },
   {
    "duration": 52,
    "start_time": "2021-11-21T12:21:04.230Z"
   },
   {
    "duration": 9077,
    "start_time": "2021-11-21T12:21:04.285Z"
   },
   {
    "duration": 284,
    "start_time": "2021-11-21T12:21:13.080Z"
   },
   {
    "duration": 282,
    "start_time": "2021-11-21T12:21:13.084Z"
   },
   {
    "duration": 9054,
    "start_time": "2021-11-21T12:21:44.489Z"
   },
   {
    "duration": 7561,
    "start_time": "2021-11-21T12:33:13.398Z"
   },
   {
    "duration": 8516,
    "start_time": "2021-11-21T12:33:27.858Z"
   },
   {
    "duration": 8463,
    "start_time": "2021-11-21T12:33:46.733Z"
   },
   {
    "duration": 7860,
    "start_time": "2021-11-21T12:37:02.578Z"
   },
   {
    "duration": 132,
    "start_time": "2021-11-21T12:37:27.862Z"
   },
   {
    "duration": 47,
    "start_time": "2021-11-21T12:37:27.998Z"
   },
   {
    "duration": 5,
    "start_time": "2021-11-21T12:37:28.049Z"
   },
   {
    "duration": 14,
    "start_time": "2021-11-21T12:37:28.057Z"
   },
   {
    "duration": 30,
    "start_time": "2021-11-21T12:37:28.074Z"
   },
   {
    "duration": 13,
    "start_time": "2021-11-21T12:37:28.106Z"
   },
   {
    "duration": 32,
    "start_time": "2021-11-21T12:37:28.121Z"
   },
   {
    "duration": 38,
    "start_time": "2021-11-21T12:37:28.157Z"
   },
   {
    "duration": 23,
    "start_time": "2021-11-21T12:37:28.198Z"
   },
   {
    "duration": 23,
    "start_time": "2021-11-21T12:37:28.224Z"
   },
   {
    "duration": 22,
    "start_time": "2021-11-21T12:37:28.282Z"
   },
   {
    "duration": 10,
    "start_time": "2021-11-21T12:37:28.306Z"
   },
   {
    "duration": 14,
    "start_time": "2021-11-21T12:37:28.318Z"
   },
   {
    "duration": 7,
    "start_time": "2021-11-21T12:37:28.334Z"
   },
   {
    "duration": 65,
    "start_time": "2021-11-21T12:37:28.343Z"
   },
   {
    "duration": 39,
    "start_time": "2021-11-21T12:37:28.410Z"
   },
   {
    "duration": 55,
    "start_time": "2021-11-21T12:37:28.452Z"
   },
   {
    "duration": 21,
    "start_time": "2021-11-21T12:37:28.510Z"
   },
   {
    "duration": 12,
    "start_time": "2021-11-21T12:37:28.534Z"
   },
   {
    "duration": 53,
    "start_time": "2021-11-21T12:37:28.549Z"
   },
   {
    "duration": 8,
    "start_time": "2021-11-21T12:37:28.605Z"
   },
   {
    "duration": 12,
    "start_time": "2021-11-21T12:37:28.616Z"
   },
   {
    "duration": 14,
    "start_time": "2021-11-21T12:37:28.634Z"
   },
   {
    "duration": 6,
    "start_time": "2021-11-21T12:37:28.682Z"
   },
   {
    "duration": 18,
    "start_time": "2021-11-21T12:37:28.690Z"
   },
   {
    "duration": 5,
    "start_time": "2021-11-21T12:37:28.711Z"
   },
   {
    "duration": 38,
    "start_time": "2021-11-21T12:37:28.718Z"
   },
   {
    "duration": 9,
    "start_time": "2021-11-21T12:37:28.782Z"
   },
   {
    "duration": 11,
    "start_time": "2021-11-21T12:37:28.793Z"
   },
   {
    "duration": 18,
    "start_time": "2021-11-21T12:37:28.806Z"
   },
   {
    "duration": 58,
    "start_time": "2021-11-21T12:37:28.826Z"
   },
   {
    "duration": 23,
    "start_time": "2021-11-21T12:37:28.887Z"
   },
   {
    "duration": 30,
    "start_time": "2021-11-21T12:37:28.913Z"
   },
   {
    "duration": 38,
    "start_time": "2021-11-21T12:37:28.945Z"
   },
   {
    "duration": 41,
    "start_time": "2021-11-21T12:37:28.987Z"
   },
   {
    "duration": 9,
    "start_time": "2021-11-21T12:37:29.030Z"
   },
   {
    "duration": 52,
    "start_time": "2021-11-21T12:37:29.041Z"
   },
   {
    "duration": 12,
    "start_time": "2021-11-21T12:37:29.095Z"
   },
   {
    "duration": 13,
    "start_time": "2021-11-21T12:37:29.109Z"
   },
   {
    "duration": 6,
    "start_time": "2021-11-21T12:37:29.125Z"
   },
   {
    "duration": 54,
    "start_time": "2021-11-21T12:37:29.133Z"
   },
   {
    "duration": 24,
    "start_time": "2021-11-21T12:37:29.189Z"
   },
   {
    "duration": 8,
    "start_time": "2021-11-21T12:37:29.216Z"
   },
   {
    "duration": 6,
    "start_time": "2021-11-21T12:37:32.726Z"
   },
   {
    "duration": 42,
    "start_time": "2021-11-21T12:37:37.665Z"
   },
   {
    "duration": 580,
    "start_time": "2021-11-21T12:41:39.698Z"
   },
   {
    "duration": 93,
    "start_time": "2021-11-21T12:42:03.637Z"
   },
   {
    "duration": 38,
    "start_time": "2021-11-21T12:42:03.732Z"
   },
   {
    "duration": 8,
    "start_time": "2021-11-21T12:42:03.773Z"
   },
   {
    "duration": 5,
    "start_time": "2021-11-21T12:42:03.785Z"
   },
   {
    "duration": 28,
    "start_time": "2021-11-21T12:42:03.792Z"
   },
   {
    "duration": 14,
    "start_time": "2021-11-21T12:42:03.822Z"
   },
   {
    "duration": 75,
    "start_time": "2021-11-21T12:42:03.838Z"
   },
   {
    "duration": 17,
    "start_time": "2021-11-21T12:42:03.917Z"
   },
   {
    "duration": 53,
    "start_time": "2021-11-21T12:42:03.938Z"
   },
   {
    "duration": 23,
    "start_time": "2021-11-21T12:42:03.993Z"
   },
   {
    "duration": 23,
    "start_time": "2021-11-21T12:42:04.019Z"
   },
   {
    "duration": 41,
    "start_time": "2021-11-21T12:42:04.044Z"
   },
   {
    "duration": 20,
    "start_time": "2021-11-21T12:42:04.087Z"
   },
   {
    "duration": 4,
    "start_time": "2021-11-21T12:42:04.109Z"
   },
   {
    "duration": 36,
    "start_time": "2021-11-21T12:42:04.116Z"
   },
   {
    "duration": 64,
    "start_time": "2021-11-21T12:42:04.155Z"
   },
   {
    "duration": 23,
    "start_time": "2021-11-21T12:42:04.221Z"
   },
   {
    "duration": 47,
    "start_time": "2021-11-21T12:42:04.247Z"
   },
   {
    "duration": 18,
    "start_time": "2021-11-21T12:42:04.297Z"
   },
   {
    "duration": 25,
    "start_time": "2021-11-21T12:42:04.317Z"
   },
   {
    "duration": 23,
    "start_time": "2021-11-21T12:42:04.344Z"
   },
   {
    "duration": 24,
    "start_time": "2021-11-21T12:42:04.370Z"
   },
   {
    "duration": 27,
    "start_time": "2021-11-21T12:42:04.399Z"
   },
   {
    "duration": 7,
    "start_time": "2021-11-21T12:42:04.429Z"
   },
   {
    "duration": 21,
    "start_time": "2021-11-21T12:42:04.439Z"
   },
   {
    "duration": 12,
    "start_time": "2021-11-21T12:42:04.462Z"
   },
   {
    "duration": 46,
    "start_time": "2021-11-21T12:42:04.477Z"
   },
   {
    "duration": 9,
    "start_time": "2021-11-21T12:42:04.525Z"
   },
   {
    "duration": 13,
    "start_time": "2021-11-21T12:42:04.536Z"
   },
   {
    "duration": 37,
    "start_time": "2021-11-21T12:42:04.552Z"
   },
   {
    "duration": 29,
    "start_time": "2021-11-21T12:42:04.591Z"
   },
   {
    "duration": 23,
    "start_time": "2021-11-21T12:42:04.623Z"
   },
   {
    "duration": 55,
    "start_time": "2021-11-21T12:42:04.648Z"
   },
   {
    "duration": 7,
    "start_time": "2021-11-21T12:42:04.705Z"
   },
   {
    "duration": 39,
    "start_time": "2021-11-21T12:42:04.714Z"
   },
   {
    "duration": 29,
    "start_time": "2021-11-21T12:42:04.756Z"
   },
   {
    "duration": 38,
    "start_time": "2021-11-21T12:42:04.787Z"
   },
   {
    "duration": 22,
    "start_time": "2021-11-21T12:42:04.827Z"
   },
   {
    "duration": 16,
    "start_time": "2021-11-21T12:42:04.851Z"
   },
   {
    "duration": 7,
    "start_time": "2021-11-21T12:42:04.881Z"
   },
   {
    "duration": 23,
    "start_time": "2021-11-21T12:42:04.891Z"
   },
   {
    "duration": 29,
    "start_time": "2021-11-21T12:42:04.916Z"
   },
   {
    "duration": 13,
    "start_time": "2021-11-21T12:42:04.947Z"
   },
   {
    "duration": 734,
    "start_time": "2021-11-21T12:42:08.869Z"
   },
   {
    "duration": 584,
    "start_time": "2021-11-21T12:42:24.995Z"
   },
   {
    "duration": 789,
    "start_time": "2021-11-21T12:42:35.369Z"
   },
   {
    "duration": 6,
    "start_time": "2021-11-21T12:44:21.716Z"
   },
   {
    "duration": 1061,
    "start_time": "2021-11-21T12:44:51.693Z"
   },
   {
    "duration": 520,
    "start_time": "2021-11-21T12:48:17.211Z"
   },
   {
    "duration": 532,
    "start_time": "2021-11-21T12:58:33.511Z"
   },
   {
    "duration": 608,
    "start_time": "2021-11-21T13:00:00.813Z"
   },
   {
    "duration": 93,
    "start_time": "2021-11-21T13:00:15.941Z"
   },
   {
    "duration": 45,
    "start_time": "2021-11-21T13:00:16.037Z"
   },
   {
    "duration": 6,
    "start_time": "2021-11-21T13:00:16.085Z"
   },
   {
    "duration": 6,
    "start_time": "2021-11-21T13:00:16.094Z"
   },
   {
    "duration": 33,
    "start_time": "2021-11-21T13:00:16.103Z"
   },
   {
    "duration": 50,
    "start_time": "2021-11-21T13:00:16.138Z"
   },
   {
    "duration": 32,
    "start_time": "2021-11-21T13:00:16.191Z"
   },
   {
    "duration": 15,
    "start_time": "2021-11-21T13:00:16.227Z"
   },
   {
    "duration": 57,
    "start_time": "2021-11-21T13:00:16.245Z"
   },
   {
    "duration": 24,
    "start_time": "2021-11-21T13:00:16.304Z"
   },
   {
    "duration": 53,
    "start_time": "2021-11-21T13:00:16.330Z"
   },
   {
    "duration": 10,
    "start_time": "2021-11-21T13:00:16.386Z"
   },
   {
    "duration": 14,
    "start_time": "2021-11-21T13:00:16.400Z"
   },
   {
    "duration": 3,
    "start_time": "2021-11-21T13:00:16.417Z"
   },
   {
    "duration": 61,
    "start_time": "2021-11-21T13:00:16.422Z"
   },
   {
    "duration": 40,
    "start_time": "2021-11-21T13:00:16.486Z"
   },
   {
    "duration": 22,
    "start_time": "2021-11-21T13:00:16.529Z"
   },
   {
    "duration": 16,
    "start_time": "2021-11-21T13:00:16.581Z"
   },
   {
    "duration": 13,
    "start_time": "2021-11-21T13:00:16.599Z"
   },
   {
    "duration": 17,
    "start_time": "2021-11-21T13:00:16.614Z"
   },
   {
    "duration": 10,
    "start_time": "2021-11-21T13:00:16.633Z"
   },
   {
    "duration": 43,
    "start_time": "2021-11-21T13:00:16.645Z"
   },
   {
    "duration": 13,
    "start_time": "2021-11-21T13:00:16.693Z"
   },
   {
    "duration": 11,
    "start_time": "2021-11-21T13:00:16.708Z"
   },
   {
    "duration": 11,
    "start_time": "2021-11-21T13:00:16.721Z"
   },
   {
    "duration": 8,
    "start_time": "2021-11-21T13:00:16.734Z"
   },
   {
    "duration": 64,
    "start_time": "2021-11-21T13:00:16.744Z"
   },
   {
    "duration": 9,
    "start_time": "2021-11-21T13:00:16.811Z"
   },
   {
    "duration": 9,
    "start_time": "2021-11-21T13:00:16.823Z"
   },
   {
    "duration": 54,
    "start_time": "2021-11-21T13:00:16.835Z"
   },
   {
    "duration": 22,
    "start_time": "2021-11-21T13:00:16.892Z"
   },
   {
    "duration": 26,
    "start_time": "2021-11-21T13:00:16.916Z"
   },
   {
    "duration": 60,
    "start_time": "2021-11-21T13:00:16.945Z"
   },
   {
    "duration": 7,
    "start_time": "2021-11-21T13:00:17.007Z"
   },
   {
    "duration": 30,
    "start_time": "2021-11-21T13:00:17.016Z"
   },
   {
    "duration": 36,
    "start_time": "2021-11-21T13:00:17.048Z"
   },
   {
    "duration": 30,
    "start_time": "2021-11-21T13:00:17.086Z"
   },
   {
    "duration": 11,
    "start_time": "2021-11-21T13:00:17.119Z"
   },
   {
    "duration": 53,
    "start_time": "2021-11-21T13:00:17.132Z"
   },
   {
    "duration": 9,
    "start_time": "2021-11-21T13:00:17.188Z"
   },
   {
    "duration": 19,
    "start_time": "2021-11-21T13:00:17.199Z"
   },
   {
    "duration": 20,
    "start_time": "2021-11-21T13:00:17.221Z"
   },
   {
    "duration": 5,
    "start_time": "2021-11-21T13:00:17.283Z"
   },
   {
    "duration": 9,
    "start_time": "2021-11-21T13:00:17.291Z"
   },
   {
    "duration": 8,
    "start_time": "2021-11-21T13:00:21.653Z"
   },
   {
    "duration": 621,
    "start_time": "2021-11-21T13:00:26.343Z"
   },
   {
    "duration": 15,
    "start_time": "2021-11-21T13:01:39.143Z"
   },
   {
    "duration": 16,
    "start_time": "2021-11-21T13:02:01.809Z"
   },
   {
    "duration": 42,
    "start_time": "2021-11-21T13:02:06.678Z"
   },
   {
    "duration": 35,
    "start_time": "2021-11-21T14:05:05.687Z"
   },
   {
    "duration": 6,
    "start_time": "2021-11-21T14:05:10.629Z"
   },
   {
    "duration": 33,
    "start_time": "2021-11-21T14:08:03.460Z"
   },
   {
    "duration": 10,
    "start_time": "2021-11-21T14:08:31.939Z"
   },
   {
    "duration": 27,
    "start_time": "2021-11-21T14:08:33.944Z"
   },
   {
    "duration": 10,
    "start_time": "2021-11-21T14:08:44.554Z"
   },
   {
    "duration": 13,
    "start_time": "2021-11-21T14:08:52.420Z"
   },
   {
    "duration": 33,
    "start_time": "2021-11-21T14:08:54.271Z"
   },
   {
    "duration": 13,
    "start_time": "2021-11-21T14:09:01.573Z"
   },
   {
    "duration": 16,
    "start_time": "2021-11-21T14:09:25.179Z"
   },
   {
    "duration": 14,
    "start_time": "2021-11-21T14:09:26.319Z"
   },
   {
    "duration": 35,
    "start_time": "2021-11-21T14:09:27.183Z"
   },
   {
    "duration": 8190,
    "start_time": "2021-11-21T14:13:29.866Z"
   },
   {
    "duration": 14,
    "start_time": "2021-11-21T14:13:44.251Z"
   },
   {
    "duration": 27,
    "start_time": "2021-11-21T14:13:47.699Z"
   },
   {
    "duration": 103,
    "start_time": "2021-11-21T14:14:29.070Z"
   },
   {
    "duration": 611,
    "start_time": "2021-11-21T14:14:34.016Z"
   },
   {
    "duration": 523,
    "start_time": "2021-11-21T14:14:58.461Z"
   },
   {
    "duration": 305,
    "start_time": "2021-11-21T14:15:13.617Z"
   },
   {
    "duration": 365,
    "start_time": "2021-11-21T14:15:24.846Z"
   },
   {
    "duration": 316,
    "start_time": "2021-11-21T14:19:18.480Z"
   },
   {
    "duration": 315,
    "start_time": "2021-11-21T14:19:28.548Z"
   },
   {
    "duration": 11,
    "start_time": "2021-11-21T14:19:34.902Z"
   },
   {
    "duration": 25,
    "start_time": "2021-11-21T14:19:38.044Z"
   },
   {
    "duration": 7771,
    "start_time": "2021-11-21T14:21:24.017Z"
   },
   {
    "duration": 7626,
    "start_time": "2021-11-21T14:21:41.029Z"
   },
   {
    "duration": 9,
    "start_time": "2021-11-21T14:22:39.580Z"
   },
   {
    "duration": 31,
    "start_time": "2021-11-21T14:22:53.502Z"
   },
   {
    "duration": 31,
    "start_time": "2021-11-21T14:23:27.672Z"
   },
   {
    "duration": 41,
    "start_time": "2021-11-21T14:23:45.755Z"
   },
   {
    "duration": 18,
    "start_time": "2021-11-21T14:24:30.814Z"
   },
   {
    "duration": 24,
    "start_time": "2021-11-21T14:24:35.118Z"
   },
   {
    "duration": 1553,
    "start_time": "2021-11-21T14:24:44.022Z"
   },
   {
    "duration": 62,
    "start_time": "2021-11-21T14:24:45.582Z"
   },
   {
    "duration": 6,
    "start_time": "2021-11-21T14:24:45.650Z"
   },
   {
    "duration": 6,
    "start_time": "2021-11-21T14:24:45.658Z"
   },
   {
    "duration": 30,
    "start_time": "2021-11-21T14:24:45.666Z"
   },
   {
    "duration": 14,
    "start_time": "2021-11-21T14:24:45.699Z"
   },
   {
    "duration": 41,
    "start_time": "2021-11-21T14:24:45.718Z"
   },
   {
    "duration": 29,
    "start_time": "2021-11-21T14:24:45.782Z"
   },
   {
    "duration": 25,
    "start_time": "2021-11-21T14:24:45.814Z"
   },
   {
    "duration": 60,
    "start_time": "2021-11-21T14:24:45.841Z"
   },
   {
    "duration": 26,
    "start_time": "2021-11-21T14:24:45.904Z"
   },
   {
    "duration": 10,
    "start_time": "2021-11-21T14:24:45.933Z"
   },
   {
    "duration": 44,
    "start_time": "2021-11-21T14:24:45.945Z"
   },
   {
    "duration": 3,
    "start_time": "2021-11-21T14:24:45.991Z"
   },
   {
    "duration": 36,
    "start_time": "2021-11-21T14:24:45.996Z"
   },
   {
    "duration": 58,
    "start_time": "2021-11-21T14:24:46.035Z"
   },
   {
    "duration": 22,
    "start_time": "2021-11-21T14:24:46.096Z"
   },
   {
    "duration": 16,
    "start_time": "2021-11-21T14:24:46.120Z"
   },
   {
    "duration": 8,
    "start_time": "2021-11-21T14:24:46.139Z"
   },
   {
    "duration": 49,
    "start_time": "2021-11-21T14:24:46.149Z"
   },
   {
    "duration": 10,
    "start_time": "2021-11-21T14:24:46.200Z"
   },
   {
    "duration": 9,
    "start_time": "2021-11-21T14:24:46.218Z"
   },
   {
    "duration": 64,
    "start_time": "2021-11-21T14:24:46.231Z"
   },
   {
    "duration": 7,
    "start_time": "2021-11-21T14:24:46.298Z"
   },
   {
    "duration": 24,
    "start_time": "2021-11-21T14:24:46.308Z"
   },
   {
    "duration": 66,
    "start_time": "2021-11-21T14:24:46.335Z"
   },
   {
    "duration": 6,
    "start_time": "2021-11-21T14:24:46.404Z"
   },
   {
    "duration": 46,
    "start_time": "2021-11-21T14:24:46.413Z"
   },
   {
    "duration": 11,
    "start_time": "2021-11-21T14:24:46.482Z"
   },
   {
    "duration": 10,
    "start_time": "2021-11-21T14:24:46.495Z"
   },
   {
    "duration": 21,
    "start_time": "2021-11-21T14:24:46.508Z"
   },
   {
    "duration": 54,
    "start_time": "2021-11-21T14:24:46.532Z"
   },
   {
    "duration": 24,
    "start_time": "2021-11-21T14:24:46.589Z"
   },
   {
    "duration": 29,
    "start_time": "2021-11-21T14:24:46.616Z"
   },
   {
    "duration": 40,
    "start_time": "2021-11-21T14:24:46.647Z"
   },
   {
    "duration": 34,
    "start_time": "2021-11-21T14:24:46.689Z"
   },
   {
    "duration": 8,
    "start_time": "2021-11-21T14:24:46.725Z"
   },
   {
    "duration": 60,
    "start_time": "2021-11-21T14:24:46.735Z"
   },
   {
    "duration": 7,
    "start_time": "2021-11-21T14:24:46.798Z"
   },
   {
    "duration": 17,
    "start_time": "2021-11-21T14:24:46.807Z"
   },
   {
    "duration": 9,
    "start_time": "2021-11-21T14:24:46.827Z"
   },
   {
    "duration": 57,
    "start_time": "2021-11-21T14:24:46.838Z"
   },
   {
    "duration": 6,
    "start_time": "2021-11-21T14:24:46.898Z"
   },
   {
    "duration": 10,
    "start_time": "2021-11-21T14:24:46.906Z"
   },
   {
    "duration": 10,
    "start_time": "2021-11-21T14:24:46.919Z"
   },
   {
    "duration": 56,
    "start_time": "2021-11-21T14:24:46.932Z"
   },
   {
    "duration": 35,
    "start_time": "2021-11-21T14:24:46.990Z"
   },
   {
    "duration": 6,
    "start_time": "2021-11-21T14:24:47.027Z"
   },
   {
    "duration": 468,
    "start_time": "2021-11-21T14:28:23.908Z"
   },
   {
    "duration": 19,
    "start_time": "2021-11-21T14:28:36.046Z"
   },
   {
    "duration": 11,
    "start_time": "2021-11-21T14:29:56.665Z"
   },
   {
    "duration": 8,
    "start_time": "2021-11-21T14:31:19.916Z"
   },
   {
    "duration": 12,
    "start_time": "2021-11-21T14:33:36.356Z"
   },
   {
    "duration": 11,
    "start_time": "2021-11-21T14:34:12.036Z"
   },
   {
    "duration": 11,
    "start_time": "2021-11-21T14:34:15.470Z"
   },
   {
    "duration": 12,
    "start_time": "2021-11-21T14:35:15.327Z"
   },
   {
    "duration": 9,
    "start_time": "2021-11-21T14:35:38.796Z"
   },
   {
    "duration": 22,
    "start_time": "2021-11-21T14:38:45.014Z"
   },
   {
    "duration": 20,
    "start_time": "2021-11-21T14:39:01.770Z"
   },
   {
    "duration": 5,
    "start_time": "2021-11-21T19:38:15.828Z"
   },
   {
    "duration": 20,
    "start_time": "2021-11-21T19:38:22.423Z"
   },
   {
    "duration": 9155,
    "start_time": "2021-11-21T19:38:32.759Z"
   },
   {
    "duration": 5,
    "start_time": "2021-11-21T19:38:51.035Z"
   },
   {
    "duration": 7,
    "start_time": "2021-11-21T19:39:20.583Z"
   },
   {
    "duration": 7,
    "start_time": "2021-11-21T19:39:23.215Z"
   },
   {
    "duration": 7,
    "start_time": "2021-11-21T19:39:42.397Z"
   },
   {
    "duration": 19,
    "start_time": "2021-11-21T19:39:47.257Z"
   },
   {
    "duration": 1638,
    "start_time": "2021-11-21T19:39:58.273Z"
   },
   {
    "duration": 38,
    "start_time": "2021-11-21T19:39:59.913Z"
   },
   {
    "duration": 7,
    "start_time": "2021-11-21T19:39:59.955Z"
   },
   {
    "duration": 10,
    "start_time": "2021-11-21T19:39:59.965Z"
   },
   {
    "duration": 38,
    "start_time": "2021-11-21T19:39:59.977Z"
   },
   {
    "duration": 13,
    "start_time": "2021-11-21T19:40:00.017Z"
   },
   {
    "duration": 66,
    "start_time": "2021-11-21T19:40:00.032Z"
   },
   {
    "duration": 25,
    "start_time": "2021-11-21T19:40:00.104Z"
   },
   {
    "duration": 56,
    "start_time": "2021-11-21T19:40:00.132Z"
   },
   {
    "duration": 36,
    "start_time": "2021-11-21T19:40:00.191Z"
   },
   {
    "duration": 23,
    "start_time": "2021-11-21T19:40:00.230Z"
   },
   {
    "duration": 38,
    "start_time": "2021-11-21T19:40:00.255Z"
   },
   {
    "duration": 31,
    "start_time": "2021-11-21T19:40:00.298Z"
   },
   {
    "duration": 26,
    "start_time": "2021-11-21T19:40:00.332Z"
   },
   {
    "duration": 70,
    "start_time": "2021-11-21T19:40:00.360Z"
   },
   {
    "duration": 56,
    "start_time": "2021-11-21T19:40:00.433Z"
   },
   {
    "duration": 32,
    "start_time": "2021-11-21T19:40:00.492Z"
   },
   {
    "duration": 21,
    "start_time": "2021-11-21T19:40:00.527Z"
   },
   {
    "duration": 45,
    "start_time": "2021-11-21T19:40:00.551Z"
   },
   {
    "duration": 44,
    "start_time": "2021-11-21T19:40:00.600Z"
   },
   {
    "duration": 18,
    "start_time": "2021-11-21T19:40:00.647Z"
   },
   {
    "duration": 34,
    "start_time": "2021-11-21T19:40:00.668Z"
   },
   {
    "duration": 32,
    "start_time": "2021-11-21T19:40:00.709Z"
   },
   {
    "duration": 24,
    "start_time": "2021-11-21T19:40:00.746Z"
   },
   {
    "duration": 53,
    "start_time": "2021-11-21T19:40:00.773Z"
   },
   {
    "duration": 69,
    "start_time": "2021-11-21T19:40:00.829Z"
   },
   {
    "duration": 20,
    "start_time": "2021-11-21T19:40:00.905Z"
   },
   {
    "duration": 80,
    "start_time": "2021-11-21T19:40:00.928Z"
   },
   {
    "duration": 8,
    "start_time": "2021-11-21T19:40:01.011Z"
   },
   {
    "duration": 43,
    "start_time": "2021-11-21T19:40:01.022Z"
   },
   {
    "duration": 43,
    "start_time": "2021-11-21T19:40:01.067Z"
   },
   {
    "duration": 23,
    "start_time": "2021-11-21T19:40:01.113Z"
   },
   {
    "duration": 27,
    "start_time": "2021-11-21T19:40:01.139Z"
   },
   {
    "duration": 41,
    "start_time": "2021-11-21T19:40:01.183Z"
   },
   {
    "duration": 15,
    "start_time": "2021-11-21T19:40:01.227Z"
   },
   {
    "duration": 76,
    "start_time": "2021-11-21T19:40:01.245Z"
   },
   {
    "duration": 10,
    "start_time": "2021-11-21T19:40:01.324Z"
   },
   {
    "duration": 54,
    "start_time": "2021-11-21T19:40:01.337Z"
   },
   {
    "duration": 45,
    "start_time": "2021-11-21T19:40:01.394Z"
   },
   {
    "duration": 18,
    "start_time": "2021-11-21T19:40:01.441Z"
   },
   {
    "duration": 32,
    "start_time": "2021-11-21T19:40:01.462Z"
   },
   {
    "duration": 20,
    "start_time": "2021-11-21T19:40:01.497Z"
   },
   {
    "duration": 23,
    "start_time": "2021-11-21T19:40:01.519Z"
   },
   {
    "duration": 10,
    "start_time": "2021-11-21T19:40:01.544Z"
   },
   {
    "duration": 26,
    "start_time": "2021-11-21T19:40:01.556Z"
   },
   {
    "duration": 466,
    "start_time": "2021-11-21T19:40:01.584Z"
   },
   {
    "duration": -189,
    "start_time": "2021-11-21T19:40:02.243Z"
   },
   {
    "duration": -191,
    "start_time": "2021-11-21T19:40:02.247Z"
   },
   {
    "duration": -195,
    "start_time": "2021-11-21T19:40:02.253Z"
   },
   {
    "duration": -198,
    "start_time": "2021-11-21T19:40:02.258Z"
   },
   {
    "duration": -200,
    "start_time": "2021-11-21T19:40:02.262Z"
   },
   {
    "duration": -202,
    "start_time": "2021-11-21T19:40:02.267Z"
   },
   {
    "duration": 8,
    "start_time": "2021-11-21T19:40:10.025Z"
   },
   {
    "duration": 11,
    "start_time": "2021-11-21T19:40:38.383Z"
   },
   {
    "duration": 34,
    "start_time": "2021-11-21T19:40:51.128Z"
   },
   {
    "duration": 1773,
    "start_time": "2021-11-21T19:41:27.116Z"
   },
   {
    "duration": 39,
    "start_time": "2021-11-21T19:41:28.892Z"
   },
   {
    "duration": 5,
    "start_time": "2021-11-21T19:41:28.934Z"
   },
   {
    "duration": 6,
    "start_time": "2021-11-21T19:41:28.942Z"
   },
   {
    "duration": 54,
    "start_time": "2021-11-21T19:41:28.951Z"
   },
   {
    "duration": 15,
    "start_time": "2021-11-21T19:41:29.008Z"
   },
   {
    "duration": 59,
    "start_time": "2021-11-21T19:41:29.026Z"
   },
   {
    "duration": 20,
    "start_time": "2021-11-21T19:41:29.090Z"
   },
   {
    "duration": 34,
    "start_time": "2021-11-21T19:41:29.114Z"
   },
   {
    "duration": 64,
    "start_time": "2021-11-21T19:41:29.151Z"
   },
   {
    "duration": 36,
    "start_time": "2021-11-21T19:41:29.218Z"
   },
   {
    "duration": 36,
    "start_time": "2021-11-21T19:41:29.257Z"
   },
   {
    "duration": 22,
    "start_time": "2021-11-21T19:41:29.295Z"
   },
   {
    "duration": 4,
    "start_time": "2021-11-21T19:41:29.320Z"
   },
   {
    "duration": 75,
    "start_time": "2021-11-21T19:41:29.326Z"
   },
   {
    "duration": 38,
    "start_time": "2021-11-21T19:41:29.404Z"
   },
   {
    "duration": 22,
    "start_time": "2021-11-21T19:41:29.444Z"
   },
   {
    "duration": 24,
    "start_time": "2021-11-21T19:41:29.483Z"
   },
   {
    "duration": 9,
    "start_time": "2021-11-21T19:41:29.513Z"
   },
   {
    "duration": 26,
    "start_time": "2021-11-21T19:41:29.525Z"
   },
   {
    "duration": 13,
    "start_time": "2021-11-21T19:41:29.585Z"
   },
   {
    "duration": 14,
    "start_time": "2021-11-21T19:41:29.601Z"
   },
   {
    "duration": 18,
    "start_time": "2021-11-21T19:41:29.624Z"
   },
   {
    "duration": 37,
    "start_time": "2021-11-21T19:41:29.647Z"
   },
   {
    "duration": 23,
    "start_time": "2021-11-21T19:41:29.687Z"
   },
   {
    "duration": 24,
    "start_time": "2021-11-21T19:41:29.712Z"
   },
   {
    "duration": 11,
    "start_time": "2021-11-21T19:41:29.738Z"
   },
   {
    "duration": 65,
    "start_time": "2021-11-21T19:41:29.751Z"
   },
   {
    "duration": 9,
    "start_time": "2021-11-21T19:41:29.818Z"
   },
   {
    "duration": 8,
    "start_time": "2021-11-21T19:41:29.830Z"
   },
   {
    "duration": 58,
    "start_time": "2021-11-21T19:41:29.840Z"
   },
   {
    "duration": 24,
    "start_time": "2021-11-21T19:41:29.901Z"
   },
   {
    "duration": 58,
    "start_time": "2021-11-21T19:41:29.928Z"
   },
   {
    "duration": 42,
    "start_time": "2021-11-21T19:41:29.989Z"
   },
   {
    "duration": 9,
    "start_time": "2021-11-21T19:41:30.034Z"
   },
   {
    "duration": 70,
    "start_time": "2021-11-21T19:41:30.046Z"
   },
   {
    "duration": 7,
    "start_time": "2021-11-21T19:41:30.119Z"
   },
   {
    "duration": 48,
    "start_time": "2021-11-21T19:41:30.129Z"
   },
   {
    "duration": 20,
    "start_time": "2021-11-21T19:41:30.180Z"
   },
   {
    "duration": 14,
    "start_time": "2021-11-21T19:41:30.203Z"
   },
   {
    "duration": 22,
    "start_time": "2021-11-21T19:41:30.220Z"
   },
   {
    "duration": 31,
    "start_time": "2021-11-21T19:41:30.245Z"
   },
   {
    "duration": 36,
    "start_time": "2021-11-21T19:41:30.279Z"
   },
   {
    "duration": 20,
    "start_time": "2021-11-21T19:41:30.318Z"
   },
   {
    "duration": 38,
    "start_time": "2021-11-21T19:41:30.340Z"
   },
   {
    "duration": 13,
    "start_time": "2021-11-21T19:41:30.380Z"
   },
   {
    "duration": 42,
    "start_time": "2021-11-21T19:41:30.395Z"
   },
   {
    "duration": 55,
    "start_time": "2021-11-21T19:41:30.440Z"
   },
   {
    "duration": 8,
    "start_time": "2021-11-21T19:41:30.501Z"
   },
   {
    "duration": 28,
    "start_time": "2021-11-21T19:41:30.511Z"
   },
   {
    "duration": 29,
    "start_time": "2021-11-21T19:41:30.542Z"
   },
   {
    "duration": 33,
    "start_time": "2021-11-21T19:41:30.574Z"
   },
   {
    "duration": 7,
    "start_time": "2021-11-21T19:41:43.918Z"
   },
   {
    "duration": 7,
    "start_time": "2021-11-21T19:41:48.973Z"
   },
   {
    "duration": 23,
    "start_time": "2021-11-21T19:42:47.225Z"
   },
   {
    "duration": 18,
    "start_time": "2021-11-21T19:43:55.915Z"
   },
   {
    "duration": 22,
    "start_time": "2021-11-21T19:46:50.869Z"
   },
   {
    "duration": 24,
    "start_time": "2021-11-21T19:47:01.492Z"
   },
   {
    "duration": 5,
    "start_time": "2021-11-21T19:48:04.839Z"
   },
   {
    "duration": 50,
    "start_time": "2021-11-21T19:48:19.454Z"
   },
   {
    "duration": 15,
    "start_time": "2021-11-21T19:49:49.920Z"
   },
   {
    "duration": 160,
    "start_time": "2021-11-21T19:50:02.471Z"
   },
   {
    "duration": 38,
    "start_time": "2021-11-21T19:50:02.634Z"
   },
   {
    "duration": 22,
    "start_time": "2021-11-21T19:50:02.675Z"
   },
   {
    "duration": 6,
    "start_time": "2021-11-21T19:50:02.701Z"
   },
   {
    "duration": 35,
    "start_time": "2021-11-21T19:50:02.710Z"
   },
   {
    "duration": 36,
    "start_time": "2021-11-21T19:50:02.748Z"
   },
   {
    "duration": 40,
    "start_time": "2021-11-21T19:50:02.786Z"
   },
   {
    "duration": 17,
    "start_time": "2021-11-21T19:50:02.830Z"
   },
   {
    "duration": 53,
    "start_time": "2021-11-21T19:50:02.850Z"
   },
   {
    "duration": 32,
    "start_time": "2021-11-21T19:50:02.906Z"
   },
   {
    "duration": 52,
    "start_time": "2021-11-21T19:50:02.941Z"
   },
   {
    "duration": 15,
    "start_time": "2021-11-21T19:50:02.995Z"
   },
   {
    "duration": 15,
    "start_time": "2021-11-21T19:50:03.013Z"
   },
   {
    "duration": 12,
    "start_time": "2021-11-21T19:50:03.031Z"
   },
   {
    "duration": 51,
    "start_time": "2021-11-21T19:50:03.045Z"
   },
   {
    "duration": 38,
    "start_time": "2021-11-21T19:50:03.098Z"
   },
   {
    "duration": 48,
    "start_time": "2021-11-21T19:50:03.139Z"
   },
   {
    "duration": 18,
    "start_time": "2021-11-21T19:50:03.191Z"
   },
   {
    "duration": 10,
    "start_time": "2021-11-21T19:50:03.212Z"
   },
   {
    "duration": 21,
    "start_time": "2021-11-21T19:50:03.225Z"
   },
   {
    "duration": 14,
    "start_time": "2021-11-21T19:50:03.282Z"
   },
   {
    "duration": 17,
    "start_time": "2021-11-21T19:50:03.299Z"
   },
   {
    "duration": 14,
    "start_time": "2021-11-21T19:50:03.322Z"
   },
   {
    "duration": 44,
    "start_time": "2021-11-21T19:50:03.340Z"
   },
   {
    "duration": 21,
    "start_time": "2021-11-21T19:50:03.391Z"
   },
   {
    "duration": 33,
    "start_time": "2021-11-21T19:50:03.415Z"
   },
   {
    "duration": 11,
    "start_time": "2021-11-21T19:50:03.451Z"
   },
   {
    "duration": 51,
    "start_time": "2021-11-21T19:50:03.464Z"
   },
   {
    "duration": 12,
    "start_time": "2021-11-21T19:50:03.518Z"
   },
   {
    "duration": 16,
    "start_time": "2021-11-21T19:50:03.532Z"
   },
   {
    "duration": 49,
    "start_time": "2021-11-21T19:50:03.551Z"
   },
   {
    "duration": 24,
    "start_time": "2021-11-21T19:50:03.603Z"
   },
   {
    "duration": 63,
    "start_time": "2021-11-21T19:50:03.630Z"
   },
   {
    "duration": 43,
    "start_time": "2021-11-21T19:50:03.696Z"
   },
   {
    "duration": 9,
    "start_time": "2021-11-21T19:50:03.742Z"
   },
   {
    "duration": 58,
    "start_time": "2021-11-21T19:50:03.754Z"
   },
   {
    "duration": 8,
    "start_time": "2021-11-21T19:50:03.814Z"
   },
   {
    "duration": 26,
    "start_time": "2021-11-21T19:50:03.825Z"
   },
   {
    "duration": 39,
    "start_time": "2021-11-21T19:50:03.854Z"
   },
   {
    "duration": 14,
    "start_time": "2021-11-21T19:50:03.897Z"
   },
   {
    "duration": 10,
    "start_time": "2021-11-21T19:50:03.913Z"
   },
   {
    "duration": 11,
    "start_time": "2021-11-21T19:50:03.926Z"
   },
   {
    "duration": 55,
    "start_time": "2021-11-21T19:50:03.939Z"
   },
   {
    "duration": 10,
    "start_time": "2021-11-21T19:50:04.001Z"
   },
   {
    "duration": 21,
    "start_time": "2021-11-21T19:50:04.014Z"
   },
   {
    "duration": 9,
    "start_time": "2021-11-21T19:50:04.037Z"
   },
   {
    "duration": 48,
    "start_time": "2021-11-21T19:50:04.049Z"
   },
   {
    "duration": 5,
    "start_time": "2021-11-21T19:50:04.101Z"
   },
   {
    "duration": 18,
    "start_time": "2021-11-21T19:50:04.109Z"
   },
   {
    "duration": 66,
    "start_time": "2021-11-21T19:50:04.129Z"
   },
   {
    "duration": 6,
    "start_time": "2021-11-21T19:50:04.199Z"
   },
   {
    "duration": 9,
    "start_time": "2021-11-21T19:50:04.207Z"
   },
   {
    "duration": 13,
    "start_time": "2021-11-21T19:50:04.218Z"
   },
   {
    "duration": 55,
    "start_time": "2021-11-21T19:50:04.233Z"
   },
   {
    "duration": 8,
    "start_time": "2021-11-21T19:51:52.433Z"
   },
   {
    "duration": 805,
    "start_time": "2021-11-21T19:52:34.931Z"
   },
   {
    "duration": 29,
    "start_time": "2021-11-21T19:52:46.227Z"
   },
   {
    "duration": 149,
    "start_time": "2021-11-21T19:56:03.274Z"
   },
   {
    "duration": 19,
    "start_time": "2021-11-21T19:57:06.247Z"
   },
   {
    "duration": 22,
    "start_time": "2021-11-21T19:57:10.676Z"
   },
   {
    "duration": 265,
    "start_time": "2021-11-21T19:57:34.252Z"
   },
   {
    "duration": 275,
    "start_time": "2021-11-21T19:58:08.314Z"
   },
   {
    "duration": 459,
    "start_time": "2021-11-21T20:00:55.657Z"
   },
   {
    "duration": 595,
    "start_time": "2021-11-21T20:01:04.832Z"
   },
   {
    "duration": 540,
    "start_time": "2021-11-21T20:01:14.751Z"
   },
   {
    "duration": 445,
    "start_time": "2021-11-21T20:01:35.277Z"
   },
   {
    "duration": 22,
    "start_time": "2021-11-21T20:01:40.051Z"
   },
   {
    "duration": 20,
    "start_time": "2021-11-21T20:04:02.010Z"
   },
   {
    "duration": 315,
    "start_time": "2021-11-21T20:04:04.014Z"
   },
   {
    "duration": 351,
    "start_time": "2021-11-21T20:04:38.197Z"
   },
   {
    "duration": 102,
    "start_time": "2021-11-21T20:29:45.255Z"
   },
   {
    "duration": -267,
    "start_time": "2021-11-21T20:43:37.515Z"
   },
   {
    "duration": 26,
    "start_time": "2021-11-21T20:43:42.332Z"
   },
   {
    "duration": 25,
    "start_time": "2021-11-21T20:44:13.409Z"
   },
   {
    "duration": 254,
    "start_time": "2021-11-22T19:31:37.296Z"
   },
   {
    "duration": 800,
    "start_time": "2021-11-22T19:32:00.220Z"
   },
   {
    "duration": 57,
    "start_time": "2021-11-22T19:32:01.022Z"
   },
   {
    "duration": 10,
    "start_time": "2021-11-22T19:32:01.081Z"
   },
   {
    "duration": 21,
    "start_time": "2021-11-22T19:32:01.093Z"
   },
   {
    "duration": 26,
    "start_time": "2021-11-22T19:32:01.116Z"
   },
   {
    "duration": 24,
    "start_time": "2021-11-22T19:32:01.144Z"
   },
   {
    "duration": 28,
    "start_time": "2021-11-22T19:32:01.170Z"
   },
   {
    "duration": 12,
    "start_time": "2021-11-22T19:32:01.200Z"
   },
   {
    "duration": 15,
    "start_time": "2021-11-22T19:32:01.214Z"
   },
   {
    "duration": 17,
    "start_time": "2021-11-22T19:32:01.231Z"
   },
   {
    "duration": 10,
    "start_time": "2021-11-22T19:32:01.249Z"
   },
   {
    "duration": 36,
    "start_time": "2021-11-22T19:32:01.261Z"
   },
   {
    "duration": 25,
    "start_time": "2021-11-22T19:32:03.325Z"
   },
   {
    "duration": 55,
    "start_time": "2021-11-22T19:32:55.323Z"
   },
   {
    "duration": 23,
    "start_time": "2021-11-22T19:33:05.601Z"
   },
   {
    "duration": 67,
    "start_time": "2021-11-22T19:33:09.851Z"
   },
   {
    "duration": 47,
    "start_time": "2021-11-22T19:33:09.920Z"
   },
   {
    "duration": 4,
    "start_time": "2021-11-22T19:33:09.969Z"
   },
   {
    "duration": 5,
    "start_time": "2021-11-22T19:33:09.974Z"
   },
   {
    "duration": 17,
    "start_time": "2021-11-22T19:33:09.981Z"
   },
   {
    "duration": 9,
    "start_time": "2021-11-22T19:33:09.999Z"
   },
   {
    "duration": 21,
    "start_time": "2021-11-22T19:33:10.009Z"
   },
   {
    "duration": 12,
    "start_time": "2021-11-22T19:33:10.032Z"
   },
   {
    "duration": 65,
    "start_time": "2021-11-22T19:33:10.046Z"
   },
   {
    "duration": 67,
    "start_time": "2021-11-22T19:33:10.124Z"
   },
   {
    "duration": 16,
    "start_time": "2021-11-22T19:33:10.208Z"
   },
   {
    "duration": 31,
    "start_time": "2021-11-22T19:33:10.236Z"
   },
   {
    "duration": 26,
    "start_time": "2021-11-22T19:33:12.988Z"
   },
   {
    "duration": 18,
    "start_time": "2021-11-22T20:00:13.497Z"
   },
   {
    "duration": 26,
    "start_time": "2021-11-22T20:00:18.856Z"
   },
   {
    "duration": 8,
    "start_time": "2021-11-22T20:14:44.675Z"
   },
   {
    "duration": 14,
    "start_time": "2021-11-22T20:14:49.084Z"
   },
   {
    "duration": 11,
    "start_time": "2021-11-22T20:15:02.524Z"
   },
   {
    "duration": 60,
    "start_time": "2021-11-22T20:23:35.065Z"
   },
   {
    "duration": 28,
    "start_time": "2021-11-22T20:23:42.631Z"
   },
   {
    "duration": 10,
    "start_time": "2021-11-22T20:25:09.668Z"
   },
   {
    "duration": 22,
    "start_time": "2021-11-22T20:25:47.087Z"
   },
   {
    "duration": 10,
    "start_time": "2021-11-22T20:26:05.999Z"
   },
   {
    "duration": 198,
    "start_time": "2021-11-22T20:26:39.767Z"
   },
   {
    "duration": 180,
    "start_time": "2021-11-22T20:27:05.567Z"
   },
   {
    "duration": 12,
    "start_time": "2021-11-22T20:27:27.421Z"
   },
   {
    "duration": 9,
    "start_time": "2021-11-22T20:37:00.000Z"
   },
   {
    "duration": 10,
    "start_time": "2021-11-22T20:37:29.466Z"
   },
   {
    "duration": 10,
    "start_time": "2021-11-22T20:39:46.991Z"
   },
   {
    "duration": 68,
    "start_time": "2021-11-22T20:40:19.412Z"
   },
   {
    "duration": 109,
    "start_time": "2021-11-22T20:40:19.482Z"
   },
   {
    "duration": 4,
    "start_time": "2021-11-22T20:40:19.592Z"
   },
   {
    "duration": 5,
    "start_time": "2021-11-22T20:40:19.597Z"
   },
   {
    "duration": 18,
    "start_time": "2021-11-22T20:40:19.604Z"
   },
   {
    "duration": 11,
    "start_time": "2021-11-22T20:40:19.623Z"
   },
   {
    "duration": 22,
    "start_time": "2021-11-22T20:40:19.635Z"
   },
   {
    "duration": 42,
    "start_time": "2021-11-22T20:40:19.659Z"
   },
   {
    "duration": 13,
    "start_time": "2021-11-22T20:40:19.703Z"
   },
   {
    "duration": 14,
    "start_time": "2021-11-22T20:40:19.718Z"
   },
   {
    "duration": 7,
    "start_time": "2021-11-22T20:40:19.733Z"
   },
   {
    "duration": 11,
    "start_time": "2021-11-22T20:40:19.741Z"
   },
   {
    "duration": 53,
    "start_time": "2021-11-22T20:40:19.753Z"
   },
   {
    "duration": 23,
    "start_time": "2021-11-22T20:40:19.808Z"
   },
   {
    "duration": 24,
    "start_time": "2021-11-22T20:40:19.833Z"
   },
   {
    "duration": 42,
    "start_time": "2021-11-22T20:40:19.858Z"
   },
   {
    "duration": 10,
    "start_time": "2021-11-22T20:40:19.902Z"
   },
   {
    "duration": 17,
    "start_time": "2021-11-22T20:40:19.913Z"
   },
   {
    "duration": 15,
    "start_time": "2021-11-22T20:40:19.932Z"
   },
   {
    "duration": 23,
    "start_time": "2021-11-22T20:40:19.948Z"
   },
   {
    "duration": 10,
    "start_time": "2021-11-22T20:40:19.973Z"
   },
   {
    "duration": 23,
    "start_time": "2021-11-22T20:40:23.282Z"
   },
   {
    "duration": 9,
    "start_time": "2021-11-22T20:42:08.959Z"
   },
   {
    "duration": 738,
    "start_time": "2021-11-26T08:50:47.679Z"
   },
   {
    "duration": 41,
    "start_time": "2021-11-26T08:50:48.419Z"
   },
   {
    "duration": 4,
    "start_time": "2021-11-26T08:50:48.462Z"
   },
   {
    "duration": 6,
    "start_time": "2021-11-26T08:50:48.469Z"
   },
   {
    "duration": 21,
    "start_time": "2021-11-26T08:50:48.476Z"
   },
   {
    "duration": 11,
    "start_time": "2021-11-26T08:50:48.499Z"
   },
   {
    "duration": 24,
    "start_time": "2021-11-26T08:50:48.511Z"
   },
   {
    "duration": 20,
    "start_time": "2021-11-26T08:50:48.539Z"
   },
   {
    "duration": 40,
    "start_time": "2021-11-26T08:50:48.561Z"
   },
   {
    "duration": 18,
    "start_time": "2021-11-26T08:50:48.603Z"
   },
   {
    "duration": 7,
    "start_time": "2021-11-26T08:50:48.623Z"
   },
   {
    "duration": 12,
    "start_time": "2021-11-26T08:50:48.632Z"
   },
   {
    "duration": 64,
    "start_time": "2021-11-26T08:50:48.645Z"
   },
   {
    "duration": 24,
    "start_time": "2021-11-26T08:50:48.711Z"
   },
   {
    "duration": 26,
    "start_time": "2021-11-26T08:50:48.736Z"
   },
   {
    "duration": 16,
    "start_time": "2021-11-26T08:50:48.792Z"
   },
   {
    "duration": 11,
    "start_time": "2021-11-26T08:50:48.809Z"
   },
   {
    "duration": 11,
    "start_time": "2021-11-26T08:50:48.821Z"
   },
   {
    "duration": 8,
    "start_time": "2021-11-26T08:50:48.834Z"
   },
   {
    "duration": 49,
    "start_time": "2021-11-26T08:50:48.844Z"
   },
   {
    "duration": 6,
    "start_time": "2021-11-26T08:50:48.895Z"
   },
   {
    "duration": 22,
    "start_time": "2021-11-26T08:50:48.903Z"
   },
   {
    "duration": 12,
    "start_time": "2021-11-26T08:50:48.928Z"
   },
   {
    "duration": 6,
    "start_time": "2021-11-26T08:50:48.943Z"
   },
   {
    "duration": 42,
    "start_time": "2021-11-26T08:50:48.951Z"
   },
   {
    "duration": 19,
    "start_time": "2021-11-26T08:50:48.996Z"
   },
   {
    "duration": 3,
    "start_time": "2021-11-26T08:50:49.017Z"
   },
   {
    "duration": 18,
    "start_time": "2021-11-26T08:50:49.022Z"
   },
   {
    "duration": 6,
    "start_time": "2021-11-26T08:50:49.041Z"
   },
   {
    "duration": 5,
    "start_time": "2021-11-26T08:50:49.048Z"
   },
   {
    "duration": 46,
    "start_time": "2021-11-26T08:50:49.055Z"
   },
   {
    "duration": 16,
    "start_time": "2021-11-26T08:50:49.102Z"
   },
   {
    "duration": 16,
    "start_time": "2021-11-26T08:50:49.120Z"
   },
   {
    "duration": 19,
    "start_time": "2021-11-26T08:50:49.137Z"
   },
   {
    "duration": 35,
    "start_time": "2021-11-26T08:50:49.158Z"
   },
   {
    "duration": 30,
    "start_time": "2021-11-26T08:50:49.195Z"
   },
   {
    "duration": 6,
    "start_time": "2021-11-26T08:50:49.227Z"
   },
   {
    "duration": 31,
    "start_time": "2021-11-26T08:50:49.235Z"
   },
   {
    "duration": 7,
    "start_time": "2021-11-26T08:50:49.292Z"
   },
   {
    "duration": 14,
    "start_time": "2021-11-26T08:50:49.301Z"
   },
   {
    "duration": 9,
    "start_time": "2021-11-26T08:50:49.318Z"
   },
   {
    "duration": 6,
    "start_time": "2021-11-26T08:50:49.330Z"
   },
   {
    "duration": 23,
    "start_time": "2021-11-26T08:50:49.338Z"
   },
   {
    "duration": 207,
    "start_time": "2021-11-26T08:50:49.392Z"
   },
   {
    "duration": 7,
    "start_time": "2021-11-26T08:50:49.600Z"
   },
   {
    "duration": 15,
    "start_time": "2021-11-26T08:50:49.608Z"
   },
   {
    "duration": 4,
    "start_time": "2021-11-26T08:50:49.624Z"
   },
   {
    "duration": 8,
    "start_time": "2021-11-26T08:50:49.630Z"
   },
   {
    "duration": 13,
    "start_time": "2021-11-26T08:50:49.639Z"
   },
   {
    "duration": 49,
    "start_time": "2021-11-26T08:50:49.654Z"
   },
   {
    "duration": 6,
    "start_time": "2021-11-26T08:50:49.704Z"
   },
   {
    "duration": 7,
    "start_time": "2021-11-26T08:50:49.712Z"
   },
   {
    "duration": 9,
    "start_time": "2021-11-26T08:50:49.721Z"
   },
   {
    "duration": 8,
    "start_time": "2021-11-26T08:50:49.732Z"
   },
   {
    "duration": 6,
    "start_time": "2021-11-26T09:12:28.287Z"
   },
   {
    "duration": 7,
    "start_time": "2021-11-26T09:12:34.309Z"
   },
   {
    "duration": 4,
    "start_time": "2021-11-26T09:13:40.210Z"
   },
   {
    "duration": 3,
    "start_time": "2021-11-26T09:13:44.906Z"
   },
   {
    "duration": 4,
    "start_time": "2021-11-26T09:13:59.359Z"
   },
   {
    "duration": 5,
    "start_time": "2021-11-26T09:14:47.621Z"
   },
   {
    "duration": 5,
    "start_time": "2021-11-26T09:16:29.444Z"
   },
   {
    "duration": 4,
    "start_time": "2021-11-26T09:16:48.327Z"
   },
   {
    "duration": 3,
    "start_time": "2021-11-26T09:16:57.810Z"
   },
   {
    "duration": 4,
    "start_time": "2021-11-26T09:17:13.998Z"
   },
   {
    "duration": 4,
    "start_time": "2021-11-26T09:17:20.174Z"
   },
   {
    "duration": 663,
    "start_time": "2021-11-26T09:17:26.151Z"
   },
   {
    "duration": 42,
    "start_time": "2021-11-26T09:17:26.816Z"
   },
   {
    "duration": 30,
    "start_time": "2021-11-26T09:17:26.860Z"
   },
   {
    "duration": 22,
    "start_time": "2021-11-26T09:17:26.892Z"
   },
   {
    "duration": 21,
    "start_time": "2021-11-26T09:17:26.915Z"
   },
   {
    "duration": 9,
    "start_time": "2021-11-26T09:17:26.938Z"
   },
   {
    "duration": 19,
    "start_time": "2021-11-26T09:17:26.949Z"
   },
   {
    "duration": 10,
    "start_time": "2021-11-26T09:17:26.971Z"
   },
   {
    "duration": 15,
    "start_time": "2021-11-26T09:17:26.992Z"
   },
   {
    "duration": 3,
    "start_time": "2021-11-26T09:17:27.008Z"
   },
   {
    "duration": 19,
    "start_time": "2021-11-26T09:17:27.013Z"
   },
   {
    "duration": 6,
    "start_time": "2021-11-26T09:17:27.033Z"
   },
   {
    "duration": 13,
    "start_time": "2021-11-26T09:17:27.041Z"
   },
   {
    "duration": 56,
    "start_time": "2021-11-26T09:17:27.055Z"
   },
   {
    "duration": 4,
    "start_time": "2021-11-26T09:17:27.112Z"
   },
   {
    "duration": 27,
    "start_time": "2021-11-26T09:17:27.117Z"
   },
   {
    "duration": 46,
    "start_time": "2021-11-26T09:17:27.146Z"
   },
   {
    "duration": 15,
    "start_time": "2021-11-26T09:17:27.194Z"
   },
   {
    "duration": 9,
    "start_time": "2021-11-26T09:17:27.211Z"
   },
   {
    "duration": 10,
    "start_time": "2021-11-26T09:17:27.222Z"
   },
   {
    "duration": 4,
    "start_time": "2021-11-26T09:17:27.234Z"
   },
   {
    "duration": 8,
    "start_time": "2021-11-26T09:17:27.239Z"
   },
   {
    "duration": 44,
    "start_time": "2021-11-26T09:17:27.250Z"
   },
   {
    "duration": 9,
    "start_time": "2021-11-26T09:17:27.296Z"
   },
   {
    "duration": 22,
    "start_time": "2021-11-26T09:17:27.306Z"
   },
   {
    "duration": 8,
    "start_time": "2021-11-26T09:17:27.330Z"
   },
   {
    "duration": 7,
    "start_time": "2021-11-26T09:17:27.339Z"
   },
   {
    "duration": 6,
    "start_time": "2021-11-26T09:17:27.348Z"
   },
   {
    "duration": 7,
    "start_time": "2021-11-26T09:17:27.355Z"
   },
   {
    "duration": 16,
    "start_time": "2021-11-26T09:17:27.391Z"
   },
   {
    "duration": 4,
    "start_time": "2021-11-26T09:17:27.408Z"
   },
   {
    "duration": 19,
    "start_time": "2021-11-26T09:17:27.414Z"
   },
   {
    "duration": 6,
    "start_time": "2021-11-26T09:17:27.435Z"
   },
   {
    "duration": 5,
    "start_time": "2021-11-26T09:17:27.442Z"
   },
   {
    "duration": 5,
    "start_time": "2021-11-26T09:17:27.448Z"
   },
   {
    "duration": 48,
    "start_time": "2021-11-26T09:17:27.454Z"
   },
   {
    "duration": 14,
    "start_time": "2021-11-26T09:17:27.503Z"
   },
   {
    "duration": 17,
    "start_time": "2021-11-26T09:17:27.519Z"
   },
   {
    "duration": 18,
    "start_time": "2021-11-26T09:17:27.537Z"
   },
   {
    "duration": 4,
    "start_time": "2021-11-26T09:17:27.556Z"
   },
   {
    "duration": 44,
    "start_time": "2021-11-26T09:17:27.561Z"
   },
   {
    "duration": 4,
    "start_time": "2021-11-26T09:17:27.606Z"
   },
   {
    "duration": 20,
    "start_time": "2021-11-26T09:17:27.612Z"
   },
   {
    "duration": 7,
    "start_time": "2021-11-26T09:17:27.634Z"
   },
   {
    "duration": 9,
    "start_time": "2021-11-26T09:17:27.642Z"
   },
   {
    "duration": 5,
    "start_time": "2021-11-26T09:17:27.653Z"
   },
   {
    "duration": 5,
    "start_time": "2021-11-26T09:17:27.660Z"
   },
   {
    "duration": 14,
    "start_time": "2021-11-26T09:17:27.692Z"
   },
   {
    "duration": 210,
    "start_time": "2021-11-26T09:17:27.708Z"
   },
   {
    "duration": 7,
    "start_time": "2021-11-26T09:17:27.921Z"
   },
   {
    "duration": 13,
    "start_time": "2021-11-26T09:17:27.930Z"
   },
   {
    "duration": 4,
    "start_time": "2021-11-26T09:17:27.945Z"
   },
   {
    "duration": 8,
    "start_time": "2021-11-26T09:17:27.950Z"
   },
   {
    "duration": 12,
    "start_time": "2021-11-26T09:17:27.959Z"
   },
   {
    "duration": 20,
    "start_time": "2021-11-26T09:17:27.992Z"
   },
   {
    "duration": 4,
    "start_time": "2021-11-26T09:17:28.013Z"
   },
   {
    "duration": 11,
    "start_time": "2021-11-26T09:17:28.019Z"
   },
   {
    "duration": 9,
    "start_time": "2021-11-26T09:17:28.032Z"
   },
   {
    "duration": 11,
    "start_time": "2021-11-26T09:17:28.043Z"
   },
   {
    "duration": 17,
    "start_time": "2021-11-26T09:19:11.088Z"
   },
   {
    "duration": 10,
    "start_time": "2021-11-26T09:19:56.463Z"
   },
   {
    "duration": 71,
    "start_time": "2021-11-26T09:20:00.839Z"
   },
   {
    "duration": 40,
    "start_time": "2021-11-26T09:20:00.912Z"
   },
   {
    "duration": 11,
    "start_time": "2021-11-26T09:20:00.954Z"
   },
   {
    "duration": 5,
    "start_time": "2021-11-26T09:20:00.967Z"
   },
   {
    "duration": 25,
    "start_time": "2021-11-26T09:20:00.973Z"
   },
   {
    "duration": 9,
    "start_time": "2021-11-26T09:20:01.000Z"
   },
   {
    "duration": 20,
    "start_time": "2021-11-26T09:20:01.011Z"
   },
   {
    "duration": 11,
    "start_time": "2021-11-26T09:20:01.033Z"
   },
   {
    "duration": 24,
    "start_time": "2021-11-26T09:20:01.046Z"
   },
   {
    "duration": 38,
    "start_time": "2021-11-26T09:20:01.072Z"
   },
   {
    "duration": 11,
    "start_time": "2021-11-26T09:20:01.111Z"
   },
   {
    "duration": 23,
    "start_time": "2021-11-26T09:20:01.124Z"
   },
   {
    "duration": 25,
    "start_time": "2021-11-26T09:20:01.149Z"
   },
   {
    "duration": 27,
    "start_time": "2021-11-26T09:20:01.176Z"
   },
   {
    "duration": 25,
    "start_time": "2021-11-26T09:20:01.205Z"
   },
   {
    "duration": 13,
    "start_time": "2021-11-26T09:20:01.232Z"
   },
   {
    "duration": 9,
    "start_time": "2021-11-26T09:20:01.247Z"
   },
   {
    "duration": 36,
    "start_time": "2021-11-26T09:20:01.258Z"
   },
   {
    "duration": 18,
    "start_time": "2021-11-26T09:20:01.296Z"
   },
   {
    "duration": 18,
    "start_time": "2021-11-26T09:20:01.315Z"
   },
   {
    "duration": 23,
    "start_time": "2021-11-26T09:20:01.335Z"
   },
   {
    "duration": 23,
    "start_time": "2021-11-26T09:20:01.360Z"
   },
   {
    "duration": 33,
    "start_time": "2021-11-26T09:20:01.387Z"
   },
   {
    "duration": 16,
    "start_time": "2021-11-26T09:20:01.422Z"
   },
   {
    "duration": 22,
    "start_time": "2021-11-26T09:20:01.440Z"
   },
   {
    "duration": 30,
    "start_time": "2021-11-26T09:20:01.463Z"
   },
   {
    "duration": 32,
    "start_time": "2021-11-26T09:20:01.494Z"
   },
   {
    "duration": 27,
    "start_time": "2021-11-26T09:20:01.527Z"
   },
   {
    "duration": 32,
    "start_time": "2021-11-26T09:20:01.555Z"
   },
   {
    "duration": 11,
    "start_time": "2021-11-26T09:20:01.588Z"
   },
   {
    "duration": 23,
    "start_time": "2021-11-26T09:20:01.600Z"
   },
   {
    "duration": 19,
    "start_time": "2021-11-26T09:20:01.625Z"
   },
   {
    "duration": 25,
    "start_time": "2021-11-26T09:20:01.646Z"
   },
   {
    "duration": 28,
    "start_time": "2021-11-26T09:20:01.673Z"
   },
   {
    "duration": 17,
    "start_time": "2021-11-26T09:20:01.703Z"
   },
   {
    "duration": 34,
    "start_time": "2021-11-26T09:20:01.722Z"
   },
   {
    "duration": 6,
    "start_time": "2021-11-26T09:20:01.758Z"
   },
   {
    "duration": 27,
    "start_time": "2021-11-26T09:20:01.765Z"
   },
   {
    "duration": 5,
    "start_time": "2021-11-26T09:20:01.793Z"
   },
   {
    "duration": 20,
    "start_time": "2021-11-26T09:20:01.799Z"
   },
   {
    "duration": 27,
    "start_time": "2021-11-26T09:20:01.821Z"
   },
   {
    "duration": 16,
    "start_time": "2021-11-26T09:20:01.849Z"
   },
   {
    "duration": 21,
    "start_time": "2021-11-26T09:20:01.867Z"
   },
   {
    "duration": 6,
    "start_time": "2021-11-26T09:20:01.889Z"
   },
   {
    "duration": 28,
    "start_time": "2021-11-26T09:20:01.897Z"
   },
   {
    "duration": 209,
    "start_time": "2021-11-26T09:20:01.927Z"
   },
   {
    "duration": 6,
    "start_time": "2021-11-26T09:20:02.137Z"
   },
   {
    "duration": 25,
    "start_time": "2021-11-26T09:20:02.145Z"
   },
   {
    "duration": 17,
    "start_time": "2021-11-26T09:20:02.172Z"
   },
   {
    "duration": 24,
    "start_time": "2021-11-26T09:20:02.191Z"
   },
   {
    "duration": 37,
    "start_time": "2021-11-26T09:20:02.217Z"
   },
   {
    "duration": 27,
    "start_time": "2021-11-26T09:20:02.256Z"
   },
   {
    "duration": 11,
    "start_time": "2021-11-26T09:20:02.285Z"
   },
   {
    "duration": 28,
    "start_time": "2021-11-26T09:20:02.298Z"
   },
   {
    "duration": 67,
    "start_time": "2021-11-26T09:20:02.328Z"
   },
   {
    "duration": 23,
    "start_time": "2021-11-26T09:20:02.397Z"
   },
   {
    "duration": 9,
    "start_time": "2021-11-26T09:23:13.548Z"
   },
   {
    "duration": 10,
    "start_time": "2021-11-26T09:23:58.256Z"
   },
   {
    "duration": 9,
    "start_time": "2021-11-26T09:24:19.390Z"
   },
   {
    "duration": 12,
    "start_time": "2021-11-26T09:24:32.293Z"
   },
   {
    "duration": 22,
    "start_time": "2021-11-26T09:24:49.202Z"
   },
   {
    "duration": 9,
    "start_time": "2021-11-26T09:25:14.215Z"
   },
   {
    "duration": 9,
    "start_time": "2021-11-26T09:25:26.471Z"
   },
   {
    "duration": 9,
    "start_time": "2021-11-26T09:25:40.466Z"
   },
   {
    "duration": 655,
    "start_time": "2021-11-26T09:25:51.057Z"
   },
   {
    "duration": 40,
    "start_time": "2021-11-26T09:25:51.714Z"
   },
   {
    "duration": 5,
    "start_time": "2021-11-26T09:25:51.756Z"
   },
   {
    "duration": 10,
    "start_time": "2021-11-26T09:25:51.763Z"
   },
   {
    "duration": 31,
    "start_time": "2021-11-26T09:25:51.774Z"
   },
   {
    "duration": 10,
    "start_time": "2021-11-26T09:25:51.806Z"
   },
   {
    "duration": 29,
    "start_time": "2021-11-26T09:25:51.817Z"
   },
   {
    "duration": 11,
    "start_time": "2021-11-26T09:25:51.850Z"
   },
   {
    "duration": 29,
    "start_time": "2021-11-26T09:25:51.863Z"
   },
   {
    "duration": 17,
    "start_time": "2021-11-26T09:25:51.893Z"
   },
   {
    "duration": 7,
    "start_time": "2021-11-26T09:25:51.911Z"
   },
   {
    "duration": 13,
    "start_time": "2021-11-26T09:25:51.919Z"
   },
   {
    "duration": 25,
    "start_time": "2021-11-26T09:25:51.934Z"
   },
   {
    "duration": 48,
    "start_time": "2021-11-26T09:25:51.960Z"
   },
   {
    "duration": 22,
    "start_time": "2021-11-26T09:25:52.010Z"
   },
   {
    "duration": 14,
    "start_time": "2021-11-26T09:25:52.034Z"
   },
   {
    "duration": 9,
    "start_time": "2021-11-26T09:25:52.050Z"
   },
   {
    "duration": 39,
    "start_time": "2021-11-26T09:25:52.060Z"
   },
   {
    "duration": 8,
    "start_time": "2021-11-26T09:25:52.100Z"
   },
   {
    "duration": 13,
    "start_time": "2021-11-26T09:25:52.109Z"
   },
   {
    "duration": 7,
    "start_time": "2021-11-26T09:25:52.123Z"
   },
   {
    "duration": 21,
    "start_time": "2021-11-26T09:25:52.132Z"
   },
   {
    "duration": 9,
    "start_time": "2021-11-26T09:25:52.156Z"
   },
   {
    "duration": 4,
    "start_time": "2021-11-26T09:25:52.192Z"
   },
   {
    "duration": 10,
    "start_time": "2021-11-26T09:25:52.197Z"
   },
   {
    "duration": 17,
    "start_time": "2021-11-26T09:25:52.209Z"
   },
   {
    "duration": 3,
    "start_time": "2021-11-26T09:25:52.227Z"
   },
   {
    "duration": 20,
    "start_time": "2021-11-26T09:25:52.232Z"
   },
   {
    "duration": 5,
    "start_time": "2021-11-26T09:25:52.253Z"
   },
   {
    "duration": 34,
    "start_time": "2021-11-26T09:25:52.260Z"
   },
   {
    "duration": 13,
    "start_time": "2021-11-26T09:25:52.296Z"
   },
   {
    "duration": 15,
    "start_time": "2021-11-26T09:25:52.310Z"
   },
   {
    "duration": 14,
    "start_time": "2021-11-26T09:25:52.326Z"
   },
   {
    "duration": 17,
    "start_time": "2021-11-26T09:25:52.342Z"
   },
   {
    "duration": 33,
    "start_time": "2021-11-26T09:25:52.361Z"
   },
   {
    "duration": 20,
    "start_time": "2021-11-26T09:25:52.396Z"
   },
   {
    "duration": 4,
    "start_time": "2021-11-26T09:25:52.418Z"
   },
   {
    "duration": 15,
    "start_time": "2021-11-26T09:25:52.424Z"
   },
   {
    "duration": 6,
    "start_time": "2021-11-26T09:25:52.440Z"
   },
   {
    "duration": 11,
    "start_time": "2021-11-26T09:25:52.448Z"
   },
   {
    "duration": 34,
    "start_time": "2021-11-26T09:25:52.461Z"
   },
   {
    "duration": 4,
    "start_time": "2021-11-26T09:25:52.497Z"
   },
   {
    "duration": 15,
    "start_time": "2021-11-26T09:25:52.503Z"
   },
   {
    "duration": 215,
    "start_time": "2021-11-26T09:25:52.520Z"
   },
   {
    "duration": 6,
    "start_time": "2021-11-26T09:25:52.736Z"
   },
   {
    "duration": 30,
    "start_time": "2021-11-26T09:25:52.743Z"
   },
   {
    "duration": 3,
    "start_time": "2021-11-26T09:25:52.775Z"
   },
   {
    "duration": 5,
    "start_time": "2021-11-26T09:25:52.780Z"
   },
   {
    "duration": 11,
    "start_time": "2021-11-26T09:25:52.791Z"
   },
   {
    "duration": 20,
    "start_time": "2021-11-26T09:25:52.804Z"
   },
   {
    "duration": 4,
    "start_time": "2021-11-26T09:25:52.825Z"
   },
   {
    "duration": 7,
    "start_time": "2021-11-26T09:25:52.830Z"
   },
   {
    "duration": 8,
    "start_time": "2021-11-26T09:25:52.839Z"
   },
   {
    "duration": 8,
    "start_time": "2021-11-26T09:25:52.849Z"
   },
   {
    "duration": 64,
    "start_time": "2021-11-26T09:26:40.347Z"
   },
   {
    "duration": 10,
    "start_time": "2021-11-26T09:26:45.573Z"
   },
   {
    "duration": 647,
    "start_time": "2021-11-26T09:26:55.336Z"
   },
   {
    "duration": 41,
    "start_time": "2021-11-26T09:26:55.985Z"
   },
   {
    "duration": 3,
    "start_time": "2021-11-26T09:26:56.028Z"
   },
   {
    "duration": 6,
    "start_time": "2021-11-26T09:26:56.033Z"
   },
   {
    "duration": 20,
    "start_time": "2021-11-26T09:26:56.040Z"
   },
   {
    "duration": 8,
    "start_time": "2021-11-26T09:26:56.061Z"
   },
   {
    "duration": 19,
    "start_time": "2021-11-26T09:26:56.071Z"
   },
   {
    "duration": 10,
    "start_time": "2021-11-26T09:26:56.093Z"
   },
   {
    "duration": 13,
    "start_time": "2021-11-26T09:26:56.105Z"
   },
   {
    "duration": 18,
    "start_time": "2021-11-26T09:26:56.120Z"
   },
   {
    "duration": 7,
    "start_time": "2021-11-26T09:26:56.139Z"
   },
   {
    "duration": 25,
    "start_time": "2021-11-26T09:26:56.148Z"
   },
   {
    "duration": 42,
    "start_time": "2021-11-26T09:26:56.174Z"
   },
   {
    "duration": 25,
    "start_time": "2021-11-26T09:26:56.217Z"
   },
   {
    "duration": 26,
    "start_time": "2021-11-26T09:26:56.243Z"
   },
   {
    "duration": 33,
    "start_time": "2021-11-26T09:26:56.271Z"
   },
   {
    "duration": 25,
    "start_time": "2021-11-26T09:26:56.305Z"
   },
   {
    "duration": 31,
    "start_time": "2021-11-26T09:26:56.332Z"
   },
   {
    "duration": 41,
    "start_time": "2021-11-26T09:26:56.365Z"
   },
   {
    "duration": 40,
    "start_time": "2021-11-26T09:26:56.407Z"
   },
   {
    "duration": 22,
    "start_time": "2021-11-26T09:26:56.449Z"
   },
   {
    "duration": 50,
    "start_time": "2021-11-26T09:26:56.473Z"
   },
   {
    "duration": 9,
    "start_time": "2021-11-26T09:26:56.527Z"
   },
   {
    "duration": 35,
    "start_time": "2021-11-26T09:26:56.538Z"
   },
   {
    "duration": 23,
    "start_time": "2021-11-26T09:26:56.575Z"
   },
   {
    "duration": 35,
    "start_time": "2021-11-26T09:26:56.600Z"
   },
   {
    "duration": 4,
    "start_time": "2021-11-26T09:26:56.636Z"
   },
   {
    "duration": 19,
    "start_time": "2021-11-26T09:26:56.641Z"
   },
   {
    "duration": 5,
    "start_time": "2021-11-26T09:26:56.661Z"
   },
   {
    "duration": 4,
    "start_time": "2021-11-26T09:26:56.668Z"
   },
   {
    "duration": 14,
    "start_time": "2021-11-26T09:26:56.673Z"
   },
   {
    "duration": 13,
    "start_time": "2021-11-26T09:26:56.691Z"
   },
   {
    "duration": 16,
    "start_time": "2021-11-26T09:26:56.705Z"
   },
   {
    "duration": 17,
    "start_time": "2021-11-26T09:26:56.722Z"
   },
   {
    "duration": 5,
    "start_time": "2021-11-26T09:26:56.741Z"
   },
   {
    "duration": 47,
    "start_time": "2021-11-26T09:26:56.747Z"
   },
   {
    "duration": 6,
    "start_time": "2021-11-26T09:26:56.795Z"
   },
   {
    "duration": 15,
    "start_time": "2021-11-26T09:26:56.802Z"
   },
   {
    "duration": 5,
    "start_time": "2021-11-26T09:26:56.818Z"
   },
   {
    "duration": 7,
    "start_time": "2021-11-26T09:26:56.825Z"
   },
   {
    "duration": 5,
    "start_time": "2021-11-26T09:26:56.834Z"
   },
   {
    "duration": 7,
    "start_time": "2021-11-26T09:26:56.840Z"
   },
   {
    "duration": 49,
    "start_time": "2021-11-26T09:26:56.848Z"
   },
   {
    "duration": 203,
    "start_time": "2021-11-26T09:26:56.898Z"
   },
   {
    "duration": 8,
    "start_time": "2021-11-26T09:26:57.103Z"
   },
   {
    "duration": 14,
    "start_time": "2021-11-26T09:26:57.112Z"
   },
   {
    "duration": 4,
    "start_time": "2021-11-26T09:26:57.128Z"
   },
   {
    "duration": 6,
    "start_time": "2021-11-26T09:26:57.133Z"
   },
   {
    "duration": 11,
    "start_time": "2021-11-26T09:26:57.141Z"
   },
   {
    "duration": 48,
    "start_time": "2021-11-26T09:26:57.153Z"
   },
   {
    "duration": 3,
    "start_time": "2021-11-26T09:26:57.203Z"
   },
   {
    "duration": 8,
    "start_time": "2021-11-26T09:26:57.208Z"
   },
   {
    "duration": 10,
    "start_time": "2021-11-26T09:26:57.217Z"
   },
   {
    "duration": 8,
    "start_time": "2021-11-26T09:26:57.228Z"
   },
   {
    "duration": 12,
    "start_time": "2021-11-26T09:27:13.596Z"
   },
   {
    "duration": 4,
    "start_time": "2021-11-26T09:27:57.160Z"
   },
   {
    "duration": 22,
    "start_time": "2021-11-26T09:29:15.908Z"
   },
   {
    "duration": 26,
    "start_time": "2021-11-26T09:29:27.699Z"
   },
   {
    "duration": 15,
    "start_time": "2021-11-26T09:29:41.795Z"
   },
   {
    "duration": 4,
    "start_time": "2021-11-26T09:30:18.702Z"
   },
   {
    "duration": 4,
    "start_time": "2021-11-26T09:30:50.351Z"
   },
   {
    "duration": 5,
    "start_time": "2021-11-26T09:31:00.364Z"
   },
   {
    "duration": 9,
    "start_time": "2021-11-26T09:31:24.971Z"
   },
   {
    "duration": 3,
    "start_time": "2021-11-26T09:31:26.851Z"
   },
   {
    "duration": 700,
    "start_time": "2021-11-26T09:31:31.765Z"
   },
   {
    "duration": 41,
    "start_time": "2021-11-26T09:31:32.468Z"
   },
   {
    "duration": 5,
    "start_time": "2021-11-26T09:31:32.511Z"
   },
   {
    "duration": 5,
    "start_time": "2021-11-26T09:31:32.518Z"
   },
   {
    "duration": 23,
    "start_time": "2021-11-26T09:31:32.525Z"
   },
   {
    "duration": 11,
    "start_time": "2021-11-26T09:31:32.550Z"
   },
   {
    "duration": 46,
    "start_time": "2021-11-26T09:31:32.562Z"
   },
   {
    "duration": 12,
    "start_time": "2021-11-26T09:31:32.611Z"
   },
   {
    "duration": 15,
    "start_time": "2021-11-26T09:31:32.625Z"
   },
   {
    "duration": 18,
    "start_time": "2021-11-26T09:31:32.642Z"
   },
   {
    "duration": 37,
    "start_time": "2021-11-26T09:31:32.662Z"
   },
   {
    "duration": 19,
    "start_time": "2021-11-26T09:31:32.701Z"
   },
   {
    "duration": 24,
    "start_time": "2021-11-26T09:31:32.722Z"
   },
   {
    "duration": 23,
    "start_time": "2021-11-26T09:31:32.748Z"
   },
   {
    "duration": 24,
    "start_time": "2021-11-26T09:31:32.791Z"
   },
   {
    "duration": 16,
    "start_time": "2021-11-26T09:31:32.817Z"
   },
   {
    "duration": 13,
    "start_time": "2021-11-26T09:31:32.834Z"
   },
   {
    "duration": 10,
    "start_time": "2021-11-26T09:31:32.849Z"
   },
   {
    "duration": 34,
    "start_time": "2021-11-26T09:31:32.860Z"
   },
   {
    "duration": 14,
    "start_time": "2021-11-26T09:31:32.896Z"
   },
   {
    "duration": 8,
    "start_time": "2021-11-26T09:31:32.911Z"
   },
   {
    "duration": 20,
    "start_time": "2021-11-26T09:31:32.920Z"
   },
   {
    "duration": 9,
    "start_time": "2021-11-26T09:31:32.943Z"
   },
   {
    "duration": 3,
    "start_time": "2021-11-26T09:31:32.954Z"
   },
   {
    "duration": 32,
    "start_time": "2021-11-26T09:31:32.959Z"
   },
   {
    "duration": 12,
    "start_time": "2021-11-26T09:31:32.993Z"
   },
   {
    "duration": 18,
    "start_time": "2021-11-26T09:31:33.006Z"
   },
   {
    "duration": 6,
    "start_time": "2021-11-26T09:31:33.025Z"
   },
   {
    "duration": 21,
    "start_time": "2021-11-26T09:31:33.032Z"
   },
   {
    "duration": 5,
    "start_time": "2021-11-26T09:31:33.055Z"
   },
   {
    "duration": 7,
    "start_time": "2021-11-26T09:31:33.061Z"
   },
   {
    "duration": 5,
    "start_time": "2021-11-26T09:31:33.092Z"
   },
   {
    "duration": 14,
    "start_time": "2021-11-26T09:31:33.099Z"
   },
   {
    "duration": 15,
    "start_time": "2021-11-26T09:31:33.114Z"
   },
   {
    "duration": 17,
    "start_time": "2021-11-26T09:31:33.131Z"
   },
   {
    "duration": 58,
    "start_time": "2021-11-26T09:31:33.149Z"
   },
   {
    "duration": 5,
    "start_time": "2021-11-26T09:31:33.209Z"
   },
   {
    "duration": 19,
    "start_time": "2021-11-26T09:31:33.216Z"
   },
   {
    "duration": 7,
    "start_time": "2021-11-26T09:31:33.236Z"
   },
   {
    "duration": 48,
    "start_time": "2021-11-26T09:31:33.244Z"
   },
   {
    "duration": 5,
    "start_time": "2021-11-26T09:31:33.293Z"
   },
   {
    "duration": 12,
    "start_time": "2021-11-26T09:31:33.300Z"
   },
   {
    "duration": 7,
    "start_time": "2021-11-26T09:31:33.314Z"
   },
   {
    "duration": 4,
    "start_time": "2021-11-26T09:31:33.322Z"
   },
   {
    "duration": 15,
    "start_time": "2021-11-26T09:31:33.328Z"
   },
   {
    "duration": 228,
    "start_time": "2021-11-26T09:31:33.345Z"
   },
   {
    "duration": 6,
    "start_time": "2021-11-26T09:31:33.574Z"
   },
   {
    "duration": 12,
    "start_time": "2021-11-26T09:31:33.592Z"
   },
   {
    "duration": 6,
    "start_time": "2021-11-26T09:31:33.605Z"
   },
   {
    "duration": 7,
    "start_time": "2021-11-26T09:31:33.612Z"
   },
   {
    "duration": 12,
    "start_time": "2021-11-26T09:31:33.620Z"
   },
   {
    "duration": 20,
    "start_time": "2021-11-26T09:31:33.633Z"
   },
   {
    "duration": 4,
    "start_time": "2021-11-26T09:31:33.655Z"
   },
   {
    "duration": 39,
    "start_time": "2021-11-26T09:31:33.660Z"
   },
   {
    "duration": 10,
    "start_time": "2021-11-26T09:31:33.700Z"
   },
   {
    "duration": 9,
    "start_time": "2021-11-26T09:31:33.711Z"
   },
   {
    "duration": 251,
    "start_time": "2021-11-26T09:36:19.804Z"
   },
   {
    "duration": 13,
    "start_time": "2021-11-26T09:36:49.261Z"
   },
   {
    "duration": 175,
    "start_time": "2021-11-26T09:38:48.753Z"
   },
   {
    "duration": 9,
    "start_time": "2021-11-26T09:38:55.725Z"
   },
   {
    "duration": 10,
    "start_time": "2021-11-26T09:39:02.381Z"
   },
   {
    "duration": 4,
    "start_time": "2021-11-26T09:39:07.895Z"
   },
   {
    "duration": 8,
    "start_time": "2021-11-26T09:39:18.732Z"
   },
   {
    "duration": 183,
    "start_time": "2021-11-26T09:39:31.491Z"
   },
   {
    "duration": 8,
    "start_time": "2021-11-26T09:39:41.471Z"
   },
   {
    "duration": 5,
    "start_time": "2021-11-26T09:44:15.488Z"
   },
   {
    "duration": 10,
    "start_time": "2021-11-26T10:36:21.388Z"
   },
   {
    "duration": 723,
    "start_time": "2021-11-26T10:40:11.112Z"
   },
   {
    "duration": 41,
    "start_time": "2021-11-26T10:40:11.837Z"
   },
   {
    "duration": 5,
    "start_time": "2021-11-26T10:40:11.881Z"
   },
   {
    "duration": 6,
    "start_time": "2021-11-26T10:40:11.888Z"
   },
   {
    "duration": 23,
    "start_time": "2021-11-26T10:40:11.896Z"
   },
   {
    "duration": 12,
    "start_time": "2021-11-26T10:40:11.921Z"
   },
   {
    "duration": 25,
    "start_time": "2021-11-26T10:40:11.935Z"
   },
   {
    "duration": 38,
    "start_time": "2021-11-26T10:40:11.964Z"
   },
   {
    "duration": 22,
    "start_time": "2021-11-26T10:40:12.005Z"
   },
   {
    "duration": 25,
    "start_time": "2021-11-26T10:40:12.030Z"
   },
   {
    "duration": 35,
    "start_time": "2021-11-26T10:40:12.057Z"
   },
   {
    "duration": 15,
    "start_time": "2021-11-26T10:40:12.095Z"
   },
   {
    "duration": 45,
    "start_time": "2021-11-26T10:40:12.112Z"
   },
   {
    "duration": 58,
    "start_time": "2021-11-26T10:40:12.160Z"
   },
   {
    "duration": 33,
    "start_time": "2021-11-26T10:40:12.220Z"
   },
   {
    "duration": 38,
    "start_time": "2021-11-26T10:40:12.255Z"
   },
   {
    "duration": 11,
    "start_time": "2021-11-26T10:40:12.295Z"
   },
   {
    "duration": 13,
    "start_time": "2021-11-26T10:40:12.308Z"
   },
   {
    "duration": 8,
    "start_time": "2021-11-26T10:40:12.323Z"
   },
   {
    "duration": 14,
    "start_time": "2021-11-26T10:40:12.333Z"
   },
   {
    "duration": 45,
    "start_time": "2021-11-26T10:40:12.348Z"
   },
   {
    "duration": 22,
    "start_time": "2021-11-26T10:40:12.396Z"
   },
   {
    "duration": 11,
    "start_time": "2021-11-26T10:40:12.422Z"
   },
   {
    "duration": 7,
    "start_time": "2021-11-26T10:40:12.436Z"
   },
   {
    "duration": 47,
    "start_time": "2021-11-26T10:40:12.445Z"
   },
   {
    "duration": 18,
    "start_time": "2021-11-26T10:40:12.494Z"
   },
   {
    "duration": 11,
    "start_time": "2021-11-26T10:40:12.514Z"
   },
   {
    "duration": 26,
    "start_time": "2021-11-26T10:40:12.526Z"
   },
   {
    "duration": 10,
    "start_time": "2021-11-26T10:40:12.553Z"
   },
   {
    "duration": 29,
    "start_time": "2021-11-26T10:40:12.565Z"
   },
   {
    "duration": 17,
    "start_time": "2021-11-26T10:40:12.597Z"
   },
   {
    "duration": 7,
    "start_time": "2021-11-26T10:40:12.616Z"
   },
   {
    "duration": 16,
    "start_time": "2021-11-26T10:40:12.624Z"
   },
   {
    "duration": 51,
    "start_time": "2021-11-26T10:40:12.642Z"
   },
   {
    "duration": 21,
    "start_time": "2021-11-26T10:40:12.696Z"
   },
   {
    "duration": 22,
    "start_time": "2021-11-26T10:40:12.720Z"
   },
   {
    "duration": 5,
    "start_time": "2021-11-26T10:40:12.744Z"
   },
   {
    "duration": 59,
    "start_time": "2021-11-26T10:40:12.751Z"
   },
   {
    "duration": 8,
    "start_time": "2021-11-26T10:40:12.812Z"
   },
   {
    "duration": 30,
    "start_time": "2021-11-26T10:40:12.822Z"
   },
   {
    "duration": 38,
    "start_time": "2021-11-26T10:40:12.855Z"
   },
   {
    "duration": 9,
    "start_time": "2021-11-26T10:40:12.894Z"
   },
   {
    "duration": 9,
    "start_time": "2021-11-26T10:40:12.905Z"
   },
   {
    "duration": 4,
    "start_time": "2021-11-26T10:40:12.916Z"
   },
   {
    "duration": 27,
    "start_time": "2021-11-26T10:40:12.922Z"
   },
   {
    "duration": 278,
    "start_time": "2021-11-26T10:40:12.952Z"
   },
   {
    "duration": 7,
    "start_time": "2021-11-26T10:40:13.232Z"
   },
   {
    "duration": 23,
    "start_time": "2021-11-26T10:40:13.242Z"
   },
   {
    "duration": 30,
    "start_time": "2021-11-26T10:40:13.267Z"
   },
   {
    "duration": 16,
    "start_time": "2021-11-26T10:40:13.298Z"
   },
   {
    "duration": 23,
    "start_time": "2021-11-26T10:40:13.316Z"
   },
   {
    "duration": 6,
    "start_time": "2021-11-26T10:40:13.341Z"
   },
   {
    "duration": 8,
    "start_time": "2021-11-26T10:40:13.349Z"
   },
   {
    "duration": 40,
    "start_time": "2021-11-26T10:40:13.359Z"
   },
   {
    "duration": 12,
    "start_time": "2021-11-26T10:40:13.401Z"
   },
   {
    "duration": 11,
    "start_time": "2021-11-26T10:40:13.415Z"
   },
   {
    "duration": 214,
    "start_time": "2021-11-26T20:20:55.294Z"
   },
   {
    "duration": 679,
    "start_time": "2021-11-26T20:35:49.842Z"
   },
   {
    "duration": 70,
    "start_time": "2021-11-26T20:35:50.523Z"
   },
   {
    "duration": 4,
    "start_time": "2021-11-26T20:35:50.596Z"
   },
   {
    "duration": 6,
    "start_time": "2021-11-26T20:35:50.602Z"
   },
   {
    "duration": 18,
    "start_time": "2021-11-26T20:35:50.610Z"
   },
   {
    "duration": 9,
    "start_time": "2021-11-26T20:35:50.630Z"
   },
   {
    "duration": 19,
    "start_time": "2021-11-26T20:35:50.641Z"
   },
   {
    "duration": 40,
    "start_time": "2021-11-26T20:35:50.662Z"
   },
   {
    "duration": 13,
    "start_time": "2021-11-26T20:35:50.703Z"
   },
   {
    "duration": 17,
    "start_time": "2021-11-26T20:35:50.718Z"
   },
   {
    "duration": 7,
    "start_time": "2021-11-26T20:35:50.736Z"
   },
   {
    "duration": 10,
    "start_time": "2021-11-26T20:35:50.744Z"
   },
   {
    "duration": 54,
    "start_time": "2021-11-26T20:35:50.755Z"
   },
   {
    "duration": 23,
    "start_time": "2021-11-26T20:35:50.810Z"
   },
   {
    "duration": 23,
    "start_time": "2021-11-26T20:35:50.834Z"
   },
   {
    "duration": 37,
    "start_time": "2021-11-26T20:35:50.859Z"
   },
   {
    "duration": 9,
    "start_time": "2021-11-26T20:35:50.898Z"
   },
   {
    "duration": 8,
    "start_time": "2021-11-26T20:35:50.908Z"
   },
   {
    "duration": 7,
    "start_time": "2021-11-26T20:35:50.917Z"
   },
   {
    "duration": 14,
    "start_time": "2021-11-26T20:35:50.925Z"
   },
   {
    "duration": 7,
    "start_time": "2021-11-26T20:35:50.941Z"
   },
   {
    "duration": 48,
    "start_time": "2021-11-26T20:35:50.951Z"
   },
   {
    "duration": 10,
    "start_time": "2021-11-26T20:35:51.001Z"
   },
   {
    "duration": 4,
    "start_time": "2021-11-26T20:35:51.012Z"
   },
   {
    "duration": 14,
    "start_time": "2021-11-26T20:35:51.017Z"
   },
   {
    "duration": 14,
    "start_time": "2021-11-26T20:35:51.032Z"
   },
   {
    "duration": 5,
    "start_time": "2021-11-26T20:35:51.048Z"
   },
   {
    "duration": 50,
    "start_time": "2021-11-26T20:35:51.055Z"
   },
   {
    "duration": 9,
    "start_time": "2021-11-26T20:35:51.106Z"
   },
   {
    "duration": 7,
    "start_time": "2021-11-26T20:35:51.116Z"
   },
   {
    "duration": 6,
    "start_time": "2021-11-26T20:35:51.124Z"
   },
   {
    "duration": 6,
    "start_time": "2021-11-26T20:35:51.131Z"
   },
   {
    "duration": 12,
    "start_time": "2021-11-26T20:35:51.139Z"
   },
   {
    "duration": 44,
    "start_time": "2021-11-26T20:35:51.152Z"
   },
   {
    "duration": 16,
    "start_time": "2021-11-26T20:35:51.198Z"
   },
   {
    "duration": 17,
    "start_time": "2021-11-26T20:35:51.215Z"
   },
   {
    "duration": 5,
    "start_time": "2021-11-26T20:35:51.234Z"
   },
   {
    "duration": 17,
    "start_time": "2021-11-26T20:35:51.240Z"
   },
   {
    "duration": 32,
    "start_time": "2021-11-26T20:35:51.259Z"
   },
   {
    "duration": 15,
    "start_time": "2021-11-26T20:35:51.293Z"
   },
   {
    "duration": 7,
    "start_time": "2021-11-26T20:35:51.309Z"
   },
   {
    "duration": 12,
    "start_time": "2021-11-26T20:35:51.317Z"
   },
   {
    "duration": 9,
    "start_time": "2021-11-26T20:35:51.330Z"
   },
   {
    "duration": 4,
    "start_time": "2021-11-26T20:35:51.341Z"
   },
   {
    "duration": 46,
    "start_time": "2021-11-26T20:35:51.347Z"
   },
   {
    "duration": 210,
    "start_time": "2021-11-26T20:35:51.395Z"
   },
   {
    "duration": 7,
    "start_time": "2021-11-26T20:35:51.607Z"
   },
   {
    "duration": 12,
    "start_time": "2021-11-26T20:35:51.616Z"
   },
   {
    "duration": 4,
    "start_time": "2021-11-26T20:35:51.630Z"
   },
   {
    "duration": 10,
    "start_time": "2021-11-26T20:35:51.636Z"
   },
   {
    "duration": 51,
    "start_time": "2021-11-26T20:35:51.648Z"
   },
   {
    "duration": 4,
    "start_time": "2021-11-26T20:35:51.700Z"
   },
   {
    "duration": 7,
    "start_time": "2021-11-26T20:35:51.706Z"
   },
   {
    "duration": 9,
    "start_time": "2021-11-26T20:35:51.714Z"
   },
   {
    "duration": 6,
    "start_time": "2021-11-26T20:35:51.724Z"
   },
   {
    "duration": 11,
    "start_time": "2021-11-26T20:35:51.732Z"
   },
   {
    "duration": 423,
    "start_time": "2021-11-27T10:27:27.278Z"
   },
   {
    "duration": 992,
    "start_time": "2021-11-27T10:27:36.777Z"
   },
   {
    "duration": 40,
    "start_time": "2021-11-27T10:27:37.773Z"
   },
   {
    "duration": 5,
    "start_time": "2021-11-27T10:27:37.816Z"
   },
   {
    "duration": 6,
    "start_time": "2021-11-27T10:27:37.824Z"
   },
   {
    "duration": 50,
    "start_time": "2021-11-27T10:27:37.833Z"
   },
   {
    "duration": 16,
    "start_time": "2021-11-27T10:27:37.885Z"
   },
   {
    "duration": 33,
    "start_time": "2021-11-27T10:27:37.903Z"
   },
   {
    "duration": 53,
    "start_time": "2021-11-27T10:27:37.940Z"
   },
   {
    "duration": 24,
    "start_time": "2021-11-27T10:27:37.997Z"
   },
   {
    "duration": 27,
    "start_time": "2021-11-27T10:27:38.024Z"
   },
   {
    "duration": 12,
    "start_time": "2021-11-27T10:27:38.082Z"
   },
   {
    "duration": 18,
    "start_time": "2021-11-27T10:27:38.096Z"
   },
   {
    "duration": 69,
    "start_time": "2021-11-27T10:27:38.117Z"
   },
   {
    "duration": 34,
    "start_time": "2021-11-27T10:27:38.189Z"
   },
   {
    "duration": 70,
    "start_time": "2021-11-27T10:27:38.225Z"
   },
   {
    "duration": 22,
    "start_time": "2021-11-27T10:27:38.297Z"
   },
   {
    "duration": 19,
    "start_time": "2021-11-27T10:27:38.322Z"
   },
   {
    "duration": 51,
    "start_time": "2021-11-27T10:27:38.344Z"
   },
   {
    "duration": 12,
    "start_time": "2021-11-27T10:27:38.398Z"
   },
   {
    "duration": 18,
    "start_time": "2021-11-27T10:27:38.413Z"
   },
   {
    "duration": 11,
    "start_time": "2021-11-27T10:27:38.433Z"
   },
   {
    "duration": 34,
    "start_time": "2021-11-27T10:27:38.482Z"
   },
   {
    "duration": 74,
    "start_time": "2021-11-27T10:27:38.526Z"
   },
   {
    "duration": 20,
    "start_time": "2021-11-27T10:27:38.605Z"
   },
   {
    "duration": 8,
    "start_time": "2021-11-27T10:27:38.628Z"
   },
   {
    "duration": 52,
    "start_time": "2021-11-27T10:27:38.638Z"
   },
   {
    "duration": 26,
    "start_time": "2021-11-27T10:27:38.693Z"
   },
   {
    "duration": 7,
    "start_time": "2021-11-27T10:27:38.722Z"
   },
   {
    "duration": 74,
    "start_time": "2021-11-27T10:27:38.731Z"
   },
   {
    "duration": 19,
    "start_time": "2021-11-27T10:27:38.808Z"
   },
   {
    "duration": 18,
    "start_time": "2021-11-27T10:27:38.830Z"
   },
   {
    "duration": 39,
    "start_time": "2021-11-27T10:27:38.851Z"
   },
   {
    "duration": 10,
    "start_time": "2021-11-27T10:27:38.893Z"
   },
   {
    "duration": 28,
    "start_time": "2021-11-27T10:27:38.906Z"
   },
   {
    "duration": 59,
    "start_time": "2021-11-27T10:27:38.937Z"
   },
   {
    "duration": 34,
    "start_time": "2021-11-27T10:27:38.999Z"
   },
   {
    "duration": 66,
    "start_time": "2021-11-27T10:27:39.035Z"
   },
   {
    "duration": 8,
    "start_time": "2021-11-27T10:27:39.104Z"
   },
   {
    "duration": 68,
    "start_time": "2021-11-27T10:27:39.115Z"
   },
   {
    "duration": 7,
    "start_time": "2021-11-27T10:27:39.186Z"
   },
   {
    "duration": 28,
    "start_time": "2021-11-27T10:27:39.196Z"
   },
   {
    "duration": 10,
    "start_time": "2021-11-27T10:27:39.227Z"
   },
   {
    "duration": 47,
    "start_time": "2021-11-27T10:27:39.240Z"
   },
   {
    "duration": 12,
    "start_time": "2021-11-27T10:27:39.291Z"
   },
   {
    "duration": 7,
    "start_time": "2021-11-27T10:27:39.306Z"
   },
   {
    "duration": 22,
    "start_time": "2021-11-27T10:27:39.315Z"
   },
   {
    "duration": 314,
    "start_time": "2021-11-27T10:27:39.382Z"
   },
   {
    "duration": 9,
    "start_time": "2021-11-27T10:27:39.698Z"
   },
   {
    "duration": 20,
    "start_time": "2021-11-27T10:27:39.710Z"
   },
   {
    "duration": 12,
    "start_time": "2021-11-27T10:27:39.732Z"
   },
   {
    "duration": 51,
    "start_time": "2021-11-27T10:27:39.747Z"
   },
   {
    "duration": 35,
    "start_time": "2021-11-27T10:27:39.801Z"
   },
   {
    "duration": 6,
    "start_time": "2021-11-27T10:27:39.839Z"
   },
   {
    "duration": 43,
    "start_time": "2021-11-27T10:27:39.847Z"
   },
   {
    "duration": 13,
    "start_time": "2021-11-27T10:27:39.893Z"
   },
   {
    "duration": 10,
    "start_time": "2021-11-27T10:27:39.908Z"
   },
   {
    "duration": 13,
    "start_time": "2021-11-27T10:27:39.921Z"
   },
   {
    "duration": 589,
    "start_time": "2021-11-27T10:28:23.082Z"
   },
   {
    "duration": 36,
    "start_time": "2021-11-27T10:28:27.627Z"
   },
   {
    "duration": 31,
    "start_time": "2021-11-27T10:28:30.770Z"
   },
   {
    "duration": 35,
    "start_time": "2021-11-27T10:32:25.188Z"
   },
   {
    "duration": 25,
    "start_time": "2021-11-27T10:32:50.114Z"
   },
   {
    "duration": 8,
    "start_time": "2021-11-27T11:33:22.833Z"
   },
   {
    "duration": 8,
    "start_time": "2021-11-27T11:33:26.168Z"
   },
   {
    "duration": 219,
    "start_time": "2021-11-27T12:03:00.488Z"
   },
   {
    "duration": 694,
    "start_time": "2021-11-27T12:03:06.569Z"
   },
   {
    "duration": 42,
    "start_time": "2021-11-27T12:03:07.266Z"
   },
   {
    "duration": 4,
    "start_time": "2021-11-27T12:03:07.310Z"
   },
   {
    "duration": 7,
    "start_time": "2021-11-27T12:03:07.315Z"
   },
   {
    "duration": 20,
    "start_time": "2021-11-27T12:03:07.323Z"
   },
   {
    "duration": 21,
    "start_time": "2021-11-27T12:03:07.345Z"
   },
   {
    "duration": 29,
    "start_time": "2021-11-27T12:03:07.368Z"
   },
   {
    "duration": 14,
    "start_time": "2021-11-27T12:03:07.400Z"
   },
   {
    "duration": 16,
    "start_time": "2021-11-27T12:03:07.416Z"
   },
   {
    "duration": 36,
    "start_time": "2021-11-27T12:03:07.434Z"
   },
   {
    "duration": 38,
    "start_time": "2021-11-27T12:03:07.472Z"
   },
   {
    "duration": 31,
    "start_time": "2021-11-27T12:03:07.511Z"
   },
   {
    "duration": 31,
    "start_time": "2021-11-27T12:03:07.543Z"
   },
   {
    "duration": 34,
    "start_time": "2021-11-27T12:03:07.576Z"
   },
   {
    "duration": 22,
    "start_time": "2021-11-27T12:03:07.612Z"
   },
   {
    "duration": 13,
    "start_time": "2021-11-27T12:03:07.636Z"
   },
   {
    "duration": 219,
    "start_time": "2021-11-27T12:03:12.491Z"
   },
   {
    "duration": 239,
    "start_time": "2021-11-27T12:03:20.285Z"
   },
   {
    "duration": 6,
    "start_time": "2021-11-27T12:03:35.942Z"
   },
   {
    "duration": 15,
    "start_time": "2021-11-27T12:03:45.905Z"
   },
   {
    "duration": 9,
    "start_time": "2021-11-27T12:07:55.451Z"
   },
   {
    "duration": 5,
    "start_time": "2021-11-27T12:09:45.300Z"
   },
   {
    "duration": 5,
    "start_time": "2021-11-27T12:09:55.012Z"
   },
   {
    "duration": 4,
    "start_time": "2021-11-27T12:10:07.347Z"
   },
   {
    "duration": 4,
    "start_time": "2021-11-27T12:10:12.119Z"
   },
   {
    "duration": 173,
    "start_time": "2021-11-27T12:23:35.448Z"
   },
   {
    "duration": 70,
    "start_time": "2021-11-27T12:23:40.942Z"
   },
   {
    "duration": 40,
    "start_time": "2021-11-27T12:23:41.014Z"
   },
   {
    "duration": 19,
    "start_time": "2021-11-27T12:23:41.057Z"
   },
   {
    "duration": 16,
    "start_time": "2021-11-27T12:23:41.078Z"
   },
   {
    "duration": 35,
    "start_time": "2021-11-27T12:23:41.095Z"
   },
   {
    "duration": 27,
    "start_time": "2021-11-27T12:23:41.132Z"
   },
   {
    "duration": 28,
    "start_time": "2021-11-27T12:23:41.160Z"
   },
   {
    "duration": 24,
    "start_time": "2021-11-27T12:23:41.191Z"
   },
   {
    "duration": 18,
    "start_time": "2021-11-27T12:23:41.218Z"
   },
   {
    "duration": 36,
    "start_time": "2021-11-27T12:23:41.238Z"
   },
   {
    "duration": 7,
    "start_time": "2021-11-27T12:23:41.276Z"
   },
   {
    "duration": 27,
    "start_time": "2021-11-27T12:23:41.285Z"
   },
   {
    "duration": 42,
    "start_time": "2021-11-27T12:23:41.314Z"
   },
   {
    "duration": 47,
    "start_time": "2021-11-27T12:23:41.357Z"
   },
   {
    "duration": 23,
    "start_time": "2021-11-27T12:23:41.406Z"
   },
   {
    "duration": 9,
    "start_time": "2021-11-27T12:23:41.430Z"
   },
   {
    "duration": 33,
    "start_time": "2021-11-27T12:23:41.441Z"
   },
   {
    "duration": 17,
    "start_time": "2021-11-27T12:23:41.476Z"
   },
   {
    "duration": 12,
    "start_time": "2021-11-27T12:23:41.494Z"
   },
   {
    "duration": 21,
    "start_time": "2021-11-27T12:23:41.508Z"
   },
   {
    "duration": 35,
    "start_time": "2021-11-27T12:23:41.530Z"
   },
   {
    "duration": 18,
    "start_time": "2021-11-27T12:23:41.567Z"
   },
   {
    "duration": 34,
    "start_time": "2021-11-27T12:23:41.588Z"
   },
   {
    "duration": 10,
    "start_time": "2021-11-27T12:23:41.623Z"
   },
   {
    "duration": 23,
    "start_time": "2021-11-27T12:23:41.634Z"
   },
   {
    "duration": 28,
    "start_time": "2021-11-27T12:23:41.659Z"
   },
   {
    "duration": 27,
    "start_time": "2021-11-27T12:23:41.688Z"
   },
   {
    "duration": 36,
    "start_time": "2021-11-27T12:23:41.717Z"
   },
   {
    "duration": 36,
    "start_time": "2021-11-27T12:23:41.755Z"
   },
   {
    "duration": 10,
    "start_time": "2021-11-27T12:23:41.793Z"
   },
   {
    "duration": 32,
    "start_time": "2021-11-27T12:23:41.805Z"
   },
   {
    "duration": 208,
    "start_time": "2021-11-27T12:23:43.993Z"
   },
   {
    "duration": 174,
    "start_time": "2021-11-27T12:29:10.668Z"
   },
   {
    "duration": 235,
    "start_time": "2021-11-27T12:30:00.001Z"
   },
   {
    "duration": 205,
    "start_time": "2021-11-27T12:30:46.288Z"
   },
   {
    "duration": 186,
    "start_time": "2021-11-27T12:30:59.196Z"
   },
   {
    "duration": 4677,
    "start_time": "2021-11-27T12:31:06.788Z"
   },
   {
    "duration": 188,
    "start_time": "2021-11-27T12:31:42.799Z"
   },
   {
    "duration": 173,
    "start_time": "2021-11-27T12:31:45.894Z"
   },
   {
    "duration": 270,
    "start_time": "2021-11-27T12:33:01.373Z"
   },
   {
    "duration": 181,
    "start_time": "2021-11-27T12:33:13.362Z"
   },
   {
    "duration": 206,
    "start_time": "2021-11-27T12:33:21.972Z"
   },
   {
    "duration": 194,
    "start_time": "2021-11-27T12:33:53.177Z"
   },
   {
    "duration": 188,
    "start_time": "2021-11-27T12:33:57.828Z"
   },
   {
    "duration": 205,
    "start_time": "2021-11-27T12:35:19.162Z"
   },
   {
    "duration": 426,
    "start_time": "2021-11-27T12:35:24.084Z"
   },
   {
    "duration": 542,
    "start_time": "2021-11-27T12:37:11.685Z"
   },
   {
    "duration": 40,
    "start_time": "2021-11-27T12:37:12.228Z"
   },
   {
    "duration": 4,
    "start_time": "2021-11-27T12:37:12.270Z"
   },
   {
    "duration": 5,
    "start_time": "2021-11-27T12:37:12.276Z"
   },
   {
    "duration": 18,
    "start_time": "2021-11-27T12:37:12.283Z"
   },
   {
    "duration": 9,
    "start_time": "2021-11-27T12:37:12.303Z"
   },
   {
    "duration": 20,
    "start_time": "2021-11-27T12:37:12.314Z"
   },
   {
    "duration": 11,
    "start_time": "2021-11-27T12:37:12.337Z"
   },
   {
    "duration": 14,
    "start_time": "2021-11-27T12:37:12.350Z"
   },
   {
    "duration": 40,
    "start_time": "2021-11-27T12:37:12.366Z"
   },
   {
    "duration": 6,
    "start_time": "2021-11-27T12:37:12.407Z"
   },
   {
    "duration": 12,
    "start_time": "2021-11-27T12:37:12.415Z"
   },
   {
    "duration": 22,
    "start_time": "2021-11-27T12:37:12.429Z"
   },
   {
    "duration": 52,
    "start_time": "2021-11-27T12:37:12.452Z"
   },
   {
    "duration": 25,
    "start_time": "2021-11-27T12:37:12.506Z"
   },
   {
    "duration": 9,
    "start_time": "2021-11-27T12:37:12.532Z"
   },
   {
    "duration": 15,
    "start_time": "2021-11-27T12:37:12.542Z"
   },
   {
    "duration": 36,
    "start_time": "2021-11-27T12:37:12.559Z"
   },
   {
    "duration": 6,
    "start_time": "2021-11-27T12:37:12.596Z"
   },
   {
    "duration": 10,
    "start_time": "2021-11-27T12:37:12.603Z"
   },
   {
    "duration": 7,
    "start_time": "2021-11-27T12:37:12.615Z"
   },
   {
    "duration": 13,
    "start_time": "2021-11-27T12:37:12.623Z"
   },
   {
    "duration": 55,
    "start_time": "2021-11-27T12:37:12.640Z"
   },
   {
    "duration": 11,
    "start_time": "2021-11-27T12:37:12.697Z"
   },
   {
    "duration": 4,
    "start_time": "2021-11-27T12:37:12.709Z"
   },
   {
    "duration": 11,
    "start_time": "2021-11-27T12:37:12.715Z"
   },
   {
    "duration": 14,
    "start_time": "2021-11-27T12:37:12.728Z"
   },
   {
    "duration": 3,
    "start_time": "2021-11-27T12:37:12.743Z"
   },
   {
    "duration": 47,
    "start_time": "2021-11-27T12:37:12.748Z"
   },
   {
    "duration": 9,
    "start_time": "2021-11-27T12:37:12.797Z"
   },
   {
    "duration": 8,
    "start_time": "2021-11-27T12:37:12.808Z"
   },
   {
    "duration": 60,
    "start_time": "2021-11-27T12:38:06.493Z"
   },
   {
    "duration": 223,
    "start_time": "2021-11-27T12:38:13.169Z"
   },
   {
    "duration": 180,
    "start_time": "2021-11-27T12:38:20.077Z"
   },
   {
    "duration": 185,
    "start_time": "2021-11-27T12:39:01.461Z"
   },
   {
    "duration": 213,
    "start_time": "2021-11-27T12:39:22.244Z"
   },
   {
    "duration": 188,
    "start_time": "2021-11-27T12:39:28.418Z"
   },
   {
    "duration": 141,
    "start_time": "2021-11-27T12:39:42.351Z"
   },
   {
    "duration": 213,
    "start_time": "2021-11-27T12:40:02.229Z"
   },
   {
    "duration": 194,
    "start_time": "2021-11-27T12:40:12.536Z"
   },
   {
    "duration": 187,
    "start_time": "2021-11-27T12:42:43.897Z"
   },
   {
    "duration": 3,
    "start_time": "2021-11-27T12:43:12.323Z"
   },
   {
    "duration": 4,
    "start_time": "2021-11-27T12:43:15.325Z"
   },
   {
    "duration": 195,
    "start_time": "2021-11-27T12:43:31.778Z"
   },
   {
    "duration": 189,
    "start_time": "2021-11-27T12:43:44.233Z"
   },
   {
    "duration": 13,
    "start_time": "2021-11-27T12:46:06.297Z"
   },
   {
    "duration": 9,
    "start_time": "2021-11-27T12:46:25.633Z"
   },
   {
    "duration": 209,
    "start_time": "2021-11-27T12:46:48.954Z"
   },
   {
    "duration": 272,
    "start_time": "2021-11-27T12:47:27.594Z"
   },
   {
    "duration": 13,
    "start_time": "2021-11-27T12:48:09.061Z"
   },
   {
    "duration": 189,
    "start_time": "2021-11-27T12:48:12.147Z"
   },
   {
    "duration": 13,
    "start_time": "2021-11-27T12:48:27.784Z"
   },
   {
    "duration": 175,
    "start_time": "2021-11-27T12:49:10.988Z"
   },
   {
    "duration": 72,
    "start_time": "2021-11-27T12:49:16.815Z"
   },
   {
    "duration": 41,
    "start_time": "2021-11-27T12:49:16.889Z"
   },
   {
    "duration": 4,
    "start_time": "2021-11-27T12:49:16.932Z"
   },
   {
    "duration": 5,
    "start_time": "2021-11-27T12:49:16.938Z"
   },
   {
    "duration": 22,
    "start_time": "2021-11-27T12:49:16.945Z"
   },
   {
    "duration": 9,
    "start_time": "2021-11-27T12:49:16.968Z"
   },
   {
    "duration": 29,
    "start_time": "2021-11-27T12:49:16.978Z"
   },
   {
    "duration": 11,
    "start_time": "2021-11-27T12:49:17.010Z"
   },
   {
    "duration": 15,
    "start_time": "2021-11-27T12:49:17.023Z"
   },
   {
    "duration": 18,
    "start_time": "2021-11-27T12:49:17.040Z"
   },
   {
    "duration": 32,
    "start_time": "2021-11-27T12:49:17.060Z"
   },
   {
    "duration": 9,
    "start_time": "2021-11-27T12:49:17.094Z"
   },
   {
    "duration": 25,
    "start_time": "2021-11-27T12:49:17.105Z"
   },
   {
    "duration": 23,
    "start_time": "2021-11-27T12:49:17.132Z"
   },
   {
    "duration": 51,
    "start_time": "2021-11-27T12:49:17.157Z"
   },
   {
    "duration": 10,
    "start_time": "2021-11-27T12:49:17.210Z"
   },
   {
    "duration": 22,
    "start_time": "2021-11-27T12:49:17.221Z"
   },
   {
    "duration": 15,
    "start_time": "2021-11-27T12:49:17.244Z"
   },
   {
    "duration": 32,
    "start_time": "2021-11-27T12:49:17.260Z"
   },
   {
    "duration": 9,
    "start_time": "2021-11-27T12:49:17.294Z"
   },
   {
    "duration": 8,
    "start_time": "2021-11-27T12:49:17.305Z"
   },
   {
    "duration": 17,
    "start_time": "2021-11-27T12:49:17.314Z"
   },
   {
    "duration": 21,
    "start_time": "2021-11-27T12:49:17.334Z"
   },
   {
    "duration": 39,
    "start_time": "2021-11-27T12:49:17.357Z"
   },
   {
    "duration": 4,
    "start_time": "2021-11-27T12:49:17.397Z"
   },
   {
    "duration": 12,
    "start_time": "2021-11-27T12:49:17.403Z"
   },
   {
    "duration": 20,
    "start_time": "2021-11-27T12:49:17.416Z"
   },
   {
    "duration": 8,
    "start_time": "2021-11-27T12:49:17.438Z"
   },
   {
    "duration": 50,
    "start_time": "2021-11-27T12:49:17.447Z"
   },
   {
    "duration": 11,
    "start_time": "2021-11-27T12:49:17.499Z"
   },
   {
    "duration": 8,
    "start_time": "2021-11-27T12:49:17.512Z"
   },
   {
    "duration": 237,
    "start_time": "2021-11-27T12:49:17.522Z"
   },
   {
    "duration": 4,
    "start_time": "2021-11-27T12:49:17.760Z"
   },
   {
    "duration": 9,
    "start_time": "2021-11-27T12:49:17.765Z"
   },
   {
    "duration": 22,
    "start_time": "2021-11-27T12:49:17.776Z"
   },
   {
    "duration": 207,
    "start_time": "2021-11-27T12:49:17.799Z"
   },
   {
    "duration": 9,
    "start_time": "2021-11-27T12:49:18.008Z"
   },
   {
    "duration": 325,
    "start_time": "2021-11-27T12:49:18.019Z"
   },
   {
    "duration": 20,
    "start_time": "2021-11-27T12:49:18.346Z"
   },
   {
    "duration": 5,
    "start_time": "2021-11-27T12:49:18.367Z"
   },
   {
    "duration": 22,
    "start_time": "2021-11-27T12:49:18.374Z"
   },
   {
    "duration": 240,
    "start_time": "2021-11-27T12:49:20.343Z"
   },
   {
    "duration": 274,
    "start_time": "2021-11-27T16:44:37.065Z"
   },
   {
    "duration": 288,
    "start_time": "2021-11-27T16:44:42.419Z"
   },
   {
    "duration": 270,
    "start_time": "2021-11-27T16:44:47.912Z"
   },
   {
    "duration": 470,
    "start_time": "2021-11-27T16:44:56.315Z"
   },
   {
    "duration": 569,
    "start_time": "2021-11-27T16:45:44.226Z"
   },
   {
    "duration": 386,
    "start_time": "2021-11-27T16:46:01.653Z"
   },
   {
    "duration": 356,
    "start_time": "2021-11-27T16:47:01.656Z"
   },
   {
    "duration": 588,
    "start_time": "2021-11-27T16:48:37.320Z"
   },
   {
    "duration": 684,
    "start_time": "2021-11-27T16:48:53.202Z"
   },
   {
    "duration": 371,
    "start_time": "2021-11-27T16:49:18.446Z"
   },
   {
    "duration": 425,
    "start_time": "2021-11-27T16:49:40.940Z"
   },
   {
    "duration": 379,
    "start_time": "2021-11-27T16:50:42.648Z"
   },
   {
    "duration": 598,
    "start_time": "2021-11-27T16:50:54.548Z"
   },
   {
    "duration": 386,
    "start_time": "2021-11-27T16:51:08.625Z"
   },
   {
    "duration": 390,
    "start_time": "2021-11-27T16:52:30.873Z"
   },
   {
    "duration": 176,
    "start_time": "2021-11-27T17:27:28.616Z"
   },
   {
    "duration": 70,
    "start_time": "2021-11-27T17:27:35.669Z"
   },
   {
    "duration": 41,
    "start_time": "2021-11-27T17:27:35.740Z"
   },
   {
    "duration": 30,
    "start_time": "2021-11-27T17:27:35.783Z"
   },
   {
    "duration": 18,
    "start_time": "2021-11-27T17:27:35.815Z"
   },
   {
    "duration": 38,
    "start_time": "2021-11-27T17:27:35.835Z"
   },
   {
    "duration": 20,
    "start_time": "2021-11-27T17:27:35.875Z"
   },
   {
    "duration": 35,
    "start_time": "2021-11-27T17:27:35.897Z"
   },
   {
    "duration": 13,
    "start_time": "2021-11-27T17:27:35.935Z"
   },
   {
    "duration": 15,
    "start_time": "2021-11-27T17:27:35.951Z"
   },
   {
    "duration": 27,
    "start_time": "2021-11-27T17:27:35.968Z"
   },
   {
    "duration": 26,
    "start_time": "2021-11-27T17:27:35.996Z"
   },
   {
    "duration": 29,
    "start_time": "2021-11-27T17:27:36.024Z"
   },
   {
    "duration": 53,
    "start_time": "2021-11-27T17:27:36.055Z"
   },
   {
    "duration": 23,
    "start_time": "2021-11-27T17:27:36.110Z"
   },
   {
    "duration": 23,
    "start_time": "2021-11-27T17:27:36.135Z"
   },
   {
    "duration": 9,
    "start_time": "2021-11-27T17:27:36.160Z"
   },
   {
    "duration": 35,
    "start_time": "2021-11-27T17:27:36.170Z"
   },
   {
    "duration": 27,
    "start_time": "2021-11-27T17:27:36.207Z"
   },
   {
    "duration": 12,
    "start_time": "2021-11-27T17:27:36.236Z"
   },
   {
    "duration": 43,
    "start_time": "2021-11-27T17:27:36.249Z"
   },
   {
    "duration": 15,
    "start_time": "2021-11-27T17:27:36.294Z"
   },
   {
    "duration": 23,
    "start_time": "2021-11-27T17:27:36.311Z"
   },
   {
    "duration": 34,
    "start_time": "2021-11-27T17:27:36.338Z"
   },
   {
    "duration": 9,
    "start_time": "2021-11-27T17:27:36.374Z"
   },
   {
    "duration": 10,
    "start_time": "2021-11-27T17:27:36.384Z"
   },
   {
    "duration": 24,
    "start_time": "2021-11-27T17:27:36.395Z"
   },
   {
    "duration": 30,
    "start_time": "2021-11-27T17:27:36.420Z"
   },
   {
    "duration": 29,
    "start_time": "2021-11-27T17:27:36.452Z"
   },
   {
    "duration": 45,
    "start_time": "2021-11-27T17:27:36.483Z"
   },
   {
    "duration": 9,
    "start_time": "2021-11-27T17:27:36.530Z"
   },
   {
    "duration": 27,
    "start_time": "2021-11-27T17:27:36.541Z"
   },
   {
    "duration": 215,
    "start_time": "2021-11-27T17:27:36.569Z"
   },
   {
    "duration": 7,
    "start_time": "2021-11-27T17:27:36.786Z"
   },
   {
    "duration": 20,
    "start_time": "2021-11-27T17:27:36.794Z"
   },
   {
    "duration": 37,
    "start_time": "2021-11-27T17:27:36.816Z"
   },
   {
    "duration": 216,
    "start_time": "2021-11-27T17:27:36.856Z"
   },
   {
    "duration": 18,
    "start_time": "2021-11-27T17:27:37.074Z"
   },
   {
    "duration": 30,
    "start_time": "2021-11-27T17:27:37.094Z"
   },
   {
    "duration": 23,
    "start_time": "2021-11-27T17:27:37.126Z"
   },
   {
    "duration": 404,
    "start_time": "2021-11-27T17:27:37.150Z"
   },
   {
    "duration": 5,
    "start_time": "2021-11-27T17:27:37.556Z"
   },
   {
    "duration": 37,
    "start_time": "2021-11-27T17:27:37.562Z"
   },
   {
    "duration": 390,
    "start_time": "2021-11-27T17:27:37.601Z"
   },
   {
    "duration": 6,
    "start_time": "2021-11-27T17:27:37.993Z"
   },
   {
    "duration": 24,
    "start_time": "2021-11-27T17:27:38.001Z"
   },
   {
    "duration": 8,
    "start_time": "2021-11-27T17:27:38.026Z"
   },
   {
    "duration": 10,
    "start_time": "2021-11-27T17:27:38.035Z"
   },
   {
    "duration": 5,
    "start_time": "2021-11-27T17:27:38.047Z"
   },
   {
    "duration": 5,
    "start_time": "2021-11-27T17:27:38.054Z"
   },
   {
    "duration": 15,
    "start_time": "2021-11-27T17:27:39.971Z"
   },
   {
    "duration": 203,
    "start_time": "2021-11-27T17:27:43.642Z"
   },
   {
    "duration": 1151,
    "start_time": "2021-11-27T17:59:40.398Z"
   },
   {
    "duration": 39,
    "start_time": "2021-11-27T17:59:41.550Z"
   },
   {
    "duration": 3,
    "start_time": "2021-11-27T17:59:41.591Z"
   },
   {
    "duration": 4,
    "start_time": "2021-11-27T17:59:41.596Z"
   },
   {
    "duration": 17,
    "start_time": "2021-11-27T17:59:41.602Z"
   },
   {
    "duration": 9,
    "start_time": "2021-11-27T17:59:41.620Z"
   },
   {
    "duration": 19,
    "start_time": "2021-11-27T17:59:41.630Z"
   },
   {
    "duration": 40,
    "start_time": "2021-11-27T17:59:41.651Z"
   },
   {
    "duration": 15,
    "start_time": "2021-11-27T17:59:41.693Z"
   },
   {
    "duration": 20,
    "start_time": "2021-11-27T17:59:41.710Z"
   },
   {
    "duration": 6,
    "start_time": "2021-11-27T17:59:41.731Z"
   },
   {
    "duration": 9,
    "start_time": "2021-11-27T17:59:41.739Z"
   },
   {
    "duration": 47,
    "start_time": "2021-11-27T17:59:41.750Z"
   },
   {
    "duration": 23,
    "start_time": "2021-11-27T17:59:41.799Z"
   },
   {
    "duration": 23,
    "start_time": "2021-11-27T17:59:41.823Z"
   },
   {
    "duration": 9,
    "start_time": "2021-11-27T17:59:41.847Z"
   },
   {
    "duration": 36,
    "start_time": "2021-11-27T17:59:41.857Z"
   },
   {
    "duration": 12,
    "start_time": "2021-11-27T17:59:41.894Z"
   },
   {
    "duration": 5,
    "start_time": "2021-11-27T17:59:41.908Z"
   },
   {
    "duration": 8,
    "start_time": "2021-11-27T17:59:41.915Z"
   },
   {
    "duration": 6,
    "start_time": "2021-11-27T17:59:41.924Z"
   },
   {
    "duration": 12,
    "start_time": "2021-11-27T17:59:41.932Z"
   },
   {
    "duration": 51,
    "start_time": "2021-11-27T17:59:41.948Z"
   },
   {
    "duration": 10,
    "start_time": "2021-11-27T17:59:42.001Z"
   },
   {
    "duration": 4,
    "start_time": "2021-11-27T17:59:42.012Z"
   },
   {
    "duration": 10,
    "start_time": "2021-11-27T17:59:42.017Z"
   },
   {
    "duration": 15,
    "start_time": "2021-11-27T17:59:42.029Z"
   },
   {
    "duration": 3,
    "start_time": "2021-11-27T17:59:42.046Z"
   },
   {
    "duration": 53,
    "start_time": "2021-11-27T17:59:42.050Z"
   },
   {
    "duration": 8,
    "start_time": "2021-11-27T17:59:42.104Z"
   },
   {
    "duration": 6,
    "start_time": "2021-11-27T17:59:42.114Z"
   },
   {
    "duration": 204,
    "start_time": "2021-11-27T17:59:42.122Z"
   },
   {
    "duration": 3,
    "start_time": "2021-11-27T17:59:42.328Z"
   },
   {
    "duration": 10,
    "start_time": "2021-11-27T17:59:42.332Z"
   },
   {
    "duration": 12,
    "start_time": "2021-11-27T17:59:42.344Z"
   },
   {
    "duration": 208,
    "start_time": "2021-11-27T17:59:42.358Z"
   },
   {
    "duration": 8,
    "start_time": "2021-11-27T17:59:42.568Z"
   },
   {
    "duration": 22,
    "start_time": "2021-11-27T17:59:42.578Z"
   },
   {
    "duration": 19,
    "start_time": "2021-11-27T17:59:42.602Z"
   },
   {
    "duration": 411,
    "start_time": "2021-11-27T17:59:42.623Z"
   },
   {
    "duration": 5,
    "start_time": "2021-11-27T17:59:43.035Z"
   },
   {
    "duration": 21,
    "start_time": "2021-11-27T17:59:43.042Z"
   },
   {
    "duration": 402,
    "start_time": "2021-11-27T17:59:43.065Z"
   },
   {
    "duration": 6,
    "start_time": "2021-11-27T17:59:43.468Z"
   },
   {
    "duration": 30,
    "start_time": "2021-11-27T17:59:43.475Z"
   },
   {
    "duration": 7,
    "start_time": "2021-11-27T17:59:43.507Z"
   },
   {
    "duration": 10,
    "start_time": "2021-11-27T17:59:43.516Z"
   },
   {
    "duration": 8,
    "start_time": "2021-11-27T17:59:43.527Z"
   },
   {
    "duration": 5,
    "start_time": "2021-11-27T17:59:43.536Z"
   },
   {
    "duration": 15,
    "start_time": "2021-11-27T17:59:43.542Z"
   },
   {
    "duration": 241,
    "start_time": "2021-11-27T17:59:43.559Z"
   },
   {
    "duration": 5,
    "start_time": "2021-11-27T17:59:43.802Z"
   },
   {
    "duration": 14,
    "start_time": "2021-11-27T17:59:43.808Z"
   },
   {
    "duration": 8,
    "start_time": "2021-11-27T17:59:43.823Z"
   },
   {
    "duration": 11,
    "start_time": "2021-11-27T17:59:43.833Z"
   },
   {
    "duration": 19,
    "start_time": "2021-11-27T17:59:43.846Z"
   },
   {
    "duration": 4,
    "start_time": "2021-11-27T17:59:43.891Z"
   },
   {
    "duration": 8,
    "start_time": "2021-11-27T17:59:43.896Z"
   },
   {
    "duration": 9,
    "start_time": "2021-11-27T17:59:43.905Z"
   },
   {
    "duration": 7,
    "start_time": "2021-11-27T17:59:43.915Z"
   },
   {
    "duration": 10,
    "start_time": "2021-11-27T17:59:43.923Z"
   },
   {
    "duration": 361,
    "start_time": "2021-11-28T12:07:43.661Z"
   },
   {
    "duration": 1195,
    "start_time": "2021-11-28T12:07:48.174Z"
   },
   {
    "duration": 39,
    "start_time": "2021-11-28T12:07:49.371Z"
   },
   {
    "duration": 25,
    "start_time": "2021-11-28T12:07:49.412Z"
   },
   {
    "duration": 20,
    "start_time": "2021-11-28T12:07:49.438Z"
   },
   {
    "duration": 45,
    "start_time": "2021-11-28T12:07:49.460Z"
   },
   {
    "duration": 10,
    "start_time": "2021-11-28T12:07:49.507Z"
   },
   {
    "duration": 46,
    "start_time": "2021-11-28T12:07:49.519Z"
   },
   {
    "duration": 12,
    "start_time": "2021-11-28T12:07:49.569Z"
   },
   {
    "duration": 25,
    "start_time": "2021-11-28T12:07:49.583Z"
   },
   {
    "duration": 18,
    "start_time": "2021-11-28T12:07:49.610Z"
   },
   {
    "duration": 20,
    "start_time": "2021-11-28T12:07:49.630Z"
   },
   {
    "duration": 24,
    "start_time": "2021-11-28T12:07:49.652Z"
   },
   {
    "duration": 43,
    "start_time": "2021-11-28T12:07:49.678Z"
   },
   {
    "duration": 24,
    "start_time": "2021-11-28T12:07:49.723Z"
   },
   {
    "duration": 23,
    "start_time": "2021-11-28T12:07:49.748Z"
   },
   {
    "duration": 10,
    "start_time": "2021-11-28T12:07:49.773Z"
   },
   {
    "duration": 34,
    "start_time": "2021-11-28T12:07:49.785Z"
   },
   {
    "duration": 20,
    "start_time": "2021-11-28T12:07:49.821Z"
   },
   {
    "duration": 36,
    "start_time": "2021-11-28T12:07:49.842Z"
   },
   {
    "duration": 32,
    "start_time": "2021-11-28T12:07:49.880Z"
   },
   {
    "duration": 30,
    "start_time": "2021-11-28T12:07:49.914Z"
   },
   {
    "duration": 36,
    "start_time": "2021-11-28T12:07:49.946Z"
   },
   {
    "duration": 37,
    "start_time": "2021-11-28T12:07:49.986Z"
   },
   {
    "duration": 18,
    "start_time": "2021-11-28T12:07:50.026Z"
   },
   {
    "duration": 24,
    "start_time": "2021-11-28T12:07:50.046Z"
   },
   {
    "duration": 28,
    "start_time": "2021-11-28T12:07:50.072Z"
   },
   {
    "duration": 35,
    "start_time": "2021-11-28T12:07:50.102Z"
   },
   {
    "duration": 26,
    "start_time": "2021-11-28T12:07:50.139Z"
   },
   {
    "duration": 50,
    "start_time": "2021-11-28T12:07:50.167Z"
   },
   {
    "duration": 19,
    "start_time": "2021-11-28T12:07:50.218Z"
   },
   {
    "duration": 26,
    "start_time": "2021-11-28T12:07:50.239Z"
   },
   {
    "duration": 179,
    "start_time": "2021-11-28T12:07:55.249Z"
   },
   {
    "duration": 1160,
    "start_time": "2021-11-28T12:09:14.305Z"
   },
   {
    "duration": 40,
    "start_time": "2021-11-28T12:09:15.468Z"
   },
   {
    "duration": 4,
    "start_time": "2021-11-28T12:09:15.510Z"
   },
   {
    "duration": 4,
    "start_time": "2021-11-28T12:09:15.516Z"
   },
   {
    "duration": 35,
    "start_time": "2021-11-28T12:09:15.522Z"
   },
   {
    "duration": 10,
    "start_time": "2021-11-28T12:09:15.558Z"
   },
   {
    "duration": 30,
    "start_time": "2021-11-28T12:09:15.570Z"
   },
   {
    "duration": 13,
    "start_time": "2021-11-28T12:09:15.602Z"
   },
   {
    "duration": 30,
    "start_time": "2021-11-28T12:09:15.617Z"
   },
   {
    "duration": 17,
    "start_time": "2021-11-28T12:09:15.649Z"
   },
   {
    "duration": 7,
    "start_time": "2021-11-28T12:09:15.667Z"
   },
   {
    "duration": 12,
    "start_time": "2021-11-28T12:09:15.676Z"
   },
   {
    "duration": 56,
    "start_time": "2021-11-28T12:09:15.690Z"
   },
   {
    "duration": 25,
    "start_time": "2021-11-28T12:09:15.748Z"
   },
   {
    "duration": 25,
    "start_time": "2021-11-28T12:09:15.775Z"
   },
   {
    "duration": 9,
    "start_time": "2021-11-28T12:09:15.802Z"
   },
   {
    "duration": 41,
    "start_time": "2021-11-28T12:09:15.813Z"
   },
   {
    "duration": 16,
    "start_time": "2021-11-28T12:09:15.856Z"
   },
   {
    "duration": 6,
    "start_time": "2021-11-28T12:09:15.874Z"
   },
   {
    "duration": 11,
    "start_time": "2021-11-28T12:09:15.882Z"
   },
   {
    "duration": 9,
    "start_time": "2021-11-28T12:09:15.894Z"
   },
   {
    "duration": 47,
    "start_time": "2021-11-28T12:09:15.904Z"
   },
   {
    "duration": 25,
    "start_time": "2021-11-28T12:09:15.956Z"
   },
   {
    "duration": 10,
    "start_time": "2021-11-28T12:09:15.983Z"
   },
   {
    "duration": 4,
    "start_time": "2021-11-28T12:09:15.995Z"
   },
   {
    "duration": 16,
    "start_time": "2021-11-28T12:09:16.001Z"
   },
   {
    "duration": 38,
    "start_time": "2021-11-28T12:09:16.019Z"
   },
   {
    "duration": 5,
    "start_time": "2021-11-28T12:09:16.058Z"
   },
   {
    "duration": 23,
    "start_time": "2021-11-28T12:09:16.065Z"
   },
   {
    "duration": 9,
    "start_time": "2021-11-28T12:09:16.090Z"
   },
   {
    "duration": 10,
    "start_time": "2021-11-28T12:09:16.101Z"
   },
   {
    "duration": 223,
    "start_time": "2021-11-28T12:09:16.113Z"
   },
   {
    "duration": 9,
    "start_time": "2021-11-28T12:09:16.338Z"
   },
   {
    "duration": 24,
    "start_time": "2021-11-28T12:09:16.349Z"
   },
   {
    "duration": 14,
    "start_time": "2021-11-28T12:09:16.375Z"
   },
   {
    "duration": 199,
    "start_time": "2021-11-28T12:09:16.391Z"
   },
   {
    "duration": 8,
    "start_time": "2021-11-28T12:09:16.592Z"
   },
   {
    "duration": 18,
    "start_time": "2021-11-28T12:09:16.602Z"
   },
   {
    "duration": 37,
    "start_time": "2021-11-28T12:09:16.622Z"
   },
   {
    "duration": 401,
    "start_time": "2021-11-28T12:09:16.661Z"
   },
   {
    "duration": 6,
    "start_time": "2021-11-28T12:09:17.064Z"
   },
   {
    "duration": 21,
    "start_time": "2021-11-28T12:09:17.072Z"
   },
   {
    "duration": 423,
    "start_time": "2021-11-28T12:09:17.095Z"
   },
   {
    "duration": 6,
    "start_time": "2021-11-28T12:09:17.520Z"
   },
   {
    "duration": 30,
    "start_time": "2021-11-28T12:09:17.528Z"
   },
   {
    "duration": 5,
    "start_time": "2021-11-28T12:09:17.560Z"
   },
   {
    "duration": 9,
    "start_time": "2021-11-28T12:09:17.567Z"
   },
   {
    "duration": 7,
    "start_time": "2021-11-28T12:09:17.578Z"
   },
   {
    "duration": 4,
    "start_time": "2021-11-28T12:09:17.586Z"
   },
   {
    "duration": 15,
    "start_time": "2021-11-28T12:09:17.591Z"
   },
   {
    "duration": 225,
    "start_time": "2021-11-28T12:09:17.607Z"
   },
   {
    "duration": 14,
    "start_time": "2021-11-28T12:09:17.834Z"
   },
   {
    "duration": 33,
    "start_time": "2021-11-28T12:09:17.850Z"
   },
   {
    "duration": 7,
    "start_time": "2021-11-28T12:09:17.885Z"
   },
   {
    "duration": 29,
    "start_time": "2021-11-28T12:09:17.893Z"
   },
   {
    "duration": 21,
    "start_time": "2021-11-28T12:09:17.924Z"
   },
   {
    "duration": 6,
    "start_time": "2021-11-28T12:09:17.946Z"
   },
   {
    "duration": 8,
    "start_time": "2021-11-28T12:09:17.954Z"
   },
   {
    "duration": 16,
    "start_time": "2021-11-28T12:09:17.964Z"
   },
   {
    "duration": 9,
    "start_time": "2021-11-28T12:09:17.981Z"
   },
   {
    "duration": 19,
    "start_time": "2021-11-28T12:09:17.992Z"
   }
  ],
  "colab": {
   "name": "DA+. Сборный проект 1. Шаблон (1).ipynb",
   "provenance": []
  },
  "kernelspec": {
   "display_name": "Python 3",
   "language": "python",
   "name": "python3"
  },
  "language_info": {
   "codemirror_mode": {
    "name": "ipython",
    "version": 3
   },
   "file_extension": ".py",
   "mimetype": "text/x-python",
   "name": "python",
   "nbconvert_exporter": "python",
   "pygments_lexer": "ipython3",
   "version": "3.8.5"
  },
  "toc": {
   "base_numbering": 1,
   "nav_menu": {
    "height": "336px",
    "width": "375px"
   },
   "number_sections": true,
   "sideBar": true,
   "skip_h1_title": true,
   "title_cell": "Table of Contents",
   "title_sidebar": "Contents",
   "toc_cell": false,
   "toc_position": {
    "height": "calc(100% - 180px)",
    "left": "10px",
    "top": "150px",
    "width": "165px"
   },
   "toc_section_display": true,
   "toc_window_display": true
  }
 },
 "nbformat": 4,
 "nbformat_minor": 1
}
